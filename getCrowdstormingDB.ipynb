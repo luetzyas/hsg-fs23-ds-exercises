{
 "cells": [
  {
   "cell_type": "code",
   "execution_count": 1,
   "outputs": [],
   "source": [
    "import numpy as np\n",
    "import pandas as pd\n",
    "import matplotlib.pyplot as plt\n",
    "\n",
    "import requests  # used later to download additional data\n",
    "import sqlite3"
   ],
   "metadata": {
    "collapsed": false,
    "ExecuteTime": {
     "end_time": "2023-10-26T09:28:27.381088300Z",
     "start_time": "2023-10-26T09:28:26.539850400Z"
    }
   },
   "id": "aa7e98523051bac2"
  },
  {
   "cell_type": "code",
   "execution_count": 3,
   "outputs": [
    {
     "data": {
      "text/plain": "         index         playerShort              player               club  \\\n0            0       lucas-wilchez       Lucas Wilchez      Real Zaragoza   \n1            1          john-utaka          John Utaka    Montpellier HSC   \n2            5        aaron-hughes        Aaron Hughes          Fulham FC   \n3            6  aleksandar-kolarov  Aleksandar Kolarov    Manchester City   \n4            7    alexander-tettey    Alexander Tettey       Norwich City   \n...        ...                 ...                 ...                ...   \n115452  146022     tom-huddlestone     Tom Huddlestone  Tottenham Hotspur   \n115453  146023       tomas-rosicky       Tomáš Rosický         Arsenal FC   \n115454  146024        winston-reid        Winston Reid    West Ham United   \n115455  146025     xherdan-shaqiri     Xherdan Shaqiri     Bayern München   \n115456  146027        zdenk-pospch      Zdeněk Pospěch    1. FSV Mainz 05   \n\n       leagueCountry    birthday  height  weight              position  games  \\\n0              Spain  31.08.1983   177.0    72.0  Attacking Midfielder      1   \n1             France  08.01.1982   179.0    82.0          Right Winger      1   \n2            England  08.11.1979   182.0    71.0           Center Back      1   \n3            England  10.11.1985   187.0    80.0         Left Fullback      1   \n4            England  04.04.1986   180.0    68.0  Defensive Midfielder      1   \n...              ...         ...     ...     ...                   ...    ...   \n115452       England  28.12.1986   188.0    80.0  Defensive Midfielder      1   \n115453       England  04.10.1980   178.0    67.0  Attacking Midfielder      1   \n115454       England  03.07.1988   190.0    87.0           Center Back      1   \n115455       Germany  10.10.1991   169.0    72.0       Left Midfielder      1   \n115456       Germany  14.12.1978   174.0    72.0        Right Fullback      1   \n\n        ...  rater2  refNum  refCountry  Alpha_3   meanIAT   nIAT     seIAT  \\\n0       ...    0.50       1           1      GRC  0.326391  712.0  0.000564   \n1       ...    0.75       2           2      ZMB  0.203375   40.0  0.010875   \n2       ...    0.00       4           4      LUX  0.325185  127.0  0.003297   \n3       ...    0.25       4           4      LUX  0.325185  127.0  0.003297   \n4       ...    1.00       4           4      LUX  0.325185  127.0  0.003297   \n...     ...     ...     ...         ...      ...       ...    ...       ...   \n115452  ...    0.50    3147          21      HUN  0.376127  574.0  0.000714   \n115453  ...    0.00    3147          21      HUN  0.376127  574.0  0.000714   \n115454  ...    0.50    3147          21      HUN  0.376127  574.0  0.000714   \n115455  ...    0.25    3147          21      HUN  0.376127  574.0  0.000714   \n115456  ...    0.25    3147          21      HUN  0.376127  574.0  0.000714   \n\n         meanExp   nExp     seExp  \n0       0.396000  750.0  0.002696  \n1      -0.204082   49.0  0.061504  \n2       0.538462  130.0  0.013752  \n3       0.538462  130.0  0.013752  \n4       0.538462  130.0  0.013752  \n...          ...    ...       ...  \n115452  0.498350  606.0  0.002968  \n115453  0.498350  606.0  0.002968  \n115454  0.498350  606.0  0.002968  \n115455  0.498350  606.0  0.002968  \n115456  0.498350  606.0  0.002968  \n\n[115457 rows x 29 columns]",
      "text/html": "<div>\n<style scoped>\n    .dataframe tbody tr th:only-of-type {\n        vertical-align: middle;\n    }\n\n    .dataframe tbody tr th {\n        vertical-align: top;\n    }\n\n    .dataframe thead th {\n        text-align: right;\n    }\n</style>\n<table border=\"1\" class=\"dataframe\">\n  <thead>\n    <tr style=\"text-align: right;\">\n      <th></th>\n      <th>index</th>\n      <th>playerShort</th>\n      <th>player</th>\n      <th>club</th>\n      <th>leagueCountry</th>\n      <th>birthday</th>\n      <th>height</th>\n      <th>weight</th>\n      <th>position</th>\n      <th>games</th>\n      <th>...</th>\n      <th>rater2</th>\n      <th>refNum</th>\n      <th>refCountry</th>\n      <th>Alpha_3</th>\n      <th>meanIAT</th>\n      <th>nIAT</th>\n      <th>seIAT</th>\n      <th>meanExp</th>\n      <th>nExp</th>\n      <th>seExp</th>\n    </tr>\n  </thead>\n  <tbody>\n    <tr>\n      <th>0</th>\n      <td>0</td>\n      <td>lucas-wilchez</td>\n      <td>Lucas Wilchez</td>\n      <td>Real Zaragoza</td>\n      <td>Spain</td>\n      <td>31.08.1983</td>\n      <td>177.0</td>\n      <td>72.0</td>\n      <td>Attacking Midfielder</td>\n      <td>1</td>\n      <td>...</td>\n      <td>0.50</td>\n      <td>1</td>\n      <td>1</td>\n      <td>GRC</td>\n      <td>0.326391</td>\n      <td>712.0</td>\n      <td>0.000564</td>\n      <td>0.396000</td>\n      <td>750.0</td>\n      <td>0.002696</td>\n    </tr>\n    <tr>\n      <th>1</th>\n      <td>1</td>\n      <td>john-utaka</td>\n      <td>John Utaka</td>\n      <td>Montpellier HSC</td>\n      <td>France</td>\n      <td>08.01.1982</td>\n      <td>179.0</td>\n      <td>82.0</td>\n      <td>Right Winger</td>\n      <td>1</td>\n      <td>...</td>\n      <td>0.75</td>\n      <td>2</td>\n      <td>2</td>\n      <td>ZMB</td>\n      <td>0.203375</td>\n      <td>40.0</td>\n      <td>0.010875</td>\n      <td>-0.204082</td>\n      <td>49.0</td>\n      <td>0.061504</td>\n    </tr>\n    <tr>\n      <th>2</th>\n      <td>5</td>\n      <td>aaron-hughes</td>\n      <td>Aaron Hughes</td>\n      <td>Fulham FC</td>\n      <td>England</td>\n      <td>08.11.1979</td>\n      <td>182.0</td>\n      <td>71.0</td>\n      <td>Center Back</td>\n      <td>1</td>\n      <td>...</td>\n      <td>0.00</td>\n      <td>4</td>\n      <td>4</td>\n      <td>LUX</td>\n      <td>0.325185</td>\n      <td>127.0</td>\n      <td>0.003297</td>\n      <td>0.538462</td>\n      <td>130.0</td>\n      <td>0.013752</td>\n    </tr>\n    <tr>\n      <th>3</th>\n      <td>6</td>\n      <td>aleksandar-kolarov</td>\n      <td>Aleksandar Kolarov</td>\n      <td>Manchester City</td>\n      <td>England</td>\n      <td>10.11.1985</td>\n      <td>187.0</td>\n      <td>80.0</td>\n      <td>Left Fullback</td>\n      <td>1</td>\n      <td>...</td>\n      <td>0.25</td>\n      <td>4</td>\n      <td>4</td>\n      <td>LUX</td>\n      <td>0.325185</td>\n      <td>127.0</td>\n      <td>0.003297</td>\n      <td>0.538462</td>\n      <td>130.0</td>\n      <td>0.013752</td>\n    </tr>\n    <tr>\n      <th>4</th>\n      <td>7</td>\n      <td>alexander-tettey</td>\n      <td>Alexander Tettey</td>\n      <td>Norwich City</td>\n      <td>England</td>\n      <td>04.04.1986</td>\n      <td>180.0</td>\n      <td>68.0</td>\n      <td>Defensive Midfielder</td>\n      <td>1</td>\n      <td>...</td>\n      <td>1.00</td>\n      <td>4</td>\n      <td>4</td>\n      <td>LUX</td>\n      <td>0.325185</td>\n      <td>127.0</td>\n      <td>0.003297</td>\n      <td>0.538462</td>\n      <td>130.0</td>\n      <td>0.013752</td>\n    </tr>\n    <tr>\n      <th>...</th>\n      <td>...</td>\n      <td>...</td>\n      <td>...</td>\n      <td>...</td>\n      <td>...</td>\n      <td>...</td>\n      <td>...</td>\n      <td>...</td>\n      <td>...</td>\n      <td>...</td>\n      <td>...</td>\n      <td>...</td>\n      <td>...</td>\n      <td>...</td>\n      <td>...</td>\n      <td>...</td>\n      <td>...</td>\n      <td>...</td>\n      <td>...</td>\n      <td>...</td>\n      <td>...</td>\n    </tr>\n    <tr>\n      <th>115452</th>\n      <td>146022</td>\n      <td>tom-huddlestone</td>\n      <td>Tom Huddlestone</td>\n      <td>Tottenham Hotspur</td>\n      <td>England</td>\n      <td>28.12.1986</td>\n      <td>188.0</td>\n      <td>80.0</td>\n      <td>Defensive Midfielder</td>\n      <td>1</td>\n      <td>...</td>\n      <td>0.50</td>\n      <td>3147</td>\n      <td>21</td>\n      <td>HUN</td>\n      <td>0.376127</td>\n      <td>574.0</td>\n      <td>0.000714</td>\n      <td>0.498350</td>\n      <td>606.0</td>\n      <td>0.002968</td>\n    </tr>\n    <tr>\n      <th>115453</th>\n      <td>146023</td>\n      <td>tomas-rosicky</td>\n      <td>Tomáš Rosický</td>\n      <td>Arsenal FC</td>\n      <td>England</td>\n      <td>04.10.1980</td>\n      <td>178.0</td>\n      <td>67.0</td>\n      <td>Attacking Midfielder</td>\n      <td>1</td>\n      <td>...</td>\n      <td>0.00</td>\n      <td>3147</td>\n      <td>21</td>\n      <td>HUN</td>\n      <td>0.376127</td>\n      <td>574.0</td>\n      <td>0.000714</td>\n      <td>0.498350</td>\n      <td>606.0</td>\n      <td>0.002968</td>\n    </tr>\n    <tr>\n      <th>115454</th>\n      <td>146024</td>\n      <td>winston-reid</td>\n      <td>Winston Reid</td>\n      <td>West Ham United</td>\n      <td>England</td>\n      <td>03.07.1988</td>\n      <td>190.0</td>\n      <td>87.0</td>\n      <td>Center Back</td>\n      <td>1</td>\n      <td>...</td>\n      <td>0.50</td>\n      <td>3147</td>\n      <td>21</td>\n      <td>HUN</td>\n      <td>0.376127</td>\n      <td>574.0</td>\n      <td>0.000714</td>\n      <td>0.498350</td>\n      <td>606.0</td>\n      <td>0.002968</td>\n    </tr>\n    <tr>\n      <th>115455</th>\n      <td>146025</td>\n      <td>xherdan-shaqiri</td>\n      <td>Xherdan Shaqiri</td>\n      <td>Bayern München</td>\n      <td>Germany</td>\n      <td>10.10.1991</td>\n      <td>169.0</td>\n      <td>72.0</td>\n      <td>Left Midfielder</td>\n      <td>1</td>\n      <td>...</td>\n      <td>0.25</td>\n      <td>3147</td>\n      <td>21</td>\n      <td>HUN</td>\n      <td>0.376127</td>\n      <td>574.0</td>\n      <td>0.000714</td>\n      <td>0.498350</td>\n      <td>606.0</td>\n      <td>0.002968</td>\n    </tr>\n    <tr>\n      <th>115456</th>\n      <td>146027</td>\n      <td>zdenk-pospch</td>\n      <td>Zdeněk Pospěch</td>\n      <td>1. FSV Mainz 05</td>\n      <td>Germany</td>\n      <td>14.12.1978</td>\n      <td>174.0</td>\n      <td>72.0</td>\n      <td>Right Fullback</td>\n      <td>1</td>\n      <td>...</td>\n      <td>0.25</td>\n      <td>3147</td>\n      <td>21</td>\n      <td>HUN</td>\n      <td>0.376127</td>\n      <td>574.0</td>\n      <td>0.000714</td>\n      <td>0.498350</td>\n      <td>606.0</td>\n      <td>0.002968</td>\n    </tr>\n  </tbody>\n</table>\n<p>115457 rows × 29 columns</p>\n</div>"
     },
     "execution_count": 3,
     "metadata": {},
     "output_type": "execute_result"
    }
   ],
   "source": [
    "# you need to write the query to make it work\n",
    "with sqlite3.connect(\"./crowdstorming.db\") as c:\n",
    "    result = pd.read_sql(\n",
    "        \"\"\"\n",
    "           SELECT *\n",
    "             FROM crowdstorming \n",
    "        \"\"\",\n",
    "        c\n",
    "    )\n",
    "result"
   ],
   "metadata": {
    "collapsed": false,
    "ExecuteTime": {
     "end_time": "2023-10-26T09:28:40.007501900Z",
     "start_time": "2023-10-26T09:28:38.987868700Z"
    }
   },
   "id": "initial_id"
  },
  {
   "cell_type": "code",
   "execution_count": null,
   "outputs": [],
   "source": [],
   "metadata": {
    "collapsed": false
   },
   "id": "a64dae3b44d789d"
  }
 ],
 "metadata": {
  "kernelspec": {
   "display_name": "Python 3",
   "language": "python",
   "name": "python3"
  },
  "language_info": {
   "codemirror_mode": {
    "name": "ipython",
    "version": 2
   },
   "file_extension": ".py",
   "mimetype": "text/x-python",
   "name": "python",
   "nbconvert_exporter": "python",
   "pygments_lexer": "ipython2",
   "version": "2.7.6"
  }
 },
 "nbformat": 4,
 "nbformat_minor": 5
}
