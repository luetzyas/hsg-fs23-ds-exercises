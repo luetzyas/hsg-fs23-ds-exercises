{
 "cells": [
  {
   "cell_type": "code",
   "execution_count": 2,
   "id": "initial_id",
   "metadata": {
    "collapsed": true,
    "id": "initial_id",
    "ExecuteTime": {
     "end_time": "2023-10-05T07:52:31.741641632Z",
     "start_time": "2023-10-05T07:52:31.475344767Z"
    }
   },
   "outputs": [],
   "source": [
    "import pandas as pd\n",
    "import numpy as np"
   ]
  },
  {
   "cell_type": "markdown",
   "source": [
    "# 0. `pandas` and preliminary knowledge\n",
    "\n",
    "In this exercise we will be using the [`pandas`](https://pandas.pydata.org/docs/) library.\n",
    "\n",
    "You can use a [cheat sheet of the basic functions](https://pandas.pydata.org/Pandas_Cheat_Sheet.pdf) if you are not familiar with `pandas`.\n",
    "\n",
    "`pandas` is a popular data manipulation library for Python. It provides data structures like Series and DataFrame alongside the essential functionality required for cleaning, aggregating, transforming, visualizing, and more tasks on data. `pandas` is built on top of the [`numpy`](https://numpy.org/) library, offering a higher-level, more intuitive interface for data analysis and manipulation. It's especially suitable for working with structured data, including datasets from Excel or CSV files, SQL tables, and more. With `pandas`, users can perform tasks like handling missing data, merging and joining datasets, filtering and reshaping data, and many other complex data operations. The extensive functionality of `pandas` makes it an essential tool for data scientists, analysts, and researchers working in Python.\n"
   ],
   "metadata": {
    "collapsed": false
   },
   "id": "59fe150899c0b623"
  },
  {
   "cell_type": "markdown",
   "source": [
    "# 1. Load the data\n",
    "Find a way to load the data into a pandas dataframe. You can find the data here: https://osf.io/fv8c3.\n",
    "\n",
    "You need to find a way to load this data. There is a function in `pandas` that can help you. If you can't find it on your own or you feel unsure, you can click [here](https://pandas.pydata.org/docs/reference/api/pandas.read_csv.html) to find the correct function you can use."
   ],
   "metadata": {
    "collapsed": false,
    "id": "10a6c00f800cbd46"
   },
   "id": "10a6c00f800cbd46"
  },
  {
   "cell_type": "code",
   "execution_count": 3,
   "outputs": [
    {
     "data": {
      "text/plain": "     playerShort         player             club leagueCountry    birthday  \\\n0  lucas-wilchez  Lucas Wilchez    Real Zaragoza         Spain  31.08.1983   \n1     john-utaka     John Utaka  Montpellier HSC        France  08.01.1982   \n2    abdon-prats    Abdón Prats     RCD Mallorca         Spain  17.12.1992   \n3     pablo-mari     Pablo Marí     RCD Mallorca         Spain  31.08.1993   \n4     ruben-pena     Rubén Peña  Real Valladolid         Spain  18.07.1991   \n\n   height  weight              position  games  victories  ...  rater2  \\\n0   177.0    72.0  Attacking Midfielder      1          0  ...    0.50   \n1   179.0    82.0          Right Winger      1          0  ...    0.75   \n2   181.0    79.0                   NaN      1          0  ...     NaN   \n3   191.0    87.0           Center Back      1          1  ...     NaN   \n4   172.0    70.0      Right Midfielder      1          1  ...     NaN   \n\n   refNum  refCountry  Alpha_3   meanIAT    nIAT     seIAT   meanExp    nExp  \\\n0       1           1      GRC  0.326391   712.0  0.000564  0.396000   750.0   \n1       2           2      ZMB  0.203375    40.0  0.010875 -0.204082    49.0   \n2       3           3      ESP  0.369894  1785.0  0.000229  0.588297  1897.0   \n3       3           3      ESP  0.369894  1785.0  0.000229  0.588297  1897.0   \n4       3           3      ESP  0.369894  1785.0  0.000229  0.588297  1897.0   \n\n      seExp  \n0  0.002696  \n1  0.061504  \n2  0.001002  \n3  0.001002  \n4  0.001002  \n\n[5 rows x 28 columns]",
      "text/html": "<div>\n<style scoped>\n    .dataframe tbody tr th:only-of-type {\n        vertical-align: middle;\n    }\n\n    .dataframe tbody tr th {\n        vertical-align: top;\n    }\n\n    .dataframe thead th {\n        text-align: right;\n    }\n</style>\n<table border=\"1\" class=\"dataframe\">\n  <thead>\n    <tr style=\"text-align: right;\">\n      <th></th>\n      <th>playerShort</th>\n      <th>player</th>\n      <th>club</th>\n      <th>leagueCountry</th>\n      <th>birthday</th>\n      <th>height</th>\n      <th>weight</th>\n      <th>position</th>\n      <th>games</th>\n      <th>victories</th>\n      <th>...</th>\n      <th>rater2</th>\n      <th>refNum</th>\n      <th>refCountry</th>\n      <th>Alpha_3</th>\n      <th>meanIAT</th>\n      <th>nIAT</th>\n      <th>seIAT</th>\n      <th>meanExp</th>\n      <th>nExp</th>\n      <th>seExp</th>\n    </tr>\n  </thead>\n  <tbody>\n    <tr>\n      <th>0</th>\n      <td>lucas-wilchez</td>\n      <td>Lucas Wilchez</td>\n      <td>Real Zaragoza</td>\n      <td>Spain</td>\n      <td>31.08.1983</td>\n      <td>177.0</td>\n      <td>72.0</td>\n      <td>Attacking Midfielder</td>\n      <td>1</td>\n      <td>0</td>\n      <td>...</td>\n      <td>0.50</td>\n      <td>1</td>\n      <td>1</td>\n      <td>GRC</td>\n      <td>0.326391</td>\n      <td>712.0</td>\n      <td>0.000564</td>\n      <td>0.396000</td>\n      <td>750.0</td>\n      <td>0.002696</td>\n    </tr>\n    <tr>\n      <th>1</th>\n      <td>john-utaka</td>\n      <td>John Utaka</td>\n      <td>Montpellier HSC</td>\n      <td>France</td>\n      <td>08.01.1982</td>\n      <td>179.0</td>\n      <td>82.0</td>\n      <td>Right Winger</td>\n      <td>1</td>\n      <td>0</td>\n      <td>...</td>\n      <td>0.75</td>\n      <td>2</td>\n      <td>2</td>\n      <td>ZMB</td>\n      <td>0.203375</td>\n      <td>40.0</td>\n      <td>0.010875</td>\n      <td>-0.204082</td>\n      <td>49.0</td>\n      <td>0.061504</td>\n    </tr>\n    <tr>\n      <th>2</th>\n      <td>abdon-prats</td>\n      <td>Abdón Prats</td>\n      <td>RCD Mallorca</td>\n      <td>Spain</td>\n      <td>17.12.1992</td>\n      <td>181.0</td>\n      <td>79.0</td>\n      <td>NaN</td>\n      <td>1</td>\n      <td>0</td>\n      <td>...</td>\n      <td>NaN</td>\n      <td>3</td>\n      <td>3</td>\n      <td>ESP</td>\n      <td>0.369894</td>\n      <td>1785.0</td>\n      <td>0.000229</td>\n      <td>0.588297</td>\n      <td>1897.0</td>\n      <td>0.001002</td>\n    </tr>\n    <tr>\n      <th>3</th>\n      <td>pablo-mari</td>\n      <td>Pablo Marí</td>\n      <td>RCD Mallorca</td>\n      <td>Spain</td>\n      <td>31.08.1993</td>\n      <td>191.0</td>\n      <td>87.0</td>\n      <td>Center Back</td>\n      <td>1</td>\n      <td>1</td>\n      <td>...</td>\n      <td>NaN</td>\n      <td>3</td>\n      <td>3</td>\n      <td>ESP</td>\n      <td>0.369894</td>\n      <td>1785.0</td>\n      <td>0.000229</td>\n      <td>0.588297</td>\n      <td>1897.0</td>\n      <td>0.001002</td>\n    </tr>\n    <tr>\n      <th>4</th>\n      <td>ruben-pena</td>\n      <td>Rubén Peña</td>\n      <td>Real Valladolid</td>\n      <td>Spain</td>\n      <td>18.07.1991</td>\n      <td>172.0</td>\n      <td>70.0</td>\n      <td>Right Midfielder</td>\n      <td>1</td>\n      <td>1</td>\n      <td>...</td>\n      <td>NaN</td>\n      <td>3</td>\n      <td>3</td>\n      <td>ESP</td>\n      <td>0.369894</td>\n      <td>1785.0</td>\n      <td>0.000229</td>\n      <td>0.588297</td>\n      <td>1897.0</td>\n      <td>0.001002</td>\n    </tr>\n  </tbody>\n</table>\n<p>5 rows × 28 columns</p>\n</div>"
     },
     "execution_count": 3,
     "metadata": {},
     "output_type": "execute_result"
    }
   ],
   "source": [
    "df = pd.read_csv('CrowdstormingDataJuly1st.csv')\n",
    "df.head()"
   ],
   "metadata": {
    "colab": {
     "base_uri": "https://localhost:8080/",
     "height": 270
    },
    "id": "dbbb55920a066c05",
    "outputId": "81ef6680-d444-43b3-9003-148b38df34f6",
    "ExecuteTime": {
     "end_time": "2023-10-05T07:52:32.067727697Z",
     "start_time": "2023-10-05T07:52:31.784972656Z"
    }
   },
   "id": "dbbb55920a066c05"
  },
  {
   "cell_type": "code",
   "execution_count": 4,
   "outputs": [
    {
     "data": {
      "text/plain": "                playerShort               player                  club  \\\n0             lucas-wilchez        Lucas Wilchez         Real Zaragoza   \n1                john-utaka           John Utaka       Montpellier HSC   \n2               abdon-prats          Abdón Prats          RCD Mallorca   \n3                pablo-mari           Pablo Marí          RCD Mallorca   \n4                ruben-pena           Rubén Peña       Real Valladolid   \n...                     ...                  ...                   ...   \n146023        tomas-rosicky        Tomáš Rosický            Arsenal FC   \n146024         winston-reid         Winston Reid       West Ham United   \n146025      xherdan-shaqiri      Xherdan Shaqiri        Bayern München   \n146026  yassine-el-ghanassi  Yassine El Ghanassi  West Bromwich Albion   \n146027         zdenk-pospch       Zdeněk Pospěch       1. FSV Mainz 05   \n\n       leagueCountry    birthday  height  weight              position  games  \\\n0              Spain  31.08.1983   177.0    72.0  Attacking Midfielder      1   \n1             France  08.01.1982   179.0    82.0          Right Winger      1   \n2              Spain  17.12.1992   181.0    79.0                   NaN      1   \n3              Spain  31.08.1993   191.0    87.0           Center Back      1   \n4              Spain  18.07.1991   172.0    70.0      Right Midfielder      1   \n...              ...         ...     ...     ...                   ...    ...   \n146023       England  04.10.1980   178.0    67.0  Attacking Midfielder      1   \n146024       England  03.07.1988   190.0    87.0           Center Back      1   \n146025       Germany  10.10.1991   169.0    72.0       Left Midfielder      1   \n146026       England  12.07.1990   173.0     NaN           Left Winger      1   \n146027       Germany  14.12.1978   174.0    72.0        Right Fullback      1   \n\n        victories  ...  rater2  refNum  refCountry  Alpha_3   meanIAT    nIAT  \\\n0               0  ...    0.50       1           1      GRC  0.326391   712.0   \n1               0  ...    0.75       2           2      ZMB  0.203375    40.0   \n2               0  ...     NaN       3           3      ESP  0.369894  1785.0   \n3               1  ...     NaN       3           3      ESP  0.369894  1785.0   \n4               1  ...     NaN       3           3      ESP  0.369894  1785.0   \n...           ...  ...     ...     ...         ...      ...       ...     ...   \n146023          1  ...    0.00    3147          21      HUN  0.376127   574.0   \n146024          0  ...    0.50    3147          21      HUN  0.376127   574.0   \n146025          1  ...    0.25    3147          21      HUN  0.376127   574.0   \n146026          0  ...    0.50    3147          21      HUN  0.376127   574.0   \n146027          0  ...    0.25    3147          21      HUN  0.376127   574.0   \n\n           seIAT   meanExp    nExp     seExp  \n0       0.000564  0.396000   750.0  0.002696  \n1       0.010875 -0.204082    49.0  0.061504  \n2       0.000229  0.588297  1897.0  0.001002  \n3       0.000229  0.588297  1897.0  0.001002  \n4       0.000229  0.588297  1897.0  0.001002  \n...          ...       ...     ...       ...  \n146023  0.000714  0.498350   606.0  0.002968  \n146024  0.000714  0.498350   606.0  0.002968  \n146025  0.000714  0.498350   606.0  0.002968  \n146026  0.000714  0.498350   606.0  0.002968  \n146027  0.000714  0.498350   606.0  0.002968  \n\n[146028 rows x 28 columns]",
      "text/html": "<div>\n<style scoped>\n    .dataframe tbody tr th:only-of-type {\n        vertical-align: middle;\n    }\n\n    .dataframe tbody tr th {\n        vertical-align: top;\n    }\n\n    .dataframe thead th {\n        text-align: right;\n    }\n</style>\n<table border=\"1\" class=\"dataframe\">\n  <thead>\n    <tr style=\"text-align: right;\">\n      <th></th>\n      <th>playerShort</th>\n      <th>player</th>\n      <th>club</th>\n      <th>leagueCountry</th>\n      <th>birthday</th>\n      <th>height</th>\n      <th>weight</th>\n      <th>position</th>\n      <th>games</th>\n      <th>victories</th>\n      <th>...</th>\n      <th>rater2</th>\n      <th>refNum</th>\n      <th>refCountry</th>\n      <th>Alpha_3</th>\n      <th>meanIAT</th>\n      <th>nIAT</th>\n      <th>seIAT</th>\n      <th>meanExp</th>\n      <th>nExp</th>\n      <th>seExp</th>\n    </tr>\n  </thead>\n  <tbody>\n    <tr>\n      <th>0</th>\n      <td>lucas-wilchez</td>\n      <td>Lucas Wilchez</td>\n      <td>Real Zaragoza</td>\n      <td>Spain</td>\n      <td>31.08.1983</td>\n      <td>177.0</td>\n      <td>72.0</td>\n      <td>Attacking Midfielder</td>\n      <td>1</td>\n      <td>0</td>\n      <td>...</td>\n      <td>0.50</td>\n      <td>1</td>\n      <td>1</td>\n      <td>GRC</td>\n      <td>0.326391</td>\n      <td>712.0</td>\n      <td>0.000564</td>\n      <td>0.396000</td>\n      <td>750.0</td>\n      <td>0.002696</td>\n    </tr>\n    <tr>\n      <th>1</th>\n      <td>john-utaka</td>\n      <td>John Utaka</td>\n      <td>Montpellier HSC</td>\n      <td>France</td>\n      <td>08.01.1982</td>\n      <td>179.0</td>\n      <td>82.0</td>\n      <td>Right Winger</td>\n      <td>1</td>\n      <td>0</td>\n      <td>...</td>\n      <td>0.75</td>\n      <td>2</td>\n      <td>2</td>\n      <td>ZMB</td>\n      <td>0.203375</td>\n      <td>40.0</td>\n      <td>0.010875</td>\n      <td>-0.204082</td>\n      <td>49.0</td>\n      <td>0.061504</td>\n    </tr>\n    <tr>\n      <th>2</th>\n      <td>abdon-prats</td>\n      <td>Abdón Prats</td>\n      <td>RCD Mallorca</td>\n      <td>Spain</td>\n      <td>17.12.1992</td>\n      <td>181.0</td>\n      <td>79.0</td>\n      <td>NaN</td>\n      <td>1</td>\n      <td>0</td>\n      <td>...</td>\n      <td>NaN</td>\n      <td>3</td>\n      <td>3</td>\n      <td>ESP</td>\n      <td>0.369894</td>\n      <td>1785.0</td>\n      <td>0.000229</td>\n      <td>0.588297</td>\n      <td>1897.0</td>\n      <td>0.001002</td>\n    </tr>\n    <tr>\n      <th>3</th>\n      <td>pablo-mari</td>\n      <td>Pablo Marí</td>\n      <td>RCD Mallorca</td>\n      <td>Spain</td>\n      <td>31.08.1993</td>\n      <td>191.0</td>\n      <td>87.0</td>\n      <td>Center Back</td>\n      <td>1</td>\n      <td>1</td>\n      <td>...</td>\n      <td>NaN</td>\n      <td>3</td>\n      <td>3</td>\n      <td>ESP</td>\n      <td>0.369894</td>\n      <td>1785.0</td>\n      <td>0.000229</td>\n      <td>0.588297</td>\n      <td>1897.0</td>\n      <td>0.001002</td>\n    </tr>\n    <tr>\n      <th>4</th>\n      <td>ruben-pena</td>\n      <td>Rubén Peña</td>\n      <td>Real Valladolid</td>\n      <td>Spain</td>\n      <td>18.07.1991</td>\n      <td>172.0</td>\n      <td>70.0</td>\n      <td>Right Midfielder</td>\n      <td>1</td>\n      <td>1</td>\n      <td>...</td>\n      <td>NaN</td>\n      <td>3</td>\n      <td>3</td>\n      <td>ESP</td>\n      <td>0.369894</td>\n      <td>1785.0</td>\n      <td>0.000229</td>\n      <td>0.588297</td>\n      <td>1897.0</td>\n      <td>0.001002</td>\n    </tr>\n    <tr>\n      <th>...</th>\n      <td>...</td>\n      <td>...</td>\n      <td>...</td>\n      <td>...</td>\n      <td>...</td>\n      <td>...</td>\n      <td>...</td>\n      <td>...</td>\n      <td>...</td>\n      <td>...</td>\n      <td>...</td>\n      <td>...</td>\n      <td>...</td>\n      <td>...</td>\n      <td>...</td>\n      <td>...</td>\n      <td>...</td>\n      <td>...</td>\n      <td>...</td>\n      <td>...</td>\n      <td>...</td>\n    </tr>\n    <tr>\n      <th>146023</th>\n      <td>tomas-rosicky</td>\n      <td>Tomáš Rosický</td>\n      <td>Arsenal FC</td>\n      <td>England</td>\n      <td>04.10.1980</td>\n      <td>178.0</td>\n      <td>67.0</td>\n      <td>Attacking Midfielder</td>\n      <td>1</td>\n      <td>1</td>\n      <td>...</td>\n      <td>0.00</td>\n      <td>3147</td>\n      <td>21</td>\n      <td>HUN</td>\n      <td>0.376127</td>\n      <td>574.0</td>\n      <td>0.000714</td>\n      <td>0.498350</td>\n      <td>606.0</td>\n      <td>0.002968</td>\n    </tr>\n    <tr>\n      <th>146024</th>\n      <td>winston-reid</td>\n      <td>Winston Reid</td>\n      <td>West Ham United</td>\n      <td>England</td>\n      <td>03.07.1988</td>\n      <td>190.0</td>\n      <td>87.0</td>\n      <td>Center Back</td>\n      <td>1</td>\n      <td>0</td>\n      <td>...</td>\n      <td>0.50</td>\n      <td>3147</td>\n      <td>21</td>\n      <td>HUN</td>\n      <td>0.376127</td>\n      <td>574.0</td>\n      <td>0.000714</td>\n      <td>0.498350</td>\n      <td>606.0</td>\n      <td>0.002968</td>\n    </tr>\n    <tr>\n      <th>146025</th>\n      <td>xherdan-shaqiri</td>\n      <td>Xherdan Shaqiri</td>\n      <td>Bayern München</td>\n      <td>Germany</td>\n      <td>10.10.1991</td>\n      <td>169.0</td>\n      <td>72.0</td>\n      <td>Left Midfielder</td>\n      <td>1</td>\n      <td>1</td>\n      <td>...</td>\n      <td>0.25</td>\n      <td>3147</td>\n      <td>21</td>\n      <td>HUN</td>\n      <td>0.376127</td>\n      <td>574.0</td>\n      <td>0.000714</td>\n      <td>0.498350</td>\n      <td>606.0</td>\n      <td>0.002968</td>\n    </tr>\n    <tr>\n      <th>146026</th>\n      <td>yassine-el-ghanassi</td>\n      <td>Yassine El Ghanassi</td>\n      <td>West Bromwich Albion</td>\n      <td>England</td>\n      <td>12.07.1990</td>\n      <td>173.0</td>\n      <td>NaN</td>\n      <td>Left Winger</td>\n      <td>1</td>\n      <td>0</td>\n      <td>...</td>\n      <td>0.50</td>\n      <td>3147</td>\n      <td>21</td>\n      <td>HUN</td>\n      <td>0.376127</td>\n      <td>574.0</td>\n      <td>0.000714</td>\n      <td>0.498350</td>\n      <td>606.0</td>\n      <td>0.002968</td>\n    </tr>\n    <tr>\n      <th>146027</th>\n      <td>zdenk-pospch</td>\n      <td>Zdeněk Pospěch</td>\n      <td>1. FSV Mainz 05</td>\n      <td>Germany</td>\n      <td>14.12.1978</td>\n      <td>174.0</td>\n      <td>72.0</td>\n      <td>Right Fullback</td>\n      <td>1</td>\n      <td>0</td>\n      <td>...</td>\n      <td>0.25</td>\n      <td>3147</td>\n      <td>21</td>\n      <td>HUN</td>\n      <td>0.376127</td>\n      <td>574.0</td>\n      <td>0.000714</td>\n      <td>0.498350</td>\n      <td>606.0</td>\n      <td>0.002968</td>\n    </tr>\n  </tbody>\n</table>\n<p>146028 rows × 28 columns</p>\n</div>"
     },
     "execution_count": 4,
     "metadata": {},
     "output_type": "execute_result"
    }
   ],
   "source": [
    "df"
   ],
   "metadata": {
    "collapsed": false,
    "ExecuteTime": {
     "end_time": "2023-10-05T07:52:32.158416798Z",
     "start_time": "2023-10-05T07:52:32.058051371Z"
    }
   },
   "id": "a69d7716a413d366"
  },
  {
   "cell_type": "markdown",
   "source": [
    "To look at the columns, we can use .columns."
   ],
   "metadata": {
    "collapsed": false
   },
   "id": "7bc08990ef4d242e"
  },
  {
   "cell_type": "code",
   "execution_count": 5,
   "outputs": [
    {
     "data": {
      "text/plain": "Index(['playerShort', 'player', 'club', 'leagueCountry', 'birthday', 'height',\n       'weight', 'position', 'games', 'victories', 'ties', 'defeats', 'goals',\n       'yellowCards', 'yellowReds', 'redCards', 'photoID', 'rater1', 'rater2',\n       'refNum', 'refCountry', 'Alpha_3', 'meanIAT', 'nIAT', 'seIAT',\n       'meanExp', 'nExp', 'seExp'],\n      dtype='object')"
     },
     "execution_count": 5,
     "metadata": {},
     "output_type": "execute_result"
    }
   ],
   "source": [
    "df.columns"
   ],
   "metadata": {
    "colab": {
     "base_uri": "https://localhost:8080/"
    },
    "id": "98d8789cc768d2b3",
    "outputId": "879407c1-66bf-4b50-c6ba-603fdb15ba2c",
    "ExecuteTime": {
     "end_time": "2023-10-05T07:52:32.158963510Z",
     "start_time": "2023-10-05T07:52:32.120804656Z"
    }
   },
   "id": "98d8789cc768d2b3"
  },
  {
   "cell_type": "markdown",
   "source": [
    "The way you read the shape is (rows, columns).\n",
    "You can also look at the number of rows using len(), or check in your notebook when printing out the DataFrame."
   ],
   "metadata": {
    "collapsed": false
   },
   "id": "4b91e86b76536d38"
  },
  {
   "cell_type": "code",
   "execution_count": 6,
   "outputs": [
    {
     "data": {
      "text/plain": "(146028, 28)"
     },
     "execution_count": 6,
     "metadata": {},
     "output_type": "execute_result"
    }
   ],
   "source": [
    "df.shape"
   ],
   "metadata": {
    "colab": {
     "base_uri": "https://localhost:8080/"
    },
    "id": "73223e44d4c1ff5c",
    "outputId": "371fadf5-2f37-4e76-a911-c7e3702f1f93",
    "ExecuteTime": {
     "end_time": "2023-10-05T07:52:32.204206409Z",
     "start_time": "2023-10-05T07:52:32.151593371Z"
    }
   },
   "id": "73223e44d4c1ff5c"
  },
  {
   "cell_type": "markdown",
   "source": [
    "# 2. Clean the data\n",
    "Here we use a very simple approach to clean the data. We remove all the rows that contain missing values. You can try a more sophisticated approach if you want.\n",
    "\n",
    "\n",
    "In `pandas`, `NaN` (Not a Number) values represent missing or undefined data. `NaN` values can occur when loading datasets, during data manipulation, or when performing calculations. They are often used as a placeholder for missing or unrepresentable data.\n",
    "\n",
    "Handling `NaN` values is essential as they can affect the results of data analysis and machine learning algorithms. Here are a few ways to handle `NaN` values in pandas:\n",
    "- You can use the [`dropna()`](https://pandas.pydata.org/docs/reference/api/pandas.DataFrame.dropna.html) method to remove any rows or columns that contain NaN values from a DataFrame.\n",
    "- You can use the [`fillna()`](https://pandas.pydata.org/docs/reference/api/pandas.DataFrame.fillna.html) method to replace `NaN` values with a specific value or a method (like forward fill or backward fill).\n",
    "\n",
    "For simplicity's sake we want to just remove all rows that have `NaN` values.\n",
    "\n",
    "Look up how we could do backfill and forward fill and what doing that would mean in our case. Can you construct a case (on another dataset, or an imagined dataset) where filling is useful?"
   ],
   "metadata": {
    "collapsed": false,
    "id": "9e4c72db24c6dd9d"
   },
   "id": "9e4c72db24c6dd9d"
  },
  {
   "cell_type": "code",
   "execution_count": 7,
   "outputs": [
    {
     "data": {
      "text/plain": "(115457, 28)"
     },
     "execution_count": 7,
     "metadata": {},
     "output_type": "execute_result"
    }
   ],
   "source": [
    "df = df.dropna()\n",
    "\n",
    "# confirm that the size went down\n",
    "df.shape"
   ],
   "metadata": {
    "colab": {
     "base_uri": "https://localhost:8080/"
    },
    "id": "e7333e2f25a544f0",
    "outputId": "35d5ae82-1aaa-4464-a308-50d76a52e861",
    "ExecuteTime": {
     "end_time": "2023-10-05T07:52:32.291817058Z",
     "start_time": "2023-10-05T07:52:32.169549964Z"
    }
   },
   "id": "e7333e2f25a544f0"
  },
  {
   "cell_type": "markdown",
   "source": [],
   "metadata": {
    "collapsed": false,
    "id": "bae1b95c91d76588"
   },
   "id": "bae1b95c91d76588"
  },
  {
   "cell_type": "code",
   "execution_count": 8,
   "outputs": [
    {
     "data": {
      "text/plain": "115457"
     },
     "execution_count": 8,
     "metadata": {},
     "output_type": "execute_result"
    }
   ],
   "source": [
    "len(df)"
   ],
   "metadata": {
    "colab": {
     "base_uri": "https://localhost:8080/"
    },
    "id": "94c9f6d9449008c1",
    "outputId": "8e99911f-3e04-4555-e54c-3bf2e94daf4e",
    "ExecuteTime": {
     "end_time": "2023-10-05T07:52:32.292253558Z",
     "start_time": "2023-10-05T07:52:32.213183173Z"
    }
   },
   "id": "94c9f6d9449008c1"
  },
  {
   "cell_type": "markdown",
   "source": [
    "## A Note about `NaN` and `NaT`\n",
    "\n",
    "Note that `NaN != NaN`!\n",
    "\n",
    "You can find a detailed explanation of why this is the case [here](https://stackoverflow.com/a/1573715/5320601).\n",
    "\n",
    "In short:\n",
    "\n",
    "- `a == b` should hold if `(a - b) == 0`\n",
    "- but then what is `(a - NaN)`?\n",
    "\n",
    "The way to check for `NaN` values is to use [`.isna()`](https://pandas.pydata.org/docs/reference/api/pandas.DataFrame.isna.html).\n",
    "\n",
    "There is also [`NaT`](https://pandas.pydata.org/docs/reference/api/pandas.NaT.html), which is used for missing time values (like a datetime column), and [`NA`](https://pandas.pydata.org/docs/user_guide/missing_data.html#missing-data-na) which is still experimental and whose behaviour could change without warning between versions of `pandas`."
   ],
   "metadata": {
    "collapsed": false
   },
   "id": "a5c9e590c50b7f8b"
  },
  {
   "cell_type": "code",
   "execution_count": 20,
   "outputs": [
    {
     "data": {
      "text/plain": "False"
     },
     "execution_count": 20,
     "metadata": {},
     "output_type": "execute_result"
    }
   ],
   "source": [
    "a = np.nan\n",
    "b = np.nan\n",
    "\n",
    "a == b"
   ],
   "metadata": {
    "collapsed": false,
    "ExecuteTime": {
     "end_time": "2023-10-05T07:57:17.813090688Z",
     "start_time": "2023-10-05T07:57:17.767158720Z"
    }
   },
   "id": "f64b8998e564b778"
  },
  {
   "cell_type": "code",
   "execution_count": 21,
   "outputs": [
    {
     "name": "stdout",
     "output_type": "stream",
     "text": [
      "NaN and None equality:         False\n",
      "None and None equality:        True\n",
      "NaN and NaN equality:          False\n"
     ]
    }
   ],
   "source": [
    "print(f'{\"NaN and None equality:\":<30} {np.nan == None}')\n",
    "print(f'{\"None and None equality:\":<30} {None == None}')\n",
    "print(f'{\"NaN and NaN equality:\":<30} {np.nan == np.nan}')"
   ],
   "metadata": {
    "collapsed": false,
    "ExecuteTime": {
     "end_time": "2023-10-05T07:57:21.996631715Z",
     "start_time": "2023-10-05T07:57:21.972675942Z"
    }
   },
   "id": "998e023467bc17fa"
  },
  {
   "cell_type": "markdown",
   "source": [
    "Keep in mind that this can behave unexpectedly if you are not aware of it.\n"
   ],
   "metadata": {
    "collapsed": false
   },
   "id": "63e08bfc5799af13"
  },
  {
   "cell_type": "markdown",
   "source": [
    "Here we create a DataFrame with integers, and add a row with a missing value. For the missing value we use `None`."
   ],
   "metadata": {
    "collapsed": false
   },
   "id": "fe66e5e2089e2025"
  },
  {
   "cell_type": "code",
   "execution_count": 22,
   "outputs": [
    {
     "data": {
      "text/plain": "   a  b  c\n0  0  1  2\n1  3  4  5",
      "text/html": "<div>\n<style scoped>\n    .dataframe tbody tr th:only-of-type {\n        vertical-align: middle;\n    }\n\n    .dataframe tbody tr th {\n        vertical-align: top;\n    }\n\n    .dataframe thead th {\n        text-align: right;\n    }\n</style>\n<table border=\"1\" class=\"dataframe\">\n  <thead>\n    <tr style=\"text-align: right;\">\n      <th></th>\n      <th>a</th>\n      <th>b</th>\n      <th>c</th>\n    </tr>\n  </thead>\n  <tbody>\n    <tr>\n      <th>0</th>\n      <td>0</td>\n      <td>1</td>\n      <td>2</td>\n    </tr>\n    <tr>\n      <th>1</th>\n      <td>3</td>\n      <td>4</td>\n      <td>5</td>\n    </tr>\n  </tbody>\n</table>\n</div>"
     },
     "execution_count": 22,
     "metadata": {},
     "output_type": "execute_result"
    }
   ],
   "source": [
    "_numbers = pd.DataFrame(\n",
    "    [[0, 1, 2], [3, 4, 5]],\n",
    "    columns=['a', 'b', 'c']\n",
    ")\n",
    "_numbers"
   ],
   "metadata": {
    "collapsed": false,
    "ExecuteTime": {
     "end_time": "2023-10-05T07:57:56.571088700Z",
     "start_time": "2023-10-05T07:57:56.536979252Z"
    }
   },
   "id": "2c951dc3fea1ff9b"
  },
  {
   "cell_type": "markdown",
   "source": [
    "We see that this `None` becomes `NaN` in the DataFrame. That is because the dtype of the column is `float64` and `None` is not a number (`NaN`)."
   ],
   "metadata": {
    "collapsed": false
   },
   "id": "9b7521ad11c54261"
  },
  {
   "cell_type": "code",
   "execution_count": 23,
   "outputs": [
    {
     "data": {
      "text/plain": "     a    b    c\n0  0.0  1.0  2.0\n1  3.0  4.0  5.0\n2  6.0  7.0  NaN",
      "text/html": "<div>\n<style scoped>\n    .dataframe tbody tr th:only-of-type {\n        vertical-align: middle;\n    }\n\n    .dataframe tbody tr th {\n        vertical-align: top;\n    }\n\n    .dataframe thead th {\n        text-align: right;\n    }\n</style>\n<table border=\"1\" class=\"dataframe\">\n  <thead>\n    <tr style=\"text-align: right;\">\n      <th></th>\n      <th>a</th>\n      <th>b</th>\n      <th>c</th>\n    </tr>\n  </thead>\n  <tbody>\n    <tr>\n      <th>0</th>\n      <td>0.0</td>\n      <td>1.0</td>\n      <td>2.0</td>\n    </tr>\n    <tr>\n      <th>1</th>\n      <td>3.0</td>\n      <td>4.0</td>\n      <td>5.0</td>\n    </tr>\n    <tr>\n      <th>2</th>\n      <td>6.0</td>\n      <td>7.0</td>\n      <td>NaN</td>\n    </tr>\n  </tbody>\n</table>\n</div>"
     },
     "execution_count": 23,
     "metadata": {},
     "output_type": "execute_result"
    }
   ],
   "source": [
    "_numbers.loc[2] = [6, 7, None]\n",
    "_numbers"
   ],
   "metadata": {
    "collapsed": false,
    "ExecuteTime": {
     "end_time": "2023-10-05T07:58:08.628401330Z",
     "start_time": "2023-10-05T07:58:08.613544105Z"
    }
   },
   "id": "fef6851a0038fa13"
  },
  {
   "cell_type": "code",
   "execution_count": 24,
   "outputs": [
    {
     "data": {
      "text/plain": "a    float64\nb    float64\nc    float64\ndtype: object"
     },
     "execution_count": 24,
     "metadata": {},
     "output_type": "execute_result"
    }
   ],
   "source": [
    "_numbers.dtypes"
   ],
   "metadata": {
    "collapsed": false,
    "ExecuteTime": {
     "end_time": "2023-10-05T07:58:39.462964894Z",
     "start_time": "2023-10-05T07:58:39.441675888Z"
    }
   },
   "id": "531fcc7174b48e39"
  },
  {
   "cell_type": "markdown",
   "source": [
    "When we do the same with strings though, this is different."
   ],
   "metadata": {
    "collapsed": false
   },
   "id": "c67ab60af97fe05f"
  },
  {
   "cell_type": "code",
   "execution_count": 25,
   "outputs": [
    {
     "data": {
      "text/plain": "    Fruit   Color\n0   Apple     red\n1  Banana  yellow",
      "text/html": "<div>\n<style scoped>\n    .dataframe tbody tr th:only-of-type {\n        vertical-align: middle;\n    }\n\n    .dataframe tbody tr th {\n        vertical-align: top;\n    }\n\n    .dataframe thead th {\n        text-align: right;\n    }\n</style>\n<table border=\"1\" class=\"dataframe\">\n  <thead>\n    <tr style=\"text-align: right;\">\n      <th></th>\n      <th>Fruit</th>\n      <th>Color</th>\n    </tr>\n  </thead>\n  <tbody>\n    <tr>\n      <th>0</th>\n      <td>Apple</td>\n      <td>red</td>\n    </tr>\n    <tr>\n      <th>1</th>\n      <td>Banana</td>\n      <td>yellow</td>\n    </tr>\n  </tbody>\n</table>\n</div>"
     },
     "execution_count": 25,
     "metadata": {},
     "output_type": "execute_result"
    }
   ],
   "source": [
    "_strings = pd.DataFrame(\n",
    "    [['Apple', 'red'], ['Banana', 'yellow']],\n",
    "    columns=['Fruit', 'Color']\n",
    ")\n",
    "_strings"
   ],
   "metadata": {
    "collapsed": false,
    "ExecuteTime": {
     "end_time": "2023-10-05T07:58:46.564306552Z",
     "start_time": "2023-10-05T07:58:46.534977297Z"
    }
   },
   "id": "1d6bba40c046ddcf"
  },
  {
   "cell_type": "code",
   "execution_count": 26,
   "outputs": [
    {
     "data": {
      "text/plain": "    Fruit   Color\n0   Apple     red\n1  Banana  yellow\n2  Cherry    None",
      "text/html": "<div>\n<style scoped>\n    .dataframe tbody tr th:only-of-type {\n        vertical-align: middle;\n    }\n\n    .dataframe tbody tr th {\n        vertical-align: top;\n    }\n\n    .dataframe thead th {\n        text-align: right;\n    }\n</style>\n<table border=\"1\" class=\"dataframe\">\n  <thead>\n    <tr style=\"text-align: right;\">\n      <th></th>\n      <th>Fruit</th>\n      <th>Color</th>\n    </tr>\n  </thead>\n  <tbody>\n    <tr>\n      <th>0</th>\n      <td>Apple</td>\n      <td>red</td>\n    </tr>\n    <tr>\n      <th>1</th>\n      <td>Banana</td>\n      <td>yellow</td>\n    </tr>\n    <tr>\n      <th>2</th>\n      <td>Cherry</td>\n      <td>None</td>\n    </tr>\n  </tbody>\n</table>\n</div>"
     },
     "execution_count": 26,
     "metadata": {},
     "output_type": "execute_result"
    }
   ],
   "source": [
    "_strings.loc[2] = ['Cherry', None]\n",
    "_strings"
   ],
   "metadata": {
    "collapsed": false,
    "ExecuteTime": {
     "end_time": "2023-10-05T07:58:51.723273423Z",
     "start_time": "2023-10-05T07:58:51.704115845Z"
    }
   },
   "id": "b614bfbf2eadf8eb"
  },
  {
   "cell_type": "code",
   "execution_count": 27,
   "outputs": [
    {
     "data": {
      "text/plain": "Fruit    object\nColor    object\ndtype: object"
     },
     "execution_count": 27,
     "metadata": {},
     "output_type": "execute_result"
    }
   ],
   "source": [
    "_strings.dtypes"
   ],
   "metadata": {
    "collapsed": false,
    "ExecuteTime": {
     "end_time": "2023-10-05T07:59:07.338306726Z",
     "start_time": "2023-10-05T07:59:07.326922677Z"
    }
   },
   "id": "ebc58a968a571fd3"
  },
  {
   "cell_type": "code",
   "execution_count": 28,
   "outputs": [
    {
     "data": {
      "text/plain": "    Fruit   Color\n0   Apple     red\n1  Banana  yellow\n2  Cherry    None",
      "text/html": "<div>\n<style scoped>\n    .dataframe tbody tr th:only-of-type {\n        vertical-align: middle;\n    }\n\n    .dataframe tbody tr th {\n        vertical-align: top;\n    }\n\n    .dataframe thead th {\n        text-align: right;\n    }\n</style>\n<table border=\"1\" class=\"dataframe\">\n  <thead>\n    <tr style=\"text-align: right;\">\n      <th></th>\n      <th>Fruit</th>\n      <th>Color</th>\n    </tr>\n  </thead>\n  <tbody>\n    <tr>\n      <th>0</th>\n      <td>Apple</td>\n      <td>red</td>\n    </tr>\n    <tr>\n      <th>1</th>\n      <td>Banana</td>\n      <td>yellow</td>\n    </tr>\n    <tr>\n      <th>2</th>\n      <td>Cherry</td>\n      <td>None</td>\n    </tr>\n  </tbody>\n</table>\n</div>"
     },
     "execution_count": 28,
     "metadata": {},
     "output_type": "execute_result"
    }
   ],
   "source": [
    "_strings"
   ],
   "metadata": {
    "collapsed": false,
    "ExecuteTime": {
     "end_time": "2023-10-05T07:59:14.270485154Z",
     "start_time": "2023-10-05T07:59:14.258590088Z"
    }
   },
   "id": "1228ccccaddc7b7a"
  },
  {
   "cell_type": "code",
   "execution_count": 29,
   "outputs": [
    {
     "data": {
      "text/plain": "    Fruit   Color\n0   Apple     red\n1  Banana  yellow",
      "text/html": "<div>\n<style scoped>\n    .dataframe tbody tr th:only-of-type {\n        vertical-align: middle;\n    }\n\n    .dataframe tbody tr th {\n        vertical-align: top;\n    }\n\n    .dataframe thead th {\n        text-align: right;\n    }\n</style>\n<table border=\"1\" class=\"dataframe\">\n  <thead>\n    <tr style=\"text-align: right;\">\n      <th></th>\n      <th>Fruit</th>\n      <th>Color</th>\n    </tr>\n  </thead>\n  <tbody>\n    <tr>\n      <th>0</th>\n      <td>Apple</td>\n      <td>red</td>\n    </tr>\n    <tr>\n      <th>1</th>\n      <td>Banana</td>\n      <td>yellow</td>\n    </tr>\n  </tbody>\n</table>\n</div>"
     },
     "execution_count": 29,
     "metadata": {},
     "output_type": "execute_result"
    }
   ],
   "source": [
    "_strings.dropna()"
   ],
   "metadata": {
    "collapsed": false,
    "ExecuteTime": {
     "end_time": "2023-10-05T07:59:17.910319213Z",
     "start_time": "2023-10-05T07:59:17.885956361Z"
    }
   },
   "id": "58da1f9a19def40e"
  },
  {
   "cell_type": "markdown",
   "source": [
    "# 3. Simple statistics\n",
    "Calculate the mean, median, min and maximum values for all columns.\n",
    "\n",
    "*Hint*: You can find this in the cheat sheet, in the section 'Summarize Data'.\n",
    "\n",
    "If you already know how to do this the simple/automatic way, try to calculate these values by hand.\n"
   ],
   "metadata": {
    "collapsed": false,
    "id": "cfed0e02b300dd04"
   },
   "id": "cfed0e02b300dd04"
  },
  {
   "cell_type": "code",
   "execution_count": 9,
   "outputs": [
    {
     "data": {
      "text/plain": "              height         weight          games      victories  \\\ncount  115457.000000  115457.000000  115457.000000  115457.000000   \nmean      182.176135      76.517413       3.033761       1.371506   \nstd         6.855077       7.187210       3.641059       1.918978   \nmin       161.000000      55.000000       1.000000       0.000000   \n25%       178.000000      72.000000       1.000000       0.000000   \n50%       183.000000      76.000000       1.000000       1.000000   \n75%       187.000000      81.000000       3.000000       2.000000   \nmax       203.000000     100.000000      47.000000      29.000000   \n\n                ties        defeats          goals    yellowCards  \\\ncount  115457.000000  115457.000000  115457.000000  115457.000000   \nmean        0.721134       0.941121       0.360351       0.404592   \nstd         1.155027       1.433641       0.960867       0.831051   \nmin         0.000000       0.000000       0.000000       0.000000   \n25%         0.000000       0.000000       0.000000       0.000000   \n50%         0.000000       1.000000       0.000000       0.000000   \n75%         1.000000       1.000000       0.000000       1.000000   \nmax        14.000000      18.000000      23.000000      14.000000   \n\n          yellowReds       redCards         rater1         rater2  \\\ncount  115457.000000  115457.000000  115457.000000  115457.000000   \nmean        0.012290       0.012801       0.261946       0.300796   \nstd         0.112127       0.114175       0.294666       0.291061   \nmin         0.000000       0.000000       0.000000       0.000000   \n25%         0.000000       0.000000       0.000000       0.000000   \n50%         0.000000       0.000000       0.250000       0.250000   \n75%         0.000000       0.000000       0.250000       0.500000   \nmax         3.000000       2.000000       1.000000       1.000000   \n\n              refNum     refCountry        meanIAT          nIAT  \\\ncount  115457.000000  115457.000000  115457.000000  1.154570e+05   \nmean     1532.497363      29.367124       0.348564  1.772543e+04   \nstd       916.310481      27.981717       0.032004  1.260788e+05   \nmin         1.000000       1.000000      -0.047254  2.000000e+00   \n25%       652.000000       7.000000       0.334684  1.785000e+03   \n50%      1579.000000      15.000000       0.336628  2.882000e+03   \n75%      2337.000000      45.000000       0.369894  7.749000e+03   \nmax      3147.000000     161.000000       0.573793  1.975803e+06   \n\n              seIAT        meanExp          nExp          seExp  \ncount  1.154570e+05  115457.000000  1.154570e+05  115457.000000  \nmean   6.292873e-04       0.466222  1.837261e+04       0.002993  \nstd    4.801956e-03       0.219350  1.295339e+05       0.019733  \nmin    2.235373e-07      -1.375000  2.000000e+00       0.000001  \n25%    5.454025e-05       0.335967  1.897000e+03       0.000225  \n50%    1.508847e-04       0.356446  3.011000e+03       0.000586  \n75%    2.294896e-04       0.588297  7.974000e+03       0.001002  \nmax    2.862871e-01       1.800000  2.029548e+06       1.060660  ",
      "text/html": "<div>\n<style scoped>\n    .dataframe tbody tr th:only-of-type {\n        vertical-align: middle;\n    }\n\n    .dataframe tbody tr th {\n        vertical-align: top;\n    }\n\n    .dataframe thead th {\n        text-align: right;\n    }\n</style>\n<table border=\"1\" class=\"dataframe\">\n  <thead>\n    <tr style=\"text-align: right;\">\n      <th></th>\n      <th>height</th>\n      <th>weight</th>\n      <th>games</th>\n      <th>victories</th>\n      <th>ties</th>\n      <th>defeats</th>\n      <th>goals</th>\n      <th>yellowCards</th>\n      <th>yellowReds</th>\n      <th>redCards</th>\n      <th>rater1</th>\n      <th>rater2</th>\n      <th>refNum</th>\n      <th>refCountry</th>\n      <th>meanIAT</th>\n      <th>nIAT</th>\n      <th>seIAT</th>\n      <th>meanExp</th>\n      <th>nExp</th>\n      <th>seExp</th>\n    </tr>\n  </thead>\n  <tbody>\n    <tr>\n      <th>count</th>\n      <td>115457.000000</td>\n      <td>115457.000000</td>\n      <td>115457.000000</td>\n      <td>115457.000000</td>\n      <td>115457.000000</td>\n      <td>115457.000000</td>\n      <td>115457.000000</td>\n      <td>115457.000000</td>\n      <td>115457.000000</td>\n      <td>115457.000000</td>\n      <td>115457.000000</td>\n      <td>115457.000000</td>\n      <td>115457.000000</td>\n      <td>115457.000000</td>\n      <td>115457.000000</td>\n      <td>1.154570e+05</td>\n      <td>1.154570e+05</td>\n      <td>115457.000000</td>\n      <td>1.154570e+05</td>\n      <td>115457.000000</td>\n    </tr>\n    <tr>\n      <th>mean</th>\n      <td>182.176135</td>\n      <td>76.517413</td>\n      <td>3.033761</td>\n      <td>1.371506</td>\n      <td>0.721134</td>\n      <td>0.941121</td>\n      <td>0.360351</td>\n      <td>0.404592</td>\n      <td>0.012290</td>\n      <td>0.012801</td>\n      <td>0.261946</td>\n      <td>0.300796</td>\n      <td>1532.497363</td>\n      <td>29.367124</td>\n      <td>0.348564</td>\n      <td>1.772543e+04</td>\n      <td>6.292873e-04</td>\n      <td>0.466222</td>\n      <td>1.837261e+04</td>\n      <td>0.002993</td>\n    </tr>\n    <tr>\n      <th>std</th>\n      <td>6.855077</td>\n      <td>7.187210</td>\n      <td>3.641059</td>\n      <td>1.918978</td>\n      <td>1.155027</td>\n      <td>1.433641</td>\n      <td>0.960867</td>\n      <td>0.831051</td>\n      <td>0.112127</td>\n      <td>0.114175</td>\n      <td>0.294666</td>\n      <td>0.291061</td>\n      <td>916.310481</td>\n      <td>27.981717</td>\n      <td>0.032004</td>\n      <td>1.260788e+05</td>\n      <td>4.801956e-03</td>\n      <td>0.219350</td>\n      <td>1.295339e+05</td>\n      <td>0.019733</td>\n    </tr>\n    <tr>\n      <th>min</th>\n      <td>161.000000</td>\n      <td>55.000000</td>\n      <td>1.000000</td>\n      <td>0.000000</td>\n      <td>0.000000</td>\n      <td>0.000000</td>\n      <td>0.000000</td>\n      <td>0.000000</td>\n      <td>0.000000</td>\n      <td>0.000000</td>\n      <td>0.000000</td>\n      <td>0.000000</td>\n      <td>1.000000</td>\n      <td>1.000000</td>\n      <td>-0.047254</td>\n      <td>2.000000e+00</td>\n      <td>2.235373e-07</td>\n      <td>-1.375000</td>\n      <td>2.000000e+00</td>\n      <td>0.000001</td>\n    </tr>\n    <tr>\n      <th>25%</th>\n      <td>178.000000</td>\n      <td>72.000000</td>\n      <td>1.000000</td>\n      <td>0.000000</td>\n      <td>0.000000</td>\n      <td>0.000000</td>\n      <td>0.000000</td>\n      <td>0.000000</td>\n      <td>0.000000</td>\n      <td>0.000000</td>\n      <td>0.000000</td>\n      <td>0.000000</td>\n      <td>652.000000</td>\n      <td>7.000000</td>\n      <td>0.334684</td>\n      <td>1.785000e+03</td>\n      <td>5.454025e-05</td>\n      <td>0.335967</td>\n      <td>1.897000e+03</td>\n      <td>0.000225</td>\n    </tr>\n    <tr>\n      <th>50%</th>\n      <td>183.000000</td>\n      <td>76.000000</td>\n      <td>1.000000</td>\n      <td>1.000000</td>\n      <td>0.000000</td>\n      <td>1.000000</td>\n      <td>0.000000</td>\n      <td>0.000000</td>\n      <td>0.000000</td>\n      <td>0.000000</td>\n      <td>0.250000</td>\n      <td>0.250000</td>\n      <td>1579.000000</td>\n      <td>15.000000</td>\n      <td>0.336628</td>\n      <td>2.882000e+03</td>\n      <td>1.508847e-04</td>\n      <td>0.356446</td>\n      <td>3.011000e+03</td>\n      <td>0.000586</td>\n    </tr>\n    <tr>\n      <th>75%</th>\n      <td>187.000000</td>\n      <td>81.000000</td>\n      <td>3.000000</td>\n      <td>2.000000</td>\n      <td>1.000000</td>\n      <td>1.000000</td>\n      <td>0.000000</td>\n      <td>1.000000</td>\n      <td>0.000000</td>\n      <td>0.000000</td>\n      <td>0.250000</td>\n      <td>0.500000</td>\n      <td>2337.000000</td>\n      <td>45.000000</td>\n      <td>0.369894</td>\n      <td>7.749000e+03</td>\n      <td>2.294896e-04</td>\n      <td>0.588297</td>\n      <td>7.974000e+03</td>\n      <td>0.001002</td>\n    </tr>\n    <tr>\n      <th>max</th>\n      <td>203.000000</td>\n      <td>100.000000</td>\n      <td>47.000000</td>\n      <td>29.000000</td>\n      <td>14.000000</td>\n      <td>18.000000</td>\n      <td>23.000000</td>\n      <td>14.000000</td>\n      <td>3.000000</td>\n      <td>2.000000</td>\n      <td>1.000000</td>\n      <td>1.000000</td>\n      <td>3147.000000</td>\n      <td>161.000000</td>\n      <td>0.573793</td>\n      <td>1.975803e+06</td>\n      <td>2.862871e-01</td>\n      <td>1.800000</td>\n      <td>2.029548e+06</td>\n      <td>1.060660</td>\n    </tr>\n  </tbody>\n</table>\n</div>"
     },
     "execution_count": 9,
     "metadata": {},
     "output_type": "execute_result"
    }
   ],
   "source": [
    "df.describe()"
   ],
   "metadata": {
    "colab": {
     "base_uri": "https://localhost:8080/",
     "height": 320
    },
    "id": "e2fad7e554bd57",
    "outputId": "a41498b7-eaff-410a-b949-fb393bebf38f",
    "ExecuteTime": {
     "end_time": "2023-10-05T07:52:32.318268371Z",
     "start_time": "2023-10-05T07:52:32.213394380Z"
    }
   },
   "id": "e2fad7e554bd57"
  },
  {
   "cell_type": "markdown",
   "source": [
    "When we try to calculate the median on all columns, we run into a problem:"
   ],
   "metadata": {
    "collapsed": false
   },
   "id": "f6467469d82483fc"
  },
  {
   "cell_type": "code",
   "execution_count": 30,
   "outputs": [
    {
     "ename": "TypeError",
     "evalue": "Cannot convert [['lucas-wilchez' 'john-utaka' 'aaron-hughes' ... 'winston-reid'\n  'xherdan-shaqiri' 'zdenk-pospch']\n ['Lucas Wilchez' 'John Utaka' 'Aaron Hughes' ... 'Winston Reid'\n  'Xherdan Shaqiri' 'Zdeněk Pospěch']\n ['Real Zaragoza' 'Montpellier HSC' 'Fulham FC' ... 'West Ham United'\n  'Bayern München' '1. FSV Mainz 05']\n ...\n ['Attacking Midfielder' 'Right Winger' 'Center Back' ... 'Center Back'\n  'Left Midfielder' 'Right Fullback']\n ['95212.jpg' '1663.jpg' '3868.jpg' ... '53953.jpg' '132744.jpg'\n  '21828.jpg']\n ['GRC' 'ZMB' 'LUX' ... 'HUN' 'HUN' 'HUN']] to numeric",
     "output_type": "error",
     "traceback": [
      "\u001B[0;31m---------------------------------------------------------------------------\u001B[0m",
      "\u001B[0;31mTypeError\u001B[0m                                 Traceback (most recent call last)",
      "Cell \u001B[0;32mIn[30], line 1\u001B[0m\n\u001B[0;32m----> 1\u001B[0m \u001B[43mdf\u001B[49m\u001B[38;5;241;43m.\u001B[39;49m\u001B[43mmedian\u001B[49m\u001B[43m(\u001B[49m\u001B[43m)\u001B[49m\n",
      "File \u001B[0;32m~/Downloads/Lehre/Data Science/HS2023/Übung/02 - 03 Oktober/Code/venv/lib/python3.11/site-packages/pandas/core/frame.py:11351\u001B[0m, in \u001B[0;36mDataFrame.median\u001B[0;34m(self, axis, skipna, numeric_only, **kwargs)\u001B[0m\n\u001B[1;32m  11343\u001B[0m \u001B[38;5;129m@doc\u001B[39m(make_doc(\u001B[38;5;124m\"\u001B[39m\u001B[38;5;124mmedian\u001B[39m\u001B[38;5;124m\"\u001B[39m, ndim\u001B[38;5;241m=\u001B[39m\u001B[38;5;241m2\u001B[39m))\n\u001B[1;32m  11344\u001B[0m \u001B[38;5;28;01mdef\u001B[39;00m \u001B[38;5;21mmedian\u001B[39m(\n\u001B[1;32m  11345\u001B[0m     \u001B[38;5;28mself\u001B[39m,\n\u001B[0;32m   (...)\u001B[0m\n\u001B[1;32m  11349\u001B[0m     \u001B[38;5;241m*\u001B[39m\u001B[38;5;241m*\u001B[39mkwargs,\n\u001B[1;32m  11350\u001B[0m ):\n\u001B[0;32m> 11351\u001B[0m     result \u001B[38;5;241m=\u001B[39m \u001B[38;5;28;43msuper\u001B[39;49m\u001B[43m(\u001B[49m\u001B[43m)\u001B[49m\u001B[38;5;241;43m.\u001B[39;49m\u001B[43mmedian\u001B[49m\u001B[43m(\u001B[49m\u001B[43maxis\u001B[49m\u001B[43m,\u001B[49m\u001B[43m \u001B[49m\u001B[43mskipna\u001B[49m\u001B[43m,\u001B[49m\u001B[43m \u001B[49m\u001B[43mnumeric_only\u001B[49m\u001B[43m,\u001B[49m\u001B[43m \u001B[49m\u001B[38;5;241;43m*\u001B[39;49m\u001B[38;5;241;43m*\u001B[39;49m\u001B[43mkwargs\u001B[49m\u001B[43m)\u001B[49m\n\u001B[1;32m  11352\u001B[0m     \u001B[38;5;28;01mif\u001B[39;00m \u001B[38;5;28misinstance\u001B[39m(result, Series):\n\u001B[1;32m  11353\u001B[0m         result \u001B[38;5;241m=\u001B[39m result\u001B[38;5;241m.\u001B[39m__finalize__(\u001B[38;5;28mself\u001B[39m, method\u001B[38;5;241m=\u001B[39m\u001B[38;5;124m\"\u001B[39m\u001B[38;5;124mmedian\u001B[39m\u001B[38;5;124m\"\u001B[39m)\n",
      "File \u001B[0;32m~/Downloads/Lehre/Data Science/HS2023/Übung/02 - 03 Oktober/Code/venv/lib/python3.11/site-packages/pandas/core/generic.py:11989\u001B[0m, in \u001B[0;36mNDFrame.median\u001B[0;34m(self, axis, skipna, numeric_only, **kwargs)\u001B[0m\n\u001B[1;32m  11982\u001B[0m \u001B[38;5;28;01mdef\u001B[39;00m \u001B[38;5;21mmedian\u001B[39m(\n\u001B[1;32m  11983\u001B[0m     \u001B[38;5;28mself\u001B[39m,\n\u001B[1;32m  11984\u001B[0m     axis: Axis \u001B[38;5;241m|\u001B[39m \u001B[38;5;28;01mNone\u001B[39;00m \u001B[38;5;241m=\u001B[39m \u001B[38;5;241m0\u001B[39m,\n\u001B[0;32m   (...)\u001B[0m\n\u001B[1;32m  11987\u001B[0m     \u001B[38;5;241m*\u001B[39m\u001B[38;5;241m*\u001B[39mkwargs,\n\u001B[1;32m  11988\u001B[0m ) \u001B[38;5;241m-\u001B[39m\u001B[38;5;241m>\u001B[39m Series \u001B[38;5;241m|\u001B[39m \u001B[38;5;28mfloat\u001B[39m:\n\u001B[0;32m> 11989\u001B[0m     \u001B[38;5;28;01mreturn\u001B[39;00m \u001B[38;5;28;43mself\u001B[39;49m\u001B[38;5;241;43m.\u001B[39;49m\u001B[43m_stat_function\u001B[49m\u001B[43m(\u001B[49m\n\u001B[1;32m  11990\u001B[0m \u001B[43m        \u001B[49m\u001B[38;5;124;43m\"\u001B[39;49m\u001B[38;5;124;43mmedian\u001B[39;49m\u001B[38;5;124;43m\"\u001B[39;49m\u001B[43m,\u001B[49m\u001B[43m \u001B[49m\u001B[43mnanops\u001B[49m\u001B[38;5;241;43m.\u001B[39;49m\u001B[43mnanmedian\u001B[49m\u001B[43m,\u001B[49m\u001B[43m \u001B[49m\u001B[43maxis\u001B[49m\u001B[43m,\u001B[49m\u001B[43m \u001B[49m\u001B[43mskipna\u001B[49m\u001B[43m,\u001B[49m\u001B[43m \u001B[49m\u001B[43mnumeric_only\u001B[49m\u001B[43m,\u001B[49m\u001B[43m \u001B[49m\u001B[38;5;241;43m*\u001B[39;49m\u001B[38;5;241;43m*\u001B[39;49m\u001B[43mkwargs\u001B[49m\n\u001B[1;32m  11991\u001B[0m \u001B[43m    \u001B[49m\u001B[43m)\u001B[49m\n",
      "File \u001B[0;32m~/Downloads/Lehre/Data Science/HS2023/Übung/02 - 03 Oktober/Code/venv/lib/python3.11/site-packages/pandas/core/generic.py:11935\u001B[0m, in \u001B[0;36mNDFrame._stat_function\u001B[0;34m(self, name, func, axis, skipna, numeric_only, **kwargs)\u001B[0m\n\u001B[1;32m  11931\u001B[0m nv\u001B[38;5;241m.\u001B[39mvalidate_func(name, (), kwargs)\n\u001B[1;32m  11933\u001B[0m validate_bool_kwarg(skipna, \u001B[38;5;124m\"\u001B[39m\u001B[38;5;124mskipna\u001B[39m\u001B[38;5;124m\"\u001B[39m, none_allowed\u001B[38;5;241m=\u001B[39m\u001B[38;5;28;01mFalse\u001B[39;00m)\n\u001B[0;32m> 11935\u001B[0m \u001B[38;5;28;01mreturn\u001B[39;00m \u001B[38;5;28;43mself\u001B[39;49m\u001B[38;5;241;43m.\u001B[39;49m\u001B[43m_reduce\u001B[49m\u001B[43m(\u001B[49m\n\u001B[1;32m  11936\u001B[0m \u001B[43m    \u001B[49m\u001B[43mfunc\u001B[49m\u001B[43m,\u001B[49m\u001B[43m \u001B[49m\u001B[43mname\u001B[49m\u001B[38;5;241;43m=\u001B[39;49m\u001B[43mname\u001B[49m\u001B[43m,\u001B[49m\u001B[43m \u001B[49m\u001B[43maxis\u001B[49m\u001B[38;5;241;43m=\u001B[39;49m\u001B[43maxis\u001B[49m\u001B[43m,\u001B[49m\u001B[43m \u001B[49m\u001B[43mskipna\u001B[49m\u001B[38;5;241;43m=\u001B[39;49m\u001B[43mskipna\u001B[49m\u001B[43m,\u001B[49m\u001B[43m \u001B[49m\u001B[43mnumeric_only\u001B[49m\u001B[38;5;241;43m=\u001B[39;49m\u001B[43mnumeric_only\u001B[49m\n\u001B[1;32m  11937\u001B[0m \u001B[43m\u001B[49m\u001B[43m)\u001B[49m\n",
      "File \u001B[0;32m~/Downloads/Lehre/Data Science/HS2023/Übung/02 - 03 Oktober/Code/venv/lib/python3.11/site-packages/pandas/core/frame.py:11207\u001B[0m, in \u001B[0;36mDataFrame._reduce\u001B[0;34m(self, op, name, axis, skipna, numeric_only, filter_type, **kwds)\u001B[0m\n\u001B[1;32m  11203\u001B[0m     df \u001B[38;5;241m=\u001B[39m df\u001B[38;5;241m.\u001B[39mT\n\u001B[1;32m  11205\u001B[0m \u001B[38;5;66;03m# After possibly _get_data and transposing, we are now in the\u001B[39;00m\n\u001B[1;32m  11206\u001B[0m \u001B[38;5;66;03m#  simple case where we can use BlockManager.reduce\u001B[39;00m\n\u001B[0;32m> 11207\u001B[0m res \u001B[38;5;241m=\u001B[39m \u001B[43mdf\u001B[49m\u001B[38;5;241;43m.\u001B[39;49m\u001B[43m_mgr\u001B[49m\u001B[38;5;241;43m.\u001B[39;49m\u001B[43mreduce\u001B[49m\u001B[43m(\u001B[49m\u001B[43mblk_func\u001B[49m\u001B[43m)\u001B[49m\n\u001B[1;32m  11208\u001B[0m out \u001B[38;5;241m=\u001B[39m df\u001B[38;5;241m.\u001B[39m_constructor_from_mgr(res, axes\u001B[38;5;241m=\u001B[39mres\u001B[38;5;241m.\u001B[39maxes)\u001B[38;5;241m.\u001B[39miloc[\u001B[38;5;241m0\u001B[39m]\n\u001B[1;32m  11209\u001B[0m \u001B[38;5;28;01mif\u001B[39;00m out_dtype \u001B[38;5;129;01mis\u001B[39;00m \u001B[38;5;129;01mnot\u001B[39;00m \u001B[38;5;28;01mNone\u001B[39;00m \u001B[38;5;129;01mand\u001B[39;00m out\u001B[38;5;241m.\u001B[39mdtype \u001B[38;5;241m!=\u001B[39m \u001B[38;5;124m\"\u001B[39m\u001B[38;5;124mboolean\u001B[39m\u001B[38;5;124m\"\u001B[39m:\n",
      "File \u001B[0;32m~/Downloads/Lehre/Data Science/HS2023/Übung/02 - 03 Oktober/Code/venv/lib/python3.11/site-packages/pandas/core/internals/managers.py:1459\u001B[0m, in \u001B[0;36mBlockManager.reduce\u001B[0;34m(self, func)\u001B[0m\n\u001B[1;32m   1457\u001B[0m res_blocks: \u001B[38;5;28mlist\u001B[39m[Block] \u001B[38;5;241m=\u001B[39m []\n\u001B[1;32m   1458\u001B[0m \u001B[38;5;28;01mfor\u001B[39;00m blk \u001B[38;5;129;01min\u001B[39;00m \u001B[38;5;28mself\u001B[39m\u001B[38;5;241m.\u001B[39mblocks:\n\u001B[0;32m-> 1459\u001B[0m     nbs \u001B[38;5;241m=\u001B[39m \u001B[43mblk\u001B[49m\u001B[38;5;241;43m.\u001B[39;49m\u001B[43mreduce\u001B[49m\u001B[43m(\u001B[49m\u001B[43mfunc\u001B[49m\u001B[43m)\u001B[49m\n\u001B[1;32m   1460\u001B[0m     res_blocks\u001B[38;5;241m.\u001B[39mextend(nbs)\n\u001B[1;32m   1462\u001B[0m index \u001B[38;5;241m=\u001B[39m Index([\u001B[38;5;28;01mNone\u001B[39;00m])  \u001B[38;5;66;03m# placeholder\u001B[39;00m\n",
      "File \u001B[0;32m~/Downloads/Lehre/Data Science/HS2023/Übung/02 - 03 Oktober/Code/venv/lib/python3.11/site-packages/pandas/core/internals/blocks.py:377\u001B[0m, in \u001B[0;36mBlock.reduce\u001B[0;34m(self, func)\u001B[0m\n\u001B[1;32m    371\u001B[0m \u001B[38;5;129m@final\u001B[39m\n\u001B[1;32m    372\u001B[0m \u001B[38;5;28;01mdef\u001B[39;00m \u001B[38;5;21mreduce\u001B[39m(\u001B[38;5;28mself\u001B[39m, func) \u001B[38;5;241m-\u001B[39m\u001B[38;5;241m>\u001B[39m \u001B[38;5;28mlist\u001B[39m[Block]:\n\u001B[1;32m    373\u001B[0m     \u001B[38;5;66;03m# We will apply the function and reshape the result into a single-row\u001B[39;00m\n\u001B[1;32m    374\u001B[0m     \u001B[38;5;66;03m#  Block with the same mgr_locs; squeezing will be done at a higher level\u001B[39;00m\n\u001B[1;32m    375\u001B[0m     \u001B[38;5;28;01massert\u001B[39;00m \u001B[38;5;28mself\u001B[39m\u001B[38;5;241m.\u001B[39mndim \u001B[38;5;241m==\u001B[39m \u001B[38;5;241m2\u001B[39m\n\u001B[0;32m--> 377\u001B[0m     result \u001B[38;5;241m=\u001B[39m \u001B[43mfunc\u001B[49m\u001B[43m(\u001B[49m\u001B[38;5;28;43mself\u001B[39;49m\u001B[38;5;241;43m.\u001B[39;49m\u001B[43mvalues\u001B[49m\u001B[43m)\u001B[49m\n\u001B[1;32m    379\u001B[0m     \u001B[38;5;28;01mif\u001B[39;00m \u001B[38;5;28mself\u001B[39m\u001B[38;5;241m.\u001B[39mvalues\u001B[38;5;241m.\u001B[39mndim \u001B[38;5;241m==\u001B[39m \u001B[38;5;241m1\u001B[39m:\n\u001B[1;32m    380\u001B[0m         res_values \u001B[38;5;241m=\u001B[39m result\n",
      "File \u001B[0;32m~/Downloads/Lehre/Data Science/HS2023/Übung/02 - 03 Oktober/Code/venv/lib/python3.11/site-packages/pandas/core/frame.py:11139\u001B[0m, in \u001B[0;36mDataFrame._reduce.<locals>.blk_func\u001B[0;34m(values, axis)\u001B[0m\n\u001B[1;32m  11137\u001B[0m         \u001B[38;5;28;01mreturn\u001B[39;00m np\u001B[38;5;241m.\u001B[39marray([result])\n\u001B[1;32m  11138\u001B[0m \u001B[38;5;28;01melse\u001B[39;00m:\n\u001B[0;32m> 11139\u001B[0m     \u001B[38;5;28;01mreturn\u001B[39;00m \u001B[43mop\u001B[49m\u001B[43m(\u001B[49m\u001B[43mvalues\u001B[49m\u001B[43m,\u001B[49m\u001B[43m \u001B[49m\u001B[43maxis\u001B[49m\u001B[38;5;241;43m=\u001B[39;49m\u001B[43maxis\u001B[49m\u001B[43m,\u001B[49m\u001B[43m \u001B[49m\u001B[43mskipna\u001B[49m\u001B[38;5;241;43m=\u001B[39;49m\u001B[43mskipna\u001B[49m\u001B[43m,\u001B[49m\u001B[43m \u001B[49m\u001B[38;5;241;43m*\u001B[39;49m\u001B[38;5;241;43m*\u001B[39;49m\u001B[43mkwds\u001B[49m\u001B[43m)\u001B[49m\n",
      "File \u001B[0;32m~/Downloads/Lehre/Data Science/HS2023/Übung/02 - 03 Oktober/Code/venv/lib/python3.11/site-packages/pandas/core/nanops.py:147\u001B[0m, in \u001B[0;36mbottleneck_switch.__call__.<locals>.f\u001B[0;34m(values, axis, skipna, **kwds)\u001B[0m\n\u001B[1;32m    145\u001B[0m         result \u001B[38;5;241m=\u001B[39m alt(values, axis\u001B[38;5;241m=\u001B[39maxis, skipna\u001B[38;5;241m=\u001B[39mskipna, \u001B[38;5;241m*\u001B[39m\u001B[38;5;241m*\u001B[39mkwds)\n\u001B[1;32m    146\u001B[0m \u001B[38;5;28;01melse\u001B[39;00m:\n\u001B[0;32m--> 147\u001B[0m     result \u001B[38;5;241m=\u001B[39m \u001B[43malt\u001B[49m\u001B[43m(\u001B[49m\u001B[43mvalues\u001B[49m\u001B[43m,\u001B[49m\u001B[43m \u001B[49m\u001B[43maxis\u001B[49m\u001B[38;5;241;43m=\u001B[39;49m\u001B[43maxis\u001B[49m\u001B[43m,\u001B[49m\u001B[43m \u001B[49m\u001B[43mskipna\u001B[49m\u001B[38;5;241;43m=\u001B[39;49m\u001B[43mskipna\u001B[49m\u001B[43m,\u001B[49m\u001B[43m \u001B[49m\u001B[38;5;241;43m*\u001B[39;49m\u001B[38;5;241;43m*\u001B[39;49m\u001B[43mkwds\u001B[49m\u001B[43m)\u001B[49m\n\u001B[1;32m    149\u001B[0m \u001B[38;5;28;01mreturn\u001B[39;00m result\n",
      "File \u001B[0;32m~/Downloads/Lehre/Data Science/HS2023/Übung/02 - 03 Oktober/Code/venv/lib/python3.11/site-packages/pandas/core/nanops.py:783\u001B[0m, in \u001B[0;36mnanmedian\u001B[0;34m(values, axis, skipna, mask)\u001B[0m\n\u001B[1;32m    781\u001B[0m     inferred \u001B[38;5;241m=\u001B[39m lib\u001B[38;5;241m.\u001B[39minfer_dtype(values)\n\u001B[1;32m    782\u001B[0m     \u001B[38;5;28;01mif\u001B[39;00m inferred \u001B[38;5;129;01min\u001B[39;00m [\u001B[38;5;124m\"\u001B[39m\u001B[38;5;124mstring\u001B[39m\u001B[38;5;124m\"\u001B[39m, \u001B[38;5;124m\"\u001B[39m\u001B[38;5;124mmixed\u001B[39m\u001B[38;5;124m\"\u001B[39m]:\n\u001B[0;32m--> 783\u001B[0m         \u001B[38;5;28;01mraise\u001B[39;00m \u001B[38;5;167;01mTypeError\u001B[39;00m(\u001B[38;5;124mf\u001B[39m\u001B[38;5;124m\"\u001B[39m\u001B[38;5;124mCannot convert \u001B[39m\u001B[38;5;132;01m{\u001B[39;00mvalues\u001B[38;5;132;01m}\u001B[39;00m\u001B[38;5;124m to numeric\u001B[39m\u001B[38;5;124m\"\u001B[39m)\n\u001B[1;32m    784\u001B[0m \u001B[38;5;28;01mtry\u001B[39;00m:\n\u001B[1;32m    785\u001B[0m     values \u001B[38;5;241m=\u001B[39m values\u001B[38;5;241m.\u001B[39mastype(\u001B[38;5;124m\"\u001B[39m\u001B[38;5;124mf8\u001B[39m\u001B[38;5;124m\"\u001B[39m)\n",
      "\u001B[0;31mTypeError\u001B[0m: Cannot convert [['lucas-wilchez' 'john-utaka' 'aaron-hughes' ... 'winston-reid'\n  'xherdan-shaqiri' 'zdenk-pospch']\n ['Lucas Wilchez' 'John Utaka' 'Aaron Hughes' ... 'Winston Reid'\n  'Xherdan Shaqiri' 'Zdeněk Pospěch']\n ['Real Zaragoza' 'Montpellier HSC' 'Fulham FC' ... 'West Ham United'\n  'Bayern München' '1. FSV Mainz 05']\n ...\n ['Attacking Midfielder' 'Right Winger' 'Center Back' ... 'Center Back'\n  'Left Midfielder' 'Right Fullback']\n ['95212.jpg' '1663.jpg' '3868.jpg' ... '53953.jpg' '132744.jpg'\n  '21828.jpg']\n ['GRC' 'ZMB' 'LUX' ... 'HUN' 'HUN' 'HUN']] to numeric"
     ]
    }
   ],
   "source": [
    "df.median()"
   ],
   "metadata": {
    "collapsed": false,
    "ExecuteTime": {
     "end_time": "2023-10-05T07:59:41.865378450Z",
     "start_time": "2023-10-05T07:59:41.223350404Z"
    }
   },
   "id": "382567c0cddec46c"
  },
  {
   "cell_type": "markdown",
   "source": [
    "df.describe() did not calculate the median for us. Let's do it manually.\n",
    "First, find all numeric columns."
   ],
   "metadata": {
    "collapsed": false,
    "id": "a9f5540d6373d102"
   },
   "id": "a9f5540d6373d102"
  },
  {
   "cell_type": "code",
   "execution_count": 10,
   "outputs": [
    {
     "data": {
      "text/plain": "Index(['height', 'weight', 'games', 'victories', 'ties', 'defeats', 'goals',\n       'yellowCards', 'yellowReds', 'redCards', 'rater1', 'rater2', 'refNum',\n       'refCountry', 'meanIAT', 'nIAT', 'seIAT', 'meanExp', 'nExp', 'seExp'],\n      dtype='object')"
     },
     "execution_count": 10,
     "metadata": {},
     "output_type": "execute_result"
    }
   ],
   "source": [
    "numeric_columns = df.select_dtypes(include=[np.number]).columns\n",
    "numeric_columns"
   ],
   "metadata": {
    "colab": {
     "base_uri": "https://localhost:8080/"
    },
    "id": "651d14589d00849e",
    "outputId": "f5e99030-d25f-4312-c067-c257f9bdc1a2",
    "ExecuteTime": {
     "end_time": "2023-10-05T07:52:32.318633310Z",
     "start_time": "2023-10-05T07:52:32.261946305Z"
    }
   },
   "id": "651d14589d00849e"
  },
  {
   "cell_type": "markdown",
   "source": [
    "Next, select the numeric columns."
   ],
   "metadata": {
    "collapsed": false,
    "id": "5d41f0fd3fe0fcc6"
   },
   "id": "5d41f0fd3fe0fcc6"
  },
  {
   "cell_type": "code",
   "execution_count": 11,
   "outputs": [
    {
     "data": {
      "text/plain": "   height  weight  games  victories  ties  defeats  goals  yellowCards  \\\n0   177.0    72.0      1          0     0        1      0            0   \n1   179.0    82.0      1          0     0        1      0            1   \n5   182.0    71.0      1          0     0        1      0            0   \n6   187.0    80.0      1          1     0        0      0            0   \n7   180.0    68.0      1          0     0        1      0            0   \n\n   yellowReds  redCards  rater1  rater2  refNum  refCountry   meanIAT   nIAT  \\\n0           0         0    0.25    0.50       1           1  0.326391  712.0   \n1           0         0    0.75    0.75       2           2  0.203375   40.0   \n5           0         0    0.25    0.00       4           4  0.325185  127.0   \n6           0         0    0.00    0.25       4           4  0.325185  127.0   \n7           0         0    1.00    1.00       4           4  0.325185  127.0   \n\n      seIAT   meanExp   nExp     seExp  \n0  0.000564  0.396000  750.0  0.002696  \n1  0.010875 -0.204082   49.0  0.061504  \n5  0.003297  0.538462  130.0  0.013752  \n6  0.003297  0.538462  130.0  0.013752  \n7  0.003297  0.538462  130.0  0.013752  ",
      "text/html": "<div>\n<style scoped>\n    .dataframe tbody tr th:only-of-type {\n        vertical-align: middle;\n    }\n\n    .dataframe tbody tr th {\n        vertical-align: top;\n    }\n\n    .dataframe thead th {\n        text-align: right;\n    }\n</style>\n<table border=\"1\" class=\"dataframe\">\n  <thead>\n    <tr style=\"text-align: right;\">\n      <th></th>\n      <th>height</th>\n      <th>weight</th>\n      <th>games</th>\n      <th>victories</th>\n      <th>ties</th>\n      <th>defeats</th>\n      <th>goals</th>\n      <th>yellowCards</th>\n      <th>yellowReds</th>\n      <th>redCards</th>\n      <th>rater1</th>\n      <th>rater2</th>\n      <th>refNum</th>\n      <th>refCountry</th>\n      <th>meanIAT</th>\n      <th>nIAT</th>\n      <th>seIAT</th>\n      <th>meanExp</th>\n      <th>nExp</th>\n      <th>seExp</th>\n    </tr>\n  </thead>\n  <tbody>\n    <tr>\n      <th>0</th>\n      <td>177.0</td>\n      <td>72.0</td>\n      <td>1</td>\n      <td>0</td>\n      <td>0</td>\n      <td>1</td>\n      <td>0</td>\n      <td>0</td>\n      <td>0</td>\n      <td>0</td>\n      <td>0.25</td>\n      <td>0.50</td>\n      <td>1</td>\n      <td>1</td>\n      <td>0.326391</td>\n      <td>712.0</td>\n      <td>0.000564</td>\n      <td>0.396000</td>\n      <td>750.0</td>\n      <td>0.002696</td>\n    </tr>\n    <tr>\n      <th>1</th>\n      <td>179.0</td>\n      <td>82.0</td>\n      <td>1</td>\n      <td>0</td>\n      <td>0</td>\n      <td>1</td>\n      <td>0</td>\n      <td>1</td>\n      <td>0</td>\n      <td>0</td>\n      <td>0.75</td>\n      <td>0.75</td>\n      <td>2</td>\n      <td>2</td>\n      <td>0.203375</td>\n      <td>40.0</td>\n      <td>0.010875</td>\n      <td>-0.204082</td>\n      <td>49.0</td>\n      <td>0.061504</td>\n    </tr>\n    <tr>\n      <th>5</th>\n      <td>182.0</td>\n      <td>71.0</td>\n      <td>1</td>\n      <td>0</td>\n      <td>0</td>\n      <td>1</td>\n      <td>0</td>\n      <td>0</td>\n      <td>0</td>\n      <td>0</td>\n      <td>0.25</td>\n      <td>0.00</td>\n      <td>4</td>\n      <td>4</td>\n      <td>0.325185</td>\n      <td>127.0</td>\n      <td>0.003297</td>\n      <td>0.538462</td>\n      <td>130.0</td>\n      <td>0.013752</td>\n    </tr>\n    <tr>\n      <th>6</th>\n      <td>187.0</td>\n      <td>80.0</td>\n      <td>1</td>\n      <td>1</td>\n      <td>0</td>\n      <td>0</td>\n      <td>0</td>\n      <td>0</td>\n      <td>0</td>\n      <td>0</td>\n      <td>0.00</td>\n      <td>0.25</td>\n      <td>4</td>\n      <td>4</td>\n      <td>0.325185</td>\n      <td>127.0</td>\n      <td>0.003297</td>\n      <td>0.538462</td>\n      <td>130.0</td>\n      <td>0.013752</td>\n    </tr>\n    <tr>\n      <th>7</th>\n      <td>180.0</td>\n      <td>68.0</td>\n      <td>1</td>\n      <td>0</td>\n      <td>0</td>\n      <td>1</td>\n      <td>0</td>\n      <td>0</td>\n      <td>0</td>\n      <td>0</td>\n      <td>1.00</td>\n      <td>1.00</td>\n      <td>4</td>\n      <td>4</td>\n      <td>0.325185</td>\n      <td>127.0</td>\n      <td>0.003297</td>\n      <td>0.538462</td>\n      <td>130.0</td>\n      <td>0.013752</td>\n    </tr>\n  </tbody>\n</table>\n</div>"
     },
     "execution_count": 11,
     "metadata": {},
     "output_type": "execute_result"
    }
   ],
   "source": [
    "df[numeric_columns].head()"
   ],
   "metadata": {
    "colab": {
     "base_uri": "https://localhost:8080/",
     "height": 206
    },
    "id": "381805597a1a8c9a",
    "outputId": "1eafdcbc-ec82-4f20-fba4-d8e88e51f210",
    "ExecuteTime": {
     "end_time": "2023-10-05T07:52:32.380351628Z",
     "start_time": "2023-10-05T07:52:32.262119141Z"
    }
   },
   "id": "381805597a1a8c9a"
  },
  {
   "cell_type": "markdown",
   "source": [
    "Finally, calculate the median."
   ],
   "metadata": {
    "collapsed": false,
    "id": "a80f2f3f2775809f"
   },
   "id": "a80f2f3f2775809f"
  },
  {
   "cell_type": "code",
   "execution_count": 12,
   "outputs": [
    {
     "data": {
      "text/plain": "height          183.000000\nweight           76.000000\ngames             1.000000\nvictories         1.000000\nties              0.000000\ndefeats           1.000000\ngoals             0.000000\nyellowCards       0.000000\nyellowReds        0.000000\nredCards          0.000000\nrater1            0.250000\nrater2            0.250000\nrefNum         1579.000000\nrefCountry       15.000000\nmeanIAT           0.336628\nnIAT           2882.000000\nseIAT             0.000151\nmeanExp           0.356446\nnExp           3011.000000\nseExp             0.000586\ndtype: float64"
     },
     "execution_count": 12,
     "metadata": {},
     "output_type": "execute_result"
    }
   ],
   "source": [
    "df[numeric_columns].median()  # by default column-wise!"
   ],
   "metadata": {
    "colab": {
     "base_uri": "https://localhost:8080/"
    },
    "id": "aec1d59d036609d3",
    "outputId": "cef1fafc-83cf-4028-ee15-46ab9d24ef32",
    "ExecuteTime": {
     "end_time": "2023-10-05T07:52:32.381083119Z",
     "start_time": "2023-10-05T07:52:32.310023208Z"
    }
   },
   "id": "aec1d59d036609d3"
  },
  {
   "cell_type": "markdown",
   "source": [
    "# 4. Average cards per game\n",
    "Calculate the average number of yellow and red cards per game for each player. Then print out the 5 players with the highest average number of cards per game."
   ],
   "metadata": {
    "collapsed": false,
    "id": "abf4ca40fc0b7cb7"
   },
   "id": "abf4ca40fc0b7cb7"
  },
  {
   "cell_type": "markdown",
   "source": [
    "## 4.1 Count the number of cards each player has gotten.\n",
    "As an intermediate step, let's first calculate the number of cards each player has gotten."
   ],
   "metadata": {
    "collapsed": false,
    "id": "2ec07a766303c70a"
   },
   "id": "2ec07a766303c70a"
  },
  {
   "cell_type": "code",
   "execution_count": 13,
   "outputs": [
    {
     "name": "stderr",
     "output_type": "stream",
     "text": [
      "/tmp/ipykernel_621106/520204593.py:1: SettingWithCopyWarning: \n",
      "A value is trying to be set on a copy of a slice from a DataFrame.\n",
      "Try using .loc[row_indexer,col_indexer] = value instead\n",
      "\n",
      "See the caveats in the documentation: https://pandas.pydata.org/pandas-docs/stable/user_guide/indexing.html#returning-a-view-versus-a-copy\n",
      "  df['total_cards'] = df['yellowCards'] + df['redCards']\n"
     ]
    },
    {
     "data": {
      "text/plain": "0    0\n1    1\n5    0\n6    0\n7    0\nName: total_cards, dtype: int64"
     },
     "execution_count": 13,
     "metadata": {},
     "output_type": "execute_result"
    }
   ],
   "source": [
    "df['total_cards'] = df['yellowCards'] + df['redCards']\n",
    "df['total_cards'].head()"
   ],
   "metadata": {
    "colab": {
     "base_uri": "https://localhost:8080/"
    },
    "id": "7dc0676178135ce0",
    "outputId": "597634fc-1a06-4dbf-956b-b40a400a1d59",
    "ExecuteTime": {
     "end_time": "2023-10-05T07:52:32.381487580Z",
     "start_time": "2023-10-05T07:52:32.310200463Z"
    }
   },
   "id": "7dc0676178135ce0"
  },
  {
   "cell_type": "markdown",
   "source": [
    "## 4.2 Calculate the average number of cards per game for each player.\n",
    "Next, we can now use this column to calculate the average number of cards per game for each player."
   ],
   "metadata": {
    "collapsed": false,
    "id": "892f9184ce4ead3a"
   },
   "id": "892f9184ce4ead3a"
  },
  {
   "cell_type": "code",
   "execution_count": 14,
   "outputs": [
    {
     "name": "stderr",
     "output_type": "stream",
     "text": [
      "/tmp/ipykernel_621106/1843513504.py:1: SettingWithCopyWarning: \n",
      "A value is trying to be set on a copy of a slice from a DataFrame.\n",
      "Try using .loc[row_indexer,col_indexer] = value instead\n",
      "\n",
      "See the caveats in the documentation: https://pandas.pydata.org/pandas-docs/stable/user_guide/indexing.html#returning-a-view-versus-a-copy\n",
      "  df['avg_cards_per_game'] = df['total_cards'] / df['games']\n"
     ]
    },
    {
     "data": {
      "text/plain": "0    0.0\n1    1.0\n5    0.0\n6    0.0\n7    0.0\nName: avg_cards_per_game, dtype: float64"
     },
     "execution_count": 14,
     "metadata": {},
     "output_type": "execute_result"
    }
   ],
   "source": [
    "df['avg_cards_per_game'] = df['total_cards'] / df['games']\n",
    "df['avg_cards_per_game'].head()"
   ],
   "metadata": {
    "colab": {
     "base_uri": "https://localhost:8080/"
    },
    "id": "cdcc582f562365ff",
    "outputId": "d028b283-f60f-4300-b356-0f0fdeaf1f63",
    "ExecuteTime": {
     "end_time": "2023-10-05T07:52:32.381822554Z",
     "start_time": "2023-10-05T07:52:32.310306888Z"
    }
   },
   "id": "cdcc582f562365ff"
  },
  {
   "cell_type": "markdown",
   "source": [
    "## 4.3 Sort the players by the average number of cards per game.\n",
    "Then we sort by this column."
   ],
   "metadata": {
    "collapsed": false,
    "id": "aafa2e9ae61c2ddc"
   },
   "id": "aafa2e9ae61c2ddc"
  },
  {
   "cell_type": "code",
   "execution_count": 15,
   "outputs": [
    {
     "data": {
      "text/plain": "               playerShort              player                club  \\\n103688  jean-pascal-mignot  Jean-Pascal Mignot    AS Saint-Étienne   \n126191          gary-medel          Gary Medel          Sevilla FC   \n83849          david-villa         David Villa        FC Barcelona   \n125960     matthieu-chalme     Matthieu Chalmé  Girondins Bordeaux   \n33779         shawn-parker        Shawn Parker     1. FSV Mainz 05   \n...                    ...                 ...                 ...   \n72394          kun-agueero          Kun Agüero     Manchester City   \n72393         karim-haggui        Karim Haggui         Hannover 96   \n72392                 kaka                Kaká         Real Madrid   \n72390         juanma-ortiz        Juanma Ortiz          Granada CF   \n72376      john-arne-riise     John Arne Riise           Fulham FC   \n\n       leagueCountry    birthday  height  weight              position  games  \\\n103688        France  26.02.1981   183.0    75.0           Center Back      1   \n126191         Spain  03.08.1987   171.0    76.0  Defensive Midfielder      1   \n83849          Spain  03.12.1981   175.0    69.0        Center Forward      1   \n125960        France  07.10.1980   179.0    75.0        Right Fullback      1   \n33779        Germany  07.03.1993   179.0    76.0        Center Forward      1   \n...              ...         ...     ...     ...                   ...    ...   \n72394        England  02.06.1988   172.0    74.0        Center Forward      3   \n72393        Germany  20.01.1984   190.0    86.0           Center Back      1   \n72392          Spain  22.04.1982   186.0    78.0  Attacking Midfielder      1   \n72390          Spain  01.03.1982   179.0    70.0      Right Midfielder      2   \n72376        England  24.09.1980   185.0    77.0         Left Fullback      1   \n\n        victories  ...  refCountry  Alpha_3   meanIAT    nIAT     seIAT  \\\n103688          1  ...          72      PRT  0.396803  1079.0  0.000392   \n126191          0  ...          58      BEL  0.362720  3219.0  0.000128   \n83849           0  ...           3      ESP  0.369894  1785.0  0.000229   \n125960          0  ...          15      TUR  0.354707   656.0  0.000606   \n33779           1  ...           8      DEU  0.336628  7749.0  0.000055   \n...           ...  ...         ...      ...       ...     ...       ...   \n72394           1  ...           3      ESP  0.369894  1785.0  0.000229   \n72393           1  ...           3      ESP  0.369894  1785.0  0.000229   \n72392           1  ...           3      ESP  0.369894  1785.0  0.000229   \n72390           1  ...           3      ESP  0.369894  1785.0  0.000229   \n72376           0  ...           3      ESP  0.369894  1785.0  0.000229   \n\n         meanExp    nExp     seExp  total_cards  avg_cards_per_game  \n103688  0.790366  1121.0  0.001798            3                 3.0  \n126191  0.568785  3351.0  0.000575            2                 2.0  \n83849   0.588297  1897.0  0.001002            2                 2.0  \n125960  0.182081   692.0  0.002717            2                 2.0  \n33779   0.335967  7974.0  0.000225            2                 2.0  \n...          ...     ...       ...          ...                 ...  \n72394   0.588297  1897.0  0.001002            0                 0.0  \n72393   0.588297  1897.0  0.001002            0                 0.0  \n72392   0.588297  1897.0  0.001002            0                 0.0  \n72390   0.588297  1897.0  0.001002            0                 0.0  \n72376   0.588297  1897.0  0.001002            0                 0.0  \n\n[115457 rows x 30 columns]",
      "text/html": "<div>\n<style scoped>\n    .dataframe tbody tr th:only-of-type {\n        vertical-align: middle;\n    }\n\n    .dataframe tbody tr th {\n        vertical-align: top;\n    }\n\n    .dataframe thead th {\n        text-align: right;\n    }\n</style>\n<table border=\"1\" class=\"dataframe\">\n  <thead>\n    <tr style=\"text-align: right;\">\n      <th></th>\n      <th>playerShort</th>\n      <th>player</th>\n      <th>club</th>\n      <th>leagueCountry</th>\n      <th>birthday</th>\n      <th>height</th>\n      <th>weight</th>\n      <th>position</th>\n      <th>games</th>\n      <th>victories</th>\n      <th>...</th>\n      <th>refCountry</th>\n      <th>Alpha_3</th>\n      <th>meanIAT</th>\n      <th>nIAT</th>\n      <th>seIAT</th>\n      <th>meanExp</th>\n      <th>nExp</th>\n      <th>seExp</th>\n      <th>total_cards</th>\n      <th>avg_cards_per_game</th>\n    </tr>\n  </thead>\n  <tbody>\n    <tr>\n      <th>103688</th>\n      <td>jean-pascal-mignot</td>\n      <td>Jean-Pascal Mignot</td>\n      <td>AS Saint-Étienne</td>\n      <td>France</td>\n      <td>26.02.1981</td>\n      <td>183.0</td>\n      <td>75.0</td>\n      <td>Center Back</td>\n      <td>1</td>\n      <td>1</td>\n      <td>...</td>\n      <td>72</td>\n      <td>PRT</td>\n      <td>0.396803</td>\n      <td>1079.0</td>\n      <td>0.000392</td>\n      <td>0.790366</td>\n      <td>1121.0</td>\n      <td>0.001798</td>\n      <td>3</td>\n      <td>3.0</td>\n    </tr>\n    <tr>\n      <th>126191</th>\n      <td>gary-medel</td>\n      <td>Gary Medel</td>\n      <td>Sevilla FC</td>\n      <td>Spain</td>\n      <td>03.08.1987</td>\n      <td>171.0</td>\n      <td>76.0</td>\n      <td>Defensive Midfielder</td>\n      <td>1</td>\n      <td>0</td>\n      <td>...</td>\n      <td>58</td>\n      <td>BEL</td>\n      <td>0.362720</td>\n      <td>3219.0</td>\n      <td>0.000128</td>\n      <td>0.568785</td>\n      <td>3351.0</td>\n      <td>0.000575</td>\n      <td>2</td>\n      <td>2.0</td>\n    </tr>\n    <tr>\n      <th>83849</th>\n      <td>david-villa</td>\n      <td>David Villa</td>\n      <td>FC Barcelona</td>\n      <td>Spain</td>\n      <td>03.12.1981</td>\n      <td>175.0</td>\n      <td>69.0</td>\n      <td>Center Forward</td>\n      <td>1</td>\n      <td>0</td>\n      <td>...</td>\n      <td>3</td>\n      <td>ESP</td>\n      <td>0.369894</td>\n      <td>1785.0</td>\n      <td>0.000229</td>\n      <td>0.588297</td>\n      <td>1897.0</td>\n      <td>0.001002</td>\n      <td>2</td>\n      <td>2.0</td>\n    </tr>\n    <tr>\n      <th>125960</th>\n      <td>matthieu-chalme</td>\n      <td>Matthieu Chalmé</td>\n      <td>Girondins Bordeaux</td>\n      <td>France</td>\n      <td>07.10.1980</td>\n      <td>179.0</td>\n      <td>75.0</td>\n      <td>Right Fullback</td>\n      <td>1</td>\n      <td>0</td>\n      <td>...</td>\n      <td>15</td>\n      <td>TUR</td>\n      <td>0.354707</td>\n      <td>656.0</td>\n      <td>0.000606</td>\n      <td>0.182081</td>\n      <td>692.0</td>\n      <td>0.002717</td>\n      <td>2</td>\n      <td>2.0</td>\n    </tr>\n    <tr>\n      <th>33779</th>\n      <td>shawn-parker</td>\n      <td>Shawn Parker</td>\n      <td>1. FSV Mainz 05</td>\n      <td>Germany</td>\n      <td>07.03.1993</td>\n      <td>179.0</td>\n      <td>76.0</td>\n      <td>Center Forward</td>\n      <td>1</td>\n      <td>1</td>\n      <td>...</td>\n      <td>8</td>\n      <td>DEU</td>\n      <td>0.336628</td>\n      <td>7749.0</td>\n      <td>0.000055</td>\n      <td>0.335967</td>\n      <td>7974.0</td>\n      <td>0.000225</td>\n      <td>2</td>\n      <td>2.0</td>\n    </tr>\n    <tr>\n      <th>...</th>\n      <td>...</td>\n      <td>...</td>\n      <td>...</td>\n      <td>...</td>\n      <td>...</td>\n      <td>...</td>\n      <td>...</td>\n      <td>...</td>\n      <td>...</td>\n      <td>...</td>\n      <td>...</td>\n      <td>...</td>\n      <td>...</td>\n      <td>...</td>\n      <td>...</td>\n      <td>...</td>\n      <td>...</td>\n      <td>...</td>\n      <td>...</td>\n      <td>...</td>\n      <td>...</td>\n    </tr>\n    <tr>\n      <th>72394</th>\n      <td>kun-agueero</td>\n      <td>Kun Agüero</td>\n      <td>Manchester City</td>\n      <td>England</td>\n      <td>02.06.1988</td>\n      <td>172.0</td>\n      <td>74.0</td>\n      <td>Center Forward</td>\n      <td>3</td>\n      <td>1</td>\n      <td>...</td>\n      <td>3</td>\n      <td>ESP</td>\n      <td>0.369894</td>\n      <td>1785.0</td>\n      <td>0.000229</td>\n      <td>0.588297</td>\n      <td>1897.0</td>\n      <td>0.001002</td>\n      <td>0</td>\n      <td>0.0</td>\n    </tr>\n    <tr>\n      <th>72393</th>\n      <td>karim-haggui</td>\n      <td>Karim Haggui</td>\n      <td>Hannover 96</td>\n      <td>Germany</td>\n      <td>20.01.1984</td>\n      <td>190.0</td>\n      <td>86.0</td>\n      <td>Center Back</td>\n      <td>1</td>\n      <td>1</td>\n      <td>...</td>\n      <td>3</td>\n      <td>ESP</td>\n      <td>0.369894</td>\n      <td>1785.0</td>\n      <td>0.000229</td>\n      <td>0.588297</td>\n      <td>1897.0</td>\n      <td>0.001002</td>\n      <td>0</td>\n      <td>0.0</td>\n    </tr>\n    <tr>\n      <th>72392</th>\n      <td>kaka</td>\n      <td>Kaká</td>\n      <td>Real Madrid</td>\n      <td>Spain</td>\n      <td>22.04.1982</td>\n      <td>186.0</td>\n      <td>78.0</td>\n      <td>Attacking Midfielder</td>\n      <td>1</td>\n      <td>1</td>\n      <td>...</td>\n      <td>3</td>\n      <td>ESP</td>\n      <td>0.369894</td>\n      <td>1785.0</td>\n      <td>0.000229</td>\n      <td>0.588297</td>\n      <td>1897.0</td>\n      <td>0.001002</td>\n      <td>0</td>\n      <td>0.0</td>\n    </tr>\n    <tr>\n      <th>72390</th>\n      <td>juanma-ortiz</td>\n      <td>Juanma Ortiz</td>\n      <td>Granada CF</td>\n      <td>Spain</td>\n      <td>01.03.1982</td>\n      <td>179.0</td>\n      <td>70.0</td>\n      <td>Right Midfielder</td>\n      <td>2</td>\n      <td>1</td>\n      <td>...</td>\n      <td>3</td>\n      <td>ESP</td>\n      <td>0.369894</td>\n      <td>1785.0</td>\n      <td>0.000229</td>\n      <td>0.588297</td>\n      <td>1897.0</td>\n      <td>0.001002</td>\n      <td>0</td>\n      <td>0.0</td>\n    </tr>\n    <tr>\n      <th>72376</th>\n      <td>john-arne-riise</td>\n      <td>John Arne Riise</td>\n      <td>Fulham FC</td>\n      <td>England</td>\n      <td>24.09.1980</td>\n      <td>185.0</td>\n      <td>77.0</td>\n      <td>Left Fullback</td>\n      <td>1</td>\n      <td>0</td>\n      <td>...</td>\n      <td>3</td>\n      <td>ESP</td>\n      <td>0.369894</td>\n      <td>1785.0</td>\n      <td>0.000229</td>\n      <td>0.588297</td>\n      <td>1897.0</td>\n      <td>0.001002</td>\n      <td>0</td>\n      <td>0.0</td>\n    </tr>\n  </tbody>\n</table>\n<p>115457 rows × 30 columns</p>\n</div>"
     },
     "execution_count": 15,
     "metadata": {},
     "output_type": "execute_result"
    }
   ],
   "source": [
    "avg_cards_per_game_df = df.sort_values(by='avg_cards_per_game', ascending=False)\n",
    "avg_cards_per_game_df"
   ],
   "metadata": {
    "colab": {
     "base_uri": "https://localhost:8080/",
     "height": 652
    },
    "id": "41f2f599087f9229",
    "outputId": "30d08731-9ce9-4152-e4d8-4bec0c6ba1b1",
    "ExecuteTime": {
     "end_time": "2023-10-05T07:52:32.420583051Z",
     "start_time": "2023-10-05T07:52:32.310731757Z"
    }
   },
   "id": "41f2f599087f9229"
  },
  {
   "cell_type": "markdown",
   "source": [
    "## 4.4 Print out the top 5 players.\n",
    "This is now very easy to do. We will not use .head() this time though."
   ],
   "metadata": {
    "collapsed": false,
    "id": "6b9f8e542c0add68"
   },
   "id": "6b9f8e542c0add68"
  },
  {
   "cell_type": "code",
   "execution_count": 16,
   "outputs": [
    {
     "data": {
      "text/plain": "               playerShort              player                club  \\\n103688  jean-pascal-mignot  Jean-Pascal Mignot    AS Saint-Étienne   \n126191          gary-medel          Gary Medel          Sevilla FC   \n83849          david-villa         David Villa        FC Barcelona   \n125960     matthieu-chalme     Matthieu Chalmé  Girondins Bordeaux   \n33779         shawn-parker        Shawn Parker     1. FSV Mainz 05   \n\n       leagueCountry    birthday  height  weight              position  games  \\\n103688        France  26.02.1981   183.0    75.0           Center Back      1   \n126191         Spain  03.08.1987   171.0    76.0  Defensive Midfielder      1   \n83849          Spain  03.12.1981   175.0    69.0        Center Forward      1   \n125960        France  07.10.1980   179.0    75.0        Right Fullback      1   \n33779        Germany  07.03.1993   179.0    76.0        Center Forward      1   \n\n        victories  ...  refCountry  Alpha_3   meanIAT    nIAT     seIAT  \\\n103688          1  ...          72      PRT  0.396803  1079.0  0.000392   \n126191          0  ...          58      BEL  0.362720  3219.0  0.000128   \n83849           0  ...           3      ESP  0.369894  1785.0  0.000229   \n125960          0  ...          15      TUR  0.354707   656.0  0.000606   \n33779           1  ...           8      DEU  0.336628  7749.0  0.000055   \n\n         meanExp    nExp     seExp  total_cards  avg_cards_per_game  \n103688  0.790366  1121.0  0.001798            3                 3.0  \n126191  0.568785  3351.0  0.000575            2                 2.0  \n83849   0.588297  1897.0  0.001002            2                 2.0  \n125960  0.182081   692.0  0.002717            2                 2.0  \n33779   0.335967  7974.0  0.000225            2                 2.0  \n\n[5 rows x 30 columns]",
      "text/html": "<div>\n<style scoped>\n    .dataframe tbody tr th:only-of-type {\n        vertical-align: middle;\n    }\n\n    .dataframe tbody tr th {\n        vertical-align: top;\n    }\n\n    .dataframe thead th {\n        text-align: right;\n    }\n</style>\n<table border=\"1\" class=\"dataframe\">\n  <thead>\n    <tr style=\"text-align: right;\">\n      <th></th>\n      <th>playerShort</th>\n      <th>player</th>\n      <th>club</th>\n      <th>leagueCountry</th>\n      <th>birthday</th>\n      <th>height</th>\n      <th>weight</th>\n      <th>position</th>\n      <th>games</th>\n      <th>victories</th>\n      <th>...</th>\n      <th>refCountry</th>\n      <th>Alpha_3</th>\n      <th>meanIAT</th>\n      <th>nIAT</th>\n      <th>seIAT</th>\n      <th>meanExp</th>\n      <th>nExp</th>\n      <th>seExp</th>\n      <th>total_cards</th>\n      <th>avg_cards_per_game</th>\n    </tr>\n  </thead>\n  <tbody>\n    <tr>\n      <th>103688</th>\n      <td>jean-pascal-mignot</td>\n      <td>Jean-Pascal Mignot</td>\n      <td>AS Saint-Étienne</td>\n      <td>France</td>\n      <td>26.02.1981</td>\n      <td>183.0</td>\n      <td>75.0</td>\n      <td>Center Back</td>\n      <td>1</td>\n      <td>1</td>\n      <td>...</td>\n      <td>72</td>\n      <td>PRT</td>\n      <td>0.396803</td>\n      <td>1079.0</td>\n      <td>0.000392</td>\n      <td>0.790366</td>\n      <td>1121.0</td>\n      <td>0.001798</td>\n      <td>3</td>\n      <td>3.0</td>\n    </tr>\n    <tr>\n      <th>126191</th>\n      <td>gary-medel</td>\n      <td>Gary Medel</td>\n      <td>Sevilla FC</td>\n      <td>Spain</td>\n      <td>03.08.1987</td>\n      <td>171.0</td>\n      <td>76.0</td>\n      <td>Defensive Midfielder</td>\n      <td>1</td>\n      <td>0</td>\n      <td>...</td>\n      <td>58</td>\n      <td>BEL</td>\n      <td>0.362720</td>\n      <td>3219.0</td>\n      <td>0.000128</td>\n      <td>0.568785</td>\n      <td>3351.0</td>\n      <td>0.000575</td>\n      <td>2</td>\n      <td>2.0</td>\n    </tr>\n    <tr>\n      <th>83849</th>\n      <td>david-villa</td>\n      <td>David Villa</td>\n      <td>FC Barcelona</td>\n      <td>Spain</td>\n      <td>03.12.1981</td>\n      <td>175.0</td>\n      <td>69.0</td>\n      <td>Center Forward</td>\n      <td>1</td>\n      <td>0</td>\n      <td>...</td>\n      <td>3</td>\n      <td>ESP</td>\n      <td>0.369894</td>\n      <td>1785.0</td>\n      <td>0.000229</td>\n      <td>0.588297</td>\n      <td>1897.0</td>\n      <td>0.001002</td>\n      <td>2</td>\n      <td>2.0</td>\n    </tr>\n    <tr>\n      <th>125960</th>\n      <td>matthieu-chalme</td>\n      <td>Matthieu Chalmé</td>\n      <td>Girondins Bordeaux</td>\n      <td>France</td>\n      <td>07.10.1980</td>\n      <td>179.0</td>\n      <td>75.0</td>\n      <td>Right Fullback</td>\n      <td>1</td>\n      <td>0</td>\n      <td>...</td>\n      <td>15</td>\n      <td>TUR</td>\n      <td>0.354707</td>\n      <td>656.0</td>\n      <td>0.000606</td>\n      <td>0.182081</td>\n      <td>692.0</td>\n      <td>0.002717</td>\n      <td>2</td>\n      <td>2.0</td>\n    </tr>\n    <tr>\n      <th>33779</th>\n      <td>shawn-parker</td>\n      <td>Shawn Parker</td>\n      <td>1. FSV Mainz 05</td>\n      <td>Germany</td>\n      <td>07.03.1993</td>\n      <td>179.0</td>\n      <td>76.0</td>\n      <td>Center Forward</td>\n      <td>1</td>\n      <td>1</td>\n      <td>...</td>\n      <td>8</td>\n      <td>DEU</td>\n      <td>0.336628</td>\n      <td>7749.0</td>\n      <td>0.000055</td>\n      <td>0.335967</td>\n      <td>7974.0</td>\n      <td>0.000225</td>\n      <td>2</td>\n      <td>2.0</td>\n    </tr>\n  </tbody>\n</table>\n<p>5 rows × 30 columns</p>\n</div>"
     },
     "execution_count": 16,
     "metadata": {},
     "output_type": "execute_result"
    }
   ],
   "source": [
    "avg_cards_per_game_df[:5]"
   ],
   "metadata": {
    "colab": {
     "base_uri": "https://localhost:8080/",
     "height": 359
    },
    "id": "8877e73c054434ff",
    "outputId": "8b36e4f0-8501-4a86-de38-55216bd90be4",
    "ExecuteTime": {
     "end_time": "2023-10-05T07:52:32.421892030Z",
     "start_time": "2023-10-05T07:52:32.383467821Z"
    }
   },
   "id": "8877e73c054434ff"
  },
  {
   "cell_type": "markdown",
   "source": [
    "# 5. Average number of cards per country\n",
    "Do the same as in 4. but this time for each country. This means we need to group the countries!"
   ],
   "metadata": {
    "collapsed": false,
    "id": "a8737c82fd4ed8d6"
   },
   "id": "a8737c82fd4ed8d6"
  },
  {
   "cell_type": "markdown",
   "source": [
    "## 5.1 Group the data by country.\n",
    "This is our first step. It will be annoying to calculate the average for each country otherwise."
   ],
   "metadata": {
    "collapsed": false,
    "id": "e9bd2a02ae8c81c4"
   },
   "id": "e9bd2a02ae8c81c4"
  },
  {
   "cell_type": "code",
   "execution_count": 17,
   "outputs": [],
   "source": [
    "grouped_by_country = df.groupby('leagueCountry')"
   ],
   "metadata": {
    "id": "26eb64f82d50940f",
    "ExecuteTime": {
     "end_time": "2023-10-05T07:52:32.429120830Z",
     "start_time": "2023-10-05T07:52:32.392209414Z"
    }
   },
   "id": "26eb64f82d50940f"
  },
  {
   "cell_type": "markdown",
   "source": [
    "We can also use this to check what countries we have."
   ],
   "metadata": {
    "collapsed": false,
    "id": "7b38b5cc528c6a1e"
   },
   "id": "7b38b5cc528c6a1e"
  },
  {
   "cell_type": "code",
   "execution_count": 18,
   "outputs": [
    {
     "data": {
      "text/plain": "dict_keys(['England', 'France', 'Germany', 'Spain'])"
     },
     "execution_count": 18,
     "metadata": {},
     "output_type": "execute_result"
    }
   ],
   "source": [
    "grouped_by_country.groups.keys()"
   ],
   "metadata": {
    "colab": {
     "base_uri": "https://localhost:8080/"
    },
    "id": "50695420dc27fb1c",
    "outputId": "960aed26-ae91-4b2f-df94-31d77b5c3ba9",
    "ExecuteTime": {
     "end_time": "2023-10-05T07:52:32.492884148Z",
     "start_time": "2023-10-05T07:52:32.393980921Z"
    }
   },
   "id": "50695420dc27fb1c"
  },
  {
   "cell_type": "markdown",
   "source": [
    "## 5.2 Calculate the average number of cards per game for each country."
   ],
   "metadata": {
    "collapsed": false,
    "id": "b3f64f4f5c713070"
   },
   "id": "b3f64f4f5c713070"
  },
  {
   "cell_type": "code",
   "execution_count": 19,
   "outputs": [
    {
     "data": {
      "text/plain": "leagueCountry\nEngland    0.115345\nFrance     0.132275\nGermany    0.128539\nSpain      0.176037\ndtype: float64"
     },
     "execution_count": 19,
     "metadata": {},
     "output_type": "execute_result"
    }
   ],
   "source": [
    "(grouped_by_country['yellowCards'].sum() + grouped_by_country['redCards'].sum()) / grouped_by_country['games'].sum()"
   ],
   "metadata": {
    "colab": {
     "base_uri": "https://localhost:8080/"
    },
    "id": "adf1a95830a48407",
    "outputId": "20159b9d-0055-464c-905a-756ba2955371",
    "ExecuteTime": {
     "end_time": "2023-10-05T07:52:32.493292707Z",
     "start_time": "2023-10-05T07:52:32.437447474Z"
    }
   },
   "id": "adf1a95830a48407"
  }
 ],
 "metadata": {
  "kernelspec": {
   "display_name": "Python 3",
   "language": "python",
   "name": "python3"
  },
  "language_info": {
   "codemirror_mode": {
    "name": "ipython",
    "version": 2
   },
   "file_extension": ".py",
   "mimetype": "text/x-python",
   "name": "python",
   "nbconvert_exporter": "python",
   "pygments_lexer": "ipython2",
   "version": "2.7.6"
  },
  "colab": {
   "provenance": []
  }
 },
 "nbformat": 4,
 "nbformat_minor": 5
}
