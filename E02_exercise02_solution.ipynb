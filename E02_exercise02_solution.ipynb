{
 "cells": [
  {
   "cell_type": "code",
   "execution_count": 16,
   "id": "initial_id",
   "metadata": {
    "ExecuteTime": {
     "end_time": "2023-10-05T07:52:31.741641632Z",
     "start_time": "2023-10-05T07:52:31.475344767Z"
    },
    "collapsed": true,
    "id": "initial_id"
   },
   "outputs": [],
   "source": [
    "import pandas as pd\n",
    "import numpy as np"
   ]
  },
  {
   "cell_type": "markdown",
   "id": "59fe150899c0b623",
   "metadata": {
    "collapsed": false
   },
   "source": [
    "# 0. `pandas` and preliminary knowledge\n",
    "\n",
    "In this exercise we will be using the [`pandas`](https://pandas.pydata.org/docs/) library.\n",
    "\n",
    "You can use a [cheat sheet of the basic functions](https://pandas.pydata.org/Pandas_Cheat_Sheet.pdf) if you are not familiar with `pandas`.\n",
    "\n",
    "`pandas` is a popular data manipulation library for Python. It provides data structures like Series and DataFrame alongside the essential functionality required for cleaning, aggregating, transforming, visualizing, and more tasks on data. `pandas` is built on top of the [`numpy`](https://numpy.org/) library, offering a higher-level, more intuitive interface for data analysis and manipulation. It's especially suitable for working with structured data, including datasets from Excel or CSV files, SQL tables, and more. With `pandas`, users can perform tasks like handling missing data, merging and joining datasets, filtering and reshaping data, and many other complex data operations. The extensive functionality of `pandas` makes it an essential tool for data scientists, analysts, and researchers working in Python.\n"
   ]
  },
  {
   "cell_type": "markdown",
   "id": "10a6c00f800cbd46",
   "metadata": {
    "collapsed": false,
    "id": "10a6c00f800cbd46"
   },
   "source": [
    "# 1. Load the data\n",
    "Find a way to load the data into a pandas dataframe. You can find the data here: https://osf.io/fv8c3.\n",
    "\n",
    "You need to find a way to load this data. There is a function in `pandas` that can help you. If you can't find it on your own or you feel unsure, you can click [here](https://pandas.pydata.org/docs/reference/api/pandas.read_csv.html) to find the correct function you can use."
   ]
  },
  {
   "cell_type": "code",
   "execution_count": 17,
   "id": "dbbb55920a066c05",
   "metadata": {
    "ExecuteTime": {
     "end_time": "2023-10-05T07:52:32.067727697Z",
     "start_time": "2023-10-05T07:52:31.784972656Z"
    },
    "colab": {
     "base_uri": "https://localhost:8080/",
     "height": 270
    },
    "id": "dbbb55920a066c05",
    "outputId": "81ef6680-d444-43b3-9003-148b38df34f6"
   },
   "outputs": [
    {
     "data": {
      "text/html": [
       "<div>\n",
       "<style scoped>\n",
       "    .dataframe tbody tr th:only-of-type {\n",
       "        vertical-align: middle;\n",
       "    }\n",
       "\n",
       "    .dataframe tbody tr th {\n",
       "        vertical-align: top;\n",
       "    }\n",
       "\n",
       "    .dataframe thead th {\n",
       "        text-align: right;\n",
       "    }\n",
       "</style>\n",
       "<table border=\"1\" class=\"dataframe\">\n",
       "  <thead>\n",
       "    <tr style=\"text-align: right;\">\n",
       "      <th></th>\n",
       "      <th>playerShort</th>\n",
       "      <th>player</th>\n",
       "      <th>club</th>\n",
       "      <th>leagueCountry</th>\n",
       "      <th>birthday</th>\n",
       "      <th>height</th>\n",
       "      <th>weight</th>\n",
       "      <th>position</th>\n",
       "      <th>games</th>\n",
       "      <th>victories</th>\n",
       "      <th>...</th>\n",
       "      <th>rater2</th>\n",
       "      <th>refNum</th>\n",
       "      <th>refCountry</th>\n",
       "      <th>Alpha_3</th>\n",
       "      <th>meanIAT</th>\n",
       "      <th>nIAT</th>\n",
       "      <th>seIAT</th>\n",
       "      <th>meanExp</th>\n",
       "      <th>nExp</th>\n",
       "      <th>seExp</th>\n",
       "    </tr>\n",
       "  </thead>\n",
       "  <tbody>\n",
       "    <tr>\n",
       "      <th>0</th>\n",
       "      <td>lucas-wilchez</td>\n",
       "      <td>Lucas Wilchez</td>\n",
       "      <td>Real Zaragoza</td>\n",
       "      <td>Spain</td>\n",
       "      <td>31.08.1983</td>\n",
       "      <td>177.0</td>\n",
       "      <td>72.0</td>\n",
       "      <td>Attacking Midfielder</td>\n",
       "      <td>1</td>\n",
       "      <td>0</td>\n",
       "      <td>...</td>\n",
       "      <td>0.50</td>\n",
       "      <td>1</td>\n",
       "      <td>1</td>\n",
       "      <td>GRC</td>\n",
       "      <td>0.326391</td>\n",
       "      <td>712.0</td>\n",
       "      <td>0.000564</td>\n",
       "      <td>0.396000</td>\n",
       "      <td>750.0</td>\n",
       "      <td>0.002696</td>\n",
       "    </tr>\n",
       "    <tr>\n",
       "      <th>1</th>\n",
       "      <td>john-utaka</td>\n",
       "      <td>John Utaka</td>\n",
       "      <td>Montpellier HSC</td>\n",
       "      <td>France</td>\n",
       "      <td>08.01.1982</td>\n",
       "      <td>179.0</td>\n",
       "      <td>82.0</td>\n",
       "      <td>Right Winger</td>\n",
       "      <td>1</td>\n",
       "      <td>0</td>\n",
       "      <td>...</td>\n",
       "      <td>0.75</td>\n",
       "      <td>2</td>\n",
       "      <td>2</td>\n",
       "      <td>ZMB</td>\n",
       "      <td>0.203375</td>\n",
       "      <td>40.0</td>\n",
       "      <td>0.010875</td>\n",
       "      <td>-0.204082</td>\n",
       "      <td>49.0</td>\n",
       "      <td>0.061504</td>\n",
       "    </tr>\n",
       "    <tr>\n",
       "      <th>2</th>\n",
       "      <td>abdon-prats</td>\n",
       "      <td>Abdón Prats</td>\n",
       "      <td>RCD Mallorca</td>\n",
       "      <td>Spain</td>\n",
       "      <td>17.12.1992</td>\n",
       "      <td>181.0</td>\n",
       "      <td>79.0</td>\n",
       "      <td>NaN</td>\n",
       "      <td>1</td>\n",
       "      <td>0</td>\n",
       "      <td>...</td>\n",
       "      <td>NaN</td>\n",
       "      <td>3</td>\n",
       "      <td>3</td>\n",
       "      <td>ESP</td>\n",
       "      <td>0.369894</td>\n",
       "      <td>1785.0</td>\n",
       "      <td>0.000229</td>\n",
       "      <td>0.588297</td>\n",
       "      <td>1897.0</td>\n",
       "      <td>0.001002</td>\n",
       "    </tr>\n",
       "    <tr>\n",
       "      <th>3</th>\n",
       "      <td>pablo-mari</td>\n",
       "      <td>Pablo Marí</td>\n",
       "      <td>RCD Mallorca</td>\n",
       "      <td>Spain</td>\n",
       "      <td>31.08.1993</td>\n",
       "      <td>191.0</td>\n",
       "      <td>87.0</td>\n",
       "      <td>Center Back</td>\n",
       "      <td>1</td>\n",
       "      <td>1</td>\n",
       "      <td>...</td>\n",
       "      <td>NaN</td>\n",
       "      <td>3</td>\n",
       "      <td>3</td>\n",
       "      <td>ESP</td>\n",
       "      <td>0.369894</td>\n",
       "      <td>1785.0</td>\n",
       "      <td>0.000229</td>\n",
       "      <td>0.588297</td>\n",
       "      <td>1897.0</td>\n",
       "      <td>0.001002</td>\n",
       "    </tr>\n",
       "    <tr>\n",
       "      <th>4</th>\n",
       "      <td>ruben-pena</td>\n",
       "      <td>Rubén Peña</td>\n",
       "      <td>Real Valladolid</td>\n",
       "      <td>Spain</td>\n",
       "      <td>18.07.1991</td>\n",
       "      <td>172.0</td>\n",
       "      <td>70.0</td>\n",
       "      <td>Right Midfielder</td>\n",
       "      <td>1</td>\n",
       "      <td>1</td>\n",
       "      <td>...</td>\n",
       "      <td>NaN</td>\n",
       "      <td>3</td>\n",
       "      <td>3</td>\n",
       "      <td>ESP</td>\n",
       "      <td>0.369894</td>\n",
       "      <td>1785.0</td>\n",
       "      <td>0.000229</td>\n",
       "      <td>0.588297</td>\n",
       "      <td>1897.0</td>\n",
       "      <td>0.001002</td>\n",
       "    </tr>\n",
       "  </tbody>\n",
       "</table>\n",
       "<p>5 rows × 28 columns</p>\n",
       "</div>"
      ],
      "text/plain": [
       "     playerShort         player             club leagueCountry    birthday  \\\n",
       "0  lucas-wilchez  Lucas Wilchez    Real Zaragoza         Spain  31.08.1983   \n",
       "1     john-utaka     John Utaka  Montpellier HSC        France  08.01.1982   \n",
       "2    abdon-prats    Abdón Prats     RCD Mallorca         Spain  17.12.1992   \n",
       "3     pablo-mari     Pablo Marí     RCD Mallorca         Spain  31.08.1993   \n",
       "4     ruben-pena     Rubén Peña  Real Valladolid         Spain  18.07.1991   \n",
       "\n",
       "   height  weight              position  games  victories  ...  rater2  \\\n",
       "0   177.0    72.0  Attacking Midfielder      1          0  ...    0.50   \n",
       "1   179.0    82.0          Right Winger      1          0  ...    0.75   \n",
       "2   181.0    79.0                   NaN      1          0  ...     NaN   \n",
       "3   191.0    87.0           Center Back      1          1  ...     NaN   \n",
       "4   172.0    70.0      Right Midfielder      1          1  ...     NaN   \n",
       "\n",
       "   refNum  refCountry  Alpha_3   meanIAT    nIAT     seIAT   meanExp    nExp  \\\n",
       "0       1           1      GRC  0.326391   712.0  0.000564  0.396000   750.0   \n",
       "1       2           2      ZMB  0.203375    40.0  0.010875 -0.204082    49.0   \n",
       "2       3           3      ESP  0.369894  1785.0  0.000229  0.588297  1897.0   \n",
       "3       3           3      ESP  0.369894  1785.0  0.000229  0.588297  1897.0   \n",
       "4       3           3      ESP  0.369894  1785.0  0.000229  0.588297  1897.0   \n",
       "\n",
       "      seExp  \n",
       "0  0.002696  \n",
       "1  0.061504  \n",
       "2  0.001002  \n",
       "3  0.001002  \n",
       "4  0.001002  \n",
       "\n",
       "[5 rows x 28 columns]"
      ]
     },
     "execution_count": 17,
     "metadata": {},
     "output_type": "execute_result"
    }
   ],
   "source": [
    "df = pd.read_csv('data\\CrowdstormingDataJuly1st.csv')\n",
    "df.head()"
   ]
  },
  {
   "cell_type": "code",
   "execution_count": 18,
   "id": "a69d7716a413d366",
   "metadata": {
    "ExecuteTime": {
     "end_time": "2023-10-05T07:52:32.158416798Z",
     "start_time": "2023-10-05T07:52:32.058051371Z"
    },
    "collapsed": false
   },
   "outputs": [
    {
     "data": {
      "text/html": [
       "<div>\n",
       "<style scoped>\n",
       "    .dataframe tbody tr th:only-of-type {\n",
       "        vertical-align: middle;\n",
       "    }\n",
       "\n",
       "    .dataframe tbody tr th {\n",
       "        vertical-align: top;\n",
       "    }\n",
       "\n",
       "    .dataframe thead th {\n",
       "        text-align: right;\n",
       "    }\n",
       "</style>\n",
       "<table border=\"1\" class=\"dataframe\">\n",
       "  <thead>\n",
       "    <tr style=\"text-align: right;\">\n",
       "      <th></th>\n",
       "      <th>playerShort</th>\n",
       "      <th>player</th>\n",
       "      <th>club</th>\n",
       "      <th>leagueCountry</th>\n",
       "      <th>birthday</th>\n",
       "      <th>height</th>\n",
       "      <th>weight</th>\n",
       "      <th>position</th>\n",
       "      <th>games</th>\n",
       "      <th>victories</th>\n",
       "      <th>...</th>\n",
       "      <th>rater2</th>\n",
       "      <th>refNum</th>\n",
       "      <th>refCountry</th>\n",
       "      <th>Alpha_3</th>\n",
       "      <th>meanIAT</th>\n",
       "      <th>nIAT</th>\n",
       "      <th>seIAT</th>\n",
       "      <th>meanExp</th>\n",
       "      <th>nExp</th>\n",
       "      <th>seExp</th>\n",
       "    </tr>\n",
       "  </thead>\n",
       "  <tbody>\n",
       "    <tr>\n",
       "      <th>0</th>\n",
       "      <td>lucas-wilchez</td>\n",
       "      <td>Lucas Wilchez</td>\n",
       "      <td>Real Zaragoza</td>\n",
       "      <td>Spain</td>\n",
       "      <td>31.08.1983</td>\n",
       "      <td>177.0</td>\n",
       "      <td>72.0</td>\n",
       "      <td>Attacking Midfielder</td>\n",
       "      <td>1</td>\n",
       "      <td>0</td>\n",
       "      <td>...</td>\n",
       "      <td>0.50</td>\n",
       "      <td>1</td>\n",
       "      <td>1</td>\n",
       "      <td>GRC</td>\n",
       "      <td>0.326391</td>\n",
       "      <td>712.0</td>\n",
       "      <td>0.000564</td>\n",
       "      <td>0.396000</td>\n",
       "      <td>750.0</td>\n",
       "      <td>0.002696</td>\n",
       "    </tr>\n",
       "    <tr>\n",
       "      <th>1</th>\n",
       "      <td>john-utaka</td>\n",
       "      <td>John Utaka</td>\n",
       "      <td>Montpellier HSC</td>\n",
       "      <td>France</td>\n",
       "      <td>08.01.1982</td>\n",
       "      <td>179.0</td>\n",
       "      <td>82.0</td>\n",
       "      <td>Right Winger</td>\n",
       "      <td>1</td>\n",
       "      <td>0</td>\n",
       "      <td>...</td>\n",
       "      <td>0.75</td>\n",
       "      <td>2</td>\n",
       "      <td>2</td>\n",
       "      <td>ZMB</td>\n",
       "      <td>0.203375</td>\n",
       "      <td>40.0</td>\n",
       "      <td>0.010875</td>\n",
       "      <td>-0.204082</td>\n",
       "      <td>49.0</td>\n",
       "      <td>0.061504</td>\n",
       "    </tr>\n",
       "    <tr>\n",
       "      <th>2</th>\n",
       "      <td>abdon-prats</td>\n",
       "      <td>Abdón Prats</td>\n",
       "      <td>RCD Mallorca</td>\n",
       "      <td>Spain</td>\n",
       "      <td>17.12.1992</td>\n",
       "      <td>181.0</td>\n",
       "      <td>79.0</td>\n",
       "      <td>NaN</td>\n",
       "      <td>1</td>\n",
       "      <td>0</td>\n",
       "      <td>...</td>\n",
       "      <td>NaN</td>\n",
       "      <td>3</td>\n",
       "      <td>3</td>\n",
       "      <td>ESP</td>\n",
       "      <td>0.369894</td>\n",
       "      <td>1785.0</td>\n",
       "      <td>0.000229</td>\n",
       "      <td>0.588297</td>\n",
       "      <td>1897.0</td>\n",
       "      <td>0.001002</td>\n",
       "    </tr>\n",
       "    <tr>\n",
       "      <th>3</th>\n",
       "      <td>pablo-mari</td>\n",
       "      <td>Pablo Marí</td>\n",
       "      <td>RCD Mallorca</td>\n",
       "      <td>Spain</td>\n",
       "      <td>31.08.1993</td>\n",
       "      <td>191.0</td>\n",
       "      <td>87.0</td>\n",
       "      <td>Center Back</td>\n",
       "      <td>1</td>\n",
       "      <td>1</td>\n",
       "      <td>...</td>\n",
       "      <td>NaN</td>\n",
       "      <td>3</td>\n",
       "      <td>3</td>\n",
       "      <td>ESP</td>\n",
       "      <td>0.369894</td>\n",
       "      <td>1785.0</td>\n",
       "      <td>0.000229</td>\n",
       "      <td>0.588297</td>\n",
       "      <td>1897.0</td>\n",
       "      <td>0.001002</td>\n",
       "    </tr>\n",
       "    <tr>\n",
       "      <th>4</th>\n",
       "      <td>ruben-pena</td>\n",
       "      <td>Rubén Peña</td>\n",
       "      <td>Real Valladolid</td>\n",
       "      <td>Spain</td>\n",
       "      <td>18.07.1991</td>\n",
       "      <td>172.0</td>\n",
       "      <td>70.0</td>\n",
       "      <td>Right Midfielder</td>\n",
       "      <td>1</td>\n",
       "      <td>1</td>\n",
       "      <td>...</td>\n",
       "      <td>NaN</td>\n",
       "      <td>3</td>\n",
       "      <td>3</td>\n",
       "      <td>ESP</td>\n",
       "      <td>0.369894</td>\n",
       "      <td>1785.0</td>\n",
       "      <td>0.000229</td>\n",
       "      <td>0.588297</td>\n",
       "      <td>1897.0</td>\n",
       "      <td>0.001002</td>\n",
       "    </tr>\n",
       "    <tr>\n",
       "      <th>...</th>\n",
       "      <td>...</td>\n",
       "      <td>...</td>\n",
       "      <td>...</td>\n",
       "      <td>...</td>\n",
       "      <td>...</td>\n",
       "      <td>...</td>\n",
       "      <td>...</td>\n",
       "      <td>...</td>\n",
       "      <td>...</td>\n",
       "      <td>...</td>\n",
       "      <td>...</td>\n",
       "      <td>...</td>\n",
       "      <td>...</td>\n",
       "      <td>...</td>\n",
       "      <td>...</td>\n",
       "      <td>...</td>\n",
       "      <td>...</td>\n",
       "      <td>...</td>\n",
       "      <td>...</td>\n",
       "      <td>...</td>\n",
       "      <td>...</td>\n",
       "    </tr>\n",
       "    <tr>\n",
       "      <th>146023</th>\n",
       "      <td>tomas-rosicky</td>\n",
       "      <td>Tomáš Rosický</td>\n",
       "      <td>Arsenal FC</td>\n",
       "      <td>England</td>\n",
       "      <td>04.10.1980</td>\n",
       "      <td>178.0</td>\n",
       "      <td>67.0</td>\n",
       "      <td>Attacking Midfielder</td>\n",
       "      <td>1</td>\n",
       "      <td>1</td>\n",
       "      <td>...</td>\n",
       "      <td>0.00</td>\n",
       "      <td>3147</td>\n",
       "      <td>21</td>\n",
       "      <td>HUN</td>\n",
       "      <td>0.376127</td>\n",
       "      <td>574.0</td>\n",
       "      <td>0.000714</td>\n",
       "      <td>0.498350</td>\n",
       "      <td>606.0</td>\n",
       "      <td>0.002968</td>\n",
       "    </tr>\n",
       "    <tr>\n",
       "      <th>146024</th>\n",
       "      <td>winston-reid</td>\n",
       "      <td>Winston Reid</td>\n",
       "      <td>West Ham United</td>\n",
       "      <td>England</td>\n",
       "      <td>03.07.1988</td>\n",
       "      <td>190.0</td>\n",
       "      <td>87.0</td>\n",
       "      <td>Center Back</td>\n",
       "      <td>1</td>\n",
       "      <td>0</td>\n",
       "      <td>...</td>\n",
       "      <td>0.50</td>\n",
       "      <td>3147</td>\n",
       "      <td>21</td>\n",
       "      <td>HUN</td>\n",
       "      <td>0.376127</td>\n",
       "      <td>574.0</td>\n",
       "      <td>0.000714</td>\n",
       "      <td>0.498350</td>\n",
       "      <td>606.0</td>\n",
       "      <td>0.002968</td>\n",
       "    </tr>\n",
       "    <tr>\n",
       "      <th>146025</th>\n",
       "      <td>xherdan-shaqiri</td>\n",
       "      <td>Xherdan Shaqiri</td>\n",
       "      <td>Bayern München</td>\n",
       "      <td>Germany</td>\n",
       "      <td>10.10.1991</td>\n",
       "      <td>169.0</td>\n",
       "      <td>72.0</td>\n",
       "      <td>Left Midfielder</td>\n",
       "      <td>1</td>\n",
       "      <td>1</td>\n",
       "      <td>...</td>\n",
       "      <td>0.25</td>\n",
       "      <td>3147</td>\n",
       "      <td>21</td>\n",
       "      <td>HUN</td>\n",
       "      <td>0.376127</td>\n",
       "      <td>574.0</td>\n",
       "      <td>0.000714</td>\n",
       "      <td>0.498350</td>\n",
       "      <td>606.0</td>\n",
       "      <td>0.002968</td>\n",
       "    </tr>\n",
       "    <tr>\n",
       "      <th>146026</th>\n",
       "      <td>yassine-el-ghanassi</td>\n",
       "      <td>Yassine El Ghanassi</td>\n",
       "      <td>West Bromwich Albion</td>\n",
       "      <td>England</td>\n",
       "      <td>12.07.1990</td>\n",
       "      <td>173.0</td>\n",
       "      <td>NaN</td>\n",
       "      <td>Left Winger</td>\n",
       "      <td>1</td>\n",
       "      <td>0</td>\n",
       "      <td>...</td>\n",
       "      <td>0.50</td>\n",
       "      <td>3147</td>\n",
       "      <td>21</td>\n",
       "      <td>HUN</td>\n",
       "      <td>0.376127</td>\n",
       "      <td>574.0</td>\n",
       "      <td>0.000714</td>\n",
       "      <td>0.498350</td>\n",
       "      <td>606.0</td>\n",
       "      <td>0.002968</td>\n",
       "    </tr>\n",
       "    <tr>\n",
       "      <th>146027</th>\n",
       "      <td>zdenk-pospch</td>\n",
       "      <td>Zdeněk Pospěch</td>\n",
       "      <td>1. FSV Mainz 05</td>\n",
       "      <td>Germany</td>\n",
       "      <td>14.12.1978</td>\n",
       "      <td>174.0</td>\n",
       "      <td>72.0</td>\n",
       "      <td>Right Fullback</td>\n",
       "      <td>1</td>\n",
       "      <td>0</td>\n",
       "      <td>...</td>\n",
       "      <td>0.25</td>\n",
       "      <td>3147</td>\n",
       "      <td>21</td>\n",
       "      <td>HUN</td>\n",
       "      <td>0.376127</td>\n",
       "      <td>574.0</td>\n",
       "      <td>0.000714</td>\n",
       "      <td>0.498350</td>\n",
       "      <td>606.0</td>\n",
       "      <td>0.002968</td>\n",
       "    </tr>\n",
       "  </tbody>\n",
       "</table>\n",
       "<p>146028 rows × 28 columns</p>\n",
       "</div>"
      ],
      "text/plain": [
       "                playerShort               player                  club  \\\n",
       "0             lucas-wilchez        Lucas Wilchez         Real Zaragoza   \n",
       "1                john-utaka           John Utaka       Montpellier HSC   \n",
       "2               abdon-prats          Abdón Prats          RCD Mallorca   \n",
       "3                pablo-mari           Pablo Marí          RCD Mallorca   \n",
       "4                ruben-pena           Rubén Peña       Real Valladolid   \n",
       "...                     ...                  ...                   ...   \n",
       "146023        tomas-rosicky        Tomáš Rosický            Arsenal FC   \n",
       "146024         winston-reid         Winston Reid       West Ham United   \n",
       "146025      xherdan-shaqiri      Xherdan Shaqiri        Bayern München   \n",
       "146026  yassine-el-ghanassi  Yassine El Ghanassi  West Bromwich Albion   \n",
       "146027         zdenk-pospch       Zdeněk Pospěch       1. FSV Mainz 05   \n",
       "\n",
       "       leagueCountry    birthday  height  weight              position  games  \\\n",
       "0              Spain  31.08.1983   177.0    72.0  Attacking Midfielder      1   \n",
       "1             France  08.01.1982   179.0    82.0          Right Winger      1   \n",
       "2              Spain  17.12.1992   181.0    79.0                   NaN      1   \n",
       "3              Spain  31.08.1993   191.0    87.0           Center Back      1   \n",
       "4              Spain  18.07.1991   172.0    70.0      Right Midfielder      1   \n",
       "...              ...         ...     ...     ...                   ...    ...   \n",
       "146023       England  04.10.1980   178.0    67.0  Attacking Midfielder      1   \n",
       "146024       England  03.07.1988   190.0    87.0           Center Back      1   \n",
       "146025       Germany  10.10.1991   169.0    72.0       Left Midfielder      1   \n",
       "146026       England  12.07.1990   173.0     NaN           Left Winger      1   \n",
       "146027       Germany  14.12.1978   174.0    72.0        Right Fullback      1   \n",
       "\n",
       "        victories  ...  rater2  refNum  refCountry  Alpha_3   meanIAT    nIAT  \\\n",
       "0               0  ...    0.50       1           1      GRC  0.326391   712.0   \n",
       "1               0  ...    0.75       2           2      ZMB  0.203375    40.0   \n",
       "2               0  ...     NaN       3           3      ESP  0.369894  1785.0   \n",
       "3               1  ...     NaN       3           3      ESP  0.369894  1785.0   \n",
       "4               1  ...     NaN       3           3      ESP  0.369894  1785.0   \n",
       "...           ...  ...     ...     ...         ...      ...       ...     ...   \n",
       "146023          1  ...    0.00    3147          21      HUN  0.376127   574.0   \n",
       "146024          0  ...    0.50    3147          21      HUN  0.376127   574.0   \n",
       "146025          1  ...    0.25    3147          21      HUN  0.376127   574.0   \n",
       "146026          0  ...    0.50    3147          21      HUN  0.376127   574.0   \n",
       "146027          0  ...    0.25    3147          21      HUN  0.376127   574.0   \n",
       "\n",
       "           seIAT   meanExp    nExp     seExp  \n",
       "0       0.000564  0.396000   750.0  0.002696  \n",
       "1       0.010875 -0.204082    49.0  0.061504  \n",
       "2       0.000229  0.588297  1897.0  0.001002  \n",
       "3       0.000229  0.588297  1897.0  0.001002  \n",
       "4       0.000229  0.588297  1897.0  0.001002  \n",
       "...          ...       ...     ...       ...  \n",
       "146023  0.000714  0.498350   606.0  0.002968  \n",
       "146024  0.000714  0.498350   606.0  0.002968  \n",
       "146025  0.000714  0.498350   606.0  0.002968  \n",
       "146026  0.000714  0.498350   606.0  0.002968  \n",
       "146027  0.000714  0.498350   606.0  0.002968  \n",
       "\n",
       "[146028 rows x 28 columns]"
      ]
     },
     "execution_count": 18,
     "metadata": {},
     "output_type": "execute_result"
    }
   ],
   "source": [
    "df"
   ]
  },
  {
   "cell_type": "markdown",
   "id": "7bc08990ef4d242e",
   "metadata": {
    "collapsed": false
   },
   "source": [
    "To look at the columns, we can use .columns."
   ]
  },
  {
   "cell_type": "code",
   "execution_count": 19,
   "id": "98d8789cc768d2b3",
   "metadata": {
    "ExecuteTime": {
     "end_time": "2023-10-05T07:52:32.158963510Z",
     "start_time": "2023-10-05T07:52:32.120804656Z"
    },
    "colab": {
     "base_uri": "https://localhost:8080/"
    },
    "id": "98d8789cc768d2b3",
    "outputId": "879407c1-66bf-4b50-c6ba-603fdb15ba2c"
   },
   "outputs": [
    {
     "data": {
      "text/plain": [
       "Index(['playerShort', 'player', 'club', 'leagueCountry', 'birthday', 'height',\n",
       "       'weight', 'position', 'games', 'victories', 'ties', 'defeats', 'goals',\n",
       "       'yellowCards', 'yellowReds', 'redCards', 'photoID', 'rater1', 'rater2',\n",
       "       'refNum', 'refCountry', 'Alpha_3', 'meanIAT', 'nIAT', 'seIAT',\n",
       "       'meanExp', 'nExp', 'seExp'],\n",
       "      dtype='object')"
      ]
     },
     "execution_count": 19,
     "metadata": {},
     "output_type": "execute_result"
    }
   ],
   "source": [
    "df.columns"
   ]
  },
  {
   "cell_type": "markdown",
   "id": "4b91e86b76536d38",
   "metadata": {
    "collapsed": false
   },
   "source": [
    "The way you read the shape is (rows, columns).\n",
    "You can also look at the number of rows using len(), or check in your notebook when printing out the DataFrame."
   ]
  },
  {
   "cell_type": "code",
   "execution_count": 20,
   "id": "73223e44d4c1ff5c",
   "metadata": {
    "ExecuteTime": {
     "end_time": "2023-10-05T07:52:32.204206409Z",
     "start_time": "2023-10-05T07:52:32.151593371Z"
    },
    "colab": {
     "base_uri": "https://localhost:8080/"
    },
    "id": "73223e44d4c1ff5c",
    "outputId": "371fadf5-2f37-4e76-a911-c7e3702f1f93"
   },
   "outputs": [
    {
     "data": {
      "text/plain": [
       "(146028, 28)"
      ]
     },
     "execution_count": 20,
     "metadata": {},
     "output_type": "execute_result"
    }
   ],
   "source": [
    "df.shape"
   ]
  },
  {
   "cell_type": "markdown",
   "id": "9e4c72db24c6dd9d",
   "metadata": {
    "collapsed": false,
    "id": "9e4c72db24c6dd9d"
   },
   "source": [
    "# 2. Clean the data\n",
    "Here we use a very simple approach to clean the data. We remove all the rows that contain missing values. You can try a more sophisticated approach if you want.\n",
    "\n",
    "\n",
    "In `pandas`, `NaN` (Not a Number) values represent missing or undefined data. `NaN` values can occur when loading datasets, during data manipulation, or when performing calculations. They are often used as a placeholder for missing or unrepresentable data.\n",
    "\n",
    "Handling `NaN` values is essential as they can affect the results of data analysis and machine learning algorithms. Here are a few ways to handle `NaN` values in pandas:\n",
    "- You can use the [`dropna()`](https://pandas.pydata.org/docs/reference/api/pandas.DataFrame.dropna.html) method to remove any rows or columns that contain NaN values from a DataFrame.\n",
    "- You can use the [`fillna()`](https://pandas.pydata.org/docs/reference/api/pandas.DataFrame.fillna.html) method to replace `NaN` values with a specific value or a method (like forward fill or backward fill).\n",
    "\n",
    "For simplicity's sake we want to just remove all rows that have `NaN` values.\n",
    "\n",
    "Look up how we could do backfill and forward fill and what doing that would mean in our case. Can you construct a case (on another dataset, or an imagined dataset) where filling is useful?"
   ]
  },
  {
   "cell_type": "code",
   "execution_count": 21,
   "id": "e7333e2f25a544f0",
   "metadata": {
    "ExecuteTime": {
     "end_time": "2023-10-05T07:52:32.291817058Z",
     "start_time": "2023-10-05T07:52:32.169549964Z"
    },
    "colab": {
     "base_uri": "https://localhost:8080/"
    },
    "id": "e7333e2f25a544f0",
    "outputId": "35d5ae82-1aaa-4464-a308-50d76a52e861"
   },
   "outputs": [
    {
     "data": {
      "text/plain": [
       "(115457, 28)"
      ]
     },
     "execution_count": 21,
     "metadata": {},
     "output_type": "execute_result"
    }
   ],
   "source": [
    "df = df.dropna()\n",
    "\n",
    "# confirm that the size went down\n",
    "df.shape"
   ]
  },
  {
   "cell_type": "markdown",
   "id": "bae1b95c91d76588",
   "metadata": {
    "collapsed": false,
    "id": "bae1b95c91d76588"
   },
   "source": []
  },
  {
   "cell_type": "code",
   "execution_count": 22,
   "id": "94c9f6d9449008c1",
   "metadata": {
    "ExecuteTime": {
     "end_time": "2023-10-05T07:52:32.292253558Z",
     "start_time": "2023-10-05T07:52:32.213183173Z"
    },
    "colab": {
     "base_uri": "https://localhost:8080/"
    },
    "id": "94c9f6d9449008c1",
    "outputId": "8e99911f-3e04-4555-e54c-3bf2e94daf4e"
   },
   "outputs": [
    {
     "data": {
      "text/plain": [
       "115457"
      ]
     },
     "execution_count": 22,
     "metadata": {},
     "output_type": "execute_result"
    }
   ],
   "source": [
    "len(df)"
   ]
  },
  {
   "cell_type": "markdown",
   "id": "a5c9e590c50b7f8b",
   "metadata": {
    "collapsed": false
   },
   "source": [
    "## A Note about `NaN` and `NaT`\n",
    "\n",
    "Note that `NaN != NaN`!\n",
    "\n",
    "You can find a detailed explanation of why this is the case [here](https://stackoverflow.com/a/1573715/5320601).\n",
    "\n",
    "In short:\n",
    "\n",
    "- `a == b` should hold if `(a - b) == 0`\n",
    "- but then what is `(a - NaN)`?\n",
    "\n",
    "The way to check for `NaN` values is to use [`.isna()`](https://pandas.pydata.org/docs/reference/api/pandas.DataFrame.isna.html).\n",
    "\n",
    "There is also [`NaT`](https://pandas.pydata.org/docs/reference/api/pandas.NaT.html), which is used for missing time values (like a datetime column), and [`NA`](https://pandas.pydata.org/docs/user_guide/missing_data.html#missing-data-na) which is still experimental and whose behaviour could change without warning between versions of `pandas`."
   ]
  },
  {
   "cell_type": "code",
   "execution_count": 23,
   "id": "f64b8998e564b778",
   "metadata": {
    "ExecuteTime": {
     "end_time": "2023-10-05T07:57:17.813090688Z",
     "start_time": "2023-10-05T07:57:17.767158720Z"
    },
    "collapsed": false
   },
   "outputs": [
    {
     "data": {
      "text/plain": [
       "False"
      ]
     },
     "execution_count": 23,
     "metadata": {},
     "output_type": "execute_result"
    }
   ],
   "source": [
    "a = np.nan\n",
    "b = np.nan\n",
    "\n",
    "a == b"
   ]
  },
  {
   "cell_type": "code",
   "execution_count": 24,
   "id": "998e023467bc17fa",
   "metadata": {
    "ExecuteTime": {
     "end_time": "2023-10-05T07:57:21.996631715Z",
     "start_time": "2023-10-05T07:57:21.972675942Z"
    },
    "collapsed": false
   },
   "outputs": [
    {
     "name": "stdout",
     "output_type": "stream",
     "text": [
      "NaN and None equality:         False\n",
      "None and None equality:        True\n",
      "NaN and NaN equality:          False\n"
     ]
    }
   ],
   "source": [
    "print(f'{\"NaN and None equality:\":<30} {np.nan == None}')\n",
    "print(f'{\"None and None equality:\":<30} {None == None}')\n",
    "print(f'{\"NaN and NaN equality:\":<30} {np.nan == np.nan}')"
   ]
  },
  {
   "cell_type": "markdown",
   "id": "63e08bfc5799af13",
   "metadata": {
    "collapsed": false
   },
   "source": [
    "Keep in mind that this can behave unexpectedly if you are not aware of it.\n"
   ]
  },
  {
   "cell_type": "markdown",
   "id": "fe66e5e2089e2025",
   "metadata": {
    "collapsed": false
   },
   "source": [
    "Here we create a DataFrame with integers, and add a row with a missing value. For the missing value we use `None`."
   ]
  },
  {
   "cell_type": "code",
   "execution_count": 25,
   "id": "2c951dc3fea1ff9b",
   "metadata": {
    "ExecuteTime": {
     "end_time": "2023-10-05T07:57:56.571088700Z",
     "start_time": "2023-10-05T07:57:56.536979252Z"
    },
    "collapsed": false
   },
   "outputs": [
    {
     "data": {
      "text/html": [
       "<div>\n",
       "<style scoped>\n",
       "    .dataframe tbody tr th:only-of-type {\n",
       "        vertical-align: middle;\n",
       "    }\n",
       "\n",
       "    .dataframe tbody tr th {\n",
       "        vertical-align: top;\n",
       "    }\n",
       "\n",
       "    .dataframe thead th {\n",
       "        text-align: right;\n",
       "    }\n",
       "</style>\n",
       "<table border=\"1\" class=\"dataframe\">\n",
       "  <thead>\n",
       "    <tr style=\"text-align: right;\">\n",
       "      <th></th>\n",
       "      <th>a</th>\n",
       "      <th>b</th>\n",
       "      <th>c</th>\n",
       "    </tr>\n",
       "  </thead>\n",
       "  <tbody>\n",
       "    <tr>\n",
       "      <th>0</th>\n",
       "      <td>0</td>\n",
       "      <td>1</td>\n",
       "      <td>2</td>\n",
       "    </tr>\n",
       "    <tr>\n",
       "      <th>1</th>\n",
       "      <td>3</td>\n",
       "      <td>4</td>\n",
       "      <td>5</td>\n",
       "    </tr>\n",
       "  </tbody>\n",
       "</table>\n",
       "</div>"
      ],
      "text/plain": [
       "   a  b  c\n",
       "0  0  1  2\n",
       "1  3  4  5"
      ]
     },
     "execution_count": 25,
     "metadata": {},
     "output_type": "execute_result"
    }
   ],
   "source": [
    "_numbers = pd.DataFrame(\n",
    "    [[0, 1, 2], [3, 4, 5]],\n",
    "    columns=['a', 'b', 'c']\n",
    ")\n",
    "_numbers"
   ]
  },
  {
   "cell_type": "markdown",
   "id": "9b7521ad11c54261",
   "metadata": {
    "collapsed": false
   },
   "source": [
    "We see that this `None` becomes `NaN` in the DataFrame. That is because the dtype of the column is `float64` and `None` is not a number (`NaN`)."
   ]
  },
  {
   "cell_type": "code",
   "execution_count": 26,
   "id": "fef6851a0038fa13",
   "metadata": {
    "ExecuteTime": {
     "end_time": "2023-10-05T07:58:08.628401330Z",
     "start_time": "2023-10-05T07:58:08.613544105Z"
    },
    "collapsed": false
   },
   "outputs": [
    {
     "data": {
      "text/html": [
       "<div>\n",
       "<style scoped>\n",
       "    .dataframe tbody tr th:only-of-type {\n",
       "        vertical-align: middle;\n",
       "    }\n",
       "\n",
       "    .dataframe tbody tr th {\n",
       "        vertical-align: top;\n",
       "    }\n",
       "\n",
       "    .dataframe thead th {\n",
       "        text-align: right;\n",
       "    }\n",
       "</style>\n",
       "<table border=\"1\" class=\"dataframe\">\n",
       "  <thead>\n",
       "    <tr style=\"text-align: right;\">\n",
       "      <th></th>\n",
       "      <th>a</th>\n",
       "      <th>b</th>\n",
       "      <th>c</th>\n",
       "    </tr>\n",
       "  </thead>\n",
       "  <tbody>\n",
       "    <tr>\n",
       "      <th>0</th>\n",
       "      <td>0.0</td>\n",
       "      <td>1.0</td>\n",
       "      <td>2.0</td>\n",
       "    </tr>\n",
       "    <tr>\n",
       "      <th>1</th>\n",
       "      <td>3.0</td>\n",
       "      <td>4.0</td>\n",
       "      <td>5.0</td>\n",
       "    </tr>\n",
       "    <tr>\n",
       "      <th>2</th>\n",
       "      <td>6.0</td>\n",
       "      <td>7.0</td>\n",
       "      <td>NaN</td>\n",
       "    </tr>\n",
       "  </tbody>\n",
       "</table>\n",
       "</div>"
      ],
      "text/plain": [
       "     a    b    c\n",
       "0  0.0  1.0  2.0\n",
       "1  3.0  4.0  5.0\n",
       "2  6.0  7.0  NaN"
      ]
     },
     "execution_count": 26,
     "metadata": {},
     "output_type": "execute_result"
    }
   ],
   "source": [
    "_numbers.loc[2] = [6, 7, None]\n",
    "_numbers"
   ]
  },
  {
   "cell_type": "code",
   "execution_count": 27,
   "id": "531fcc7174b48e39",
   "metadata": {
    "ExecuteTime": {
     "end_time": "2023-10-05T07:58:39.462964894Z",
     "start_time": "2023-10-05T07:58:39.441675888Z"
    },
    "collapsed": false
   },
   "outputs": [
    {
     "data": {
      "text/plain": [
       "a    float64\n",
       "b    float64\n",
       "c    float64\n",
       "dtype: object"
      ]
     },
     "execution_count": 27,
     "metadata": {},
     "output_type": "execute_result"
    }
   ],
   "source": [
    "_numbers.dtypes"
   ]
  },
  {
   "cell_type": "markdown",
   "id": "c67ab60af97fe05f",
   "metadata": {
    "collapsed": false
   },
   "source": [
    "When we do the same with strings though, this is different."
   ]
  },
  {
   "cell_type": "code",
   "execution_count": 28,
   "id": "1d6bba40c046ddcf",
   "metadata": {
    "ExecuteTime": {
     "end_time": "2023-10-05T07:58:46.564306552Z",
     "start_time": "2023-10-05T07:58:46.534977297Z"
    },
    "collapsed": false
   },
   "outputs": [
    {
     "data": {
      "text/html": [
       "<div>\n",
       "<style scoped>\n",
       "    .dataframe tbody tr th:only-of-type {\n",
       "        vertical-align: middle;\n",
       "    }\n",
       "\n",
       "    .dataframe tbody tr th {\n",
       "        vertical-align: top;\n",
       "    }\n",
       "\n",
       "    .dataframe thead th {\n",
       "        text-align: right;\n",
       "    }\n",
       "</style>\n",
       "<table border=\"1\" class=\"dataframe\">\n",
       "  <thead>\n",
       "    <tr style=\"text-align: right;\">\n",
       "      <th></th>\n",
       "      <th>Fruit</th>\n",
       "      <th>Color</th>\n",
       "    </tr>\n",
       "  </thead>\n",
       "  <tbody>\n",
       "    <tr>\n",
       "      <th>0</th>\n",
       "      <td>Apple</td>\n",
       "      <td>red</td>\n",
       "    </tr>\n",
       "    <tr>\n",
       "      <th>1</th>\n",
       "      <td>Banana</td>\n",
       "      <td>yellow</td>\n",
       "    </tr>\n",
       "  </tbody>\n",
       "</table>\n",
       "</div>"
      ],
      "text/plain": [
       "    Fruit   Color\n",
       "0   Apple     red\n",
       "1  Banana  yellow"
      ]
     },
     "execution_count": 28,
     "metadata": {},
     "output_type": "execute_result"
    }
   ],
   "source": [
    "_strings = pd.DataFrame(\n",
    "    [['Apple', 'red'], ['Banana', 'yellow']],\n",
    "    columns=['Fruit', 'Color']\n",
    ")\n",
    "_strings"
   ]
  },
  {
   "cell_type": "code",
   "execution_count": 29,
   "id": "b614bfbf2eadf8eb",
   "metadata": {
    "ExecuteTime": {
     "end_time": "2023-10-05T07:58:51.723273423Z",
     "start_time": "2023-10-05T07:58:51.704115845Z"
    },
    "collapsed": false
   },
   "outputs": [
    {
     "data": {
      "text/html": [
       "<div>\n",
       "<style scoped>\n",
       "    .dataframe tbody tr th:only-of-type {\n",
       "        vertical-align: middle;\n",
       "    }\n",
       "\n",
       "    .dataframe tbody tr th {\n",
       "        vertical-align: top;\n",
       "    }\n",
       "\n",
       "    .dataframe thead th {\n",
       "        text-align: right;\n",
       "    }\n",
       "</style>\n",
       "<table border=\"1\" class=\"dataframe\">\n",
       "  <thead>\n",
       "    <tr style=\"text-align: right;\">\n",
       "      <th></th>\n",
       "      <th>Fruit</th>\n",
       "      <th>Color</th>\n",
       "    </tr>\n",
       "  </thead>\n",
       "  <tbody>\n",
       "    <tr>\n",
       "      <th>0</th>\n",
       "      <td>Apple</td>\n",
       "      <td>red</td>\n",
       "    </tr>\n",
       "    <tr>\n",
       "      <th>1</th>\n",
       "      <td>Banana</td>\n",
       "      <td>yellow</td>\n",
       "    </tr>\n",
       "    <tr>\n",
       "      <th>2</th>\n",
       "      <td>Cherry</td>\n",
       "      <td>None</td>\n",
       "    </tr>\n",
       "  </tbody>\n",
       "</table>\n",
       "</div>"
      ],
      "text/plain": [
       "    Fruit   Color\n",
       "0   Apple     red\n",
       "1  Banana  yellow\n",
       "2  Cherry    None"
      ]
     },
     "execution_count": 29,
     "metadata": {},
     "output_type": "execute_result"
    }
   ],
   "source": [
    "_strings.loc[2] = ['Cherry', None]\n",
    "_strings"
   ]
  },
  {
   "cell_type": "code",
   "execution_count": 30,
   "id": "ebc58a968a571fd3",
   "metadata": {
    "ExecuteTime": {
     "end_time": "2023-10-05T07:59:07.338306726Z",
     "start_time": "2023-10-05T07:59:07.326922677Z"
    },
    "collapsed": false
   },
   "outputs": [
    {
     "data": {
      "text/plain": [
       "Fruit    object\n",
       "Color    object\n",
       "dtype: object"
      ]
     },
     "execution_count": 30,
     "metadata": {},
     "output_type": "execute_result"
    }
   ],
   "source": [
    "_strings.dtypes"
   ]
  },
  {
   "cell_type": "code",
   "execution_count": 31,
   "id": "1228ccccaddc7b7a",
   "metadata": {
    "ExecuteTime": {
     "end_time": "2023-10-05T07:59:14.270485154Z",
     "start_time": "2023-10-05T07:59:14.258590088Z"
    },
    "collapsed": false
   },
   "outputs": [
    {
     "data": {
      "text/html": [
       "<div>\n",
       "<style scoped>\n",
       "    .dataframe tbody tr th:only-of-type {\n",
       "        vertical-align: middle;\n",
       "    }\n",
       "\n",
       "    .dataframe tbody tr th {\n",
       "        vertical-align: top;\n",
       "    }\n",
       "\n",
       "    .dataframe thead th {\n",
       "        text-align: right;\n",
       "    }\n",
       "</style>\n",
       "<table border=\"1\" class=\"dataframe\">\n",
       "  <thead>\n",
       "    <tr style=\"text-align: right;\">\n",
       "      <th></th>\n",
       "      <th>Fruit</th>\n",
       "      <th>Color</th>\n",
       "    </tr>\n",
       "  </thead>\n",
       "  <tbody>\n",
       "    <tr>\n",
       "      <th>0</th>\n",
       "      <td>Apple</td>\n",
       "      <td>red</td>\n",
       "    </tr>\n",
       "    <tr>\n",
       "      <th>1</th>\n",
       "      <td>Banana</td>\n",
       "      <td>yellow</td>\n",
       "    </tr>\n",
       "    <tr>\n",
       "      <th>2</th>\n",
       "      <td>Cherry</td>\n",
       "      <td>None</td>\n",
       "    </tr>\n",
       "  </tbody>\n",
       "</table>\n",
       "</div>"
      ],
      "text/plain": [
       "    Fruit   Color\n",
       "0   Apple     red\n",
       "1  Banana  yellow\n",
       "2  Cherry    None"
      ]
     },
     "execution_count": 31,
     "metadata": {},
     "output_type": "execute_result"
    }
   ],
   "source": [
    "_strings"
   ]
  },
  {
   "cell_type": "code",
   "execution_count": 32,
   "id": "58da1f9a19def40e",
   "metadata": {
    "ExecuteTime": {
     "end_time": "2023-10-05T07:59:17.910319213Z",
     "start_time": "2023-10-05T07:59:17.885956361Z"
    },
    "collapsed": false
   },
   "outputs": [
    {
     "data": {
      "text/html": [
       "<div>\n",
       "<style scoped>\n",
       "    .dataframe tbody tr th:only-of-type {\n",
       "        vertical-align: middle;\n",
       "    }\n",
       "\n",
       "    .dataframe tbody tr th {\n",
       "        vertical-align: top;\n",
       "    }\n",
       "\n",
       "    .dataframe thead th {\n",
       "        text-align: right;\n",
       "    }\n",
       "</style>\n",
       "<table border=\"1\" class=\"dataframe\">\n",
       "  <thead>\n",
       "    <tr style=\"text-align: right;\">\n",
       "      <th></th>\n",
       "      <th>Fruit</th>\n",
       "      <th>Color</th>\n",
       "    </tr>\n",
       "  </thead>\n",
       "  <tbody>\n",
       "    <tr>\n",
       "      <th>0</th>\n",
       "      <td>Apple</td>\n",
       "      <td>red</td>\n",
       "    </tr>\n",
       "    <tr>\n",
       "      <th>1</th>\n",
       "      <td>Banana</td>\n",
       "      <td>yellow</td>\n",
       "    </tr>\n",
       "  </tbody>\n",
       "</table>\n",
       "</div>"
      ],
      "text/plain": [
       "    Fruit   Color\n",
       "0   Apple     red\n",
       "1  Banana  yellow"
      ]
     },
     "execution_count": 32,
     "metadata": {},
     "output_type": "execute_result"
    }
   ],
   "source": [
    "_strings.dropna()"
   ]
  },
  {
   "cell_type": "markdown",
   "id": "cfed0e02b300dd04",
   "metadata": {
    "collapsed": false,
    "id": "cfed0e02b300dd04"
   },
   "source": [
    "# 3. Simple statistics\n",
    "Calculate the mean, median, min and maximum values for all columns.\n",
    "\n",
    "*Hint*: You can find this in the cheat sheet, in the section 'Summarize Data'.\n",
    "\n",
    "If you already know how to do this the simple/automatic way, try to calculate these values by hand.\n"
   ]
  },
  {
   "cell_type": "code",
   "execution_count": 33,
   "id": "e2fad7e554bd57",
   "metadata": {
    "ExecuteTime": {
     "end_time": "2023-10-05T07:52:32.318268371Z",
     "start_time": "2023-10-05T07:52:32.213394380Z"
    },
    "colab": {
     "base_uri": "https://localhost:8080/",
     "height": 320
    },
    "id": "e2fad7e554bd57",
    "outputId": "a41498b7-eaff-410a-b949-fb393bebf38f"
   },
   "outputs": [
    {
     "data": {
      "text/html": [
       "<div>\n",
       "<style scoped>\n",
       "    .dataframe tbody tr th:only-of-type {\n",
       "        vertical-align: middle;\n",
       "    }\n",
       "\n",
       "    .dataframe tbody tr th {\n",
       "        vertical-align: top;\n",
       "    }\n",
       "\n",
       "    .dataframe thead th {\n",
       "        text-align: right;\n",
       "    }\n",
       "</style>\n",
       "<table border=\"1\" class=\"dataframe\">\n",
       "  <thead>\n",
       "    <tr style=\"text-align: right;\">\n",
       "      <th></th>\n",
       "      <th>height</th>\n",
       "      <th>weight</th>\n",
       "      <th>games</th>\n",
       "      <th>victories</th>\n",
       "      <th>ties</th>\n",
       "      <th>defeats</th>\n",
       "      <th>goals</th>\n",
       "      <th>yellowCards</th>\n",
       "      <th>yellowReds</th>\n",
       "      <th>redCards</th>\n",
       "      <th>rater1</th>\n",
       "      <th>rater2</th>\n",
       "      <th>refNum</th>\n",
       "      <th>refCountry</th>\n",
       "      <th>meanIAT</th>\n",
       "      <th>nIAT</th>\n",
       "      <th>seIAT</th>\n",
       "      <th>meanExp</th>\n",
       "      <th>nExp</th>\n",
       "      <th>seExp</th>\n",
       "    </tr>\n",
       "  </thead>\n",
       "  <tbody>\n",
       "    <tr>\n",
       "      <th>count</th>\n",
       "      <td>115457.000000</td>\n",
       "      <td>115457.000000</td>\n",
       "      <td>115457.000000</td>\n",
       "      <td>115457.000000</td>\n",
       "      <td>115457.000000</td>\n",
       "      <td>115457.000000</td>\n",
       "      <td>115457.000000</td>\n",
       "      <td>115457.000000</td>\n",
       "      <td>115457.000000</td>\n",
       "      <td>115457.000000</td>\n",
       "      <td>115457.000000</td>\n",
       "      <td>115457.000000</td>\n",
       "      <td>115457.000000</td>\n",
       "      <td>115457.000000</td>\n",
       "      <td>115457.000000</td>\n",
       "      <td>1.154570e+05</td>\n",
       "      <td>1.154570e+05</td>\n",
       "      <td>115457.000000</td>\n",
       "      <td>1.154570e+05</td>\n",
       "      <td>115457.000000</td>\n",
       "    </tr>\n",
       "    <tr>\n",
       "      <th>mean</th>\n",
       "      <td>182.176135</td>\n",
       "      <td>76.517413</td>\n",
       "      <td>3.033761</td>\n",
       "      <td>1.371506</td>\n",
       "      <td>0.721134</td>\n",
       "      <td>0.941121</td>\n",
       "      <td>0.360351</td>\n",
       "      <td>0.404592</td>\n",
       "      <td>0.012290</td>\n",
       "      <td>0.012801</td>\n",
       "      <td>0.261946</td>\n",
       "      <td>0.300796</td>\n",
       "      <td>1532.497363</td>\n",
       "      <td>29.367124</td>\n",
       "      <td>0.348564</td>\n",
       "      <td>1.772543e+04</td>\n",
       "      <td>6.292873e-04</td>\n",
       "      <td>0.466222</td>\n",
       "      <td>1.837261e+04</td>\n",
       "      <td>0.002993</td>\n",
       "    </tr>\n",
       "    <tr>\n",
       "      <th>std</th>\n",
       "      <td>6.855077</td>\n",
       "      <td>7.187210</td>\n",
       "      <td>3.641059</td>\n",
       "      <td>1.918978</td>\n",
       "      <td>1.155027</td>\n",
       "      <td>1.433641</td>\n",
       "      <td>0.960867</td>\n",
       "      <td>0.831051</td>\n",
       "      <td>0.112127</td>\n",
       "      <td>0.114175</td>\n",
       "      <td>0.294666</td>\n",
       "      <td>0.291061</td>\n",
       "      <td>916.310481</td>\n",
       "      <td>27.981717</td>\n",
       "      <td>0.032004</td>\n",
       "      <td>1.260788e+05</td>\n",
       "      <td>4.801956e-03</td>\n",
       "      <td>0.219350</td>\n",
       "      <td>1.295339e+05</td>\n",
       "      <td>0.019733</td>\n",
       "    </tr>\n",
       "    <tr>\n",
       "      <th>min</th>\n",
       "      <td>161.000000</td>\n",
       "      <td>55.000000</td>\n",
       "      <td>1.000000</td>\n",
       "      <td>0.000000</td>\n",
       "      <td>0.000000</td>\n",
       "      <td>0.000000</td>\n",
       "      <td>0.000000</td>\n",
       "      <td>0.000000</td>\n",
       "      <td>0.000000</td>\n",
       "      <td>0.000000</td>\n",
       "      <td>0.000000</td>\n",
       "      <td>0.000000</td>\n",
       "      <td>1.000000</td>\n",
       "      <td>1.000000</td>\n",
       "      <td>-0.047254</td>\n",
       "      <td>2.000000e+00</td>\n",
       "      <td>2.235373e-07</td>\n",
       "      <td>-1.375000</td>\n",
       "      <td>2.000000e+00</td>\n",
       "      <td>0.000001</td>\n",
       "    </tr>\n",
       "    <tr>\n",
       "      <th>25%</th>\n",
       "      <td>178.000000</td>\n",
       "      <td>72.000000</td>\n",
       "      <td>1.000000</td>\n",
       "      <td>0.000000</td>\n",
       "      <td>0.000000</td>\n",
       "      <td>0.000000</td>\n",
       "      <td>0.000000</td>\n",
       "      <td>0.000000</td>\n",
       "      <td>0.000000</td>\n",
       "      <td>0.000000</td>\n",
       "      <td>0.000000</td>\n",
       "      <td>0.000000</td>\n",
       "      <td>652.000000</td>\n",
       "      <td>7.000000</td>\n",
       "      <td>0.334684</td>\n",
       "      <td>1.785000e+03</td>\n",
       "      <td>5.454025e-05</td>\n",
       "      <td>0.335967</td>\n",
       "      <td>1.897000e+03</td>\n",
       "      <td>0.000225</td>\n",
       "    </tr>\n",
       "    <tr>\n",
       "      <th>50%</th>\n",
       "      <td>183.000000</td>\n",
       "      <td>76.000000</td>\n",
       "      <td>1.000000</td>\n",
       "      <td>1.000000</td>\n",
       "      <td>0.000000</td>\n",
       "      <td>1.000000</td>\n",
       "      <td>0.000000</td>\n",
       "      <td>0.000000</td>\n",
       "      <td>0.000000</td>\n",
       "      <td>0.000000</td>\n",
       "      <td>0.250000</td>\n",
       "      <td>0.250000</td>\n",
       "      <td>1579.000000</td>\n",
       "      <td>15.000000</td>\n",
       "      <td>0.336628</td>\n",
       "      <td>2.882000e+03</td>\n",
       "      <td>1.508847e-04</td>\n",
       "      <td>0.356446</td>\n",
       "      <td>3.011000e+03</td>\n",
       "      <td>0.000586</td>\n",
       "    </tr>\n",
       "    <tr>\n",
       "      <th>75%</th>\n",
       "      <td>187.000000</td>\n",
       "      <td>81.000000</td>\n",
       "      <td>3.000000</td>\n",
       "      <td>2.000000</td>\n",
       "      <td>1.000000</td>\n",
       "      <td>1.000000</td>\n",
       "      <td>0.000000</td>\n",
       "      <td>1.000000</td>\n",
       "      <td>0.000000</td>\n",
       "      <td>0.000000</td>\n",
       "      <td>0.250000</td>\n",
       "      <td>0.500000</td>\n",
       "      <td>2337.000000</td>\n",
       "      <td>45.000000</td>\n",
       "      <td>0.369894</td>\n",
       "      <td>7.749000e+03</td>\n",
       "      <td>2.294896e-04</td>\n",
       "      <td>0.588297</td>\n",
       "      <td>7.974000e+03</td>\n",
       "      <td>0.001002</td>\n",
       "    </tr>\n",
       "    <tr>\n",
       "      <th>max</th>\n",
       "      <td>203.000000</td>\n",
       "      <td>100.000000</td>\n",
       "      <td>47.000000</td>\n",
       "      <td>29.000000</td>\n",
       "      <td>14.000000</td>\n",
       "      <td>18.000000</td>\n",
       "      <td>23.000000</td>\n",
       "      <td>14.000000</td>\n",
       "      <td>3.000000</td>\n",
       "      <td>2.000000</td>\n",
       "      <td>1.000000</td>\n",
       "      <td>1.000000</td>\n",
       "      <td>3147.000000</td>\n",
       "      <td>161.000000</td>\n",
       "      <td>0.573793</td>\n",
       "      <td>1.975803e+06</td>\n",
       "      <td>2.862871e-01</td>\n",
       "      <td>1.800000</td>\n",
       "      <td>2.029548e+06</td>\n",
       "      <td>1.060660</td>\n",
       "    </tr>\n",
       "  </tbody>\n",
       "</table>\n",
       "</div>"
      ],
      "text/plain": [
       "              height         weight          games      victories  \\\n",
       "count  115457.000000  115457.000000  115457.000000  115457.000000   \n",
       "mean      182.176135      76.517413       3.033761       1.371506   \n",
       "std         6.855077       7.187210       3.641059       1.918978   \n",
       "min       161.000000      55.000000       1.000000       0.000000   \n",
       "25%       178.000000      72.000000       1.000000       0.000000   \n",
       "50%       183.000000      76.000000       1.000000       1.000000   \n",
       "75%       187.000000      81.000000       3.000000       2.000000   \n",
       "max       203.000000     100.000000      47.000000      29.000000   \n",
       "\n",
       "                ties        defeats          goals    yellowCards  \\\n",
       "count  115457.000000  115457.000000  115457.000000  115457.000000   \n",
       "mean        0.721134       0.941121       0.360351       0.404592   \n",
       "std         1.155027       1.433641       0.960867       0.831051   \n",
       "min         0.000000       0.000000       0.000000       0.000000   \n",
       "25%         0.000000       0.000000       0.000000       0.000000   \n",
       "50%         0.000000       1.000000       0.000000       0.000000   \n",
       "75%         1.000000       1.000000       0.000000       1.000000   \n",
       "max        14.000000      18.000000      23.000000      14.000000   \n",
       "\n",
       "          yellowReds       redCards         rater1         rater2  \\\n",
       "count  115457.000000  115457.000000  115457.000000  115457.000000   \n",
       "mean        0.012290       0.012801       0.261946       0.300796   \n",
       "std         0.112127       0.114175       0.294666       0.291061   \n",
       "min         0.000000       0.000000       0.000000       0.000000   \n",
       "25%         0.000000       0.000000       0.000000       0.000000   \n",
       "50%         0.000000       0.000000       0.250000       0.250000   \n",
       "75%         0.000000       0.000000       0.250000       0.500000   \n",
       "max         3.000000       2.000000       1.000000       1.000000   \n",
       "\n",
       "              refNum     refCountry        meanIAT          nIAT  \\\n",
       "count  115457.000000  115457.000000  115457.000000  1.154570e+05   \n",
       "mean     1532.497363      29.367124       0.348564  1.772543e+04   \n",
       "std       916.310481      27.981717       0.032004  1.260788e+05   \n",
       "min         1.000000       1.000000      -0.047254  2.000000e+00   \n",
       "25%       652.000000       7.000000       0.334684  1.785000e+03   \n",
       "50%      1579.000000      15.000000       0.336628  2.882000e+03   \n",
       "75%      2337.000000      45.000000       0.369894  7.749000e+03   \n",
       "max      3147.000000     161.000000       0.573793  1.975803e+06   \n",
       "\n",
       "              seIAT        meanExp          nExp          seExp  \n",
       "count  1.154570e+05  115457.000000  1.154570e+05  115457.000000  \n",
       "mean   6.292873e-04       0.466222  1.837261e+04       0.002993  \n",
       "std    4.801956e-03       0.219350  1.295339e+05       0.019733  \n",
       "min    2.235373e-07      -1.375000  2.000000e+00       0.000001  \n",
       "25%    5.454025e-05       0.335967  1.897000e+03       0.000225  \n",
       "50%    1.508847e-04       0.356446  3.011000e+03       0.000586  \n",
       "75%    2.294896e-04       0.588297  7.974000e+03       0.001002  \n",
       "max    2.862871e-01       1.800000  2.029548e+06       1.060660  "
      ]
     },
     "execution_count": 33,
     "metadata": {},
     "output_type": "execute_result"
    }
   ],
   "source": [
    "df.describe()"
   ]
  },
  {
   "cell_type": "markdown",
   "id": "f6467469d82483fc",
   "metadata": {
    "collapsed": false
   },
   "source": [
    "When we try to calculate the median on all columns, we run into a problem:"
   ]
  },
  {
   "cell_type": "code",
   "execution_count": 34,
   "id": "382567c0cddec46c",
   "metadata": {
    "ExecuteTime": {
     "end_time": "2023-10-05T07:59:41.865378450Z",
     "start_time": "2023-10-05T07:59:41.223350404Z"
    },
    "collapsed": false
   },
   "outputs": [
    {
     "name": "stderr",
     "output_type": "stream",
     "text": [
      "C:\\Users\\yluet\\AppData\\Local\\Temp\\ipykernel_16716\\530051474.py:1: FutureWarning: Dropping of nuisance columns in DataFrame reductions (with 'numeric_only=None') is deprecated; in a future version this will raise TypeError.  Select only valid columns before calling the reduction.\n",
      "  df.median()\n"
     ]
    },
    {
     "data": {
      "text/plain": [
       "height          183.000000\n",
       "weight           76.000000\n",
       "games             1.000000\n",
       "victories         1.000000\n",
       "ties              0.000000\n",
       "defeats           1.000000\n",
       "goals             0.000000\n",
       "yellowCards       0.000000\n",
       "yellowReds        0.000000\n",
       "redCards          0.000000\n",
       "rater1            0.250000\n",
       "rater2            0.250000\n",
       "refNum         1579.000000\n",
       "refCountry       15.000000\n",
       "meanIAT           0.336628\n",
       "nIAT           2882.000000\n",
       "seIAT             0.000151\n",
       "meanExp           0.356446\n",
       "nExp           3011.000000\n",
       "seExp             0.000586\n",
       "dtype: float64"
      ]
     },
     "execution_count": 34,
     "metadata": {},
     "output_type": "execute_result"
    }
   ],
   "source": [
    "df.median()"
   ]
  },
  {
   "cell_type": "markdown",
   "id": "a9f5540d6373d102",
   "metadata": {
    "collapsed": false,
    "id": "a9f5540d6373d102"
   },
   "source": [
    "df.describe() did not calculate the median for us. Let's do it manually.\n",
    "First, find all numeric columns."
   ]
  },
  {
   "cell_type": "code",
   "execution_count": 35,
   "id": "651d14589d00849e",
   "metadata": {
    "ExecuteTime": {
     "end_time": "2023-10-05T07:52:32.318633310Z",
     "start_time": "2023-10-05T07:52:32.261946305Z"
    },
    "colab": {
     "base_uri": "https://localhost:8080/"
    },
    "id": "651d14589d00849e",
    "outputId": "f5e99030-d25f-4312-c067-c257f9bdc1a2"
   },
   "outputs": [
    {
     "data": {
      "text/plain": [
       "Index(['height', 'weight', 'games', 'victories', 'ties', 'defeats', 'goals',\n",
       "       'yellowCards', 'yellowReds', 'redCards', 'rater1', 'rater2', 'refNum',\n",
       "       'refCountry', 'meanIAT', 'nIAT', 'seIAT', 'meanExp', 'nExp', 'seExp'],\n",
       "      dtype='object')"
      ]
     },
     "execution_count": 35,
     "metadata": {},
     "output_type": "execute_result"
    }
   ],
   "source": [
    "numeric_columns = df.select_dtypes(include=[np.number]).columns\n",
    "numeric_columns"
   ]
  },
  {
   "cell_type": "markdown",
   "id": "5d41f0fd3fe0fcc6",
   "metadata": {
    "collapsed": false,
    "id": "5d41f0fd3fe0fcc6"
   },
   "source": [
    "Next, select the numeric columns."
   ]
  },
  {
   "cell_type": "code",
   "execution_count": 36,
   "id": "381805597a1a8c9a",
   "metadata": {
    "ExecuteTime": {
     "end_time": "2023-10-05T07:52:32.380351628Z",
     "start_time": "2023-10-05T07:52:32.262119141Z"
    },
    "colab": {
     "base_uri": "https://localhost:8080/",
     "height": 206
    },
    "id": "381805597a1a8c9a",
    "outputId": "1eafdcbc-ec82-4f20-fba4-d8e88e51f210"
   },
   "outputs": [
    {
     "data": {
      "text/html": [
       "<div>\n",
       "<style scoped>\n",
       "    .dataframe tbody tr th:only-of-type {\n",
       "        vertical-align: middle;\n",
       "    }\n",
       "\n",
       "    .dataframe tbody tr th {\n",
       "        vertical-align: top;\n",
       "    }\n",
       "\n",
       "    .dataframe thead th {\n",
       "        text-align: right;\n",
       "    }\n",
       "</style>\n",
       "<table border=\"1\" class=\"dataframe\">\n",
       "  <thead>\n",
       "    <tr style=\"text-align: right;\">\n",
       "      <th></th>\n",
       "      <th>height</th>\n",
       "      <th>weight</th>\n",
       "      <th>games</th>\n",
       "      <th>victories</th>\n",
       "      <th>ties</th>\n",
       "      <th>defeats</th>\n",
       "      <th>goals</th>\n",
       "      <th>yellowCards</th>\n",
       "      <th>yellowReds</th>\n",
       "      <th>redCards</th>\n",
       "      <th>rater1</th>\n",
       "      <th>rater2</th>\n",
       "      <th>refNum</th>\n",
       "      <th>refCountry</th>\n",
       "      <th>meanIAT</th>\n",
       "      <th>nIAT</th>\n",
       "      <th>seIAT</th>\n",
       "      <th>meanExp</th>\n",
       "      <th>nExp</th>\n",
       "      <th>seExp</th>\n",
       "    </tr>\n",
       "  </thead>\n",
       "  <tbody>\n",
       "    <tr>\n",
       "      <th>0</th>\n",
       "      <td>177.0</td>\n",
       "      <td>72.0</td>\n",
       "      <td>1</td>\n",
       "      <td>0</td>\n",
       "      <td>0</td>\n",
       "      <td>1</td>\n",
       "      <td>0</td>\n",
       "      <td>0</td>\n",
       "      <td>0</td>\n",
       "      <td>0</td>\n",
       "      <td>0.25</td>\n",
       "      <td>0.50</td>\n",
       "      <td>1</td>\n",
       "      <td>1</td>\n",
       "      <td>0.326391</td>\n",
       "      <td>712.0</td>\n",
       "      <td>0.000564</td>\n",
       "      <td>0.396000</td>\n",
       "      <td>750.0</td>\n",
       "      <td>0.002696</td>\n",
       "    </tr>\n",
       "    <tr>\n",
       "      <th>1</th>\n",
       "      <td>179.0</td>\n",
       "      <td>82.0</td>\n",
       "      <td>1</td>\n",
       "      <td>0</td>\n",
       "      <td>0</td>\n",
       "      <td>1</td>\n",
       "      <td>0</td>\n",
       "      <td>1</td>\n",
       "      <td>0</td>\n",
       "      <td>0</td>\n",
       "      <td>0.75</td>\n",
       "      <td>0.75</td>\n",
       "      <td>2</td>\n",
       "      <td>2</td>\n",
       "      <td>0.203375</td>\n",
       "      <td>40.0</td>\n",
       "      <td>0.010875</td>\n",
       "      <td>-0.204082</td>\n",
       "      <td>49.0</td>\n",
       "      <td>0.061504</td>\n",
       "    </tr>\n",
       "    <tr>\n",
       "      <th>5</th>\n",
       "      <td>182.0</td>\n",
       "      <td>71.0</td>\n",
       "      <td>1</td>\n",
       "      <td>0</td>\n",
       "      <td>0</td>\n",
       "      <td>1</td>\n",
       "      <td>0</td>\n",
       "      <td>0</td>\n",
       "      <td>0</td>\n",
       "      <td>0</td>\n",
       "      <td>0.25</td>\n",
       "      <td>0.00</td>\n",
       "      <td>4</td>\n",
       "      <td>4</td>\n",
       "      <td>0.325185</td>\n",
       "      <td>127.0</td>\n",
       "      <td>0.003297</td>\n",
       "      <td>0.538462</td>\n",
       "      <td>130.0</td>\n",
       "      <td>0.013752</td>\n",
       "    </tr>\n",
       "    <tr>\n",
       "      <th>6</th>\n",
       "      <td>187.0</td>\n",
       "      <td>80.0</td>\n",
       "      <td>1</td>\n",
       "      <td>1</td>\n",
       "      <td>0</td>\n",
       "      <td>0</td>\n",
       "      <td>0</td>\n",
       "      <td>0</td>\n",
       "      <td>0</td>\n",
       "      <td>0</td>\n",
       "      <td>0.00</td>\n",
       "      <td>0.25</td>\n",
       "      <td>4</td>\n",
       "      <td>4</td>\n",
       "      <td>0.325185</td>\n",
       "      <td>127.0</td>\n",
       "      <td>0.003297</td>\n",
       "      <td>0.538462</td>\n",
       "      <td>130.0</td>\n",
       "      <td>0.013752</td>\n",
       "    </tr>\n",
       "    <tr>\n",
       "      <th>7</th>\n",
       "      <td>180.0</td>\n",
       "      <td>68.0</td>\n",
       "      <td>1</td>\n",
       "      <td>0</td>\n",
       "      <td>0</td>\n",
       "      <td>1</td>\n",
       "      <td>0</td>\n",
       "      <td>0</td>\n",
       "      <td>0</td>\n",
       "      <td>0</td>\n",
       "      <td>1.00</td>\n",
       "      <td>1.00</td>\n",
       "      <td>4</td>\n",
       "      <td>4</td>\n",
       "      <td>0.325185</td>\n",
       "      <td>127.0</td>\n",
       "      <td>0.003297</td>\n",
       "      <td>0.538462</td>\n",
       "      <td>130.0</td>\n",
       "      <td>0.013752</td>\n",
       "    </tr>\n",
       "  </tbody>\n",
       "</table>\n",
       "</div>"
      ],
      "text/plain": [
       "   height  weight  games  victories  ties  defeats  goals  yellowCards  \\\n",
       "0   177.0    72.0      1          0     0        1      0            0   \n",
       "1   179.0    82.0      1          0     0        1      0            1   \n",
       "5   182.0    71.0      1          0     0        1      0            0   \n",
       "6   187.0    80.0      1          1     0        0      0            0   \n",
       "7   180.0    68.0      1          0     0        1      0            0   \n",
       "\n",
       "   yellowReds  redCards  rater1  rater2  refNum  refCountry   meanIAT   nIAT  \\\n",
       "0           0         0    0.25    0.50       1           1  0.326391  712.0   \n",
       "1           0         0    0.75    0.75       2           2  0.203375   40.0   \n",
       "5           0         0    0.25    0.00       4           4  0.325185  127.0   \n",
       "6           0         0    0.00    0.25       4           4  0.325185  127.0   \n",
       "7           0         0    1.00    1.00       4           4  0.325185  127.0   \n",
       "\n",
       "      seIAT   meanExp   nExp     seExp  \n",
       "0  0.000564  0.396000  750.0  0.002696  \n",
       "1  0.010875 -0.204082   49.0  0.061504  \n",
       "5  0.003297  0.538462  130.0  0.013752  \n",
       "6  0.003297  0.538462  130.0  0.013752  \n",
       "7  0.003297  0.538462  130.0  0.013752  "
      ]
     },
     "execution_count": 36,
     "metadata": {},
     "output_type": "execute_result"
    }
   ],
   "source": [
    "df[numeric_columns].head()"
   ]
  },
  {
   "cell_type": "markdown",
   "id": "a80f2f3f2775809f",
   "metadata": {
    "collapsed": false,
    "id": "a80f2f3f2775809f"
   },
   "source": [
    "Finally, calculate the median."
   ]
  },
  {
   "cell_type": "code",
   "execution_count": 37,
   "id": "aec1d59d036609d3",
   "metadata": {
    "ExecuteTime": {
     "end_time": "2023-10-05T07:52:32.381083119Z",
     "start_time": "2023-10-05T07:52:32.310023208Z"
    },
    "colab": {
     "base_uri": "https://localhost:8080/"
    },
    "id": "aec1d59d036609d3",
    "outputId": "cef1fafc-83cf-4028-ee15-46ab9d24ef32"
   },
   "outputs": [
    {
     "data": {
      "text/plain": [
       "height          183.000000\n",
       "weight           76.000000\n",
       "games             1.000000\n",
       "victories         1.000000\n",
       "ties              0.000000\n",
       "defeats           1.000000\n",
       "goals             0.000000\n",
       "yellowCards       0.000000\n",
       "yellowReds        0.000000\n",
       "redCards          0.000000\n",
       "rater1            0.250000\n",
       "rater2            0.250000\n",
       "refNum         1579.000000\n",
       "refCountry       15.000000\n",
       "meanIAT           0.336628\n",
       "nIAT           2882.000000\n",
       "seIAT             0.000151\n",
       "meanExp           0.356446\n",
       "nExp           3011.000000\n",
       "seExp             0.000586\n",
       "dtype: float64"
      ]
     },
     "execution_count": 37,
     "metadata": {},
     "output_type": "execute_result"
    }
   ],
   "source": [
    "df[numeric_columns].median()  # by default column-wise!"
   ]
  },
  {
   "cell_type": "markdown",
   "id": "abf4ca40fc0b7cb7",
   "metadata": {
    "collapsed": false,
    "id": "abf4ca40fc0b7cb7"
   },
   "source": [
    "# 4. Average cards per game\n",
    "Calculate the average number of yellow and red cards per game for each player. Then print out the 5 players with the highest average number of cards per game."
   ]
  },
  {
   "cell_type": "markdown",
   "id": "2ec07a766303c70a",
   "metadata": {
    "collapsed": false,
    "id": "2ec07a766303c70a"
   },
   "source": [
    "## 4.1 Count the number of cards each player has gotten.\n",
    "As an intermediate step, let's first calculate the number of cards each player has gotten."
   ]
  },
  {
   "cell_type": "code",
   "execution_count": 38,
   "id": "7dc0676178135ce0",
   "metadata": {
    "ExecuteTime": {
     "end_time": "2023-10-05T07:52:32.381487580Z",
     "start_time": "2023-10-05T07:52:32.310200463Z"
    },
    "colab": {
     "base_uri": "https://localhost:8080/"
    },
    "id": "7dc0676178135ce0",
    "outputId": "597634fc-1a06-4dbf-956b-b40a400a1d59"
   },
   "outputs": [
    {
     "name": "stderr",
     "output_type": "stream",
     "text": [
      "C:\\Users\\yluet\\AppData\\Local\\Temp\\ipykernel_16716\\2411871648.py:1: SettingWithCopyWarning: \n",
      "A value is trying to be set on a copy of a slice from a DataFrame.\n",
      "Try using .loc[row_indexer,col_indexer] = value instead\n",
      "\n",
      "See the caveats in the documentation: https://pandas.pydata.org/pandas-docs/stable/user_guide/indexing.html#returning-a-view-versus-a-copy\n",
      "  df['total_cards'] = df['yellowCards'] + df['redCards']\n"
     ]
    },
    {
     "data": {
      "text/plain": [
       "0    0\n",
       "1    1\n",
       "5    0\n",
       "6    0\n",
       "7    0\n",
       "Name: total_cards, dtype: int64"
      ]
     },
     "execution_count": 38,
     "metadata": {},
     "output_type": "execute_result"
    }
   ],
   "source": [
    "df['total_cards'] = df['yellowCards'] + df['redCards']\n",
    "df['total_cards'].head()"
   ]
  },
  {
   "cell_type": "markdown",
   "id": "892f9184ce4ead3a",
   "metadata": {
    "collapsed": false,
    "id": "892f9184ce4ead3a"
   },
   "source": [
    "## 4.2 Calculate the average number of cards per game for each player.\n",
    "Next, we can now use this column to calculate the average number of cards per game for each player."
   ]
  },
  {
   "cell_type": "code",
   "execution_count": 39,
   "id": "cdcc582f562365ff",
   "metadata": {
    "ExecuteTime": {
     "end_time": "2023-10-05T07:52:32.381822554Z",
     "start_time": "2023-10-05T07:52:32.310306888Z"
    },
    "colab": {
     "base_uri": "https://localhost:8080/"
    },
    "id": "cdcc582f562365ff",
    "outputId": "d028b283-f60f-4300-b356-0f0fdeaf1f63"
   },
   "outputs": [
    {
     "name": "stderr",
     "output_type": "stream",
     "text": [
      "C:\\Users\\yluet\\AppData\\Local\\Temp\\ipykernel_16716\\1841230434.py:1: SettingWithCopyWarning: \n",
      "A value is trying to be set on a copy of a slice from a DataFrame.\n",
      "Try using .loc[row_indexer,col_indexer] = value instead\n",
      "\n",
      "See the caveats in the documentation: https://pandas.pydata.org/pandas-docs/stable/user_guide/indexing.html#returning-a-view-versus-a-copy\n",
      "  df['avg_cards_per_game'] = df['total_cards'] / df['games']\n"
     ]
    },
    {
     "data": {
      "text/plain": [
       "0    0.0\n",
       "1    1.0\n",
       "5    0.0\n",
       "6    0.0\n",
       "7    0.0\n",
       "Name: avg_cards_per_game, dtype: float64"
      ]
     },
     "execution_count": 39,
     "metadata": {},
     "output_type": "execute_result"
    }
   ],
   "source": [
    "df['avg_cards_per_game'] = df['total_cards'] / df['games']\n",
    "df['avg_cards_per_game'].head()"
   ]
  },
  {
   "cell_type": "markdown",
   "id": "aafa2e9ae61c2ddc",
   "metadata": {
    "collapsed": false,
    "id": "aafa2e9ae61c2ddc"
   },
   "source": [
    "## 4.3 Sort the players by the average number of cards per game.\n",
    "Then we sort by this column."
   ]
  },
  {
   "cell_type": "code",
   "execution_count": 40,
   "id": "41f2f599087f9229",
   "metadata": {
    "ExecuteTime": {
     "end_time": "2023-10-05T07:52:32.420583051Z",
     "start_time": "2023-10-05T07:52:32.310731757Z"
    },
    "colab": {
     "base_uri": "https://localhost:8080/",
     "height": 652
    },
    "id": "41f2f599087f9229",
    "outputId": "30d08731-9ce9-4152-e4d8-4bec0c6ba1b1"
   },
   "outputs": [
    {
     "data": {
      "text/html": [
       "<div>\n",
       "<style scoped>\n",
       "    .dataframe tbody tr th:only-of-type {\n",
       "        vertical-align: middle;\n",
       "    }\n",
       "\n",
       "    .dataframe tbody tr th {\n",
       "        vertical-align: top;\n",
       "    }\n",
       "\n",
       "    .dataframe thead th {\n",
       "        text-align: right;\n",
       "    }\n",
       "</style>\n",
       "<table border=\"1\" class=\"dataframe\">\n",
       "  <thead>\n",
       "    <tr style=\"text-align: right;\">\n",
       "      <th></th>\n",
       "      <th>playerShort</th>\n",
       "      <th>player</th>\n",
       "      <th>club</th>\n",
       "      <th>leagueCountry</th>\n",
       "      <th>birthday</th>\n",
       "      <th>height</th>\n",
       "      <th>weight</th>\n",
       "      <th>position</th>\n",
       "      <th>games</th>\n",
       "      <th>victories</th>\n",
       "      <th>...</th>\n",
       "      <th>refCountry</th>\n",
       "      <th>Alpha_3</th>\n",
       "      <th>meanIAT</th>\n",
       "      <th>nIAT</th>\n",
       "      <th>seIAT</th>\n",
       "      <th>meanExp</th>\n",
       "      <th>nExp</th>\n",
       "      <th>seExp</th>\n",
       "      <th>total_cards</th>\n",
       "      <th>avg_cards_per_game</th>\n",
       "    </tr>\n",
       "  </thead>\n",
       "  <tbody>\n",
       "    <tr>\n",
       "      <th>103688</th>\n",
       "      <td>jean-pascal-mignot</td>\n",
       "      <td>Jean-Pascal Mignot</td>\n",
       "      <td>AS Saint-Étienne</td>\n",
       "      <td>France</td>\n",
       "      <td>26.02.1981</td>\n",
       "      <td>183.0</td>\n",
       "      <td>75.0</td>\n",
       "      <td>Center Back</td>\n",
       "      <td>1</td>\n",
       "      <td>1</td>\n",
       "      <td>...</td>\n",
       "      <td>72</td>\n",
       "      <td>PRT</td>\n",
       "      <td>0.396803</td>\n",
       "      <td>1079.0</td>\n",
       "      <td>0.000392</td>\n",
       "      <td>0.790366</td>\n",
       "      <td>1121.0</td>\n",
       "      <td>0.001798</td>\n",
       "      <td>3</td>\n",
       "      <td>3.0</td>\n",
       "    </tr>\n",
       "    <tr>\n",
       "      <th>59371</th>\n",
       "      <td>barragan_3</td>\n",
       "      <td>Barragán</td>\n",
       "      <td>Valencia CF</td>\n",
       "      <td>Spain</td>\n",
       "      <td>12.06.1987</td>\n",
       "      <td>187.0</td>\n",
       "      <td>83.0</td>\n",
       "      <td>Right Fullback</td>\n",
       "      <td>1</td>\n",
       "      <td>0</td>\n",
       "      <td>...</td>\n",
       "      <td>44</td>\n",
       "      <td>ENGL</td>\n",
       "      <td>0.326690</td>\n",
       "      <td>44791.0</td>\n",
       "      <td>0.000010</td>\n",
       "      <td>0.356446</td>\n",
       "      <td>46916.0</td>\n",
       "      <td>0.000037</td>\n",
       "      <td>2</td>\n",
       "      <td>2.0</td>\n",
       "    </tr>\n",
       "    <tr>\n",
       "      <th>115519</th>\n",
       "      <td>ricardo-costa</td>\n",
       "      <td>Ricardo Costa</td>\n",
       "      <td>Valencia CF</td>\n",
       "      <td>Spain</td>\n",
       "      <td>16.05.1981</td>\n",
       "      <td>183.0</td>\n",
       "      <td>80.0</td>\n",
       "      <td>Center Back</td>\n",
       "      <td>1</td>\n",
       "      <td>0</td>\n",
       "      <td>...</td>\n",
       "      <td>7</td>\n",
       "      <td>FRA</td>\n",
       "      <td>0.334684</td>\n",
       "      <td>2882.0</td>\n",
       "      <td>0.000151</td>\n",
       "      <td>0.336101</td>\n",
       "      <td>3011.0</td>\n",
       "      <td>0.000586</td>\n",
       "      <td>2</td>\n",
       "      <td>2.0</td>\n",
       "    </tr>\n",
       "    <tr>\n",
       "      <th>83849</th>\n",
       "      <td>david-villa</td>\n",
       "      <td>David Villa</td>\n",
       "      <td>FC Barcelona</td>\n",
       "      <td>Spain</td>\n",
       "      <td>03.12.1981</td>\n",
       "      <td>175.0</td>\n",
       "      <td>69.0</td>\n",
       "      <td>Center Forward</td>\n",
       "      <td>1</td>\n",
       "      <td>0</td>\n",
       "      <td>...</td>\n",
       "      <td>3</td>\n",
       "      <td>ESP</td>\n",
       "      <td>0.369894</td>\n",
       "      <td>1785.0</td>\n",
       "      <td>0.000229</td>\n",
       "      <td>0.588297</td>\n",
       "      <td>1897.0</td>\n",
       "      <td>0.001002</td>\n",
       "      <td>2</td>\n",
       "      <td>2.0</td>\n",
       "    </tr>\n",
       "    <tr>\n",
       "      <th>68897</th>\n",
       "      <td>apono</td>\n",
       "      <td>Apoño</td>\n",
       "      <td>Real Zaragoza</td>\n",
       "      <td>Spain</td>\n",
       "      <td>13.02.1984</td>\n",
       "      <td>173.0</td>\n",
       "      <td>72.0</td>\n",
       "      <td>Defensive Midfielder</td>\n",
       "      <td>1</td>\n",
       "      <td>1</td>\n",
       "      <td>...</td>\n",
       "      <td>3</td>\n",
       "      <td>ESP</td>\n",
       "      <td>0.369894</td>\n",
       "      <td>1785.0</td>\n",
       "      <td>0.000229</td>\n",
       "      <td>0.588297</td>\n",
       "      <td>1897.0</td>\n",
       "      <td>0.001002</td>\n",
       "      <td>2</td>\n",
       "      <td>2.0</td>\n",
       "    </tr>\n",
       "    <tr>\n",
       "      <th>...</th>\n",
       "      <td>...</td>\n",
       "      <td>...</td>\n",
       "      <td>...</td>\n",
       "      <td>...</td>\n",
       "      <td>...</td>\n",
       "      <td>...</td>\n",
       "      <td>...</td>\n",
       "      <td>...</td>\n",
       "      <td>...</td>\n",
       "      <td>...</td>\n",
       "      <td>...</td>\n",
       "      <td>...</td>\n",
       "      <td>...</td>\n",
       "      <td>...</td>\n",
       "      <td>...</td>\n",
       "      <td>...</td>\n",
       "      <td>...</td>\n",
       "      <td>...</td>\n",
       "      <td>...</td>\n",
       "      <td>...</td>\n",
       "      <td>...</td>\n",
       "    </tr>\n",
       "    <tr>\n",
       "      <th>56737</th>\n",
       "      <td>tolgay-arslan</td>\n",
       "      <td>Tolgay Arslan</td>\n",
       "      <td>Hamburger SV</td>\n",
       "      <td>Germany</td>\n",
       "      <td>16.08.1990</td>\n",
       "      <td>180.0</td>\n",
       "      <td>77.0</td>\n",
       "      <td>Attacking Midfielder</td>\n",
       "      <td>2</td>\n",
       "      <td>0</td>\n",
       "      <td>...</td>\n",
       "      <td>8</td>\n",
       "      <td>DEU</td>\n",
       "      <td>0.336628</td>\n",
       "      <td>7749.0</td>\n",
       "      <td>0.000055</td>\n",
       "      <td>0.335967</td>\n",
       "      <td>7974.0</td>\n",
       "      <td>0.000225</td>\n",
       "      <td>0</td>\n",
       "      <td>0.0</td>\n",
       "    </tr>\n",
       "    <tr>\n",
       "      <th>56734</th>\n",
       "      <td>timo-hildebrand</td>\n",
       "      <td>Timo Hildebrand</td>\n",
       "      <td>FC Schalke 04</td>\n",
       "      <td>Germany</td>\n",
       "      <td>05.04.1979</td>\n",
       "      <td>186.0</td>\n",
       "      <td>80.0</td>\n",
       "      <td>Goalkeeper</td>\n",
       "      <td>1</td>\n",
       "      <td>0</td>\n",
       "      <td>...</td>\n",
       "      <td>8</td>\n",
       "      <td>DEU</td>\n",
       "      <td>0.336628</td>\n",
       "      <td>7749.0</td>\n",
       "      <td>0.000055</td>\n",
       "      <td>0.335967</td>\n",
       "      <td>7974.0</td>\n",
       "      <td>0.000225</td>\n",
       "      <td>0</td>\n",
       "      <td>0.0</td>\n",
       "    </tr>\n",
       "    <tr>\n",
       "      <th>56732</th>\n",
       "      <td>timmy-simons</td>\n",
       "      <td>Timmy Simons</td>\n",
       "      <td>1. FC Nürnberg</td>\n",
       "      <td>Germany</td>\n",
       "      <td>11.12.1976</td>\n",
       "      <td>186.0</td>\n",
       "      <td>79.0</td>\n",
       "      <td>Defensive Midfielder</td>\n",
       "      <td>8</td>\n",
       "      <td>6</td>\n",
       "      <td>...</td>\n",
       "      <td>8</td>\n",
       "      <td>DEU</td>\n",
       "      <td>0.336628</td>\n",
       "      <td>7749.0</td>\n",
       "      <td>0.000055</td>\n",
       "      <td>0.335967</td>\n",
       "      <td>7974.0</td>\n",
       "      <td>0.000225</td>\n",
       "      <td>0</td>\n",
       "      <td>0.0</td>\n",
       "    </tr>\n",
       "    <tr>\n",
       "      <th>56726</th>\n",
       "      <td>thomas-kleine</td>\n",
       "      <td>Thomas Kleine</td>\n",
       "      <td>SpVgg Greuther Fürth</td>\n",
       "      <td>Germany</td>\n",
       "      <td>28.12.1977</td>\n",
       "      <td>191.0</td>\n",
       "      <td>82.0</td>\n",
       "      <td>Center Back</td>\n",
       "      <td>8</td>\n",
       "      <td>6</td>\n",
       "      <td>...</td>\n",
       "      <td>8</td>\n",
       "      <td>DEU</td>\n",
       "      <td>0.336628</td>\n",
       "      <td>7749.0</td>\n",
       "      <td>0.000055</td>\n",
       "      <td>0.335967</td>\n",
       "      <td>7974.0</td>\n",
       "      <td>0.000225</td>\n",
       "      <td>0</td>\n",
       "      <td>0.0</td>\n",
       "    </tr>\n",
       "    <tr>\n",
       "      <th>146027</th>\n",
       "      <td>zdenk-pospch</td>\n",
       "      <td>Zdeněk Pospěch</td>\n",
       "      <td>1. FSV Mainz 05</td>\n",
       "      <td>Germany</td>\n",
       "      <td>14.12.1978</td>\n",
       "      <td>174.0</td>\n",
       "      <td>72.0</td>\n",
       "      <td>Right Fullback</td>\n",
       "      <td>1</td>\n",
       "      <td>0</td>\n",
       "      <td>...</td>\n",
       "      <td>21</td>\n",
       "      <td>HUN</td>\n",
       "      <td>0.376127</td>\n",
       "      <td>574.0</td>\n",
       "      <td>0.000714</td>\n",
       "      <td>0.498350</td>\n",
       "      <td>606.0</td>\n",
       "      <td>0.002968</td>\n",
       "      <td>0</td>\n",
       "      <td>0.0</td>\n",
       "    </tr>\n",
       "  </tbody>\n",
       "</table>\n",
       "<p>115457 rows × 30 columns</p>\n",
       "</div>"
      ],
      "text/plain": [
       "               playerShort              player                  club  \\\n",
       "103688  jean-pascal-mignot  Jean-Pascal Mignot      AS Saint-Étienne   \n",
       "59371           barragan_3            Barragán           Valencia CF   \n",
       "115519       ricardo-costa       Ricardo Costa           Valencia CF   \n",
       "83849          david-villa         David Villa          FC Barcelona   \n",
       "68897                apono               Apoño         Real Zaragoza   \n",
       "...                    ...                 ...                   ...   \n",
       "56737        tolgay-arslan       Tolgay Arslan          Hamburger SV   \n",
       "56734      timo-hildebrand     Timo Hildebrand         FC Schalke 04   \n",
       "56732         timmy-simons        Timmy Simons        1. FC Nürnberg   \n",
       "56726        thomas-kleine       Thomas Kleine  SpVgg Greuther Fürth   \n",
       "146027        zdenk-pospch      Zdeněk Pospěch       1. FSV Mainz 05   \n",
       "\n",
       "       leagueCountry    birthday  height  weight              position  games  \\\n",
       "103688        France  26.02.1981   183.0    75.0           Center Back      1   \n",
       "59371          Spain  12.06.1987   187.0    83.0        Right Fullback      1   \n",
       "115519         Spain  16.05.1981   183.0    80.0           Center Back      1   \n",
       "83849          Spain  03.12.1981   175.0    69.0        Center Forward      1   \n",
       "68897          Spain  13.02.1984   173.0    72.0  Defensive Midfielder      1   \n",
       "...              ...         ...     ...     ...                   ...    ...   \n",
       "56737        Germany  16.08.1990   180.0    77.0  Attacking Midfielder      2   \n",
       "56734        Germany  05.04.1979   186.0    80.0            Goalkeeper      1   \n",
       "56732        Germany  11.12.1976   186.0    79.0  Defensive Midfielder      8   \n",
       "56726        Germany  28.12.1977   191.0    82.0           Center Back      8   \n",
       "146027       Germany  14.12.1978   174.0    72.0        Right Fullback      1   \n",
       "\n",
       "        victories  ...  refCountry  Alpha_3   meanIAT     nIAT     seIAT  \\\n",
       "103688          1  ...          72      PRT  0.396803   1079.0  0.000392   \n",
       "59371           0  ...          44     ENGL  0.326690  44791.0  0.000010   \n",
       "115519          0  ...           7      FRA  0.334684   2882.0  0.000151   \n",
       "83849           0  ...           3      ESP  0.369894   1785.0  0.000229   \n",
       "68897           1  ...           3      ESP  0.369894   1785.0  0.000229   \n",
       "...           ...  ...         ...      ...       ...      ...       ...   \n",
       "56737           0  ...           8      DEU  0.336628   7749.0  0.000055   \n",
       "56734           0  ...           8      DEU  0.336628   7749.0  0.000055   \n",
       "56732           6  ...           8      DEU  0.336628   7749.0  0.000055   \n",
       "56726           6  ...           8      DEU  0.336628   7749.0  0.000055   \n",
       "146027          0  ...          21      HUN  0.376127    574.0  0.000714   \n",
       "\n",
       "         meanExp     nExp     seExp  total_cards  avg_cards_per_game  \n",
       "103688  0.790366   1121.0  0.001798            3                 3.0  \n",
       "59371   0.356446  46916.0  0.000037            2                 2.0  \n",
       "115519  0.336101   3011.0  0.000586            2                 2.0  \n",
       "83849   0.588297   1897.0  0.001002            2                 2.0  \n",
       "68897   0.588297   1897.0  0.001002            2                 2.0  \n",
       "...          ...      ...       ...          ...                 ...  \n",
       "56737   0.335967   7974.0  0.000225            0                 0.0  \n",
       "56734   0.335967   7974.0  0.000225            0                 0.0  \n",
       "56732   0.335967   7974.0  0.000225            0                 0.0  \n",
       "56726   0.335967   7974.0  0.000225            0                 0.0  \n",
       "146027  0.498350    606.0  0.002968            0                 0.0  \n",
       "\n",
       "[115457 rows x 30 columns]"
      ]
     },
     "execution_count": 40,
     "metadata": {},
     "output_type": "execute_result"
    }
   ],
   "source": [
    "avg_cards_per_game_df = df.sort_values(by='avg_cards_per_game', ascending=False)\n",
    "avg_cards_per_game_df"
   ]
  },
  {
   "cell_type": "markdown",
   "id": "6b9f8e542c0add68",
   "metadata": {
    "collapsed": false,
    "id": "6b9f8e542c0add68"
   },
   "source": [
    "## 4.4 Print out the top 5 players.\n",
    "This is now very easy to do. We will not use .head() this time though."
   ]
  },
  {
   "cell_type": "code",
   "execution_count": 41,
   "id": "8877e73c054434ff",
   "metadata": {
    "ExecuteTime": {
     "end_time": "2023-10-05T07:52:32.421892030Z",
     "start_time": "2023-10-05T07:52:32.383467821Z"
    },
    "colab": {
     "base_uri": "https://localhost:8080/",
     "height": 359
    },
    "id": "8877e73c054434ff",
    "outputId": "8b36e4f0-8501-4a86-de38-55216bd90be4"
   },
   "outputs": [
    {
     "data": {
      "text/html": [
       "<div>\n",
       "<style scoped>\n",
       "    .dataframe tbody tr th:only-of-type {\n",
       "        vertical-align: middle;\n",
       "    }\n",
       "\n",
       "    .dataframe tbody tr th {\n",
       "        vertical-align: top;\n",
       "    }\n",
       "\n",
       "    .dataframe thead th {\n",
       "        text-align: right;\n",
       "    }\n",
       "</style>\n",
       "<table border=\"1\" class=\"dataframe\">\n",
       "  <thead>\n",
       "    <tr style=\"text-align: right;\">\n",
       "      <th></th>\n",
       "      <th>playerShort</th>\n",
       "      <th>player</th>\n",
       "      <th>club</th>\n",
       "      <th>leagueCountry</th>\n",
       "      <th>birthday</th>\n",
       "      <th>height</th>\n",
       "      <th>weight</th>\n",
       "      <th>position</th>\n",
       "      <th>games</th>\n",
       "      <th>victories</th>\n",
       "      <th>...</th>\n",
       "      <th>refCountry</th>\n",
       "      <th>Alpha_3</th>\n",
       "      <th>meanIAT</th>\n",
       "      <th>nIAT</th>\n",
       "      <th>seIAT</th>\n",
       "      <th>meanExp</th>\n",
       "      <th>nExp</th>\n",
       "      <th>seExp</th>\n",
       "      <th>total_cards</th>\n",
       "      <th>avg_cards_per_game</th>\n",
       "    </tr>\n",
       "  </thead>\n",
       "  <tbody>\n",
       "    <tr>\n",
       "      <th>103688</th>\n",
       "      <td>jean-pascal-mignot</td>\n",
       "      <td>Jean-Pascal Mignot</td>\n",
       "      <td>AS Saint-Étienne</td>\n",
       "      <td>France</td>\n",
       "      <td>26.02.1981</td>\n",
       "      <td>183.0</td>\n",
       "      <td>75.0</td>\n",
       "      <td>Center Back</td>\n",
       "      <td>1</td>\n",
       "      <td>1</td>\n",
       "      <td>...</td>\n",
       "      <td>72</td>\n",
       "      <td>PRT</td>\n",
       "      <td>0.396803</td>\n",
       "      <td>1079.0</td>\n",
       "      <td>0.000392</td>\n",
       "      <td>0.790366</td>\n",
       "      <td>1121.0</td>\n",
       "      <td>0.001798</td>\n",
       "      <td>3</td>\n",
       "      <td>3.0</td>\n",
       "    </tr>\n",
       "    <tr>\n",
       "      <th>59371</th>\n",
       "      <td>barragan_3</td>\n",
       "      <td>Barragán</td>\n",
       "      <td>Valencia CF</td>\n",
       "      <td>Spain</td>\n",
       "      <td>12.06.1987</td>\n",
       "      <td>187.0</td>\n",
       "      <td>83.0</td>\n",
       "      <td>Right Fullback</td>\n",
       "      <td>1</td>\n",
       "      <td>0</td>\n",
       "      <td>...</td>\n",
       "      <td>44</td>\n",
       "      <td>ENGL</td>\n",
       "      <td>0.326690</td>\n",
       "      <td>44791.0</td>\n",
       "      <td>0.000010</td>\n",
       "      <td>0.356446</td>\n",
       "      <td>46916.0</td>\n",
       "      <td>0.000037</td>\n",
       "      <td>2</td>\n",
       "      <td>2.0</td>\n",
       "    </tr>\n",
       "    <tr>\n",
       "      <th>115519</th>\n",
       "      <td>ricardo-costa</td>\n",
       "      <td>Ricardo Costa</td>\n",
       "      <td>Valencia CF</td>\n",
       "      <td>Spain</td>\n",
       "      <td>16.05.1981</td>\n",
       "      <td>183.0</td>\n",
       "      <td>80.0</td>\n",
       "      <td>Center Back</td>\n",
       "      <td>1</td>\n",
       "      <td>0</td>\n",
       "      <td>...</td>\n",
       "      <td>7</td>\n",
       "      <td>FRA</td>\n",
       "      <td>0.334684</td>\n",
       "      <td>2882.0</td>\n",
       "      <td>0.000151</td>\n",
       "      <td>0.336101</td>\n",
       "      <td>3011.0</td>\n",
       "      <td>0.000586</td>\n",
       "      <td>2</td>\n",
       "      <td>2.0</td>\n",
       "    </tr>\n",
       "    <tr>\n",
       "      <th>83849</th>\n",
       "      <td>david-villa</td>\n",
       "      <td>David Villa</td>\n",
       "      <td>FC Barcelona</td>\n",
       "      <td>Spain</td>\n",
       "      <td>03.12.1981</td>\n",
       "      <td>175.0</td>\n",
       "      <td>69.0</td>\n",
       "      <td>Center Forward</td>\n",
       "      <td>1</td>\n",
       "      <td>0</td>\n",
       "      <td>...</td>\n",
       "      <td>3</td>\n",
       "      <td>ESP</td>\n",
       "      <td>0.369894</td>\n",
       "      <td>1785.0</td>\n",
       "      <td>0.000229</td>\n",
       "      <td>0.588297</td>\n",
       "      <td>1897.0</td>\n",
       "      <td>0.001002</td>\n",
       "      <td>2</td>\n",
       "      <td>2.0</td>\n",
       "    </tr>\n",
       "    <tr>\n",
       "      <th>68897</th>\n",
       "      <td>apono</td>\n",
       "      <td>Apoño</td>\n",
       "      <td>Real Zaragoza</td>\n",
       "      <td>Spain</td>\n",
       "      <td>13.02.1984</td>\n",
       "      <td>173.0</td>\n",
       "      <td>72.0</td>\n",
       "      <td>Defensive Midfielder</td>\n",
       "      <td>1</td>\n",
       "      <td>1</td>\n",
       "      <td>...</td>\n",
       "      <td>3</td>\n",
       "      <td>ESP</td>\n",
       "      <td>0.369894</td>\n",
       "      <td>1785.0</td>\n",
       "      <td>0.000229</td>\n",
       "      <td>0.588297</td>\n",
       "      <td>1897.0</td>\n",
       "      <td>0.001002</td>\n",
       "      <td>2</td>\n",
       "      <td>2.0</td>\n",
       "    </tr>\n",
       "  </tbody>\n",
       "</table>\n",
       "<p>5 rows × 30 columns</p>\n",
       "</div>"
      ],
      "text/plain": [
       "               playerShort              player              club  \\\n",
       "103688  jean-pascal-mignot  Jean-Pascal Mignot  AS Saint-Étienne   \n",
       "59371           barragan_3            Barragán       Valencia CF   \n",
       "115519       ricardo-costa       Ricardo Costa       Valencia CF   \n",
       "83849          david-villa         David Villa      FC Barcelona   \n",
       "68897                apono               Apoño     Real Zaragoza   \n",
       "\n",
       "       leagueCountry    birthday  height  weight              position  games  \\\n",
       "103688        France  26.02.1981   183.0    75.0           Center Back      1   \n",
       "59371          Spain  12.06.1987   187.0    83.0        Right Fullback      1   \n",
       "115519         Spain  16.05.1981   183.0    80.0           Center Back      1   \n",
       "83849          Spain  03.12.1981   175.0    69.0        Center Forward      1   \n",
       "68897          Spain  13.02.1984   173.0    72.0  Defensive Midfielder      1   \n",
       "\n",
       "        victories  ...  refCountry  Alpha_3   meanIAT     nIAT     seIAT  \\\n",
       "103688          1  ...          72      PRT  0.396803   1079.0  0.000392   \n",
       "59371           0  ...          44     ENGL  0.326690  44791.0  0.000010   \n",
       "115519          0  ...           7      FRA  0.334684   2882.0  0.000151   \n",
       "83849           0  ...           3      ESP  0.369894   1785.0  0.000229   \n",
       "68897           1  ...           3      ESP  0.369894   1785.0  0.000229   \n",
       "\n",
       "         meanExp     nExp     seExp  total_cards  avg_cards_per_game  \n",
       "103688  0.790366   1121.0  0.001798            3                 3.0  \n",
       "59371   0.356446  46916.0  0.000037            2                 2.0  \n",
       "115519  0.336101   3011.0  0.000586            2                 2.0  \n",
       "83849   0.588297   1897.0  0.001002            2                 2.0  \n",
       "68897   0.588297   1897.0  0.001002            2                 2.0  \n",
       "\n",
       "[5 rows x 30 columns]"
      ]
     },
     "execution_count": 41,
     "metadata": {},
     "output_type": "execute_result"
    }
   ],
   "source": [
    "avg_cards_per_game_df[:5]"
   ]
  },
  {
   "cell_type": "markdown",
   "id": "a8737c82fd4ed8d6",
   "metadata": {
    "collapsed": false,
    "id": "a8737c82fd4ed8d6"
   },
   "source": [
    "# 5. Average number of cards per country\n",
    "Do the same as in 4. but this time for each country. This means we need to group the countries!"
   ]
  },
  {
   "cell_type": "markdown",
   "id": "e9bd2a02ae8c81c4",
   "metadata": {
    "collapsed": false,
    "id": "e9bd2a02ae8c81c4"
   },
   "source": [
    "## 5.1 Group the data by country.\n",
    "This is our first step. It will be annoying to calculate the average for each country otherwise."
   ]
  },
  {
   "cell_type": "code",
   "execution_count": 45,
   "id": "26eb64f82d50940f",
   "metadata": {
    "ExecuteTime": {
     "end_time": "2023-10-05T07:52:32.429120830Z",
     "start_time": "2023-10-05T07:52:32.392209414Z"
    },
    "id": "26eb64f82d50940f"
   },
   "outputs": [
    {
     "data": {
      "text/plain": [
       "<pandas.core.groupby.generic.DataFrameGroupBy object at 0x000002C60AF4F4F0>"
      ]
     },
     "execution_count": 45,
     "metadata": {},
     "output_type": "execute_result"
    }
   ],
   "source": [
    "grouped_by_country = df.groupby('leagueCountry')"
   ]
  },
  {
   "cell_type": "markdown",
   "id": "7b38b5cc528c6a1e",
   "metadata": {
    "collapsed": false,
    "id": "7b38b5cc528c6a1e"
   },
   "source": [
    "We can also use this to check what countries we have."
   ]
  },
  {
   "cell_type": "code",
   "execution_count": 46,
   "id": "50695420dc27fb1c",
   "metadata": {
    "ExecuteTime": {
     "end_time": "2023-10-05T07:52:32.492884148Z",
     "start_time": "2023-10-05T07:52:32.393980921Z"
    },
    "colab": {
     "base_uri": "https://localhost:8080/"
    },
    "id": "50695420dc27fb1c",
    "outputId": "960aed26-ae91-4b2f-df94-31d77b5c3ba9"
   },
   "outputs": [
    {
     "data": {
      "text/plain": [
       "<pandas.core.groupby.generic.DataFrameGroupBy object at 0x000002C60AF4F4F0>"
      ]
     },
     "execution_count": 46,
     "metadata": {},
     "output_type": "execute_result"
    }
   ],
   "source": [
    "grouped_by_country.groups.keys()"
   ]
  },
  {
   "cell_type": "markdown",
   "id": "b3f64f4f5c713070",
   "metadata": {
    "collapsed": false,
    "id": "b3f64f4f5c713070"
   },
   "source": [
    "## 5.2 Calculate the average number of cards per game for each country."
   ]
  },
  {
   "cell_type": "code",
   "execution_count": 47,
   "id": "adf1a95830a48407",
   "metadata": {
    "ExecuteTime": {
     "end_time": "2023-10-05T07:52:32.493292707Z",
     "start_time": "2023-10-05T07:52:32.437447474Z"
    },
    "colab": {
     "base_uri": "https://localhost:8080/"
    },
    "id": "adf1a95830a48407",
    "outputId": "20159b9d-0055-464c-905a-756ba2955371"
   },
   "outputs": [
    {
     "data": {
      "text/plain": [
       "leagueCountry\n",
       "England    0.115345\n",
       "France     0.132275\n",
       "Germany    0.128539\n",
       "Spain      0.176037\n",
       "dtype: float64"
      ]
     },
     "execution_count": 47,
     "metadata": {},
     "output_type": "execute_result"
    }
   ],
   "source": [
    "(grouped_by_country['yellowCards'].sum() + grouped_by_country['redCards'].sum()) / grouped_by_country['games'].sum()"
   ]
  }
 ],
 "metadata": {
  "colab": {
   "provenance": []
  },
  "kernelspec": {
   "display_name": "Python 3",
   "language": "python",
   "name": "python3"
  },
  "language_info": {
   "codemirror_mode": {
    "name": "ipython",
    "version": 3
   },
   "file_extension": ".py",
   "mimetype": "text/x-python",
   "name": "python",
   "nbconvert_exporter": "python",
   "pygments_lexer": "ipython3",
   "version": "3.9.12"
  }
 },
 "nbformat": 4,
 "nbformat_minor": 5
}
