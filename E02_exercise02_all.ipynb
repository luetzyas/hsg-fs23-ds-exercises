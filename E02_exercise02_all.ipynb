{
 "cells": [
  {
   "cell_type": "code",
   "execution_count": 1,
   "id": "initial_id",
   "metadata": {
    "collapsed": true,
    "id": "initial_id",
    "ExecuteTime": {
     "end_time": "2023-10-11T08:56:23.219380239Z",
     "start_time": "2023-10-11T08:56:22.643614684Z"
    }
   },
   "outputs": [],
   "source": [
    "import pandas as pd\n",
    "import numpy as np"
   ]
  },
  {
   "cell_type": "markdown",
   "source": [
    "# 1. Load the data\n",
    "Find a way to load the data into a pandas dataframe. You can find the data here: https://osf.io/fv8c3."
   ],
   "metadata": {
    "collapsed": false,
    "id": "10a6c00f800cbd46"
   },
   "id": "10a6c00f800cbd46"
  },
  {
   "cell_type": "code",
   "execution_count": 2,
   "outputs": [
    {
     "data": {
      "text/plain": "     playerShort         player             club leagueCountry    birthday  \\\n0  lucas-wilchez  Lucas Wilchez    Real Zaragoza         Spain  31.08.1983   \n1     john-utaka     John Utaka  Montpellier HSC        France  08.01.1982   \n2    abdon-prats    Abdón Prats     RCD Mallorca         Spain  17.12.1992   \n3     pablo-mari     Pablo Marí     RCD Mallorca         Spain  31.08.1993   \n4     ruben-pena     Rubén Peña  Real Valladolid         Spain  18.07.1991   \n\n   height  weight              position  games  victories  ...  rater2  \\\n0   177.0    72.0  Attacking Midfielder      1          0  ...    0.50   \n1   179.0    82.0          Right Winger      1          0  ...    0.75   \n2   181.0    79.0                   NaN      1          0  ...     NaN   \n3   191.0    87.0           Center Back      1          1  ...     NaN   \n4   172.0    70.0      Right Midfielder      1          1  ...     NaN   \n\n   refNum  refCountry  Alpha_3   meanIAT    nIAT     seIAT   meanExp    nExp  \\\n0       1           1      GRC  0.326391   712.0  0.000564  0.396000   750.0   \n1       2           2      ZMB  0.203375    40.0  0.010875 -0.204082    49.0   \n2       3           3      ESP  0.369894  1785.0  0.000229  0.588297  1897.0   \n3       3           3      ESP  0.369894  1785.0  0.000229  0.588297  1897.0   \n4       3           3      ESP  0.369894  1785.0  0.000229  0.588297  1897.0   \n\n      seExp  \n0  0.002696  \n1  0.061504  \n2  0.001002  \n3  0.001002  \n4  0.001002  \n\n[5 rows x 28 columns]",
      "text/html": "<div>\n<style scoped>\n    .dataframe tbody tr th:only-of-type {\n        vertical-align: middle;\n    }\n\n    .dataframe tbody tr th {\n        vertical-align: top;\n    }\n\n    .dataframe thead th {\n        text-align: right;\n    }\n</style>\n<table border=\"1\" class=\"dataframe\">\n  <thead>\n    <tr style=\"text-align: right;\">\n      <th></th>\n      <th>playerShort</th>\n      <th>player</th>\n      <th>club</th>\n      <th>leagueCountry</th>\n      <th>birthday</th>\n      <th>height</th>\n      <th>weight</th>\n      <th>position</th>\n      <th>games</th>\n      <th>victories</th>\n      <th>...</th>\n      <th>rater2</th>\n      <th>refNum</th>\n      <th>refCountry</th>\n      <th>Alpha_3</th>\n      <th>meanIAT</th>\n      <th>nIAT</th>\n      <th>seIAT</th>\n      <th>meanExp</th>\n      <th>nExp</th>\n      <th>seExp</th>\n    </tr>\n  </thead>\n  <tbody>\n    <tr>\n      <th>0</th>\n      <td>lucas-wilchez</td>\n      <td>Lucas Wilchez</td>\n      <td>Real Zaragoza</td>\n      <td>Spain</td>\n      <td>31.08.1983</td>\n      <td>177.0</td>\n      <td>72.0</td>\n      <td>Attacking Midfielder</td>\n      <td>1</td>\n      <td>0</td>\n      <td>...</td>\n      <td>0.50</td>\n      <td>1</td>\n      <td>1</td>\n      <td>GRC</td>\n      <td>0.326391</td>\n      <td>712.0</td>\n      <td>0.000564</td>\n      <td>0.396000</td>\n      <td>750.0</td>\n      <td>0.002696</td>\n    </tr>\n    <tr>\n      <th>1</th>\n      <td>john-utaka</td>\n      <td>John Utaka</td>\n      <td>Montpellier HSC</td>\n      <td>France</td>\n      <td>08.01.1982</td>\n      <td>179.0</td>\n      <td>82.0</td>\n      <td>Right Winger</td>\n      <td>1</td>\n      <td>0</td>\n      <td>...</td>\n      <td>0.75</td>\n      <td>2</td>\n      <td>2</td>\n      <td>ZMB</td>\n      <td>0.203375</td>\n      <td>40.0</td>\n      <td>0.010875</td>\n      <td>-0.204082</td>\n      <td>49.0</td>\n      <td>0.061504</td>\n    </tr>\n    <tr>\n      <th>2</th>\n      <td>abdon-prats</td>\n      <td>Abdón Prats</td>\n      <td>RCD Mallorca</td>\n      <td>Spain</td>\n      <td>17.12.1992</td>\n      <td>181.0</td>\n      <td>79.0</td>\n      <td>NaN</td>\n      <td>1</td>\n      <td>0</td>\n      <td>...</td>\n      <td>NaN</td>\n      <td>3</td>\n      <td>3</td>\n      <td>ESP</td>\n      <td>0.369894</td>\n      <td>1785.0</td>\n      <td>0.000229</td>\n      <td>0.588297</td>\n      <td>1897.0</td>\n      <td>0.001002</td>\n    </tr>\n    <tr>\n      <th>3</th>\n      <td>pablo-mari</td>\n      <td>Pablo Marí</td>\n      <td>RCD Mallorca</td>\n      <td>Spain</td>\n      <td>31.08.1993</td>\n      <td>191.0</td>\n      <td>87.0</td>\n      <td>Center Back</td>\n      <td>1</td>\n      <td>1</td>\n      <td>...</td>\n      <td>NaN</td>\n      <td>3</td>\n      <td>3</td>\n      <td>ESP</td>\n      <td>0.369894</td>\n      <td>1785.0</td>\n      <td>0.000229</td>\n      <td>0.588297</td>\n      <td>1897.0</td>\n      <td>0.001002</td>\n    </tr>\n    <tr>\n      <th>4</th>\n      <td>ruben-pena</td>\n      <td>Rubén Peña</td>\n      <td>Real Valladolid</td>\n      <td>Spain</td>\n      <td>18.07.1991</td>\n      <td>172.0</td>\n      <td>70.0</td>\n      <td>Right Midfielder</td>\n      <td>1</td>\n      <td>1</td>\n      <td>...</td>\n      <td>NaN</td>\n      <td>3</td>\n      <td>3</td>\n      <td>ESP</td>\n      <td>0.369894</td>\n      <td>1785.0</td>\n      <td>0.000229</td>\n      <td>0.588297</td>\n      <td>1897.0</td>\n      <td>0.001002</td>\n    </tr>\n  </tbody>\n</table>\n<p>5 rows × 28 columns</p>\n</div>"
     },
     "execution_count": 2,
     "metadata": {},
     "output_type": "execute_result"
    }
   ],
   "source": [
    "df = pd.read_csv('CrowdstormingDataJuly1st.csv')\n",
    "df.head()"
   ],
   "metadata": {
    "colab": {
     "base_uri": "https://localhost:8080/",
     "height": 270
    },
    "id": "dbbb55920a066c05",
    "outputId": "81ef6680-d444-43b3-9003-148b38df34f6",
    "ExecuteTime": {
     "end_time": "2023-10-11T08:56:23.317802045Z",
     "start_time": "2023-10-11T08:56:22.979716583Z"
    }
   },
   "id": "dbbb55920a066c05"
  },
  {
   "cell_type": "code",
   "execution_count": 3,
   "outputs": [
    {
     "data": {
      "text/plain": "                playerShort               player                  club  \\\n0             lucas-wilchez        Lucas Wilchez         Real Zaragoza   \n1                john-utaka           John Utaka       Montpellier HSC   \n2               abdon-prats          Abdón Prats          RCD Mallorca   \n3                pablo-mari           Pablo Marí          RCD Mallorca   \n4                ruben-pena           Rubén Peña       Real Valladolid   \n...                     ...                  ...                   ...   \n146023        tomas-rosicky        Tomáš Rosický            Arsenal FC   \n146024         winston-reid         Winston Reid       West Ham United   \n146025      xherdan-shaqiri      Xherdan Shaqiri        Bayern München   \n146026  yassine-el-ghanassi  Yassine El Ghanassi  West Bromwich Albion   \n146027         zdenk-pospch       Zdeněk Pospěch       1. FSV Mainz 05   \n\n       leagueCountry    birthday  height  weight              position  games  \\\n0              Spain  31.08.1983   177.0    72.0  Attacking Midfielder      1   \n1             France  08.01.1982   179.0    82.0          Right Winger      1   \n2              Spain  17.12.1992   181.0    79.0                   NaN      1   \n3              Spain  31.08.1993   191.0    87.0           Center Back      1   \n4              Spain  18.07.1991   172.0    70.0      Right Midfielder      1   \n...              ...         ...     ...     ...                   ...    ...   \n146023       England  04.10.1980   178.0    67.0  Attacking Midfielder      1   \n146024       England  03.07.1988   190.0    87.0           Center Back      1   \n146025       Germany  10.10.1991   169.0    72.0       Left Midfielder      1   \n146026       England  12.07.1990   173.0     NaN           Left Winger      1   \n146027       Germany  14.12.1978   174.0    72.0        Right Fullback      1   \n\n        victories  ...  rater2  refNum  refCountry  Alpha_3   meanIAT    nIAT  \\\n0               0  ...    0.50       1           1      GRC  0.326391   712.0   \n1               0  ...    0.75       2           2      ZMB  0.203375    40.0   \n2               0  ...     NaN       3           3      ESP  0.369894  1785.0   \n3               1  ...     NaN       3           3      ESP  0.369894  1785.0   \n4               1  ...     NaN       3           3      ESP  0.369894  1785.0   \n...           ...  ...     ...     ...         ...      ...       ...     ...   \n146023          1  ...    0.00    3147          21      HUN  0.376127   574.0   \n146024          0  ...    0.50    3147          21      HUN  0.376127   574.0   \n146025          1  ...    0.25    3147          21      HUN  0.376127   574.0   \n146026          0  ...    0.50    3147          21      HUN  0.376127   574.0   \n146027          0  ...    0.25    3147          21      HUN  0.376127   574.0   \n\n           seIAT   meanExp    nExp     seExp  \n0       0.000564  0.396000   750.0  0.002696  \n1       0.010875 -0.204082    49.0  0.061504  \n2       0.000229  0.588297  1897.0  0.001002  \n3       0.000229  0.588297  1897.0  0.001002  \n4       0.000229  0.588297  1897.0  0.001002  \n...          ...       ...     ...       ...  \n146023  0.000714  0.498350   606.0  0.002968  \n146024  0.000714  0.498350   606.0  0.002968  \n146025  0.000714  0.498350   606.0  0.002968  \n146026  0.000714  0.498350   606.0  0.002968  \n146027  0.000714  0.498350   606.0  0.002968  \n\n[146028 rows x 28 columns]",
      "text/html": "<div>\n<style scoped>\n    .dataframe tbody tr th:only-of-type {\n        vertical-align: middle;\n    }\n\n    .dataframe tbody tr th {\n        vertical-align: top;\n    }\n\n    .dataframe thead th {\n        text-align: right;\n    }\n</style>\n<table border=\"1\" class=\"dataframe\">\n  <thead>\n    <tr style=\"text-align: right;\">\n      <th></th>\n      <th>playerShort</th>\n      <th>player</th>\n      <th>club</th>\n      <th>leagueCountry</th>\n      <th>birthday</th>\n      <th>height</th>\n      <th>weight</th>\n      <th>position</th>\n      <th>games</th>\n      <th>victories</th>\n      <th>...</th>\n      <th>rater2</th>\n      <th>refNum</th>\n      <th>refCountry</th>\n      <th>Alpha_3</th>\n      <th>meanIAT</th>\n      <th>nIAT</th>\n      <th>seIAT</th>\n      <th>meanExp</th>\n      <th>nExp</th>\n      <th>seExp</th>\n    </tr>\n  </thead>\n  <tbody>\n    <tr>\n      <th>0</th>\n      <td>lucas-wilchez</td>\n      <td>Lucas Wilchez</td>\n      <td>Real Zaragoza</td>\n      <td>Spain</td>\n      <td>31.08.1983</td>\n      <td>177.0</td>\n      <td>72.0</td>\n      <td>Attacking Midfielder</td>\n      <td>1</td>\n      <td>0</td>\n      <td>...</td>\n      <td>0.50</td>\n      <td>1</td>\n      <td>1</td>\n      <td>GRC</td>\n      <td>0.326391</td>\n      <td>712.0</td>\n      <td>0.000564</td>\n      <td>0.396000</td>\n      <td>750.0</td>\n      <td>0.002696</td>\n    </tr>\n    <tr>\n      <th>1</th>\n      <td>john-utaka</td>\n      <td>John Utaka</td>\n      <td>Montpellier HSC</td>\n      <td>France</td>\n      <td>08.01.1982</td>\n      <td>179.0</td>\n      <td>82.0</td>\n      <td>Right Winger</td>\n      <td>1</td>\n      <td>0</td>\n      <td>...</td>\n      <td>0.75</td>\n      <td>2</td>\n      <td>2</td>\n      <td>ZMB</td>\n      <td>0.203375</td>\n      <td>40.0</td>\n      <td>0.010875</td>\n      <td>-0.204082</td>\n      <td>49.0</td>\n      <td>0.061504</td>\n    </tr>\n    <tr>\n      <th>2</th>\n      <td>abdon-prats</td>\n      <td>Abdón Prats</td>\n      <td>RCD Mallorca</td>\n      <td>Spain</td>\n      <td>17.12.1992</td>\n      <td>181.0</td>\n      <td>79.0</td>\n      <td>NaN</td>\n      <td>1</td>\n      <td>0</td>\n      <td>...</td>\n      <td>NaN</td>\n      <td>3</td>\n      <td>3</td>\n      <td>ESP</td>\n      <td>0.369894</td>\n      <td>1785.0</td>\n      <td>0.000229</td>\n      <td>0.588297</td>\n      <td>1897.0</td>\n      <td>0.001002</td>\n    </tr>\n    <tr>\n      <th>3</th>\n      <td>pablo-mari</td>\n      <td>Pablo Marí</td>\n      <td>RCD Mallorca</td>\n      <td>Spain</td>\n      <td>31.08.1993</td>\n      <td>191.0</td>\n      <td>87.0</td>\n      <td>Center Back</td>\n      <td>1</td>\n      <td>1</td>\n      <td>...</td>\n      <td>NaN</td>\n      <td>3</td>\n      <td>3</td>\n      <td>ESP</td>\n      <td>0.369894</td>\n      <td>1785.0</td>\n      <td>0.000229</td>\n      <td>0.588297</td>\n      <td>1897.0</td>\n      <td>0.001002</td>\n    </tr>\n    <tr>\n      <th>4</th>\n      <td>ruben-pena</td>\n      <td>Rubén Peña</td>\n      <td>Real Valladolid</td>\n      <td>Spain</td>\n      <td>18.07.1991</td>\n      <td>172.0</td>\n      <td>70.0</td>\n      <td>Right Midfielder</td>\n      <td>1</td>\n      <td>1</td>\n      <td>...</td>\n      <td>NaN</td>\n      <td>3</td>\n      <td>3</td>\n      <td>ESP</td>\n      <td>0.369894</td>\n      <td>1785.0</td>\n      <td>0.000229</td>\n      <td>0.588297</td>\n      <td>1897.0</td>\n      <td>0.001002</td>\n    </tr>\n    <tr>\n      <th>...</th>\n      <td>...</td>\n      <td>...</td>\n      <td>...</td>\n      <td>...</td>\n      <td>...</td>\n      <td>...</td>\n      <td>...</td>\n      <td>...</td>\n      <td>...</td>\n      <td>...</td>\n      <td>...</td>\n      <td>...</td>\n      <td>...</td>\n      <td>...</td>\n      <td>...</td>\n      <td>...</td>\n      <td>...</td>\n      <td>...</td>\n      <td>...</td>\n      <td>...</td>\n      <td>...</td>\n    </tr>\n    <tr>\n      <th>146023</th>\n      <td>tomas-rosicky</td>\n      <td>Tomáš Rosický</td>\n      <td>Arsenal FC</td>\n      <td>England</td>\n      <td>04.10.1980</td>\n      <td>178.0</td>\n      <td>67.0</td>\n      <td>Attacking Midfielder</td>\n      <td>1</td>\n      <td>1</td>\n      <td>...</td>\n      <td>0.00</td>\n      <td>3147</td>\n      <td>21</td>\n      <td>HUN</td>\n      <td>0.376127</td>\n      <td>574.0</td>\n      <td>0.000714</td>\n      <td>0.498350</td>\n      <td>606.0</td>\n      <td>0.002968</td>\n    </tr>\n    <tr>\n      <th>146024</th>\n      <td>winston-reid</td>\n      <td>Winston Reid</td>\n      <td>West Ham United</td>\n      <td>England</td>\n      <td>03.07.1988</td>\n      <td>190.0</td>\n      <td>87.0</td>\n      <td>Center Back</td>\n      <td>1</td>\n      <td>0</td>\n      <td>...</td>\n      <td>0.50</td>\n      <td>3147</td>\n      <td>21</td>\n      <td>HUN</td>\n      <td>0.376127</td>\n      <td>574.0</td>\n      <td>0.000714</td>\n      <td>0.498350</td>\n      <td>606.0</td>\n      <td>0.002968</td>\n    </tr>\n    <tr>\n      <th>146025</th>\n      <td>xherdan-shaqiri</td>\n      <td>Xherdan Shaqiri</td>\n      <td>Bayern München</td>\n      <td>Germany</td>\n      <td>10.10.1991</td>\n      <td>169.0</td>\n      <td>72.0</td>\n      <td>Left Midfielder</td>\n      <td>1</td>\n      <td>1</td>\n      <td>...</td>\n      <td>0.25</td>\n      <td>3147</td>\n      <td>21</td>\n      <td>HUN</td>\n      <td>0.376127</td>\n      <td>574.0</td>\n      <td>0.000714</td>\n      <td>0.498350</td>\n      <td>606.0</td>\n      <td>0.002968</td>\n    </tr>\n    <tr>\n      <th>146026</th>\n      <td>yassine-el-ghanassi</td>\n      <td>Yassine El Ghanassi</td>\n      <td>West Bromwich Albion</td>\n      <td>England</td>\n      <td>12.07.1990</td>\n      <td>173.0</td>\n      <td>NaN</td>\n      <td>Left Winger</td>\n      <td>1</td>\n      <td>0</td>\n      <td>...</td>\n      <td>0.50</td>\n      <td>3147</td>\n      <td>21</td>\n      <td>HUN</td>\n      <td>0.376127</td>\n      <td>574.0</td>\n      <td>0.000714</td>\n      <td>0.498350</td>\n      <td>606.0</td>\n      <td>0.002968</td>\n    </tr>\n    <tr>\n      <th>146027</th>\n      <td>zdenk-pospch</td>\n      <td>Zdeněk Pospěch</td>\n      <td>1. FSV Mainz 05</td>\n      <td>Germany</td>\n      <td>14.12.1978</td>\n      <td>174.0</td>\n      <td>72.0</td>\n      <td>Right Fullback</td>\n      <td>1</td>\n      <td>0</td>\n      <td>...</td>\n      <td>0.25</td>\n      <td>3147</td>\n      <td>21</td>\n      <td>HUN</td>\n      <td>0.376127</td>\n      <td>574.0</td>\n      <td>0.000714</td>\n      <td>0.498350</td>\n      <td>606.0</td>\n      <td>0.002968</td>\n    </tr>\n  </tbody>\n</table>\n<p>146028 rows × 28 columns</p>\n</div>"
     },
     "execution_count": 3,
     "metadata": {},
     "output_type": "execute_result"
    }
   ],
   "source": [
    "df"
   ],
   "metadata": {
    "collapsed": false,
    "ExecuteTime": {
     "end_time": "2023-10-11T08:56:23.392263191Z",
     "start_time": "2023-10-11T08:56:23.307356009Z"
    }
   },
   "id": "a69d7716a413d366"
  },
  {
   "cell_type": "code",
   "execution_count": 4,
   "outputs": [
    {
     "data": {
      "text/plain": "Index(['playerShort', 'player', 'club', 'leagueCountry', 'birthday', 'height',\n       'weight', 'position', 'games', 'victories', 'ties', 'defeats', 'goals',\n       'yellowCards', 'yellowReds', 'redCards', 'photoID', 'rater1', 'rater2',\n       'refNum', 'refCountry', 'Alpha_3', 'meanIAT', 'nIAT', 'seIAT',\n       'meanExp', 'nExp', 'seExp'],\n      dtype='object')"
     },
     "execution_count": 4,
     "metadata": {},
     "output_type": "execute_result"
    }
   ],
   "source": [
    "df.columns"
   ],
   "metadata": {
    "colab": {
     "base_uri": "https://localhost:8080/"
    },
    "id": "98d8789cc768d2b3",
    "outputId": "879407c1-66bf-4b50-c6ba-603fdb15ba2c",
    "ExecuteTime": {
     "end_time": "2023-10-11T08:56:23.422884126Z",
     "start_time": "2023-10-11T08:56:23.347638665Z"
    }
   },
   "id": "98d8789cc768d2b3"
  },
  {
   "cell_type": "code",
   "execution_count": 5,
   "outputs": [
    {
     "data": {
      "text/plain": "(146028, 28)"
     },
     "execution_count": 5,
     "metadata": {},
     "output_type": "execute_result"
    }
   ],
   "source": [
    "df.shape"
   ],
   "metadata": {
    "colab": {
     "base_uri": "https://localhost:8080/"
    },
    "id": "73223e44d4c1ff5c",
    "outputId": "371fadf5-2f37-4e76-a911-c7e3702f1f93",
    "ExecuteTime": {
     "end_time": "2023-10-11T08:56:23.423870472Z",
     "start_time": "2023-10-11T08:56:23.352312182Z"
    }
   },
   "id": "73223e44d4c1ff5c"
  },
  {
   "cell_type": "markdown",
   "source": [
    "# 2. Clean the data\n",
    "Here we use a very simple approach to clean the data. We remove all the rows that contain missing values. You can use a more sophisticated approach if you want."
   ],
   "metadata": {
    "collapsed": false,
    "id": "9e4c72db24c6dd9d"
   },
   "id": "9e4c72db24c6dd9d"
  },
  {
   "cell_type": "code",
   "execution_count": 6,
   "outputs": [
    {
     "data": {
      "text/plain": "(115457, 28)"
     },
     "execution_count": 6,
     "metadata": {},
     "output_type": "execute_result"
    }
   ],
   "source": [
    "df = df.dropna()\n",
    "df.shape"
   ],
   "metadata": {
    "colab": {
     "base_uri": "https://localhost:8080/"
    },
    "id": "e7333e2f25a544f0",
    "outputId": "35d5ae82-1aaa-4464-a308-50d76a52e861",
    "ExecuteTime": {
     "end_time": "2023-10-11T08:56:23.476942155Z",
     "start_time": "2023-10-11T08:56:23.356106760Z"
    }
   },
   "id": "e7333e2f25a544f0"
  },
  {
   "cell_type": "markdown",
   "source": [],
   "metadata": {
    "collapsed": false,
    "id": "bae1b95c91d76588"
   },
   "id": "bae1b95c91d76588"
  },
  {
   "cell_type": "code",
   "execution_count": 7,
   "outputs": [
    {
     "data": {
      "text/plain": "115457"
     },
     "execution_count": 7,
     "metadata": {},
     "output_type": "execute_result"
    }
   ],
   "source": [
    "len(df)"
   ],
   "metadata": {
    "colab": {
     "base_uri": "https://localhost:8080/"
    },
    "id": "94c9f6d9449008c1",
    "outputId": "8e99911f-3e04-4555-e54c-3bf2e94daf4e",
    "ExecuteTime": {
     "end_time": "2023-10-11T08:56:23.477538938Z",
     "start_time": "2023-10-11T08:56:23.397909819Z"
    }
   },
   "id": "94c9f6d9449008c1"
  },
  {
   "cell_type": "markdown",
   "source": [
    "# 3. Simple statistics\n",
    "Calculate the mean, median, min and maximum values for all columns."
   ],
   "metadata": {
    "collapsed": false,
    "id": "cfed0e02b300dd04"
   },
   "id": "cfed0e02b300dd04"
  },
  {
   "cell_type": "code",
   "execution_count": 8,
   "outputs": [
    {
     "data": {
      "text/plain": "              height         weight          games      victories  \\\ncount  115457.000000  115457.000000  115457.000000  115457.000000   \nmean      182.176135      76.517413       3.033761       1.371506   \nstd         6.855077       7.187210       3.641059       1.918978   \nmin       161.000000      55.000000       1.000000       0.000000   \n25%       178.000000      72.000000       1.000000       0.000000   \n50%       183.000000      76.000000       1.000000       1.000000   \n75%       187.000000      81.000000       3.000000       2.000000   \nmax       203.000000     100.000000      47.000000      29.000000   \n\n                ties        defeats          goals    yellowCards  \\\ncount  115457.000000  115457.000000  115457.000000  115457.000000   \nmean        0.721134       0.941121       0.360351       0.404592   \nstd         1.155027       1.433641       0.960867       0.831051   \nmin         0.000000       0.000000       0.000000       0.000000   \n25%         0.000000       0.000000       0.000000       0.000000   \n50%         0.000000       1.000000       0.000000       0.000000   \n75%         1.000000       1.000000       0.000000       1.000000   \nmax        14.000000      18.000000      23.000000      14.000000   \n\n          yellowReds       redCards         rater1         rater2  \\\ncount  115457.000000  115457.000000  115457.000000  115457.000000   \nmean        0.012290       0.012801       0.261946       0.300796   \nstd         0.112127       0.114175       0.294666       0.291061   \nmin         0.000000       0.000000       0.000000       0.000000   \n25%         0.000000       0.000000       0.000000       0.000000   \n50%         0.000000       0.000000       0.250000       0.250000   \n75%         0.000000       0.000000       0.250000       0.500000   \nmax         3.000000       2.000000       1.000000       1.000000   \n\n              refNum     refCountry        meanIAT          nIAT  \\\ncount  115457.000000  115457.000000  115457.000000  1.154570e+05   \nmean     1532.497363      29.367124       0.348564  1.772543e+04   \nstd       916.310481      27.981717       0.032004  1.260788e+05   \nmin         1.000000       1.000000      -0.047254  2.000000e+00   \n25%       652.000000       7.000000       0.334684  1.785000e+03   \n50%      1579.000000      15.000000       0.336628  2.882000e+03   \n75%      2337.000000      45.000000       0.369894  7.749000e+03   \nmax      3147.000000     161.000000       0.573793  1.975803e+06   \n\n              seIAT        meanExp          nExp          seExp  \ncount  1.154570e+05  115457.000000  1.154570e+05  115457.000000  \nmean   6.292873e-04       0.466222  1.837261e+04       0.002993  \nstd    4.801956e-03       0.219350  1.295339e+05       0.019733  \nmin    2.235373e-07      -1.375000  2.000000e+00       0.000001  \n25%    5.454025e-05       0.335967  1.897000e+03       0.000225  \n50%    1.508847e-04       0.356446  3.011000e+03       0.000586  \n75%    2.294896e-04       0.588297  7.974000e+03       0.001002  \nmax    2.862871e-01       1.800000  2.029548e+06       1.060660  ",
      "text/html": "<div>\n<style scoped>\n    .dataframe tbody tr th:only-of-type {\n        vertical-align: middle;\n    }\n\n    .dataframe tbody tr th {\n        vertical-align: top;\n    }\n\n    .dataframe thead th {\n        text-align: right;\n    }\n</style>\n<table border=\"1\" class=\"dataframe\">\n  <thead>\n    <tr style=\"text-align: right;\">\n      <th></th>\n      <th>height</th>\n      <th>weight</th>\n      <th>games</th>\n      <th>victories</th>\n      <th>ties</th>\n      <th>defeats</th>\n      <th>goals</th>\n      <th>yellowCards</th>\n      <th>yellowReds</th>\n      <th>redCards</th>\n      <th>rater1</th>\n      <th>rater2</th>\n      <th>refNum</th>\n      <th>refCountry</th>\n      <th>meanIAT</th>\n      <th>nIAT</th>\n      <th>seIAT</th>\n      <th>meanExp</th>\n      <th>nExp</th>\n      <th>seExp</th>\n    </tr>\n  </thead>\n  <tbody>\n    <tr>\n      <th>count</th>\n      <td>115457.000000</td>\n      <td>115457.000000</td>\n      <td>115457.000000</td>\n      <td>115457.000000</td>\n      <td>115457.000000</td>\n      <td>115457.000000</td>\n      <td>115457.000000</td>\n      <td>115457.000000</td>\n      <td>115457.000000</td>\n      <td>115457.000000</td>\n      <td>115457.000000</td>\n      <td>115457.000000</td>\n      <td>115457.000000</td>\n      <td>115457.000000</td>\n      <td>115457.000000</td>\n      <td>1.154570e+05</td>\n      <td>1.154570e+05</td>\n      <td>115457.000000</td>\n      <td>1.154570e+05</td>\n      <td>115457.000000</td>\n    </tr>\n    <tr>\n      <th>mean</th>\n      <td>182.176135</td>\n      <td>76.517413</td>\n      <td>3.033761</td>\n      <td>1.371506</td>\n      <td>0.721134</td>\n      <td>0.941121</td>\n      <td>0.360351</td>\n      <td>0.404592</td>\n      <td>0.012290</td>\n      <td>0.012801</td>\n      <td>0.261946</td>\n      <td>0.300796</td>\n      <td>1532.497363</td>\n      <td>29.367124</td>\n      <td>0.348564</td>\n      <td>1.772543e+04</td>\n      <td>6.292873e-04</td>\n      <td>0.466222</td>\n      <td>1.837261e+04</td>\n      <td>0.002993</td>\n    </tr>\n    <tr>\n      <th>std</th>\n      <td>6.855077</td>\n      <td>7.187210</td>\n      <td>3.641059</td>\n      <td>1.918978</td>\n      <td>1.155027</td>\n      <td>1.433641</td>\n      <td>0.960867</td>\n      <td>0.831051</td>\n      <td>0.112127</td>\n      <td>0.114175</td>\n      <td>0.294666</td>\n      <td>0.291061</td>\n      <td>916.310481</td>\n      <td>27.981717</td>\n      <td>0.032004</td>\n      <td>1.260788e+05</td>\n      <td>4.801956e-03</td>\n      <td>0.219350</td>\n      <td>1.295339e+05</td>\n      <td>0.019733</td>\n    </tr>\n    <tr>\n      <th>min</th>\n      <td>161.000000</td>\n      <td>55.000000</td>\n      <td>1.000000</td>\n      <td>0.000000</td>\n      <td>0.000000</td>\n      <td>0.000000</td>\n      <td>0.000000</td>\n      <td>0.000000</td>\n      <td>0.000000</td>\n      <td>0.000000</td>\n      <td>0.000000</td>\n      <td>0.000000</td>\n      <td>1.000000</td>\n      <td>1.000000</td>\n      <td>-0.047254</td>\n      <td>2.000000e+00</td>\n      <td>2.235373e-07</td>\n      <td>-1.375000</td>\n      <td>2.000000e+00</td>\n      <td>0.000001</td>\n    </tr>\n    <tr>\n      <th>25%</th>\n      <td>178.000000</td>\n      <td>72.000000</td>\n      <td>1.000000</td>\n      <td>0.000000</td>\n      <td>0.000000</td>\n      <td>0.000000</td>\n      <td>0.000000</td>\n      <td>0.000000</td>\n      <td>0.000000</td>\n      <td>0.000000</td>\n      <td>0.000000</td>\n      <td>0.000000</td>\n      <td>652.000000</td>\n      <td>7.000000</td>\n      <td>0.334684</td>\n      <td>1.785000e+03</td>\n      <td>5.454025e-05</td>\n      <td>0.335967</td>\n      <td>1.897000e+03</td>\n      <td>0.000225</td>\n    </tr>\n    <tr>\n      <th>50%</th>\n      <td>183.000000</td>\n      <td>76.000000</td>\n      <td>1.000000</td>\n      <td>1.000000</td>\n      <td>0.000000</td>\n      <td>1.000000</td>\n      <td>0.000000</td>\n      <td>0.000000</td>\n      <td>0.000000</td>\n      <td>0.000000</td>\n      <td>0.250000</td>\n      <td>0.250000</td>\n      <td>1579.000000</td>\n      <td>15.000000</td>\n      <td>0.336628</td>\n      <td>2.882000e+03</td>\n      <td>1.508847e-04</td>\n      <td>0.356446</td>\n      <td>3.011000e+03</td>\n      <td>0.000586</td>\n    </tr>\n    <tr>\n      <th>75%</th>\n      <td>187.000000</td>\n      <td>81.000000</td>\n      <td>3.000000</td>\n      <td>2.000000</td>\n      <td>1.000000</td>\n      <td>1.000000</td>\n      <td>0.000000</td>\n      <td>1.000000</td>\n      <td>0.000000</td>\n      <td>0.000000</td>\n      <td>0.250000</td>\n      <td>0.500000</td>\n      <td>2337.000000</td>\n      <td>45.000000</td>\n      <td>0.369894</td>\n      <td>7.749000e+03</td>\n      <td>2.294896e-04</td>\n      <td>0.588297</td>\n      <td>7.974000e+03</td>\n      <td>0.001002</td>\n    </tr>\n    <tr>\n      <th>max</th>\n      <td>203.000000</td>\n      <td>100.000000</td>\n      <td>47.000000</td>\n      <td>29.000000</td>\n      <td>14.000000</td>\n      <td>18.000000</td>\n      <td>23.000000</td>\n      <td>14.000000</td>\n      <td>3.000000</td>\n      <td>2.000000</td>\n      <td>1.000000</td>\n      <td>1.000000</td>\n      <td>3147.000000</td>\n      <td>161.000000</td>\n      <td>0.573793</td>\n      <td>1.975803e+06</td>\n      <td>2.862871e-01</td>\n      <td>1.800000</td>\n      <td>2.029548e+06</td>\n      <td>1.060660</td>\n    </tr>\n  </tbody>\n</table>\n</div>"
     },
     "execution_count": 8,
     "metadata": {},
     "output_type": "execute_result"
    }
   ],
   "source": [
    "df.describe()"
   ],
   "metadata": {
    "colab": {
     "base_uri": "https://localhost:8080/",
     "height": 320
    },
    "id": "e2fad7e554bd57",
    "outputId": "a41498b7-eaff-410a-b949-fb393bebf38f",
    "ExecuteTime": {
     "end_time": "2023-10-11T08:56:23.603920037Z",
     "start_time": "2023-10-11T08:56:23.400026976Z"
    }
   },
   "id": "e2fad7e554bd57"
  },
  {
   "cell_type": "markdown",
   "source": [
    "df.describe() did not calculate the median for us. Let's do it manually.\n",
    "First, find all numeric columns."
   ],
   "metadata": {
    "collapsed": false,
    "id": "a9f5540d6373d102"
   },
   "id": "a9f5540d6373d102"
  },
  {
   "cell_type": "code",
   "execution_count": 9,
   "outputs": [
    {
     "data": {
      "text/plain": "Index(['height', 'weight', 'games', 'victories', 'ties', 'defeats', 'goals',\n       'yellowCards', 'yellowReds', 'redCards', 'rater1', 'rater2', 'refNum',\n       'refCountry', 'meanIAT', 'nIAT', 'seIAT', 'meanExp', 'nExp', 'seExp'],\n      dtype='object')"
     },
     "execution_count": 9,
     "metadata": {},
     "output_type": "execute_result"
    }
   ],
   "source": [
    "numeric_columns = df.select_dtypes(include=[np.number]).columns\n",
    "numeric_columns"
   ],
   "metadata": {
    "colab": {
     "base_uri": "https://localhost:8080/"
    },
    "id": "651d14589d00849e",
    "outputId": "f5e99030-d25f-4312-c067-c257f9bdc1a2",
    "ExecuteTime": {
     "end_time": "2023-10-11T08:56:23.620188323Z",
     "start_time": "2023-10-11T08:56:23.499918174Z"
    }
   },
   "id": "651d14589d00849e"
  },
  {
   "cell_type": "markdown",
   "source": [
    "Next, select the numeric columns."
   ],
   "metadata": {
    "collapsed": false,
    "id": "5d41f0fd3fe0fcc6"
   },
   "id": "5d41f0fd3fe0fcc6"
  },
  {
   "cell_type": "code",
   "execution_count": 10,
   "outputs": [
    {
     "data": {
      "text/plain": "   height  weight  games  victories  ties  defeats  goals  yellowCards  \\\n0   177.0    72.0      1          0     0        1      0            0   \n1   179.0    82.0      1          0     0        1      0            1   \n5   182.0    71.0      1          0     0        1      0            0   \n6   187.0    80.0      1          1     0        0      0            0   \n7   180.0    68.0      1          0     0        1      0            0   \n\n   yellowReds  redCards  rater1  rater2  refNum  refCountry   meanIAT   nIAT  \\\n0           0         0    0.25    0.50       1           1  0.326391  712.0   \n1           0         0    0.75    0.75       2           2  0.203375   40.0   \n5           0         0    0.25    0.00       4           4  0.325185  127.0   \n6           0         0    0.00    0.25       4           4  0.325185  127.0   \n7           0         0    1.00    1.00       4           4  0.325185  127.0   \n\n      seIAT   meanExp   nExp     seExp  \n0  0.000564  0.396000  750.0  0.002696  \n1  0.010875 -0.204082   49.0  0.061504  \n5  0.003297  0.538462  130.0  0.013752  \n6  0.003297  0.538462  130.0  0.013752  \n7  0.003297  0.538462  130.0  0.013752  ",
      "text/html": "<div>\n<style scoped>\n    .dataframe tbody tr th:only-of-type {\n        vertical-align: middle;\n    }\n\n    .dataframe tbody tr th {\n        vertical-align: top;\n    }\n\n    .dataframe thead th {\n        text-align: right;\n    }\n</style>\n<table border=\"1\" class=\"dataframe\">\n  <thead>\n    <tr style=\"text-align: right;\">\n      <th></th>\n      <th>height</th>\n      <th>weight</th>\n      <th>games</th>\n      <th>victories</th>\n      <th>ties</th>\n      <th>defeats</th>\n      <th>goals</th>\n      <th>yellowCards</th>\n      <th>yellowReds</th>\n      <th>redCards</th>\n      <th>rater1</th>\n      <th>rater2</th>\n      <th>refNum</th>\n      <th>refCountry</th>\n      <th>meanIAT</th>\n      <th>nIAT</th>\n      <th>seIAT</th>\n      <th>meanExp</th>\n      <th>nExp</th>\n      <th>seExp</th>\n    </tr>\n  </thead>\n  <tbody>\n    <tr>\n      <th>0</th>\n      <td>177.0</td>\n      <td>72.0</td>\n      <td>1</td>\n      <td>0</td>\n      <td>0</td>\n      <td>1</td>\n      <td>0</td>\n      <td>0</td>\n      <td>0</td>\n      <td>0</td>\n      <td>0.25</td>\n      <td>0.50</td>\n      <td>1</td>\n      <td>1</td>\n      <td>0.326391</td>\n      <td>712.0</td>\n      <td>0.000564</td>\n      <td>0.396000</td>\n      <td>750.0</td>\n      <td>0.002696</td>\n    </tr>\n    <tr>\n      <th>1</th>\n      <td>179.0</td>\n      <td>82.0</td>\n      <td>1</td>\n      <td>0</td>\n      <td>0</td>\n      <td>1</td>\n      <td>0</td>\n      <td>1</td>\n      <td>0</td>\n      <td>0</td>\n      <td>0.75</td>\n      <td>0.75</td>\n      <td>2</td>\n      <td>2</td>\n      <td>0.203375</td>\n      <td>40.0</td>\n      <td>0.010875</td>\n      <td>-0.204082</td>\n      <td>49.0</td>\n      <td>0.061504</td>\n    </tr>\n    <tr>\n      <th>5</th>\n      <td>182.0</td>\n      <td>71.0</td>\n      <td>1</td>\n      <td>0</td>\n      <td>0</td>\n      <td>1</td>\n      <td>0</td>\n      <td>0</td>\n      <td>0</td>\n      <td>0</td>\n      <td>0.25</td>\n      <td>0.00</td>\n      <td>4</td>\n      <td>4</td>\n      <td>0.325185</td>\n      <td>127.0</td>\n      <td>0.003297</td>\n      <td>0.538462</td>\n      <td>130.0</td>\n      <td>0.013752</td>\n    </tr>\n    <tr>\n      <th>6</th>\n      <td>187.0</td>\n      <td>80.0</td>\n      <td>1</td>\n      <td>1</td>\n      <td>0</td>\n      <td>0</td>\n      <td>0</td>\n      <td>0</td>\n      <td>0</td>\n      <td>0</td>\n      <td>0.00</td>\n      <td>0.25</td>\n      <td>4</td>\n      <td>4</td>\n      <td>0.325185</td>\n      <td>127.0</td>\n      <td>0.003297</td>\n      <td>0.538462</td>\n      <td>130.0</td>\n      <td>0.013752</td>\n    </tr>\n    <tr>\n      <th>7</th>\n      <td>180.0</td>\n      <td>68.0</td>\n      <td>1</td>\n      <td>0</td>\n      <td>0</td>\n      <td>1</td>\n      <td>0</td>\n      <td>0</td>\n      <td>0</td>\n      <td>0</td>\n      <td>1.00</td>\n      <td>1.00</td>\n      <td>4</td>\n      <td>4</td>\n      <td>0.325185</td>\n      <td>127.0</td>\n      <td>0.003297</td>\n      <td>0.538462</td>\n      <td>130.0</td>\n      <td>0.013752</td>\n    </tr>\n  </tbody>\n</table>\n</div>"
     },
     "execution_count": 10,
     "metadata": {},
     "output_type": "execute_result"
    }
   ],
   "source": [
    "df[numeric_columns].head()"
   ],
   "metadata": {
    "colab": {
     "base_uri": "https://localhost:8080/",
     "height": 206
    },
    "id": "381805597a1a8c9a",
    "outputId": "1eafdcbc-ec82-4f20-fba4-d8e88e51f210",
    "ExecuteTime": {
     "end_time": "2023-10-11T08:56:23.620749661Z",
     "start_time": "2023-10-11T08:56:23.500149918Z"
    }
   },
   "id": "381805597a1a8c9a"
  },
  {
   "cell_type": "markdown",
   "source": [
    "Finally, calculate the median."
   ],
   "metadata": {
    "collapsed": false,
    "id": "a80f2f3f2775809f"
   },
   "id": "a80f2f3f2775809f"
  },
  {
   "cell_type": "code",
   "execution_count": 11,
   "outputs": [
    {
     "data": {
      "text/plain": "height          183.000000\nweight           76.000000\ngames             1.000000\nvictories         1.000000\nties              0.000000\ndefeats           1.000000\ngoals             0.000000\nyellowCards       0.000000\nyellowReds        0.000000\nredCards          0.000000\nrater1            0.250000\nrater2            0.250000\nrefNum         1579.000000\nrefCountry       15.000000\nmeanIAT           0.336628\nnIAT           2882.000000\nseIAT             0.000151\nmeanExp           0.356446\nnExp           3011.000000\nseExp             0.000586\ndtype: float64"
     },
     "execution_count": 11,
     "metadata": {},
     "output_type": "execute_result"
    }
   ],
   "source": [
    "df[numeric_columns].median()  # by default column-wise!"
   ],
   "metadata": {
    "colab": {
     "base_uri": "https://localhost:8080/"
    },
    "id": "aec1d59d036609d3",
    "outputId": "cef1fafc-83cf-4028-ee15-46ab9d24ef32",
    "ExecuteTime": {
     "end_time": "2023-10-11T08:56:23.620980363Z",
     "start_time": "2023-10-11T08:56:23.500279666Z"
    }
   },
   "id": "aec1d59d036609d3"
  },
  {
   "cell_type": "markdown",
   "source": [
    "# 4. Average cards per game\n",
    "Calculate the average number of yellow and red cards per game for each player. Then print out the 5 players with the highest average number of cards per game."
   ],
   "metadata": {
    "collapsed": false,
    "id": "abf4ca40fc0b7cb7"
   },
   "id": "abf4ca40fc0b7cb7"
  },
  {
   "cell_type": "markdown",
   "source": [
    "## 4.1 Count the number of cards each player has gotten.\n",
    "As an intermediate step, let's first calculate the number of cards each player has gotten."
   ],
   "metadata": {
    "collapsed": false,
    "id": "2ec07a766303c70a"
   },
   "id": "2ec07a766303c70a"
  },
  {
   "cell_type": "code",
   "execution_count": 12,
   "outputs": [
    {
     "name": "stderr",
     "output_type": "stream",
     "text": [
      "/tmp/ipykernel_14947/520204593.py:1: SettingWithCopyWarning: \n",
      "A value is trying to be set on a copy of a slice from a DataFrame.\n",
      "Try using .loc[row_indexer,col_indexer] = value instead\n",
      "\n",
      "See the caveats in the documentation: https://pandas.pydata.org/pandas-docs/stable/user_guide/indexing.html#returning-a-view-versus-a-copy\n",
      "  df['total_cards'] = df['yellowCards'] + df['redCards']\n"
     ]
    },
    {
     "data": {
      "text/plain": "0    0\n1    1\n5    0\n6    0\n7    0\nName: total_cards, dtype: int64"
     },
     "execution_count": 12,
     "metadata": {},
     "output_type": "execute_result"
    }
   ],
   "source": [
    "df['total_cards'] = df['yellowCards'] + df['redCards']\n",
    "df['total_cards'].head()"
   ],
   "metadata": {
    "colab": {
     "base_uri": "https://localhost:8080/"
    },
    "id": "7dc0676178135ce0",
    "outputId": "597634fc-1a06-4dbf-956b-b40a400a1d59",
    "ExecuteTime": {
     "end_time": "2023-10-11T08:56:23.671065407Z",
     "start_time": "2023-10-11T08:56:23.500444618Z"
    }
   },
   "id": "7dc0676178135ce0"
  },
  {
   "cell_type": "markdown",
   "source": [
    "## 4.2 Calculate the average number of cards per game for each player.\n",
    "Next, we can now use this column to calculate the average number of cards per game for each player."
   ],
   "metadata": {
    "collapsed": false,
    "id": "892f9184ce4ead3a"
   },
   "id": "892f9184ce4ead3a"
  },
  {
   "cell_type": "code",
   "execution_count": 13,
   "outputs": [
    {
     "name": "stderr",
     "output_type": "stream",
     "text": [
      "/tmp/ipykernel_14947/1843513504.py:1: SettingWithCopyWarning: \n",
      "A value is trying to be set on a copy of a slice from a DataFrame.\n",
      "Try using .loc[row_indexer,col_indexer] = value instead\n",
      "\n",
      "See the caveats in the documentation: https://pandas.pydata.org/pandas-docs/stable/user_guide/indexing.html#returning-a-view-versus-a-copy\n",
      "  df['avg_cards_per_game'] = df['total_cards'] / df['games']\n"
     ]
    },
    {
     "data": {
      "text/plain": "0    0.0\n1    1.0\n5    0.0\n6    0.0\n7    0.0\nName: avg_cards_per_game, dtype: float64"
     },
     "execution_count": 13,
     "metadata": {},
     "output_type": "execute_result"
    }
   ],
   "source": [
    "df['avg_cards_per_game'] = df['total_cards'] / df['games']\n",
    "df['avg_cards_per_game'].head()"
   ],
   "metadata": {
    "colab": {
     "base_uri": "https://localhost:8080/"
    },
    "id": "cdcc582f562365ff",
    "outputId": "d028b283-f60f-4300-b356-0f0fdeaf1f63",
    "ExecuteTime": {
     "end_time": "2023-10-11T08:56:23.672103157Z",
     "start_time": "2023-10-11T08:56:23.543998603Z"
    }
   },
   "id": "cdcc582f562365ff"
  },
  {
   "cell_type": "markdown",
   "source": [
    "## 4.3 Sort the players by the average number of cards per game.\n",
    "Then we sort by this column."
   ],
   "metadata": {
    "collapsed": false,
    "id": "aafa2e9ae61c2ddc"
   },
   "id": "aafa2e9ae61c2ddc"
  },
  {
   "cell_type": "code",
   "execution_count": 14,
   "outputs": [
    {
     "data": {
      "text/plain": "               playerShort              player                club  \\\n103688  jean-pascal-mignot  Jean-Pascal Mignot    AS Saint-Étienne   \n126191          gary-medel          Gary Medel          Sevilla FC   \n83849          david-villa         David Villa        FC Barcelona   \n125960     matthieu-chalme     Matthieu Chalmé  Girondins Bordeaux   \n33779         shawn-parker        Shawn Parker     1. FSV Mainz 05   \n...                    ...                 ...                 ...   \n72394          kun-agueero          Kun Agüero     Manchester City   \n72393         karim-haggui        Karim Haggui         Hannover 96   \n72392                 kaka                Kaká         Real Madrid   \n72390         juanma-ortiz        Juanma Ortiz          Granada CF   \n72376      john-arne-riise     John Arne Riise           Fulham FC   \n\n       leagueCountry    birthday  height  weight              position  games  \\\n103688        France  26.02.1981   183.0    75.0           Center Back      1   \n126191         Spain  03.08.1987   171.0    76.0  Defensive Midfielder      1   \n83849          Spain  03.12.1981   175.0    69.0        Center Forward      1   \n125960        France  07.10.1980   179.0    75.0        Right Fullback      1   \n33779        Germany  07.03.1993   179.0    76.0        Center Forward      1   \n...              ...         ...     ...     ...                   ...    ...   \n72394        England  02.06.1988   172.0    74.0        Center Forward      3   \n72393        Germany  20.01.1984   190.0    86.0           Center Back      1   \n72392          Spain  22.04.1982   186.0    78.0  Attacking Midfielder      1   \n72390          Spain  01.03.1982   179.0    70.0      Right Midfielder      2   \n72376        England  24.09.1980   185.0    77.0         Left Fullback      1   \n\n        victories  ...  refCountry  Alpha_3   meanIAT    nIAT     seIAT  \\\n103688          1  ...          72      PRT  0.396803  1079.0  0.000392   \n126191          0  ...          58      BEL  0.362720  3219.0  0.000128   \n83849           0  ...           3      ESP  0.369894  1785.0  0.000229   \n125960          0  ...          15      TUR  0.354707   656.0  0.000606   \n33779           1  ...           8      DEU  0.336628  7749.0  0.000055   \n...           ...  ...         ...      ...       ...     ...       ...   \n72394           1  ...           3      ESP  0.369894  1785.0  0.000229   \n72393           1  ...           3      ESP  0.369894  1785.0  0.000229   \n72392           1  ...           3      ESP  0.369894  1785.0  0.000229   \n72390           1  ...           3      ESP  0.369894  1785.0  0.000229   \n72376           0  ...           3      ESP  0.369894  1785.0  0.000229   \n\n         meanExp    nExp     seExp  total_cards  avg_cards_per_game  \n103688  0.790366  1121.0  0.001798            3                 3.0  \n126191  0.568785  3351.0  0.000575            2                 2.0  \n83849   0.588297  1897.0  0.001002            2                 2.0  \n125960  0.182081   692.0  0.002717            2                 2.0  \n33779   0.335967  7974.0  0.000225            2                 2.0  \n...          ...     ...       ...          ...                 ...  \n72394   0.588297  1897.0  0.001002            0                 0.0  \n72393   0.588297  1897.0  0.001002            0                 0.0  \n72392   0.588297  1897.0  0.001002            0                 0.0  \n72390   0.588297  1897.0  0.001002            0                 0.0  \n72376   0.588297  1897.0  0.001002            0                 0.0  \n\n[115457 rows x 30 columns]",
      "text/html": "<div>\n<style scoped>\n    .dataframe tbody tr th:only-of-type {\n        vertical-align: middle;\n    }\n\n    .dataframe tbody tr th {\n        vertical-align: top;\n    }\n\n    .dataframe thead th {\n        text-align: right;\n    }\n</style>\n<table border=\"1\" class=\"dataframe\">\n  <thead>\n    <tr style=\"text-align: right;\">\n      <th></th>\n      <th>playerShort</th>\n      <th>player</th>\n      <th>club</th>\n      <th>leagueCountry</th>\n      <th>birthday</th>\n      <th>height</th>\n      <th>weight</th>\n      <th>position</th>\n      <th>games</th>\n      <th>victories</th>\n      <th>...</th>\n      <th>refCountry</th>\n      <th>Alpha_3</th>\n      <th>meanIAT</th>\n      <th>nIAT</th>\n      <th>seIAT</th>\n      <th>meanExp</th>\n      <th>nExp</th>\n      <th>seExp</th>\n      <th>total_cards</th>\n      <th>avg_cards_per_game</th>\n    </tr>\n  </thead>\n  <tbody>\n    <tr>\n      <th>103688</th>\n      <td>jean-pascal-mignot</td>\n      <td>Jean-Pascal Mignot</td>\n      <td>AS Saint-Étienne</td>\n      <td>France</td>\n      <td>26.02.1981</td>\n      <td>183.0</td>\n      <td>75.0</td>\n      <td>Center Back</td>\n      <td>1</td>\n      <td>1</td>\n      <td>...</td>\n      <td>72</td>\n      <td>PRT</td>\n      <td>0.396803</td>\n      <td>1079.0</td>\n      <td>0.000392</td>\n      <td>0.790366</td>\n      <td>1121.0</td>\n      <td>0.001798</td>\n      <td>3</td>\n      <td>3.0</td>\n    </tr>\n    <tr>\n      <th>126191</th>\n      <td>gary-medel</td>\n      <td>Gary Medel</td>\n      <td>Sevilla FC</td>\n      <td>Spain</td>\n      <td>03.08.1987</td>\n      <td>171.0</td>\n      <td>76.0</td>\n      <td>Defensive Midfielder</td>\n      <td>1</td>\n      <td>0</td>\n      <td>...</td>\n      <td>58</td>\n      <td>BEL</td>\n      <td>0.362720</td>\n      <td>3219.0</td>\n      <td>0.000128</td>\n      <td>0.568785</td>\n      <td>3351.0</td>\n      <td>0.000575</td>\n      <td>2</td>\n      <td>2.0</td>\n    </tr>\n    <tr>\n      <th>83849</th>\n      <td>david-villa</td>\n      <td>David Villa</td>\n      <td>FC Barcelona</td>\n      <td>Spain</td>\n      <td>03.12.1981</td>\n      <td>175.0</td>\n      <td>69.0</td>\n      <td>Center Forward</td>\n      <td>1</td>\n      <td>0</td>\n      <td>...</td>\n      <td>3</td>\n      <td>ESP</td>\n      <td>0.369894</td>\n      <td>1785.0</td>\n      <td>0.000229</td>\n      <td>0.588297</td>\n      <td>1897.0</td>\n      <td>0.001002</td>\n      <td>2</td>\n      <td>2.0</td>\n    </tr>\n    <tr>\n      <th>125960</th>\n      <td>matthieu-chalme</td>\n      <td>Matthieu Chalmé</td>\n      <td>Girondins Bordeaux</td>\n      <td>France</td>\n      <td>07.10.1980</td>\n      <td>179.0</td>\n      <td>75.0</td>\n      <td>Right Fullback</td>\n      <td>1</td>\n      <td>0</td>\n      <td>...</td>\n      <td>15</td>\n      <td>TUR</td>\n      <td>0.354707</td>\n      <td>656.0</td>\n      <td>0.000606</td>\n      <td>0.182081</td>\n      <td>692.0</td>\n      <td>0.002717</td>\n      <td>2</td>\n      <td>2.0</td>\n    </tr>\n    <tr>\n      <th>33779</th>\n      <td>shawn-parker</td>\n      <td>Shawn Parker</td>\n      <td>1. FSV Mainz 05</td>\n      <td>Germany</td>\n      <td>07.03.1993</td>\n      <td>179.0</td>\n      <td>76.0</td>\n      <td>Center Forward</td>\n      <td>1</td>\n      <td>1</td>\n      <td>...</td>\n      <td>8</td>\n      <td>DEU</td>\n      <td>0.336628</td>\n      <td>7749.0</td>\n      <td>0.000055</td>\n      <td>0.335967</td>\n      <td>7974.0</td>\n      <td>0.000225</td>\n      <td>2</td>\n      <td>2.0</td>\n    </tr>\n    <tr>\n      <th>...</th>\n      <td>...</td>\n      <td>...</td>\n      <td>...</td>\n      <td>...</td>\n      <td>...</td>\n      <td>...</td>\n      <td>...</td>\n      <td>...</td>\n      <td>...</td>\n      <td>...</td>\n      <td>...</td>\n      <td>...</td>\n      <td>...</td>\n      <td>...</td>\n      <td>...</td>\n      <td>...</td>\n      <td>...</td>\n      <td>...</td>\n      <td>...</td>\n      <td>...</td>\n      <td>...</td>\n    </tr>\n    <tr>\n      <th>72394</th>\n      <td>kun-agueero</td>\n      <td>Kun Agüero</td>\n      <td>Manchester City</td>\n      <td>England</td>\n      <td>02.06.1988</td>\n      <td>172.0</td>\n      <td>74.0</td>\n      <td>Center Forward</td>\n      <td>3</td>\n      <td>1</td>\n      <td>...</td>\n      <td>3</td>\n      <td>ESP</td>\n      <td>0.369894</td>\n      <td>1785.0</td>\n      <td>0.000229</td>\n      <td>0.588297</td>\n      <td>1897.0</td>\n      <td>0.001002</td>\n      <td>0</td>\n      <td>0.0</td>\n    </tr>\n    <tr>\n      <th>72393</th>\n      <td>karim-haggui</td>\n      <td>Karim Haggui</td>\n      <td>Hannover 96</td>\n      <td>Germany</td>\n      <td>20.01.1984</td>\n      <td>190.0</td>\n      <td>86.0</td>\n      <td>Center Back</td>\n      <td>1</td>\n      <td>1</td>\n      <td>...</td>\n      <td>3</td>\n      <td>ESP</td>\n      <td>0.369894</td>\n      <td>1785.0</td>\n      <td>0.000229</td>\n      <td>0.588297</td>\n      <td>1897.0</td>\n      <td>0.001002</td>\n      <td>0</td>\n      <td>0.0</td>\n    </tr>\n    <tr>\n      <th>72392</th>\n      <td>kaka</td>\n      <td>Kaká</td>\n      <td>Real Madrid</td>\n      <td>Spain</td>\n      <td>22.04.1982</td>\n      <td>186.0</td>\n      <td>78.0</td>\n      <td>Attacking Midfielder</td>\n      <td>1</td>\n      <td>1</td>\n      <td>...</td>\n      <td>3</td>\n      <td>ESP</td>\n      <td>0.369894</td>\n      <td>1785.0</td>\n      <td>0.000229</td>\n      <td>0.588297</td>\n      <td>1897.0</td>\n      <td>0.001002</td>\n      <td>0</td>\n      <td>0.0</td>\n    </tr>\n    <tr>\n      <th>72390</th>\n      <td>juanma-ortiz</td>\n      <td>Juanma Ortiz</td>\n      <td>Granada CF</td>\n      <td>Spain</td>\n      <td>01.03.1982</td>\n      <td>179.0</td>\n      <td>70.0</td>\n      <td>Right Midfielder</td>\n      <td>2</td>\n      <td>1</td>\n      <td>...</td>\n      <td>3</td>\n      <td>ESP</td>\n      <td>0.369894</td>\n      <td>1785.0</td>\n      <td>0.000229</td>\n      <td>0.588297</td>\n      <td>1897.0</td>\n      <td>0.001002</td>\n      <td>0</td>\n      <td>0.0</td>\n    </tr>\n    <tr>\n      <th>72376</th>\n      <td>john-arne-riise</td>\n      <td>John Arne Riise</td>\n      <td>Fulham FC</td>\n      <td>England</td>\n      <td>24.09.1980</td>\n      <td>185.0</td>\n      <td>77.0</td>\n      <td>Left Fullback</td>\n      <td>1</td>\n      <td>0</td>\n      <td>...</td>\n      <td>3</td>\n      <td>ESP</td>\n      <td>0.369894</td>\n      <td>1785.0</td>\n      <td>0.000229</td>\n      <td>0.588297</td>\n      <td>1897.0</td>\n      <td>0.001002</td>\n      <td>0</td>\n      <td>0.0</td>\n    </tr>\n  </tbody>\n</table>\n<p>115457 rows × 30 columns</p>\n</div>"
     },
     "execution_count": 14,
     "metadata": {},
     "output_type": "execute_result"
    }
   ],
   "source": [
    "avg_cards_per_game_df = df.sort_values(by='avg_cards_per_game', ascending=False)\n",
    "avg_cards_per_game_df"
   ],
   "metadata": {
    "colab": {
     "base_uri": "https://localhost:8080/",
     "height": 652
    },
    "id": "41f2f599087f9229",
    "outputId": "30d08731-9ce9-4152-e4d8-4bec0c6ba1b1",
    "ExecuteTime": {
     "end_time": "2023-10-11T08:56:23.752740362Z",
     "start_time": "2023-10-11T08:56:23.544520989Z"
    }
   },
   "id": "41f2f599087f9229"
  },
  {
   "cell_type": "markdown",
   "source": [
    "## 4.4 Print out the top 5 players.\n",
    "This is now very easy to do. We will not use .head() this time though."
   ],
   "metadata": {
    "collapsed": false,
    "id": "6b9f8e542c0add68"
   },
   "id": "6b9f8e542c0add68"
  },
  {
   "cell_type": "code",
   "execution_count": 15,
   "outputs": [
    {
     "data": {
      "text/plain": "               playerShort              player                club  \\\n103688  jean-pascal-mignot  Jean-Pascal Mignot    AS Saint-Étienne   \n126191          gary-medel          Gary Medel          Sevilla FC   \n83849          david-villa         David Villa        FC Barcelona   \n125960     matthieu-chalme     Matthieu Chalmé  Girondins Bordeaux   \n33779         shawn-parker        Shawn Parker     1. FSV Mainz 05   \n\n       leagueCountry    birthday  height  weight              position  games  \\\n103688        France  26.02.1981   183.0    75.0           Center Back      1   \n126191         Spain  03.08.1987   171.0    76.0  Defensive Midfielder      1   \n83849          Spain  03.12.1981   175.0    69.0        Center Forward      1   \n125960        France  07.10.1980   179.0    75.0        Right Fullback      1   \n33779        Germany  07.03.1993   179.0    76.0        Center Forward      1   \n\n        victories  ...  refCountry  Alpha_3   meanIAT    nIAT     seIAT  \\\n103688          1  ...          72      PRT  0.396803  1079.0  0.000392   \n126191          0  ...          58      BEL  0.362720  3219.0  0.000128   \n83849           0  ...           3      ESP  0.369894  1785.0  0.000229   \n125960          0  ...          15      TUR  0.354707   656.0  0.000606   \n33779           1  ...           8      DEU  0.336628  7749.0  0.000055   \n\n         meanExp    nExp     seExp  total_cards  avg_cards_per_game  \n103688  0.790366  1121.0  0.001798            3                 3.0  \n126191  0.568785  3351.0  0.000575            2                 2.0  \n83849   0.588297  1897.0  0.001002            2                 2.0  \n125960  0.182081   692.0  0.002717            2                 2.0  \n33779   0.335967  7974.0  0.000225            2                 2.0  \n\n[5 rows x 30 columns]",
      "text/html": "<div>\n<style scoped>\n    .dataframe tbody tr th:only-of-type {\n        vertical-align: middle;\n    }\n\n    .dataframe tbody tr th {\n        vertical-align: top;\n    }\n\n    .dataframe thead th {\n        text-align: right;\n    }\n</style>\n<table border=\"1\" class=\"dataframe\">\n  <thead>\n    <tr style=\"text-align: right;\">\n      <th></th>\n      <th>playerShort</th>\n      <th>player</th>\n      <th>club</th>\n      <th>leagueCountry</th>\n      <th>birthday</th>\n      <th>height</th>\n      <th>weight</th>\n      <th>position</th>\n      <th>games</th>\n      <th>victories</th>\n      <th>...</th>\n      <th>refCountry</th>\n      <th>Alpha_3</th>\n      <th>meanIAT</th>\n      <th>nIAT</th>\n      <th>seIAT</th>\n      <th>meanExp</th>\n      <th>nExp</th>\n      <th>seExp</th>\n      <th>total_cards</th>\n      <th>avg_cards_per_game</th>\n    </tr>\n  </thead>\n  <tbody>\n    <tr>\n      <th>103688</th>\n      <td>jean-pascal-mignot</td>\n      <td>Jean-Pascal Mignot</td>\n      <td>AS Saint-Étienne</td>\n      <td>France</td>\n      <td>26.02.1981</td>\n      <td>183.0</td>\n      <td>75.0</td>\n      <td>Center Back</td>\n      <td>1</td>\n      <td>1</td>\n      <td>...</td>\n      <td>72</td>\n      <td>PRT</td>\n      <td>0.396803</td>\n      <td>1079.0</td>\n      <td>0.000392</td>\n      <td>0.790366</td>\n      <td>1121.0</td>\n      <td>0.001798</td>\n      <td>3</td>\n      <td>3.0</td>\n    </tr>\n    <tr>\n      <th>126191</th>\n      <td>gary-medel</td>\n      <td>Gary Medel</td>\n      <td>Sevilla FC</td>\n      <td>Spain</td>\n      <td>03.08.1987</td>\n      <td>171.0</td>\n      <td>76.0</td>\n      <td>Defensive Midfielder</td>\n      <td>1</td>\n      <td>0</td>\n      <td>...</td>\n      <td>58</td>\n      <td>BEL</td>\n      <td>0.362720</td>\n      <td>3219.0</td>\n      <td>0.000128</td>\n      <td>0.568785</td>\n      <td>3351.0</td>\n      <td>0.000575</td>\n      <td>2</td>\n      <td>2.0</td>\n    </tr>\n    <tr>\n      <th>83849</th>\n      <td>david-villa</td>\n      <td>David Villa</td>\n      <td>FC Barcelona</td>\n      <td>Spain</td>\n      <td>03.12.1981</td>\n      <td>175.0</td>\n      <td>69.0</td>\n      <td>Center Forward</td>\n      <td>1</td>\n      <td>0</td>\n      <td>...</td>\n      <td>3</td>\n      <td>ESP</td>\n      <td>0.369894</td>\n      <td>1785.0</td>\n      <td>0.000229</td>\n      <td>0.588297</td>\n      <td>1897.0</td>\n      <td>0.001002</td>\n      <td>2</td>\n      <td>2.0</td>\n    </tr>\n    <tr>\n      <th>125960</th>\n      <td>matthieu-chalme</td>\n      <td>Matthieu Chalmé</td>\n      <td>Girondins Bordeaux</td>\n      <td>France</td>\n      <td>07.10.1980</td>\n      <td>179.0</td>\n      <td>75.0</td>\n      <td>Right Fullback</td>\n      <td>1</td>\n      <td>0</td>\n      <td>...</td>\n      <td>15</td>\n      <td>TUR</td>\n      <td>0.354707</td>\n      <td>656.0</td>\n      <td>0.000606</td>\n      <td>0.182081</td>\n      <td>692.0</td>\n      <td>0.002717</td>\n      <td>2</td>\n      <td>2.0</td>\n    </tr>\n    <tr>\n      <th>33779</th>\n      <td>shawn-parker</td>\n      <td>Shawn Parker</td>\n      <td>1. FSV Mainz 05</td>\n      <td>Germany</td>\n      <td>07.03.1993</td>\n      <td>179.0</td>\n      <td>76.0</td>\n      <td>Center Forward</td>\n      <td>1</td>\n      <td>1</td>\n      <td>...</td>\n      <td>8</td>\n      <td>DEU</td>\n      <td>0.336628</td>\n      <td>7749.0</td>\n      <td>0.000055</td>\n      <td>0.335967</td>\n      <td>7974.0</td>\n      <td>0.000225</td>\n      <td>2</td>\n      <td>2.0</td>\n    </tr>\n  </tbody>\n</table>\n<p>5 rows × 30 columns</p>\n</div>"
     },
     "execution_count": 15,
     "metadata": {},
     "output_type": "execute_result"
    }
   ],
   "source": [
    "avg_cards_per_game_df[:5]"
   ],
   "metadata": {
    "colab": {
     "base_uri": "https://localhost:8080/",
     "height": 359
    },
    "id": "8877e73c054434ff",
    "outputId": "8b36e4f0-8501-4a86-de38-55216bd90be4",
    "ExecuteTime": {
     "end_time": "2023-10-11T08:56:23.754574680Z",
     "start_time": "2023-10-11T08:56:23.606606697Z"
    }
   },
   "id": "8877e73c054434ff"
  },
  {
   "cell_type": "markdown",
   "source": [
    "# 5. Average number of cards per country\n",
    "Do the same as in 4. but this time for each country. This means we need to group the countries!"
   ],
   "metadata": {
    "collapsed": false,
    "id": "a8737c82fd4ed8d6"
   },
   "id": "a8737c82fd4ed8d6"
  },
  {
   "cell_type": "markdown",
   "source": [
    "## 5.1 Group the data by country.\n",
    "This is our first step. It will be annoying to calculate the average for each country otherwise."
   ],
   "metadata": {
    "collapsed": false,
    "id": "e9bd2a02ae8c81c4"
   },
   "id": "e9bd2a02ae8c81c4"
  },
  {
   "cell_type": "code",
   "execution_count": 16,
   "outputs": [
    {
     "data": {
      "text/plain": "<pandas.core.groupby.generic.DataFrameGroupBy object at 0x7fd3b40f7e50>"
     },
     "execution_count": 16,
     "metadata": {},
     "output_type": "execute_result"
    }
   ],
   "source": [
    "grouped_by_country = df.groupby('leagueCountry')\n",
    "grouped_by_country"
   ],
   "metadata": {
    "id": "26eb64f82d50940f",
    "ExecuteTime": {
     "end_time": "2023-10-11T08:56:23.754949376Z",
     "start_time": "2023-10-11T08:56:23.610741868Z"
    }
   },
   "id": "26eb64f82d50940f"
  },
  {
   "cell_type": "markdown",
   "source": [
    "We can also use this to check what countries we have."
   ],
   "metadata": {
    "collapsed": false,
    "id": "7b38b5cc528c6a1e"
   },
   "id": "7b38b5cc528c6a1e"
  },
  {
   "cell_type": "code",
   "execution_count": 17,
   "outputs": [
    {
     "data": {
      "text/plain": "dict_keys(['England', 'France', 'Germany', 'Spain'])"
     },
     "execution_count": 17,
     "metadata": {},
     "output_type": "execute_result"
    }
   ],
   "source": [
    "grouped_by_country.groups.keys()"
   ],
   "metadata": {
    "colab": {
     "base_uri": "https://localhost:8080/"
    },
    "id": "50695420dc27fb1c",
    "outputId": "960aed26-ae91-4b2f-df94-31d77b5c3ba9",
    "ExecuteTime": {
     "end_time": "2023-10-11T08:56:23.757786781Z",
     "start_time": "2023-10-11T08:56:23.614234642Z"
    }
   },
   "id": "50695420dc27fb1c"
  },
  {
   "cell_type": "markdown",
   "source": [
    "## 5.2 Calculate the average number of cards per game for each country."
   ],
   "metadata": {
    "collapsed": false,
    "id": "b3f64f4f5c713070"
   },
   "id": "b3f64f4f5c713070"
  },
  {
   "cell_type": "code",
   "execution_count": 18,
   "outputs": [
    {
     "data": {
      "text/plain": "   leagueCountry  height              position  victories\n0          Spain   177.0  Attacking Midfielder          0\n1         France   179.0          Right Winger          0\n5        England   182.0           Center Back          0\n6        England   187.0         Left Fullback          1\n7        England   180.0  Defensive Midfielder          0\n8        England   193.0            Goalkeeper          0\n9        Germany   180.0        Right Fullback          1\n10         Spain   177.0        Right Fullback          2\n11       England   181.0           Left Winger          1\n12       Germany   187.0           Center Back          1",
      "text/html": "<div>\n<style scoped>\n    .dataframe tbody tr th:only-of-type {\n        vertical-align: middle;\n    }\n\n    .dataframe tbody tr th {\n        vertical-align: top;\n    }\n\n    .dataframe thead th {\n        text-align: right;\n    }\n</style>\n<table border=\"1\" class=\"dataframe\">\n  <thead>\n    <tr style=\"text-align: right;\">\n      <th></th>\n      <th>leagueCountry</th>\n      <th>height</th>\n      <th>position</th>\n      <th>victories</th>\n    </tr>\n  </thead>\n  <tbody>\n    <tr>\n      <th>0</th>\n      <td>Spain</td>\n      <td>177.0</td>\n      <td>Attacking Midfielder</td>\n      <td>0</td>\n    </tr>\n    <tr>\n      <th>1</th>\n      <td>France</td>\n      <td>179.0</td>\n      <td>Right Winger</td>\n      <td>0</td>\n    </tr>\n    <tr>\n      <th>5</th>\n      <td>England</td>\n      <td>182.0</td>\n      <td>Center Back</td>\n      <td>0</td>\n    </tr>\n    <tr>\n      <th>6</th>\n      <td>England</td>\n      <td>187.0</td>\n      <td>Left Fullback</td>\n      <td>1</td>\n    </tr>\n    <tr>\n      <th>7</th>\n      <td>England</td>\n      <td>180.0</td>\n      <td>Defensive Midfielder</td>\n      <td>0</td>\n    </tr>\n    <tr>\n      <th>8</th>\n      <td>England</td>\n      <td>193.0</td>\n      <td>Goalkeeper</td>\n      <td>0</td>\n    </tr>\n    <tr>\n      <th>9</th>\n      <td>Germany</td>\n      <td>180.0</td>\n      <td>Right Fullback</td>\n      <td>1</td>\n    </tr>\n    <tr>\n      <th>10</th>\n      <td>Spain</td>\n      <td>177.0</td>\n      <td>Right Fullback</td>\n      <td>2</td>\n    </tr>\n    <tr>\n      <th>11</th>\n      <td>England</td>\n      <td>181.0</td>\n      <td>Left Winger</td>\n      <td>1</td>\n    </tr>\n    <tr>\n      <th>12</th>\n      <td>Germany</td>\n      <td>187.0</td>\n      <td>Center Back</td>\n      <td>1</td>\n    </tr>\n  </tbody>\n</table>\n</div>"
     },
     "execution_count": 18,
     "metadata": {},
     "output_type": "execute_result"
    }
   ],
   "source": [
    "df.iloc[:10, 3:10:2]"
   ],
   "metadata": {
    "collapsed": false,
    "ExecuteTime": {
     "end_time": "2023-10-11T08:56:23.885908178Z",
     "start_time": "2023-10-11T08:56:23.623241564Z"
    }
   },
   "id": "22da243f701434a"
  },
  {
   "cell_type": "code",
   "execution_count": 19,
   "outputs": [
    {
     "data": {
      "text/plain": "leagueCountry\nEngland    0.115345\nFrance     0.132275\nGermany    0.128539\nSpain      0.176037\ndtype: float64"
     },
     "execution_count": 19,
     "metadata": {},
     "output_type": "execute_result"
    }
   ],
   "source": [
    "(grouped_by_country['yellowCards'].sum() + grouped_by_country['redCards'].sum()) / grouped_by_country['games'].sum()"
   ],
   "metadata": {
    "colab": {
     "base_uri": "https://localhost:8080/"
    },
    "id": "adf1a95830a48407",
    "outputId": "20159b9d-0055-464c-905a-756ba2955371",
    "ExecuteTime": {
     "end_time": "2023-10-11T08:56:23.915327614Z",
     "start_time": "2023-10-11T08:56:23.664022934Z"
    }
   },
   "id": "adf1a95830a48407"
  },
  {
   "cell_type": "markdown",
   "source": [
    "# 6. Correlation\n",
    "Let's calculate some correlations."
   ],
   "metadata": {
    "collapsed": false,
    "id": "12d2310730496b4a"
   },
   "id": "12d2310730496b4a"
  },
  {
   "cell_type": "code",
   "execution_count": 20,
   "outputs": [
    {
     "data": {
      "text/plain": "        height  weight  games  victories  ties  defeats  goals  yellowCards  \\\n0        177.0    72.0      1          0     0        1      0            0   \n1        179.0    82.0      1          0     0        1      0            1   \n5        182.0    71.0      1          0     0        1      0            0   \n6        187.0    80.0      1          1     0        0      0            0   \n7        180.0    68.0      1          0     0        1      0            0   \n...        ...     ...    ...        ...   ...      ...    ...          ...   \n146022   188.0    80.0      1          0     1        0      0            0   \n146023   178.0    67.0      1          1     0        0      1            0   \n146024   190.0    87.0      1          0     0        1      0            0   \n146025   169.0    72.0      1          1     0        0      0            0   \n146027   174.0    72.0      1          0     0        1      0            0   \n\n        yellowReds  redCards  ...  refNum  refCountry   meanIAT   nIAT  \\\n0                0         0  ...       1           1  0.326391  712.0   \n1                0         0  ...       2           2  0.203375   40.0   \n5                0         0  ...       4           4  0.325185  127.0   \n6                0         0  ...       4           4  0.325185  127.0   \n7                0         0  ...       4           4  0.325185  127.0   \n...            ...       ...  ...     ...         ...       ...    ...   \n146022           0         0  ...    3147          21  0.376127  574.0   \n146023           0         0  ...    3147          21  0.376127  574.0   \n146024           0         0  ...    3147          21  0.376127  574.0   \n146025           0         0  ...    3147          21  0.376127  574.0   \n146027           0         0  ...    3147          21  0.376127  574.0   \n\n           seIAT   meanExp   nExp     seExp  total_cards  avg_cards_per_game  \n0       0.000564  0.396000  750.0  0.002696            0                 0.0  \n1       0.010875 -0.204082   49.0  0.061504            1                 1.0  \n5       0.003297  0.538462  130.0  0.013752            0                 0.0  \n6       0.003297  0.538462  130.0  0.013752            0                 0.0  \n7       0.003297  0.538462  130.0  0.013752            0                 0.0  \n...          ...       ...    ...       ...          ...                 ...  \n146022  0.000714  0.498350  606.0  0.002968            0                 0.0  \n146023  0.000714  0.498350  606.0  0.002968            0                 0.0  \n146024  0.000714  0.498350  606.0  0.002968            0                 0.0  \n146025  0.000714  0.498350  606.0  0.002968            0                 0.0  \n146027  0.000714  0.498350  606.0  0.002968            0                 0.0  \n\n[115457 rows x 22 columns]",
      "text/html": "<div>\n<style scoped>\n    .dataframe tbody tr th:only-of-type {\n        vertical-align: middle;\n    }\n\n    .dataframe tbody tr th {\n        vertical-align: top;\n    }\n\n    .dataframe thead th {\n        text-align: right;\n    }\n</style>\n<table border=\"1\" class=\"dataframe\">\n  <thead>\n    <tr style=\"text-align: right;\">\n      <th></th>\n      <th>height</th>\n      <th>weight</th>\n      <th>games</th>\n      <th>victories</th>\n      <th>ties</th>\n      <th>defeats</th>\n      <th>goals</th>\n      <th>yellowCards</th>\n      <th>yellowReds</th>\n      <th>redCards</th>\n      <th>...</th>\n      <th>refNum</th>\n      <th>refCountry</th>\n      <th>meanIAT</th>\n      <th>nIAT</th>\n      <th>seIAT</th>\n      <th>meanExp</th>\n      <th>nExp</th>\n      <th>seExp</th>\n      <th>total_cards</th>\n      <th>avg_cards_per_game</th>\n    </tr>\n  </thead>\n  <tbody>\n    <tr>\n      <th>0</th>\n      <td>177.0</td>\n      <td>72.0</td>\n      <td>1</td>\n      <td>0</td>\n      <td>0</td>\n      <td>1</td>\n      <td>0</td>\n      <td>0</td>\n      <td>0</td>\n      <td>0</td>\n      <td>...</td>\n      <td>1</td>\n      <td>1</td>\n      <td>0.326391</td>\n      <td>712.0</td>\n      <td>0.000564</td>\n      <td>0.396000</td>\n      <td>750.0</td>\n      <td>0.002696</td>\n      <td>0</td>\n      <td>0.0</td>\n    </tr>\n    <tr>\n      <th>1</th>\n      <td>179.0</td>\n      <td>82.0</td>\n      <td>1</td>\n      <td>0</td>\n      <td>0</td>\n      <td>1</td>\n      <td>0</td>\n      <td>1</td>\n      <td>0</td>\n      <td>0</td>\n      <td>...</td>\n      <td>2</td>\n      <td>2</td>\n      <td>0.203375</td>\n      <td>40.0</td>\n      <td>0.010875</td>\n      <td>-0.204082</td>\n      <td>49.0</td>\n      <td>0.061504</td>\n      <td>1</td>\n      <td>1.0</td>\n    </tr>\n    <tr>\n      <th>5</th>\n      <td>182.0</td>\n      <td>71.0</td>\n      <td>1</td>\n      <td>0</td>\n      <td>0</td>\n      <td>1</td>\n      <td>0</td>\n      <td>0</td>\n      <td>0</td>\n      <td>0</td>\n      <td>...</td>\n      <td>4</td>\n      <td>4</td>\n      <td>0.325185</td>\n      <td>127.0</td>\n      <td>0.003297</td>\n      <td>0.538462</td>\n      <td>130.0</td>\n      <td>0.013752</td>\n      <td>0</td>\n      <td>0.0</td>\n    </tr>\n    <tr>\n      <th>6</th>\n      <td>187.0</td>\n      <td>80.0</td>\n      <td>1</td>\n      <td>1</td>\n      <td>0</td>\n      <td>0</td>\n      <td>0</td>\n      <td>0</td>\n      <td>0</td>\n      <td>0</td>\n      <td>...</td>\n      <td>4</td>\n      <td>4</td>\n      <td>0.325185</td>\n      <td>127.0</td>\n      <td>0.003297</td>\n      <td>0.538462</td>\n      <td>130.0</td>\n      <td>0.013752</td>\n      <td>0</td>\n      <td>0.0</td>\n    </tr>\n    <tr>\n      <th>7</th>\n      <td>180.0</td>\n      <td>68.0</td>\n      <td>1</td>\n      <td>0</td>\n      <td>0</td>\n      <td>1</td>\n      <td>0</td>\n      <td>0</td>\n      <td>0</td>\n      <td>0</td>\n      <td>...</td>\n      <td>4</td>\n      <td>4</td>\n      <td>0.325185</td>\n      <td>127.0</td>\n      <td>0.003297</td>\n      <td>0.538462</td>\n      <td>130.0</td>\n      <td>0.013752</td>\n      <td>0</td>\n      <td>0.0</td>\n    </tr>\n    <tr>\n      <th>...</th>\n      <td>...</td>\n      <td>...</td>\n      <td>...</td>\n      <td>...</td>\n      <td>...</td>\n      <td>...</td>\n      <td>...</td>\n      <td>...</td>\n      <td>...</td>\n      <td>...</td>\n      <td>...</td>\n      <td>...</td>\n      <td>...</td>\n      <td>...</td>\n      <td>...</td>\n      <td>...</td>\n      <td>...</td>\n      <td>...</td>\n      <td>...</td>\n      <td>...</td>\n      <td>...</td>\n    </tr>\n    <tr>\n      <th>146022</th>\n      <td>188.0</td>\n      <td>80.0</td>\n      <td>1</td>\n      <td>0</td>\n      <td>1</td>\n      <td>0</td>\n      <td>0</td>\n      <td>0</td>\n      <td>0</td>\n      <td>0</td>\n      <td>...</td>\n      <td>3147</td>\n      <td>21</td>\n      <td>0.376127</td>\n      <td>574.0</td>\n      <td>0.000714</td>\n      <td>0.498350</td>\n      <td>606.0</td>\n      <td>0.002968</td>\n      <td>0</td>\n      <td>0.0</td>\n    </tr>\n    <tr>\n      <th>146023</th>\n      <td>178.0</td>\n      <td>67.0</td>\n      <td>1</td>\n      <td>1</td>\n      <td>0</td>\n      <td>0</td>\n      <td>1</td>\n      <td>0</td>\n      <td>0</td>\n      <td>0</td>\n      <td>...</td>\n      <td>3147</td>\n      <td>21</td>\n      <td>0.376127</td>\n      <td>574.0</td>\n      <td>0.000714</td>\n      <td>0.498350</td>\n      <td>606.0</td>\n      <td>0.002968</td>\n      <td>0</td>\n      <td>0.0</td>\n    </tr>\n    <tr>\n      <th>146024</th>\n      <td>190.0</td>\n      <td>87.0</td>\n      <td>1</td>\n      <td>0</td>\n      <td>0</td>\n      <td>1</td>\n      <td>0</td>\n      <td>0</td>\n      <td>0</td>\n      <td>0</td>\n      <td>...</td>\n      <td>3147</td>\n      <td>21</td>\n      <td>0.376127</td>\n      <td>574.0</td>\n      <td>0.000714</td>\n      <td>0.498350</td>\n      <td>606.0</td>\n      <td>0.002968</td>\n      <td>0</td>\n      <td>0.0</td>\n    </tr>\n    <tr>\n      <th>146025</th>\n      <td>169.0</td>\n      <td>72.0</td>\n      <td>1</td>\n      <td>1</td>\n      <td>0</td>\n      <td>0</td>\n      <td>0</td>\n      <td>0</td>\n      <td>0</td>\n      <td>0</td>\n      <td>...</td>\n      <td>3147</td>\n      <td>21</td>\n      <td>0.376127</td>\n      <td>574.0</td>\n      <td>0.000714</td>\n      <td>0.498350</td>\n      <td>606.0</td>\n      <td>0.002968</td>\n      <td>0</td>\n      <td>0.0</td>\n    </tr>\n    <tr>\n      <th>146027</th>\n      <td>174.0</td>\n      <td>72.0</td>\n      <td>1</td>\n      <td>0</td>\n      <td>0</td>\n      <td>1</td>\n      <td>0</td>\n      <td>0</td>\n      <td>0</td>\n      <td>0</td>\n      <td>...</td>\n      <td>3147</td>\n      <td>21</td>\n      <td>0.376127</td>\n      <td>574.0</td>\n      <td>0.000714</td>\n      <td>0.498350</td>\n      <td>606.0</td>\n      <td>0.002968</td>\n      <td>0</td>\n      <td>0.0</td>\n    </tr>\n  </tbody>\n</table>\n<p>115457 rows × 22 columns</p>\n</div>"
     },
     "execution_count": 20,
     "metadata": {},
     "output_type": "execute_result"
    }
   ],
   "source": [
    "numeric_columns = df.select_dtypes(include=[np.number]).columns\n",
    "df[numeric_columns]"
   ],
   "metadata": {
    "collapsed": false,
    "ExecuteTime": {
     "end_time": "2023-10-11T08:56:23.978009160Z",
     "start_time": "2023-10-11T08:56:23.664350253Z"
    }
   },
   "id": "eddfc770ea360674"
  },
  {
   "cell_type": "code",
   "execution_count": 21,
   "outputs": [
    {
     "data": {
      "text/plain": "                      height    weight     games  victories      ties  \\\nheight              1.000000  0.791497 -0.022620  -0.024575 -0.017885   \nweight              0.791497  1.000000 -0.018318  -0.016138 -0.018493   \ngames              -0.022620 -0.018318  1.000000   0.855858  0.760762   \nvictories          -0.024575 -0.016138  0.855858   1.000000  0.482794   \nties               -0.017885 -0.018493  0.760762   0.482794  1.000000   \ndefeats            -0.010146 -0.010021  0.781219   0.446144  0.480233   \ngoals              -0.054769 -0.042374  0.435226   0.453674  0.288351   \nyellowCards        -0.041326 -0.027011  0.583322   0.483837  0.449229   \nyellowReds         -0.004845  0.000965  0.114161   0.087464  0.091068   \nredCards            0.007068  0.008352  0.121551   0.091116  0.093733   \nrater1             -0.087894 -0.039570 -0.006420  -0.011578  0.004005   \nrater2             -0.050576 -0.028141 -0.008477  -0.013678  0.003709   \nrefNum              0.021218  0.021947 -0.014623  -0.009389 -0.008814   \nrefCountry         -0.007407 -0.009223 -0.148424  -0.087375 -0.129880   \nmeanIAT            -0.038423 -0.021843 -0.067934  -0.054456 -0.050222   \nnIAT               -0.007063 -0.001013 -0.008315  -0.004330 -0.010611   \nseIAT              -0.012926 -0.011085 -0.051979  -0.036834 -0.043549   \nmeanExp            -0.051329 -0.036772 -0.100355  -0.075215 -0.081126   \nnExp               -0.007042 -0.001050 -0.007905  -0.003967 -0.010322   \nseExp              -0.015289 -0.012102 -0.060870  -0.044074 -0.050217   \ntotal_cards        -0.039522 -0.025329  0.587635   0.486108  0.452567   \navg_cards_per_game -0.021131 -0.010764  0.017451  -0.001673  0.020093   \n\n                     defeats     goals  yellowCards  yellowReds  redCards  \\\nheight             -0.010146 -0.054769    -0.041326   -0.004845  0.007068   \nweight             -0.010021 -0.042374    -0.027011    0.000965  0.008352   \ngames               0.781219  0.435226     0.583322    0.114161  0.121551   \nvictories           0.446144  0.453674     0.483837    0.087464  0.091116   \nties                0.480233  0.288351     0.449229    0.091068  0.093733   \ndefeats             1.000000  0.265784     0.471921    0.099494  0.111227   \ngoals               0.265784  1.000000     0.234318    0.034943  0.038717   \nyellowCards         0.471921  0.234318     1.000000    0.106230  0.086354   \nyellowReds          0.099494  0.034943     0.106230    1.000000  0.018155   \nredCards            0.111227  0.038717     0.086354    0.018155  1.000000   \nrater1             -0.004035  0.014331    -0.005183    0.004076  0.008455   \nrater2             -0.006210  0.016000    -0.008874    0.003031  0.006887   \nrefNum             -0.017469 -0.001845    -0.033402   -0.012727  0.001070   \nrefCountry         -0.155363 -0.042386    -0.124657   -0.036586 -0.026925   \nmeanIAT            -0.059181 -0.022221     0.001287    0.011494  0.000892   \nnIAT               -0.006772 -0.003956    -0.014822   -0.007886  0.003420   \nseIAT              -0.047622 -0.020562    -0.031534   -0.006564 -0.007569   \nmeanExp            -0.088835 -0.036488    -0.022565    0.005443 -0.004715   \nnExp               -0.006450 -0.003813    -0.014695   -0.007894  0.003448   \nseExp              -0.055142 -0.023835    -0.036490   -0.007301 -0.008570   \ntotal_cards         0.477145  0.234690     0.990975    0.106480  0.219121   \navg_cards_per_game  0.030372  0.000116     0.548567    0.004998  0.134128   \n\n                    ...    refNum  refCountry   meanIAT      nIAT     seIAT  \\\nheight              ...  0.021218   -0.007407 -0.038423 -0.007063 -0.012926   \nweight              ...  0.021947   -0.009223 -0.021843 -0.001013 -0.011085   \ngames               ... -0.014623   -0.148424 -0.067934 -0.008315 -0.051979   \nvictories           ... -0.009389   -0.087375 -0.054456 -0.004330 -0.036834   \nties                ... -0.008814   -0.129880 -0.050222 -0.010611 -0.043549   \ndefeats             ... -0.017469   -0.155363 -0.059181 -0.006772 -0.047622   \ngoals               ... -0.001845   -0.042386 -0.022221 -0.003956 -0.020562   \nyellowCards         ... -0.033402   -0.124657  0.001287 -0.014822 -0.031534   \nyellowReds          ... -0.012727   -0.036586  0.011494 -0.007886 -0.006564   \nredCards            ...  0.001070   -0.026925  0.000892  0.003420 -0.007569   \nrater1              ...  0.002214    0.065366 -0.059728  0.023322  0.052935   \nrater2              ...  0.001096    0.064223 -0.060175  0.021625  0.051479   \nrefNum              ...  1.000000    0.128476 -0.020035  0.006516 -0.008750   \nrefCountry          ...  0.128476    1.000000  0.051354 -0.003326  0.177872   \nmeanIAT             ... -0.020035    0.051354  1.000000 -0.081444 -0.127187   \nnIAT                ...  0.006516   -0.003326 -0.081444  1.000000 -0.017729   \nseIAT               ... -0.008750    0.177872 -0.127187 -0.017729  1.000000   \nmeanExp             ... -0.005230    0.234362  0.764981 -0.034516 -0.007937   \nnExp                ...  0.006610   -0.002811 -0.082076  0.999997 -0.017880   \nseExp               ... -0.011259    0.225841 -0.064585 -0.020598  0.914039   \ntotal_cards         ... -0.032569   -0.125706  0.001381 -0.014056 -0.031901   \navg_cards_per_game  ... -0.011394   -0.033747  0.026560 -0.007222 -0.006159   \n\n                     meanExp      nExp     seExp  total_cards  \\\nheight             -0.051329 -0.007042 -0.015289    -0.039522   \nweight             -0.036772 -0.001050 -0.012102    -0.025329   \ngames              -0.100355 -0.007905 -0.060870     0.587635   \nvictories          -0.075215 -0.003967 -0.044074     0.486108   \nties               -0.081126 -0.010322 -0.050217     0.452567   \ndefeats            -0.088835 -0.006450 -0.055142     0.477145   \ngoals              -0.036488 -0.003813 -0.023835     0.234690   \nyellowCards        -0.022565 -0.014695 -0.036490     0.990975   \nyellowReds          0.005443 -0.007894 -0.007301     0.106480   \nredCards           -0.004715  0.003448 -0.008570     0.219121   \nrater1             -0.044058  0.023402  0.064223    -0.003938   \nrater2             -0.045452  0.021705  0.061994    -0.007764   \nrefNum             -0.005230  0.006610 -0.011259    -0.032569   \nrefCountry          0.234362 -0.002811  0.225841    -0.125706   \nmeanIAT             0.764981 -0.082076 -0.064585     0.001381   \nnIAT               -0.034516  0.999997 -0.020598    -0.014056   \nseIAT              -0.007937 -0.017880  0.914039    -0.031901   \nmeanExp             1.000000 -0.034967  0.034983    -0.022733   \nnExp               -0.034967  1.000000 -0.020775    -0.013927   \nseExp               0.034983 -0.020775  1.000000    -0.036889   \ntotal_cards        -0.022733 -0.013927 -0.036889     1.000000   \navg_cards_per_game  0.025985 -0.007278 -0.005808     0.555289   \n\n                    avg_cards_per_game  \nheight                       -0.021131  \nweight                       -0.010764  \ngames                         0.017451  \nvictories                    -0.001673  \nties                          0.020093  \ndefeats                       0.030372  \ngoals                         0.000116  \nyellowCards                   0.548567  \nyellowReds                    0.004998  \nredCards                      0.134128  \nrater1                        0.008376  \nrater2                        0.005981  \nrefNum                       -0.011394  \nrefCountry                   -0.033747  \nmeanIAT                       0.026560  \nnIAT                         -0.007222  \nseIAT                        -0.006159  \nmeanExp                       0.025985  \nnExp                         -0.007278  \nseExp                        -0.005808  \ntotal_cards                   0.555289  \navg_cards_per_game            1.000000  \n\n[22 rows x 22 columns]",
      "text/html": "<div>\n<style scoped>\n    .dataframe tbody tr th:only-of-type {\n        vertical-align: middle;\n    }\n\n    .dataframe tbody tr th {\n        vertical-align: top;\n    }\n\n    .dataframe thead th {\n        text-align: right;\n    }\n</style>\n<table border=\"1\" class=\"dataframe\">\n  <thead>\n    <tr style=\"text-align: right;\">\n      <th></th>\n      <th>height</th>\n      <th>weight</th>\n      <th>games</th>\n      <th>victories</th>\n      <th>ties</th>\n      <th>defeats</th>\n      <th>goals</th>\n      <th>yellowCards</th>\n      <th>yellowReds</th>\n      <th>redCards</th>\n      <th>...</th>\n      <th>refNum</th>\n      <th>refCountry</th>\n      <th>meanIAT</th>\n      <th>nIAT</th>\n      <th>seIAT</th>\n      <th>meanExp</th>\n      <th>nExp</th>\n      <th>seExp</th>\n      <th>total_cards</th>\n      <th>avg_cards_per_game</th>\n    </tr>\n  </thead>\n  <tbody>\n    <tr>\n      <th>height</th>\n      <td>1.000000</td>\n      <td>0.791497</td>\n      <td>-0.022620</td>\n      <td>-0.024575</td>\n      <td>-0.017885</td>\n      <td>-0.010146</td>\n      <td>-0.054769</td>\n      <td>-0.041326</td>\n      <td>-0.004845</td>\n      <td>0.007068</td>\n      <td>...</td>\n      <td>0.021218</td>\n      <td>-0.007407</td>\n      <td>-0.038423</td>\n      <td>-0.007063</td>\n      <td>-0.012926</td>\n      <td>-0.051329</td>\n      <td>-0.007042</td>\n      <td>-0.015289</td>\n      <td>-0.039522</td>\n      <td>-0.021131</td>\n    </tr>\n    <tr>\n      <th>weight</th>\n      <td>0.791497</td>\n      <td>1.000000</td>\n      <td>-0.018318</td>\n      <td>-0.016138</td>\n      <td>-0.018493</td>\n      <td>-0.010021</td>\n      <td>-0.042374</td>\n      <td>-0.027011</td>\n      <td>0.000965</td>\n      <td>0.008352</td>\n      <td>...</td>\n      <td>0.021947</td>\n      <td>-0.009223</td>\n      <td>-0.021843</td>\n      <td>-0.001013</td>\n      <td>-0.011085</td>\n      <td>-0.036772</td>\n      <td>-0.001050</td>\n      <td>-0.012102</td>\n      <td>-0.025329</td>\n      <td>-0.010764</td>\n    </tr>\n    <tr>\n      <th>games</th>\n      <td>-0.022620</td>\n      <td>-0.018318</td>\n      <td>1.000000</td>\n      <td>0.855858</td>\n      <td>0.760762</td>\n      <td>0.781219</td>\n      <td>0.435226</td>\n      <td>0.583322</td>\n      <td>0.114161</td>\n      <td>0.121551</td>\n      <td>...</td>\n      <td>-0.014623</td>\n      <td>-0.148424</td>\n      <td>-0.067934</td>\n      <td>-0.008315</td>\n      <td>-0.051979</td>\n      <td>-0.100355</td>\n      <td>-0.007905</td>\n      <td>-0.060870</td>\n      <td>0.587635</td>\n      <td>0.017451</td>\n    </tr>\n    <tr>\n      <th>victories</th>\n      <td>-0.024575</td>\n      <td>-0.016138</td>\n      <td>0.855858</td>\n      <td>1.000000</td>\n      <td>0.482794</td>\n      <td>0.446144</td>\n      <td>0.453674</td>\n      <td>0.483837</td>\n      <td>0.087464</td>\n      <td>0.091116</td>\n      <td>...</td>\n      <td>-0.009389</td>\n      <td>-0.087375</td>\n      <td>-0.054456</td>\n      <td>-0.004330</td>\n      <td>-0.036834</td>\n      <td>-0.075215</td>\n      <td>-0.003967</td>\n      <td>-0.044074</td>\n      <td>0.486108</td>\n      <td>-0.001673</td>\n    </tr>\n    <tr>\n      <th>ties</th>\n      <td>-0.017885</td>\n      <td>-0.018493</td>\n      <td>0.760762</td>\n      <td>0.482794</td>\n      <td>1.000000</td>\n      <td>0.480233</td>\n      <td>0.288351</td>\n      <td>0.449229</td>\n      <td>0.091068</td>\n      <td>0.093733</td>\n      <td>...</td>\n      <td>-0.008814</td>\n      <td>-0.129880</td>\n      <td>-0.050222</td>\n      <td>-0.010611</td>\n      <td>-0.043549</td>\n      <td>-0.081126</td>\n      <td>-0.010322</td>\n      <td>-0.050217</td>\n      <td>0.452567</td>\n      <td>0.020093</td>\n    </tr>\n    <tr>\n      <th>defeats</th>\n      <td>-0.010146</td>\n      <td>-0.010021</td>\n      <td>0.781219</td>\n      <td>0.446144</td>\n      <td>0.480233</td>\n      <td>1.000000</td>\n      <td>0.265784</td>\n      <td>0.471921</td>\n      <td>0.099494</td>\n      <td>0.111227</td>\n      <td>...</td>\n      <td>-0.017469</td>\n      <td>-0.155363</td>\n      <td>-0.059181</td>\n      <td>-0.006772</td>\n      <td>-0.047622</td>\n      <td>-0.088835</td>\n      <td>-0.006450</td>\n      <td>-0.055142</td>\n      <td>0.477145</td>\n      <td>0.030372</td>\n    </tr>\n    <tr>\n      <th>goals</th>\n      <td>-0.054769</td>\n      <td>-0.042374</td>\n      <td>0.435226</td>\n      <td>0.453674</td>\n      <td>0.288351</td>\n      <td>0.265784</td>\n      <td>1.000000</td>\n      <td>0.234318</td>\n      <td>0.034943</td>\n      <td>0.038717</td>\n      <td>...</td>\n      <td>-0.001845</td>\n      <td>-0.042386</td>\n      <td>-0.022221</td>\n      <td>-0.003956</td>\n      <td>-0.020562</td>\n      <td>-0.036488</td>\n      <td>-0.003813</td>\n      <td>-0.023835</td>\n      <td>0.234690</td>\n      <td>0.000116</td>\n    </tr>\n    <tr>\n      <th>yellowCards</th>\n      <td>-0.041326</td>\n      <td>-0.027011</td>\n      <td>0.583322</td>\n      <td>0.483837</td>\n      <td>0.449229</td>\n      <td>0.471921</td>\n      <td>0.234318</td>\n      <td>1.000000</td>\n      <td>0.106230</td>\n      <td>0.086354</td>\n      <td>...</td>\n      <td>-0.033402</td>\n      <td>-0.124657</td>\n      <td>0.001287</td>\n      <td>-0.014822</td>\n      <td>-0.031534</td>\n      <td>-0.022565</td>\n      <td>-0.014695</td>\n      <td>-0.036490</td>\n      <td>0.990975</td>\n      <td>0.548567</td>\n    </tr>\n    <tr>\n      <th>yellowReds</th>\n      <td>-0.004845</td>\n      <td>0.000965</td>\n      <td>0.114161</td>\n      <td>0.087464</td>\n      <td>0.091068</td>\n      <td>0.099494</td>\n      <td>0.034943</td>\n      <td>0.106230</td>\n      <td>1.000000</td>\n      <td>0.018155</td>\n      <td>...</td>\n      <td>-0.012727</td>\n      <td>-0.036586</td>\n      <td>0.011494</td>\n      <td>-0.007886</td>\n      <td>-0.006564</td>\n      <td>0.005443</td>\n      <td>-0.007894</td>\n      <td>-0.007301</td>\n      <td>0.106480</td>\n      <td>0.004998</td>\n    </tr>\n    <tr>\n      <th>redCards</th>\n      <td>0.007068</td>\n      <td>0.008352</td>\n      <td>0.121551</td>\n      <td>0.091116</td>\n      <td>0.093733</td>\n      <td>0.111227</td>\n      <td>0.038717</td>\n      <td>0.086354</td>\n      <td>0.018155</td>\n      <td>1.000000</td>\n      <td>...</td>\n      <td>0.001070</td>\n      <td>-0.026925</td>\n      <td>0.000892</td>\n      <td>0.003420</td>\n      <td>-0.007569</td>\n      <td>-0.004715</td>\n      <td>0.003448</td>\n      <td>-0.008570</td>\n      <td>0.219121</td>\n      <td>0.134128</td>\n    </tr>\n    <tr>\n      <th>rater1</th>\n      <td>-0.087894</td>\n      <td>-0.039570</td>\n      <td>-0.006420</td>\n      <td>-0.011578</td>\n      <td>0.004005</td>\n      <td>-0.004035</td>\n      <td>0.014331</td>\n      <td>-0.005183</td>\n      <td>0.004076</td>\n      <td>0.008455</td>\n      <td>...</td>\n      <td>0.002214</td>\n      <td>0.065366</td>\n      <td>-0.059728</td>\n      <td>0.023322</td>\n      <td>0.052935</td>\n      <td>-0.044058</td>\n      <td>0.023402</td>\n      <td>0.064223</td>\n      <td>-0.003938</td>\n      <td>0.008376</td>\n    </tr>\n    <tr>\n      <th>rater2</th>\n      <td>-0.050576</td>\n      <td>-0.028141</td>\n      <td>-0.008477</td>\n      <td>-0.013678</td>\n      <td>0.003709</td>\n      <td>-0.006210</td>\n      <td>0.016000</td>\n      <td>-0.008874</td>\n      <td>0.003031</td>\n      <td>0.006887</td>\n      <td>...</td>\n      <td>0.001096</td>\n      <td>0.064223</td>\n      <td>-0.060175</td>\n      <td>0.021625</td>\n      <td>0.051479</td>\n      <td>-0.045452</td>\n      <td>0.021705</td>\n      <td>0.061994</td>\n      <td>-0.007764</td>\n      <td>0.005981</td>\n    </tr>\n    <tr>\n      <th>refNum</th>\n      <td>0.021218</td>\n      <td>0.021947</td>\n      <td>-0.014623</td>\n      <td>-0.009389</td>\n      <td>-0.008814</td>\n      <td>-0.017469</td>\n      <td>-0.001845</td>\n      <td>-0.033402</td>\n      <td>-0.012727</td>\n      <td>0.001070</td>\n      <td>...</td>\n      <td>1.000000</td>\n      <td>0.128476</td>\n      <td>-0.020035</td>\n      <td>0.006516</td>\n      <td>-0.008750</td>\n      <td>-0.005230</td>\n      <td>0.006610</td>\n      <td>-0.011259</td>\n      <td>-0.032569</td>\n      <td>-0.011394</td>\n    </tr>\n    <tr>\n      <th>refCountry</th>\n      <td>-0.007407</td>\n      <td>-0.009223</td>\n      <td>-0.148424</td>\n      <td>-0.087375</td>\n      <td>-0.129880</td>\n      <td>-0.155363</td>\n      <td>-0.042386</td>\n      <td>-0.124657</td>\n      <td>-0.036586</td>\n      <td>-0.026925</td>\n      <td>...</td>\n      <td>0.128476</td>\n      <td>1.000000</td>\n      <td>0.051354</td>\n      <td>-0.003326</td>\n      <td>0.177872</td>\n      <td>0.234362</td>\n      <td>-0.002811</td>\n      <td>0.225841</td>\n      <td>-0.125706</td>\n      <td>-0.033747</td>\n    </tr>\n    <tr>\n      <th>meanIAT</th>\n      <td>-0.038423</td>\n      <td>-0.021843</td>\n      <td>-0.067934</td>\n      <td>-0.054456</td>\n      <td>-0.050222</td>\n      <td>-0.059181</td>\n      <td>-0.022221</td>\n      <td>0.001287</td>\n      <td>0.011494</td>\n      <td>0.000892</td>\n      <td>...</td>\n      <td>-0.020035</td>\n      <td>0.051354</td>\n      <td>1.000000</td>\n      <td>-0.081444</td>\n      <td>-0.127187</td>\n      <td>0.764981</td>\n      <td>-0.082076</td>\n      <td>-0.064585</td>\n      <td>0.001381</td>\n      <td>0.026560</td>\n    </tr>\n    <tr>\n      <th>nIAT</th>\n      <td>-0.007063</td>\n      <td>-0.001013</td>\n      <td>-0.008315</td>\n      <td>-0.004330</td>\n      <td>-0.010611</td>\n      <td>-0.006772</td>\n      <td>-0.003956</td>\n      <td>-0.014822</td>\n      <td>-0.007886</td>\n      <td>0.003420</td>\n      <td>...</td>\n      <td>0.006516</td>\n      <td>-0.003326</td>\n      <td>-0.081444</td>\n      <td>1.000000</td>\n      <td>-0.017729</td>\n      <td>-0.034516</td>\n      <td>0.999997</td>\n      <td>-0.020598</td>\n      <td>-0.014056</td>\n      <td>-0.007222</td>\n    </tr>\n    <tr>\n      <th>seIAT</th>\n      <td>-0.012926</td>\n      <td>-0.011085</td>\n      <td>-0.051979</td>\n      <td>-0.036834</td>\n      <td>-0.043549</td>\n      <td>-0.047622</td>\n      <td>-0.020562</td>\n      <td>-0.031534</td>\n      <td>-0.006564</td>\n      <td>-0.007569</td>\n      <td>...</td>\n      <td>-0.008750</td>\n      <td>0.177872</td>\n      <td>-0.127187</td>\n      <td>-0.017729</td>\n      <td>1.000000</td>\n      <td>-0.007937</td>\n      <td>-0.017880</td>\n      <td>0.914039</td>\n      <td>-0.031901</td>\n      <td>-0.006159</td>\n    </tr>\n    <tr>\n      <th>meanExp</th>\n      <td>-0.051329</td>\n      <td>-0.036772</td>\n      <td>-0.100355</td>\n      <td>-0.075215</td>\n      <td>-0.081126</td>\n      <td>-0.088835</td>\n      <td>-0.036488</td>\n      <td>-0.022565</td>\n      <td>0.005443</td>\n      <td>-0.004715</td>\n      <td>...</td>\n      <td>-0.005230</td>\n      <td>0.234362</td>\n      <td>0.764981</td>\n      <td>-0.034516</td>\n      <td>-0.007937</td>\n      <td>1.000000</td>\n      <td>-0.034967</td>\n      <td>0.034983</td>\n      <td>-0.022733</td>\n      <td>0.025985</td>\n    </tr>\n    <tr>\n      <th>nExp</th>\n      <td>-0.007042</td>\n      <td>-0.001050</td>\n      <td>-0.007905</td>\n      <td>-0.003967</td>\n      <td>-0.010322</td>\n      <td>-0.006450</td>\n      <td>-0.003813</td>\n      <td>-0.014695</td>\n      <td>-0.007894</td>\n      <td>0.003448</td>\n      <td>...</td>\n      <td>0.006610</td>\n      <td>-0.002811</td>\n      <td>-0.082076</td>\n      <td>0.999997</td>\n      <td>-0.017880</td>\n      <td>-0.034967</td>\n      <td>1.000000</td>\n      <td>-0.020775</td>\n      <td>-0.013927</td>\n      <td>-0.007278</td>\n    </tr>\n    <tr>\n      <th>seExp</th>\n      <td>-0.015289</td>\n      <td>-0.012102</td>\n      <td>-0.060870</td>\n      <td>-0.044074</td>\n      <td>-0.050217</td>\n      <td>-0.055142</td>\n      <td>-0.023835</td>\n      <td>-0.036490</td>\n      <td>-0.007301</td>\n      <td>-0.008570</td>\n      <td>...</td>\n      <td>-0.011259</td>\n      <td>0.225841</td>\n      <td>-0.064585</td>\n      <td>-0.020598</td>\n      <td>0.914039</td>\n      <td>0.034983</td>\n      <td>-0.020775</td>\n      <td>1.000000</td>\n      <td>-0.036889</td>\n      <td>-0.005808</td>\n    </tr>\n    <tr>\n      <th>total_cards</th>\n      <td>-0.039522</td>\n      <td>-0.025329</td>\n      <td>0.587635</td>\n      <td>0.486108</td>\n      <td>0.452567</td>\n      <td>0.477145</td>\n      <td>0.234690</td>\n      <td>0.990975</td>\n      <td>0.106480</td>\n      <td>0.219121</td>\n      <td>...</td>\n      <td>-0.032569</td>\n      <td>-0.125706</td>\n      <td>0.001381</td>\n      <td>-0.014056</td>\n      <td>-0.031901</td>\n      <td>-0.022733</td>\n      <td>-0.013927</td>\n      <td>-0.036889</td>\n      <td>1.000000</td>\n      <td>0.555289</td>\n    </tr>\n    <tr>\n      <th>avg_cards_per_game</th>\n      <td>-0.021131</td>\n      <td>-0.010764</td>\n      <td>0.017451</td>\n      <td>-0.001673</td>\n      <td>0.020093</td>\n      <td>0.030372</td>\n      <td>0.000116</td>\n      <td>0.548567</td>\n      <td>0.004998</td>\n      <td>0.134128</td>\n      <td>...</td>\n      <td>-0.011394</td>\n      <td>-0.033747</td>\n      <td>0.026560</td>\n      <td>-0.007222</td>\n      <td>-0.006159</td>\n      <td>0.025985</td>\n      <td>-0.007278</td>\n      <td>-0.005808</td>\n      <td>0.555289</td>\n      <td>1.000000</td>\n    </tr>\n  </tbody>\n</table>\n<p>22 rows × 22 columns</p>\n</div>"
     },
     "execution_count": 21,
     "metadata": {},
     "output_type": "execute_result"
    }
   ],
   "source": [
    "df[numeric_columns].corr()"
   ],
   "metadata": {
    "colab": {
     "base_uri": "https://localhost:8080/",
     "height": 696
    },
    "id": "17bad01f3a302a8d",
    "outputId": "7af83592-4748-43f3-c5c1-e75abf70ec7f",
    "ExecuteTime": {
     "end_time": "2023-10-11T08:56:24.036138654Z",
     "start_time": "2023-10-11T08:56:23.707971852Z"
    }
   },
   "id": "17bad01f3a302a8d"
  },
  {
   "cell_type": "markdown",
   "source": [
    "## 6.1 Highest correlations per variable\n",
    "For each of the variables, let's find the variable that has the highest correlation with it."
   ],
   "metadata": {
    "collapsed": false,
    "id": "b507a794fe2cba2d"
   },
   "id": "b507a794fe2cba2d"
  },
  {
   "cell_type": "code",
   "execution_count": 22,
   "outputs": [
    {
     "data": {
      "text/plain": "                      height    weight     games  victories      ties  \\\nheight              1.000000  0.791497 -0.022620  -0.024575 -0.017885   \nweight              0.791497  1.000000 -0.018318  -0.016138 -0.018493   \ngames              -0.022620 -0.018318  1.000000   0.855858  0.760762   \nvictories          -0.024575 -0.016138  0.855858   1.000000  0.482794   \nties               -0.017885 -0.018493  0.760762   0.482794  1.000000   \ndefeats            -0.010146 -0.010021  0.781219   0.446144  0.480233   \ngoals              -0.054769 -0.042374  0.435226   0.453674  0.288351   \nyellowCards        -0.041326 -0.027011  0.583322   0.483837  0.449229   \nyellowReds         -0.004845  0.000965  0.114161   0.087464  0.091068   \nredCards            0.007068  0.008352  0.121551   0.091116  0.093733   \nrater1             -0.087894 -0.039570 -0.006420  -0.011578  0.004005   \nrater2             -0.050576 -0.028141 -0.008477  -0.013678  0.003709   \nrefNum              0.021218  0.021947 -0.014623  -0.009389 -0.008814   \nrefCountry         -0.007407 -0.009223 -0.148424  -0.087375 -0.129880   \nmeanIAT            -0.038423 -0.021843 -0.067934  -0.054456 -0.050222   \nnIAT               -0.007063 -0.001013 -0.008315  -0.004330 -0.010611   \nseIAT              -0.012926 -0.011085 -0.051979  -0.036834 -0.043549   \nmeanExp            -0.051329 -0.036772 -0.100355  -0.075215 -0.081126   \nnExp               -0.007042 -0.001050 -0.007905  -0.003967 -0.010322   \nseExp              -0.015289 -0.012102 -0.060870  -0.044074 -0.050217   \ntotal_cards        -0.039522 -0.025329  0.587635   0.486108  0.452567   \navg_cards_per_game -0.021131 -0.010764  0.017451  -0.001673  0.020093   \n\n                     defeats     goals  yellowCards  yellowReds  redCards  \\\nheight             -0.010146 -0.054769    -0.041326   -0.004845  0.007068   \nweight             -0.010021 -0.042374    -0.027011    0.000965  0.008352   \ngames               0.781219  0.435226     0.583322    0.114161  0.121551   \nvictories           0.446144  0.453674     0.483837    0.087464  0.091116   \nties                0.480233  0.288351     0.449229    0.091068  0.093733   \ndefeats             1.000000  0.265784     0.471921    0.099494  0.111227   \ngoals               0.265784  1.000000     0.234318    0.034943  0.038717   \nyellowCards         0.471921  0.234318     1.000000    0.106230  0.086354   \nyellowReds          0.099494  0.034943     0.106230    1.000000  0.018155   \nredCards            0.111227  0.038717     0.086354    0.018155  1.000000   \nrater1             -0.004035  0.014331    -0.005183    0.004076  0.008455   \nrater2             -0.006210  0.016000    -0.008874    0.003031  0.006887   \nrefNum             -0.017469 -0.001845    -0.033402   -0.012727  0.001070   \nrefCountry         -0.155363 -0.042386    -0.124657   -0.036586 -0.026925   \nmeanIAT            -0.059181 -0.022221     0.001287    0.011494  0.000892   \nnIAT               -0.006772 -0.003956    -0.014822   -0.007886  0.003420   \nseIAT              -0.047622 -0.020562    -0.031534   -0.006564 -0.007569   \nmeanExp            -0.088835 -0.036488    -0.022565    0.005443 -0.004715   \nnExp               -0.006450 -0.003813    -0.014695   -0.007894  0.003448   \nseExp              -0.055142 -0.023835    -0.036490   -0.007301 -0.008570   \ntotal_cards         0.477145  0.234690     0.990975    0.106480  0.219121   \navg_cards_per_game  0.030372  0.000116     0.548567    0.004998  0.134128   \n\n                    ...    refNum  refCountry   meanIAT      nIAT     seIAT  \\\nheight              ...  0.021218   -0.007407 -0.038423 -0.007063 -0.012926   \nweight              ...  0.021947   -0.009223 -0.021843 -0.001013 -0.011085   \ngames               ... -0.014623   -0.148424 -0.067934 -0.008315 -0.051979   \nvictories           ... -0.009389   -0.087375 -0.054456 -0.004330 -0.036834   \nties                ... -0.008814   -0.129880 -0.050222 -0.010611 -0.043549   \ndefeats             ... -0.017469   -0.155363 -0.059181 -0.006772 -0.047622   \ngoals               ... -0.001845   -0.042386 -0.022221 -0.003956 -0.020562   \nyellowCards         ... -0.033402   -0.124657  0.001287 -0.014822 -0.031534   \nyellowReds          ... -0.012727   -0.036586  0.011494 -0.007886 -0.006564   \nredCards            ...  0.001070   -0.026925  0.000892  0.003420 -0.007569   \nrater1              ...  0.002214    0.065366 -0.059728  0.023322  0.052935   \nrater2              ...  0.001096    0.064223 -0.060175  0.021625  0.051479   \nrefNum              ...  1.000000    0.128476 -0.020035  0.006516 -0.008750   \nrefCountry          ...  0.128476    1.000000  0.051354 -0.003326  0.177872   \nmeanIAT             ... -0.020035    0.051354  1.000000 -0.081444 -0.127187   \nnIAT                ...  0.006516   -0.003326 -0.081444  1.000000 -0.017729   \nseIAT               ... -0.008750    0.177872 -0.127187 -0.017729  1.000000   \nmeanExp             ... -0.005230    0.234362  0.764981 -0.034516 -0.007937   \nnExp                ...  0.006610   -0.002811 -0.082076  0.999997 -0.017880   \nseExp               ... -0.011259    0.225841 -0.064585 -0.020598  0.914039   \ntotal_cards         ... -0.032569   -0.125706  0.001381 -0.014056 -0.031901   \navg_cards_per_game  ... -0.011394   -0.033747  0.026560 -0.007222 -0.006159   \n\n                     meanExp      nExp     seExp  total_cards  \\\nheight             -0.051329 -0.007042 -0.015289    -0.039522   \nweight             -0.036772 -0.001050 -0.012102    -0.025329   \ngames              -0.100355 -0.007905 -0.060870     0.587635   \nvictories          -0.075215 -0.003967 -0.044074     0.486108   \nties               -0.081126 -0.010322 -0.050217     0.452567   \ndefeats            -0.088835 -0.006450 -0.055142     0.477145   \ngoals              -0.036488 -0.003813 -0.023835     0.234690   \nyellowCards        -0.022565 -0.014695 -0.036490     0.990975   \nyellowReds          0.005443 -0.007894 -0.007301     0.106480   \nredCards           -0.004715  0.003448 -0.008570     0.219121   \nrater1             -0.044058  0.023402  0.064223    -0.003938   \nrater2             -0.045452  0.021705  0.061994    -0.007764   \nrefNum             -0.005230  0.006610 -0.011259    -0.032569   \nrefCountry          0.234362 -0.002811  0.225841    -0.125706   \nmeanIAT             0.764981 -0.082076 -0.064585     0.001381   \nnIAT               -0.034516  0.999997 -0.020598    -0.014056   \nseIAT              -0.007937 -0.017880  0.914039    -0.031901   \nmeanExp             1.000000 -0.034967  0.034983    -0.022733   \nnExp               -0.034967  1.000000 -0.020775    -0.013927   \nseExp               0.034983 -0.020775  1.000000    -0.036889   \ntotal_cards        -0.022733 -0.013927 -0.036889     1.000000   \navg_cards_per_game  0.025985 -0.007278 -0.005808     0.555289   \n\n                    avg_cards_per_game  \nheight                       -0.021131  \nweight                       -0.010764  \ngames                         0.017451  \nvictories                    -0.001673  \nties                          0.020093  \ndefeats                       0.030372  \ngoals                         0.000116  \nyellowCards                   0.548567  \nyellowReds                    0.004998  \nredCards                      0.134128  \nrater1                        0.008376  \nrater2                        0.005981  \nrefNum                       -0.011394  \nrefCountry                   -0.033747  \nmeanIAT                       0.026560  \nnIAT                         -0.007222  \nseIAT                        -0.006159  \nmeanExp                       0.025985  \nnExp                         -0.007278  \nseExp                        -0.005808  \ntotal_cards                   0.555289  \navg_cards_per_game            1.000000  \n\n[22 rows x 22 columns]",
      "text/html": "<div>\n<style scoped>\n    .dataframe tbody tr th:only-of-type {\n        vertical-align: middle;\n    }\n\n    .dataframe tbody tr th {\n        vertical-align: top;\n    }\n\n    .dataframe thead th {\n        text-align: right;\n    }\n</style>\n<table border=\"1\" class=\"dataframe\">\n  <thead>\n    <tr style=\"text-align: right;\">\n      <th></th>\n      <th>height</th>\n      <th>weight</th>\n      <th>games</th>\n      <th>victories</th>\n      <th>ties</th>\n      <th>defeats</th>\n      <th>goals</th>\n      <th>yellowCards</th>\n      <th>yellowReds</th>\n      <th>redCards</th>\n      <th>...</th>\n      <th>refNum</th>\n      <th>refCountry</th>\n      <th>meanIAT</th>\n      <th>nIAT</th>\n      <th>seIAT</th>\n      <th>meanExp</th>\n      <th>nExp</th>\n      <th>seExp</th>\n      <th>total_cards</th>\n      <th>avg_cards_per_game</th>\n    </tr>\n  </thead>\n  <tbody>\n    <tr>\n      <th>height</th>\n      <td>1.000000</td>\n      <td>0.791497</td>\n      <td>-0.022620</td>\n      <td>-0.024575</td>\n      <td>-0.017885</td>\n      <td>-0.010146</td>\n      <td>-0.054769</td>\n      <td>-0.041326</td>\n      <td>-0.004845</td>\n      <td>0.007068</td>\n      <td>...</td>\n      <td>0.021218</td>\n      <td>-0.007407</td>\n      <td>-0.038423</td>\n      <td>-0.007063</td>\n      <td>-0.012926</td>\n      <td>-0.051329</td>\n      <td>-0.007042</td>\n      <td>-0.015289</td>\n      <td>-0.039522</td>\n      <td>-0.021131</td>\n    </tr>\n    <tr>\n      <th>weight</th>\n      <td>0.791497</td>\n      <td>1.000000</td>\n      <td>-0.018318</td>\n      <td>-0.016138</td>\n      <td>-0.018493</td>\n      <td>-0.010021</td>\n      <td>-0.042374</td>\n      <td>-0.027011</td>\n      <td>0.000965</td>\n      <td>0.008352</td>\n      <td>...</td>\n      <td>0.021947</td>\n      <td>-0.009223</td>\n      <td>-0.021843</td>\n      <td>-0.001013</td>\n      <td>-0.011085</td>\n      <td>-0.036772</td>\n      <td>-0.001050</td>\n      <td>-0.012102</td>\n      <td>-0.025329</td>\n      <td>-0.010764</td>\n    </tr>\n    <tr>\n      <th>games</th>\n      <td>-0.022620</td>\n      <td>-0.018318</td>\n      <td>1.000000</td>\n      <td>0.855858</td>\n      <td>0.760762</td>\n      <td>0.781219</td>\n      <td>0.435226</td>\n      <td>0.583322</td>\n      <td>0.114161</td>\n      <td>0.121551</td>\n      <td>...</td>\n      <td>-0.014623</td>\n      <td>-0.148424</td>\n      <td>-0.067934</td>\n      <td>-0.008315</td>\n      <td>-0.051979</td>\n      <td>-0.100355</td>\n      <td>-0.007905</td>\n      <td>-0.060870</td>\n      <td>0.587635</td>\n      <td>0.017451</td>\n    </tr>\n    <tr>\n      <th>victories</th>\n      <td>-0.024575</td>\n      <td>-0.016138</td>\n      <td>0.855858</td>\n      <td>1.000000</td>\n      <td>0.482794</td>\n      <td>0.446144</td>\n      <td>0.453674</td>\n      <td>0.483837</td>\n      <td>0.087464</td>\n      <td>0.091116</td>\n      <td>...</td>\n      <td>-0.009389</td>\n      <td>-0.087375</td>\n      <td>-0.054456</td>\n      <td>-0.004330</td>\n      <td>-0.036834</td>\n      <td>-0.075215</td>\n      <td>-0.003967</td>\n      <td>-0.044074</td>\n      <td>0.486108</td>\n      <td>-0.001673</td>\n    </tr>\n    <tr>\n      <th>ties</th>\n      <td>-0.017885</td>\n      <td>-0.018493</td>\n      <td>0.760762</td>\n      <td>0.482794</td>\n      <td>1.000000</td>\n      <td>0.480233</td>\n      <td>0.288351</td>\n      <td>0.449229</td>\n      <td>0.091068</td>\n      <td>0.093733</td>\n      <td>...</td>\n      <td>-0.008814</td>\n      <td>-0.129880</td>\n      <td>-0.050222</td>\n      <td>-0.010611</td>\n      <td>-0.043549</td>\n      <td>-0.081126</td>\n      <td>-0.010322</td>\n      <td>-0.050217</td>\n      <td>0.452567</td>\n      <td>0.020093</td>\n    </tr>\n    <tr>\n      <th>defeats</th>\n      <td>-0.010146</td>\n      <td>-0.010021</td>\n      <td>0.781219</td>\n      <td>0.446144</td>\n      <td>0.480233</td>\n      <td>1.000000</td>\n      <td>0.265784</td>\n      <td>0.471921</td>\n      <td>0.099494</td>\n      <td>0.111227</td>\n      <td>...</td>\n      <td>-0.017469</td>\n      <td>-0.155363</td>\n      <td>-0.059181</td>\n      <td>-0.006772</td>\n      <td>-0.047622</td>\n      <td>-0.088835</td>\n      <td>-0.006450</td>\n      <td>-0.055142</td>\n      <td>0.477145</td>\n      <td>0.030372</td>\n    </tr>\n    <tr>\n      <th>goals</th>\n      <td>-0.054769</td>\n      <td>-0.042374</td>\n      <td>0.435226</td>\n      <td>0.453674</td>\n      <td>0.288351</td>\n      <td>0.265784</td>\n      <td>1.000000</td>\n      <td>0.234318</td>\n      <td>0.034943</td>\n      <td>0.038717</td>\n      <td>...</td>\n      <td>-0.001845</td>\n      <td>-0.042386</td>\n      <td>-0.022221</td>\n      <td>-0.003956</td>\n      <td>-0.020562</td>\n      <td>-0.036488</td>\n      <td>-0.003813</td>\n      <td>-0.023835</td>\n      <td>0.234690</td>\n      <td>0.000116</td>\n    </tr>\n    <tr>\n      <th>yellowCards</th>\n      <td>-0.041326</td>\n      <td>-0.027011</td>\n      <td>0.583322</td>\n      <td>0.483837</td>\n      <td>0.449229</td>\n      <td>0.471921</td>\n      <td>0.234318</td>\n      <td>1.000000</td>\n      <td>0.106230</td>\n      <td>0.086354</td>\n      <td>...</td>\n      <td>-0.033402</td>\n      <td>-0.124657</td>\n      <td>0.001287</td>\n      <td>-0.014822</td>\n      <td>-0.031534</td>\n      <td>-0.022565</td>\n      <td>-0.014695</td>\n      <td>-0.036490</td>\n      <td>0.990975</td>\n      <td>0.548567</td>\n    </tr>\n    <tr>\n      <th>yellowReds</th>\n      <td>-0.004845</td>\n      <td>0.000965</td>\n      <td>0.114161</td>\n      <td>0.087464</td>\n      <td>0.091068</td>\n      <td>0.099494</td>\n      <td>0.034943</td>\n      <td>0.106230</td>\n      <td>1.000000</td>\n      <td>0.018155</td>\n      <td>...</td>\n      <td>-0.012727</td>\n      <td>-0.036586</td>\n      <td>0.011494</td>\n      <td>-0.007886</td>\n      <td>-0.006564</td>\n      <td>0.005443</td>\n      <td>-0.007894</td>\n      <td>-0.007301</td>\n      <td>0.106480</td>\n      <td>0.004998</td>\n    </tr>\n    <tr>\n      <th>redCards</th>\n      <td>0.007068</td>\n      <td>0.008352</td>\n      <td>0.121551</td>\n      <td>0.091116</td>\n      <td>0.093733</td>\n      <td>0.111227</td>\n      <td>0.038717</td>\n      <td>0.086354</td>\n      <td>0.018155</td>\n      <td>1.000000</td>\n      <td>...</td>\n      <td>0.001070</td>\n      <td>-0.026925</td>\n      <td>0.000892</td>\n      <td>0.003420</td>\n      <td>-0.007569</td>\n      <td>-0.004715</td>\n      <td>0.003448</td>\n      <td>-0.008570</td>\n      <td>0.219121</td>\n      <td>0.134128</td>\n    </tr>\n    <tr>\n      <th>rater1</th>\n      <td>-0.087894</td>\n      <td>-0.039570</td>\n      <td>-0.006420</td>\n      <td>-0.011578</td>\n      <td>0.004005</td>\n      <td>-0.004035</td>\n      <td>0.014331</td>\n      <td>-0.005183</td>\n      <td>0.004076</td>\n      <td>0.008455</td>\n      <td>...</td>\n      <td>0.002214</td>\n      <td>0.065366</td>\n      <td>-0.059728</td>\n      <td>0.023322</td>\n      <td>0.052935</td>\n      <td>-0.044058</td>\n      <td>0.023402</td>\n      <td>0.064223</td>\n      <td>-0.003938</td>\n      <td>0.008376</td>\n    </tr>\n    <tr>\n      <th>rater2</th>\n      <td>-0.050576</td>\n      <td>-0.028141</td>\n      <td>-0.008477</td>\n      <td>-0.013678</td>\n      <td>0.003709</td>\n      <td>-0.006210</td>\n      <td>0.016000</td>\n      <td>-0.008874</td>\n      <td>0.003031</td>\n      <td>0.006887</td>\n      <td>...</td>\n      <td>0.001096</td>\n      <td>0.064223</td>\n      <td>-0.060175</td>\n      <td>0.021625</td>\n      <td>0.051479</td>\n      <td>-0.045452</td>\n      <td>0.021705</td>\n      <td>0.061994</td>\n      <td>-0.007764</td>\n      <td>0.005981</td>\n    </tr>\n    <tr>\n      <th>refNum</th>\n      <td>0.021218</td>\n      <td>0.021947</td>\n      <td>-0.014623</td>\n      <td>-0.009389</td>\n      <td>-0.008814</td>\n      <td>-0.017469</td>\n      <td>-0.001845</td>\n      <td>-0.033402</td>\n      <td>-0.012727</td>\n      <td>0.001070</td>\n      <td>...</td>\n      <td>1.000000</td>\n      <td>0.128476</td>\n      <td>-0.020035</td>\n      <td>0.006516</td>\n      <td>-0.008750</td>\n      <td>-0.005230</td>\n      <td>0.006610</td>\n      <td>-0.011259</td>\n      <td>-0.032569</td>\n      <td>-0.011394</td>\n    </tr>\n    <tr>\n      <th>refCountry</th>\n      <td>-0.007407</td>\n      <td>-0.009223</td>\n      <td>-0.148424</td>\n      <td>-0.087375</td>\n      <td>-0.129880</td>\n      <td>-0.155363</td>\n      <td>-0.042386</td>\n      <td>-0.124657</td>\n      <td>-0.036586</td>\n      <td>-0.026925</td>\n      <td>...</td>\n      <td>0.128476</td>\n      <td>1.000000</td>\n      <td>0.051354</td>\n      <td>-0.003326</td>\n      <td>0.177872</td>\n      <td>0.234362</td>\n      <td>-0.002811</td>\n      <td>0.225841</td>\n      <td>-0.125706</td>\n      <td>-0.033747</td>\n    </tr>\n    <tr>\n      <th>meanIAT</th>\n      <td>-0.038423</td>\n      <td>-0.021843</td>\n      <td>-0.067934</td>\n      <td>-0.054456</td>\n      <td>-0.050222</td>\n      <td>-0.059181</td>\n      <td>-0.022221</td>\n      <td>0.001287</td>\n      <td>0.011494</td>\n      <td>0.000892</td>\n      <td>...</td>\n      <td>-0.020035</td>\n      <td>0.051354</td>\n      <td>1.000000</td>\n      <td>-0.081444</td>\n      <td>-0.127187</td>\n      <td>0.764981</td>\n      <td>-0.082076</td>\n      <td>-0.064585</td>\n      <td>0.001381</td>\n      <td>0.026560</td>\n    </tr>\n    <tr>\n      <th>nIAT</th>\n      <td>-0.007063</td>\n      <td>-0.001013</td>\n      <td>-0.008315</td>\n      <td>-0.004330</td>\n      <td>-0.010611</td>\n      <td>-0.006772</td>\n      <td>-0.003956</td>\n      <td>-0.014822</td>\n      <td>-0.007886</td>\n      <td>0.003420</td>\n      <td>...</td>\n      <td>0.006516</td>\n      <td>-0.003326</td>\n      <td>-0.081444</td>\n      <td>1.000000</td>\n      <td>-0.017729</td>\n      <td>-0.034516</td>\n      <td>0.999997</td>\n      <td>-0.020598</td>\n      <td>-0.014056</td>\n      <td>-0.007222</td>\n    </tr>\n    <tr>\n      <th>seIAT</th>\n      <td>-0.012926</td>\n      <td>-0.011085</td>\n      <td>-0.051979</td>\n      <td>-0.036834</td>\n      <td>-0.043549</td>\n      <td>-0.047622</td>\n      <td>-0.020562</td>\n      <td>-0.031534</td>\n      <td>-0.006564</td>\n      <td>-0.007569</td>\n      <td>...</td>\n      <td>-0.008750</td>\n      <td>0.177872</td>\n      <td>-0.127187</td>\n      <td>-0.017729</td>\n      <td>1.000000</td>\n      <td>-0.007937</td>\n      <td>-0.017880</td>\n      <td>0.914039</td>\n      <td>-0.031901</td>\n      <td>-0.006159</td>\n    </tr>\n    <tr>\n      <th>meanExp</th>\n      <td>-0.051329</td>\n      <td>-0.036772</td>\n      <td>-0.100355</td>\n      <td>-0.075215</td>\n      <td>-0.081126</td>\n      <td>-0.088835</td>\n      <td>-0.036488</td>\n      <td>-0.022565</td>\n      <td>0.005443</td>\n      <td>-0.004715</td>\n      <td>...</td>\n      <td>-0.005230</td>\n      <td>0.234362</td>\n      <td>0.764981</td>\n      <td>-0.034516</td>\n      <td>-0.007937</td>\n      <td>1.000000</td>\n      <td>-0.034967</td>\n      <td>0.034983</td>\n      <td>-0.022733</td>\n      <td>0.025985</td>\n    </tr>\n    <tr>\n      <th>nExp</th>\n      <td>-0.007042</td>\n      <td>-0.001050</td>\n      <td>-0.007905</td>\n      <td>-0.003967</td>\n      <td>-0.010322</td>\n      <td>-0.006450</td>\n      <td>-0.003813</td>\n      <td>-0.014695</td>\n      <td>-0.007894</td>\n      <td>0.003448</td>\n      <td>...</td>\n      <td>0.006610</td>\n      <td>-0.002811</td>\n      <td>-0.082076</td>\n      <td>0.999997</td>\n      <td>-0.017880</td>\n      <td>-0.034967</td>\n      <td>1.000000</td>\n      <td>-0.020775</td>\n      <td>-0.013927</td>\n      <td>-0.007278</td>\n    </tr>\n    <tr>\n      <th>seExp</th>\n      <td>-0.015289</td>\n      <td>-0.012102</td>\n      <td>-0.060870</td>\n      <td>-0.044074</td>\n      <td>-0.050217</td>\n      <td>-0.055142</td>\n      <td>-0.023835</td>\n      <td>-0.036490</td>\n      <td>-0.007301</td>\n      <td>-0.008570</td>\n      <td>...</td>\n      <td>-0.011259</td>\n      <td>0.225841</td>\n      <td>-0.064585</td>\n      <td>-0.020598</td>\n      <td>0.914039</td>\n      <td>0.034983</td>\n      <td>-0.020775</td>\n      <td>1.000000</td>\n      <td>-0.036889</td>\n      <td>-0.005808</td>\n    </tr>\n    <tr>\n      <th>total_cards</th>\n      <td>-0.039522</td>\n      <td>-0.025329</td>\n      <td>0.587635</td>\n      <td>0.486108</td>\n      <td>0.452567</td>\n      <td>0.477145</td>\n      <td>0.234690</td>\n      <td>0.990975</td>\n      <td>0.106480</td>\n      <td>0.219121</td>\n      <td>...</td>\n      <td>-0.032569</td>\n      <td>-0.125706</td>\n      <td>0.001381</td>\n      <td>-0.014056</td>\n      <td>-0.031901</td>\n      <td>-0.022733</td>\n      <td>-0.013927</td>\n      <td>-0.036889</td>\n      <td>1.000000</td>\n      <td>0.555289</td>\n    </tr>\n    <tr>\n      <th>avg_cards_per_game</th>\n      <td>-0.021131</td>\n      <td>-0.010764</td>\n      <td>0.017451</td>\n      <td>-0.001673</td>\n      <td>0.020093</td>\n      <td>0.030372</td>\n      <td>0.000116</td>\n      <td>0.548567</td>\n      <td>0.004998</td>\n      <td>0.134128</td>\n      <td>...</td>\n      <td>-0.011394</td>\n      <td>-0.033747</td>\n      <td>0.026560</td>\n      <td>-0.007222</td>\n      <td>-0.006159</td>\n      <td>0.025985</td>\n      <td>-0.007278</td>\n      <td>-0.005808</td>\n      <td>0.555289</td>\n      <td>1.000000</td>\n    </tr>\n  </tbody>\n</table>\n<p>22 rows × 22 columns</p>\n</div>"
     },
     "execution_count": 22,
     "metadata": {},
     "output_type": "execute_result"
    }
   ],
   "source": [
    "# df[[\"height\", \"weight\", \"ties\", ...]]\n",
    "\n",
    "numeric_columns = df.select_dtypes(include=[np.number]).columns\n",
    "corrs = df[numeric_columns].corr()\n",
    "corrs"
   ],
   "metadata": {
    "collapsed": false,
    "ExecuteTime": {
     "end_time": "2023-10-11T08:56:24.145262728Z",
     "start_time": "2023-10-11T08:56:23.835815759Z"
    }
   },
   "id": "96b12b0dc4bb574d"
  },
  {
   "cell_type": "code",
   "execution_count": 23,
   "outputs": [
    {
     "name": "stdout",
     "output_type": "stream",
     "text": [
      "height weight 0.7914972050607055\n",
      "height refNum 0.021218339014344997\n",
      "height redCards 0.007067698331657767\n",
      "weight height 0.7914972050607055\n",
      "weight refNum 0.021946797189410273\n",
      "weight redCards 0.008351654720998093\n",
      "games victories 0.8558576680313157\n",
      "games defeats 0.7812185900320455\n",
      "games ties 0.7607619655309061\n",
      "victories games 0.8558576680313157\n",
      "victories total_cards 0.486108411739537\n",
      "victories yellowCards 0.4838370159404876\n",
      "ties games 0.7607619655309061\n",
      "ties victories 0.4827941712009512\n",
      "ties defeats 0.480232725359787\n",
      "defeats games 0.7812185900320455\n",
      "defeats ties 0.480232725359787\n",
      "defeats total_cards 0.4771447031167401\n",
      "goals victories 0.45367403814587337\n",
      "goals games 0.43522566040593835\n",
      "goals ties 0.2883509168522429\n",
      "yellowCards total_cards 0.9909749028272088\n",
      "yellowCards games 0.5833219742561198\n",
      "yellowCards avg_cards_per_game 0.5485670558106073\n",
      "yellowReds games 0.114160780029708\n",
      "yellowReds total_cards 0.10648006818781215\n",
      "yellowReds yellowCards 0.1062302876281908\n",
      "redCards total_cards 0.2191211809962307\n",
      "redCards avg_cards_per_game 0.13412813673670904\n",
      "redCards games 0.12155089029358346\n",
      "rater1 rater2 0.9218234114950808\n",
      "rater1 refCountry 0.06536648491075087\n",
      "rater1 seExp 0.06422328927026019\n",
      "rater2 rater1 0.9218234114950808\n",
      "rater2 refCountry 0.06422309610597217\n",
      "rater2 seExp 0.06199408690143809\n",
      "refNum refCountry 0.12847557920511782\n",
      "refNum weight 0.021946797189410273\n",
      "refNum height 0.021218339014344997\n",
      "refCountry meanExp 0.23436239612598994\n",
      "refCountry seExp 0.22584067677472497\n",
      "refCountry seIAT 0.17787193441950713\n",
      "meanIAT meanExp 0.7649807551468277\n",
      "meanIAT refCountry 0.051353509448547476\n",
      "meanIAT avg_cards_per_game 0.02655990448783348\n",
      "nIAT nExp 0.9999971372473129\n",
      "nIAT rater1 0.023321772860054244\n",
      "nIAT rater2 0.021624786005247636\n",
      "seIAT seExp 0.9140393017829231\n",
      "seIAT refCountry 0.17787193441950713\n",
      "seIAT rater1 0.05293533755776116\n",
      "meanExp meanIAT 0.7649807551468277\n",
      "meanExp refCountry 0.23436239612598994\n",
      "meanExp seExp 0.03498336939375497\n",
      "nExp nIAT 0.9999971372473129\n",
      "nExp rater1 0.023401538987995442\n",
      "nExp rater2 0.021704879444727765\n",
      "seExp seIAT 0.9140393017829231\n",
      "seExp refCountry 0.22584067677472497\n",
      "seExp rater1 0.06422328927026019\n",
      "total_cards yellowCards 0.9909749028272088\n",
      "total_cards games 0.5876345632250655\n",
      "total_cards avg_cards_per_game 0.5552893957317441\n",
      "avg_cards_per_game total_cards 0.5552893957317441\n",
      "avg_cards_per_game yellowCards 0.5485670558106073\n",
      "avg_cards_per_game redCards 0.13412813673670904\n"
     ]
    }
   ],
   "source": [
    "corrs = df[numeric_columns].corr()\n",
    "for column in numeric_columns:\n",
    "    high_corrs = corrs[column].sort_values(ascending=False)[1:1+3]\n",
    "    for index, corr in high_corrs.items():\n",
    "        print(column, index, corr)"
   ],
   "metadata": {
    "colab": {
     "base_uri": "https://localhost:8080/"
    },
    "id": "d2c197fc1751a078",
    "outputId": "7c1ca445-1ae0-4019-e3f1-dbaa4c537431",
    "ExecuteTime": {
     "end_time": "2023-10-11T08:56:24.157185928Z",
     "start_time": "2023-10-11T08:56:23.948139600Z"
    }
   },
   "id": "d2c197fc1751a078"
  },
  {
   "cell_type": "code",
   "execution_count": 24,
   "outputs": [
    {
     "data": {
      "text/plain": "                          other  correlation\nnIAT                       nExp     0.999997\nnExp                       nIAT     0.999997\ntotal_cards         yellowCards     0.990975\nyellowCards         total_cards     0.990975\nrater1                   rater2     0.921823\nrater2                   rater1     0.921823\nseIAT                     seExp     0.914039\nseExp                     seIAT     0.914039\ngames                 victories     0.855858\nvictories                 games     0.855858\nheight                   weight     0.791497\nweight                   height     0.791497\ndefeats                   games     0.781219\nmeanExp                 meanIAT     0.764981\nmeanIAT                 meanExp     0.764981\nties                      games     0.760762\navg_cards_per_game  total_cards     0.555289\ngoals                 victories     0.453674\nrefCountry              meanExp     0.234362\nredCards            total_cards     0.219121\nrefNum               refCountry     0.128476\nyellowReds                games     0.114161",
      "text/html": "<div>\n<style scoped>\n    .dataframe tbody tr th:only-of-type {\n        vertical-align: middle;\n    }\n\n    .dataframe tbody tr th {\n        vertical-align: top;\n    }\n\n    .dataframe thead th {\n        text-align: right;\n    }\n</style>\n<table border=\"1\" class=\"dataframe\">\n  <thead>\n    <tr style=\"text-align: right;\">\n      <th></th>\n      <th>other</th>\n      <th>correlation</th>\n    </tr>\n  </thead>\n  <tbody>\n    <tr>\n      <th>nIAT</th>\n      <td>nExp</td>\n      <td>0.999997</td>\n    </tr>\n    <tr>\n      <th>nExp</th>\n      <td>nIAT</td>\n      <td>0.999997</td>\n    </tr>\n    <tr>\n      <th>total_cards</th>\n      <td>yellowCards</td>\n      <td>0.990975</td>\n    </tr>\n    <tr>\n      <th>yellowCards</th>\n      <td>total_cards</td>\n      <td>0.990975</td>\n    </tr>\n    <tr>\n      <th>rater1</th>\n      <td>rater2</td>\n      <td>0.921823</td>\n    </tr>\n    <tr>\n      <th>rater2</th>\n      <td>rater1</td>\n      <td>0.921823</td>\n    </tr>\n    <tr>\n      <th>seIAT</th>\n      <td>seExp</td>\n      <td>0.914039</td>\n    </tr>\n    <tr>\n      <th>seExp</th>\n      <td>seIAT</td>\n      <td>0.914039</td>\n    </tr>\n    <tr>\n      <th>games</th>\n      <td>victories</td>\n      <td>0.855858</td>\n    </tr>\n    <tr>\n      <th>victories</th>\n      <td>games</td>\n      <td>0.855858</td>\n    </tr>\n    <tr>\n      <th>height</th>\n      <td>weight</td>\n      <td>0.791497</td>\n    </tr>\n    <tr>\n      <th>weight</th>\n      <td>height</td>\n      <td>0.791497</td>\n    </tr>\n    <tr>\n      <th>defeats</th>\n      <td>games</td>\n      <td>0.781219</td>\n    </tr>\n    <tr>\n      <th>meanExp</th>\n      <td>meanIAT</td>\n      <td>0.764981</td>\n    </tr>\n    <tr>\n      <th>meanIAT</th>\n      <td>meanExp</td>\n      <td>0.764981</td>\n    </tr>\n    <tr>\n      <th>ties</th>\n      <td>games</td>\n      <td>0.760762</td>\n    </tr>\n    <tr>\n      <th>avg_cards_per_game</th>\n      <td>total_cards</td>\n      <td>0.555289</td>\n    </tr>\n    <tr>\n      <th>goals</th>\n      <td>victories</td>\n      <td>0.453674</td>\n    </tr>\n    <tr>\n      <th>refCountry</th>\n      <td>meanExp</td>\n      <td>0.234362</td>\n    </tr>\n    <tr>\n      <th>redCards</th>\n      <td>total_cards</td>\n      <td>0.219121</td>\n    </tr>\n    <tr>\n      <th>refNum</th>\n      <td>refCountry</td>\n      <td>0.128476</td>\n    </tr>\n    <tr>\n      <th>yellowReds</th>\n      <td>games</td>\n      <td>0.114161</td>\n    </tr>\n  </tbody>\n</table>\n</div>"
     },
     "execution_count": 24,
     "metadata": {},
     "output_type": "execute_result"
    }
   ],
   "source": [
    "c = df[numeric_columns].corr().replace(1.0, np.nan)\n",
    "cdf = pd.DataFrame(\n",
    "    {\n",
    "        \"other\": c.idxmax(),\n",
    "        \"correlation\": c.max()\n",
    "    }\n",
    ")\n",
    "cdf.sort_values(\"correlation\", ascending=False)"
   ],
   "metadata": {
    "collapsed": false,
    "ExecuteTime": {
     "end_time": "2023-10-11T08:56:24.233605100Z",
     "start_time": "2023-10-11T08:56:23.990108194Z"
    }
   },
   "id": "46c6510224fd8aab"
  },
  {
   "cell_type": "code",
   "execution_count": 25,
   "outputs": [
    {
     "data": {
      "text/plain": "              height    weight     games  victories      ties   defeats  \\\nweight      0.791497       NaN -0.018318  -0.016138 -0.018493 -0.010021   \nrefNum      0.021218  0.021947 -0.014623  -0.009389 -0.008814 -0.017469   \nredCards    0.007068  0.008352  0.121551   0.091116  0.093733  0.111227   \nyellowReds -0.004845  0.000965  0.114161   0.087464  0.091068  0.099494   \nnExp       -0.007042 -0.001050 -0.007905  -0.003967 -0.010322 -0.006450   \n\n               goals  yellowCards  yellowReds  redCards  ...    refNum  \\\nweight     -0.042374    -0.027011    0.000965  0.008352  ...  0.021947   \nrefNum     -0.001845    -0.033402   -0.012727  0.001070  ...       NaN   \nredCards    0.038717     0.086354    0.018155       NaN  ...  0.001070   \nyellowReds  0.034943     0.106230         NaN  0.018155  ... -0.012727   \nnExp       -0.003813    -0.014695   -0.007894  0.003448  ...  0.006610   \n\n            refCountry   meanIAT      nIAT     seIAT   meanExp      nExp  \\\nweight       -0.009223 -0.021843 -0.001013 -0.011085 -0.036772 -0.001050   \nrefNum        0.128476 -0.020035  0.006516 -0.008750 -0.005230  0.006610   \nredCards     -0.026925  0.000892  0.003420 -0.007569 -0.004715  0.003448   \nyellowReds   -0.036586  0.011494 -0.007886 -0.006564  0.005443 -0.007894   \nnExp         -0.002811 -0.082076  0.999997 -0.017880 -0.034967       NaN   \n\n               seExp  total_cards  avg_cards_per_game  \nweight     -0.012102    -0.025329           -0.010764  \nrefNum     -0.011259    -0.032569           -0.011394  \nredCards   -0.008570     0.219121            0.134128  \nyellowReds -0.007301     0.106480            0.004998  \nnExp       -0.020775    -0.013927           -0.007278  \n\n[5 rows x 22 columns]",
      "text/html": "<div>\n<style scoped>\n    .dataframe tbody tr th:only-of-type {\n        vertical-align: middle;\n    }\n\n    .dataframe tbody tr th {\n        vertical-align: top;\n    }\n\n    .dataframe thead th {\n        text-align: right;\n    }\n</style>\n<table border=\"1\" class=\"dataframe\">\n  <thead>\n    <tr style=\"text-align: right;\">\n      <th></th>\n      <th>height</th>\n      <th>weight</th>\n      <th>games</th>\n      <th>victories</th>\n      <th>ties</th>\n      <th>defeats</th>\n      <th>goals</th>\n      <th>yellowCards</th>\n      <th>yellowReds</th>\n      <th>redCards</th>\n      <th>...</th>\n      <th>refNum</th>\n      <th>refCountry</th>\n      <th>meanIAT</th>\n      <th>nIAT</th>\n      <th>seIAT</th>\n      <th>meanExp</th>\n      <th>nExp</th>\n      <th>seExp</th>\n      <th>total_cards</th>\n      <th>avg_cards_per_game</th>\n    </tr>\n  </thead>\n  <tbody>\n    <tr>\n      <th>weight</th>\n      <td>0.791497</td>\n      <td>NaN</td>\n      <td>-0.018318</td>\n      <td>-0.016138</td>\n      <td>-0.018493</td>\n      <td>-0.010021</td>\n      <td>-0.042374</td>\n      <td>-0.027011</td>\n      <td>0.000965</td>\n      <td>0.008352</td>\n      <td>...</td>\n      <td>0.021947</td>\n      <td>-0.009223</td>\n      <td>-0.021843</td>\n      <td>-0.001013</td>\n      <td>-0.011085</td>\n      <td>-0.036772</td>\n      <td>-0.001050</td>\n      <td>-0.012102</td>\n      <td>-0.025329</td>\n      <td>-0.010764</td>\n    </tr>\n    <tr>\n      <th>refNum</th>\n      <td>0.021218</td>\n      <td>0.021947</td>\n      <td>-0.014623</td>\n      <td>-0.009389</td>\n      <td>-0.008814</td>\n      <td>-0.017469</td>\n      <td>-0.001845</td>\n      <td>-0.033402</td>\n      <td>-0.012727</td>\n      <td>0.001070</td>\n      <td>...</td>\n      <td>NaN</td>\n      <td>0.128476</td>\n      <td>-0.020035</td>\n      <td>0.006516</td>\n      <td>-0.008750</td>\n      <td>-0.005230</td>\n      <td>0.006610</td>\n      <td>-0.011259</td>\n      <td>-0.032569</td>\n      <td>-0.011394</td>\n    </tr>\n    <tr>\n      <th>redCards</th>\n      <td>0.007068</td>\n      <td>0.008352</td>\n      <td>0.121551</td>\n      <td>0.091116</td>\n      <td>0.093733</td>\n      <td>0.111227</td>\n      <td>0.038717</td>\n      <td>0.086354</td>\n      <td>0.018155</td>\n      <td>NaN</td>\n      <td>...</td>\n      <td>0.001070</td>\n      <td>-0.026925</td>\n      <td>0.000892</td>\n      <td>0.003420</td>\n      <td>-0.007569</td>\n      <td>-0.004715</td>\n      <td>0.003448</td>\n      <td>-0.008570</td>\n      <td>0.219121</td>\n      <td>0.134128</td>\n    </tr>\n    <tr>\n      <th>yellowReds</th>\n      <td>-0.004845</td>\n      <td>0.000965</td>\n      <td>0.114161</td>\n      <td>0.087464</td>\n      <td>0.091068</td>\n      <td>0.099494</td>\n      <td>0.034943</td>\n      <td>0.106230</td>\n      <td>NaN</td>\n      <td>0.018155</td>\n      <td>...</td>\n      <td>-0.012727</td>\n      <td>-0.036586</td>\n      <td>0.011494</td>\n      <td>-0.007886</td>\n      <td>-0.006564</td>\n      <td>0.005443</td>\n      <td>-0.007894</td>\n      <td>-0.007301</td>\n      <td>0.106480</td>\n      <td>0.004998</td>\n    </tr>\n    <tr>\n      <th>nExp</th>\n      <td>-0.007042</td>\n      <td>-0.001050</td>\n      <td>-0.007905</td>\n      <td>-0.003967</td>\n      <td>-0.010322</td>\n      <td>-0.006450</td>\n      <td>-0.003813</td>\n      <td>-0.014695</td>\n      <td>-0.007894</td>\n      <td>0.003448</td>\n      <td>...</td>\n      <td>0.006610</td>\n      <td>-0.002811</td>\n      <td>-0.082076</td>\n      <td>0.999997</td>\n      <td>-0.017880</td>\n      <td>-0.034967</td>\n      <td>NaN</td>\n      <td>-0.020775</td>\n      <td>-0.013927</td>\n      <td>-0.007278</td>\n    </tr>\n  </tbody>\n</table>\n<p>5 rows × 22 columns</p>\n</div>"
     },
     "execution_count": 25,
     "metadata": {},
     "output_type": "execute_result"
    }
   ],
   "source": [
    "c.nlargest(5, numeric_columns)"
   ],
   "metadata": {
    "collapsed": false,
    "ExecuteTime": {
     "end_time": "2023-10-11T08:56:24.236483651Z",
     "start_time": "2023-10-11T08:56:24.079566830Z"
    }
   },
   "id": "df730b821b84e787"
  },
  {
   "cell_type": "code",
   "execution_count": 26,
   "outputs": [
    {
     "data": {
      "text/plain": "height                0.791497\nweight                0.791497\ngames                 0.855858\nvictories             0.855858\nties                  0.760762\ndefeats               0.781219\ngoals                 0.453674\nyellowCards           0.990975\nyellowReds            0.114161\nredCards              0.219121\nrater1                0.921823\nrater2                0.921823\nrefNum                0.128476\nrefCountry            0.234362\nmeanIAT               0.764981\nnIAT                  0.999997\nseIAT                 0.914039\nmeanExp               0.764981\nnExp                  0.999997\nseExp                 0.914039\ntotal_cards           0.990975\navg_cards_per_game    0.555289\ndtype: float64"
     },
     "execution_count": 26,
     "metadata": {},
     "output_type": "execute_result"
    }
   ],
   "source": [
    "c.max()"
   ],
   "metadata": {
    "collapsed": false,
    "ExecuteTime": {
     "end_time": "2023-10-11T08:56:24.236942451Z",
     "start_time": "2023-10-11T08:56:24.108277479Z"
    }
   },
   "id": "66c55d734e7015e"
  },
  {
   "cell_type": "code",
   "execution_count": 27,
   "outputs": [
    {
     "data": {
      "text/plain": "height                     weight\nweight                     height\ngames                   victories\nvictories                   games\nties                        games\ndefeats                     games\ngoals                   victories\nyellowCards           total_cards\nyellowReds                  games\nredCards              total_cards\nrater1                     rater2\nrater2                     rater1\nrefNum                 refCountry\nrefCountry                meanExp\nmeanIAT                   meanExp\nnIAT                         nExp\nseIAT                       seExp\nmeanExp                   meanIAT\nnExp                         nIAT\nseExp                       seIAT\ntotal_cards           yellowCards\navg_cards_per_game    total_cards\ndtype: object"
     },
     "execution_count": 27,
     "metadata": {},
     "output_type": "execute_result"
    }
   ],
   "source": [
    "c.idxmax()"
   ],
   "metadata": {
    "collapsed": false,
    "ExecuteTime": {
     "end_time": "2023-10-11T08:56:24.237310645Z",
     "start_time": "2023-10-11T08:56:24.108550038Z"
    }
   },
   "id": "1d1ff9d471783393"
  },
  {
   "cell_type": "code",
   "execution_count": 28,
   "outputs": [
    {
     "data": {
      "text/plain": "height               -0.004845\nweight                0.000965\ngames                 0.114161\nvictories             0.087464\nties                  0.091068\ndefeats               0.099494\ngoals                 0.034943\nyellowCards           0.106230\nyellowReds            1.000000\nredCards              0.018155\nrater1                0.004076\nrater2                0.003031\nrefNum               -0.012727\nrefCountry           -0.036586\nmeanIAT               0.011494\nnIAT                 -0.007886\nseIAT                -0.006564\nmeanExp               0.005443\nnExp                 -0.007894\nseExp                -0.007301\ntotal_cards           0.106480\navg_cards_per_game    0.004998\nName: yellowReds, dtype: float64"
     },
     "execution_count": 28,
     "metadata": {},
     "output_type": "execute_result"
    }
   ],
   "source": [
    "corrs[\"yellowReds\"]"
   ],
   "metadata": {
    "collapsed": false,
    "ExecuteTime": {
     "end_time": "2023-10-11T08:56:24.237615984Z",
     "start_time": "2023-10-11T08:56:24.108691416Z"
    }
   },
   "id": "d033123345995410"
  },
  {
   "cell_type": "markdown",
   "source": [
    "## 6.2 Interesting correlations\n",
    "Pick out some correlations and explain why you think they are interesting and what might be the cause of them."
   ],
   "metadata": {
    "collapsed": false,
    "id": "8341df1f35791b0d"
   },
   "id": "8341df1f35791b0d"
  },
  {
   "cell_type": "markdown",
   "source": [
    "- height weight 0.7914972050607055: This is not surprising. Taller people tend to be heavier.\n",
    "- height redCards 0.007067698331657767: This is slightly surprising. Taller people might more easily unintentionally foul smaller players, so it seems like they would get more cards. The correlation is positive but not very strong.\n",
    "\n",
    "All of these make sense, but may look confusing at first:\n",
    "- games victories 0.8558576680313157\n",
    "- games defeats 0.7812185900320455\n",
    "- games ties 0.7607619655309061\n",
    "A player who plays more games will have more victories, defeats and ties than players who do not play more games."
   ],
   "metadata": {
    "collapsed": false,
    "id": "c938ff7a11def702"
   },
   "id": "c938ff7a11def702"
  },
  {
   "cell_type": "markdown",
   "source": [
    "# 7. Simple Analysis\n",
    "Let's do a simple analysis of skin color and the average number of cards. For this we are going to use a boxplot."
   ],
   "metadata": {
    "collapsed": false,
    "id": "7bbf7d735f7e3eac"
   },
   "id": "7bbf7d735f7e3eac"
  },
  {
   "cell_type": "markdown",
   "source": [
    "First we prepare the data."
   ],
   "metadata": {
    "collapsed": false,
    "id": "71a8cdb6bcf60d48"
   },
   "id": "71a8cdb6bcf60d48"
  },
  {
   "cell_type": "code",
   "execution_count": 29,
   "outputs": [
    {
     "data": {
      "text/plain": "        avg_cards_per_game  rater1  rater2\n0                      0.0    0.25    0.50\n1                      1.0    0.75    0.75\n5                      0.0    0.25    0.00\n6                      0.0    0.00    0.25\n7                      0.0    1.00    1.00\n...                    ...     ...     ...\n146022                 0.0    0.50    0.50\n146023                 0.0    0.00    0.00\n146024                 0.0    0.25    0.50\n146025                 0.0    0.25    0.25\n146027                 0.0    0.00    0.25\n\n[115457 rows x 3 columns]",
      "text/html": "<div>\n<style scoped>\n    .dataframe tbody tr th:only-of-type {\n        vertical-align: middle;\n    }\n\n    .dataframe tbody tr th {\n        vertical-align: top;\n    }\n\n    .dataframe thead th {\n        text-align: right;\n    }\n</style>\n<table border=\"1\" class=\"dataframe\">\n  <thead>\n    <tr style=\"text-align: right;\">\n      <th></th>\n      <th>avg_cards_per_game</th>\n      <th>rater1</th>\n      <th>rater2</th>\n    </tr>\n  </thead>\n  <tbody>\n    <tr>\n      <th>0</th>\n      <td>0.0</td>\n      <td>0.25</td>\n      <td>0.50</td>\n    </tr>\n    <tr>\n      <th>1</th>\n      <td>1.0</td>\n      <td>0.75</td>\n      <td>0.75</td>\n    </tr>\n    <tr>\n      <th>5</th>\n      <td>0.0</td>\n      <td>0.25</td>\n      <td>0.00</td>\n    </tr>\n    <tr>\n      <th>6</th>\n      <td>0.0</td>\n      <td>0.00</td>\n      <td>0.25</td>\n    </tr>\n    <tr>\n      <th>7</th>\n      <td>0.0</td>\n      <td>1.00</td>\n      <td>1.00</td>\n    </tr>\n    <tr>\n      <th>...</th>\n      <td>...</td>\n      <td>...</td>\n      <td>...</td>\n    </tr>\n    <tr>\n      <th>146022</th>\n      <td>0.0</td>\n      <td>0.50</td>\n      <td>0.50</td>\n    </tr>\n    <tr>\n      <th>146023</th>\n      <td>0.0</td>\n      <td>0.00</td>\n      <td>0.00</td>\n    </tr>\n    <tr>\n      <th>146024</th>\n      <td>0.0</td>\n      <td>0.25</td>\n      <td>0.50</td>\n    </tr>\n    <tr>\n      <th>146025</th>\n      <td>0.0</td>\n      <td>0.25</td>\n      <td>0.25</td>\n    </tr>\n    <tr>\n      <th>146027</th>\n      <td>0.0</td>\n      <td>0.00</td>\n      <td>0.25</td>\n    </tr>\n  </tbody>\n</table>\n<p>115457 rows × 3 columns</p>\n</div>"
     },
     "execution_count": 29,
     "metadata": {},
     "output_type": "execute_result"
    }
   ],
   "source": [
    "boxplot_values = df[['avg_cards_per_game', 'rater1', 'rater2']].copy()\n",
    "boxplot_values"
   ],
   "metadata": {
    "colab": {
     "base_uri": "https://localhost:8080/",
     "height": 423
    },
    "id": "2c9077069117aeab",
    "outputId": "c4415c25-9bf9-4824-a505-d3a142cdd0db",
    "ExecuteTime": {
     "end_time": "2023-10-11T08:56:24.237927154Z",
     "start_time": "2023-10-11T08:56:24.108866908Z"
    }
   },
   "id": "2c9077069117aeab"
  },
  {
   "cell_type": "markdown",
   "source": [
    "Then we calculate the average skin color."
   ],
   "metadata": {
    "collapsed": false,
    "id": "94bb52342bb2cb9c"
   },
   "id": "94bb52342bb2cb9c"
  },
  {
   "cell_type": "code",
   "execution_count": 30,
   "outputs": [
    {
     "data": {
      "text/plain": "        avg_cards_per_game  rater1  rater2  avg_skin_color\n0                      0.0    0.25    0.50           0.375\n1                      1.0    0.75    0.75           0.750\n5                      0.0    0.25    0.00           0.125\n6                      0.0    0.00    0.25           0.125\n7                      0.0    1.00    1.00           1.000\n...                    ...     ...     ...             ...\n146022                 0.0    0.50    0.50           0.500\n146023                 0.0    0.00    0.00           0.000\n146024                 0.0    0.25    0.50           0.375\n146025                 0.0    0.25    0.25           0.250\n146027                 0.0    0.00    0.25           0.125\n\n[115457 rows x 4 columns]",
      "text/html": "<div>\n<style scoped>\n    .dataframe tbody tr th:only-of-type {\n        vertical-align: middle;\n    }\n\n    .dataframe tbody tr th {\n        vertical-align: top;\n    }\n\n    .dataframe thead th {\n        text-align: right;\n    }\n</style>\n<table border=\"1\" class=\"dataframe\">\n  <thead>\n    <tr style=\"text-align: right;\">\n      <th></th>\n      <th>avg_cards_per_game</th>\n      <th>rater1</th>\n      <th>rater2</th>\n      <th>avg_skin_color</th>\n    </tr>\n  </thead>\n  <tbody>\n    <tr>\n      <th>0</th>\n      <td>0.0</td>\n      <td>0.25</td>\n      <td>0.50</td>\n      <td>0.375</td>\n    </tr>\n    <tr>\n      <th>1</th>\n      <td>1.0</td>\n      <td>0.75</td>\n      <td>0.75</td>\n      <td>0.750</td>\n    </tr>\n    <tr>\n      <th>5</th>\n      <td>0.0</td>\n      <td>0.25</td>\n      <td>0.00</td>\n      <td>0.125</td>\n    </tr>\n    <tr>\n      <th>6</th>\n      <td>0.0</td>\n      <td>0.00</td>\n      <td>0.25</td>\n      <td>0.125</td>\n    </tr>\n    <tr>\n      <th>7</th>\n      <td>0.0</td>\n      <td>1.00</td>\n      <td>1.00</td>\n      <td>1.000</td>\n    </tr>\n    <tr>\n      <th>...</th>\n      <td>...</td>\n      <td>...</td>\n      <td>...</td>\n      <td>...</td>\n    </tr>\n    <tr>\n      <th>146022</th>\n      <td>0.0</td>\n      <td>0.50</td>\n      <td>0.50</td>\n      <td>0.500</td>\n    </tr>\n    <tr>\n      <th>146023</th>\n      <td>0.0</td>\n      <td>0.00</td>\n      <td>0.00</td>\n      <td>0.000</td>\n    </tr>\n    <tr>\n      <th>146024</th>\n      <td>0.0</td>\n      <td>0.25</td>\n      <td>0.50</td>\n      <td>0.375</td>\n    </tr>\n    <tr>\n      <th>146025</th>\n      <td>0.0</td>\n      <td>0.25</td>\n      <td>0.25</td>\n      <td>0.250</td>\n    </tr>\n    <tr>\n      <th>146027</th>\n      <td>0.0</td>\n      <td>0.00</td>\n      <td>0.25</td>\n      <td>0.125</td>\n    </tr>\n  </tbody>\n</table>\n<p>115457 rows × 4 columns</p>\n</div>"
     },
     "execution_count": 30,
     "metadata": {},
     "output_type": "execute_result"
    }
   ],
   "source": [
    "boxplot_values['avg_skin_color'] = (boxplot_values['rater1'] + boxplot_values['rater2']) / 2\n",
    "boxplot_values"
   ],
   "metadata": {
    "colab": {
     "base_uri": "https://localhost:8080/",
     "height": 423
    },
    "id": "a0e5d0d6ce1afebf",
    "outputId": "244d8ba4-bb2e-4073-c79f-079957ab13b3",
    "ExecuteTime": {
     "end_time": "2023-10-11T08:56:24.242733194Z",
     "start_time": "2023-10-11T08:56:24.108967051Z"
    }
   },
   "id": "a0e5d0d6ce1afebf"
  },
  {
   "cell_type": "markdown",
   "source": [
    "Finally, we can plot the boxplot."
   ],
   "metadata": {
    "collapsed": false,
    "id": "f1b433d86b73d400"
   },
   "id": "f1b433d86b73d400"
  },
  {
   "cell_type": "code",
   "execution_count": 31,
   "outputs": [
    {
     "data": {
      "text/plain": "<Figure size 1000x600 with 1 Axes>",
      "image/png": "[encoded data removed]"
     },
     "metadata": {},
     "output_type": "display_data"
    }
   ],
   "source": [
    "import matplotlib.pyplot as plt\n",
    "\n",
    "grouped = boxplot_values.groupby('avg_skin_color')['avg_cards_per_game']\n",
    "\n",
    "labels = sorted(boxplot_values['avg_skin_color'].unique())\n",
    "\n",
    "data_for_boxplot = [grouped.get_group(label).values for label in labels]\n",
    "\n",
    "plt.figure(figsize=(10, 6))\n",
    "plt.boxplot(data_for_boxplot, labels=labels, notch=True)\n",
    "plt.title('Boxplot of avg_cards_per_game grouped by avg_skin_color')\n",
    "plt.xlabel('Average Skin Color')\n",
    "plt.ylabel('Average Cards Per Game')\n",
    "plt.show()"
   ],
   "metadata": {
    "colab": {
     "base_uri": "https://localhost:8080/",
     "height": 564
    },
    "id": "ccb2bec0e8b721bf",
    "outputId": "9ee830d3-077c-47b1-a4a6-ae540daeb298",
    "ExecuteTime": {
     "end_time": "2023-10-11T08:56:24.570966369Z",
     "start_time": "2023-10-11T08:56:24.109084156Z"
    }
   },
   "id": "ccb2bec0e8b721bf"
  },
  {
   "cell_type": "code",
   "execution_count": 32,
   "outputs": [
    {
     "data": {
      "text/plain": "<pandas.core.groupby.generic.SeriesGroupBy object at 0x7fd3b2e2c5d0>"
     },
     "execution_count": 32,
     "metadata": {},
     "output_type": "execute_result"
    }
   ],
   "source": [
    "grouped = boxplot_values.groupby('avg_skin_color')['avg_cards_per_game']\n",
    "grouped"
   ],
   "metadata": {
    "id": "15c1ed8e7957f7c2",
    "ExecuteTime": {
     "end_time": "2023-10-11T08:56:24.571564424Z",
     "start_time": "2023-10-11T08:56:24.488173127Z"
    }
   },
   "id": "15c1ed8e7957f7c2"
  },
  {
   "cell_type": "code",
   "execution_count": 32,
   "outputs": [],
   "source": [],
   "metadata": {
    "collapsed": false,
    "ExecuteTime": {
     "end_time": "2023-10-11T08:56:24.608841207Z",
     "start_time": "2023-10-11T08:56:24.491448625Z"
    }
   },
   "id": "90538d06ea21472"
  }
 ],
 "metadata": {
  "kernelspec": {
   "display_name": "Python 3",
   "language": "python",
   "name": "python3"
  },
  "language_info": {
   "codemirror_mode": {
    "name": "ipython",
    "version": 2
   },
   "file_extension": ".py",
   "mimetype": "text/x-python",
   "name": "python",
   "nbconvert_exporter": "python",
   "pygments_lexer": "ipython2",
   "version": "2.7.6"
  },
  "colab": {
   "provenance": []
  }
 },
 "nbformat": 4,
 "nbformat_minor": 5
}
