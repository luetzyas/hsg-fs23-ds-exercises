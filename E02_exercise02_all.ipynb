{
 "cells": [
  {
   "cell_type": "code",
   "execution_count": 1,
   "id": "initial_id",
   "metadata": {
    "collapsed": true,
    "id": "initial_id",
    "ExecuteTime": {
     "end_time": "2023-10-26T09:06:59.704395Z",
     "start_time": "2023-10-26T09:06:59.252568700Z"
    }
   },
   "outputs": [],
   "source": [
    "import pandas as pd\n",
    "import numpy as np"
   ]
  },
  {
   "cell_type": "markdown",
   "source": [
    "# 1. Load the data\n",
    "Find a way to load the data into a pandas dataframe. You can find the data here: https://osf.io/fv8c3."
   ],
   "metadata": {
    "collapsed": false,
    "id": "10a6c00f800cbd46"
   },
   "id": "10a6c00f800cbd46"
  },
  {
   "cell_type": "code",
   "execution_count": 2,
   "outputs": [
    {
     "ename": "FileNotFoundError",
     "evalue": "[Errno 2] No such file or directory: 'CrowdstormingDataJuly1st.csv'",
     "output_type": "error",
     "traceback": [
      "\u001B[1;31m---------------------------------------------------------------------------\u001B[0m",
      "\u001B[1;31mFileNotFoundError\u001B[0m                         Traceback (most recent call last)",
      "Input \u001B[1;32mIn [2]\u001B[0m, in \u001B[0;36m<cell line: 1>\u001B[1;34m()\u001B[0m\n\u001B[1;32m----> 1\u001B[0m df \u001B[38;5;241m=\u001B[39m \u001B[43mpd\u001B[49m\u001B[38;5;241;43m.\u001B[39;49m\u001B[43mread_csv\u001B[49m\u001B[43m(\u001B[49m\u001B[38;5;124;43m'\u001B[39;49m\u001B[38;5;124;43mCrowdstormingDataJuly1st.csv\u001B[39;49m\u001B[38;5;124;43m'\u001B[39;49m\u001B[43m)\u001B[49m\n\u001B[0;32m      2\u001B[0m df\u001B[38;5;241m.\u001B[39mhead()\n",
      "File \u001B[1;32m~\\anaconda3\\envs\\my_env\\lib\\site-packages\\pandas\\io\\parsers\\readers.py:912\u001B[0m, in \u001B[0;36mread_csv\u001B[1;34m(filepath_or_buffer, sep, delimiter, header, names, index_col, usecols, dtype, engine, converters, true_values, false_values, skipinitialspace, skiprows, skipfooter, nrows, na_values, keep_default_na, na_filter, verbose, skip_blank_lines, parse_dates, infer_datetime_format, keep_date_col, date_parser, date_format, dayfirst, cache_dates, iterator, chunksize, compression, thousands, decimal, lineterminator, quotechar, quoting, doublequote, escapechar, comment, encoding, encoding_errors, dialect, on_bad_lines, delim_whitespace, low_memory, memory_map, float_precision, storage_options, dtype_backend)\u001B[0m\n\u001B[0;32m    899\u001B[0m kwds_defaults \u001B[38;5;241m=\u001B[39m _refine_defaults_read(\n\u001B[0;32m    900\u001B[0m     dialect,\n\u001B[0;32m    901\u001B[0m     delimiter,\n\u001B[1;32m   (...)\u001B[0m\n\u001B[0;32m    908\u001B[0m     dtype_backend\u001B[38;5;241m=\u001B[39mdtype_backend,\n\u001B[0;32m    909\u001B[0m )\n\u001B[0;32m    910\u001B[0m kwds\u001B[38;5;241m.\u001B[39mupdate(kwds_defaults)\n\u001B[1;32m--> 912\u001B[0m \u001B[38;5;28;01mreturn\u001B[39;00m \u001B[43m_read\u001B[49m\u001B[43m(\u001B[49m\u001B[43mfilepath_or_buffer\u001B[49m\u001B[43m,\u001B[49m\u001B[43m \u001B[49m\u001B[43mkwds\u001B[49m\u001B[43m)\u001B[49m\n",
      "File \u001B[1;32m~\\anaconda3\\envs\\my_env\\lib\\site-packages\\pandas\\io\\parsers\\readers.py:577\u001B[0m, in \u001B[0;36m_read\u001B[1;34m(filepath_or_buffer, kwds)\u001B[0m\n\u001B[0;32m    574\u001B[0m _validate_names(kwds\u001B[38;5;241m.\u001B[39mget(\u001B[38;5;124m\"\u001B[39m\u001B[38;5;124mnames\u001B[39m\u001B[38;5;124m\"\u001B[39m, \u001B[38;5;28;01mNone\u001B[39;00m))\n\u001B[0;32m    576\u001B[0m \u001B[38;5;66;03m# Create the parser.\u001B[39;00m\n\u001B[1;32m--> 577\u001B[0m parser \u001B[38;5;241m=\u001B[39m TextFileReader(filepath_or_buffer, \u001B[38;5;241m*\u001B[39m\u001B[38;5;241m*\u001B[39mkwds)\n\u001B[0;32m    579\u001B[0m \u001B[38;5;28;01mif\u001B[39;00m chunksize \u001B[38;5;129;01mor\u001B[39;00m iterator:\n\u001B[0;32m    580\u001B[0m     \u001B[38;5;28;01mreturn\u001B[39;00m parser\n",
      "File \u001B[1;32m~\\anaconda3\\envs\\my_env\\lib\\site-packages\\pandas\\io\\parsers\\readers.py:1407\u001B[0m, in \u001B[0;36mTextFileReader.__init__\u001B[1;34m(self, f, engine, **kwds)\u001B[0m\n\u001B[0;32m   1404\u001B[0m     \u001B[38;5;28mself\u001B[39m\u001B[38;5;241m.\u001B[39moptions[\u001B[38;5;124m\"\u001B[39m\u001B[38;5;124mhas_index_names\u001B[39m\u001B[38;5;124m\"\u001B[39m] \u001B[38;5;241m=\u001B[39m kwds[\u001B[38;5;124m\"\u001B[39m\u001B[38;5;124mhas_index_names\u001B[39m\u001B[38;5;124m\"\u001B[39m]\n\u001B[0;32m   1406\u001B[0m \u001B[38;5;28mself\u001B[39m\u001B[38;5;241m.\u001B[39mhandles: IOHandles \u001B[38;5;241m|\u001B[39m \u001B[38;5;28;01mNone\u001B[39;00m \u001B[38;5;241m=\u001B[39m \u001B[38;5;28;01mNone\u001B[39;00m\n\u001B[1;32m-> 1407\u001B[0m \u001B[38;5;28mself\u001B[39m\u001B[38;5;241m.\u001B[39m_engine \u001B[38;5;241m=\u001B[39m \u001B[38;5;28;43mself\u001B[39;49m\u001B[38;5;241;43m.\u001B[39;49m\u001B[43m_make_engine\u001B[49m\u001B[43m(\u001B[49m\u001B[43mf\u001B[49m\u001B[43m,\u001B[49m\u001B[43m \u001B[49m\u001B[38;5;28;43mself\u001B[39;49m\u001B[38;5;241;43m.\u001B[39;49m\u001B[43mengine\u001B[49m\u001B[43m)\u001B[49m\n",
      "File \u001B[1;32m~\\anaconda3\\envs\\my_env\\lib\\site-packages\\pandas\\io\\parsers\\readers.py:1661\u001B[0m, in \u001B[0;36mTextFileReader._make_engine\u001B[1;34m(self, f, engine)\u001B[0m\n\u001B[0;32m   1659\u001B[0m     \u001B[38;5;28;01mif\u001B[39;00m \u001B[38;5;124m\"\u001B[39m\u001B[38;5;124mb\u001B[39m\u001B[38;5;124m\"\u001B[39m \u001B[38;5;129;01mnot\u001B[39;00m \u001B[38;5;129;01min\u001B[39;00m mode:\n\u001B[0;32m   1660\u001B[0m         mode \u001B[38;5;241m+\u001B[39m\u001B[38;5;241m=\u001B[39m \u001B[38;5;124m\"\u001B[39m\u001B[38;5;124mb\u001B[39m\u001B[38;5;124m\"\u001B[39m\n\u001B[1;32m-> 1661\u001B[0m \u001B[38;5;28mself\u001B[39m\u001B[38;5;241m.\u001B[39mhandles \u001B[38;5;241m=\u001B[39m \u001B[43mget_handle\u001B[49m\u001B[43m(\u001B[49m\n\u001B[0;32m   1662\u001B[0m \u001B[43m    \u001B[49m\u001B[43mf\u001B[49m\u001B[43m,\u001B[49m\n\u001B[0;32m   1663\u001B[0m \u001B[43m    \u001B[49m\u001B[43mmode\u001B[49m\u001B[43m,\u001B[49m\n\u001B[0;32m   1664\u001B[0m \u001B[43m    \u001B[49m\u001B[43mencoding\u001B[49m\u001B[38;5;241;43m=\u001B[39;49m\u001B[38;5;28;43mself\u001B[39;49m\u001B[38;5;241;43m.\u001B[39;49m\u001B[43moptions\u001B[49m\u001B[38;5;241;43m.\u001B[39;49m\u001B[43mget\u001B[49m\u001B[43m(\u001B[49m\u001B[38;5;124;43m\"\u001B[39;49m\u001B[38;5;124;43mencoding\u001B[39;49m\u001B[38;5;124;43m\"\u001B[39;49m\u001B[43m,\u001B[49m\u001B[43m \u001B[49m\u001B[38;5;28;43;01mNone\u001B[39;49;00m\u001B[43m)\u001B[49m\u001B[43m,\u001B[49m\n\u001B[0;32m   1665\u001B[0m \u001B[43m    \u001B[49m\u001B[43mcompression\u001B[49m\u001B[38;5;241;43m=\u001B[39;49m\u001B[38;5;28;43mself\u001B[39;49m\u001B[38;5;241;43m.\u001B[39;49m\u001B[43moptions\u001B[49m\u001B[38;5;241;43m.\u001B[39;49m\u001B[43mget\u001B[49m\u001B[43m(\u001B[49m\u001B[38;5;124;43m\"\u001B[39;49m\u001B[38;5;124;43mcompression\u001B[39;49m\u001B[38;5;124;43m\"\u001B[39;49m\u001B[43m,\u001B[49m\u001B[43m \u001B[49m\u001B[38;5;28;43;01mNone\u001B[39;49;00m\u001B[43m)\u001B[49m\u001B[43m,\u001B[49m\n\u001B[0;32m   1666\u001B[0m \u001B[43m    \u001B[49m\u001B[43mmemory_map\u001B[49m\u001B[38;5;241;43m=\u001B[39;49m\u001B[38;5;28;43mself\u001B[39;49m\u001B[38;5;241;43m.\u001B[39;49m\u001B[43moptions\u001B[49m\u001B[38;5;241;43m.\u001B[39;49m\u001B[43mget\u001B[49m\u001B[43m(\u001B[49m\u001B[38;5;124;43m\"\u001B[39;49m\u001B[38;5;124;43mmemory_map\u001B[39;49m\u001B[38;5;124;43m\"\u001B[39;49m\u001B[43m,\u001B[49m\u001B[43m \u001B[49m\u001B[38;5;28;43;01mFalse\u001B[39;49;00m\u001B[43m)\u001B[49m\u001B[43m,\u001B[49m\n\u001B[0;32m   1667\u001B[0m \u001B[43m    \u001B[49m\u001B[43mis_text\u001B[49m\u001B[38;5;241;43m=\u001B[39;49m\u001B[43mis_text\u001B[49m\u001B[43m,\u001B[49m\n\u001B[0;32m   1668\u001B[0m \u001B[43m    \u001B[49m\u001B[43merrors\u001B[49m\u001B[38;5;241;43m=\u001B[39;49m\u001B[38;5;28;43mself\u001B[39;49m\u001B[38;5;241;43m.\u001B[39;49m\u001B[43moptions\u001B[49m\u001B[38;5;241;43m.\u001B[39;49m\u001B[43mget\u001B[49m\u001B[43m(\u001B[49m\u001B[38;5;124;43m\"\u001B[39;49m\u001B[38;5;124;43mencoding_errors\u001B[39;49m\u001B[38;5;124;43m\"\u001B[39;49m\u001B[43m,\u001B[49m\u001B[43m \u001B[49m\u001B[38;5;124;43m\"\u001B[39;49m\u001B[38;5;124;43mstrict\u001B[39;49m\u001B[38;5;124;43m\"\u001B[39;49m\u001B[43m)\u001B[49m\u001B[43m,\u001B[49m\n\u001B[0;32m   1669\u001B[0m \u001B[43m    \u001B[49m\u001B[43mstorage_options\u001B[49m\u001B[38;5;241;43m=\u001B[39;49m\u001B[38;5;28;43mself\u001B[39;49m\u001B[38;5;241;43m.\u001B[39;49m\u001B[43moptions\u001B[49m\u001B[38;5;241;43m.\u001B[39;49m\u001B[43mget\u001B[49m\u001B[43m(\u001B[49m\u001B[38;5;124;43m\"\u001B[39;49m\u001B[38;5;124;43mstorage_options\u001B[39;49m\u001B[38;5;124;43m\"\u001B[39;49m\u001B[43m,\u001B[49m\u001B[43m \u001B[49m\u001B[38;5;28;43;01mNone\u001B[39;49;00m\u001B[43m)\u001B[49m\u001B[43m,\u001B[49m\n\u001B[0;32m   1670\u001B[0m \u001B[43m\u001B[49m\u001B[43m)\u001B[49m\n\u001B[0;32m   1671\u001B[0m \u001B[38;5;28;01massert\u001B[39;00m \u001B[38;5;28mself\u001B[39m\u001B[38;5;241m.\u001B[39mhandles \u001B[38;5;129;01mis\u001B[39;00m \u001B[38;5;129;01mnot\u001B[39;00m \u001B[38;5;28;01mNone\u001B[39;00m\n\u001B[0;32m   1672\u001B[0m f \u001B[38;5;241m=\u001B[39m \u001B[38;5;28mself\u001B[39m\u001B[38;5;241m.\u001B[39mhandles\u001B[38;5;241m.\u001B[39mhandle\n",
      "File \u001B[1;32m~\\anaconda3\\envs\\my_env\\lib\\site-packages\\pandas\\io\\common.py:859\u001B[0m, in \u001B[0;36mget_handle\u001B[1;34m(path_or_buf, mode, encoding, compression, memory_map, is_text, errors, storage_options)\u001B[0m\n\u001B[0;32m    854\u001B[0m \u001B[38;5;28;01melif\u001B[39;00m \u001B[38;5;28misinstance\u001B[39m(handle, \u001B[38;5;28mstr\u001B[39m):\n\u001B[0;32m    855\u001B[0m     \u001B[38;5;66;03m# Check whether the filename is to be opened in binary mode.\u001B[39;00m\n\u001B[0;32m    856\u001B[0m     \u001B[38;5;66;03m# Binary mode does not support 'encoding' and 'newline'.\u001B[39;00m\n\u001B[0;32m    857\u001B[0m     \u001B[38;5;28;01mif\u001B[39;00m ioargs\u001B[38;5;241m.\u001B[39mencoding \u001B[38;5;129;01mand\u001B[39;00m \u001B[38;5;124m\"\u001B[39m\u001B[38;5;124mb\u001B[39m\u001B[38;5;124m\"\u001B[39m \u001B[38;5;129;01mnot\u001B[39;00m \u001B[38;5;129;01min\u001B[39;00m ioargs\u001B[38;5;241m.\u001B[39mmode:\n\u001B[0;32m    858\u001B[0m         \u001B[38;5;66;03m# Encoding\u001B[39;00m\n\u001B[1;32m--> 859\u001B[0m         handle \u001B[38;5;241m=\u001B[39m \u001B[38;5;28;43mopen\u001B[39;49m\u001B[43m(\u001B[49m\n\u001B[0;32m    860\u001B[0m \u001B[43m            \u001B[49m\u001B[43mhandle\u001B[49m\u001B[43m,\u001B[49m\n\u001B[0;32m    861\u001B[0m \u001B[43m            \u001B[49m\u001B[43mioargs\u001B[49m\u001B[38;5;241;43m.\u001B[39;49m\u001B[43mmode\u001B[49m\u001B[43m,\u001B[49m\n\u001B[0;32m    862\u001B[0m \u001B[43m            \u001B[49m\u001B[43mencoding\u001B[49m\u001B[38;5;241;43m=\u001B[39;49m\u001B[43mioargs\u001B[49m\u001B[38;5;241;43m.\u001B[39;49m\u001B[43mencoding\u001B[49m\u001B[43m,\u001B[49m\n\u001B[0;32m    863\u001B[0m \u001B[43m            \u001B[49m\u001B[43merrors\u001B[49m\u001B[38;5;241;43m=\u001B[39;49m\u001B[43merrors\u001B[49m\u001B[43m,\u001B[49m\n\u001B[0;32m    864\u001B[0m \u001B[43m            \u001B[49m\u001B[43mnewline\u001B[49m\u001B[38;5;241;43m=\u001B[39;49m\u001B[38;5;124;43m\"\u001B[39;49m\u001B[38;5;124;43m\"\u001B[39;49m\u001B[43m,\u001B[49m\n\u001B[0;32m    865\u001B[0m \u001B[43m        \u001B[49m\u001B[43m)\u001B[49m\n\u001B[0;32m    866\u001B[0m     \u001B[38;5;28;01melse\u001B[39;00m:\n\u001B[0;32m    867\u001B[0m         \u001B[38;5;66;03m# Binary mode\u001B[39;00m\n\u001B[0;32m    868\u001B[0m         handle \u001B[38;5;241m=\u001B[39m \u001B[38;5;28mopen\u001B[39m(handle, ioargs\u001B[38;5;241m.\u001B[39mmode)\n",
      "\u001B[1;31mFileNotFoundError\u001B[0m: [Errno 2] No such file or directory: 'CrowdstormingDataJuly1st.csv'"
     ]
    }
   ],
   "source": [
    "df = pd.read_csv('CrowdstormingDataJuly1st.csv')\n",
    "df.head()"
   ],
   "metadata": {
    "colab": {
     "base_uri": "https://localhost:8080/",
     "height": 270
    },
    "id": "dbbb55920a066c05",
    "outputId": "81ef6680-d444-43b3-9003-148b38df34f6",
    "ExecuteTime": {
     "end_time": "2023-10-26T09:07:00.604405600Z",
     "start_time": "2023-10-26T09:06:59.704395Z"
    }
   },
   "id": "dbbb55920a066c05"
  },
  {
   "cell_type": "code",
   "execution_count": null,
   "outputs": [],
   "source": [
    "df"
   ],
   "metadata": {
    "collapsed": false,
    "ExecuteTime": {
     "start_time": "2023-10-26T09:07:00.599413800Z"
    }
   },
   "id": "a69d7716a413d366"
  },
  {
   "cell_type": "code",
   "execution_count": null,
   "outputs": [],
   "source": [
    "df.columns"
   ],
   "metadata": {
    "colab": {
     "base_uri": "https://localhost:8080/"
    },
    "id": "98d8789cc768d2b3",
    "outputId": "879407c1-66bf-4b50-c6ba-603fdb15ba2c",
    "ExecuteTime": {
     "start_time": "2023-10-26T09:07:00.600402300Z"
    }
   },
   "id": "98d8789cc768d2b3"
  },
  {
   "cell_type": "code",
   "execution_count": null,
   "outputs": [],
   "source": [
    "df.shape"
   ],
   "metadata": {
    "colab": {
     "base_uri": "https://localhost:8080/"
    },
    "id": "73223e44d4c1ff5c",
    "outputId": "371fadf5-2f37-4e76-a911-c7e3702f1f93",
    "ExecuteTime": {
     "start_time": "2023-10-26T09:07:00.602404700Z"
    }
   },
   "id": "73223e44d4c1ff5c"
  },
  {
   "cell_type": "markdown",
   "source": [
    "# 2. Clean the data\n",
    "Here we use a very simple approach to clean the data. We remove all the rows that contain missing values. You can use a more sophisticated approach if you want."
   ],
   "metadata": {
    "collapsed": false,
    "id": "9e4c72db24c6dd9d"
   },
   "id": "9e4c72db24c6dd9d"
  },
  {
   "cell_type": "code",
   "execution_count": null,
   "outputs": [],
   "source": [
    "df = df.dropna()\n",
    "df.shape"
   ],
   "metadata": {
    "colab": {
     "base_uri": "https://localhost:8080/"
    },
    "id": "e7333e2f25a544f0",
    "outputId": "35d5ae82-1aaa-4464-a308-50d76a52e861",
    "ExecuteTime": {
     "start_time": "2023-10-26T09:07:00.603400300Z"
    }
   },
   "id": "e7333e2f25a544f0"
  },
  {
   "cell_type": "markdown",
   "source": [],
   "metadata": {
    "collapsed": false,
    "id": "bae1b95c91d76588"
   },
   "id": "bae1b95c91d76588"
  },
  {
   "cell_type": "code",
   "execution_count": null,
   "outputs": [],
   "source": [
    "len(df)"
   ],
   "metadata": {
    "colab": {
     "base_uri": "https://localhost:8080/"
    },
    "id": "94c9f6d9449008c1",
    "outputId": "8e99911f-3e04-4555-e54c-3bf2e94daf4e",
    "ExecuteTime": {
     "end_time": "2023-10-26T09:07:00.605401500Z",
     "start_time": "2023-10-26T09:07:00.604405600Z"
    }
   },
   "id": "94c9f6d9449008c1"
  },
  {
   "cell_type": "markdown",
   "source": [
    "# 3. Simple statistics\n",
    "Calculate the mean, median, min and maximum values for all columns."
   ],
   "metadata": {
    "collapsed": false,
    "id": "cfed0e02b300dd04"
   },
   "id": "cfed0e02b300dd04"
  },
  {
   "cell_type": "code",
   "execution_count": null,
   "outputs": [],
   "source": [
    "df.describe()"
   ],
   "metadata": {
    "colab": {
     "base_uri": "https://localhost:8080/",
     "height": 320
    },
    "id": "e2fad7e554bd57",
    "outputId": "a41498b7-eaff-410a-b949-fb393bebf38f",
    "ExecuteTime": {
     "start_time": "2023-10-26T09:07:00.606401600Z"
    }
   },
   "id": "e2fad7e554bd57"
  },
  {
   "cell_type": "markdown",
   "source": [
    "df.describe() did not calculate the median for us. Let's do it manually.\n",
    "First, find all numeric columns."
   ],
   "metadata": {
    "collapsed": false,
    "id": "a9f5540d6373d102"
   },
   "id": "a9f5540d6373d102"
  },
  {
   "cell_type": "code",
   "execution_count": null,
   "outputs": [],
   "source": [
    "numeric_columns = df.select_dtypes(include=[np.number]).columns\n",
    "numeric_columns"
   ],
   "metadata": {
    "colab": {
     "base_uri": "https://localhost:8080/"
    },
    "id": "651d14589d00849e",
    "outputId": "f5e99030-d25f-4312-c067-c257f9bdc1a2",
    "ExecuteTime": {
     "end_time": "2023-10-26T09:07:00.607401700Z",
     "start_time": "2023-10-26T09:07:00.607401700Z"
    }
   },
   "id": "651d14589d00849e"
  },
  {
   "cell_type": "markdown",
   "source": [
    "Next, select the numeric columns."
   ],
   "metadata": {
    "collapsed": false,
    "id": "5d41f0fd3fe0fcc6"
   },
   "id": "5d41f0fd3fe0fcc6"
  },
  {
   "cell_type": "code",
   "execution_count": null,
   "outputs": [],
   "source": [
    "df[numeric_columns].head()"
   ],
   "metadata": {
    "colab": {
     "base_uri": "https://localhost:8080/",
     "height": 206
    },
    "id": "381805597a1a8c9a",
    "outputId": "1eafdcbc-ec82-4f20-fba4-d8e88e51f210",
    "ExecuteTime": {
     "end_time": "2023-10-26T09:07:00.611416700Z",
     "start_time": "2023-10-26T09:07:00.608402200Z"
    }
   },
   "id": "381805597a1a8c9a"
  },
  {
   "cell_type": "markdown",
   "source": [
    "Finally, calculate the median."
   ],
   "metadata": {
    "collapsed": false,
    "id": "a80f2f3f2775809f"
   },
   "id": "a80f2f3f2775809f"
  },
  {
   "cell_type": "code",
   "execution_count": null,
   "outputs": [],
   "source": [
    "df[numeric_columns].median()  # by default column-wise!"
   ],
   "metadata": {
    "colab": {
     "base_uri": "https://localhost:8080/"
    },
    "id": "aec1d59d036609d3",
    "outputId": "cef1fafc-83cf-4028-ee15-46ab9d24ef32",
    "ExecuteTime": {
     "start_time": "2023-10-26T09:07:00.610403100Z"
    }
   },
   "id": "aec1d59d036609d3"
  },
  {
   "cell_type": "markdown",
   "source": [
    "# 4. Average cards per game\n",
    "Calculate the average number of yellow and red cards per game for each player. Then print out the 5 players with the highest average number of cards per game."
   ],
   "metadata": {
    "collapsed": false,
    "id": "abf4ca40fc0b7cb7"
   },
   "id": "abf4ca40fc0b7cb7"
  },
  {
   "cell_type": "markdown",
   "source": [
    "## 4.1 Count the number of cards each player has gotten.\n",
    "As an intermediate step, let's first calculate the number of cards each player has gotten."
   ],
   "metadata": {
    "collapsed": false,
    "id": "2ec07a766303c70a"
   },
   "id": "2ec07a766303c70a"
  },
  {
   "cell_type": "code",
   "execution_count": null,
   "outputs": [],
   "source": [
    "df['total_cards'] = df['yellowCards'] + df['redCards']\n",
    "df['total_cards'].head()"
   ],
   "metadata": {
    "colab": {
     "base_uri": "https://localhost:8080/"
    },
    "id": "7dc0676178135ce0",
    "outputId": "597634fc-1a06-4dbf-956b-b40a400a1d59",
    "ExecuteTime": {
     "end_time": "2023-10-26T09:07:00.704785600Z",
     "start_time": "2023-10-26T09:07:00.611416700Z"
    }
   },
   "id": "7dc0676178135ce0"
  },
  {
   "cell_type": "markdown",
   "source": [
    "## 4.2 Calculate the average number of cards per game for each player.\n",
    "Next, we can now use this column to calculate the average number of cards per game for each player."
   ],
   "metadata": {
    "collapsed": false,
    "id": "892f9184ce4ead3a"
   },
   "id": "892f9184ce4ead3a"
  },
  {
   "cell_type": "code",
   "execution_count": null,
   "outputs": [],
   "source": [
    "df['avg_cards_per_game'] = df['total_cards'] / df['games']\n",
    "df['avg_cards_per_game'].head()"
   ],
   "metadata": {
    "colab": {
     "base_uri": "https://localhost:8080/"
    },
    "id": "cdcc582f562365ff",
    "outputId": "d028b283-f60f-4300-b356-0f0fdeaf1f63",
    "ExecuteTime": {
     "start_time": "2023-10-26T09:07:00.612405500Z"
    }
   },
   "id": "cdcc582f562365ff"
  },
  {
   "cell_type": "markdown",
   "source": [
    "## 4.3 Sort the players by the average number of cards per game.\n",
    "Then we sort by this column."
   ],
   "metadata": {
    "collapsed": false,
    "id": "aafa2e9ae61c2ddc"
   },
   "id": "aafa2e9ae61c2ddc"
  },
  {
   "cell_type": "code",
   "execution_count": null,
   "outputs": [],
   "source": [
    "avg_cards_per_game_df = df.sort_values(by='avg_cards_per_game', ascending=False)\n",
    "avg_cards_per_game_df"
   ],
   "metadata": {
    "colab": {
     "base_uri": "https://localhost:8080/",
     "height": 652
    },
    "id": "41f2f599087f9229",
    "outputId": "30d08731-9ce9-4152-e4d8-4bec0c6ba1b1",
    "ExecuteTime": {
     "start_time": "2023-10-26T09:07:00.614404400Z"
    }
   },
   "id": "41f2f599087f9229"
  },
  {
   "cell_type": "markdown",
   "source": [
    "## 4.4 Print out the top 5 players.\n",
    "This is now very easy to do. We will not use .head() this time though."
   ],
   "metadata": {
    "collapsed": false,
    "id": "6b9f8e542c0add68"
   },
   "id": "6b9f8e542c0add68"
  },
  {
   "cell_type": "code",
   "execution_count": null,
   "outputs": [],
   "source": [
    "avg_cards_per_game_df[:5]"
   ],
   "metadata": {
    "colab": {
     "base_uri": "https://localhost:8080/",
     "height": 359
    },
    "id": "8877e73c054434ff",
    "outputId": "8b36e4f0-8501-4a86-de38-55216bd90be4",
    "ExecuteTime": {
     "start_time": "2023-10-26T09:07:00.615399900Z"
    }
   },
   "id": "8877e73c054434ff"
  },
  {
   "cell_type": "markdown",
   "source": [
    "# 5. Average number of cards per country\n",
    "Do the same as in 4. but this time for each country. This means we need to group the countries!"
   ],
   "metadata": {
    "collapsed": false,
    "id": "a8737c82fd4ed8d6"
   },
   "id": "a8737c82fd4ed8d6"
  },
  {
   "cell_type": "markdown",
   "source": [
    "## 5.1 Group the data by country.\n",
    "This is our first step. It will be annoying to calculate the average for each country otherwise."
   ],
   "metadata": {
    "collapsed": false,
    "id": "e9bd2a02ae8c81c4"
   },
   "id": "e9bd2a02ae8c81c4"
  },
  {
   "cell_type": "code",
   "execution_count": null,
   "outputs": [],
   "source": [
    "grouped_by_country = df.groupby('leagueCountry')\n",
    "grouped_by_country"
   ],
   "metadata": {
    "id": "26eb64f82d50940f",
    "ExecuteTime": {
     "start_time": "2023-10-26T09:07:00.617404400Z"
    }
   },
   "id": "26eb64f82d50940f"
  },
  {
   "cell_type": "markdown",
   "source": [
    "We can also use this to check what countries we have."
   ],
   "metadata": {
    "collapsed": false,
    "id": "7b38b5cc528c6a1e"
   },
   "id": "7b38b5cc528c6a1e"
  },
  {
   "cell_type": "code",
   "execution_count": null,
   "outputs": [],
   "source": [
    "grouped_by_country.groups.keys()"
   ],
   "metadata": {
    "colab": {
     "base_uri": "https://localhost:8080/"
    },
    "id": "50695420dc27fb1c",
    "outputId": "960aed26-ae91-4b2f-df94-31d77b5c3ba9",
    "ExecuteTime": {
     "start_time": "2023-10-26T09:07:00.618401700Z"
    }
   },
   "id": "50695420dc27fb1c"
  },
  {
   "cell_type": "markdown",
   "source": [
    "## 5.2 Calculate the average number of cards per game for each country."
   ],
   "metadata": {
    "collapsed": false,
    "id": "b3f64f4f5c713070"
   },
   "id": "b3f64f4f5c713070"
  },
  {
   "cell_type": "code",
   "execution_count": null,
   "outputs": [],
   "source": [
    "df.iloc[:10, 3:10:2]"
   ],
   "metadata": {
    "collapsed": false,
    "ExecuteTime": {
     "start_time": "2023-10-26T09:07:00.620404400Z"
    }
   },
   "id": "22da243f701434a"
  },
  {
   "cell_type": "code",
   "execution_count": null,
   "outputs": [],
   "source": [
    "(grouped_by_country['yellowCards'].sum() + grouped_by_country['redCards'].sum()) / grouped_by_country['games'].sum()"
   ],
   "metadata": {
    "colab": {
     "base_uri": "https://localhost:8080/"
    },
    "id": "adf1a95830a48407",
    "outputId": "20159b9d-0055-464c-905a-756ba2955371",
    "ExecuteTime": {
     "start_time": "2023-10-26T09:07:00.621399800Z"
    }
   },
   "id": "adf1a95830a48407"
  },
  {
   "cell_type": "markdown",
   "source": [
    "# 6. Correlation\n",
    "Let's calculate some correlations."
   ],
   "metadata": {
    "collapsed": false,
    "id": "12d2310730496b4a"
   },
   "id": "12d2310730496b4a"
  },
  {
   "cell_type": "code",
   "execution_count": null,
   "outputs": [],
   "source": [
    "numeric_columns = df.select_dtypes(include=[np.number]).columns\n",
    "df[numeric_columns]"
   ],
   "metadata": {
    "collapsed": false,
    "ExecuteTime": {
     "start_time": "2023-10-26T09:07:00.622402300Z"
    }
   },
   "id": "eddfc770ea360674"
  },
  {
   "cell_type": "code",
   "execution_count": null,
   "outputs": [],
   "source": [
    "df[numeric_columns].corr()"
   ],
   "metadata": {
    "colab": {
     "base_uri": "https://localhost:8080/",
     "height": 696
    },
    "id": "17bad01f3a302a8d",
    "outputId": "7af83592-4748-43f3-c5c1-e75abf70ec7f",
    "ExecuteTime": {
     "start_time": "2023-10-26T09:07:00.624402300Z"
    }
   },
   "id": "17bad01f3a302a8d"
  },
  {
   "cell_type": "markdown",
   "source": [
    "## 6.1 Highest correlations per variable\n",
    "For each of the variables, let's find the variable that has the highest correlation with it."
   ],
   "metadata": {
    "collapsed": false,
    "id": "b507a794fe2cba2d"
   },
   "id": "b507a794fe2cba2d"
  },
  {
   "cell_type": "code",
   "execution_count": null,
   "outputs": [],
   "source": [
    "# df[[\"height\", \"weight\", \"ties\", ...]]\n",
    "\n",
    "numeric_columns = df.select_dtypes(include=[np.number]).columns\n",
    "corrs = df[numeric_columns].corr()\n",
    "corrs"
   ],
   "metadata": {
    "collapsed": false,
    "ExecuteTime": {
     "start_time": "2023-10-26T09:07:00.626425800Z"
    }
   },
   "id": "96b12b0dc4bb574d"
  },
  {
   "cell_type": "code",
   "execution_count": null,
   "outputs": [],
   "source": [
    "corrs = df[numeric_columns].corr()\n",
    "for column in numeric_columns:\n",
    "    high_corrs = corrs[column].sort_values(ascending=False)[1:1+3]\n",
    "    for index, corr in high_corrs.items():\n",
    "        print(column, index, corr)"
   ],
   "metadata": {
    "colab": {
     "base_uri": "https://localhost:8080/"
    },
    "id": "d2c197fc1751a078",
    "outputId": "7c1ca445-1ae0-4019-e3f1-dbaa4c537431",
    "ExecuteTime": {
     "start_time": "2023-10-26T09:07:00.627401900Z"
    }
   },
   "id": "d2c197fc1751a078"
  },
  {
   "cell_type": "code",
   "execution_count": null,
   "outputs": [],
   "source": [
    "c = df[numeric_columns].corr().replace(1.0, np.nan)\n",
    "cdf = pd.DataFrame(\n",
    "    {\n",
    "        \"other\": c.idxmax(),\n",
    "        \"correlation\": c.max()\n",
    "    }\n",
    ")\n",
    "cdf.sort_values(\"correlation\", ascending=False)"
   ],
   "metadata": {
    "collapsed": false,
    "ExecuteTime": {
     "start_time": "2023-10-26T09:07:00.629400200Z"
    }
   },
   "id": "46c6510224fd8aab"
  },
  {
   "cell_type": "code",
   "execution_count": null,
   "outputs": [],
   "source": [
    "c.nlargest(5, numeric_columns)"
   ],
   "metadata": {
    "collapsed": false,
    "ExecuteTime": {
     "start_time": "2023-10-26T09:07:00.630399900Z"
    }
   },
   "id": "df730b821b84e787"
  },
  {
   "cell_type": "code",
   "execution_count": null,
   "outputs": [],
   "source": [
    "c.max()"
   ],
   "metadata": {
    "collapsed": false,
    "ExecuteTime": {
     "start_time": "2023-10-26T09:07:00.632405600Z"
    }
   },
   "id": "66c55d734e7015e"
  },
  {
   "cell_type": "code",
   "execution_count": null,
   "outputs": [],
   "source": [
    "c.idxmax()"
   ],
   "metadata": {
    "collapsed": false,
    "ExecuteTime": {
     "start_time": "2023-10-26T09:07:00.633403800Z"
    }
   },
   "id": "1d1ff9d471783393"
  },
  {
   "cell_type": "code",
   "execution_count": null,
   "outputs": [],
   "source": [
    "corrs[\"yellowReds\"]"
   ],
   "metadata": {
    "collapsed": false,
    "ExecuteTime": {
     "start_time": "2023-10-26T09:07:00.634403500Z"
    }
   },
   "id": "d033123345995410"
  },
  {
   "cell_type": "markdown",
   "source": [
    "## 6.2 Interesting correlations\n",
    "Pick out some correlations and explain why you think they are interesting and what might be the cause of them."
   ],
   "metadata": {
    "collapsed": false,
    "id": "8341df1f35791b0d"
   },
   "id": "8341df1f35791b0d"
  },
  {
   "cell_type": "markdown",
   "source": [
    "- height weight 0.7914972050607055: This is not surprising. Taller people tend to be heavier.\n",
    "- height redCards 0.007067698331657767: This is slightly surprising. Taller people might more easily unintentionally foul smaller players, so it seems like they would get more cards. The correlation is positive but not very strong.\n",
    "\n",
    "All of these make sense, but may look confusing at first:\n",
    "- games victories 0.8558576680313157\n",
    "- games defeats 0.7812185900320455\n",
    "- games ties 0.7607619655309061\n",
    "A player who plays more games will have more victories, defeats and ties than players who do not play more games."
   ],
   "metadata": {
    "collapsed": false,
    "id": "c938ff7a11def702"
   },
   "id": "c938ff7a11def702"
  },
  {
   "cell_type": "markdown",
   "source": [
    "# 7. Simple Analysis\n",
    "Let's do a simple analysis of skin color and the average number of cards. For this we are going to use a boxplot."
   ],
   "metadata": {
    "collapsed": false,
    "id": "7bbf7d735f7e3eac"
   },
   "id": "7bbf7d735f7e3eac"
  },
  {
   "cell_type": "markdown",
   "source": [
    "First we prepare the data."
   ],
   "metadata": {
    "collapsed": false,
    "id": "71a8cdb6bcf60d48"
   },
   "id": "71a8cdb6bcf60d48"
  },
  {
   "cell_type": "code",
   "execution_count": null,
   "outputs": [],
   "source": [
    "boxplot_values = df[['avg_cards_per_game', 'rater1', 'rater2']].copy()\n",
    "boxplot_values"
   ],
   "metadata": {
    "colab": {
     "base_uri": "https://localhost:8080/",
     "height": 423
    },
    "id": "2c9077069117aeab",
    "outputId": "c4415c25-9bf9-4824-a505-d3a142cdd0db",
    "ExecuteTime": {
     "start_time": "2023-10-26T09:07:00.635403500Z"
    }
   },
   "id": "2c9077069117aeab"
  },
  {
   "cell_type": "markdown",
   "source": [
    "Then we calculate the average skin color."
   ],
   "metadata": {
    "collapsed": false,
    "id": "94bb52342bb2cb9c"
   },
   "id": "94bb52342bb2cb9c"
  },
  {
   "cell_type": "code",
   "execution_count": null,
   "outputs": [],
   "source": [
    "boxplot_values['avg_skin_color'] = (boxplot_values['rater1'] + boxplot_values['rater2']) / 2\n",
    "boxplot_values"
   ],
   "metadata": {
    "colab": {
     "base_uri": "https://localhost:8080/",
     "height": 423
    },
    "id": "a0e5d0d6ce1afebf",
    "outputId": "244d8ba4-bb2e-4073-c79f-079957ab13b3",
    "ExecuteTime": {
     "start_time": "2023-10-26T09:07:00.636402500Z"
    }
   },
   "id": "a0e5d0d6ce1afebf"
  },
  {
   "cell_type": "markdown",
   "source": [
    "Finally, we can plot the boxplot."
   ],
   "metadata": {
    "collapsed": false,
    "id": "f1b433d86b73d400"
   },
   "id": "f1b433d86b73d400"
  },
  {
   "cell_type": "code",
   "execution_count": null,
   "outputs": [],
   "source": [
    "import matplotlib.pyplot as plt\n",
    "\n",
    "grouped = boxplot_values.groupby('avg_skin_color')['avg_cards_per_game']\n",
    "\n",
    "labels = sorted(boxplot_values['avg_skin_color'].unique())\n",
    "\n",
    "data_for_boxplot = [grouped.get_group(label).values for label in labels]\n",
    "\n",
    "plt.figure(figsize=(10, 6))\n",
    "plt.boxplot(data_for_boxplot, labels=labels, notch=True)\n",
    "plt.title('Boxplot of avg_cards_per_game grouped by avg_skin_color')\n",
    "plt.xlabel('Average Skin Color')\n",
    "plt.ylabel('Average Cards Per Game')\n",
    "plt.show()"
   ],
   "metadata": {
    "colab": {
     "base_uri": "https://localhost:8080/",
     "height": 564
    },
    "id": "ccb2bec0e8b721bf",
    "outputId": "9ee830d3-077c-47b1-a4a6-ae540daeb298",
    "ExecuteTime": {
     "start_time": "2023-10-26T09:07:00.637400200Z"
    }
   },
   "id": "ccb2bec0e8b721bf"
  },
  {
   "cell_type": "code",
   "execution_count": null,
   "outputs": [],
   "source": [
    "grouped = boxplot_values.groupby('avg_skin_color')['avg_cards_per_game']\n",
    "grouped"
   ],
   "metadata": {
    "id": "15c1ed8e7957f7c2",
    "ExecuteTime": {
     "start_time": "2023-10-26T09:07:00.638402400Z"
    }
   },
   "id": "15c1ed8e7957f7c2"
  },
  {
   "cell_type": "code",
   "execution_count": null,
   "outputs": [],
   "source": [],
   "metadata": {
    "collapsed": false,
    "ExecuteTime": {
     "start_time": "2023-10-26T09:07:00.639402500Z"
    }
   },
   "id": "90538d06ea21472"
  }
 ],
 "metadata": {
  "kernelspec": {
   "display_name": "Python 3",
   "language": "python",
   "name": "python3"
  },
  "language_info": {
   "codemirror_mode": {
    "name": "ipython",
    "version": 2
   },
   "file_extension": ".py",
   "mimetype": "text/x-python",
   "name": "python",
   "nbconvert_exporter": "python",
   "pygments_lexer": "ipython2",
   "version": "2.7.6"
  },
  "colab": {
   "provenance": []
  }
 },
 "nbformat": 4,
 "nbformat_minor": 5
}
