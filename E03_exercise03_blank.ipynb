{
  "cells": [
    {
      "cell_type": "code",
      "execution_count": null,
      "id": "initial_id",
      "metadata": {
        "collapsed": true,
        "id": "initial_id"
      },
      "outputs": [],
      "source": [
        "import pandas as pd\n",
        "import matplotlib.pyplot as plt"
      ]
    },
    {
      "cell_type": "markdown",
      "source": [
        "[`pandas` Cheat Sheet](https://pandas.pydata.org/Pandas_Cheat_Sheet.pdf)"
      ],
      "metadata": {
        "collapsed": false,
        "id": "dea9712c782bc7bf"
      },
      "id": "dea9712c782bc7bf"
    },
    {
      "cell_type": "markdown",
      "source": [
        "# Loading the data"
      ],
      "metadata": {
        "collapsed": false,
        "id": "10a6c00f800cbd46"
      },
      "id": "10a6c00f800cbd46"
    },
    {
      "cell_type": "code",
      "execution_count": null,
      "outputs": [],
      "source": [
        "df = pd.read_csv('https://drive.switch.ch/index.php/s/UEpTFv2Bfa5C1dd/download')\n",
        "df.head()"
      ],
      "metadata": {
        "id": "dbbb55920a066c05"
      },
      "id": "dbbb55920a066c05"
    },
    {
      "cell_type": "markdown",
      "source": [
        "We repeat our simple data cleaning here, by getting rid of all `NaN` values."
      ],
      "metadata": {
        "collapsed": false,
        "id": "942744c46eafe2b7"
      },
      "id": "942744c46eafe2b7"
    },
    {
      "cell_type": "code",
      "execution_count": null,
      "outputs": [],
      "source": [
        "df = df.dropna()"
      ],
      "metadata": {
        "id": "7d1d63bf868c148c"
      },
      "id": "7d1d63bf868c148c"
    },
    {
      "cell_type": "markdown",
      "source": [
        "# Task 0 - Repeat\n",
        "\n",
        "Calculate the average number of yellow and red cards per game for each country.\n",
        "\n",
        "*Hint*: If you don't remember how to start, check the **Group Data** section in the cheat sheet."
      ],
      "metadata": {
        "id": "p8EAexFHjMkK"
      },
      "id": "p8EAexFHjMkK"
    },
    {
      "cell_type": "code",
      "source": [],
      "metadata": {
        "id": "A38fE5mYjPNC"
      },
      "id": "A38fE5mYjPNC",
      "execution_count": null,
      "outputs": []
    },
    {
      "cell_type": "markdown",
      "source": [
        "# Task 1.1 - Scatter Plot\n",
        "Create a Scatter Plot of player weight vs. height.\n",
        "\n",
        "*Hint*: Check the [`pandas` cheat sheet](https://pandas.pydata.org/Pandas_Cheat_Sheet.pdf) for plotting with `pandas`.\n",
        "\n",
        "Based on the plot alone, do you think there is a correlation between the two? How can you tell from the plot?\n",
        "\n",
        "**Bonus**: Do the same with `matplotlib`. You can find the cheat sheet for it [here](https://matplotlib.org/cheatsheets/_images/cheatsheets-1.png)."
      ],
      "metadata": {
        "collapsed": false,
        "id": "cb77b637dd5b7712"
      },
      "id": "cb77b637dd5b7712"
    },
    {
      "cell_type": "code",
      "execution_count": null,
      "outputs": [],
      "source": [],
      "metadata": {
        "id": "d40c602cef4e9c34"
      },
      "id": "d40c602cef4e9c34"
    },
    {
      "cell_type": "markdown",
      "source": [
        "# Task 1.2 - Data Manipulation\n",
        "Create a new column, called Name Length, that contains the length of the player's name.\n",
        "\n",
        "*Hint*: Split this into two steps:\n",
        "* creating a new column (check the `pandas` cheat sheet or last week's notebook if you don't remember how to do this)\n",
        "* calculating the length of the player's name **for each row**\n",
        "    \n",
        "*Hint2*: If you have trouble with calculating the length of the player's name, have a look at the *Summarize Data* section in the cheat sheet."
      ],
      "metadata": {
        "collapsed": false,
        "id": "be48d5ea5072e06f"
      },
      "id": "be48d5ea5072e06f"
    },
    {
      "cell_type": "code",
      "execution_count": null,
      "outputs": [],
      "source": [],
      "metadata": {
        "id": "5aaa939ead0835c5"
      },
      "id": "5aaa939ead0835c5"
    },
    {
      "cell_type": "markdown",
      "source": [
        "# Task 1.3 - Scatter Plot\n",
        "Create a Scatter Plot of player weight vs. name length. Do you see a correlation between the two? Why or why not? What makes this plot different from the one of weight vs height?\n",
        "\n",
        "*Hint*: You can do this exactly the same way as you did in Task 1.1. Solve that task first and then this one is essentially free."
      ],
      "metadata": {
        "collapsed": false,
        "id": "43c756d70b8c0e5a"
      },
      "id": "43c756d70b8c0e5a"
    },
    {
      "cell_type": "code",
      "execution_count": null,
      "outputs": [],
      "source": [],
      "metadata": {
        "id": "54f963142e106a8f"
      },
      "id": "54f963142e106a8f"
    },
    {
      "cell_type": "markdown",
      "source": [
        "# Task 1.4 - Linear Regression\n",
        "Create a linear regression model that predicts the player's height based on the player's weight. What is the height of a player that weighs 80kg? What is the height of a player that weighs 100kg?\n",
        "\n",
        "*Hint 1*: For the linear regression, use [`scikit-learn` and its `LinearRegression` model](https://scikit-learn.org/stable/modules/generated/sklearn.linear_model.LinearRegression.html).\n",
        "\n",
        "*Hint 2*: You have to reshape your data. You can do this with the `numpy.reshape` function. Have a look at the [`reshape` function](https://numpy.org/doc/stable/reference/generated/numpy.reshape.html) for how to continue from there.\n",
        "\n",
        "The task of linear regression is to find the solution to the mapping:\n",
        "\n",
        "$ f(X) = AX + b $\n",
        "\n",
        "* `X` is the training data: usually a matrix with the features as columns and the rows the examples\n",
        "* `A` is the linear mapping matrix (also called the _coefficient_)\n",
        "* `b` is the offset (also called _intercept_)\n",
        "* `f` is the function to map the training data to the target `y`\n",
        "\n",
        "\n",
        "Note, that `X` is a matrix, however, the `weight` is a column vector, so you have to reshape it to a matrix.\n",
        "\n",
        "Try using it first without reshaping and understand the occuring error message."
      ],
      "metadata": {
        "collapsed": false,
        "id": "f869cbfa382acba6"
      },
      "id": "f869cbfa382acba6"
    },
    {
      "cell_type": "code",
      "source": [
        "from sklearn.linear_model import LinearRegression\n",
        "\n",
        "X = ...\n",
        "y = ...\n",
        "\n",
        "model = LinearRegression()\n",
        "model.fit(X, y)"
      ],
      "metadata": {
        "id": "0PeBHiZi8ZRM"
      },
      "id": "0PeBHiZi8ZRM",
      "execution_count": null,
      "outputs": []
    },
    {
      "cell_type": "code",
      "execution_count": null,
      "outputs": [],
      "source": [
        "model.predict(...)"
      ],
      "metadata": {
        "id": "2b1d5317d499fea8"
      },
      "id": "2b1d5317d499fea8"
    },
    {
      "cell_type": "markdown",
      "source": [
        "# Task 1.5 - Scatter Plot with Regression Line\n",
        "Create a Scatter Plot of player weight vs. height. Draw the regression line into the scatter plot.\n",
        "\n",
        "*Hint*: You can use `plt.plot` to draw the regression line. Have a look at the [documentation](https://matplotlib.org/stable/api/_as_gen/matplotlib.pyplot.plot.html) for how to use it. If you didn't do the bonus part of Task 1.1, you can have a look at the [`matplotlib cheat sheet`](https://matplotlib.org/cheatsheets/_images/cheatsheets-1.png).\n",
        "\n",
        "*Hint2*: You can easily find the x-axis values. How can you get the y-axis values for the regression line? You already did this in a previous task!"
      ],
      "metadata": {
        "collapsed": false,
        "id": "a795d5f70494fc1a"
      },
      "id": "a795d5f70494fc1a"
    },
    {
      "cell_type": "code",
      "execution_count": null,
      "outputs": [],
      "source": [],
      "metadata": {
        "id": "121c85f8494d666e"
      },
      "id": "121c85f8494d666e"
    },
    {
      "cell_type": "markdown",
      "source": [
        "**Bonus**: Repeat this for height vs. name length."
      ],
      "metadata": {
        "collapsed": false,
        "id": "e4afd2900cb34eda"
      },
      "id": "e4afd2900cb34eda"
    },
    {
      "cell_type": "code",
      "execution_count": null,
      "outputs": [],
      "source": [],
      "metadata": {
        "id": "e2d68b96f087a811"
      },
      "id": "e2d68b96f087a811"
    },
    {
      "cell_type": "markdown",
      "source": [
        "# Task 2 - SQLAlchemy\n",
        "We will be using [`sqlalchemy`](https://www.sqlalchemy.org/) here. First we store the data from the DataFrame in a sqlite3 database.\n",
        "\n",
        "You can find an `sqlalchemy` cheat sheet [here](https://www.pythonsheets.com/notes/python-sqlalchemy.html)."
      ],
      "metadata": {
        "collapsed": false,
        "id": "a24866f06dcda4d8"
      },
      "id": "a24866f06dcda4d8"
    },
    {
      "cell_type": "code",
      "execution_count": null,
      "outputs": [],
      "source": [
        "import sqlite3\n",
        "conn = sqlite3.connect('crowdstorming.db')\n",
        "try:\n",
        "    df.to_sql('crowdstorming', conn)\n",
        "except ValueError:\n",
        "    pass\n",
        "\n",
        "from sqlalchemy import create_engine, MetaData\n",
        "\n",
        "engine = create_engine('sqlite:///crowdstorming.db')\n",
        "metadata = MetaData()\n",
        "metadata.reflect(engine)\n",
        "\n",
        "table_names = metadata.tables.keys()\n",
        "print(table_names)"
      ],
      "metadata": {
        "id": "15dc50c912a9f272"
      },
      "id": "15dc50c912a9f272"
    },
    {
      "cell_type": "markdown",
      "source": [
        "# Task 2.1 - SQL Query with SQLAlchemy\n",
        "Write a query that returns the player's weight, height, and position using SQLAlchemy.\n",
        "\n",
        "*Hint*: Check the cheat sheet for how to make queries."
      ],
      "metadata": {
        "collapsed": false,
        "id": "536b1531f93177d5"
      },
      "id": "536b1531f93177d5"
    },
    {
      "cell_type": "code",
      "execution_count": null,
      "outputs": [],
      "source": [
        "from sqlalchemy.orm import sessionmaker\n",
        "\n",
        "# Get the table object\n",
        "crowdstorming_table = metadata.tables['crowdstorming']\n",
        "\n",
        "# Create a session\n",
        "Session = sessionmaker(bind=engine)\n",
        "session = Session()"
      ],
      "metadata": {
        "id": "317ce2a6df002c9c"
      },
      "id": "317ce2a6df002c9c"
    },
    {
      "cell_type": "markdown",
      "source": [
        "# Task 3.1 - Loading additional data\n",
        "\n",
        "To enrich our data we will collect information about the countries. For this we will use an API.\n",
        "\n",
        "- Make a GET request to https://restcountries.com/v3.1/all. You can use the [`requests` library](https://requests.readthedocs.io/en/latest/user/quickstart/) for this.\n",
        "- Create a DataFrame called `countries_df` from the response\n",
        "- Alternative: Load the data from the file `countries.json`\n",
        "- You may need either [`pd.DataFrame.from_records`](https://pandas.pydata.org/docs/reference/api/pandas.DataFrame.from_records.html), [`pd.read_json`](https://pandas.pydata.org/docs/reference/api/pandas.read_json.html)."
      ],
      "metadata": {
        "collapsed": false,
        "id": "1b8e4dc72b2d87fd"
      },
      "id": "1b8e4dc72b2d87fd"
    },
    {
      "cell_type": "code",
      "execution_count": null,
      "outputs": [],
      "source": [],
      "metadata": {
        "id": "a22713f2fbe469ae"
      },
      "id": "a22713f2fbe469ae"
    },
    {
      "cell_type": "markdown",
      "source": [
        "# Task 3.2 - Data Cleaning\n",
        "The 'name' column contains dictionaries. This makes it annoying for us to work with.\n",
        "Simplify the column by replacing all entries in it with the value in 'common' in that dictionary.\n",
        "\n",
        "*Hint*: You did something very similar in Task 1.2!"
      ],
      "metadata": {
        "collapsed": false,
        "id": "98436a242a605b35"
      },
      "id": "98436a242a605b35"
    },
    {
      "cell_type": "code",
      "execution_count": null,
      "outputs": [],
      "source": [],
      "metadata": {
        "id": "1737ad741b166d41"
      },
      "id": "1737ad741b166d41"
    },
    {
      "cell_type": "markdown",
      "source": [
        "# Task 3.3 - Joining DataFrames\n",
        "\n",
        "Combine the two DataFrames on the `leagueCountry` column. You can use [`pd.merge`](https://pandas.pydata.org/docs/reference/api/pandas.DataFrame.merge.html) for this.\n",
        "For the DataFrame with the countries, you only need the `name` and `fifa` columns."
      ],
      "metadata": {
        "collapsed": false,
        "id": "fb334d67fa261d16"
      },
      "id": "fb334d67fa261d16"
    },
    {
      "cell_type": "code",
      "execution_count": null,
      "outputs": [],
      "source": [],
      "metadata": {
        "id": "b99f5a714ed81b19"
      },
      "id": "b99f5a714ed81b19"
    },
    {
      "cell_type": "markdown",
      "source": [
        "# Task 4 - Joining with SQL\n",
        "\n",
        "First we save the data from the DataFrame in the database."
      ],
      "metadata": {
        "collapsed": false,
        "id": "1ff87928f649205e"
      },
      "id": "1ff87928f649205e"
    },
    {
      "cell_type": "code",
      "execution_count": null,
      "outputs": [],
      "source": [
        "try:\n",
        "    countries_df[['name', 'fifa', 'unMember']].to_sql('countries', conn)\n",
        "except ValueError:\n",
        "    pass"
      ],
      "metadata": {
        "id": "f551d805b57e390c"
      },
      "id": "f551d805b57e390c"
    },
    {
      "cell_type": "code",
      "execution_count": null,
      "outputs": [],
      "source": [
        "metadata = MetaData()\n",
        "metadata.reflect(engine)\n",
        "countries_table = metadata.tables['countries']\n",
        "crowdstorming_table = metadata.tables['crowdstorming']"
      ],
      "metadata": {
        "id": "5c41ae674951c9d0"
      },
      "id": "5c41ae674951c9d0"
    },
    {
      "cell_type": "markdown",
      "source": [
        "# Task 4.1 - Joining crowdstorming data and country data with SQL\n",
        "\n",
        "Select all columns from the `crowdstorming` table, and only the `fifa` column from the `countries` table.\n",
        "Then join the two tables on the `leagueCountry` column of the `crowdstorming` table and the `name` column of the `countries` table.\n"
      ],
      "metadata": {
        "collapsed": false,
        "id": "4aea15d466f30cae"
      },
      "id": "4aea15d466f30cae"
    },
    {
      "cell_type": "code",
      "execution_count": null,
      "outputs": [],
      "source": [],
      "metadata": {
        "id": "1bea08eb40ad1f66"
      },
      "id": "1bea08eb40ad1f66"
    },
    {
      "cell_type": "markdown",
      "source": [
        "# Task 5 - Calculating the mean\n",
        "\n",
        "Calculate the mean height and weight of each player in the database, using SQLAlchemy.\n",
        "\n",
        "*Hint*: You can use `func.avg` from `sqlalchemy` for this."
      ],
      "metadata": {
        "collapsed": false,
        "id": "427ba4b227ce9b22"
      },
      "id": "427ba4b227ce9b22"
    },
    {
      "cell_type": "code",
      "execution_count": null,
      "outputs": [],
      "source": [],
      "metadata": {
        "id": "8306a1efd6b6c6b"
      },
      "id": "8306a1efd6b6c6b"
    },
    {
      "cell_type": "markdown",
      "source": [
        "Now repeat this, but on the DataFrame. Are the results the same?"
      ],
      "metadata": {
        "collapsed": false,
        "id": "9c42f1fe6fc96d3"
      },
      "id": "9c42f1fe6fc96d3"
    },
    {
      "cell_type": "code",
      "execution_count": null,
      "outputs": [],
      "source": [],
      "metadata": {
        "id": "9b9ecdbc542e28c9"
      },
      "id": "9b9ecdbc542e28c9"
    },
    {
      "cell_type": "markdown",
      "source": [
        "# Task 6 - Calculating the mean per position\n",
        "\n",
        "Calculate the mean height and weight of each player per position in the database, using SQLAlchemy.\n",
        "\n",
        "*Hint*: You can use [`.group_by`](https://docs.sqlalchemy.org/en/20/core/selectable.html#sqlalchemy.sql.expression.Select.group_by) from `sqlalchemy` for this."
      ],
      "metadata": {
        "collapsed": false,
        "id": "5a4f21e7e48891b0"
      },
      "id": "5a4f21e7e48891b0"
    },
    {
      "cell_type": "code",
      "execution_count": null,
      "outputs": [],
      "source": [],
      "metadata": {
        "id": "35682540198afa5"
      },
      "id": "35682540198afa5"
    },
    {
      "cell_type": "markdown",
      "source": [
        "Now do the same with the DataFrame. Are the results the same?"
      ],
      "metadata": {
        "collapsed": false,
        "id": "9c54f74004c7856f"
      },
      "id": "9c54f74004c7856f"
    },
    {
      "cell_type": "code",
      "execution_count": null,
      "outputs": [],
      "source": [],
      "metadata": {
        "id": "f8b395d6293724da"
      },
      "id": "f8b395d6293724da"
    },
    {
      "cell_type": "markdown",
      "source": [
        "# Task 7 - Calculating the mean per position and league\n",
        "Calculate the mean height and weight of each player per position and per league in the database, using SQLAlchemy."
      ],
      "metadata": {
        "collapsed": false,
        "id": "74d3e689694b648d"
      },
      "id": "74d3e689694b648d"
    },
    {
      "cell_type": "code",
      "execution_count": null,
      "outputs": [],
      "source": [],
      "metadata": {
        "id": "588018ce9fe4b9d4"
      },
      "id": "588018ce9fe4b9d4"
    },
    {
      "cell_type": "markdown",
      "source": [
        "Now do the same with the DataFrame. Are the results the same?"
      ],
      "metadata": {
        "collapsed": false,
        "id": "8dd3c29772417b"
      },
      "id": "8dd3c29772417b"
    },
    {
      "cell_type": "code",
      "execution_count": null,
      "outputs": [],
      "source": [],
      "metadata": {
        "id": "814b65225a31da37"
      },
      "id": "814b65225a31da37"
    }
  ],
  "metadata": {
    "kernelspec": {
      "display_name": "Python 3",
      "language": "python",
      "name": "python3"
    },
    "language_info": {
      "codemirror_mode": {
        "name": "ipython",
        "version": 2
      },
      "file_extension": ".py",
      "mimetype": "text/x-python",
      "name": "python",
      "nbconvert_exporter": "python",
      "pygments_lexer": "ipython2",
      "version": "2.7.6"
    },
    "colab": {
      "provenance": []
    }
  },
  "nbformat": 4,
  "nbformat_minor": 5
}