{
 "cells": [
  {
   "cell_type": "code",
   "execution_count": null,
   "id": "initial_id",
   "metadata": {
    "collapsed": true,
    "id": "initial_id"
   },
   "outputs": [],
   "source": [
    "import numpy as np\n",
    "import pandas as pd\n",
    "import matplotlib.pyplot as plt\n",
    "import seaborn as sns"
   ]
  },
  {
   "cell_type": "code",
   "execution_count": null,
   "outputs": [],
   "source": [
    "df = pd.read_csv('https://drive.switch.ch/index.php/s/UEpTFv2Bfa5C1dd/download')\n",
    "df.head()"
   ],
   "metadata": {
    "id": "2d5dca3f42ab4cd4",
    "outputId": "38f2a24e-7cdc-4fd3-df8c-91f4dd8557ec",
    "colab": {
     "base_uri": "https://localhost:8080/",
     "height": 342
    }
   },
   "id": "2d5dca3f42ab4cd4"
  },
  {
   "cell_type": "code",
   "execution_count": null,
   "outputs": [],
   "source": [
    "df = df.dropna()\n",
    "df"
   ],
   "metadata": {
    "collapsed": false
   },
   "id": "123a88509b5a01b6"
  },
  {
   "cell_type": "markdown",
   "source": [
    "# Task 6 - Bayes' Theorem\n",
    "\n",
    "Remember Bayes' Theorem from the lecture (Theorem 32):\n",
    "\n",
    "$P(B|A_1, \\dots , A_k) = \\frac{P(B) * P(A_1, \\dots , A_k|B)}{P(A_1, \\dots , A_k)}$\n",
    "\n",
    "$P(B)$ is called **posterior probability**.\n",
    "$P(A_1, \\dots , A_k|B)$ is called **likelihood**."
   ],
   "metadata": {
    "collapsed": false,
    "id": "b1dd3c5cd7b83132"
   },
   "id": "b1dd3c5cd7b83132"
  },
  {
   "cell_type": "markdown",
   "source": [
    "Assume there is a test for a disease that is 99% accurate. That means that the probability of a false positive is 1% and the probability of a false negative is 1%. The probability of having the disease is 0.1%.\n",
    "\n",
    "\n",
    "**What is the probability you have the disease if you tested positive?**"
   ],
   "metadata": {
    "collapsed": false,
    "id": "ac00310f7fef3828"
   },
   "id": "ac00310f7fef3828"
  },
  {
   "cell_type": "markdown",
   "source": [],
   "metadata": {
    "collapsed": false,
    "id": "183d490fcff73b6c"
   },
   "id": "183d490fcff73b6c"
  },
  {
   "cell_type": "code",
   "execution_count": null,
   "outputs": [],
   "source": [
    "# simulation of this problem\n",
    "NUM_PEOPLE = 1_000_000\n",
    "\n",
    "# generate people, where 0.1% have the disease\n",
    "# bonus: what happens if 1% have the disease? 10%?\n",
    "disease_prob = 0.001\n",
    "people = np.random.choice([0, 1], size=NUM_PEOPLE, p=[1 - disease_prob, disease_prob])\n",
    "\n",
    "def test_person(person):\n",
    "    if person == 1:\n",
    "        # If the person has the disease, 99% chance of a positive test result\n",
    "        return np.random.choice([0, 1], p=[0.01, 0.99])\n",
    "    else:\n",
    "        # If the person does not have the disease, 1% chance of a positive test result\n",
    "        return np.random.choice([0, 1], p=[0.99, 0.01])\n",
    "\n",
    "# apply the test function to all people\n",
    "results = []\n",
    "for p in people:\n",
    "    result = test_person(p)\n",
    "    results.append(result)\n",
    "\n",
    "people_w_positive_test = [(result, person) for result, person in zip(results, people) if result == 1]\n",
    "\n",
    "# calculate how many people have a positive test result AND are sick\n",
    "people_w_positive_and_sick = [(result, person) for result, person in people_w_positive_test if person == 1]\n",
    "\n",
    "# calculate the probability\n",
    "prob_being_sick_given_positive = len(people_w_positive_and_sick) / len(people_w_positive_test)\n",
    "prob_being_sick_given_positive"
   ],
   "metadata": {
    "id": "1306941b27e4a229",
    "outputId": "19257485-e607-42f1-bd8b-df429dd7042f",
    "colab": {
     "base_uri": "https://localhost:8080/"
    }
   },
   "id": "1306941b27e4a229"
  },
  {
   "cell_type": "markdown",
   "source": [
    "# Task 8 - Marginal distribution of player heights\n",
    "Plot the marginal distribution of player heights.\n",
    "\n",
    "*Hint*: You can use the seaborn function [`sns.histplot`](https://seaborn.pydata.org/generated/seaborn.histplot.html) to plot a histogram.\n"
   ],
   "metadata": {
    "collapsed": false
   },
   "id": "c5ecc86d43b377a7"
  },
  {
   "cell_type": "code",
   "execution_count": null,
   "outputs": [],
   "source": [],
   "metadata": {
    "collapsed": false
   },
   "id": "578557902722ac59"
  },
  {
   "cell_type": "markdown",
   "source": [
    "# Task 9 - Joint Distribution of player heights and weights\n",
    "Plot the joint distribution of player heights and weights.\n",
    "\n",
    "*Hint*: You can use the seaborn function [`sns.jointplot`](https://seaborn.pydata.org/generated/seaborn.jointplot.html) to plot a joint distribution."
   ],
   "metadata": {
    "collapsed": false
   },
   "id": "1f1345bf25535699"
  },
  {
   "cell_type": "code",
   "execution_count": null,
   "outputs": [],
   "source": [],
   "metadata": {
    "collapsed": false
   },
   "id": "64f053046483c5a0"
  },
  {
   "cell_type": "markdown",
   "source": [
    "# 1. Average cards per game\n",
    "Calculate the average number of yellow and red cards per game for each player. Then print out the 5 players with the highest average number of cards per game."
   ],
   "metadata": {
    "collapsed": false
   },
   "id": "ea6f8efb80e9ca3e"
  },
  {
   "cell_type": "code",
   "execution_count": null,
   "outputs": [],
   "source": [],
   "metadata": {
    "collapsed": false
   },
   "id": "b7e733e7584db01f"
  },
  {
   "cell_type": "markdown",
   "source": [
    "# 2. Average cards per game per country\n",
    "Calculate the average number of yellow and red cards per game for each country."
   ],
   "metadata": {
    "collapsed": false
   },
   "id": "10493178469347ab"
  },
  {
   "cell_type": "code",
   "execution_count": null,
   "outputs": [],
   "source": [],
   "metadata": {
    "collapsed": false
   },
   "id": "f6ad3376164e1239"
  },
  {
   "cell_type": "markdown",
   "source": [
    "# 3. Correlations\n",
    "For all numeric columns, find the highest correlation with another column that is not itself."
   ],
   "metadata": {
    "collapsed": false
   },
   "id": "96cfaa7fb2ace581"
  },
  {
   "cell_type": "code",
   "execution_count": null,
   "outputs": [],
   "source": [],
   "metadata": {
    "collapsed": false
   },
   "id": "ce66fd59856ee3a5"
  },
  {
   "cell_type": "markdown",
   "source": [
    "# 4. Scatter Plot\n",
    "Make a scatter plot of weight vs. height.\n",
    "\n",
    "Then use PCA to reduce the dimensionality of the player data to 2, and create another scatter plot."
   ],
   "metadata": {
    "collapsed": false
   },
   "id": "9e66699a684405e3"
  },
  {
   "cell_type": "code",
   "execution_count": null,
   "outputs": [],
   "source": [],
   "metadata": {
    "collapsed": false
   },
   "id": "63a6782d7af28d5f"
  },
  {
   "cell_type": "code",
   "execution_count": null,
   "outputs": [],
   "source": [],
   "metadata": {
    "collapsed": false
   },
   "id": "526e3eb922ec74b8"
  },
  {
   "cell_type": "code",
   "execution_count": null,
   "outputs": [],
   "source": [],
   "metadata": {
    "collapsed": false
   },
   "id": "7e6e7a759187af4b"
  },
  {
   "cell_type": "markdown",
   "source": [
    "# 5. Joins\n",
    "\n",
    "Load the `countries` API data, then join it with the player data on the `leagueCountry` column. What is the `fifa` code for each player?"
   ],
   "metadata": {
    "collapsed": false
   },
   "id": "b7b325dbe5d7493a"
  },
  {
   "cell_type": "code",
   "execution_count": null,
   "outputs": [],
   "source": [
    "countries_df = pd.read_json(\n",
    "    \"https://drive.switch.ch/index.php/s/x0zUM0seQqigcU1/download\"\n",
    ")\n",
    "countries_df[\"name\"] = countries_df[\"name\"].apply(lambda x: x[\"common\"])\n",
    "countries_df.head()"
   ],
   "metadata": {
    "collapsed": false
   },
   "id": "5d1e648cd1d49945"
  },
  {
   "cell_type": "markdown",
   "source": [
    "Combine the two DataFrames on the `leagueCountry` column."
   ],
   "metadata": {
    "collapsed": false
   },
   "id": "b44ba24dd546416e"
  },
  {
   "cell_type": "code",
   "execution_count": null,
   "outputs": [],
   "source": [],
   "metadata": {
    "collapsed": false
   },
   "id": "c2a288224e79f509"
  },
  {
   "cell_type": "markdown",
   "source": [
    "# 6. Forward and Backward Selection\n",
    "\n",
    "Train a Naive Bayes classifier on our dataset.\n",
    "\n",
    "*Hint*: Refer to the scikit-learn [documentation](https://scikit-learn.org/stable/modules/naive_bayes.html)"
   ],
   "metadata": {
    "collapsed": false
   },
   "id": "5ced80fe2b0f7a52"
  },
  {
   "cell_type": "code",
   "execution_count": null,
   "outputs": [],
   "source": [],
   "metadata": {
    "collapsed": false
   },
   "id": "f2a8b39287afc8bc"
  },
  {
   "cell_type": "markdown",
   "source": [
    "Now repeat this, but use forward selection to select 5 features.\n",
    "\n",
    "*Hint*: You can use [`SequentialFeatureSelector`](https://scikit-learn.org/stable/modules/generated/sklearn.feature_selection.SequentialFeatureSelector.html)."
   ],
   "metadata": {
    "collapsed": false
   },
   "id": "7dc1b9f39987c7f9"
  },
  {
   "cell_type": "code",
   "execution_count": null,
   "outputs": [],
   "source": [],
   "metadata": {
    "collapsed": false
   },
   "id": "2c8d31d8204fdcf7"
  }
 ],
 "metadata": {
  "kernelspec": {
   "display_name": "Python 3",
   "language": "python",
   "name": "python3"
  },
  "language_info": {
   "codemirror_mode": {
    "name": "ipython",
    "version": 2
   },
   "file_extension": ".py",
   "mimetype": "text/x-python",
   "name": "python",
   "nbconvert_exporter": "python",
   "pygments_lexer": "ipython2",
   "version": "2.7.6"
  },
  "colab": {
   "provenance": []
  }
 },
 "nbformat": 4,
 "nbformat_minor": 5
}
