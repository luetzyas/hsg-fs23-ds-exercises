{
  "cells": [
    {
      "cell_type": "code",
      "execution_count": null,
      "id": "initial_id",
      "metadata": {
        "collapsed": true,
        "id": "initial_id"
      },
      "outputs": [],
      "source": [
        "import pandas as pd\n",
        "import sqlite3\n",
        "\n",
        "import requests  # used later to download additional data\n",
        "\n",
        "# for the progress bar\n",
        "from tqdm.auto import tqdm\n",
        "from pathlib import Path\n",
        "\n",
        "# to measure runtime\n",
        "from time import perf_counter"
      ]
    },
    {
      "cell_type": "markdown",
      "source": [
        "- [`pandas` Cheat Sheet](https://pandas.pydata.org/Pandas_Cheat_Sheet.pdf)\n",
        "- [`matplotlib` Cheat Sheet](https://matplotlib.org/cheatsheets/_images/cheatsheets-1.png)\n",
        "- [SQL Cheat Sheet](https://www.sqltutorial.org/sql-cheat-sheet/)"
      ],
      "metadata": {
        "collapsed": false,
        "id": "dea9712c782bc7bf"
      },
      "id": "dea9712c782bc7bf"
    },
    {
      "cell_type": "markdown",
      "source": [
        "# Loading the data"
      ],
      "metadata": {
        "collapsed": false,
        "id": "10a6c00f800cbd46"
      },
      "id": "10a6c00f800cbd46"
    },
    {
      "cell_type": "code",
      "execution_count": null,
      "outputs": [],
      "source": [
        "df = pd.read_csv('https://drive.switch.ch/index.php/s/UEpTFv2Bfa5C1dd/download')\n",
        "df.head()"
      ],
      "metadata": {
        "id": "dbbb55920a066c05"
      },
      "id": "dbbb55920a066c05"
    },
    {
      "cell_type": "markdown",
      "source": [
        "We repeat our simple data cleaning here, by getting rid of all `NaN` values."
      ],
      "metadata": {
        "collapsed": false,
        "id": "942744c46eafe2b7"
      },
      "id": "942744c46eafe2b7"
    },
    {
      "cell_type": "code",
      "execution_count": null,
      "outputs": [],
      "source": [
        "df = df.dropna()"
      ],
      "metadata": {
        "id": "7d1d63bf868c148c"
      },
      "id": "7d1d63bf868c148c"
    },
    {
      "cell_type": "markdown",
      "source": [
        "We will be using [`sqlalchemy`](https://www.sqlalchemy.org/) here. First we store the data from the DataFrame in a sqlite3 database.\n",
        "\n",
        "You can find an `sqlalchemy` cheat sheet [here](https://www.pythonsheets.com/notes/python-sqlalchemy.html)."
      ],
      "metadata": {
        "collapsed": false,
        "id": "8a56051d600a540f"
      },
      "id": "8a56051d600a540f"
    },
    {
      "cell_type": "code",
      "execution_count": null,
      "outputs": [],
      "source": [
        "with sqlite3.connect(\"crowdstorming.db\") as c:\n",
        "    df.to_sql(\"crowdstorming\", c, if_exists=\"replace\")\n",
        "\n",
        "from sqlalchemy import create_engine, MetaData\n",
        "\n",
        "engine = create_engine(\"sqlite:///crowdstorming.db\")\n",
        "metadata = MetaData()\n",
        "metadata.reflect(engine)\n",
        "\n",
        "table_names = metadata.tables.keys()\n",
        "print(table_names)"
      ],
      "metadata": {
        "id": "86cb80ef22323e0"
      },
      "id": "86cb80ef22323e0"
    },
    {
      "cell_type": "markdown",
      "source": [
        "# Task 3.1 - Loading additional data\n",
        "\n",
        "To enrich our data we will collect information about the countries. For this we will use an API.\n",
        "\n",
        "- Make a GET request to https://restcountries.com/v3.1/all. You can use the [`requests` library](https://requests.readthedocs.io/en/latest/user/quickstart/) for this.\n",
        "- Create a DataFrame called `countries_df` from the response\n",
        "- Alternative: Load the data from the file `countries.json` (in case the API dies)\n",
        "- You may need either [`pd.DataFrame.from_records`](https://pandas.pydata.org/docs/reference/api/pandas.DataFrame.from_records.html), [`pd.read_json`](https://pandas.pydata.org/docs/reference/api/pandas.read_json.html)."
      ],
      "metadata": {
        "collapsed": false,
        "id": "1b8e4dc72b2d87fd"
      },
      "id": "1b8e4dc72b2d87fd"
    },
    {
      "cell_type": "code",
      "execution_count": null,
      "outputs": [],
      "source": [],
      "metadata": {
        "id": "d76b4c4f954425f4"
      },
      "id": "d76b4c4f954425f4"
    },
    {
      "cell_type": "markdown",
      "source": [
        "# Task 3.2 - Data Cleaning\n",
        "The `name` column contains dictionaries. This makes it annoying for us to work with.\n",
        "Simplify the column by replacing all entries in it with the value in `common` in that dictionary.\n",
        "\n",
        "*Hint*: You did something very similar in Task 1.2 last week!"
      ],
      "metadata": {
        "collapsed": false,
        "id": "98436a242a605b35"
      },
      "id": "98436a242a605b35"
    },
    {
      "cell_type": "code",
      "execution_count": null,
      "outputs": [],
      "source": [
        "# you can use this as an alternative to task 3.1. if you are completely stuck with 3.1 or the API dies you can use this\n",
        "countries_df = pd.read_json(\n",
        "    \"https://drive.switch.ch/index.php/s/x0zUM0seQqigcU1/download\"\n",
        ")"
      ],
      "metadata": {
        "id": "1737ad741b166d41"
      },
      "id": "1737ad741b166d41"
    },
    {
      "cell_type": "markdown",
      "source": [
        "# Task 3.3 - Joining DataFrames\n",
        "\n",
        "Combine the two DataFrames on the `leagueCountry` column. You can use [`pd.merge`](https://pandas.pydata.org/docs/reference/api/pandas.DataFrame.merge.html) for this.\n",
        "For the DataFrame with the countries, you only need the `name` and `fifa` columns."
      ],
      "metadata": {
        "collapsed": false,
        "id": "fb334d67fa261d16"
      },
      "id": "fb334d67fa261d16"
    },
    {
      "cell_type": "code",
      "execution_count": null,
      "outputs": [],
      "source": [],
      "metadata": {
        "id": "b99f5a714ed81b19"
      },
      "id": "b99f5a714ed81b19"
    },
    {
      "cell_type": "markdown",
      "source": [
        "Here is how we can do it with SQLAlchemy.\n",
        "First we save the data from the DataFrame in the database."
      ],
      "metadata": {
        "collapsed": false,
        "id": "5c6223f2dba524e1"
      },
      "id": "5c6223f2dba524e1"
    },
    {
      "cell_type": "code",
      "execution_count": null,
      "outputs": [],
      "source": [
        "from sqlalchemy.orm import sessionmaker\n",
        "\n",
        "with sqlite3.connect(\"./crowdstorming.db\") as c:\n",
        "    countries_df[[\"name\", \"fifa\", \"unMember\"]].to_sql(\n",
        "        \"countries\", c, if_exists=\"replace\"\n",
        "    )\n",
        "\n",
        "metadata = MetaData()\n",
        "metadata.reflect(engine)\n",
        "countries_table = metadata.tables[\"countries\"]\n",
        "crowdstorming_table = metadata.tables[\"crowdstorming\"]\n",
        "Session = sessionmaker(bind=engine)\n",
        "session = Session()\n",
        "results = session.query(countries_table).all()\n",
        "print(results[:5])"
      ],
      "metadata": {
        "id": "3c27e680ca717e8e"
      },
      "id": "3c27e680ca717e8e"
    },
    {
      "cell_type": "markdown",
      "source": [
        "Then we do the join, but with SQLAlchemy."
      ],
      "metadata": {
        "collapsed": false,
        "id": "1252f3e6b6b4f960"
      },
      "id": "1252f3e6b6b4f960"
    },
    {
      "cell_type": "code",
      "execution_count": null,
      "outputs": [],
      "source": [
        "results = (\n",
        "    session.query(crowdstorming_table.c, countries_table.c.fifa)\n",
        "    .join(\n",
        "        countries_table, crowdstorming_table.c.leagueCountry == countries_table.c.name\n",
        "    )\n",
        "    .all()\n",
        ")\n",
        "len(results)"
      ],
      "metadata": {
        "id": "c6cd0e5dd4705db3"
      },
      "id": "c6cd0e5dd4705db3"
    },
    {
      "cell_type": "markdown",
      "source": [
        "# Task 4 - Joining crowdstorming data and country data with SQL\n",
        "\n",
        "Select all columns from the `crowdstorming` table, and `fifa` and `name` columns from the `countries` table.\n",
        "Then join the two tables on the `leagueCountry` column of the `crowdstorming` table and the `name` column of the `countries` table.\n",
        "\n",
        "What JOIN do you need to replicate the results of task 3.3?\n",
        "\n",
        "First we save the data from the DataFrame in the database."
      ],
      "metadata": {
        "collapsed": false,
        "id": "1ff87928f649205e"
      },
      "id": "1ff87928f649205e"
    },
    {
      "cell_type": "code",
      "execution_count": null,
      "outputs": [],
      "source": [
        "with sqlite3.connect(\"./crowdstorming.db\") as c:\n",
        "    countries_df[[\"name\", \"fifa\", \"unMember\"]].to_sql(\n",
        "        \"countries\", c, if_exists=\"replace\"\n",
        "    )"
      ],
      "metadata": {
        "id": "f551d805b57e390c"
      },
      "id": "f551d805b57e390c"
    },
    {
      "cell_type": "markdown",
      "source": [
        "\n",
        "Then we can do the query.\n"
      ],
      "metadata": {
        "collapsed": false,
        "id": "4aea15d466f30cae"
      },
      "id": "4aea15d466f30cae"
    },
    {
      "cell_type": "code",
      "execution_count": null,
      "outputs": [],
      "source": [
        "# you need to write the query to make it work\n",
        "with sqlite3.connect(\"./crowdstorming.db\") as c:\n",
        "    result = pd.read_sql(\n",
        "        \"\"\"\n",
        "        SELECT *\n",
        "        FROM crowdstorming\n",
        "        \"\"\",\n",
        "        c\n",
        "    )\n",
        "result"
      ],
      "metadata": {
        "id": "1bea08eb40ad1f66"
      },
      "id": "1bea08eb40ad1f66"
    },
    {
      "cell_type": "markdown",
      "source": [
        "And here is how we can do the same with SQLAlchemy."
      ],
      "metadata": {
        "collapsed": false,
        "id": "269b8a099aedfb57"
      },
      "id": "269b8a099aedfb57"
    },
    {
      "cell_type": "code",
      "execution_count": null,
      "outputs": [],
      "source": [
        "results = (\n",
        "    session\n",
        "    .query(\n",
        "        crowdstorming_table.c,\n",
        "        countries_table.c.name,\n",
        "        countries_table.c.fifa,\n",
        "    )\n",
        "    .join(\n",
        "        countries_table,\n",
        "        crowdstorming_table.c.leagueCountry == countries_table.c.name,\n",
        "        isouter=True\n",
        "    )\n",
        "    .all()\n",
        ")\n",
        "print(results[0])"
      ],
      "metadata": {
        "id": "8903eef9314dfc66"
      },
      "id": "8903eef9314dfc66"
    },
    {
      "cell_type": "markdown",
      "source": [
        "# Task 5 - Calculating the mean\n",
        "\n",
        "Calculate the mean height and weight of each player in the database.\n",
        "\n",
        "*Hint*: Check the SQL Aggregate Functions sections in the sidebar in the [cheat sheet](https://www.sqltutorial.org/sql-cheat-sheet/)."
      ],
      "metadata": {
        "collapsed": false,
        "id": "427ba4b227ce9b22"
      },
      "id": "427ba4b227ce9b22"
    },
    {
      "cell_type": "code",
      "source": [
        "with sqlite3.connect(\"./crowdstorming.db\") as c:\n",
        "    result = pd.read_sql(\n",
        "        \"\"\"\n",
        "        SELECT *\n",
        "        FROM crowdstorming\n",
        "        \"\"\",\n",
        "        c\n",
        "    )\n",
        "result"
      ],
      "metadata": {
        "id": "uoMGcfPuk1pB"
      },
      "id": "uoMGcfPuk1pB",
      "execution_count": null,
      "outputs": []
    },
    {
      "cell_type": "markdown",
      "source": [
        "Now repeat this, but on the DataFrame. Are the results the same?"
      ],
      "metadata": {
        "collapsed": false,
        "id": "9c42f1fe6fc96d3"
      },
      "id": "9c42f1fe6fc96d3"
    },
    {
      "cell_type": "code",
      "execution_count": null,
      "outputs": [],
      "source": [],
      "metadata": {
        "id": "9b9ecdbc542e28c9"
      },
      "id": "9b9ecdbc542e28c9"
    },
    {
      "cell_type": "markdown",
      "source": [
        "And the solution with SQLAlchemy:"
      ],
      "metadata": {
        "collapsed": false,
        "id": "63daecd56d311f39"
      },
      "id": "63daecd56d311f39"
    },
    {
      "cell_type": "code",
      "execution_count": null,
      "outputs": [],
      "source": [
        "from sqlalchemy import func\n",
        "# calculate the mean height and weight in the database\n",
        "results = session.query(\n",
        "    func.avg(crowdstorming_table.c.height),\n",
        "    func.avg(crowdstorming_table.c.weight)\n",
        ").all()\n",
        "\n",
        "print(results)"
      ],
      "metadata": {
        "id": "2429c5a8b6a2867"
      },
      "id": "2429c5a8b6a2867"
    },
    {
      "cell_type": "markdown",
      "source": [
        "# Task 6 - Calculating the mean per position\n",
        "\n",
        "Calculate the mean height and weight of each player per position in the database.\n",
        "\n",
        "*Hint*: Remember how to do this in pandas. Then check the [cheat sheet](https://www.sqltutorial.org/sql-cheat-sheet/) if there is something similar in SQL."
      ],
      "metadata": {
        "collapsed": false,
        "id": "5a4f21e7e48891b0"
      },
      "id": "5a4f21e7e48891b0"
    },
    {
      "cell_type": "code",
      "execution_count": null,
      "outputs": [],
      "source": [
        "with sqlite3.connect(\"./crowdstorming.db\") as c:\n",
        "    result = pd.read_sql(\n",
        "        \"\"\"\n",
        "        SELECT *\n",
        "        FROM crowdstorming\n",
        "        \"\"\",\n",
        "        c\n",
        "    )\n",
        "result"
      ],
      "metadata": {
        "id": "35682540198afa5"
      },
      "id": "35682540198afa5"
    },
    {
      "cell_type": "markdown",
      "source": [
        "Now do the same with the DataFrame. Are the results the same?"
      ],
      "metadata": {
        "collapsed": false,
        "id": "9c54f74004c7856f"
      },
      "id": "9c54f74004c7856f"
    },
    {
      "cell_type": "code",
      "execution_count": null,
      "outputs": [],
      "source": [],
      "metadata": {
        "id": "f8b395d6293724da"
      },
      "id": "f8b395d6293724da"
    },
    {
      "cell_type": "markdown",
      "source": [
        "And the solution with SQLAlchemy:"
      ],
      "metadata": {
        "collapsed": false,
        "id": "b945afc0a1e22046"
      },
      "id": "b945afc0a1e22046"
    },
    {
      "cell_type": "code",
      "execution_count": null,
      "outputs": [],
      "source": [
        "# calculate mean height and weight PER POSITION in the database\n",
        "results = (\n",
        "    session.query(\n",
        "        crowdstorming_table.c.position,\n",
        "        func.avg(crowdstorming_table.c.height),\n",
        "        func.avg(crowdstorming_table.c.weight)\n",
        "    )\n",
        "    .group_by(crowdstorming_table.c.position)\n",
        "    .all()\n",
        ")\n",
        "results"
      ],
      "metadata": {
        "id": "67bfb06e42d7910e"
      },
      "id": "67bfb06e42d7910e"
    },
    {
      "cell_type": "markdown",
      "source": [
        "# Task 7 - Calculating the mean per position and league\n",
        "Calculate the mean height and weight of each player per position and per league in the database.\n",
        "\n",
        "*Hint*: This is almost identical to task 6. Try to not overcomplicate things: What would be the most intuitive way to extend the solution of task 6 to two conditions? (Task 6: 'per position', here: 'per position **and per league**'.)"
      ],
      "metadata": {
        "collapsed": false,
        "id": "74d3e689694b648d"
      },
      "id": "74d3e689694b648d"
    },
    {
      "cell_type": "code",
      "execution_count": null,
      "outputs": [],
      "source": [
        "with sqlite3.connect(\"./crowdstorming.db\") as c:\n",
        "    results = pd.read_sql(\n",
        "        \"\"\"\n",
        "        SELECT *\n",
        "        FROM crowdstorming\n",
        "        \"\"\",\n",
        "        c)\n",
        "results = results.set_index(['position', 'leagueCountry'])\n",
        "results"
      ],
      "metadata": {
        "id": "588018ce9fe4b9d4"
      },
      "id": "588018ce9fe4b9d4"
    },
    {
      "cell_type": "markdown",
      "source": [
        "Now do the same with the DataFrame. Are the results the same?"
      ],
      "metadata": {
        "collapsed": false,
        "id": "8dd3c29772417b"
      },
      "id": "8dd3c29772417b"
    },
    {
      "cell_type": "code",
      "execution_count": null,
      "outputs": [],
      "source": [],
      "metadata": {
        "id": "814b65225a31da37"
      },
      "id": "814b65225a31da37"
    },
    {
      "cell_type": "markdown",
      "source": [
        "And the solution with SQLAlchemy:"
      ],
      "metadata": {
        "collapsed": false,
        "id": "d8c4087b2259d252"
      },
      "id": "d8c4087b2259d252"
    },
    {
      "cell_type": "code",
      "execution_count": null,
      "outputs": [],
      "source": [
        "# calculate mean height and weight PER POSITION and PER LEAGUE in the database\n",
        "results = (\n",
        "    session\n",
        "    .query(\n",
        "        crowdstorming_table.c.position,\n",
        "        crowdstorming_table.c.leagueCountry,\n",
        "        func.avg(crowdstorming_table.c.height),\n",
        "        func.avg(crowdstorming_table.c.weight)\n",
        "    )\n",
        "    .group_by(crowdstorming_table.c.position, crowdstorming_table.c.leagueCountry)\n",
        "    .all()\n",
        ")\n",
        "results"
      ],
      "metadata": {
        "id": "554c6d8bf65d4c51"
      },
      "id": "554c6d8bf65d4c51"
    },
    {
      "cell_type": "markdown",
      "source": [
        "# Task 8.1  - People with unusual names\n",
        "Select all people, whose first name starts with an X, from `people_database.db`.\n",
        "\n",
        "*Hint*: If you can't figure out how to do this, check [here](https://www.w3schools.com/sql/sql_like.asp)."
      ],
      "metadata": {
        "collapsed": false,
        "id": "15b3ed32a66f0942"
      },
      "id": "15b3ed32a66f0942"
    },
    {
      "cell_type": "code",
      "source": [
        "people_db_file = Path(\"people_database.db\")\n",
        "if people_db_file.exists() and people_db_file.stat().st_size == 691134464:\n",
        "    print(\"File already downloaded.\")\n",
        "else:\n",
        "    print(\"Will download database\")\n",
        "    with requests.get(\"https://drive.switch.ch/index.php/s/OIsWhbxdTY6h5n7/download\", stream=True) as response:\n",
        "        response.raise_for_status()\n",
        "        with people_db_file.open('wb') as fo:\n",
        "            for chunk in tqdm(response.iter_content(chunk_size=8192), desc=\"Chunks written\"):\n",
        "                fo.write(chunk)"
      ],
      "metadata": {
        "id": "qbeHuxDdFSJF"
      },
      "id": "qbeHuxDdFSJF",
      "execution_count": null,
      "outputs": []
    },
    {
      "cell_type": "code",
      "execution_count": null,
      "outputs": [],
      "source": [
        "start = perf_counter()\n",
        "\n",
        "with sqlite3.connect(people_db_file) as c:\n",
        "    results = pd.read_sql(\n",
        "        \"\"\"\n",
        "        SELECT *\n",
        "        FROM people\n",
        "        \"\"\",\n",
        "        c,\n",
        "    )\n",
        "end = perf_counter()\n",
        "print(f\"Duration: {end - start:.3f}s\")\n",
        "results"
      ],
      "metadata": {
        "id": "b24cb3a9a00cc2af"
      },
      "id": "b24cb3a9a00cc2af"
    },
    {
      "cell_type": "markdown",
      "source": [
        "Repeat this, but load the data into a DataFrame first, and time both loading it into a DataFrame, and the actual querying."
      ],
      "metadata": {
        "collapsed": false,
        "id": "c6edd98543616556"
      },
      "id": "c6edd98543616556"
    },
    {
      "cell_type": "code",
      "execution_count": null,
      "outputs": [],
      "source": [
        "# alternative: load into dataframe, do it there\n",
        "start = perf_counter()\n",
        "\n",
        "with sqlite3.connect(people_db_file) as c:\n",
        "    people_df = pd.read_sql(\n",
        "        \"\"\"\n",
        "        SELECT * FROM people\n",
        "        \"\"\",\n",
        "        c,\n",
        "    )\n",
        "end = perf_counter()\n",
        "print(f\"Loading duration: {end - start:.3f}s\")\n",
        "\n",
        "\n",
        "start = perf_counter()\n",
        "\n",
        "# ADD HERE:\n",
        "result =\n",
        "\n",
        "end = perf_counter()\n",
        "print(f\"Just the query: {end - start:.3f}s\")\n",
        "result"
      ],
      "metadata": {
        "id": "6a6817c28d4655c"
      },
      "id": "6a6817c28d4655c"
    },
    {
      "cell_type": "markdown",
      "source": [
        "# Task 8.2 - Joining with football players\n",
        "Select all people from `people_database.db`, who share a name with a player from the `crowdstorming` table, as well as the position of that player. Include the `fifa` column from the `countries` table as well for those players, who have a match in that table.\n",
        "\n",
        "*Hint*: You can use the `||` operator to concatenate strings in SQL.\n",
        "*Hint2*: You can use the `DISTINCT` keyword to get rid of duplicates.\n",
        "*Hint3*: You can have multiple JOINs per query.\n",
        "*Hint4*: If you can't solve it in pure SQL, break it down into multiple smaller problems. For example, first get all the names of the players, then join that with the people table."
      ],
      "metadata": {
        "collapsed": false,
        "id": "9f62c0b4ad97bc75"
      },
      "id": "9f62c0b4ad97bc75"
    },
    {
      "cell_type": "code",
      "execution_count": null,
      "outputs": [],
      "source": [
        "with sqlite3.connect(people_db_file) as c:\n",
        "    c.execute(\"ATTACH DATABASE './crowdstorming.db' AS crowd\")\n",
        "    results = pd.read_sql(\n",
        "        \"\"\"\n",
        "\n",
        "        \"\"\",\n",
        "        c,\n",
        "    )\n",
        "\n",
        "results"
      ],
      "metadata": {
        "id": "6449edeb67fd1119"
      },
      "id": "6449edeb67fd1119"
    },
    {
      "cell_type": "code",
      "execution_count": null,
      "outputs": [],
      "source": [],
      "metadata": {
        "id": "33895fdccca9c036"
      },
      "id": "33895fdccca9c036"
    }
  ],
  "metadata": {
    "kernelspec": {
      "display_name": "Python 3",
      "language": "python",
      "name": "python3"
    },
    "language_info": {
      "codemirror_mode": {
        "name": "ipython",
        "version": 2
      },
      "file_extension": ".py",
      "mimetype": "text/x-python",
      "name": "python",
      "nbconvert_exporter": "python",
      "pygments_lexer": "ipython2",
      "version": "2.7.6"
    },
    "colab": {
      "provenance": []
    }
  },
  "nbformat": 4,
  "nbformat_minor": 5
}