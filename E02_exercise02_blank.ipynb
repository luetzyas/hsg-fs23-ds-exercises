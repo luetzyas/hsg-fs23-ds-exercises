{
  "cells": [
    {
      "cell_type": "code",
      "execution_count": 3,
      "id": "initial_id",
      "metadata": {
        "collapsed": true,
        "id": "initial_id"
      },
      "outputs": [],
      "source": [
        "import pandas as pd\n",
        "import numpy as np"
      ]
    },
    {
      "cell_type": "markdown",
      "id": "97SY-UyqkuV8",
      "metadata": {
        "id": "97SY-UyqkuV8"
      },
      "source": [
        "#0. `pandas` and preliminary knowledge\n",
        "\n",
        "In this exercise we will be using the [`pandas`](https://pandas.pydata.org/docs/) library.\n",
        "\n",
        "You can use a [cheat sheet of the basic functions](https://pandas.pydata.org/Pandas_Cheat_Sheet.pdf) if you are not familiar with `pandas`.\n",
        "\n",
        "`pandas` is a popular data manipulation library for Python. It provides data structures like Series and DataFrame alongside the essential functionality required for cleaning, aggregating, transforming, visualizing, and more tasks on data. `pandas` is built on top of the [`numpy`](https://numpy.org/) library, offering a higher-level, more intuitive interface for data analysis and manipulation. It's especially suitable for working with structured data, including datasets from Excel or CSV files, SQL tables, and more. With `pandas`, users can perform tasks like handling missing data, merging and joining datasets, filtering and reshaping data, and many other complex data operations. The extensive functionality of `pandas` makes it an essential tool for data scientists, analysts, and researchers working in Python.\n"
      ]
    },
    {
      "cell_type": "markdown",
      "id": "10a6c00f800cbd46",
      "metadata": {
        "collapsed": false,
        "id": "10a6c00f800cbd46"
      },
      "source": [
        "# 1. Load the data\n",
        "Find a way to load the data into a pandas dataframe. You can find the data here: https://osf.io/fv8c3.\n",
        "\n",
        "You need to find a way to load this data. There is a function in `pandas` that can help you. If you can't find it on your own or you feel unsure, you can click [here](https://pandas.pydata.org/docs/reference/api/pandas.read_csv.html) to find the correct function you can use."
      ]
    },
    {
      "cell_type": "code",
      "execution_count": 15,
      "id": "dbbb55920a066c05",
      "metadata": {
        "id": "dbbb55920a066c05"
      },
      "outputs": [
        {
          "data": {
            "text/html": [
              "<div>\n",
              "<style scoped>\n",
              "    .dataframe tbody tr th:only-of-type {\n",
              "        vertical-align: middle;\n",
              "    }\n",
              "\n",
              "    .dataframe tbody tr th {\n",
              "        vertical-align: top;\n",
              "    }\n",
              "\n",
              "    .dataframe thead th {\n",
              "        text-align: right;\n",
              "    }\n",
              "</style>\n",
              "<table border=\"1\" class=\"dataframe\">\n",
              "  <thead>\n",
              "    <tr style=\"text-align: right;\">\n",
              "      <th></th>\n",
              "      <th>playerShort</th>\n",
              "      <th>player</th>\n",
              "      <th>club</th>\n",
              "      <th>leagueCountry</th>\n",
              "      <th>birthday</th>\n",
              "      <th>height</th>\n",
              "      <th>weight</th>\n",
              "      <th>position</th>\n",
              "      <th>games</th>\n",
              "      <th>victories</th>\n",
              "      <th>...</th>\n",
              "      <th>rater2</th>\n",
              "      <th>refNum</th>\n",
              "      <th>refCountry</th>\n",
              "      <th>Alpha_3</th>\n",
              "      <th>meanIAT</th>\n",
              "      <th>nIAT</th>\n",
              "      <th>seIAT</th>\n",
              "      <th>meanExp</th>\n",
              "      <th>nExp</th>\n",
              "      <th>seExp</th>\n",
              "    </tr>\n",
              "  </thead>\n",
              "  <tbody>\n",
              "    <tr>\n",
              "      <th>0</th>\n",
              "      <td>lucas-wilchez</td>\n",
              "      <td>Lucas Wilchez</td>\n",
              "      <td>Real Zaragoza</td>\n",
              "      <td>Spain</td>\n",
              "      <td>31.08.1983</td>\n",
              "      <td>177.0</td>\n",
              "      <td>72.0</td>\n",
              "      <td>Attacking Midfielder</td>\n",
              "      <td>1</td>\n",
              "      <td>0</td>\n",
              "      <td>...</td>\n",
              "      <td>0.50</td>\n",
              "      <td>1</td>\n",
              "      <td>1</td>\n",
              "      <td>GRC</td>\n",
              "      <td>0.326391</td>\n",
              "      <td>712.0</td>\n",
              "      <td>0.000564</td>\n",
              "      <td>0.396000</td>\n",
              "      <td>750.0</td>\n",
              "      <td>0.002696</td>\n",
              "    </tr>\n",
              "    <tr>\n",
              "      <th>1</th>\n",
              "      <td>john-utaka</td>\n",
              "      <td>John Utaka</td>\n",
              "      <td>Montpellier HSC</td>\n",
              "      <td>France</td>\n",
              "      <td>08.01.1982</td>\n",
              "      <td>179.0</td>\n",
              "      <td>82.0</td>\n",
              "      <td>Right Winger</td>\n",
              "      <td>1</td>\n",
              "      <td>0</td>\n",
              "      <td>...</td>\n",
              "      <td>0.75</td>\n",
              "      <td>2</td>\n",
              "      <td>2</td>\n",
              "      <td>ZMB</td>\n",
              "      <td>0.203375</td>\n",
              "      <td>40.0</td>\n",
              "      <td>0.010875</td>\n",
              "      <td>-0.204082</td>\n",
              "      <td>49.0</td>\n",
              "      <td>0.061504</td>\n",
              "    </tr>\n",
              "    <tr>\n",
              "      <th>2</th>\n",
              "      <td>abdon-prats</td>\n",
              "      <td>Abdón Prats</td>\n",
              "      <td>RCD Mallorca</td>\n",
              "      <td>Spain</td>\n",
              "      <td>17.12.1992</td>\n",
              "      <td>181.0</td>\n",
              "      <td>79.0</td>\n",
              "      <td>NaN</td>\n",
              "      <td>1</td>\n",
              "      <td>0</td>\n",
              "      <td>...</td>\n",
              "      <td>NaN</td>\n",
              "      <td>3</td>\n",
              "      <td>3</td>\n",
              "      <td>ESP</td>\n",
              "      <td>0.369894</td>\n",
              "      <td>1785.0</td>\n",
              "      <td>0.000229</td>\n",
              "      <td>0.588297</td>\n",
              "      <td>1897.0</td>\n",
              "      <td>0.001002</td>\n",
              "    </tr>\n",
              "    <tr>\n",
              "      <th>3</th>\n",
              "      <td>pablo-mari</td>\n",
              "      <td>Pablo Marí</td>\n",
              "      <td>RCD Mallorca</td>\n",
              "      <td>Spain</td>\n",
              "      <td>31.08.1993</td>\n",
              "      <td>191.0</td>\n",
              "      <td>87.0</td>\n",
              "      <td>Center Back</td>\n",
              "      <td>1</td>\n",
              "      <td>1</td>\n",
              "      <td>...</td>\n",
              "      <td>NaN</td>\n",
              "      <td>3</td>\n",
              "      <td>3</td>\n",
              "      <td>ESP</td>\n",
              "      <td>0.369894</td>\n",
              "      <td>1785.0</td>\n",
              "      <td>0.000229</td>\n",
              "      <td>0.588297</td>\n",
              "      <td>1897.0</td>\n",
              "      <td>0.001002</td>\n",
              "    </tr>\n",
              "    <tr>\n",
              "      <th>4</th>\n",
              "      <td>ruben-pena</td>\n",
              "      <td>Rubén Peña</td>\n",
              "      <td>Real Valladolid</td>\n",
              "      <td>Spain</td>\n",
              "      <td>18.07.1991</td>\n",
              "      <td>172.0</td>\n",
              "      <td>70.0</td>\n",
              "      <td>Right Midfielder</td>\n",
              "      <td>1</td>\n",
              "      <td>1</td>\n",
              "      <td>...</td>\n",
              "      <td>NaN</td>\n",
              "      <td>3</td>\n",
              "      <td>3</td>\n",
              "      <td>ESP</td>\n",
              "      <td>0.369894</td>\n",
              "      <td>1785.0</td>\n",
              "      <td>0.000229</td>\n",
              "      <td>0.588297</td>\n",
              "      <td>1897.0</td>\n",
              "      <td>0.001002</td>\n",
              "    </tr>\n",
              "  </tbody>\n",
              "</table>\n",
              "<p>5 rows × 28 columns</p>\n",
              "</div>"
            ],
            "text/plain": [
              "     playerShort         player             club leagueCountry    birthday  \\\n",
              "0  lucas-wilchez  Lucas Wilchez    Real Zaragoza         Spain  31.08.1983   \n",
              "1     john-utaka     John Utaka  Montpellier HSC        France  08.01.1982   \n",
              "2    abdon-prats    Abdón Prats     RCD Mallorca         Spain  17.12.1992   \n",
              "3     pablo-mari     Pablo Marí     RCD Mallorca         Spain  31.08.1993   \n",
              "4     ruben-pena     Rubén Peña  Real Valladolid         Spain  18.07.1991   \n",
              "\n",
              "   height  weight              position  games  victories  ...  rater2  \\\n",
              "0   177.0    72.0  Attacking Midfielder      1          0  ...    0.50   \n",
              "1   179.0    82.0          Right Winger      1          0  ...    0.75   \n",
              "2   181.0    79.0                   NaN      1          0  ...     NaN   \n",
              "3   191.0    87.0           Center Back      1          1  ...     NaN   \n",
              "4   172.0    70.0      Right Midfielder      1          1  ...     NaN   \n",
              "\n",
              "   refNum  refCountry  Alpha_3   meanIAT    nIAT     seIAT   meanExp    nExp  \\\n",
              "0       1           1      GRC  0.326391   712.0  0.000564  0.396000   750.0   \n",
              "1       2           2      ZMB  0.203375    40.0  0.010875 -0.204082    49.0   \n",
              "2       3           3      ESP  0.369894  1785.0  0.000229  0.588297  1897.0   \n",
              "3       3           3      ESP  0.369894  1785.0  0.000229  0.588297  1897.0   \n",
              "4       3           3      ESP  0.369894  1785.0  0.000229  0.588297  1897.0   \n",
              "\n",
              "      seExp  \n",
              "0  0.002696  \n",
              "1  0.061504  \n",
              "2  0.001002  \n",
              "3  0.001002  \n",
              "4  0.001002  \n",
              "\n",
              "[5 rows x 28 columns]"
            ]
          },
          "execution_count": 15,
          "metadata": {},
          "output_type": "execute_result"
        }
      ],
      "source": [
        "df = pd.read_csv(\"https://drive.switch.ch/index.php/s/UEpTFv2Bfa5C1dd/download\")\n",
        "df.head()"
      ]
    },
    {
      "cell_type": "markdown",
      "id": "9e4c72db24c6dd9d",
      "metadata": {
        "collapsed": false,
        "id": "9e4c72db24c6dd9d"
      },
      "source": [
        "# 2. Clean the data\n",
        "Here we use a very simple approach to clean the data. We remove all the rows that contain missing values. You can try a more sophisticated approach if you want.\n",
        "\n",
        "\n",
        "In `pandas`, `NaN` (Not a Number) values represent missing or undefined data. `NaN` values can occur when loading datasets, during data manipulation, or when performing calculations. They are often used as a placeholder for missing or unrepresentable data.\n",
        "\n",
        "Handling `NaN` values is essential as they can affect the results of data analysis and machine learning algorithms. Here are a few ways to handle `NaN` values in pandas:\n",
        "- You can use the [`dropna()`](https://pandas.pydata.org/docs/reference/api/pandas.DataFrame.dropna.html) method to remove any rows or columns that contain NaN values from a DataFrame.\n",
        "- You can use the [`fillna()`](https://pandas.pydata.org/docs/reference/api/pandas.DataFrame.fillna.html) method to replace `NaN` values with a specific value or a method (like forward fill or backward fill).\n",
        "\n",
        "For simplicity's sake we want to just remove all rows that have `NaN` values.\n",
        "\n",
        "Look up how we could do backfill and forward fill and what doing that would mean in our case. Can you construct a case (on another dataset, or an imagined dataset) where filling is useful?"
      ]
    },
    {
      "cell_type": "code",
      "execution_count": 17,
      "id": "ZQJ3TRgGsbM4",
      "metadata": {
        "id": "ZQJ3TRgGsbM4"
      },
      "outputs": [
        {
          "data": {
            "text/plain": [
              "115457"
            ]
          },
          "execution_count": 17,
          "metadata": {},
          "output_type": "execute_result"
        }
      ],
      "source": [
        "df = df.dropna()\n",
        "df.shape\n",
        "len(df)"
      ]
    },
    {
      "cell_type": "markdown",
      "id": "hemwS-IOejZJ",
      "metadata": {
        "id": "hemwS-IOejZJ"
      },
      "source": [
        "## A Note about `NaN` and `NaT`\n",
        "\n",
        "Note that `NaN != NaN`!\n",
        "\n",
        "You can find a detailed explanation of why this is the case [here](https://stackoverflow.com/a/1573715/5320601).\n",
        "\n",
        "In short:\n",
        "\n",
        "- `a == b` should hold if `(a - b) == 0`\n",
        "- but then what is `(a - NaN)`?\n",
        "\n",
        "The way to check for `NaN` values is to use [`.isna()`](https://pandas.pydata.org/docs/reference/api/pandas.DataFrame.isna.html).\n",
        "\n",
        "There is also [`NaT`](https://pandas.pydata.org/docs/reference/api/pandas.NaT.html), which is used for missing time values (like a datetime column), and [`NA`](https://pandas.pydata.org/docs/user_guide/missing_data.html#missing-data-na) which is still experimental and whose behaviour could change without warning between versions of `pandas`."
      ]
    },
    {
      "cell_type": "code",
      "execution_count": 5,
      "id": "e7333e2f25a544f0",
      "metadata": {
        "id": "e7333e2f25a544f0"
      },
      "outputs": [
        {
          "data": {
            "text/plain": [
              "False"
            ]
          },
          "execution_count": 5,
          "metadata": {},
          "output_type": "execute_result"
        }
      ],
      "source": [
        "a = np.nan\n",
        "b = np.nan\n",
        "\n",
        "a == b"
      ]
    },
    {
      "cell_type": "markdown",
      "id": "11FSVMcIhT_Y",
      "metadata": {
        "id": "11FSVMcIhT_Y"
      },
      "source": [
        "And important to note, `NaN` is not the same as `None`!"
      ]
    },
    {
      "cell_type": "code",
      "execution_count": 6,
      "id": "LH56hQiIhZ5s",
      "metadata": {
        "id": "LH56hQiIhZ5s"
      },
      "outputs": [
        {
          "name": "stdout",
          "output_type": "stream",
          "text": [
            "NaN and None equality:         False\n",
            "None and None equality:        True\n",
            "NaN and NaN equality:          False\n"
          ]
        }
      ],
      "source": [
        "print(f'{\"NaN and None equality:\":<30} {np.nan == None}')\n",
        "print(f'{\"None and None equality:\":<30} {None == None}')\n",
        "print(f'{\"NaN and NaN equality:\":<30} {np.nan == np.nan}')"
      ]
    },
    {
      "cell_type": "markdown",
      "id": "qr8I6TX-jyaj",
      "metadata": {
        "id": "qr8I6TX-jyaj"
      },
      "source": [
        "Keep in mind that this can behave unexpectedly if you are not aware of it."
      ]
    },
    {
      "cell_type": "markdown",
      "id": "N6Ro_n7Dj4VH",
      "metadata": {
        "id": "N6Ro_n7Dj4VH"
      },
      "source": [
        "Here we create a DataFrame with integers, and add a row with a missing value. For the missing value we use `None`."
      ]
    },
    {
      "cell_type": "code",
      "execution_count": 7,
      "id": "81YD-S67iKOW",
      "metadata": {
        "id": "81YD-S67iKOW"
      },
      "outputs": [
        {
          "data": {
            "text/html": [
              "<div>\n",
              "<style scoped>\n",
              "    .dataframe tbody tr th:only-of-type {\n",
              "        vertical-align: middle;\n",
              "    }\n",
              "\n",
              "    .dataframe tbody tr th {\n",
              "        vertical-align: top;\n",
              "    }\n",
              "\n",
              "    .dataframe thead th {\n",
              "        text-align: right;\n",
              "    }\n",
              "</style>\n",
              "<table border=\"1\" class=\"dataframe\">\n",
              "  <thead>\n",
              "    <tr style=\"text-align: right;\">\n",
              "      <th></th>\n",
              "      <th>a</th>\n",
              "      <th>b</th>\n",
              "      <th>c</th>\n",
              "    </tr>\n",
              "  </thead>\n",
              "  <tbody>\n",
              "    <tr>\n",
              "      <th>0</th>\n",
              "      <td>0</td>\n",
              "      <td>1</td>\n",
              "      <td>2</td>\n",
              "    </tr>\n",
              "    <tr>\n",
              "      <th>1</th>\n",
              "      <td>3</td>\n",
              "      <td>4</td>\n",
              "      <td>5</td>\n",
              "    </tr>\n",
              "  </tbody>\n",
              "</table>\n",
              "</div>"
            ],
            "text/plain": [
              "   a  b  c\n",
              "0  0  1  2\n",
              "1  3  4  5"
            ]
          },
          "execution_count": 7,
          "metadata": {},
          "output_type": "execute_result"
        }
      ],
      "source": [
        "_numbers = pd.DataFrame(\n",
        "    [[0, 1, 2], [3, 4, 5]],\n",
        "    columns=['a', 'b', 'c']\n",
        ")\n",
        "_numbers"
      ]
    },
    {
      "cell_type": "markdown",
      "id": "4aQ9dh74j_6C",
      "metadata": {
        "id": "4aQ9dh74j_6C"
      },
      "source": [
        "We see that this `None` becomes `NaN` in the DataFrame. That is because the dtype of the column is `float64` and `None` is not a number (`NaN`)."
      ]
    },
    {
      "cell_type": "code",
      "execution_count": 8,
      "id": "eKFtucMZiwbL",
      "metadata": {
        "id": "eKFtucMZiwbL"
      },
      "outputs": [
        {
          "data": {
            "text/html": [
              "<div>\n",
              "<style scoped>\n",
              "    .dataframe tbody tr th:only-of-type {\n",
              "        vertical-align: middle;\n",
              "    }\n",
              "\n",
              "    .dataframe tbody tr th {\n",
              "        vertical-align: top;\n",
              "    }\n",
              "\n",
              "    .dataframe thead th {\n",
              "        text-align: right;\n",
              "    }\n",
              "</style>\n",
              "<table border=\"1\" class=\"dataframe\">\n",
              "  <thead>\n",
              "    <tr style=\"text-align: right;\">\n",
              "      <th></th>\n",
              "      <th>a</th>\n",
              "      <th>b</th>\n",
              "      <th>c</th>\n",
              "    </tr>\n",
              "  </thead>\n",
              "  <tbody>\n",
              "    <tr>\n",
              "      <th>0</th>\n",
              "      <td>0.0</td>\n",
              "      <td>1.0</td>\n",
              "      <td>2.0</td>\n",
              "    </tr>\n",
              "    <tr>\n",
              "      <th>1</th>\n",
              "      <td>3.0</td>\n",
              "      <td>4.0</td>\n",
              "      <td>5.0</td>\n",
              "    </tr>\n",
              "    <tr>\n",
              "      <th>2</th>\n",
              "      <td>6.0</td>\n",
              "      <td>7.0</td>\n",
              "      <td>NaN</td>\n",
              "    </tr>\n",
              "  </tbody>\n",
              "</table>\n",
              "</div>"
            ],
            "text/plain": [
              "     a    b    c\n",
              "0  0.0  1.0  2.0\n",
              "1  3.0  4.0  5.0\n",
              "2  6.0  7.0  NaN"
            ]
          },
          "execution_count": 8,
          "metadata": {},
          "output_type": "execute_result"
        }
      ],
      "source": [
        "_numbers.loc[2] = [6, 7, None]\n",
        "_numbers"
      ]
    },
    {
      "cell_type": "code",
      "execution_count": 9,
      "id": "Y5LMgQL7kHz7",
      "metadata": {
        "id": "Y5LMgQL7kHz7"
      },
      "outputs": [
        {
          "data": {
            "text/plain": [
              "a    float64\n",
              "b    float64\n",
              "c    float64\n",
              "dtype: object"
            ]
          },
          "execution_count": 9,
          "metadata": {},
          "output_type": "execute_result"
        }
      ],
      "source": [
        "_numbers.dtypes"
      ]
    },
    {
      "cell_type": "markdown",
      "id": "vkQ8H0xdkNCA",
      "metadata": {
        "id": "vkQ8H0xdkNCA"
      },
      "source": [
        "When we do the same with strings though, this is different."
      ]
    },
    {
      "cell_type": "code",
      "execution_count": 10,
      "id": "AffR8AP5jVTN",
      "metadata": {
        "id": "AffR8AP5jVTN"
      },
      "outputs": [
        {
          "data": {
            "text/html": [
              "<div>\n",
              "<style scoped>\n",
              "    .dataframe tbody tr th:only-of-type {\n",
              "        vertical-align: middle;\n",
              "    }\n",
              "\n",
              "    .dataframe tbody tr th {\n",
              "        vertical-align: top;\n",
              "    }\n",
              "\n",
              "    .dataframe thead th {\n",
              "        text-align: right;\n",
              "    }\n",
              "</style>\n",
              "<table border=\"1\" class=\"dataframe\">\n",
              "  <thead>\n",
              "    <tr style=\"text-align: right;\">\n",
              "      <th></th>\n",
              "      <th>Fruit</th>\n",
              "      <th>Color</th>\n",
              "    </tr>\n",
              "  </thead>\n",
              "  <tbody>\n",
              "    <tr>\n",
              "      <th>0</th>\n",
              "      <td>Apple</td>\n",
              "      <td>red</td>\n",
              "    </tr>\n",
              "    <tr>\n",
              "      <th>1</th>\n",
              "      <td>Banana</td>\n",
              "      <td>yellow</td>\n",
              "    </tr>\n",
              "  </tbody>\n",
              "</table>\n",
              "</div>"
            ],
            "text/plain": [
              "    Fruit   Color\n",
              "0   Apple     red\n",
              "1  Banana  yellow"
            ]
          },
          "execution_count": 10,
          "metadata": {},
          "output_type": "execute_result"
        }
      ],
      "source": [
        "_strings = pd.DataFrame(\n",
        "    [['Apple', 'red'], ['Banana', 'yellow']],\n",
        "    columns=['Fruit', 'Color']\n",
        ")\n",
        "_strings"
      ]
    },
    {
      "cell_type": "code",
      "execution_count": 11,
      "id": "mT8wIRxijiQ0",
      "metadata": {
        "id": "mT8wIRxijiQ0"
      },
      "outputs": [
        {
          "data": {
            "text/html": [
              "<div>\n",
              "<style scoped>\n",
              "    .dataframe tbody tr th:only-of-type {\n",
              "        vertical-align: middle;\n",
              "    }\n",
              "\n",
              "    .dataframe tbody tr th {\n",
              "        vertical-align: top;\n",
              "    }\n",
              "\n",
              "    .dataframe thead th {\n",
              "        text-align: right;\n",
              "    }\n",
              "</style>\n",
              "<table border=\"1\" class=\"dataframe\">\n",
              "  <thead>\n",
              "    <tr style=\"text-align: right;\">\n",
              "      <th></th>\n",
              "      <th>Fruit</th>\n",
              "      <th>Color</th>\n",
              "    </tr>\n",
              "  </thead>\n",
              "  <tbody>\n",
              "    <tr>\n",
              "      <th>0</th>\n",
              "      <td>Apple</td>\n",
              "      <td>red</td>\n",
              "    </tr>\n",
              "    <tr>\n",
              "      <th>1</th>\n",
              "      <td>Banana</td>\n",
              "      <td>yellow</td>\n",
              "    </tr>\n",
              "    <tr>\n",
              "      <th>2</th>\n",
              "      <td>Cherry</td>\n",
              "      <td>None</td>\n",
              "    </tr>\n",
              "  </tbody>\n",
              "</table>\n",
              "</div>"
            ],
            "text/plain": [
              "    Fruit   Color\n",
              "0   Apple     red\n",
              "1  Banana  yellow\n",
              "2  Cherry    None"
            ]
          },
          "execution_count": 11,
          "metadata": {},
          "output_type": "execute_result"
        }
      ],
      "source": [
        "_strings.loc[2] = ['Cherry', None]\n",
        "_strings"
      ]
    },
    {
      "cell_type": "code",
      "execution_count": 12,
      "id": "fOsSskjgkR7j",
      "metadata": {
        "id": "fOsSskjgkR7j"
      },
      "outputs": [
        {
          "data": {
            "text/plain": [
              "Fruit    object\n",
              "Color    object\n",
              "dtype: object"
            ]
          },
          "execution_count": 12,
          "metadata": {},
          "output_type": "execute_result"
        }
      ],
      "source": [
        "_strings.dtypes"
      ]
    },
    {
      "cell_type": "markdown",
      "id": "BL1O9rR3mHh7",
      "metadata": {
        "id": "BL1O9rR3mHh7"
      },
      "source": [
        "`None` can exist in an `object` type column. We don't expect only numbers in this case, so it is not converted."
      ]
    },
    {
      "cell_type": "markdown",
      "id": "cfed0e02b300dd04",
      "metadata": {
        "collapsed": false,
        "id": "cfed0e02b300dd04"
      },
      "source": [
        "# 3. Simple statistics\n",
        "Calculate the mean, median, min and maximum values for all columns.\n",
        "\n",
        "*Hint*: You can find this in the cheat sheet, in the section 'Summarize Data'.\n",
        "\n",
        "If you already know how to do this the simple/automatic way, try to calculate these values by hand."
      ]
    },
    {
      "cell_type": "code",
      "execution_count": 19,
      "id": "e2fad7e554bd57",
      "metadata": {
        "id": "e2fad7e554bd57"
      },
      "outputs": [
        {
          "data": {
            "text/plain": [
              "height          183.000000\n",
              "weight           76.000000\n",
              "games             1.000000\n",
              "victories         1.000000\n",
              "ties              0.000000\n",
              "defeats           1.000000\n",
              "goals             0.000000\n",
              "yellowCards       0.000000\n",
              "yellowReds        0.000000\n",
              "redCards          0.000000\n",
              "rater1            0.250000\n",
              "rater2            0.250000\n",
              "refNum         1579.000000\n",
              "refCountry       15.000000\n",
              "meanIAT           0.336628\n",
              "nIAT           2882.000000\n",
              "seIAT             0.000151\n",
              "meanExp           0.356446\n",
              "nExp           3011.000000\n",
              "seExp             0.000586\n",
              "dtype: float64"
            ]
          },
          "execution_count": 19,
          "metadata": {},
          "output_type": "execute_result"
        }
      ],
      "source": [
        "df.describe()\n",
        "numeric_columns = df.select_dtypes(include=[np.number]).columns\n",
        "numeric_columns\n",
        "df[numeric_columns].head()\n",
        "df[numeric_columns].median()  # by default column-wise!"
      ]
    },
    {
      "cell_type": "markdown",
      "id": "abf4ca40fc0b7cb7",
      "metadata": {
        "collapsed": false,
        "id": "abf4ca40fc0b7cb7"
      },
      "source": [
        "# 4. Average cards per game\n",
        "Calculate the average number of yellow and red cards per game for each player.\n",
        "\n",
        "Then print out the 5 players with the highest average number of cards per game."
      ]
    },
    {
      "cell_type": "markdown",
      "id": "2ec07a766303c70a",
      "metadata": {
        "collapsed": false,
        "id": "2ec07a766303c70a"
      },
      "source": [
        "## 4.1 Count the number of cards each player has gotten.\n",
        "As an intermediate step, let's first calculate the number of cards each player has gotten.\n",
        "\n",
        "*Hint*: You can access the yellow cards with `df['yellowCards']` and the red cards with `df['redCards']`. How can you calculate the sum of two integers? Can you apply your knowledge to working with DataFrames?"
      ]
    },
    {
      "cell_type": "code",
      "execution_count": 20,
      "id": "7dc0676178135ce0",
      "metadata": {
        "id": "7dc0676178135ce0"
      },
      "outputs": [
        {
          "data": {
            "text/plain": [
              "0    0\n",
              "1    1\n",
              "5    0\n",
              "6    0\n",
              "7    0\n",
              "Name: total_cards, dtype: int64"
            ]
          },
          "execution_count": 20,
          "metadata": {},
          "output_type": "execute_result"
        }
      ],
      "source": [
        "df['total_cards'] = df['yellowCards'] + df['redCards']\n",
        "df['total_cards'].head()"
      ]
    },
    {
      "cell_type": "markdown",
      "id": "892f9184ce4ead3a",
      "metadata": {
        "collapsed": false,
        "id": "892f9184ce4ead3a"
      },
      "source": [
        "## 4.2 Calculate the average number of cards per game for each player.\n",
        "Next, we can now use this column to calculate the average number of cards per game for each player.\n",
        "\n",
        "*Hint*: If you don't know how to create new columns yet check the cheat sheet. Save the result of the previous task in a column, and then use that new column as a helper to calculate the average for each player."
      ]
    },
    {
      "cell_type": "code",
      "execution_count": 21,
      "id": "cdcc582f562365ff",
      "metadata": {
        "id": "cdcc582f562365ff"
      },
      "outputs": [
        {
          "data": {
            "text/plain": [
              "0    0.0\n",
              "1    1.0\n",
              "5    0.0\n",
              "6    0.0\n",
              "7    0.0\n",
              "Name: avg_cards_per_game, dtype: float64"
            ]
          },
          "execution_count": 21,
          "metadata": {},
          "output_type": "execute_result"
        }
      ],
      "source": [
        "df['avg_cards_per_game'] = df['total_cards'] / df['games']\n",
        "df['avg_cards_per_game'].head()"
      ]
    },
    {
      "cell_type": "markdown",
      "id": "aafa2e9ae61c2ddc",
      "metadata": {
        "collapsed": false,
        "id": "aafa2e9ae61c2ddc"
      },
      "source": [
        "## 4.3 Sort the players by the average number of cards per game.\n",
        "Then we sort by this column.\n",
        "\n",
        "*Hint*: Check the cheat sheet for how to sort!"
      ]
    },
    {
      "cell_type": "code",
      "execution_count": 22,
      "id": "41f2f599087f9229",
      "metadata": {
        "id": "41f2f599087f9229"
      },
      "outputs": [
        {
          "data": {
            "text/html": [
              "<div>\n",
              "<style scoped>\n",
              "    .dataframe tbody tr th:only-of-type {\n",
              "        vertical-align: middle;\n",
              "    }\n",
              "\n",
              "    .dataframe tbody tr th {\n",
              "        vertical-align: top;\n",
              "    }\n",
              "\n",
              "    .dataframe thead th {\n",
              "        text-align: right;\n",
              "    }\n",
              "</style>\n",
              "<table border=\"1\" class=\"dataframe\">\n",
              "  <thead>\n",
              "    <tr style=\"text-align: right;\">\n",
              "      <th></th>\n",
              "      <th>playerShort</th>\n",
              "      <th>player</th>\n",
              "      <th>club</th>\n",
              "      <th>leagueCountry</th>\n",
              "      <th>birthday</th>\n",
              "      <th>height</th>\n",
              "      <th>weight</th>\n",
              "      <th>position</th>\n",
              "      <th>games</th>\n",
              "      <th>victories</th>\n",
              "      <th>...</th>\n",
              "      <th>refCountry</th>\n",
              "      <th>Alpha_3</th>\n",
              "      <th>meanIAT</th>\n",
              "      <th>nIAT</th>\n",
              "      <th>seIAT</th>\n",
              "      <th>meanExp</th>\n",
              "      <th>nExp</th>\n",
              "      <th>seExp</th>\n",
              "      <th>total_cards</th>\n",
              "      <th>avg_cards_per_game</th>\n",
              "    </tr>\n",
              "  </thead>\n",
              "  <tbody>\n",
              "    <tr>\n",
              "      <th>103688</th>\n",
              "      <td>jean-pascal-mignot</td>\n",
              "      <td>Jean-Pascal Mignot</td>\n",
              "      <td>AS Saint-Étienne</td>\n",
              "      <td>France</td>\n",
              "      <td>26.02.1981</td>\n",
              "      <td>183.0</td>\n",
              "      <td>75.0</td>\n",
              "      <td>Center Back</td>\n",
              "      <td>1</td>\n",
              "      <td>1</td>\n",
              "      <td>...</td>\n",
              "      <td>72</td>\n",
              "      <td>PRT</td>\n",
              "      <td>0.396803</td>\n",
              "      <td>1079.0</td>\n",
              "      <td>0.000392</td>\n",
              "      <td>0.790366</td>\n",
              "      <td>1121.0</td>\n",
              "      <td>0.001798</td>\n",
              "      <td>3</td>\n",
              "      <td>3.0</td>\n",
              "    </tr>\n",
              "    <tr>\n",
              "      <th>59371</th>\n",
              "      <td>barragan_3</td>\n",
              "      <td>Barragán</td>\n",
              "      <td>Valencia CF</td>\n",
              "      <td>Spain</td>\n",
              "      <td>12.06.1987</td>\n",
              "      <td>187.0</td>\n",
              "      <td>83.0</td>\n",
              "      <td>Right Fullback</td>\n",
              "      <td>1</td>\n",
              "      <td>0</td>\n",
              "      <td>...</td>\n",
              "      <td>44</td>\n",
              "      <td>ENGL</td>\n",
              "      <td>0.326690</td>\n",
              "      <td>44791.0</td>\n",
              "      <td>0.000010</td>\n",
              "      <td>0.356446</td>\n",
              "      <td>46916.0</td>\n",
              "      <td>0.000037</td>\n",
              "      <td>2</td>\n",
              "      <td>2.0</td>\n",
              "    </tr>\n",
              "    <tr>\n",
              "      <th>115519</th>\n",
              "      <td>ricardo-costa</td>\n",
              "      <td>Ricardo Costa</td>\n",
              "      <td>Valencia CF</td>\n",
              "      <td>Spain</td>\n",
              "      <td>16.05.1981</td>\n",
              "      <td>183.0</td>\n",
              "      <td>80.0</td>\n",
              "      <td>Center Back</td>\n",
              "      <td>1</td>\n",
              "      <td>0</td>\n",
              "      <td>...</td>\n",
              "      <td>7</td>\n",
              "      <td>FRA</td>\n",
              "      <td>0.334684</td>\n",
              "      <td>2882.0</td>\n",
              "      <td>0.000151</td>\n",
              "      <td>0.336101</td>\n",
              "      <td>3011.0</td>\n",
              "      <td>0.000586</td>\n",
              "      <td>2</td>\n",
              "      <td>2.0</td>\n",
              "    </tr>\n",
              "    <tr>\n",
              "      <th>83849</th>\n",
              "      <td>david-villa</td>\n",
              "      <td>David Villa</td>\n",
              "      <td>FC Barcelona</td>\n",
              "      <td>Spain</td>\n",
              "      <td>03.12.1981</td>\n",
              "      <td>175.0</td>\n",
              "      <td>69.0</td>\n",
              "      <td>Center Forward</td>\n",
              "      <td>1</td>\n",
              "      <td>0</td>\n",
              "      <td>...</td>\n",
              "      <td>3</td>\n",
              "      <td>ESP</td>\n",
              "      <td>0.369894</td>\n",
              "      <td>1785.0</td>\n",
              "      <td>0.000229</td>\n",
              "      <td>0.588297</td>\n",
              "      <td>1897.0</td>\n",
              "      <td>0.001002</td>\n",
              "      <td>2</td>\n",
              "      <td>2.0</td>\n",
              "    </tr>\n",
              "    <tr>\n",
              "      <th>68897</th>\n",
              "      <td>apono</td>\n",
              "      <td>Apoño</td>\n",
              "      <td>Real Zaragoza</td>\n",
              "      <td>Spain</td>\n",
              "      <td>13.02.1984</td>\n",
              "      <td>173.0</td>\n",
              "      <td>72.0</td>\n",
              "      <td>Defensive Midfielder</td>\n",
              "      <td>1</td>\n",
              "      <td>1</td>\n",
              "      <td>...</td>\n",
              "      <td>3</td>\n",
              "      <td>ESP</td>\n",
              "      <td>0.369894</td>\n",
              "      <td>1785.0</td>\n",
              "      <td>0.000229</td>\n",
              "      <td>0.588297</td>\n",
              "      <td>1897.0</td>\n",
              "      <td>0.001002</td>\n",
              "      <td>2</td>\n",
              "      <td>2.0</td>\n",
              "    </tr>\n",
              "    <tr>\n",
              "      <th>...</th>\n",
              "      <td>...</td>\n",
              "      <td>...</td>\n",
              "      <td>...</td>\n",
              "      <td>...</td>\n",
              "      <td>...</td>\n",
              "      <td>...</td>\n",
              "      <td>...</td>\n",
              "      <td>...</td>\n",
              "      <td>...</td>\n",
              "      <td>...</td>\n",
              "      <td>...</td>\n",
              "      <td>...</td>\n",
              "      <td>...</td>\n",
              "      <td>...</td>\n",
              "      <td>...</td>\n",
              "      <td>...</td>\n",
              "      <td>...</td>\n",
              "      <td>...</td>\n",
              "      <td>...</td>\n",
              "      <td>...</td>\n",
              "      <td>...</td>\n",
              "    </tr>\n",
              "    <tr>\n",
              "      <th>56737</th>\n",
              "      <td>tolgay-arslan</td>\n",
              "      <td>Tolgay Arslan</td>\n",
              "      <td>Hamburger SV</td>\n",
              "      <td>Germany</td>\n",
              "      <td>16.08.1990</td>\n",
              "      <td>180.0</td>\n",
              "      <td>77.0</td>\n",
              "      <td>Attacking Midfielder</td>\n",
              "      <td>2</td>\n",
              "      <td>0</td>\n",
              "      <td>...</td>\n",
              "      <td>8</td>\n",
              "      <td>DEU</td>\n",
              "      <td>0.336628</td>\n",
              "      <td>7749.0</td>\n",
              "      <td>0.000055</td>\n",
              "      <td>0.335967</td>\n",
              "      <td>7974.0</td>\n",
              "      <td>0.000225</td>\n",
              "      <td>0</td>\n",
              "      <td>0.0</td>\n",
              "    </tr>\n",
              "    <tr>\n",
              "      <th>56734</th>\n",
              "      <td>timo-hildebrand</td>\n",
              "      <td>Timo Hildebrand</td>\n",
              "      <td>FC Schalke 04</td>\n",
              "      <td>Germany</td>\n",
              "      <td>05.04.1979</td>\n",
              "      <td>186.0</td>\n",
              "      <td>80.0</td>\n",
              "      <td>Goalkeeper</td>\n",
              "      <td>1</td>\n",
              "      <td>0</td>\n",
              "      <td>...</td>\n",
              "      <td>8</td>\n",
              "      <td>DEU</td>\n",
              "      <td>0.336628</td>\n",
              "      <td>7749.0</td>\n",
              "      <td>0.000055</td>\n",
              "      <td>0.335967</td>\n",
              "      <td>7974.0</td>\n",
              "      <td>0.000225</td>\n",
              "      <td>0</td>\n",
              "      <td>0.0</td>\n",
              "    </tr>\n",
              "    <tr>\n",
              "      <th>56732</th>\n",
              "      <td>timmy-simons</td>\n",
              "      <td>Timmy Simons</td>\n",
              "      <td>1. FC Nürnberg</td>\n",
              "      <td>Germany</td>\n",
              "      <td>11.12.1976</td>\n",
              "      <td>186.0</td>\n",
              "      <td>79.0</td>\n",
              "      <td>Defensive Midfielder</td>\n",
              "      <td>8</td>\n",
              "      <td>6</td>\n",
              "      <td>...</td>\n",
              "      <td>8</td>\n",
              "      <td>DEU</td>\n",
              "      <td>0.336628</td>\n",
              "      <td>7749.0</td>\n",
              "      <td>0.000055</td>\n",
              "      <td>0.335967</td>\n",
              "      <td>7974.0</td>\n",
              "      <td>0.000225</td>\n",
              "      <td>0</td>\n",
              "      <td>0.0</td>\n",
              "    </tr>\n",
              "    <tr>\n",
              "      <th>56726</th>\n",
              "      <td>thomas-kleine</td>\n",
              "      <td>Thomas Kleine</td>\n",
              "      <td>SpVgg Greuther Fürth</td>\n",
              "      <td>Germany</td>\n",
              "      <td>28.12.1977</td>\n",
              "      <td>191.0</td>\n",
              "      <td>82.0</td>\n",
              "      <td>Center Back</td>\n",
              "      <td>8</td>\n",
              "      <td>6</td>\n",
              "      <td>...</td>\n",
              "      <td>8</td>\n",
              "      <td>DEU</td>\n",
              "      <td>0.336628</td>\n",
              "      <td>7749.0</td>\n",
              "      <td>0.000055</td>\n",
              "      <td>0.335967</td>\n",
              "      <td>7974.0</td>\n",
              "      <td>0.000225</td>\n",
              "      <td>0</td>\n",
              "      <td>0.0</td>\n",
              "    </tr>\n",
              "    <tr>\n",
              "      <th>146027</th>\n",
              "      <td>zdenk-pospch</td>\n",
              "      <td>Zdeněk Pospěch</td>\n",
              "      <td>1. FSV Mainz 05</td>\n",
              "      <td>Germany</td>\n",
              "      <td>14.12.1978</td>\n",
              "      <td>174.0</td>\n",
              "      <td>72.0</td>\n",
              "      <td>Right Fullback</td>\n",
              "      <td>1</td>\n",
              "      <td>0</td>\n",
              "      <td>...</td>\n",
              "      <td>21</td>\n",
              "      <td>HUN</td>\n",
              "      <td>0.376127</td>\n",
              "      <td>574.0</td>\n",
              "      <td>0.000714</td>\n",
              "      <td>0.498350</td>\n",
              "      <td>606.0</td>\n",
              "      <td>0.002968</td>\n",
              "      <td>0</td>\n",
              "      <td>0.0</td>\n",
              "    </tr>\n",
              "  </tbody>\n",
              "</table>\n",
              "<p>115457 rows × 30 columns</p>\n",
              "</div>"
            ],
            "text/plain": [
              "               playerShort              player                  club  \\\n",
              "103688  jean-pascal-mignot  Jean-Pascal Mignot      AS Saint-Étienne   \n",
              "59371           barragan_3            Barragán           Valencia CF   \n",
              "115519       ricardo-costa       Ricardo Costa           Valencia CF   \n",
              "83849          david-villa         David Villa          FC Barcelona   \n",
              "68897                apono               Apoño         Real Zaragoza   \n",
              "...                    ...                 ...                   ...   \n",
              "56737        tolgay-arslan       Tolgay Arslan          Hamburger SV   \n",
              "56734      timo-hildebrand     Timo Hildebrand         FC Schalke 04   \n",
              "56732         timmy-simons        Timmy Simons        1. FC Nürnberg   \n",
              "56726        thomas-kleine       Thomas Kleine  SpVgg Greuther Fürth   \n",
              "146027        zdenk-pospch      Zdeněk Pospěch       1. FSV Mainz 05   \n",
              "\n",
              "       leagueCountry    birthday  height  weight              position  games  \\\n",
              "103688        France  26.02.1981   183.0    75.0           Center Back      1   \n",
              "59371          Spain  12.06.1987   187.0    83.0        Right Fullback      1   \n",
              "115519         Spain  16.05.1981   183.0    80.0           Center Back      1   \n",
              "83849          Spain  03.12.1981   175.0    69.0        Center Forward      1   \n",
              "68897          Spain  13.02.1984   173.0    72.0  Defensive Midfielder      1   \n",
              "...              ...         ...     ...     ...                   ...    ...   \n",
              "56737        Germany  16.08.1990   180.0    77.0  Attacking Midfielder      2   \n",
              "56734        Germany  05.04.1979   186.0    80.0            Goalkeeper      1   \n",
              "56732        Germany  11.12.1976   186.0    79.0  Defensive Midfielder      8   \n",
              "56726        Germany  28.12.1977   191.0    82.0           Center Back      8   \n",
              "146027       Germany  14.12.1978   174.0    72.0        Right Fullback      1   \n",
              "\n",
              "        victories  ...  refCountry  Alpha_3   meanIAT     nIAT     seIAT  \\\n",
              "103688          1  ...          72      PRT  0.396803   1079.0  0.000392   \n",
              "59371           0  ...          44     ENGL  0.326690  44791.0  0.000010   \n",
              "115519          0  ...           7      FRA  0.334684   2882.0  0.000151   \n",
              "83849           0  ...           3      ESP  0.369894   1785.0  0.000229   \n",
              "68897           1  ...           3      ESP  0.369894   1785.0  0.000229   \n",
              "...           ...  ...         ...      ...       ...      ...       ...   \n",
              "56737           0  ...           8      DEU  0.336628   7749.0  0.000055   \n",
              "56734           0  ...           8      DEU  0.336628   7749.0  0.000055   \n",
              "56732           6  ...           8      DEU  0.336628   7749.0  0.000055   \n",
              "56726           6  ...           8      DEU  0.336628   7749.0  0.000055   \n",
              "146027          0  ...          21      HUN  0.376127    574.0  0.000714   \n",
              "\n",
              "         meanExp     nExp     seExp  total_cards  avg_cards_per_game  \n",
              "103688  0.790366   1121.0  0.001798            3                 3.0  \n",
              "59371   0.356446  46916.0  0.000037            2                 2.0  \n",
              "115519  0.336101   3011.0  0.000586            2                 2.0  \n",
              "83849   0.588297   1897.0  0.001002            2                 2.0  \n",
              "68897   0.588297   1897.0  0.001002            2                 2.0  \n",
              "...          ...      ...       ...          ...                 ...  \n",
              "56737   0.335967   7974.0  0.000225            0                 0.0  \n",
              "56734   0.335967   7974.0  0.000225            0                 0.0  \n",
              "56732   0.335967   7974.0  0.000225            0                 0.0  \n",
              "56726   0.335967   7974.0  0.000225            0                 0.0  \n",
              "146027  0.498350    606.0  0.002968            0                 0.0  \n",
              "\n",
              "[115457 rows x 30 columns]"
            ]
          },
          "execution_count": 22,
          "metadata": {},
          "output_type": "execute_result"
        }
      ],
      "source": [
        "avg_cards_per_game_df = df.sort_values(by='avg_cards_per_game', ascending=False)\n",
        "avg_cards_per_game_df"
      ]
    },
    {
      "cell_type": "markdown",
      "id": "6b9f8e542c0add68",
      "metadata": {
        "collapsed": false,
        "id": "6b9f8e542c0add68"
      },
      "source": [
        "## 4.4 Print out the top 5 players.\n",
        "This is now very easy to do. We will not use `.head()` this time though.\n",
        "\n",
        "*Hint*: How would you solve this if you were working with a sorted list?"
      ]
    },
    {
      "cell_type": "code",
      "execution_count": 23,
      "id": "8877e73c054434ff",
      "metadata": {
        "id": "8877e73c054434ff"
      },
      "outputs": [
        {
          "data": {
            "text/html": [
              "<div>\n",
              "<style scoped>\n",
              "    .dataframe tbody tr th:only-of-type {\n",
              "        vertical-align: middle;\n",
              "    }\n",
              "\n",
              "    .dataframe tbody tr th {\n",
              "        vertical-align: top;\n",
              "    }\n",
              "\n",
              "    .dataframe thead th {\n",
              "        text-align: right;\n",
              "    }\n",
              "</style>\n",
              "<table border=\"1\" class=\"dataframe\">\n",
              "  <thead>\n",
              "    <tr style=\"text-align: right;\">\n",
              "      <th></th>\n",
              "      <th>playerShort</th>\n",
              "      <th>player</th>\n",
              "      <th>club</th>\n",
              "      <th>leagueCountry</th>\n",
              "      <th>birthday</th>\n",
              "      <th>height</th>\n",
              "      <th>weight</th>\n",
              "      <th>position</th>\n",
              "      <th>games</th>\n",
              "      <th>victories</th>\n",
              "      <th>...</th>\n",
              "      <th>refCountry</th>\n",
              "      <th>Alpha_3</th>\n",
              "      <th>meanIAT</th>\n",
              "      <th>nIAT</th>\n",
              "      <th>seIAT</th>\n",
              "      <th>meanExp</th>\n",
              "      <th>nExp</th>\n",
              "      <th>seExp</th>\n",
              "      <th>total_cards</th>\n",
              "      <th>avg_cards_per_game</th>\n",
              "    </tr>\n",
              "  </thead>\n",
              "  <tbody>\n",
              "    <tr>\n",
              "      <th>103688</th>\n",
              "      <td>jean-pascal-mignot</td>\n",
              "      <td>Jean-Pascal Mignot</td>\n",
              "      <td>AS Saint-Étienne</td>\n",
              "      <td>France</td>\n",
              "      <td>26.02.1981</td>\n",
              "      <td>183.0</td>\n",
              "      <td>75.0</td>\n",
              "      <td>Center Back</td>\n",
              "      <td>1</td>\n",
              "      <td>1</td>\n",
              "      <td>...</td>\n",
              "      <td>72</td>\n",
              "      <td>PRT</td>\n",
              "      <td>0.396803</td>\n",
              "      <td>1079.0</td>\n",
              "      <td>0.000392</td>\n",
              "      <td>0.790366</td>\n",
              "      <td>1121.0</td>\n",
              "      <td>0.001798</td>\n",
              "      <td>3</td>\n",
              "      <td>3.0</td>\n",
              "    </tr>\n",
              "    <tr>\n",
              "      <th>59371</th>\n",
              "      <td>barragan_3</td>\n",
              "      <td>Barragán</td>\n",
              "      <td>Valencia CF</td>\n",
              "      <td>Spain</td>\n",
              "      <td>12.06.1987</td>\n",
              "      <td>187.0</td>\n",
              "      <td>83.0</td>\n",
              "      <td>Right Fullback</td>\n",
              "      <td>1</td>\n",
              "      <td>0</td>\n",
              "      <td>...</td>\n",
              "      <td>44</td>\n",
              "      <td>ENGL</td>\n",
              "      <td>0.326690</td>\n",
              "      <td>44791.0</td>\n",
              "      <td>0.000010</td>\n",
              "      <td>0.356446</td>\n",
              "      <td>46916.0</td>\n",
              "      <td>0.000037</td>\n",
              "      <td>2</td>\n",
              "      <td>2.0</td>\n",
              "    </tr>\n",
              "    <tr>\n",
              "      <th>115519</th>\n",
              "      <td>ricardo-costa</td>\n",
              "      <td>Ricardo Costa</td>\n",
              "      <td>Valencia CF</td>\n",
              "      <td>Spain</td>\n",
              "      <td>16.05.1981</td>\n",
              "      <td>183.0</td>\n",
              "      <td>80.0</td>\n",
              "      <td>Center Back</td>\n",
              "      <td>1</td>\n",
              "      <td>0</td>\n",
              "      <td>...</td>\n",
              "      <td>7</td>\n",
              "      <td>FRA</td>\n",
              "      <td>0.334684</td>\n",
              "      <td>2882.0</td>\n",
              "      <td>0.000151</td>\n",
              "      <td>0.336101</td>\n",
              "      <td>3011.0</td>\n",
              "      <td>0.000586</td>\n",
              "      <td>2</td>\n",
              "      <td>2.0</td>\n",
              "    </tr>\n",
              "    <tr>\n",
              "      <th>83849</th>\n",
              "      <td>david-villa</td>\n",
              "      <td>David Villa</td>\n",
              "      <td>FC Barcelona</td>\n",
              "      <td>Spain</td>\n",
              "      <td>03.12.1981</td>\n",
              "      <td>175.0</td>\n",
              "      <td>69.0</td>\n",
              "      <td>Center Forward</td>\n",
              "      <td>1</td>\n",
              "      <td>0</td>\n",
              "      <td>...</td>\n",
              "      <td>3</td>\n",
              "      <td>ESP</td>\n",
              "      <td>0.369894</td>\n",
              "      <td>1785.0</td>\n",
              "      <td>0.000229</td>\n",
              "      <td>0.588297</td>\n",
              "      <td>1897.0</td>\n",
              "      <td>0.001002</td>\n",
              "      <td>2</td>\n",
              "      <td>2.0</td>\n",
              "    </tr>\n",
              "    <tr>\n",
              "      <th>68897</th>\n",
              "      <td>apono</td>\n",
              "      <td>Apoño</td>\n",
              "      <td>Real Zaragoza</td>\n",
              "      <td>Spain</td>\n",
              "      <td>13.02.1984</td>\n",
              "      <td>173.0</td>\n",
              "      <td>72.0</td>\n",
              "      <td>Defensive Midfielder</td>\n",
              "      <td>1</td>\n",
              "      <td>1</td>\n",
              "      <td>...</td>\n",
              "      <td>3</td>\n",
              "      <td>ESP</td>\n",
              "      <td>0.369894</td>\n",
              "      <td>1785.0</td>\n",
              "      <td>0.000229</td>\n",
              "      <td>0.588297</td>\n",
              "      <td>1897.0</td>\n",
              "      <td>0.001002</td>\n",
              "      <td>2</td>\n",
              "      <td>2.0</td>\n",
              "    </tr>\n",
              "  </tbody>\n",
              "</table>\n",
              "<p>5 rows × 30 columns</p>\n",
              "</div>"
            ],
            "text/plain": [
              "               playerShort              player              club  \\\n",
              "103688  jean-pascal-mignot  Jean-Pascal Mignot  AS Saint-Étienne   \n",
              "59371           barragan_3            Barragán       Valencia CF   \n",
              "115519       ricardo-costa       Ricardo Costa       Valencia CF   \n",
              "83849          david-villa         David Villa      FC Barcelona   \n",
              "68897                apono               Apoño     Real Zaragoza   \n",
              "\n",
              "       leagueCountry    birthday  height  weight              position  games  \\\n",
              "103688        France  26.02.1981   183.0    75.0           Center Back      1   \n",
              "59371          Spain  12.06.1987   187.0    83.0        Right Fullback      1   \n",
              "115519         Spain  16.05.1981   183.0    80.0           Center Back      1   \n",
              "83849          Spain  03.12.1981   175.0    69.0        Center Forward      1   \n",
              "68897          Spain  13.02.1984   173.0    72.0  Defensive Midfielder      1   \n",
              "\n",
              "        victories  ...  refCountry  Alpha_3   meanIAT     nIAT     seIAT  \\\n",
              "103688          1  ...          72      PRT  0.396803   1079.0  0.000392   \n",
              "59371           0  ...          44     ENGL  0.326690  44791.0  0.000010   \n",
              "115519          0  ...           7      FRA  0.334684   2882.0  0.000151   \n",
              "83849           0  ...           3      ESP  0.369894   1785.0  0.000229   \n",
              "68897           1  ...           3      ESP  0.369894   1785.0  0.000229   \n",
              "\n",
              "         meanExp     nExp     seExp  total_cards  avg_cards_per_game  \n",
              "103688  0.790366   1121.0  0.001798            3                 3.0  \n",
              "59371   0.356446  46916.0  0.000037            2                 2.0  \n",
              "115519  0.336101   3011.0  0.000586            2                 2.0  \n",
              "83849   0.588297   1897.0  0.001002            2                 2.0  \n",
              "68897   0.588297   1897.0  0.001002            2                 2.0  \n",
              "\n",
              "[5 rows x 30 columns]"
            ]
          },
          "execution_count": 23,
          "metadata": {},
          "output_type": "execute_result"
        }
      ],
      "source": [
        "avg_cards_per_game_df[:5]"
      ]
    },
    {
      "cell_type": "markdown",
      "id": "a8737c82fd4ed8d6",
      "metadata": {
        "collapsed": false,
        "id": "a8737c82fd4ed8d6"
      },
      "source": [
        "# 5. Average number of cards per country\n",
        "Do the same as in task 4. but this time for each country. This means we need to group the countries!"
      ]
    },
    {
      "cell_type": "markdown",
      "id": "e9bd2a02ae8c81c4",
      "metadata": {
        "collapsed": false,
        "id": "e9bd2a02ae8c81c4"
      },
      "source": [
        "## 5.1 Group the data by country.\n",
        "\n",
        "*Hint*: Check the cheat sheet for grouping!"
      ]
    },
    {
      "cell_type": "code",
      "execution_count": 25,
      "id": "26eb64f82d50940f",
      "metadata": {
        "id": "26eb64f82d50940f"
      },
      "outputs": [
        {
          "data": {
            "text/plain": [
              "dict_keys(['England', 'France', 'Germany', 'Spain'])"
            ]
          },
          "execution_count": 25,
          "metadata": {},
          "output_type": "execute_result"
        }
      ],
      "source": [
        "grouped_by_country = df.groupby('leagueCountry')\n",
        "grouped_by_country.groups.keys()"
      ]
    },
    {
      "cell_type": "markdown",
      "id": "b3f64f4f5c713070",
      "metadata": {
        "collapsed": false,
        "id": "b3f64f4f5c713070"
      },
      "source": [
        "## 5.2 Calculate the average number of cards per game for each country.\n",
        "\n",
        "*Hint*: Remember how you calculated the average number of cards per game for each player! It's not exactly the same here but similar."
      ]
    },
    {
      "cell_type": "code",
      "execution_count": 26,
      "id": "adf1a95830a48407",
      "metadata": {
        "id": "adf1a95830a48407"
      },
      "outputs": [
        {
          "data": {
            "text/plain": [
              "leagueCountry\n",
              "England    0.115345\n",
              "France     0.132275\n",
              "Germany    0.128539\n",
              "Spain      0.176037\n",
              "dtype: float64"
            ]
          },
          "execution_count": 26,
          "metadata": {},
          "output_type": "execute_result"
        }
      ],
      "source": [
        "(grouped_by_country['yellowCards'].sum() + grouped_by_country['redCards'].sum()) / grouped_by_country['games'].sum()"
      ]
    },
    {
      "cell_type": "markdown",
      "id": "12d2310730496b4a",
      "metadata": {
        "collapsed": false,
        "id": "12d2310730496b4a"
      },
      "source": [
        "# 6. Correlation\n",
        "Let's calculate some correlations.\n",
        "\n",
        "*Hint*: You can use [this](https://pandas.pydata.org/docs/reference/api/pandas.DataFrame.corr.html) function if you don't know or can't find out how to do it.\n",
        "\n",
        "*Hint*: To select numeric columns, you can use `numeric_columns = df.select_dtypes(include=[np.number]).columns`."
      ]
    },
    {
      "cell_type": "code",
      "execution_count": null,
      "id": "17bad01f3a302a8d",
      "metadata": {
        "id": "17bad01f3a302a8d"
      },
      "outputs": [],
      "source": []
    },
    {
      "cell_type": "markdown",
      "id": "b507a794fe2cba2d",
      "metadata": {
        "collapsed": false,
        "id": "b507a794fe2cba2d"
      },
      "source": [
        "## 6.1 Highest correlations per variable\n",
        "For each of the variables, let's find the variable that has the highest correlation with it.\n",
        "\n",
        "*Hint*: Break this down into multiple smaller problems!\n",
        "- How can you calculate the correlations? (You have done this already!)\n",
        "- How can you iterate over the columns?\n",
        "- How can you select each column to get the correlations?\n",
        "- How can you sort the correlation values?\n",
        "- How can you find the highest correlation value?"
      ]
    },
    {
      "cell_type": "code",
      "execution_count": null,
      "id": "d2c197fc1751a078",
      "metadata": {
        "id": "d2c197fc1751a078"
      },
      "outputs": [],
      "source": []
    },
    {
      "cell_type": "markdown",
      "id": "8341df1f35791b0d",
      "metadata": {
        "collapsed": false,
        "id": "8341df1f35791b0d"
      },
      "source": [
        "## 6.2 Interesting correlations\n",
        "Pick out some correlations and explain why you think they are interesting and what might be the cause of them."
      ]
    },
    {
      "cell_type": "code",
      "execution_count": null,
      "id": "03D1GdfQxkox",
      "metadata": {
        "id": "03D1GdfQxkox"
      },
      "outputs": [],
      "source": []
    },
    {
      "cell_type": "markdown",
      "id": "7bbf7d735f7e3eac",
      "metadata": {
        "collapsed": false,
        "id": "7bbf7d735f7e3eac"
      },
      "source": [
        "# 7. Simple Analysis\n",
        "Let's do a simple analysis of skin color and the average number of cards. For this we are going to use a boxplot."
      ]
    },
    {
      "cell_type": "markdown",
      "id": "MhrXm7etyDAT",
      "metadata": {
        "id": "MhrXm7etyDAT"
      },
      "source": [
        "Here is an example boxplot. You can adjust the code in the cell below to solve this task. You need to modify the code a bit to use the actual data from the DataFrame."
      ]
    },
    {
      "cell_type": "markdown",
      "id": "AD9w9oaTn0pT",
      "metadata": {
        "id": "AD9w9oaTn0pT"
      },
      "source": [
        "![](https://www.simplypsychology.org/wp-content/uploads/box-whisker-plot.jpg)"
      ]
    },
    {
      "cell_type": "code",
      "execution_count": 13,
      "id": "d81Va7ZpyFrj",
      "metadata": {
        "id": "d81Va7ZpyFrj"
      },
      "outputs": [
        {
          "ename": "ModuleNotFoundError",
          "evalue": "No module named 'matplotlib'",
          "output_type": "error",
          "traceback": [
            "\u001b[1;31m---------------------------------------------------------------------------\u001b[0m",
            "\u001b[1;31mModuleNotFoundError\u001b[0m                       Traceback (most recent call last)",
            "\u001b[1;32mc:\\Users\\yluet\\Coding\\HSG-repos\\FS23-DS\\hsg-fs23-ds-exercises\\E02_exercise02_blank.ipynb Cell 47\u001b[0m line \u001b[0;36m<cell line: 3>\u001b[1;34m()\u001b[0m\n\u001b[0;32m      <a href='vscode-notebook-cell:/c%3A/Users/yluet/Coding/HSG-repos/FS23-DS/hsg-fs23-ds-exercises/E02_exercise02_blank.ipynb#X64sZmlsZQ%3D%3D?line=0'>1</a>\u001b[0m \u001b[39mimport\u001b[39;00m \u001b[39mpandas\u001b[39;00m \u001b[39mas\u001b[39;00m \u001b[39mpd\u001b[39;00m\n\u001b[0;32m      <a href='vscode-notebook-cell:/c%3A/Users/yluet/Coding/HSG-repos/FS23-DS/hsg-fs23-ds-exercises/E02_exercise02_blank.ipynb#X64sZmlsZQ%3D%3D?line=1'>2</a>\u001b[0m \u001b[39mimport\u001b[39;00m \u001b[39mnumpy\u001b[39;00m \u001b[39mas\u001b[39;00m \u001b[39mnp\u001b[39;00m\n\u001b[1;32m----> <a href='vscode-notebook-cell:/c%3A/Users/yluet/Coding/HSG-repos/FS23-DS/hsg-fs23-ds-exercises/E02_exercise02_blank.ipynb#X64sZmlsZQ%3D%3D?line=2'>3</a>\u001b[0m \u001b[39mimport\u001b[39;00m \u001b[39mmatplotlib\u001b[39;00m\u001b[39m.\u001b[39;00m\u001b[39mpyplot\u001b[39;00m \u001b[39mas\u001b[39;00m \u001b[39mplt\u001b[39;00m\n\u001b[0;32m      <a href='vscode-notebook-cell:/c%3A/Users/yluet/Coding/HSG-repos/FS23-DS/hsg-fs23-ds-exercises/E02_exercise02_blank.ipynb#X64sZmlsZQ%3D%3D?line=4'>5</a>\u001b[0m \u001b[39m# Generate example data\u001b[39;00m\n\u001b[0;32m      <a href='vscode-notebook-cell:/c%3A/Users/yluet/Coding/HSG-repos/FS23-DS/hsg-fs23-ds-exercises/E02_exercise02_blank.ipynb#X64sZmlsZQ%3D%3D?line=5'>6</a>\u001b[0m np\u001b[39m.\u001b[39mrandom\u001b[39m.\u001b[39mseed(\u001b[39m0\u001b[39m)\n",
            "\u001b[1;31mModuleNotFoundError\u001b[0m: No module named 'matplotlib'"
          ]
        }
      ],
      "source": [
        "import pandas as pd\n",
        "import numpy as np\n",
        "import matplotlib.pyplot as plt\n",
        "\n",
        "# Generate example data\n",
        "np.random.seed(0)\n",
        "avg_skin_color = np.random.choice(['Light', 'Medium', 'Dark'], 100)\n",
        "avg_cards_per_game = np.random.rand(100) * 5  # random values between 0 and 5\n",
        "\n",
        "# Create a DataFrame\n",
        "boxplot_values = pd.DataFrame({\n",
        "    'avg_skin_color': avg_skin_color,\n",
        "    'avg_cards_per_game': avg_cards_per_game\n",
        "})\n",
        "\n",
        "# Grouping and preparing data for boxplot\n",
        "grouped = boxplot_values.groupby('avg_skin_color')['avg_cards_per_game']\n",
        "\n",
        "labels = sorted(boxplot_values['avg_skin_color'].unique())\n",
        "\n",
        "data_for_boxplot = [grouped.get_group(label).values for label in labels]\n",
        "\n",
        "# Plotting the boxplot\n",
        "plt.figure(figsize=(10, 6))\n",
        "plt.boxplot(data_for_boxplot, labels=labels, notch=True)\n",
        "plt.title('Boxplot of avg_cards_per_game grouped by avg_skin_color')\n",
        "plt.xlabel('Average Skin Color')\n",
        "plt.ylabel('Average Cards Per Game')\n",
        "plt.show()"
      ]
    },
    {
      "cell_type": "code",
      "execution_count": null,
      "id": "2c9077069117aeab",
      "metadata": {
        "id": "2c9077069117aeab"
      },
      "outputs": [],
      "source": []
    }
  ],
  "metadata": {
    "colab": {
      "provenance": []
    },
    "kernelspec": {
      "display_name": "Python 3",
      "language": "python",
      "name": "python3"
    },
    "language_info": {
      "codemirror_mode": {
        "name": "ipython",
        "version": 3
      },
      "file_extension": ".py",
      "mimetype": "text/x-python",
      "name": "python",
      "nbconvert_exporter": "python",
      "pygments_lexer": "ipython3",
      "version": "3.9.13"
    }
  },
  "nbformat": 4,
  "nbformat_minor": 5
}
