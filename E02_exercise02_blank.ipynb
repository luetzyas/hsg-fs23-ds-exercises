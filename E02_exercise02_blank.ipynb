{
  "cells": [
    {
      "cell_type": "code",
      "execution_count": null,
      "id": "initial_id",
      "metadata": {
        "collapsed": true,
        "id": "initial_id"
      },
      "outputs": [],
      "source": [
        "import pandas as pd\n",
        "import numpy as np"
      ]
    },
    {
      "cell_type": "markdown",
      "source": [
        "#0. `pandas` and preliminary knowledge\n",
        "\n",
        "In this exercise we will be using the [`pandas`](https://pandas.pydata.org/docs/) library.\n",
        "\n",
        "You can use a [cheat sheet of the basic functions](https://pandas.pydata.org/Pandas_Cheat_Sheet.pdf) if you are not familiar with `pandas`.\n",
        "\n",
        "`pandas` is a popular data manipulation library for Python. It provides data structures like Series and DataFrame alongside the essential functionality required for cleaning, aggregating, transforming, visualizing, and more tasks on data. `pandas` is built on top of the [`numpy`](https://numpy.org/) library, offering a higher-level, more intuitive interface for data analysis and manipulation. It's especially suitable for working with structured data, including datasets from Excel or CSV files, SQL tables, and more. With `pandas`, users can perform tasks like handling missing data, merging and joining datasets, filtering and reshaping data, and many other complex data operations. The extensive functionality of `pandas` makes it an essential tool for data scientists, analysts, and researchers working in Python.\n"
      ],
      "metadata": {
        "id": "97SY-UyqkuV8"
      },
      "id": "97SY-UyqkuV8"
    },
    {
      "cell_type": "markdown",
      "source": [
        "# 1. Load the data\n",
        "Find a way to load the data into a pandas dataframe. You can find the data here: https://osf.io/fv8c3.\n",
        "\n",
        "You need to find a way to load this data. There is a function in `pandas` that can help you. If you can't find it on your own or you feel unsure, you can click [here](https://pandas.pydata.org/docs/reference/api/pandas.read_csv.html) to find the correct function you can use."
      ],
      "metadata": {
        "collapsed": false,
        "id": "10a6c00f800cbd46"
      },
      "id": "10a6c00f800cbd46"
    },
    {
      "cell_type": "code",
      "execution_count": null,
      "outputs": [],
      "source": [
        "df = pd.read_csv(\"https://drive.switch.ch/index.php/s/UEpTFv2Bfa5C1dd/download\")"
      ],
      "metadata": {
        "id": "dbbb55920a066c05"
      },
      "id": "dbbb55920a066c05"
    },
    {
      "cell_type": "markdown",
      "source": [
        "# 2. Clean the data\n",
        "Here we use a very simple approach to clean the data. We remove all the rows that contain missing values. You can try a more sophisticated approach if you want.\n",
        "\n",
        "\n",
        "In `pandas`, `NaN` (Not a Number) values represent missing or undefined data. `NaN` values can occur when loading datasets, during data manipulation, or when performing calculations. They are often used as a placeholder for missing or unrepresentable data.\n",
        "\n",
        "Handling `NaN` values is essential as they can affect the results of data analysis and machine learning algorithms. Here are a few ways to handle `NaN` values in pandas:\n",
        "- You can use the [`dropna()`](https://pandas.pydata.org/docs/reference/api/pandas.DataFrame.dropna.html) method to remove any rows or columns that contain NaN values from a DataFrame.\n",
        "- You can use the [`fillna()`](https://pandas.pydata.org/docs/reference/api/pandas.DataFrame.fillna.html) method to replace `NaN` values with a specific value or a method (like forward fill or backward fill).\n",
        "\n",
        "For simplicity's sake we want to just remove all rows that have `NaN` values.\n",
        "\n",
        "Look up how we could do backfill and forward fill and what doing that would mean in our case. Can you construct a case (on another dataset, or an imagined dataset) where filling is useful?"
      ],
      "metadata": {
        "collapsed": false,
        "id": "9e4c72db24c6dd9d"
      },
      "id": "9e4c72db24c6dd9d"
    },
    {
      "cell_type": "code",
      "source": [],
      "metadata": {
        "id": "ZQJ3TRgGsbM4"
      },
      "id": "ZQJ3TRgGsbM4",
      "execution_count": null,
      "outputs": []
    },
    {
      "cell_type": "markdown",
      "source": [
        "## A Note about `NaN` and `NaT`\n",
        "\n",
        "Note that `NaN != NaN`!\n",
        "\n",
        "You can find a detailed explanation of why this is the case [here](https://stackoverflow.com/a/1573715/5320601).\n",
        "\n",
        "In short:\n",
        "\n",
        "- `a == b` should hold if `(a - b) == 0`\n",
        "- but then what is `(a - NaN)`?\n",
        "\n",
        "The way to check for `NaN` values is to use [`.isna()`](https://pandas.pydata.org/docs/reference/api/pandas.DataFrame.isna.html).\n",
        "\n",
        "There is also [`NaT`](https://pandas.pydata.org/docs/reference/api/pandas.NaT.html), which is used for missing time values (like a datetime column), and [`NA`](https://pandas.pydata.org/docs/user_guide/missing_data.html#missing-data-na) which is still experimental and whose behaviour could change without warning between versions of `pandas`."
      ],
      "metadata": {
        "id": "hemwS-IOejZJ"
      },
      "id": "hemwS-IOejZJ"
    },
    {
      "cell_type": "code",
      "execution_count": null,
      "outputs": [],
      "source": [
        "a = np.nan\n",
        "b = np.nan\n",
        "\n",
        "a == b"
      ],
      "metadata": {
        "id": "e7333e2f25a544f0"
      },
      "id": "e7333e2f25a544f0"
    },
    {
      "cell_type": "markdown",
      "source": [
        "And important to note, `NaN` is not the same as `None`!"
      ],
      "metadata": {
        "id": "11FSVMcIhT_Y"
      },
      "id": "11FSVMcIhT_Y"
    },
    {
      "cell_type": "code",
      "source": [
        "print(f'{\"NaN and None equality:\":<30} {np.nan == None}')\n",
        "print(f'{\"None and None equality:\":<30} {None == None}')\n",
        "print(f'{\"NaN and NaN equality:\":<30} {np.nan == np.nan}')"
      ],
      "metadata": {
        "id": "LH56hQiIhZ5s"
      },
      "id": "LH56hQiIhZ5s",
      "execution_count": null,
      "outputs": []
    },
    {
      "cell_type": "markdown",
      "source": [
        "Keep in mind that this can behave unexpectedly if you are not aware of it."
      ],
      "metadata": {
        "id": "qr8I6TX-jyaj"
      },
      "id": "qr8I6TX-jyaj"
    },
    {
      "cell_type": "markdown",
      "source": [
        "Here we create a DataFrame with integers, and add a row with a missing value. For the missing value we use `None`."
      ],
      "metadata": {
        "id": "N6Ro_n7Dj4VH"
      },
      "id": "N6Ro_n7Dj4VH"
    },
    {
      "cell_type": "code",
      "source": [
        "_numbers = pd.DataFrame(\n",
        "    [[0, 1, 2], [3, 4, 5]],\n",
        "    columns=['a', 'b', 'c']\n",
        ")\n",
        "_numbers"
      ],
      "metadata": {
        "id": "81YD-S67iKOW"
      },
      "id": "81YD-S67iKOW",
      "execution_count": null,
      "outputs": []
    },
    {
      "cell_type": "markdown",
      "source": [
        "We see that this `None` becomes `NaN` in the DataFrame. That is because the dtype of the column is `float64` and `None` is not a number (`NaN`)."
      ],
      "metadata": {
        "id": "4aQ9dh74j_6C"
      },
      "id": "4aQ9dh74j_6C"
    },
    {
      "cell_type": "code",
      "source": [
        "_numbers.loc[2] = [6, 7, None]\n",
        "_numbers"
      ],
      "metadata": {
        "id": "eKFtucMZiwbL"
      },
      "id": "eKFtucMZiwbL",
      "execution_count": null,
      "outputs": []
    },
    {
      "cell_type": "code",
      "source": [
        "_numbers.dtypes"
      ],
      "metadata": {
        "id": "Y5LMgQL7kHz7"
      },
      "id": "Y5LMgQL7kHz7",
      "execution_count": null,
      "outputs": []
    },
    {
      "cell_type": "markdown",
      "source": [
        "When we do the same with strings though, this is different."
      ],
      "metadata": {
        "id": "vkQ8H0xdkNCA"
      },
      "id": "vkQ8H0xdkNCA"
    },
    {
      "cell_type": "code",
      "source": [
        "_strings = pd.DataFrame(\n",
        "    [['Apple', 'red'], ['Banana', 'yellow']],\n",
        "    columns=['Fruit', 'Color']\n",
        ")\n",
        "_strings"
      ],
      "metadata": {
        "id": "AffR8AP5jVTN"
      },
      "id": "AffR8AP5jVTN",
      "execution_count": null,
      "outputs": []
    },
    {
      "cell_type": "code",
      "source": [
        "_strings.loc[2] = ['Cherry', None]\n",
        "_strings"
      ],
      "metadata": {
        "id": "mT8wIRxijiQ0"
      },
      "id": "mT8wIRxijiQ0",
      "execution_count": null,
      "outputs": []
    },
    {
      "cell_type": "code",
      "source": [
        "_strings.dtypes"
      ],
      "metadata": {
        "id": "fOsSskjgkR7j"
      },
      "id": "fOsSskjgkR7j",
      "execution_count": null,
      "outputs": []
    },
    {
      "cell_type": "markdown",
      "source": [
        "`None` can exist in an `object` type column. We don't expect only numbers in this case, so it is not converted."
      ],
      "metadata": {
        "id": "BL1O9rR3mHh7"
      },
      "id": "BL1O9rR3mHh7"
    },
    {
      "cell_type": "markdown",
      "source": [
        "# 3. Simple statistics\n",
        "Calculate the mean, median, min and maximum values for all columns.\n",
        "\n",
        "*Hint*: You can find this in the cheat sheet, in the section 'Summarize Data'.\n",
        "\n",
        "If you already know how to do this the simple/automatic way, try to calculate these values by hand."
      ],
      "metadata": {
        "collapsed": false,
        "id": "cfed0e02b300dd04"
      },
      "id": "cfed0e02b300dd04"
    },
    {
      "cell_type": "code",
      "execution_count": null,
      "outputs": [],
      "source": [],
      "metadata": {
        "id": "e2fad7e554bd57"
      },
      "id": "e2fad7e554bd57"
    },
    {
      "cell_type": "markdown",
      "source": [
        "# 4. Average cards per game\n",
        "Calculate the average number of yellow and red cards per game for each player.\n",
        "\n",
        "Then print out the 5 players with the highest average number of cards per game."
      ],
      "metadata": {
        "collapsed": false,
        "id": "abf4ca40fc0b7cb7"
      },
      "id": "abf4ca40fc0b7cb7"
    },
    {
      "cell_type": "markdown",
      "source": [
        "## 4.1 Count the number of cards each player has gotten.\n",
        "As an intermediate step, let's first calculate the number of cards each player has gotten.\n",
        "\n",
        "*Hint*: You can access the yellow cards with `df['yellowCards']` and the red cards with `df['redCards']`. How can you calculate the sum of two integers? Can you apply your knowledge to working with DataFrames?"
      ],
      "metadata": {
        "collapsed": false,
        "id": "2ec07a766303c70a"
      },
      "id": "2ec07a766303c70a"
    },
    {
      "cell_type": "code",
      "execution_count": null,
      "outputs": [],
      "source": [],
      "metadata": {
        "id": "7dc0676178135ce0"
      },
      "id": "7dc0676178135ce0"
    },
    {
      "cell_type": "markdown",
      "source": [
        "## 4.2 Calculate the average number of cards per game for each player.\n",
        "Next, we can now use this column to calculate the average number of cards per game for each player.\n",
        "\n",
        "*Hint*: If you don't know how to create new columns yet check the cheat sheet. Save the result of the previous task in a column, and then use that new column as a helper to calculate the average for each player."
      ],
      "metadata": {
        "collapsed": false,
        "id": "892f9184ce4ead3a"
      },
      "id": "892f9184ce4ead3a"
    },
    {
      "cell_type": "code",
      "execution_count": null,
      "outputs": [],
      "source": [],
      "metadata": {
        "id": "cdcc582f562365ff"
      },
      "id": "cdcc582f562365ff"
    },
    {
      "cell_type": "markdown",
      "source": [
        "## 4.3 Sort the players by the average number of cards per game.\n",
        "Then we sort by this column.\n",
        "\n",
        "*Hint*: Check the cheat sheet for how to sort!"
      ],
      "metadata": {
        "collapsed": false,
        "id": "aafa2e9ae61c2ddc"
      },
      "id": "aafa2e9ae61c2ddc"
    },
    {
      "cell_type": "code",
      "execution_count": null,
      "outputs": [],
      "source": [],
      "metadata": {
        "id": "41f2f599087f9229"
      },
      "id": "41f2f599087f9229"
    },
    {
      "cell_type": "markdown",
      "source": [
        "## 4.4 Print out the top 5 players.\n",
        "This is now very easy to do. We will not use `.head()` this time though.\n",
        "\n",
        "*Hint*: How would you solve this if you were working with a sorted list?"
      ],
      "metadata": {
        "collapsed": false,
        "id": "6b9f8e542c0add68"
      },
      "id": "6b9f8e542c0add68"
    },
    {
      "cell_type": "code",
      "execution_count": null,
      "outputs": [],
      "source": [],
      "metadata": {
        "id": "8877e73c054434ff"
      },
      "id": "8877e73c054434ff"
    },
    {
      "cell_type": "markdown",
      "source": [
        "# 5. Average number of cards per country\n",
        "Do the same as in task 4. but this time for each country. This means we need to group the countries!"
      ],
      "metadata": {
        "collapsed": false,
        "id": "a8737c82fd4ed8d6"
      },
      "id": "a8737c82fd4ed8d6"
    },
    {
      "cell_type": "markdown",
      "source": [
        "## 5.1 Group the data by country.\n",
        "\n",
        "*Hint*: Check the cheat sheet for grouping!"
      ],
      "metadata": {
        "collapsed": false,
        "id": "e9bd2a02ae8c81c4"
      },
      "id": "e9bd2a02ae8c81c4"
    },
    {
      "cell_type": "code",
      "execution_count": null,
      "outputs": [],
      "source": [],
      "metadata": {
        "id": "26eb64f82d50940f"
      },
      "id": "26eb64f82d50940f"
    },
    {
      "cell_type": "markdown",
      "source": [
        "## 5.2 Calculate the average number of cards per game for each country.\n",
        "\n",
        "*Hint*: Remember how you calculated the average number of cards per game for each player! It's not exactly the same here but similar."
      ],
      "metadata": {
        "collapsed": false,
        "id": "b3f64f4f5c713070"
      },
      "id": "b3f64f4f5c713070"
    },
    {
      "cell_type": "code",
      "execution_count": null,
      "outputs": [],
      "source": [],
      "metadata": {
        "id": "adf1a95830a48407"
      },
      "id": "adf1a95830a48407"
    },
    {
      "cell_type": "markdown",
      "source": [
        "# 6. Correlation\n",
        "Let's calculate some correlations.\n",
        "\n",
        "*Hint*: You can use [this](https://pandas.pydata.org/docs/reference/api/pandas.DataFrame.corr.html) function if you don't know or can't find out how to do it.\n",
        "\n",
        "*Hint*: To select numeric columns, you can use `numeric_columns = df.select_dtypes(include=[np.number]).columns`."
      ],
      "metadata": {
        "collapsed": false,
        "id": "12d2310730496b4a"
      },
      "id": "12d2310730496b4a"
    },
    {
      "cell_type": "code",
      "execution_count": null,
      "outputs": [],
      "source": [],
      "metadata": {
        "id": "17bad01f3a302a8d"
      },
      "id": "17bad01f3a302a8d"
    },
    {
      "cell_type": "markdown",
      "source": [
        "## 6.1 Highest correlations per variable\n",
        "For each of the variables, let's find the variable that has the highest correlation with it.\n",
        "\n",
        "*Hint*: Break this down into multiple smaller problems!\n",
        "- How can you calculate the correlations? (You have done this already!)\n",
        "- How can you iterate over the columns?\n",
        "- How can you select each column to get the correlations?\n",
        "- How can you sort the correlation values?\n",
        "- How can you find the highest correlation value?"
      ],
      "metadata": {
        "collapsed": false,
        "id": "b507a794fe2cba2d"
      },
      "id": "b507a794fe2cba2d"
    },
    {
      "cell_type": "code",
      "execution_count": null,
      "outputs": [],
      "source": [],
      "metadata": {
        "id": "d2c197fc1751a078"
      },
      "id": "d2c197fc1751a078"
    },
    {
      "cell_type": "markdown",
      "source": [
        "## 6.2 Interesting correlations\n",
        "Pick out some correlations and explain why you think they are interesting and what might be the cause of them."
      ],
      "metadata": {
        "collapsed": false,
        "id": "8341df1f35791b0d"
      },
      "id": "8341df1f35791b0d"
    },
    {
      "cell_type": "code",
      "source": [],
      "metadata": {
        "id": "03D1GdfQxkox"
      },
      "id": "03D1GdfQxkox",
      "execution_count": null,
      "outputs": []
    },
    {
      "cell_type": "markdown",
      "source": [
        "# 7. Simple Analysis\n",
        "Let's do a simple analysis of skin color and the average number of cards. For this we are going to use a boxplot."
      ],
      "metadata": {
        "collapsed": false,
        "id": "7bbf7d735f7e3eac"
      },
      "id": "7bbf7d735f7e3eac"
    },
    {
      "cell_type": "markdown",
      "source": [
        "Here is an example boxplot. You can adjust the code in the cell below to solve this task. You need to modify the code a bit to use the actual data from the DataFrame."
      ],
      "metadata": {
        "id": "MhrXm7etyDAT"
      },
      "id": "MhrXm7etyDAT"
    },
    {
      "cell_type": "markdown",
      "source": [
        "![](https://www.simplypsychology.org/wp-content/uploads/box-whisker-plot.jpg)"
      ],
      "metadata": {
        "id": "AD9w9oaTn0pT"
      },
      "id": "AD9w9oaTn0pT"
    },
    {
      "cell_type": "code",
      "source": [
        "import pandas as pd\n",
        "import numpy as np\n",
        "import matplotlib.pyplot as plt\n",
        "\n",
        "# Generate example data\n",
        "np.random.seed(0)\n",
        "avg_skin_color = np.random.choice(['Light', 'Medium', 'Dark'], 100)\n",
        "avg_cards_per_game = np.random.rand(100) * 5  # random values between 0 and 5\n",
        "\n",
        "# Create a DataFrame\n",
        "boxplot_values = pd.DataFrame({\n",
        "    'avg_skin_color': avg_skin_color,\n",
        "    'avg_cards_per_game': avg_cards_per_game\n",
        "})\n",
        "\n",
        "# Grouping and preparing data for boxplot\n",
        "grouped = boxplot_values.groupby('avg_skin_color')['avg_cards_per_game']\n",
        "\n",
        "labels = sorted(boxplot_values['avg_skin_color'].unique())\n",
        "\n",
        "data_for_boxplot = [grouped.get_group(label).values for label in labels]\n",
        "\n",
        "# Plotting the boxplot\n",
        "plt.figure(figsize=(10, 6))\n",
        "plt.boxplot(data_for_boxplot, labels=labels, notch=True)\n",
        "plt.title('Boxplot of avg_cards_per_game grouped by avg_skin_color')\n",
        "plt.xlabel('Average Skin Color')\n",
        "plt.ylabel('Average Cards Per Game')\n",
        "plt.show()"
      ],
      "metadata": {
        "id": "d81Va7ZpyFrj"
      },
      "id": "d81Va7ZpyFrj",
      "execution_count": null,
      "outputs": []
    },
    {
      "cell_type": "code",
      "execution_count": null,
      "outputs": [],
      "source": [],
      "metadata": {
        "id": "2c9077069117aeab"
      },
      "id": "2c9077069117aeab"
    }
  ],
  "metadata": {
    "kernelspec": {
      "display_name": "Python 3",
      "language": "python",
      "name": "python3"
    },
    "language_info": {
      "codemirror_mode": {
        "name": "ipython",
        "version": 2
      },
      "file_extension": ".py",
      "mimetype": "text/x-python",
      "name": "python",
      "nbconvert_exporter": "python",
      "pygments_lexer": "ipython2",
      "version": "2.7.6"
    },
    "colab": {
      "provenance": []
    }
  },
  "nbformat": 4,
  "nbformat_minor": 5
}