{
 "cells": [
  {
   "cell_type": "code",
   "execution_count": 1,
   "id": "initial_id",
   "metadata": {
    "collapsed": true,
    "id": "initial_id",
    "ExecuteTime": {
     "end_time": "2023-11-21T13:13:30.238755955Z",
     "start_time": "2023-11-21T13:13:29.511014314Z"
    }
   },
   "outputs": [],
   "source": [
    "import matplotlib.pyplot as plt\n",
    "import numpy as np\n",
    "np.seterr(divide='ignore', invalid='ignore')\n",
    "import pandas as pd\n",
    "# for the progress bar\n",
    "from tqdm.auto import tqdm"
   ]
  },
  {
   "cell_type": "markdown",
   "source": [
    "- [`pandas` Cheat Sheet](https://pandas.pydata.org/Pandas_Cheat_Sheet.pdf)\n",
    "- [`matplotlib` Cheat Sheet](https://matplotlib.org/cheatsheets/_images/cheatsheets-1.png)\n",
    "- [SQL Cheat Sheet](https://www.sqltutorial.org/sql-cheat-sheet/)"
   ],
   "metadata": {
    "collapsed": false,
    "id": "dea9712c782bc7bf"
   },
   "id": "dea9712c782bc7bf"
  },
  {
   "cell_type": "markdown",
   "source": [
    "# Loading the data"
   ],
   "metadata": {
    "collapsed": false,
    "id": "10a6c00f800cbd46"
   },
   "id": "10a6c00f800cbd46"
  },
  {
   "cell_type": "code",
   "execution_count": 2,
   "outputs": [
    {
     "data": {
      "text/plain": "     playerShort         player             club leagueCountry    birthday  \\\n0  lucas-wilchez  Lucas Wilchez    Real Zaragoza         Spain  31.08.1983   \n1     john-utaka     John Utaka  Montpellier HSC        France  08.01.1982   \n2    abdon-prats    Abdón Prats     RCD Mallorca         Spain  17.12.1992   \n3     pablo-mari     Pablo Marí     RCD Mallorca         Spain  31.08.1993   \n4     ruben-pena     Rubén Peña  Real Valladolid         Spain  18.07.1991   \n\n   height  weight              position  games  victories  ...  rater2  \\\n0   177.0    72.0  Attacking Midfielder      1          0  ...    0.50   \n1   179.0    82.0          Right Winger      1          0  ...    0.75   \n2   181.0    79.0                   NaN      1          0  ...     NaN   \n3   191.0    87.0           Center Back      1          1  ...     NaN   \n4   172.0    70.0      Right Midfielder      1          1  ...     NaN   \n\n   refNum  refCountry  Alpha_3   meanIAT    nIAT     seIAT   meanExp    nExp  \\\n0       1           1      GRC  0.326391   712.0  0.000564  0.396000   750.0   \n1       2           2      ZMB  0.203375    40.0  0.010875 -0.204082    49.0   \n2       3           3      ESP  0.369894  1785.0  0.000229  0.588297  1897.0   \n3       3           3      ESP  0.369894  1785.0  0.000229  0.588297  1897.0   \n4       3           3      ESP  0.369894  1785.0  0.000229  0.588297  1897.0   \n\n      seExp  \n0  0.002696  \n1  0.061504  \n2  0.001002  \n3  0.001002  \n4  0.001002  \n\n[5 rows x 28 columns]",
      "text/html": "<div>\n<style scoped>\n    .dataframe tbody tr th:only-of-type {\n        vertical-align: middle;\n    }\n\n    .dataframe tbody tr th {\n        vertical-align: top;\n    }\n\n    .dataframe thead th {\n        text-align: right;\n    }\n</style>\n<table border=\"1\" class=\"dataframe\">\n  <thead>\n    <tr style=\"text-align: right;\">\n      <th></th>\n      <th>playerShort</th>\n      <th>player</th>\n      <th>club</th>\n      <th>leagueCountry</th>\n      <th>birthday</th>\n      <th>height</th>\n      <th>weight</th>\n      <th>position</th>\n      <th>games</th>\n      <th>victories</th>\n      <th>...</th>\n      <th>rater2</th>\n      <th>refNum</th>\n      <th>refCountry</th>\n      <th>Alpha_3</th>\n      <th>meanIAT</th>\n      <th>nIAT</th>\n      <th>seIAT</th>\n      <th>meanExp</th>\n      <th>nExp</th>\n      <th>seExp</th>\n    </tr>\n  </thead>\n  <tbody>\n    <tr>\n      <th>0</th>\n      <td>lucas-wilchez</td>\n      <td>Lucas Wilchez</td>\n      <td>Real Zaragoza</td>\n      <td>Spain</td>\n      <td>31.08.1983</td>\n      <td>177.0</td>\n      <td>72.0</td>\n      <td>Attacking Midfielder</td>\n      <td>1</td>\n      <td>0</td>\n      <td>...</td>\n      <td>0.50</td>\n      <td>1</td>\n      <td>1</td>\n      <td>GRC</td>\n      <td>0.326391</td>\n      <td>712.0</td>\n      <td>0.000564</td>\n      <td>0.396000</td>\n      <td>750.0</td>\n      <td>0.002696</td>\n    </tr>\n    <tr>\n      <th>1</th>\n      <td>john-utaka</td>\n      <td>John Utaka</td>\n      <td>Montpellier HSC</td>\n      <td>France</td>\n      <td>08.01.1982</td>\n      <td>179.0</td>\n      <td>82.0</td>\n      <td>Right Winger</td>\n      <td>1</td>\n      <td>0</td>\n      <td>...</td>\n      <td>0.75</td>\n      <td>2</td>\n      <td>2</td>\n      <td>ZMB</td>\n      <td>0.203375</td>\n      <td>40.0</td>\n      <td>0.010875</td>\n      <td>-0.204082</td>\n      <td>49.0</td>\n      <td>0.061504</td>\n    </tr>\n    <tr>\n      <th>2</th>\n      <td>abdon-prats</td>\n      <td>Abdón Prats</td>\n      <td>RCD Mallorca</td>\n      <td>Spain</td>\n      <td>17.12.1992</td>\n      <td>181.0</td>\n      <td>79.0</td>\n      <td>NaN</td>\n      <td>1</td>\n      <td>0</td>\n      <td>...</td>\n      <td>NaN</td>\n      <td>3</td>\n      <td>3</td>\n      <td>ESP</td>\n      <td>0.369894</td>\n      <td>1785.0</td>\n      <td>0.000229</td>\n      <td>0.588297</td>\n      <td>1897.0</td>\n      <td>0.001002</td>\n    </tr>\n    <tr>\n      <th>3</th>\n      <td>pablo-mari</td>\n      <td>Pablo Marí</td>\n      <td>RCD Mallorca</td>\n      <td>Spain</td>\n      <td>31.08.1993</td>\n      <td>191.0</td>\n      <td>87.0</td>\n      <td>Center Back</td>\n      <td>1</td>\n      <td>1</td>\n      <td>...</td>\n      <td>NaN</td>\n      <td>3</td>\n      <td>3</td>\n      <td>ESP</td>\n      <td>0.369894</td>\n      <td>1785.0</td>\n      <td>0.000229</td>\n      <td>0.588297</td>\n      <td>1897.0</td>\n      <td>0.001002</td>\n    </tr>\n    <tr>\n      <th>4</th>\n      <td>ruben-pena</td>\n      <td>Rubén Peña</td>\n      <td>Real Valladolid</td>\n      <td>Spain</td>\n      <td>18.07.1991</td>\n      <td>172.0</td>\n      <td>70.0</td>\n      <td>Right Midfielder</td>\n      <td>1</td>\n      <td>1</td>\n      <td>...</td>\n      <td>NaN</td>\n      <td>3</td>\n      <td>3</td>\n      <td>ESP</td>\n      <td>0.369894</td>\n      <td>1785.0</td>\n      <td>0.000229</td>\n      <td>0.588297</td>\n      <td>1897.0</td>\n      <td>0.001002</td>\n    </tr>\n  </tbody>\n</table>\n<p>5 rows × 28 columns</p>\n</div>"
     },
     "execution_count": 2,
     "metadata": {},
     "output_type": "execute_result"
    }
   ],
   "source": [
    "df = pd.read_csv('https://drive.switch.ch/index.php/s/UEpTFv2Bfa5C1dd/download')\n",
    "df.head()"
   ],
   "metadata": {
    "id": "dbbb55920a066c05",
    "outputId": "5a6365ef-348c-404a-e7ca-3865684eac68",
    "colab": {
     "base_uri": "https://localhost:8080/",
     "height": 342
    },
    "ExecuteTime": {
     "end_time": "2023-11-21T13:13:32.419548412Z",
     "start_time": "2023-11-21T13:13:30.278642829Z"
    }
   },
   "id": "dbbb55920a066c05"
  },
  {
   "cell_type": "markdown",
   "source": [
    "This week we keep the `NaN` values."
   ],
   "metadata": {
    "collapsed": false,
    "id": "942744c46eafe2b7",
    "ExecuteTime": {
     "end_time": "2023-10-30T10:29:23.725118162Z",
     "start_time": "2023-10-30T10:29:23.702230656Z"
    }
   },
   "id": "942744c46eafe2b7"
  },
  {
   "cell_type": "code",
   "execution_count": 3,
   "outputs": [],
   "source": [
    "# df = df.dropna()"
   ],
   "metadata": {
    "id": "7d1d63bf868c148c",
    "ExecuteTime": {
     "end_time": "2023-11-21T13:13:32.420875284Z",
     "start_time": "2023-11-21T13:13:32.410278886Z"
    }
   },
   "id": "7d1d63bf868c148c"
  },
  {
   "cell_type": "markdown",
   "source": [
    "# Repeat: Estimating position\n",
    "\n",
    "For the 'position' column, estimate the position of the missing value, by finding the player that is most similar to the one whose value is missing, and using their position.\n",
    "\n",
    "Use the following formula for the *cosine similarity* of the two vectors _a_ and _b_.:\n",
    "\n",
    "$$\n",
    "d(a, b) = \\frac{a \\cdot b}{ \\|a\\| \\|b\\| }\n",
    "$$\n",
    "\n",
    "Note, that the \"multiplication\" of two vectors is the **dot** product and the $ \\| $ gives the **magnitude** (or **norm**) of a vector."
   ],
   "metadata": {
    "collapsed": false,
    "id": "34f3c11ebfefef58"
   },
   "id": "34f3c11ebfefef58"
  },
  {
   "cell_type": "code",
   "execution_count": 4,
   "outputs": [],
   "source": [
    "feature_columns = ['height', 'weight', 'games', 'victories', 'ties', 'defeats', 'goals', 'yellowCards', 'yellowReds', 'redCards']"
   ],
   "metadata": {
    "collapsed": false,
    "ExecuteTime": {
     "end_time": "2023-11-21T13:13:32.423780682Z",
     "start_time": "2023-11-21T13:13:32.416046922Z"
    }
   },
   "id": "11ed2bd0f3f62bbb"
  },
  {
   "cell_type": "code",
   "execution_count": 5,
   "outputs": [
    {
     "data": {
      "text/plain": "array([[181.,  79.,   1., ...,   1.,   0.,   0.],\n       [185.,  74.,   1., ...,   0.,   0.,   0.],\n       [180.,  68.,   1., ...,   0.,   0.,   0.],\n       ...,\n       [182.,  88.,   1., ...,   0.,   0.,   0.],\n       [191.,  84.,   1., ...,   1.,   0.,   0.],\n       [188.,  81.,   1., ...,   0.,   0.,   0.]])"
     },
     "execution_count": 5,
     "metadata": {},
     "output_type": "execute_result"
    }
   ],
   "source": [
    "missing_positions = df[df['position'].isna()]\n",
    "\n",
    "# drop all rows with missing features\n",
    "missing_positions = missing_positions.dropna(subset=feature_columns)\n",
    "\n",
    "# vectorize the features\n",
    "missing_positions_vec = missing_positions[feature_columns].values\n",
    "\n",
    "missing_positions_vec"
   ],
   "metadata": {
    "id": "44f744fd65a6f5e7",
    "ExecuteTime": {
     "end_time": "2023-11-21T13:13:32.443446449Z",
     "start_time": "2023-11-21T13:13:32.421383786Z"
    }
   },
   "id": "44f744fd65a6f5e7"
  },
  {
   "cell_type": "markdown",
   "source": [
    "# Repeat - Vectorize the positions\n",
    "\n",
    "For each position, calculate a vector representing that position. To do so, take the values of each player, and calculate an average vector each position."
   ],
   "metadata": {
    "collapsed": false
   },
   "id": "9870e2fc1f063ca0"
  },
  {
   "cell_type": "code",
   "execution_count": 6,
   "outputs": [],
   "source": [
    "# calculate vector for each position\n",
    "positions = df[~df['position'].isna()]['position'].unique()\n",
    "position_vectors = {}\n",
    "for position in positions:\n",
    "    position_players = df[df['position'] == position]\n",
    "    position_players = position_players.dropna()  # drop those with missing values\n",
    "    \n",
    "    # vectorize\n",
    "    position_vector = position_players[feature_columns].values\n",
    "    \n",
    "    # calculate average vector\n",
    "    position_vectors[position] = position_vector.mean(axis=0)"
   ],
   "metadata": {
    "colab": {
     "base_uri": "https://localhost:8080/"
    },
    "id": "c8722014b7e000f0",
    "outputId": "6b0edcf0-78b4-4261-8c4b-1495be652941",
    "ExecuteTime": {
     "end_time": "2023-11-21T13:13:32.580861043Z",
     "start_time": "2023-11-21T13:13:32.439854295Z"
    }
   },
   "id": "c8722014b7e000f0"
  },
  {
   "cell_type": "code",
   "execution_count": 7,
   "outputs": [
    {
     "data": {
      "text/plain": "array(['Attacking Midfielder', 'Right Winger', 'Center Back',\n       'Right Midfielder', 'Left Fullback', 'Defensive Midfielder',\n       'Goalkeeper', 'Right Fullback', 'Left Winger', 'Left Midfielder',\n       'Center Forward', 'Center Midfielder'], dtype=object)"
     },
     "execution_count": 7,
     "metadata": {},
     "output_type": "execute_result"
    }
   ],
   "source": [
    "positions"
   ],
   "metadata": {
    "collapsed": false,
    "ExecuteTime": {
     "end_time": "2023-11-21T13:13:32.627270692Z",
     "start_time": "2023-11-21T13:13:32.581545875Z"
    }
   },
   "id": "2e2bac7214606208"
  },
  {
   "cell_type": "code",
   "execution_count": 8,
   "outputs": [
    {
     "data": {
      "text/plain": "{'Attacking Midfielder': array([1.77547457e+02, 7.21203867e+01, 2.90759505e+00, 1.34823836e+00,\n        6.70633076e-01, 8.88723622e-01, 4.71971739e-01, 3.59579808e-01,\n        8.18071953e-03, 7.34405503e-03]),\n 'Right Winger': array([1.77538147e+02, 7.30531335e+01, 3.00797976e+00, 1.40618918e+00,\n        7.05527443e-01, 8.96263137e-01, 7.37251849e-01, 3.13156870e-01,\n        6.22810432e-03, 1.20669521e-02]),\n 'Center Back': array([1.87258714e+02, 8.08175303e+01, 3.03548969e+00, 1.38283040e+00,\n        7.22858675e-01, 9.29800614e-01, 1.56924877e-01, 4.86228246e-01,\n        1.79398430e-02, 2.00848243e-02]),\n 'Right Midfielder': array([1.76354720e+02, 7.08107583e+01, 3.16655865e+00, 1.35515230e+00,\n        7.78137827e-01, 1.03326852e+00, 3.78915533e-01, 4.06567293e-01,\n        1.08014690e-02, 7.99308706e-03]),\n 'Left Fullback': array([1.79579545e+02, 7.48155080e+01, 2.95978164e+00, 1.33511586e+00,\n        7.09447415e-01, 9.15218360e-01, 1.14193405e-01, 4.37834225e-01,\n        1.39260250e-02, 1.35918004e-02]),\n 'Defensive Midfielder': array([1.81404502e+02, 7.52783690e+01, 3.07773623e+00, 1.39659140e+00,\n        7.39608802e-01, 9.41536028e-01, 1.89055084e-01, 5.80325040e-01,\n        1.94160794e-02, 1.28002301e-02]),\n 'Goalkeeper': array([1.89847237e+02, 8.45494366e+01, 2.99600145e+00, 1.30234460e+00,\n        7.26281352e-01, 9.67375500e-01, 9.08760451e-04, 1.36768448e-01,\n        1.09051254e-03, 1.28135224e-02]),\n 'Right Fullback': array([1.79767063e+02, 7.42623068e+01, 3.16932224e+00, 1.44780024e+00,\n        7.58977408e-01, 9.62544590e-01, 1.08561237e-01, 5.19857313e-01,\n        1.74791914e-02, 1.21284185e-02]),\n 'Left Winger': array([1.79196087e+02, 7.38003557e+01, 3.15140062e+00, 1.46598488e+00,\n        7.44330814e-01, 9.41084927e-01, 7.36994220e-01, 3.59493108e-01,\n        8.00355714e-03, 8.44819920e-03]),\n 'Left Midfielder': array([1.76942494e+02, 7.09292848e+01, 3.13224871e+00, 1.31684923e+00,\n        7.46456186e-01, 1.06894330e+00, 3.97390464e-01, 3.95296392e-01,\n        1.38530928e-02, 1.17590206e-02]),\n 'Center Forward': array([1.83354108e+02, 7.77698150e+01, 2.93014285e+00, 1.29799289e+00,\n        6.96823579e-01, 9.35326382e-01, 9.36230486e-01, 3.05225725e-01,\n        8.25748900e-03, 1.05478874e-02]),\n 'Center Midfielder': array([1.80631655e+02, 7.49693391e+01, 3.18831572e+00, 1.60907396e+00,\n        7.08514605e-01, 8.70727160e-01, 3.88440025e-01, 4.90573855e-01,\n        1.40874249e-02, 1.22229128e-02])}"
     },
     "execution_count": 8,
     "metadata": {},
     "output_type": "execute_result"
    }
   ],
   "source": [
    "position_vectors"
   ],
   "metadata": {
    "colab": {
     "base_uri": "https://localhost:8080/"
    },
    "id": "94c95988c487634d",
    "outputId": "0f17653a-7604-4dc0-a67d-2796aa082365",
    "ExecuteTime": {
     "end_time": "2023-11-21T13:13:32.627823298Z",
     "start_time": "2023-11-21T13:13:32.626442293Z"
    }
   },
   "id": "94c95988c487634d"
  },
  {
   "cell_type": "code",
   "source": [
    "def cosine_similarity(\n",
    "        a: np.array, \n",
    "        b: np.array\n",
    ") -> float:\n",
    "    return np.dot(a, b) / (np.linalg.norm(a) * np.linalg.norm(b))"
   ],
   "metadata": {
    "id": "yFUU33kZAyIl",
    "ExecuteTime": {
     "end_time": "2023-11-21T13:13:32.628750378Z",
     "start_time": "2023-11-21T13:13:32.626725279Z"
    }
   },
   "id": "yFUU33kZAyIl",
   "execution_count": 9,
   "outputs": []
  },
  {
   "cell_type": "code",
   "execution_count": 10,
   "outputs": [],
   "source": [
    "def estimate_player_position(\n",
    "        player_vectors: np.array,\n",
    "        position_vectors: np.array\n",
    ") -> list[str]:\n",
    "    estimated_positions = []\n",
    "    for player_vec in player_vectors:\n",
    "        sims = []\n",
    "        for position, position_vector in position_vectors.items():\n",
    "            # calculate cosine similarity\n",
    "            similarity = cosine_similarity(a=player_vec, b=position_vector)\n",
    "            sims.append((position, similarity))\n",
    "        # sort by similarity\n",
    "        sims = sorted(sims, key=lambda x: x[1], reverse=True)\n",
    "        # take the most similar position\n",
    "        estimated_positions.append((sims[0][0]))\n",
    "    return estimated_positions\n",
    "\n",
    "missing_estimates = estimate_player_position(missing_positions_vec, position_vectors)"
   ],
   "metadata": {
    "colab": {
     "base_uri": "https://localhost:8080/"
    },
    "id": "7a3b71ce693b4959",
    "outputId": "e2024333-219e-445f-ca06-752e66f119e5",
    "ExecuteTime": {
     "end_time": "2023-11-21T13:13:33.348018664Z",
     "start_time": "2023-11-21T13:13:32.626911619Z"
    }
   },
   "id": "7a3b71ce693b4959"
  },
  {
   "cell_type": "code",
   "execution_count": 11,
   "outputs": [
    {
     "data": {
      "text/plain": "['Center Back',\n 'Left Midfielder',\n 'Left Midfielder',\n 'Center Midfielder',\n 'Left Midfielder',\n 'Goalkeeper',\n 'Left Midfielder',\n 'Center Back',\n 'Right Fullback',\n 'Center Forward',\n 'Left Midfielder',\n 'Left Fullback',\n 'Right Winger',\n 'Center Midfielder',\n 'Center Midfielder',\n 'Left Fullback',\n 'Left Midfielder',\n 'Center Back',\n 'Attacking Midfielder',\n 'Left Midfielder',\n 'Left Fullback',\n 'Left Midfielder',\n 'Left Fullback',\n 'Left Fullback',\n 'Left Midfielder',\n 'Left Midfielder',\n 'Goalkeeper',\n 'Left Midfielder',\n 'Left Midfielder',\n 'Attacking Midfielder',\n 'Left Midfielder',\n 'Left Midfielder',\n 'Center Forward',\n 'Center Forward',\n 'Goalkeeper',\n 'Center Back',\n 'Goalkeeper',\n 'Attacking Midfielder',\n 'Left Midfielder',\n 'Center Back',\n 'Right Midfielder',\n 'Left Midfielder',\n 'Left Midfielder',\n 'Goalkeeper',\n 'Left Midfielder',\n 'Attacking Midfielder',\n 'Right Midfielder',\n 'Left Midfielder',\n 'Right Midfielder',\n 'Center Forward',\n 'Left Midfielder',\n 'Left Fullback',\n 'Center Back',\n 'Center Back',\n 'Goalkeeper',\n 'Goalkeeper',\n 'Left Winger',\n 'Attacking Midfielder',\n 'Defensive Midfielder',\n 'Goalkeeper',\n 'Left Winger',\n 'Left Midfielder',\n 'Right Midfielder',\n 'Center Back',\n 'Left Midfielder',\n 'Left Midfielder',\n 'Goalkeeper',\n 'Goalkeeper',\n 'Attacking Midfielder',\n 'Goalkeeper',\n 'Center Forward',\n 'Left Midfielder',\n 'Left Midfielder',\n 'Center Back',\n 'Left Midfielder',\n 'Center Midfielder',\n 'Left Midfielder',\n 'Defensive Midfielder',\n 'Center Back',\n 'Center Back',\n 'Left Midfielder',\n 'Center Midfielder',\n 'Left Winger',\n 'Attacking Midfielder',\n 'Left Midfielder',\n 'Left Midfielder',\n 'Left Midfielder',\n 'Center Forward',\n 'Left Midfielder',\n 'Center Back',\n 'Left Midfielder',\n 'Center Back',\n 'Left Midfielder',\n 'Center Back',\n 'Left Midfielder',\n 'Left Midfielder',\n 'Left Midfielder',\n 'Center Forward',\n 'Center Forward',\n 'Center Forward',\n 'Goalkeeper',\n 'Left Midfielder',\n 'Attacking Midfielder',\n 'Center Back',\n 'Attacking Midfielder',\n 'Attacking Midfielder',\n 'Left Midfielder',\n 'Left Midfielder',\n 'Left Midfielder',\n 'Left Fullback',\n 'Center Back',\n 'Left Fullback',\n 'Right Midfielder',\n 'Left Midfielder',\n 'Left Midfielder',\n 'Left Midfielder',\n 'Left Midfielder',\n 'Left Midfielder',\n 'Goalkeeper',\n 'Attacking Midfielder',\n 'Goalkeeper',\n 'Left Midfielder',\n 'Left Fullback',\n 'Center Back',\n 'Center Back',\n 'Left Midfielder',\n 'Left Midfielder',\n 'Left Midfielder',\n 'Left Midfielder',\n 'Goalkeeper',\n 'Goalkeeper',\n 'Left Midfielder',\n 'Left Midfielder',\n 'Left Midfielder',\n 'Left Midfielder',\n 'Left Midfielder',\n 'Attacking Midfielder',\n 'Goalkeeper',\n 'Left Midfielder',\n 'Left Midfielder',\n 'Center Midfielder',\n 'Left Fullback',\n 'Center Back',\n 'Attacking Midfielder',\n 'Left Midfielder',\n 'Left Fullback',\n 'Left Fullback',\n 'Attacking Midfielder',\n 'Goalkeeper',\n 'Left Midfielder',\n 'Left Midfielder',\n 'Left Midfielder',\n 'Right Midfielder',\n 'Center Forward',\n 'Center Back',\n 'Goalkeeper',\n 'Goalkeeper',\n 'Left Fullback',\n 'Goalkeeper',\n 'Left Midfielder',\n 'Left Midfielder',\n 'Goalkeeper',\n 'Left Fullback',\n 'Attacking Midfielder',\n 'Left Fullback',\n 'Goalkeeper',\n 'Left Midfielder',\n 'Center Forward',\n 'Left Fullback',\n 'Attacking Midfielder',\n 'Left Midfielder',\n 'Left Fullback',\n 'Attacking Midfielder',\n 'Attacking Midfielder',\n 'Left Midfielder',\n 'Left Midfielder',\n 'Goalkeeper',\n 'Right Midfielder',\n 'Left Midfielder',\n 'Goalkeeper',\n 'Left Fullback',\n 'Center Back',\n 'Center Back',\n 'Left Fullback',\n 'Left Midfielder',\n 'Left Fullback',\n 'Left Fullback',\n 'Attacking Midfielder',\n 'Left Midfielder',\n 'Attacking Midfielder',\n 'Left Fullback',\n 'Attacking Midfielder',\n 'Left Midfielder',\n 'Left Midfielder',\n 'Left Midfielder',\n 'Center Midfielder',\n 'Left Fullback',\n 'Right Fullback',\n 'Right Fullback',\n 'Left Fullback',\n 'Right Midfielder',\n 'Center Back',\n 'Left Midfielder',\n 'Left Midfielder',\n 'Left Midfielder',\n 'Goalkeeper',\n 'Attacking Midfielder',\n 'Left Fullback',\n 'Attacking Midfielder',\n 'Left Midfielder',\n 'Left Midfielder',\n 'Left Midfielder',\n 'Attacking Midfielder',\n 'Goalkeeper',\n 'Left Midfielder',\n 'Center Forward',\n 'Right Midfielder',\n 'Left Midfielder',\n 'Left Winger',\n 'Attacking Midfielder',\n 'Center Midfielder',\n 'Right Fullback',\n 'Center Back',\n 'Left Fullback',\n 'Left Fullback',\n 'Attacking Midfielder',\n 'Left Midfielder',\n 'Right Midfielder',\n 'Left Midfielder',\n 'Center Back',\n 'Left Midfielder',\n 'Left Midfielder',\n 'Attacking Midfielder',\n 'Left Midfielder',\n 'Right Midfielder',\n 'Left Midfielder',\n 'Right Midfielder',\n 'Center Back',\n 'Left Midfielder',\n 'Center Forward',\n 'Center Back',\n 'Goalkeeper',\n 'Left Midfielder',\n 'Goalkeeper',\n 'Left Midfielder',\n 'Goalkeeper',\n 'Left Midfielder',\n 'Goalkeeper',\n 'Left Midfielder',\n 'Goalkeeper',\n 'Left Fullback',\n 'Left Midfielder',\n 'Right Midfielder',\n 'Center Forward',\n 'Attacking Midfielder',\n 'Center Back',\n 'Center Back',\n 'Goalkeeper',\n 'Goalkeeper',\n 'Goalkeeper',\n 'Attacking Midfielder',\n 'Attacking Midfielder',\n 'Center Forward',\n 'Left Midfielder',\n 'Left Midfielder',\n 'Left Midfielder',\n 'Center Back',\n 'Center Forward',\n 'Goalkeeper',\n 'Center Back',\n 'Left Fullback',\n 'Left Midfielder',\n 'Left Midfielder',\n 'Left Midfielder',\n 'Left Midfielder',\n 'Left Fullback',\n 'Left Midfielder',\n 'Left Midfielder',\n 'Goalkeeper',\n 'Left Midfielder',\n 'Center Forward',\n 'Left Midfielder',\n 'Left Midfielder',\n 'Attacking Midfielder',\n 'Center Back',\n 'Center Forward',\n 'Left Midfielder',\n 'Center Back',\n 'Left Midfielder',\n 'Center Back',\n 'Goalkeeper',\n 'Attacking Midfielder',\n 'Left Midfielder',\n 'Attacking Midfielder',\n 'Left Fullback',\n 'Left Midfielder',\n 'Goalkeeper',\n 'Left Midfielder',\n 'Center Back',\n 'Left Midfielder',\n 'Left Midfielder',\n 'Goalkeeper',\n 'Attacking Midfielder',\n 'Left Midfielder',\n 'Left Midfielder',\n 'Left Midfielder',\n 'Left Midfielder',\n 'Left Midfielder',\n 'Left Midfielder',\n 'Left Midfielder',\n 'Goalkeeper',\n 'Left Midfielder',\n 'Left Midfielder',\n 'Left Midfielder',\n 'Left Midfielder',\n 'Left Midfielder',\n 'Center Back',\n 'Attacking Midfielder',\n 'Center Back',\n 'Center Forward',\n 'Center Back',\n 'Center Back',\n 'Center Back',\n 'Left Fullback',\n 'Left Midfielder',\n 'Left Midfielder',\n 'Left Midfielder',\n 'Left Midfielder',\n 'Left Fullback',\n 'Left Midfielder',\n 'Left Midfielder',\n 'Center Forward',\n 'Goalkeeper',\n 'Center Forward',\n 'Center Back',\n 'Center Forward',\n 'Left Midfielder',\n 'Left Midfielder',\n 'Attacking Midfielder',\n 'Center Back',\n 'Left Midfielder',\n 'Left Midfielder',\n 'Right Midfielder',\n 'Center Forward',\n 'Left Midfielder',\n 'Left Midfielder',\n 'Left Midfielder',\n 'Left Midfielder',\n 'Right Midfielder',\n 'Left Midfielder',\n 'Center Back',\n 'Center Forward',\n 'Left Midfielder',\n 'Attacking Midfielder',\n 'Left Midfielder',\n 'Attacking Midfielder',\n 'Center Back',\n 'Left Midfielder',\n 'Attacking Midfielder',\n 'Attacking Midfielder',\n 'Attacking Midfielder',\n 'Attacking Midfielder',\n 'Left Fullback',\n 'Left Midfielder',\n 'Left Fullback',\n 'Attacking Midfielder',\n 'Goalkeeper',\n 'Left Midfielder',\n 'Left Midfielder',\n 'Center Back',\n 'Left Midfielder',\n 'Left Midfielder',\n 'Attacking Midfielder',\n 'Attacking Midfielder',\n 'Left Fullback',\n 'Left Midfielder',\n 'Left Midfielder',\n 'Left Fullback',\n 'Left Midfielder',\n 'Attacking Midfielder',\n 'Left Midfielder',\n 'Left Midfielder',\n 'Goalkeeper',\n 'Center Back',\n 'Attacking Midfielder',\n 'Center Forward',\n 'Attacking Midfielder',\n 'Left Midfielder',\n 'Left Fullback',\n 'Attacking Midfielder',\n 'Right Winger',\n 'Left Fullback',\n 'Center Forward',\n 'Left Midfielder',\n 'Left Midfielder',\n 'Left Midfielder',\n 'Center Back',\n 'Goalkeeper',\n 'Left Midfielder',\n 'Attacking Midfielder',\n 'Center Back',\n 'Left Fullback',\n 'Left Midfielder',\n 'Center Back',\n 'Center Back',\n 'Goalkeeper',\n 'Left Midfielder',\n 'Center Back',\n 'Attacking Midfielder',\n 'Center Forward',\n 'Left Midfielder',\n 'Left Winger',\n 'Left Fullback',\n 'Right Fullback',\n 'Left Winger',\n 'Defensive Midfielder',\n 'Center Midfielder',\n 'Left Midfielder',\n 'Center Back',\n 'Right Fullback',\n 'Left Midfielder',\n 'Center Forward',\n 'Left Midfielder',\n 'Left Midfielder',\n 'Center Forward',\n 'Left Fullback',\n 'Right Midfielder',\n 'Attacking Midfielder',\n 'Left Midfielder',\n 'Left Midfielder',\n 'Goalkeeper',\n 'Attacking Midfielder',\n 'Right Fullback',\n 'Defensive Midfielder',\n 'Left Midfielder',\n 'Left Midfielder',\n 'Center Forward',\n 'Center Forward',\n 'Left Midfielder',\n 'Left Midfielder',\n 'Right Fullback',\n 'Goalkeeper',\n 'Center Back',\n 'Goalkeeper',\n 'Left Midfielder',\n 'Left Midfielder',\n 'Center Back',\n 'Attacking Midfielder',\n 'Left Midfielder',\n 'Left Midfielder',\n 'Left Midfielder',\n 'Left Midfielder',\n 'Left Midfielder',\n 'Left Midfielder',\n 'Center Forward',\n 'Left Midfielder',\n 'Goalkeeper',\n 'Left Midfielder',\n 'Left Winger',\n 'Attacking Midfielder',\n 'Left Midfielder',\n 'Right Midfielder',\n 'Center Midfielder',\n 'Left Midfielder',\n 'Center Forward',\n 'Center Back',\n 'Center Back',\n 'Goalkeeper',\n 'Goalkeeper',\n 'Center Forward',\n 'Left Midfielder',\n 'Right Fullback',\n 'Left Fullback',\n 'Goalkeeper',\n 'Goalkeeper',\n 'Right Midfielder',\n 'Left Fullback',\n 'Goalkeeper',\n 'Left Fullback',\n 'Left Midfielder',\n 'Center Forward',\n 'Left Midfielder',\n 'Left Midfielder',\n 'Right Midfielder',\n 'Left Midfielder',\n 'Left Midfielder',\n 'Goalkeeper',\n 'Goalkeeper',\n 'Left Midfielder',\n 'Goalkeeper',\n 'Center Forward',\n 'Left Midfielder',\n 'Left Fullback',\n 'Left Midfielder',\n 'Left Midfielder',\n 'Attacking Midfielder',\n 'Attacking Midfielder',\n 'Right Winger',\n 'Center Back',\n 'Right Midfielder',\n 'Attacking Midfielder',\n 'Center Back',\n 'Left Midfielder',\n 'Left Fullback',\n 'Right Fullback',\n 'Attacking Midfielder',\n 'Goalkeeper',\n 'Left Midfielder',\n 'Left Midfielder',\n 'Left Fullback',\n 'Left Midfielder',\n 'Center Midfielder',\n 'Center Back',\n 'Goalkeeper',\n 'Left Midfielder',\n 'Right Winger',\n 'Left Fullback',\n 'Left Fullback',\n 'Left Midfielder',\n 'Left Fullback',\n 'Goalkeeper',\n 'Attacking Midfielder',\n 'Left Midfielder',\n 'Goalkeeper',\n 'Left Midfielder',\n 'Left Midfielder',\n 'Left Midfielder',\n 'Left Midfielder',\n 'Left Fullback',\n 'Right Winger',\n 'Goalkeeper',\n 'Attacking Midfielder',\n 'Left Midfielder',\n 'Center Forward',\n 'Left Midfielder',\n 'Attacking Midfielder',\n 'Right Midfielder',\n 'Left Midfielder',\n 'Attacking Midfielder',\n 'Attacking Midfielder',\n 'Left Fullback',\n 'Left Midfielder',\n 'Left Fullback',\n 'Left Fullback',\n 'Attacking Midfielder',\n 'Center Back',\n 'Attacking Midfielder',\n 'Left Fullback',\n 'Left Fullback',\n 'Center Back',\n 'Left Midfielder',\n 'Center Back',\n 'Attacking Midfielder',\n 'Goalkeeper',\n 'Left Midfielder',\n 'Left Midfielder',\n 'Left Fullback',\n 'Attacking Midfielder',\n 'Center Back',\n 'Left Fullback',\n 'Center Back',\n 'Center Back',\n 'Center Back',\n 'Center Back',\n 'Left Midfielder',\n 'Left Midfielder',\n 'Left Fullback',\n 'Left Midfielder',\n 'Left Midfielder',\n 'Goalkeeper',\n 'Center Back',\n 'Center Forward',\n 'Left Midfielder',\n 'Left Midfielder',\n 'Left Midfielder',\n 'Right Fullback',\n 'Center Back',\n 'Center Back',\n 'Right Midfielder',\n 'Attacking Midfielder',\n 'Left Midfielder',\n 'Left Midfielder',\n 'Left Midfielder',\n 'Left Midfielder',\n 'Attacking Midfielder',\n 'Goalkeeper',\n 'Goalkeeper',\n 'Left Midfielder',\n 'Attacking Midfielder',\n 'Goalkeeper',\n 'Left Midfielder',\n 'Left Midfielder',\n 'Center Back',\n 'Goalkeeper',\n 'Left Fullback',\n 'Attacking Midfielder',\n 'Left Midfielder',\n 'Left Midfielder',\n 'Right Winger',\n 'Left Midfielder',\n 'Left Midfielder',\n 'Goalkeeper',\n 'Left Midfielder',\n 'Goalkeeper',\n 'Center Back',\n 'Left Midfielder',\n 'Goalkeeper',\n 'Left Fullback',\n 'Right Midfielder',\n 'Left Midfielder',\n 'Right Winger',\n 'Left Midfielder',\n 'Left Midfielder',\n 'Left Midfielder',\n 'Attacking Midfielder',\n 'Goalkeeper',\n 'Attacking Midfielder',\n 'Left Midfielder',\n 'Goalkeeper',\n 'Left Midfielder',\n 'Left Midfielder',\n 'Left Midfielder',\n 'Left Midfielder',\n 'Left Midfielder',\n 'Goalkeeper',\n 'Left Fullback',\n 'Left Midfielder',\n 'Left Midfielder',\n 'Left Midfielder',\n 'Left Midfielder',\n 'Left Midfielder',\n 'Left Midfielder',\n 'Left Fullback',\n 'Center Forward',\n 'Left Fullback',\n 'Attacking Midfielder',\n 'Left Midfielder',\n 'Attacking Midfielder',\n 'Goalkeeper',\n 'Left Midfielder',\n 'Left Midfielder',\n 'Attacking Midfielder',\n 'Left Fullback',\n 'Goalkeeper',\n 'Center Forward',\n 'Left Midfielder',\n 'Left Midfielder',\n 'Left Midfielder',\n 'Center Back',\n 'Center Back',\n 'Goalkeeper',\n 'Left Fullback',\n 'Center Midfielder',\n 'Left Midfielder',\n 'Goalkeeper',\n 'Left Midfielder',\n 'Center Back',\n 'Left Midfielder',\n 'Center Forward',\n 'Center Back',\n 'Attacking Midfielder',\n 'Center Forward',\n 'Left Midfielder',\n 'Center Midfielder',\n 'Left Fullback',\n 'Right Fullback',\n 'Left Fullback',\n 'Center Midfielder',\n 'Left Fullback',\n 'Left Midfielder',\n 'Center Back',\n 'Left Midfielder',\n 'Center Back',\n 'Left Winger',\n 'Left Midfielder',\n 'Center Forward',\n 'Left Midfielder',\n 'Left Fullback',\n 'Right Fullback',\n 'Attacking Midfielder',\n 'Left Midfielder',\n 'Left Midfielder',\n 'Left Fullback',\n 'Attacking Midfielder',\n 'Left Midfielder',\n 'Left Midfielder',\n 'Center Back',\n 'Goalkeeper',\n 'Left Midfielder',\n 'Left Midfielder',\n 'Attacking Midfielder',\n 'Left Fullback',\n 'Left Midfielder',\n 'Left Midfielder',\n 'Left Midfielder',\n 'Center Forward',\n 'Center Back',\n 'Right Midfielder',\n 'Left Midfielder',\n 'Left Fullback',\n 'Center Back',\n 'Goalkeeper',\n 'Right Midfielder',\n 'Left Midfielder',\n 'Left Midfielder',\n 'Goalkeeper',\n 'Center Midfielder',\n 'Left Midfielder',\n 'Attacking Midfielder',\n 'Left Midfielder',\n 'Left Midfielder',\n 'Left Midfielder',\n 'Left Midfielder',\n 'Left Midfielder',\n 'Left Fullback',\n 'Goalkeeper',\n 'Left Midfielder',\n 'Left Winger',\n 'Goalkeeper',\n 'Attacking Midfielder',\n 'Right Midfielder',\n 'Left Midfielder',\n 'Left Midfielder',\n 'Left Midfielder',\n 'Left Midfielder',\n 'Left Fullback',\n 'Center Back',\n 'Center Back',\n 'Goalkeeper',\n 'Goalkeeper',\n 'Left Fullback',\n 'Left Midfielder',\n 'Right Winger',\n 'Left Fullback',\n 'Goalkeeper',\n 'Left Midfielder',\n 'Left Fullback',\n 'Goalkeeper',\n 'Left Fullback',\n 'Left Midfielder',\n 'Center Back',\n 'Right Midfielder',\n 'Goalkeeper',\n 'Left Midfielder',\n 'Left Midfielder',\n 'Goalkeeper',\n 'Goalkeeper',\n 'Attacking Midfielder',\n 'Left Midfielder',\n 'Goalkeeper',\n 'Center Back',\n 'Left Midfielder',\n 'Left Midfielder',\n 'Center Forward',\n 'Left Midfielder',\n 'Left Fullback',\n 'Attacking Midfielder',\n 'Left Midfielder',\n 'Left Midfielder',\n 'Attacking Midfielder',\n 'Center Midfielder',\n 'Goalkeeper',\n 'Center Back',\n 'Center Back',\n 'Left Midfielder',\n 'Center Midfielder',\n 'Right Fullback',\n 'Left Midfielder',\n 'Goalkeeper',\n 'Left Midfielder',\n 'Left Midfielder',\n 'Left Midfielder',\n 'Attacking Midfielder',\n 'Left Midfielder',\n 'Left Fullback',\n 'Left Midfielder',\n 'Left Fullback',\n 'Left Midfielder',\n 'Left Midfielder',\n 'Left Midfielder',\n 'Left Midfielder',\n 'Left Midfielder',\n 'Left Midfielder',\n 'Left Midfielder',\n 'Left Midfielder',\n 'Center Forward',\n 'Left Fullback',\n 'Attacking Midfielder',\n 'Attacking Midfielder',\n 'Center Back',\n 'Left Midfielder',\n 'Goalkeeper',\n 'Left Midfielder',\n 'Left Midfielder',\n 'Center Back',\n 'Attacking Midfielder',\n 'Attacking Midfielder',\n 'Center Back',\n 'Left Fullback',\n 'Goalkeeper',\n 'Left Midfielder',\n 'Attacking Midfielder',\n 'Left Midfielder',\n 'Left Midfielder',\n 'Left Midfielder',\n 'Center Back',\n 'Attacking Midfielder',\n 'Left Midfielder',\n 'Left Midfielder',\n 'Defensive Midfielder',\n 'Left Fullback',\n 'Left Fullback',\n 'Left Midfielder',\n 'Attacking Midfielder',\n 'Left Fullback',\n 'Center Back',\n 'Center Back',\n 'Goalkeeper',\n 'Left Midfielder',\n 'Center Back',\n 'Defensive Midfielder',\n 'Left Midfielder',\n 'Center Midfielder',\n 'Attacking Midfielder',\n 'Center Back',\n 'Left Midfielder',\n 'Right Winger',\n 'Center Back',\n 'Center Back',\n 'Center Midfielder',\n 'Right Midfielder',\n 'Left Fullback',\n 'Left Fullback',\n 'Center Forward',\n 'Left Midfielder',\n 'Left Midfielder',\n 'Center Midfielder',\n 'Left Midfielder',\n 'Attacking Midfielder',\n 'Left Midfielder',\n 'Left Midfielder',\n 'Left Midfielder',\n 'Center Midfielder',\n 'Right Fullback',\n 'Attacking Midfielder',\n 'Center Midfielder',\n 'Center Midfielder',\n 'Goalkeeper',\n 'Left Fullback',\n 'Right Midfielder',\n 'Left Midfielder',\n 'Right Midfielder',\n 'Left Midfielder',\n 'Goalkeeper',\n 'Attacking Midfielder',\n 'Left Fullback',\n 'Center Back',\n 'Center Back',\n 'Left Midfielder',\n 'Left Midfielder',\n 'Left Midfielder',\n 'Goalkeeper',\n 'Left Midfielder',\n 'Right Midfielder',\n 'Goalkeeper',\n 'Left Midfielder',\n 'Right Midfielder',\n 'Left Midfielder',\n 'Left Midfielder',\n 'Left Winger',\n 'Left Midfielder',\n 'Left Midfielder',\n 'Left Midfielder',\n 'Left Midfielder',\n 'Right Midfielder',\n 'Right Midfielder',\n 'Center Back',\n 'Right Midfielder',\n 'Center Back',\n 'Right Midfielder',\n 'Center Forward',\n 'Attacking Midfielder',\n 'Center Back',\n 'Goalkeeper',\n 'Left Midfielder',\n 'Goalkeeper',\n 'Attacking Midfielder',\n 'Left Midfielder',\n 'Left Midfielder',\n 'Left Midfielder',\n 'Center Back',\n 'Left Midfielder',\n 'Left Winger',\n 'Left Midfielder',\n 'Defensive Midfielder',\n 'Goalkeeper',\n 'Goalkeeper',\n 'Left Midfielder',\n 'Goalkeeper',\n 'Center Forward',\n 'Right Midfielder',\n 'Center Back',\n 'Goalkeeper',\n 'Left Midfielder',\n 'Left Midfielder',\n 'Left Midfielder',\n 'Left Midfielder',\n 'Center Forward',\n 'Right Fullback',\n 'Left Midfielder',\n 'Left Fullback',\n 'Center Back',\n 'Left Midfielder',\n 'Center Back',\n 'Attacking Midfielder',\n 'Center Back',\n 'Right Midfielder',\n 'Goalkeeper',\n 'Left Midfielder',\n 'Left Midfielder',\n 'Left Midfielder',\n 'Goalkeeper',\n 'Center Back',\n 'Goalkeeper',\n 'Center Forward',\n 'Left Midfielder',\n 'Left Midfielder',\n 'Center Forward',\n 'Center Back',\n 'Left Midfielder',\n 'Center Back',\n 'Center Forward',\n 'Goalkeeper',\n 'Attacking Midfielder',\n 'Center Back',\n 'Center Forward',\n 'Left Midfielder',\n 'Center Back',\n 'Center Forward',\n 'Center Forward',\n 'Center Back',\n 'Left Midfielder',\n 'Center Back',\n 'Center Forward',\n 'Left Midfielder',\n 'Goalkeeper',\n 'Goalkeeper',\n 'Center Back',\n 'Goalkeeper',\n 'Left Midfielder',\n 'Attacking Midfielder',\n 'Left Midfielder',\n 'Center Back',\n 'Left Midfielder',\n 'Goalkeeper',\n 'Goalkeeper',\n 'Left Midfielder',\n 'Center Back',\n 'Goalkeeper',\n 'Center Back',\n 'Left Midfielder',\n 'Center Back',\n 'Center Back',\n 'Goalkeeper',\n 'Left Midfielder',\n 'Left Midfielder',\n 'Left Midfielder',\n 'Center Back',\n 'Goalkeeper',\n 'Attacking Midfielder',\n 'Attacking Midfielder',\n 'Left Midfielder',\n 'Left Midfielder',\n 'Left Midfielder',\n 'Attacking Midfielder',\n 'Attacking Midfielder',\n 'Left Fullback',\n 'Left Fullback',\n 'Attacking Midfielder',\n 'Attacking Midfielder',\n 'Attacking Midfielder',\n 'Left Midfielder',\n 'Attacking Midfielder',\n 'Center Forward',\n 'Left Midfielder',\n 'Left Midfielder',\n 'Center Midfielder',\n 'Left Winger',\n 'Center Back',\n 'Left Midfielder',\n 'Right Fullback',\n 'Left Midfielder',\n 'Left Midfielder',\n 'Left Fullback',\n 'Left Midfielder',\n 'Right Midfielder',\n 'Right Midfielder',\n 'Left Midfielder',\n 'Center Midfielder',\n 'Center Midfielder',\n ...]"
     },
     "execution_count": 11,
     "metadata": {},
     "output_type": "execute_result"
    }
   ],
   "source": [
    "missing_estimates"
   ],
   "metadata": {
    "collapsed": false,
    "ExecuteTime": {
     "end_time": "2023-11-21T13:13:33.397193627Z",
     "start_time": "2023-11-21T13:13:33.351228726Z"
    }
   },
   "id": "a1c89165612b6d22"
  },
  {
   "cell_type": "markdown",
   "source": [
    "# Repeat - Evaluation\n",
    "\n",
    "Evaluate the quality of our approach by comparing the estimated positions with the true positions."
   ],
   "metadata": {
    "collapsed": false
   },
   "id": "297f7b3642352880"
  },
  {
   "cell_type": "code",
   "execution_count": 12,
   "outputs": [
    {
     "name": "stdout",
     "output_type": "stream",
     "text": [
      "Correct ratio: 0.16627176505432495\n"
     ]
    }
   ],
   "source": [
    "non_missing = df[~df['position'].isna()]\n",
    "non_missing_vecs = non_missing[feature_columns].values\n",
    "\n",
    "# calculate the estimated positions, for the non_missing players\n",
    "estimated_positions = estimate_player_position(non_missing_vecs, position_vectors)\n",
    "\n",
    "correct = (non_missing['position'] == estimated_positions).sum()\n",
    "wrong = (non_missing['position'] != estimated_positions).sum()\n",
    "\n",
    "print('Correct ratio:', correct / (correct + wrong))"
   ],
   "metadata": {
    "collapsed": false,
    "ExecuteTime": {
     "end_time": "2023-11-21T13:13:38.473542135Z",
     "start_time": "2023-11-21T13:13:33.394918549Z"
    }
   },
   "id": "3ba3d8dbc63ab833"
  },
  {
   "cell_type": "markdown",
   "source": [
    "# Repeat - Random guessing\n",
    "\n",
    "Compare the quality of our approach with random guessing. That is, generate random guesses for the missing positions, and compare them with the true positions. How does our approach compare? Can we beat random guessing?"
   ],
   "metadata": {
    "collapsed": false
   },
   "id": "8b8c98890c6496ac"
  },
  {
   "cell_type": "code",
   "execution_count": 13,
   "outputs": [
    {
     "name": "stdout",
     "output_type": "stream",
     "text": [
      "Correct ratio (random): 0.0843868373057318\n"
     ]
    }
   ],
   "source": [
    "# compare with random guessing\n",
    "random_positions = np.random.choice(positions, size=len(non_missing))\n",
    "correct_random = (non_missing['position'] == random_positions).sum()\n",
    "wrong_random = (non_missing['position'] != random_positions).sum()\n",
    "\n",
    "print('Correct ratio (random):', correct_random / (correct_random + wrong_random))"
   ],
   "metadata": {
    "id": "44001f2a8cc19fa3",
    "ExecuteTime": {
     "end_time": "2023-11-21T13:13:38.518784017Z",
     "start_time": "2023-11-21T13:13:38.473916324Z"
    }
   },
   "id": "44001f2a8cc19fa3"
  },
  {
   "cell_type": "markdown",
   "source": [
    "# Task 1 - Forward / Backward selection"
   ],
   "metadata": {
    "collapsed": false
   },
   "id": "ca4c6bd0917ae069"
  },
  {
   "cell_type": "code",
   "execution_count": 14,
   "outputs": [],
   "source": [
    "feature_columns = ['height', 'weight', 'games', 'victories', 'ties', 'defeats', 'goals', 'yellowCards', 'yellowReds', 'redCards']"
   ],
   "metadata": {
    "collapsed": false,
    "ExecuteTime": {
     "end_time": "2023-11-21T13:13:38.519237789Z",
     "start_time": "2023-11-21T13:13:38.518078591Z"
    }
   },
   "id": "a1f4bb3e130b641b"
  },
  {
   "cell_type": "code",
   "execution_count": 15,
   "outputs": [],
   "source": [
    "def cosine_similarity(\n",
    "        a: np.array, \n",
    "        b: np.array\n",
    ") -> float:\n",
    "    \"\"\"\n",
    "    Calculates the cosine similarity of two vectors.\n",
    "    Cosine similarity is a measure of similarity between two non-zero vectors, it uses the cosine of the angle between them.\n",
    "    That means, the closer / more similar the vectors, the higher the similarity.\n",
    "    \"\"\"\n",
    "    return np.dot(a, b) / (np.linalg.norm(a) * np.linalg.norm(b))"
   ],
   "metadata": {
    "collapsed": false,
    "ExecuteTime": {
     "end_time": "2023-11-21T13:13:38.519584415Z",
     "start_time": "2023-11-21T13:13:38.518267284Z"
    }
   },
   "id": "94c5e866f76e0827"
  },
  {
   "cell_type": "code",
   "execution_count": 16,
   "outputs": [],
   "source": [
    "def position_vectors4features(\n",
    "        features: list[str],\n",
    "        player_df: pd.DataFrame\n",
    ") -> dict[str, np.array]:\n",
    "    \"\"\"\n",
    "    Calculates the vector for each position, using the given features.\n",
    "    \"\"\"\n",
    "    # calculate vector for each position\n",
    "    # the ~ is a negation\n",
    "    # player_df['position'].isna() gives us all rows where the position is missing\n",
    "    # ~player_df['position'].isna() gives us all rows where the position is not missing (because of the ~ negation)\n",
    "    # then we use this to filter player_df: player_df[~player_df['position'].isna()]\n",
    "    # next we select the position column\n",
    "    # and only keep the unique values\n",
    "    # positions = player_df[~player_df['position'].isna()]['position'].unique()\n",
    "    \n",
    "    # a split up way of writing the same thing, which is easier to understand\n",
    "    cond = player_df['position'].isna()\n",
    "    positions = player_df[~cond]['position'].unique()\n",
    "    \n",
    "    position_vectors = {}\n",
    "    \n",
    "    # iterate over all the positions\n",
    "    for position in positions:\n",
    "        \n",
    "        # filter player_df by where the 'position' value is equal to the current position\n",
    "        position_players = player_df[player_df['position'] == position]\n",
    "        \n",
    "        # drop all rows with missing features\n",
    "        # we do this to have only 'nice' vectors, without anything missing\n",
    "        position_players = position_players.dropna() \n",
    "        \n",
    "        # vectorize\n",
    "        position_vector = position_players[features].values\n",
    "        \n",
    "        # calculate average vector\n",
    "        position_vectors[position] = position_vector.mean(axis=0)\n",
    "    return position_vectors"
   ],
   "metadata": {
    "collapsed": false,
    "ExecuteTime": {
     "end_time": "2023-11-21T13:13:38.520573195Z",
     "start_time": "2023-11-21T13:13:38.518359942Z"
    }
   },
   "id": "4003d61c83455871"
  },
  {
   "cell_type": "code",
   "execution_count": 17,
   "outputs": [],
   "source": [
    "def estimate_player_position(\n",
    "        player_vectors: np.array,\n",
    "        position_vectors: np.array\n",
    ") -> list[str]:\n",
    "    \"\"\"\n",
    "    Estimates the position of the players, based on the given player vectors and position vectors.\n",
    "    \"\"\"\n",
    "    estimated_positions = []\n",
    "    \n",
    "    # iterate over the player_vectors - this is a list of vectors, one for each player\n",
    "    for player_vec in player_vectors:\n",
    "        sims = []\n",
    "        \n",
    "        # iterate over the position_vectors - this is a dictionary, with the position as key and the vector as value\n",
    "        # so for example at position_vectors['Attacker'] we have the vector for the attacker position\n",
    "        for position, position_vector in position_vectors.items():\n",
    "            \n",
    "            # calculate cosine similarity between the player vector and the position vector\n",
    "            similarity = cosine_similarity(a=player_vec, b=position_vector)\n",
    "            \n",
    "            # add the similarity to the list of similarities\n",
    "            # we use a tuple here so we know which similarity belongs to which position\n",
    "            # we could also use a dictionary here, but since we want to sort by similarity later this is more convenient\n",
    "            sims.append((position, similarity))\n",
    "            \n",
    "        # sort by similarity\n",
    "        # sims is a list of tuples, where the first element is the position and the second element is the similarity\n",
    "        # we use the second element (x[1]) as the key for sorting, and we sort in reverse order (highest similarity first)\n",
    "        sims = sorted(sims, key=lambda x: x[1], reverse=True)\n",
    "        \n",
    "        # take the most similar position\n",
    "        # sims[0] is the tuple with the highest similarity\n",
    "        # sims[0][0] is the position of the tuple with the highest similarity\n",
    "        # sims[0][1] is the similarity of the tuple with the highest similarity\n",
    "        estimated_positions.append((sims[0][0]))\n",
    "    return estimated_positions\n",
    "\n",
    "missing_estimates = estimate_player_position(missing_positions_vec, position_vectors)"
   ],
   "metadata": {
    "collapsed": false,
    "ExecuteTime": {
     "end_time": "2023-11-21T13:13:39.193835380Z",
     "start_time": "2023-11-21T13:13:38.518444104Z"
    }
   },
   "id": "acab48c7cb1c8e76"
  },
  {
   "cell_type": "code",
   "execution_count": 18,
   "outputs": [
    {
     "name": "stdout",
     "output_type": "stream",
     "text": [
      "Correct ratio (random): 0.0833969852379542\n"
     ]
    }
   ],
   "source": [
    "# compare with random guessing\n",
    "# we randomly select len(non_missing) positions from the list of all positions\n",
    "random_positions = np.random.choice(positions, size=len(non_missing))\n",
    "\n",
    "# then we count how often the actual position (non_missing['position']) is equal to the random position\n",
    "correct_random = (non_missing['position'] == random_positions).sum()\n",
    "\n",
    "# and how often it is not equal\n",
    "wrong_random = (non_missing['position'] != random_positions).sum()\n",
    "\n",
    "# and then we calculate the ratio of correct guesses\n",
    "print('Correct ratio (random):', correct_random / (correct_random + wrong_random))"
   ],
   "metadata": {
    "collapsed": false,
    "ExecuteTime": {
     "end_time": "2023-11-21T13:13:39.238683034Z",
     "start_time": "2023-11-21T13:13:39.194831323Z"
    }
   },
   "id": "958604a3b2d6aab3"
  },
  {
   "cell_type": "code",
   "execution_count": 19,
   "outputs": [
    {
     "data": {
      "text/plain": "0.16627176505432495"
     },
     "execution_count": 19,
     "metadata": {},
     "output_type": "execute_result"
    }
   ],
   "source": [
    "def evaluate_position_estimation(\n",
    "        features: list[str],\n",
    "        player_df: pd.DataFrame\n",
    ") -> float:\n",
    "    \"\"\"\n",
    "    Evaluates the position estimation, by calculating the ratio of correct guesses.\n",
    "    \"\"\"\n",
    "    # get all rows where the position is not missing\n",
    "    # this works exactly the same way as in estimate_player_position\n",
    "    non_missing = player_df[~player_df['position'].isna()]\n",
    "    non_missing_vecs = non_missing[features].values\n",
    "    \n",
    "    # we use this to calculate the position vectors\n",
    "    positionvecs4features = position_vectors4features(\n",
    "        features,\n",
    "        player_df\n",
    "    )\n",
    "    \n",
    "    # calculate the estimated positions, for the non_missing players\n",
    "    estimated_positions = estimate_player_position(non_missing_vecs, positionvecs4features)\n",
    "    \n",
    "    # count how often the estimated position is equal to the actual position\n",
    "    correct = (non_missing['position'] == estimated_positions).sum()\n",
    "    \n",
    "    # count how often the estimated position is not equal to the actual position\n",
    "    wrong = (non_missing['position'] != estimated_positions).sum()\n",
    "    \n",
    "    # print('Correct ratio:', correct / (correct + wrong))\n",
    "    return correct / (correct + wrong)\n",
    "    \n",
    "evaluate_position_estimation(feature_columns, df)"
   ],
   "metadata": {
    "collapsed": false,
    "ExecuteTime": {
     "end_time": "2023-11-21T13:13:44.436861025Z",
     "start_time": "2023-11-21T13:13:39.237953994Z"
    }
   },
   "id": "e993a4b8acbbdad2"
  },
  {
   "cell_type": "code",
   "execution_count": 20,
   "outputs": [],
   "source": [
    "from typing import Optional\n",
    "\n",
    "\n",
    "def forward_selection(\n",
    "        max_features: int,\n",
    "        player_df: pd.DataFrame,\n",
    "        selected_features: Optional[list[str]],\n",
    ") -> list[str]:\n",
    "    \"\"\"\n",
    "    Selects the best features, by adding one feature at a time.\n",
    "    \"\"\"\n",
    "    feature2score = {}\n",
    "    \n",
    "    # note how when we call this the first time selected_features can be empty\n",
    "    # we could start with some features pre-selected, if we know they are good or want to use them\n",
    "    \n",
    "    # iterate over all features\n",
    "    for feature in feature_columns:\n",
    "        \n",
    "        # if the feature is already selected, we skip it\n",
    "        if feature in selected_features:\n",
    "            continue\n",
    "            \n",
    "        # otherwise we add it to the features we currently evaluate\n",
    "        current_features = selected_features + [feature]\n",
    "        \n",
    "        # here we use the evaluate_position_estimation function we defined above to calculate the score\n",
    "        # we check here what our score would be if we use 'current_features' for the prediction\n",
    "        score = evaluate_position_estimation(\n",
    "            current_features,\n",
    "            player_df=player_df\n",
    "        )\n",
    "        \n",
    "        # now we record, for the feature we just added, what the score is\n",
    "        feature2score[feature] = score\n",
    "        # then the for-loop continues, and we try out all the possible features\n",
    "        \n",
    "    # we sort feature2score.items, where each item is a tuple of (feature, score)\n",
    "    # we sort by the score, and we sort in reverse order (highest score first)\n",
    "    scores = sorted(feature2score.items(), key=lambda k: k[1], reverse=True)\n",
    "    \n",
    "    # get best feature from score\n",
    "    # scores[0][1] is the score of the best feature\n",
    "    # that is: if we add this feature to the selected features, we get the highest score\n",
    "    best_feature = scores[0][0]\n",
    "    print(f'Adding feature: {best_feature} with score {scores[0][1]:4f}')\n",
    "    \n",
    "    # we go until we reach the maximum number of features\n",
    "    if max_features > 0:\n",
    "        \n",
    "        # we add the best feature to the selected features, and recursively call this function again\n",
    "        # but max-features is reduced by 1 because we added a feature\n",
    "        # that means we have to add one less feature\n",
    "        # once we have added enough features we return selected_features, these are then the best features\n",
    "        return forward_selection(max_features - 1, player_df, selected_features + [best_feature])\n",
    "    return selected_features"
   ],
   "metadata": {
    "collapsed": false,
    "ExecuteTime": {
     "end_time": "2023-11-21T13:13:44.440778452Z",
     "start_time": "2023-11-21T13:13:44.436369935Z"
    }
   },
   "id": "ed3d4b78c23191b7"
  },
  {
   "cell_type": "code",
   "execution_count": 21,
   "outputs": [],
   "source": [
    "def backward_selection(\n",
    "        max_features: int,\n",
    "        player_df: pd.DataFrame,\n",
    "        selected_features: Optional[list[str]],\n",
    ") -> list[str]:\n",
    "    \"\"\"\n",
    "    Selects the best features, by removing one feature at a time.\n",
    "    \"\"\"\n",
    "    feature2score = {}\n",
    "    \n",
    "    # iterate over all features\n",
    "    for feature in feature_columns:\n",
    "        \n",
    "        # if the feature is already selected, we skip it\n",
    "        if feature not in selected_features:\n",
    "            continue\n",
    "            \n",
    "        # we make a copy of the selected_features, because we will remove stuff\n",
    "        current_features = selected_features.copy()\n",
    "        \n",
    "        # remove the feature we are currently evaluating\n",
    "        current_features.remove(feature)\n",
    "        \n",
    "        # now we use the evaluate_position_estimation function we defined above to calculate the score, WITHOUT this feature\n",
    "        score = evaluate_position_estimation(\n",
    "            current_features,\n",
    "            player_df=player_df\n",
    "        )\n",
    "        \n",
    "        # now we record, for the feature we just removed, what the score is\n",
    "        feature2score[feature] = score\n",
    "    # get best feature from score\n",
    "    scores = sorted(feature2score.items(), key=lambda k: k[1], reverse=True)\n",
    "    \n",
    "    # we recorded for each feature what the score is, that is, if we remove this feature, what does our score become?\n",
    "    # thats why we sort in reverse order, because we want to remove the feature that gives us the highest score when removed\n",
    "    worst_feature = scores[0][0]\n",
    "    \n",
    "    # now we properly remove the feature from the selected features\n",
    "    selected_features.remove(worst_feature)\n",
    "    print(f'Removing feature: {worst_feature} with score {scores[0][1]:4f}')\n",
    "    \n",
    "    # if we have not yet reached the maximum number of features, we recursively call this function again\n",
    "    if len(selected_features) > max_features:\n",
    "        return backward_selection(max_features, player_df, selected_features)\n",
    "    return selected_features"
   ],
   "metadata": {
    "collapsed": false,
    "ExecuteTime": {
     "end_time": "2023-11-21T13:13:44.453618173Z",
     "start_time": "2023-11-21T13:13:44.439968119Z"
    }
   },
   "id": "9830ae6b6bdb3398"
  },
  {
   "cell_type": "code",
   "execution_count": 22,
   "outputs": [
    {
     "name": "stdout",
     "output_type": "stream",
     "text": [
      "Adding feature: height with score 0.092103\n",
      "Adding feature: goals with score 0.161135\n",
      "Adding feature: yellowCards with score 0.180660\n",
      "Adding feature: yellowReds with score 0.180660\n",
      "Adding feature: redCards with score 0.180660\n",
      "Adding feature: ties with score 0.176178\n"
     ]
    },
    {
     "data": {
      "text/plain": "['height', 'goals', 'yellowCards', 'yellowReds', 'redCards']"
     },
     "execution_count": 22,
     "metadata": {},
     "output_type": "execute_result"
    }
   ],
   "source": [
    "# start with no features, go up to 3\n",
    "r = forward_selection(5, df, [])\n",
    "r"
   ],
   "metadata": {
    "collapsed": false,
    "ExecuteTime": {
     "end_time": "2023-11-21T13:17:35.726017565Z",
     "start_time": "2023-11-21T13:13:44.456266277Z"
    }
   },
   "id": "a7afb4bb74f3407c"
  },
  {
   "cell_type": "code",
   "execution_count": 23,
   "outputs": [
    {
     "name": "stdout",
     "output_type": "stream",
     "text": [
      "Removing feature: victories with score 0.168407\n",
      "Removing feature: games with score 0.169460\n",
      "Removing feature: defeats with score 0.170714\n",
      "Removing feature: height with score 0.176552\n",
      "Removing feature: ties with score 0.179779\n"
     ]
    },
    {
     "data": {
      "text/plain": "['weight', 'goals', 'yellowCards', 'yellowReds', 'redCards']"
     },
     "execution_count": 23,
     "metadata": {},
     "output_type": "execute_result"
    }
   ],
   "source": [
    "# start with no features, go up to 3\n",
    "r = backward_selection(5, df, feature_columns.copy())\n",
    "r"
   ],
   "metadata": {
    "collapsed": false,
    "ExecuteTime": {
     "end_time": "2023-11-21T13:20:58.745650350Z",
     "start_time": "2023-11-21T13:17:35.728809255Z"
    }
   },
   "id": "67e34c45302f069e"
  },
  {
   "cell_type": "code",
   "execution_count": 24,
   "outputs": [
    {
     "data": {
      "text/plain": "0.16627176505432495"
     },
     "execution_count": 24,
     "metadata": {},
     "output_type": "execute_result"
    }
   ],
   "source": [
    "score = evaluate_position_estimation(feature_columns, df)\n",
    "score"
   ],
   "metadata": {
    "collapsed": false,
    "ExecuteTime": {
     "end_time": "2023-11-21T13:21:03.790905518Z",
     "start_time": "2023-11-21T13:20:58.749789036Z"
    }
   },
   "id": "28ed79a7107d9c18"
  },
  {
   "cell_type": "markdown",
   "source": [
    "The other tasks from Exercise 7 that were in the blank notebook will be moved to / discussed in Exercise 8."
   ],
   "metadata": {
    "collapsed": false
   },
   "id": "5211837fce202091"
  },
  {
   "cell_type": "code",
   "execution_count": null,
   "outputs": [],
   "source": [],
   "metadata": {
    "collapsed": false
   },
   "id": "e5ed0f374903d301"
  }
 ],
 "metadata": {
  "kernelspec": {
   "display_name": "Python 3",
   "language": "python",
   "name": "python3"
  },
  "language_info": {
   "codemirror_mode": {
    "name": "ipython",
    "version": 2
   },
   "file_extension": ".py",
   "mimetype": "text/x-python",
   "name": "python",
   "nbconvert_exporter": "python",
   "pygments_lexer": "ipython2",
   "version": "2.7.6"
  },
  "colab": {
   "provenance": []
  },
  "widgets": {
   "application/vnd.jupyter.widget-state+json": {
    "274e89184e4c466d96ad1e01ed4362a7": {
     "model_module": "@jupyter-widgets/controls",
     "model_name": "HBoxModel",
     "model_module_version": "1.5.0",
     "state": {
      "_dom_classes": [],
      "_model_module": "@jupyter-widgets/controls",
      "_model_module_version": "1.5.0",
      "_model_name": "HBoxModel",
      "_view_count": null,
      "_view_module": "@jupyter-widgets/controls",
      "_view_module_version": "1.5.0",
      "_view_name": "HBoxView",
      "box_style": "",
      "children": [
       "IPY_MODEL_9ca90d57221443a8b840b53780a42bdf",
       "IPY_MODEL_b6fbd15155864d6f97a85189cfdbd711",
       "IPY_MODEL_96be8aa5b0d9453bbf45d5d6bea596bf"
      ],
      "layout": "IPY_MODEL_d24515b87df94663ab4bafefafc0e427"
     }
    },
    "9ca90d57221443a8b840b53780a42bdf": {
     "model_module": "@jupyter-widgets/controls",
     "model_name": "HTMLModel",
     "model_module_version": "1.5.0",
     "state": {
      "_dom_classes": [],
      "_model_module": "@jupyter-widgets/controls",
      "_model_module_version": "1.5.0",
      "_model_name": "HTMLModel",
      "_view_count": null,
      "_view_module": "@jupyter-widgets/controls",
      "_view_module_version": "1.5.0",
      "_view_name": "HTMLView",
      "description": "",
      "description_tooltip": null,
      "layout": "IPY_MODEL_41d77e60012342968bdf4681417fac79",
      "placeholder": "​",
      "style": "IPY_MODEL_2370794c2df641b2ac40b9079199c93c",
      "value": "100%"
     }
    },
    "b6fbd15155864d6f97a85189cfdbd711": {
     "model_module": "@jupyter-widgets/controls",
     "model_name": "FloatProgressModel",
     "model_module_version": "1.5.0",
     "state": {
      "_dom_classes": [],
      "_model_module": "@jupyter-widgets/controls",
      "_model_module_version": "1.5.0",
      "_model_name": "FloatProgressModel",
      "_view_count": null,
      "_view_module": "@jupyter-widgets/controls",
      "_view_module_version": "1.5.0",
      "_view_name": "ProgressView",
      "bar_style": "success",
      "description": "",
      "description_tooltip": null,
      "layout": "IPY_MODEL_7e3c0e4d520b40a083753d6c3b725177",
      "max": 1000,
      "min": 0,
      "orientation": "horizontal",
      "style": "IPY_MODEL_c7c4c26d0aa541cdbb66a646c14492b2",
      "value": 1000
     }
    },
    "96be8aa5b0d9453bbf45d5d6bea596bf": {
     "model_module": "@jupyter-widgets/controls",
     "model_name": "HTMLModel",
     "model_module_version": "1.5.0",
     "state": {
      "_dom_classes": [],
      "_model_module": "@jupyter-widgets/controls",
      "_model_module_version": "1.5.0",
      "_model_name": "HTMLModel",
      "_view_count": null,
      "_view_module": "@jupyter-widgets/controls",
      "_view_module_version": "1.5.0",
      "_view_name": "HTMLView",
      "description": "",
      "description_tooltip": null,
      "layout": "IPY_MODEL_d2df11f690e44b84b899647d58fcc003",
      "placeholder": "​",
      "style": "IPY_MODEL_ebdf810e3bc34d06a59ac4849a2f923b",
      "value": " 1000/1000 [05:26&lt;00:00,  3.69it/s]"
     }
    },
    "d24515b87df94663ab4bafefafc0e427": {
     "model_module": "@jupyter-widgets/base",
     "model_name": "LayoutModel",
     "model_module_version": "1.2.0",
     "state": {
      "_model_module": "@jupyter-widgets/base",
      "_model_module_version": "1.2.0",
      "_model_name": "LayoutModel",
      "_view_count": null,
      "_view_module": "@jupyter-widgets/base",
      "_view_module_version": "1.2.0",
      "_view_name": "LayoutView",
      "align_content": null,
      "align_items": null,
      "align_self": null,
      "border": null,
      "bottom": null,
      "display": null,
      "flex": null,
      "flex_flow": null,
      "grid_area": null,
      "grid_auto_columns": null,
      "grid_auto_flow": null,
      "grid_auto_rows": null,
      "grid_column": null,
      "grid_gap": null,
      "grid_row": null,
      "grid_template_areas": null,
      "grid_template_columns": null,
      "grid_template_rows": null,
      "height": null,
      "justify_content": null,
      "justify_items": null,
      "left": null,
      "margin": null,
      "max_height": null,
      "max_width": null,
      "min_height": null,
      "min_width": null,
      "object_fit": null,
      "object_position": null,
      "order": null,
      "overflow": null,
      "overflow_x": null,
      "overflow_y": null,
      "padding": null,
      "right": null,
      "top": null,
      "visibility": null,
      "width": null
     }
    },
    "41d77e60012342968bdf4681417fac79": {
     "model_module": "@jupyter-widgets/base",
     "model_name": "LayoutModel",
     "model_module_version": "1.2.0",
     "state": {
      "_model_module": "@jupyter-widgets/base",
      "_model_module_version": "1.2.0",
      "_model_name": "LayoutModel",
      "_view_count": null,
      "_view_module": "@jupyter-widgets/base",
      "_view_module_version": "1.2.0",
      "_view_name": "LayoutView",
      "align_content": null,
      "align_items": null,
      "align_self": null,
      "border": null,
      "bottom": null,
      "display": null,
      "flex": null,
      "flex_flow": null,
      "grid_area": null,
      "grid_auto_columns": null,
      "grid_auto_flow": null,
      "grid_auto_rows": null,
      "grid_column": null,
      "grid_gap": null,
      "grid_row": null,
      "grid_template_areas": null,
      "grid_template_columns": null,
      "grid_template_rows": null,
      "height": null,
      "justify_content": null,
      "justify_items": null,
      "left": null,
      "margin": null,
      "max_height": null,
      "max_width": null,
      "min_height": null,
      "min_width": null,
      "object_fit": null,
      "object_position": null,
      "order": null,
      "overflow": null,
      "overflow_x": null,
      "overflow_y": null,
      "padding": null,
      "right": null,
      "top": null,
      "visibility": null,
      "width": null
     }
    },
    "2370794c2df641b2ac40b9079199c93c": {
     "model_module": "@jupyter-widgets/controls",
     "model_name": "DescriptionStyleModel",
     "model_module_version": "1.5.0",
     "state": {
      "_model_module": "@jupyter-widgets/controls",
      "_model_module_version": "1.5.0",
      "_model_name": "DescriptionStyleModel",
      "_view_count": null,
      "_view_module": "@jupyter-widgets/base",
      "_view_module_version": "1.2.0",
      "_view_name": "StyleView",
      "description_width": ""
     }
    },
    "7e3c0e4d520b40a083753d6c3b725177": {
     "model_module": "@jupyter-widgets/base",
     "model_name": "LayoutModel",
     "model_module_version": "1.2.0",
     "state": {
      "_model_module": "@jupyter-widgets/base",
      "_model_module_version": "1.2.0",
      "_model_name": "LayoutModel",
      "_view_count": null,
      "_view_module": "@jupyter-widgets/base",
      "_view_module_version": "1.2.0",
      "_view_name": "LayoutView",
      "align_content": null,
      "align_items": null,
      "align_self": null,
      "border": null,
      "bottom": null,
      "display": null,
      "flex": null,
      "flex_flow": null,
      "grid_area": null,
      "grid_auto_columns": null,
      "grid_auto_flow": null,
      "grid_auto_rows": null,
      "grid_column": null,
      "grid_gap": null,
      "grid_row": null,
      "grid_template_areas": null,
      "grid_template_columns": null,
      "grid_template_rows": null,
      "height": null,
      "justify_content": null,
      "justify_items": null,
      "left": null,
      "margin": null,
      "max_height": null,
      "max_width": null,
      "min_height": null,
      "min_width": null,
      "object_fit": null,
      "object_position": null,
      "order": null,
      "overflow": null,
      "overflow_x": null,
      "overflow_y": null,
      "padding": null,
      "right": null,
      "top": null,
      "visibility": null,
      "width": null
     }
    },
    "c7c4c26d0aa541cdbb66a646c14492b2": {
     "model_module": "@jupyter-widgets/controls",
     "model_name": "ProgressStyleModel",
     "model_module_version": "1.5.0",
     "state": {
      "_model_module": "@jupyter-widgets/controls",
      "_model_module_version": "1.5.0",
      "_model_name": "ProgressStyleModel",
      "_view_count": null,
      "_view_module": "@jupyter-widgets/base",
      "_view_module_version": "1.2.0",
      "_view_name": "StyleView",
      "bar_color": null,
      "description_width": ""
     }
    },
    "d2df11f690e44b84b899647d58fcc003": {
     "model_module": "@jupyter-widgets/base",
     "model_name": "LayoutModel",
     "model_module_version": "1.2.0",
     "state": {
      "_model_module": "@jupyter-widgets/base",
      "_model_module_version": "1.2.0",
      "_model_name": "LayoutModel",
      "_view_count": null,
      "_view_module": "@jupyter-widgets/base",
      "_view_module_version": "1.2.0",
      "_view_name": "LayoutView",
      "align_content": null,
      "align_items": null,
      "align_self": null,
      "border": null,
      "bottom": null,
      "display": null,
      "flex": null,
      "flex_flow": null,
      "grid_area": null,
      "grid_auto_columns": null,
      "grid_auto_flow": null,
      "grid_auto_rows": null,
      "grid_column": null,
      "grid_gap": null,
      "grid_row": null,
      "grid_template_areas": null,
      "grid_template_columns": null,
      "grid_template_rows": null,
      "height": null,
      "justify_content": null,
      "justify_items": null,
      "left": null,
      "margin": null,
      "max_height": null,
      "max_width": null,
      "min_height": null,
      "min_width": null,
      "object_fit": null,
      "object_position": null,
      "order": null,
      "overflow": null,
      "overflow_x": null,
      "overflow_y": null,
      "padding": null,
      "right": null,
      "top": null,
      "visibility": null,
      "width": null
     }
    },
    "ebdf810e3bc34d06a59ac4849a2f923b": {
     "model_module": "@jupyter-widgets/controls",
     "model_name": "DescriptionStyleModel",
     "model_module_version": "1.5.0",
     "state": {
      "_model_module": "@jupyter-widgets/controls",
      "_model_module_version": "1.5.0",
      "_model_name": "DescriptionStyleModel",
      "_view_count": null,
      "_view_module": "@jupyter-widgets/base",
      "_view_module_version": "1.2.0",
      "_view_name": "StyleView",
      "description_width": ""
     }
    }
   }
  }
 },
 "nbformat": 4,
 "nbformat_minor": 5
}
