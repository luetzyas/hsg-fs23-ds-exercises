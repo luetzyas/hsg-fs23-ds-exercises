{
 "cells": [
  {
   "cell_type": "code",
   "execution_count": 1,
   "id": "initial_id",
   "metadata": {
    "collapsed": true,
    "id": "initial_id",
    "ExecuteTime": {
     "end_time": "2023-11-28T15:30:32.077882600Z",
     "start_time": "2023-11-28T15:30:31.181382100Z"
    }
   },
   "outputs": [],
   "source": [
    "import matplotlib.pyplot as plt\n",
    "import numpy as np\n",
    "np.seterr(divide='ignore', invalid='ignore')\n",
    "import pandas as pd\n",
    "# for the progress bar\n",
    "from tqdm.auto import tqdm"
   ]
  },
  {
   "cell_type": "markdown",
   "source": [
    "- [`pandas` Cheat Sheet](https://pandas.pydata.org/Pandas_Cheat_Sheet.pdf)\n",
    "- [`matplotlib` Cheat Sheet](https://matplotlib.org/cheatsheets/_images/cheatsheets-1.png)\n",
    "- [SQL Cheat Sheet](https://www.sqltutorial.org/sql-cheat-sheet/)"
   ],
   "metadata": {
    "collapsed": false,
    "id": "dea9712c782bc7bf"
   },
   "id": "dea9712c782bc7bf"
  },
  {
   "cell_type": "markdown",
   "source": [
    "# Loading the data"
   ],
   "metadata": {
    "collapsed": false,
    "id": "10a6c00f800cbd46"
   },
   "id": "10a6c00f800cbd46"
  },
  {
   "cell_type": "code",
   "execution_count": 2,
   "outputs": [
    {
     "data": {
      "text/plain": "     playerShort         player             club leagueCountry    birthday  \\\n0  lucas-wilchez  Lucas Wilchez    Real Zaragoza         Spain  31.08.1983   \n1     john-utaka     John Utaka  Montpellier HSC        France  08.01.1982   \n2    abdon-prats    Abdón Prats     RCD Mallorca         Spain  17.12.1992   \n3     pablo-mari     Pablo Marí     RCD Mallorca         Spain  31.08.1993   \n4     ruben-pena     Rubén Peña  Real Valladolid         Spain  18.07.1991   \n\n   height  weight              position  games  victories  ...  rater2  \\\n0   177.0    72.0  Attacking Midfielder      1          0  ...    0.50   \n1   179.0    82.0          Right Winger      1          0  ...    0.75   \n2   181.0    79.0                   NaN      1          0  ...     NaN   \n3   191.0    87.0           Center Back      1          1  ...     NaN   \n4   172.0    70.0      Right Midfielder      1          1  ...     NaN   \n\n   refNum  refCountry  Alpha_3   meanIAT    nIAT     seIAT   meanExp    nExp  \\\n0       1           1      GRC  0.326391   712.0  0.000564  0.396000   750.0   \n1       2           2      ZMB  0.203375    40.0  0.010875 -0.204082    49.0   \n2       3           3      ESP  0.369894  1785.0  0.000229  0.588297  1897.0   \n3       3           3      ESP  0.369894  1785.0  0.000229  0.588297  1897.0   \n4       3           3      ESP  0.369894  1785.0  0.000229  0.588297  1897.0   \n\n      seExp  \n0  0.002696  \n1  0.061504  \n2  0.001002  \n3  0.001002  \n4  0.001002  \n\n[5 rows x 28 columns]",
      "text/html": "<div>\n<style scoped>\n    .dataframe tbody tr th:only-of-type {\n        vertical-align: middle;\n    }\n\n    .dataframe tbody tr th {\n        vertical-align: top;\n    }\n\n    .dataframe thead th {\n        text-align: right;\n    }\n</style>\n<table border=\"1\" class=\"dataframe\">\n  <thead>\n    <tr style=\"text-align: right;\">\n      <th></th>\n      <th>playerShort</th>\n      <th>player</th>\n      <th>club</th>\n      <th>leagueCountry</th>\n      <th>birthday</th>\n      <th>height</th>\n      <th>weight</th>\n      <th>position</th>\n      <th>games</th>\n      <th>victories</th>\n      <th>...</th>\n      <th>rater2</th>\n      <th>refNum</th>\n      <th>refCountry</th>\n      <th>Alpha_3</th>\n      <th>meanIAT</th>\n      <th>nIAT</th>\n      <th>seIAT</th>\n      <th>meanExp</th>\n      <th>nExp</th>\n      <th>seExp</th>\n    </tr>\n  </thead>\n  <tbody>\n    <tr>\n      <th>0</th>\n      <td>lucas-wilchez</td>\n      <td>Lucas Wilchez</td>\n      <td>Real Zaragoza</td>\n      <td>Spain</td>\n      <td>31.08.1983</td>\n      <td>177.0</td>\n      <td>72.0</td>\n      <td>Attacking Midfielder</td>\n      <td>1</td>\n      <td>0</td>\n      <td>...</td>\n      <td>0.50</td>\n      <td>1</td>\n      <td>1</td>\n      <td>GRC</td>\n      <td>0.326391</td>\n      <td>712.0</td>\n      <td>0.000564</td>\n      <td>0.396000</td>\n      <td>750.0</td>\n      <td>0.002696</td>\n    </tr>\n    <tr>\n      <th>1</th>\n      <td>john-utaka</td>\n      <td>John Utaka</td>\n      <td>Montpellier HSC</td>\n      <td>France</td>\n      <td>08.01.1982</td>\n      <td>179.0</td>\n      <td>82.0</td>\n      <td>Right Winger</td>\n      <td>1</td>\n      <td>0</td>\n      <td>...</td>\n      <td>0.75</td>\n      <td>2</td>\n      <td>2</td>\n      <td>ZMB</td>\n      <td>0.203375</td>\n      <td>40.0</td>\n      <td>0.010875</td>\n      <td>-0.204082</td>\n      <td>49.0</td>\n      <td>0.061504</td>\n    </tr>\n    <tr>\n      <th>2</th>\n      <td>abdon-prats</td>\n      <td>Abdón Prats</td>\n      <td>RCD Mallorca</td>\n      <td>Spain</td>\n      <td>17.12.1992</td>\n      <td>181.0</td>\n      <td>79.0</td>\n      <td>NaN</td>\n      <td>1</td>\n      <td>0</td>\n      <td>...</td>\n      <td>NaN</td>\n      <td>3</td>\n      <td>3</td>\n      <td>ESP</td>\n      <td>0.369894</td>\n      <td>1785.0</td>\n      <td>0.000229</td>\n      <td>0.588297</td>\n      <td>1897.0</td>\n      <td>0.001002</td>\n    </tr>\n    <tr>\n      <th>3</th>\n      <td>pablo-mari</td>\n      <td>Pablo Marí</td>\n      <td>RCD Mallorca</td>\n      <td>Spain</td>\n      <td>31.08.1993</td>\n      <td>191.0</td>\n      <td>87.0</td>\n      <td>Center Back</td>\n      <td>1</td>\n      <td>1</td>\n      <td>...</td>\n      <td>NaN</td>\n      <td>3</td>\n      <td>3</td>\n      <td>ESP</td>\n      <td>0.369894</td>\n      <td>1785.0</td>\n      <td>0.000229</td>\n      <td>0.588297</td>\n      <td>1897.0</td>\n      <td>0.001002</td>\n    </tr>\n    <tr>\n      <th>4</th>\n      <td>ruben-pena</td>\n      <td>Rubén Peña</td>\n      <td>Real Valladolid</td>\n      <td>Spain</td>\n      <td>18.07.1991</td>\n      <td>172.0</td>\n      <td>70.0</td>\n      <td>Right Midfielder</td>\n      <td>1</td>\n      <td>1</td>\n      <td>...</td>\n      <td>NaN</td>\n      <td>3</td>\n      <td>3</td>\n      <td>ESP</td>\n      <td>0.369894</td>\n      <td>1785.0</td>\n      <td>0.000229</td>\n      <td>0.588297</td>\n      <td>1897.0</td>\n      <td>0.001002</td>\n    </tr>\n  </tbody>\n</table>\n<p>5 rows × 28 columns</p>\n</div>"
     },
     "execution_count": 2,
     "metadata": {},
     "output_type": "execute_result"
    }
   ],
   "source": [
    "df = pd.read_csv('https://drive.switch.ch/index.php/s/UEpTFv2Bfa5C1dd/download')\n",
    "df.head()"
   ],
   "metadata": {
    "id": "dbbb55920a066c05",
    "outputId": "5a6365ef-348c-404a-e7ca-3865684eac68",
    "colab": {
     "base_uri": "https://localhost:8080/",
     "height": 342
    },
    "ExecuteTime": {
     "end_time": "2023-11-28T15:30:35.982897100Z",
     "start_time": "2023-11-28T15:30:32.077882600Z"
    }
   },
   "id": "dbbb55920a066c05"
  },
  {
   "cell_type": "markdown",
   "source": [
    "This week we keep the `NaN` values."
   ],
   "metadata": {
    "collapsed": false,
    "id": "942744c46eafe2b7",
    "ExecuteTime": {
     "end_time": "2023-10-30T10:29:23.725118162Z",
     "start_time": "2023-10-30T10:29:23.702230656Z"
    }
   },
   "id": "942744c46eafe2b7"
  },
  {
   "cell_type": "code",
   "execution_count": 3,
   "outputs": [],
   "source": [
    "# df = df.dropna()"
   ],
   "metadata": {
    "id": "7d1d63bf868c148c",
    "ExecuteTime": {
     "end_time": "2023-11-28T15:30:35.998575500Z",
     "start_time": "2023-11-28T15:30:35.982897100Z"
    }
   },
   "id": "7d1d63bf868c148c"
  },
  {
   "cell_type": "code",
   "execution_count": 4,
   "outputs": [
    {
     "data": {
      "text/plain": "array([[181.,  79.,   1., ...,   1.,   0.,   0.],\n       [185.,  74.,   1., ...,   0.,   0.,   0.],\n       [180.,  68.,   1., ...,   0.,   0.,   0.],\n       ...,\n       [182.,  88.,   1., ...,   0.,   0.,   0.],\n       [191.,  84.,   1., ...,   1.,   0.,   0.],\n       [188.,  81.,   1., ...,   0.,   0.,   0.]])"
     },
     "execution_count": 4,
     "metadata": {},
     "output_type": "execute_result"
    }
   ],
   "source": [
    "feature_columns = ['height', 'weight', 'games', 'victories', 'ties', 'defeats', 'goals', 'yellowCards', 'yellowReds', 'redCards']\n",
    "missing_positions = df[df['position'].isna()]\n",
    "\n",
    "# drop all rows with missing features\n",
    "missing_positions = missing_positions.dropna(subset=feature_columns)\n",
    "\n",
    "# vectorize the features\n",
    "missing_positions_vec = missing_positions[feature_columns].values\n",
    "\n",
    "missing_positions_vec"
   ],
   "metadata": {
    "collapsed": false,
    "ExecuteTime": {
     "end_time": "2023-11-28T15:30:36.076659900Z",
     "start_time": "2023-11-28T15:30:35.998575500Z"
    }
   },
   "id": "f2487e5949e4298f"
  },
  {
   "cell_type": "code",
   "execution_count": 5,
   "outputs": [],
   "source": [
    "# calculate vector for each position\n",
    "positions = df[~df['position'].isna()]['position'].unique()\n",
    "position_vectors = {}\n",
    "for position in positions:\n",
    "    position_players = df[df['position'] == position]\n",
    "    position_players = position_players.dropna()  # drop those with missing values\n",
    "    \n",
    "    # vectorize\n",
    "    position_vector = position_players[feature_columns].values\n",
    "    \n",
    "    # calculate average vector\n",
    "    position_vectors[position] = position_vector.mean(axis=0)"
   ],
   "metadata": {
    "collapsed": false,
    "ExecuteTime": {
     "end_time": "2023-11-28T15:30:36.260204800Z",
     "start_time": "2023-11-28T15:30:36.029809200Z"
    }
   },
   "id": "57bba067bbcfe103"
  },
  {
   "cell_type": "markdown",
   "source": [
    "# Task 1 - Forward / Backward selection"
   ],
   "metadata": {
    "collapsed": false
   },
   "id": "ca4c6bd0917ae069"
  },
  {
   "cell_type": "code",
   "execution_count": 6,
   "outputs": [],
   "source": [
    "feature_columns = ['height', 'weight', 'games', 'victories', 'ties', 'defeats', 'goals', 'yellowCards', 'yellowReds', 'redCards']"
   ],
   "metadata": {
    "collapsed": false,
    "ExecuteTime": {
     "end_time": "2023-11-28T15:30:36.278752900Z",
     "start_time": "2023-11-28T15:30:36.263103400Z"
    }
   },
   "id": "a1f4bb3e130b641b"
  },
  {
   "cell_type": "code",
   "execution_count": 7,
   "outputs": [],
   "source": [
    "def cosine_similarity(\n",
    "        a: np.array, \n",
    "        b: np.array\n",
    ") -> float:\n",
    "    return np.dot(a, b) / (np.linalg.norm(a) * np.linalg.norm(b))"
   ],
   "metadata": {
    "collapsed": false,
    "ExecuteTime": {
     "end_time": "2023-11-28T15:30:36.294792800Z",
     "start_time": "2023-11-28T15:30:36.278752900Z"
    }
   },
   "id": "94c5e866f76e0827"
  },
  {
   "cell_type": "code",
   "execution_count": 8,
   "outputs": [],
   "source": [
    "def position_vectors4features(\n",
    "        features,\n",
    "        player_df\n",
    "):\n",
    "    # calculate vector for each position\n",
    "    positions = player_df[~player_df['position'].isna()]['position'].unique()\n",
    "    position_vectors = {}\n",
    "    for position in positions:\n",
    "        position_players = player_df[player_df['position'] == position]\n",
    "        position_players = position_players.dropna()  # drop those with missing values\n",
    "        \n",
    "        # vectorize\n",
    "        position_vector = position_players[features].values\n",
    "        \n",
    "        # calculate average vector\n",
    "        position_vectors[position] = position_vector.mean(axis=0)\n",
    "    return position_vectors"
   ],
   "metadata": {
    "collapsed": false,
    "ExecuteTime": {
     "end_time": "2023-11-28T15:30:36.310450700Z",
     "start_time": "2023-11-28T15:30:36.294792800Z"
    }
   },
   "id": "4003d61c83455871"
  },
  {
   "cell_type": "code",
   "execution_count": 9,
   "outputs": [],
   "source": [
    "def estimate_player_position(\n",
    "        player_vectors: np.array,\n",
    "        position_vectors: np.array\n",
    ") -> list[str]:\n",
    "    estimated_positions = []\n",
    "    for player_vec in player_vectors:\n",
    "        sims = []\n",
    "        for position, position_vector in position_vectors.items():\n",
    "            # calculate cosine similarity\n",
    "            similarity = cosine_similarity(a=player_vec, b=position_vector)\n",
    "            sims.append((position, similarity))\n",
    "        # sort by similarity\n",
    "        sims = sorted(sims, key=lambda x: x[1], reverse=True)\n",
    "        # take the most similar position\n",
    "        estimated_positions.append((sims[0][0]))\n",
    "    return estimated_positions\n",
    "\n",
    "missing_estimates = estimate_player_position(missing_positions_vec, position_vectors)"
   ],
   "metadata": {
    "collapsed": false,
    "ExecuteTime": {
     "end_time": "2023-11-28T15:30:37.653379400Z",
     "start_time": "2023-11-28T15:30:36.310450700Z"
    }
   },
   "id": "acab48c7cb1c8e76"
  },
  {
   "cell_type": "code",
   "execution_count": 10,
   "outputs": [
    {
     "name": "stdout",
     "output_type": "stream",
     "text": [
      "Correct ratio: 0.16627176505432495\n"
     ]
    }
   ],
   "source": [
    "non_missing = df[~df['position'].isna()]\n",
    "non_missing_vecs = non_missing[feature_columns].values\n",
    "\n",
    "# calculate the estimated positions, for the non_missing players\n",
    "estimated_positions = estimate_player_position(non_missing_vecs, position_vectors)\n",
    "\n",
    "correct = (non_missing['position'] == estimated_positions).sum()\n",
    "wrong = (non_missing['position'] != estimated_positions).sum()\n",
    "\n",
    "print('Correct ratio:', correct / (correct + wrong))"
   ],
   "metadata": {
    "collapsed": false,
    "ExecuteTime": {
     "end_time": "2023-11-28T15:30:46.770144400Z",
     "start_time": "2023-11-28T15:30:37.653379400Z"
    }
   },
   "id": "5a5db839b00c75a9"
  },
  {
   "cell_type": "code",
   "execution_count": 11,
   "outputs": [
    {
     "name": "stdout",
     "output_type": "stream",
     "text": [
      "Correct ratio (random): 0.08243051550248633\n"
     ]
    }
   ],
   "source": [
    "# compare with random guessing\n",
    "random_positions = np.random.choice(positions, size=len(non_missing))\n",
    "correct_random = (non_missing['position'] == random_positions).sum()\n",
    "wrong_random = (non_missing['position'] != random_positions).sum()\n",
    "\n",
    "print('Correct ratio (random):', correct_random / (correct_random + wrong_random))"
   ],
   "metadata": {
    "collapsed": false,
    "ExecuteTime": {
     "end_time": "2023-11-28T15:30:46.817429400Z",
     "start_time": "2023-11-28T15:30:46.770144400Z"
    }
   },
   "id": "958604a3b2d6aab3"
  },
  {
   "cell_type": "code",
   "execution_count": 12,
   "outputs": [
    {
     "data": {
      "text/plain": "0.16627176505432495"
     },
     "execution_count": 12,
     "metadata": {},
     "output_type": "execute_result"
    }
   ],
   "source": [
    "def evaluate_position_estimation(\n",
    "        features,\n",
    "        player_df\n",
    "):\n",
    "    non_missing = player_df[~player_df['position'].isna()]\n",
    "    non_missing_vecs = non_missing[features].values\n",
    "    \n",
    "    positionvecs4features = position_vectors4features(\n",
    "        features,\n",
    "        player_df\n",
    "    )\n",
    "    \n",
    "    # calculate the estimated positions, for the non_missing players\n",
    "    estimated_positions = estimate_player_position(non_missing_vecs, positionvecs4features)\n",
    "    \n",
    "    correct = (non_missing['position'] == estimated_positions).sum()\n",
    "    wrong = (non_missing['position'] != estimated_positions).sum()\n",
    "    \n",
    "    # print('Correct ratio:', correct / (correct + wrong))\n",
    "    return correct / (correct + wrong)\n",
    "    \n",
    "evaluate_position_estimation(feature_columns, df)"
   ],
   "metadata": {
    "collapsed": false,
    "ExecuteTime": {
     "end_time": "2023-11-28T15:30:55.971521Z",
     "start_time": "2023-11-28T15:30:46.801389500Z"
    }
   },
   "id": "e993a4b8acbbdad2"
  },
  {
   "cell_type": "code",
   "execution_count": 13,
   "outputs": [],
   "source": [
    "from typing import Optional\n",
    "\n",
    "\n",
    "def forward_selection(\n",
    "        max_features: int,\n",
    "        player_df,\n",
    "        selected_features: Optional[list[str]],\n",
    "):\n",
    "    feature2score = {}\n",
    "    for feature in feature_columns:\n",
    "        if feature in selected_features:\n",
    "            continue\n",
    "        current_features = selected_features + [feature]\n",
    "        score = evaluate_position_estimation(\n",
    "            current_features,\n",
    "            player_df=player_df\n",
    "        )\n",
    "        feature2score[feature] = score\n",
    "    # get best feature from score\n",
    "    scores = sorted(feature2score.items(), key=lambda k: k[1], reverse=True)\n",
    "    best_feature = scores[0][0]\n",
    "    print(f'Adding feature: {best_feature} with score {scores[0][1]:4f}')\n",
    "    if max_features > 0:\n",
    "        return forward_selection(max_features - 1, player_df, selected_features + [best_feature])\n",
    "    return selected_features"
   ],
   "metadata": {
    "collapsed": false,
    "ExecuteTime": {
     "end_time": "2023-11-28T15:30:56.018097500Z",
     "start_time": "2023-11-28T15:30:55.971521Z"
    }
   },
   "id": "ed3d4b78c23191b7"
  },
  {
   "cell_type": "code",
   "execution_count": 14,
   "outputs": [],
   "source": [
    "def backward_selection(\n",
    "        max_features: int,\n",
    "        player_df,\n",
    "        selected_features: Optional[list[str]],\n",
    "):\n",
    "    feature2score = {}\n",
    "    for feature in feature_columns:\n",
    "        if feature not in selected_features:\n",
    "            continue\n",
    "        current_features = selected_features.copy()\n",
    "        current_features.remove(feature)\n",
    "        score = evaluate_position_estimation(\n",
    "            current_features,\n",
    "            player_df=player_df\n",
    "        )\n",
    "        feature2score[feature] = score\n",
    "    # get best feature from score\n",
    "    scores = sorted(feature2score.items(), key=lambda k: k[1], reverse=True)\n",
    "    worst_feature = scores[0][0]\n",
    "    selected_features.remove(worst_feature)\n",
    "    print(f'Removing feature: {worst_feature} with score {scores[0][1]:4f}')\n",
    "    if len(selected_features) > max_features:\n",
    "        return backward_selection(max_features, player_df, selected_features)\n",
    "    return selected_features"
   ],
   "metadata": {
    "collapsed": false,
    "ExecuteTime": {
     "end_time": "2023-11-28T15:30:56.024632700Z",
     "start_time": "2023-11-28T15:30:55.986845100Z"
    }
   },
   "id": "9830ae6b6bdb3398"
  },
  {
   "cell_type": "code",
   "execution_count": 15,
   "outputs": [
    {
     "name": "stdout",
     "output_type": "stream",
     "text": [
      "Adding feature: height with score 0.092103\n",
      "Adding feature: goals with score 0.161135\n",
      "Adding feature: yellowCards with score 0.180660\n",
      "Adding feature: yellowReds with score 0.180660\n",
      "Adding feature: redCards with score 0.180660\n",
      "Adding feature: ties with score 0.176178\n"
     ]
    },
    {
     "data": {
      "text/plain": "['height', 'goals', 'yellowCards', 'yellowReds', 'redCards']"
     },
     "execution_count": 15,
     "metadata": {},
     "output_type": "execute_result"
    }
   ],
   "source": [
    "# start with no features, go up to 3\n",
    "r = forward_selection(5, df, [])\n",
    "r"
   ],
   "metadata": {
    "collapsed": false,
    "ExecuteTime": {
     "end_time": "2023-11-28T15:37:45.164961500Z",
     "start_time": "2023-11-28T15:30:56.002470Z"
    }
   },
   "id": "a7afb4bb74f3407c"
  },
  {
   "cell_type": "code",
   "execution_count": 16,
   "outputs": [
    {
     "name": "stdout",
     "output_type": "stream",
     "text": [
      "Removing feature: victories with score 0.168407\n",
      "Removing feature: games with score 0.169460\n",
      "Removing feature: defeats with score 0.170714\n",
      "Removing feature: height with score 0.176552\n",
      "Removing feature: ties with score 0.179779\n"
     ]
    },
    {
     "data": {
      "text/plain": "['weight', 'goals', 'yellowCards', 'yellowReds', 'redCards']"
     },
     "execution_count": 16,
     "metadata": {},
     "output_type": "execute_result"
    }
   ],
   "source": [
    "# start with no features, go up to 3\n",
    "r = backward_selection(5, df, feature_columns.copy())\n",
    "r"
   ],
   "metadata": {
    "collapsed": false,
    "ExecuteTime": {
     "end_time": "2023-11-28T15:43:50.348262800Z",
     "start_time": "2023-11-28T15:37:45.164961500Z"
    }
   },
   "id": "67e34c45302f069e"
  },
  {
   "cell_type": "code",
   "execution_count": 17,
   "outputs": [
    {
     "data": {
      "text/plain": "0.16627176505432495"
     },
     "execution_count": 17,
     "metadata": {},
     "output_type": "execute_result"
    }
   ],
   "source": [
    "score = evaluate_position_estimation(feature_columns, df)\n",
    "score"
   ],
   "metadata": {
    "collapsed": false,
    "ExecuteTime": {
     "end_time": "2023-11-28T15:43:59.629403500Z",
     "start_time": "2023-11-28T15:43:50.348262800Z"
    }
   },
   "id": "28ed79a7107d9c18"
  },
  {
   "cell_type": "markdown",
   "source": [
    "# Task 2 - Normalization\n",
    "Normalize all values in the `feature_columns` to be between 0 and 1."
   ],
   "metadata": {
    "collapsed": false
   },
   "id": "d6f42eb41b84c06b"
  },
  {
   "cell_type": "code",
   "execution_count": 31,
   "outputs": [
    {
     "data": {
      "text/plain": "     playerShort         player             club leagueCountry    birthday  \\\n0  lucas-wilchez  Lucas Wilchez    Real Zaragoza         Spain  31.08.1983   \n1     john-utaka     John Utaka  Montpellier HSC        France  08.01.1982   \n2    abdon-prats    Abdón Prats     RCD Mallorca         Spain  17.12.1992   \n3     pablo-mari     Pablo Marí     RCD Mallorca         Spain  31.08.1993   \n4     ruben-pena     Rubén Peña  Real Valladolid         Spain  18.07.1991   \n\n     height    weight              position  games  victories  ...  rater2  \\\n0  0.380952  0.391304  Attacking Midfielder    0.0   0.000000  ...    0.50   \n1  0.428571  0.608696          Right Winger    0.0   0.000000  ...    0.75   \n2  0.476190  0.543478                   NaN    0.0   0.000000  ...     NaN   \n3  0.714286  0.717391           Center Back    0.0   0.034483  ...     NaN   \n4  0.261905  0.347826      Right Midfielder    0.0   0.034483  ...     NaN   \n\n   refNum  refCountry  Alpha_3   meanIAT    nIAT     seIAT   meanExp    nExp  \\\n0       1           1      GRC  0.326391   712.0  0.000564  0.396000   750.0   \n1       2           2      ZMB  0.203375    40.0  0.010875 -0.204082    49.0   \n2       3           3      ESP  0.369894  1785.0  0.000229  0.588297  1897.0   \n3       3           3      ESP  0.369894  1785.0  0.000229  0.588297  1897.0   \n4       3           3      ESP  0.369894  1785.0  0.000229  0.588297  1897.0   \n\n      seExp  \n0  0.002696  \n1  0.061504  \n2  0.001002  \n3  0.001002  \n4  0.001002  \n\n[5 rows x 28 columns]",
      "text/html": "<div>\n<style scoped>\n    .dataframe tbody tr th:only-of-type {\n        vertical-align: middle;\n    }\n\n    .dataframe tbody tr th {\n        vertical-align: top;\n    }\n\n    .dataframe thead th {\n        text-align: right;\n    }\n</style>\n<table border=\"1\" class=\"dataframe\">\n  <thead>\n    <tr style=\"text-align: right;\">\n      <th></th>\n      <th>playerShort</th>\n      <th>player</th>\n      <th>club</th>\n      <th>leagueCountry</th>\n      <th>birthday</th>\n      <th>height</th>\n      <th>weight</th>\n      <th>position</th>\n      <th>games</th>\n      <th>victories</th>\n      <th>...</th>\n      <th>rater2</th>\n      <th>refNum</th>\n      <th>refCountry</th>\n      <th>Alpha_3</th>\n      <th>meanIAT</th>\n      <th>nIAT</th>\n      <th>seIAT</th>\n      <th>meanExp</th>\n      <th>nExp</th>\n      <th>seExp</th>\n    </tr>\n  </thead>\n  <tbody>\n    <tr>\n      <th>0</th>\n      <td>lucas-wilchez</td>\n      <td>Lucas Wilchez</td>\n      <td>Real Zaragoza</td>\n      <td>Spain</td>\n      <td>31.08.1983</td>\n      <td>0.380952</td>\n      <td>0.391304</td>\n      <td>Attacking Midfielder</td>\n      <td>0.0</td>\n      <td>0.000000</td>\n      <td>...</td>\n      <td>0.50</td>\n      <td>1</td>\n      <td>1</td>\n      <td>GRC</td>\n      <td>0.326391</td>\n      <td>712.0</td>\n      <td>0.000564</td>\n      <td>0.396000</td>\n      <td>750.0</td>\n      <td>0.002696</td>\n    </tr>\n    <tr>\n      <th>1</th>\n      <td>john-utaka</td>\n      <td>John Utaka</td>\n      <td>Montpellier HSC</td>\n      <td>France</td>\n      <td>08.01.1982</td>\n      <td>0.428571</td>\n      <td>0.608696</td>\n      <td>Right Winger</td>\n      <td>0.0</td>\n      <td>0.000000</td>\n      <td>...</td>\n      <td>0.75</td>\n      <td>2</td>\n      <td>2</td>\n      <td>ZMB</td>\n      <td>0.203375</td>\n      <td>40.0</td>\n      <td>0.010875</td>\n      <td>-0.204082</td>\n      <td>49.0</td>\n      <td>0.061504</td>\n    </tr>\n    <tr>\n      <th>2</th>\n      <td>abdon-prats</td>\n      <td>Abdón Prats</td>\n      <td>RCD Mallorca</td>\n      <td>Spain</td>\n      <td>17.12.1992</td>\n      <td>0.476190</td>\n      <td>0.543478</td>\n      <td>NaN</td>\n      <td>0.0</td>\n      <td>0.000000</td>\n      <td>...</td>\n      <td>NaN</td>\n      <td>3</td>\n      <td>3</td>\n      <td>ESP</td>\n      <td>0.369894</td>\n      <td>1785.0</td>\n      <td>0.000229</td>\n      <td>0.588297</td>\n      <td>1897.0</td>\n      <td>0.001002</td>\n    </tr>\n    <tr>\n      <th>3</th>\n      <td>pablo-mari</td>\n      <td>Pablo Marí</td>\n      <td>RCD Mallorca</td>\n      <td>Spain</td>\n      <td>31.08.1993</td>\n      <td>0.714286</td>\n      <td>0.717391</td>\n      <td>Center Back</td>\n      <td>0.0</td>\n      <td>0.034483</td>\n      <td>...</td>\n      <td>NaN</td>\n      <td>3</td>\n      <td>3</td>\n      <td>ESP</td>\n      <td>0.369894</td>\n      <td>1785.0</td>\n      <td>0.000229</td>\n      <td>0.588297</td>\n      <td>1897.0</td>\n      <td>0.001002</td>\n    </tr>\n    <tr>\n      <th>4</th>\n      <td>ruben-pena</td>\n      <td>Rubén Peña</td>\n      <td>Real Valladolid</td>\n      <td>Spain</td>\n      <td>18.07.1991</td>\n      <td>0.261905</td>\n      <td>0.347826</td>\n      <td>Right Midfielder</td>\n      <td>0.0</td>\n      <td>0.034483</td>\n      <td>...</td>\n      <td>NaN</td>\n      <td>3</td>\n      <td>3</td>\n      <td>ESP</td>\n      <td>0.369894</td>\n      <td>1785.0</td>\n      <td>0.000229</td>\n      <td>0.588297</td>\n      <td>1897.0</td>\n      <td>0.001002</td>\n    </tr>\n  </tbody>\n</table>\n<p>5 rows × 28 columns</p>\n</div>"
     },
     "execution_count": 31,
     "metadata": {},
     "output_type": "execute_result"
    }
   ],
   "source": [
    "df_norm = df.copy()\n",
    "\n",
    "# probleme: durch null teilen (nicht verwendbar) / max ist absurd gross dann ist das df am schluss 0\n",
    "# outlines müsste man zuvor berenigen -> statt 170 cm 1700000cm \n",
    "\n",
    "for feature in feature_columns:\n",
    "    f_min = df[feature].min()\n",
    "    f_max = df[feature].max()\n",
    "    df_norm[feature] = (df[feature] - f_min) / (f_max - f_min)\n",
    "    \n",
    "df_norm.head()"
   ],
   "metadata": {
    "collapsed": false,
    "ExecuteTime": {
     "end_time": "2023-11-28T15:45:39.758630300Z",
     "start_time": "2023-11-28T15:45:39.712185500Z"
    }
   },
   "id": "826f5e5257f3cdd6"
  },
  {
   "cell_type": "markdown",
   "source": [
    "# Task 3 - Binarization\n",
    "Binarize all values in the `leagueCountry` column. Add a column for each possible value, and set it to 1 if the value is present, and 0 otherwise."
   ],
   "metadata": {
    "collapsed": false
   },
   "id": "30e87410db40e2bd"
  },
  {
   "cell_type": "code",
   "execution_count": 49,
   "outputs": [
    {
     "data": {
      "text/plain": "                playerShort               player                  club  \\\n0             lucas-wilchez        Lucas Wilchez         Real Zaragoza   \n1                john-utaka           John Utaka       Montpellier HSC   \n2               abdon-prats          Abdón Prats          RCD Mallorca   \n3                pablo-mari           Pablo Marí          RCD Mallorca   \n4                ruben-pena           Rubén Peña       Real Valladolid   \n...                     ...                  ...                   ...   \n146023        tomas-rosicky        Tomáš Rosický            Arsenal FC   \n146024         winston-reid         Winston Reid       West Ham United   \n146025      xherdan-shaqiri      Xherdan Shaqiri        Bayern München   \n146026  yassine-el-ghanassi  Yassine El Ghanassi  West Bromwich Albion   \n146027         zdenk-pospch       Zdeněk Pospěch       1. FSV Mainz 05   \n\n          birthday  height  weight              position  games  victories  \\\n0       31.08.1983   177.0    72.0  Attacking Midfielder      1          0   \n1       08.01.1982   179.0    82.0          Right Winger      1          0   \n2       17.12.1992   181.0    79.0                   NaN      1          0   \n3       31.08.1993   191.0    87.0           Center Back      1          1   \n4       18.07.1991   172.0    70.0      Right Midfielder      1          1   \n...            ...     ...     ...                   ...    ...        ...   \n146023  04.10.1980   178.0    67.0  Attacking Midfielder      1          1   \n146024  03.07.1988   190.0    87.0           Center Back      1          0   \n146025  10.10.1991   169.0    72.0       Left Midfielder      1          1   \n146026  12.07.1990   173.0     NaN           Left Winger      1          0   \n146027  14.12.1978   174.0    72.0        Right Fullback      1          0   \n\n        ties  ...   meanIAT    nIAT     seIAT   meanExp    nExp     seExp  \\\n0          0  ...  0.326391   712.0  0.000564  0.396000   750.0  0.002696   \n1          0  ...  0.203375    40.0  0.010875 -0.204082    49.0  0.061504   \n2          1  ...  0.369894  1785.0  0.000229  0.588297  1897.0  0.001002   \n3          0  ...  0.369894  1785.0  0.000229  0.588297  1897.0  0.001002   \n4          0  ...  0.369894  1785.0  0.000229  0.588297  1897.0  0.001002   \n...      ...  ...       ...     ...       ...       ...     ...       ...   \n146023     0  ...  0.376127   574.0  0.000714  0.498350   606.0  0.002968   \n146024     0  ...  0.376127   574.0  0.000714  0.498350   606.0  0.002968   \n146025     0  ...  0.376127   574.0  0.000714  0.498350   606.0  0.002968   \n146026     0  ...  0.376127   574.0  0.000714  0.498350   606.0  0.002968   \n146027     0  ...  0.376127   574.0  0.000714  0.498350   606.0  0.002968   \n\n        leagueCountry_England  leagueCountry_France  leagueCountry_Germany  \\\n0                           0                     0                      0   \n1                           0                     1                      0   \n2                           0                     0                      0   \n3                           0                     0                      0   \n4                           0                     0                      0   \n...                       ...                   ...                    ...   \n146023                      1                     0                      0   \n146024                      1                     0                      0   \n146025                      0                     0                      1   \n146026                      1                     0                      0   \n146027                      0                     0                      1   \n\n        leagueCountry_Spain  \n0                         1  \n1                         0  \n2                         1  \n3                         1  \n4                         1  \n...                     ...  \n146023                    0  \n146024                    0  \n146025                    0  \n146026                    0  \n146027                    0  \n\n[146028 rows x 31 columns]",
      "text/html": "<div>\n<style scoped>\n    .dataframe tbody tr th:only-of-type {\n        vertical-align: middle;\n    }\n\n    .dataframe tbody tr th {\n        vertical-align: top;\n    }\n\n    .dataframe thead th {\n        text-align: right;\n    }\n</style>\n<table border=\"1\" class=\"dataframe\">\n  <thead>\n    <tr style=\"text-align: right;\">\n      <th></th>\n      <th>playerShort</th>\n      <th>player</th>\n      <th>club</th>\n      <th>birthday</th>\n      <th>height</th>\n      <th>weight</th>\n      <th>position</th>\n      <th>games</th>\n      <th>victories</th>\n      <th>ties</th>\n      <th>...</th>\n      <th>meanIAT</th>\n      <th>nIAT</th>\n      <th>seIAT</th>\n      <th>meanExp</th>\n      <th>nExp</th>\n      <th>seExp</th>\n      <th>leagueCountry_England</th>\n      <th>leagueCountry_France</th>\n      <th>leagueCountry_Germany</th>\n      <th>leagueCountry_Spain</th>\n    </tr>\n  </thead>\n  <tbody>\n    <tr>\n      <th>0</th>\n      <td>lucas-wilchez</td>\n      <td>Lucas Wilchez</td>\n      <td>Real Zaragoza</td>\n      <td>31.08.1983</td>\n      <td>177.0</td>\n      <td>72.0</td>\n      <td>Attacking Midfielder</td>\n      <td>1</td>\n      <td>0</td>\n      <td>0</td>\n      <td>...</td>\n      <td>0.326391</td>\n      <td>712.0</td>\n      <td>0.000564</td>\n      <td>0.396000</td>\n      <td>750.0</td>\n      <td>0.002696</td>\n      <td>0</td>\n      <td>0</td>\n      <td>0</td>\n      <td>1</td>\n    </tr>\n    <tr>\n      <th>1</th>\n      <td>john-utaka</td>\n      <td>John Utaka</td>\n      <td>Montpellier HSC</td>\n      <td>08.01.1982</td>\n      <td>179.0</td>\n      <td>82.0</td>\n      <td>Right Winger</td>\n      <td>1</td>\n      <td>0</td>\n      <td>0</td>\n      <td>...</td>\n      <td>0.203375</td>\n      <td>40.0</td>\n      <td>0.010875</td>\n      <td>-0.204082</td>\n      <td>49.0</td>\n      <td>0.061504</td>\n      <td>0</td>\n      <td>1</td>\n      <td>0</td>\n      <td>0</td>\n    </tr>\n    <tr>\n      <th>2</th>\n      <td>abdon-prats</td>\n      <td>Abdón Prats</td>\n      <td>RCD Mallorca</td>\n      <td>17.12.1992</td>\n      <td>181.0</td>\n      <td>79.0</td>\n      <td>NaN</td>\n      <td>1</td>\n      <td>0</td>\n      <td>1</td>\n      <td>...</td>\n      <td>0.369894</td>\n      <td>1785.0</td>\n      <td>0.000229</td>\n      <td>0.588297</td>\n      <td>1897.0</td>\n      <td>0.001002</td>\n      <td>0</td>\n      <td>0</td>\n      <td>0</td>\n      <td>1</td>\n    </tr>\n    <tr>\n      <th>3</th>\n      <td>pablo-mari</td>\n      <td>Pablo Marí</td>\n      <td>RCD Mallorca</td>\n      <td>31.08.1993</td>\n      <td>191.0</td>\n      <td>87.0</td>\n      <td>Center Back</td>\n      <td>1</td>\n      <td>1</td>\n      <td>0</td>\n      <td>...</td>\n      <td>0.369894</td>\n      <td>1785.0</td>\n      <td>0.000229</td>\n      <td>0.588297</td>\n      <td>1897.0</td>\n      <td>0.001002</td>\n      <td>0</td>\n      <td>0</td>\n      <td>0</td>\n      <td>1</td>\n    </tr>\n    <tr>\n      <th>4</th>\n      <td>ruben-pena</td>\n      <td>Rubén Peña</td>\n      <td>Real Valladolid</td>\n      <td>18.07.1991</td>\n      <td>172.0</td>\n      <td>70.0</td>\n      <td>Right Midfielder</td>\n      <td>1</td>\n      <td>1</td>\n      <td>0</td>\n      <td>...</td>\n      <td>0.369894</td>\n      <td>1785.0</td>\n      <td>0.000229</td>\n      <td>0.588297</td>\n      <td>1897.0</td>\n      <td>0.001002</td>\n      <td>0</td>\n      <td>0</td>\n      <td>0</td>\n      <td>1</td>\n    </tr>\n    <tr>\n      <th>...</th>\n      <td>...</td>\n      <td>...</td>\n      <td>...</td>\n      <td>...</td>\n      <td>...</td>\n      <td>...</td>\n      <td>...</td>\n      <td>...</td>\n      <td>...</td>\n      <td>...</td>\n      <td>...</td>\n      <td>...</td>\n      <td>...</td>\n      <td>...</td>\n      <td>...</td>\n      <td>...</td>\n      <td>...</td>\n      <td>...</td>\n      <td>...</td>\n      <td>...</td>\n      <td>...</td>\n    </tr>\n    <tr>\n      <th>146023</th>\n      <td>tomas-rosicky</td>\n      <td>Tomáš Rosický</td>\n      <td>Arsenal FC</td>\n      <td>04.10.1980</td>\n      <td>178.0</td>\n      <td>67.0</td>\n      <td>Attacking Midfielder</td>\n      <td>1</td>\n      <td>1</td>\n      <td>0</td>\n      <td>...</td>\n      <td>0.376127</td>\n      <td>574.0</td>\n      <td>0.000714</td>\n      <td>0.498350</td>\n      <td>606.0</td>\n      <td>0.002968</td>\n      <td>1</td>\n      <td>0</td>\n      <td>0</td>\n      <td>0</td>\n    </tr>\n    <tr>\n      <th>146024</th>\n      <td>winston-reid</td>\n      <td>Winston Reid</td>\n      <td>West Ham United</td>\n      <td>03.07.1988</td>\n      <td>190.0</td>\n      <td>87.0</td>\n      <td>Center Back</td>\n      <td>1</td>\n      <td>0</td>\n      <td>0</td>\n      <td>...</td>\n      <td>0.376127</td>\n      <td>574.0</td>\n      <td>0.000714</td>\n      <td>0.498350</td>\n      <td>606.0</td>\n      <td>0.002968</td>\n      <td>1</td>\n      <td>0</td>\n      <td>0</td>\n      <td>0</td>\n    </tr>\n    <tr>\n      <th>146025</th>\n      <td>xherdan-shaqiri</td>\n      <td>Xherdan Shaqiri</td>\n      <td>Bayern München</td>\n      <td>10.10.1991</td>\n      <td>169.0</td>\n      <td>72.0</td>\n      <td>Left Midfielder</td>\n      <td>1</td>\n      <td>1</td>\n      <td>0</td>\n      <td>...</td>\n      <td>0.376127</td>\n      <td>574.0</td>\n      <td>0.000714</td>\n      <td>0.498350</td>\n      <td>606.0</td>\n      <td>0.002968</td>\n      <td>0</td>\n      <td>0</td>\n      <td>1</td>\n      <td>0</td>\n    </tr>\n    <tr>\n      <th>146026</th>\n      <td>yassine-el-ghanassi</td>\n      <td>Yassine El Ghanassi</td>\n      <td>West Bromwich Albion</td>\n      <td>12.07.1990</td>\n      <td>173.0</td>\n      <td>NaN</td>\n      <td>Left Winger</td>\n      <td>1</td>\n      <td>0</td>\n      <td>0</td>\n      <td>...</td>\n      <td>0.376127</td>\n      <td>574.0</td>\n      <td>0.000714</td>\n      <td>0.498350</td>\n      <td>606.0</td>\n      <td>0.002968</td>\n      <td>1</td>\n      <td>0</td>\n      <td>0</td>\n      <td>0</td>\n    </tr>\n    <tr>\n      <th>146027</th>\n      <td>zdenk-pospch</td>\n      <td>Zdeněk Pospěch</td>\n      <td>1. FSV Mainz 05</td>\n      <td>14.12.1978</td>\n      <td>174.0</td>\n      <td>72.0</td>\n      <td>Right Fullback</td>\n      <td>1</td>\n      <td>0</td>\n      <td>0</td>\n      <td>...</td>\n      <td>0.376127</td>\n      <td>574.0</td>\n      <td>0.000714</td>\n      <td>0.498350</td>\n      <td>606.0</td>\n      <td>0.002968</td>\n      <td>0</td>\n      <td>0</td>\n      <td>1</td>\n      <td>0</td>\n    </tr>\n  </tbody>\n</table>\n<p>146028 rows × 31 columns</p>\n</div>"
     },
     "execution_count": 49,
     "metadata": {},
     "output_type": "execute_result"
    }
   ],
   "source": [
    "#pandas\n",
    "df_bin_dum = pd.get_dummies(df, columns=['leagueCountry'], dtype=int)\n",
    "df_bin_dum"
   ],
   "metadata": {
    "collapsed": false,
    "ExecuteTime": {
     "end_time": "2023-11-28T16:15:52.344804900Z",
     "start_time": "2023-11-28T16:15:52.238519300Z"
    }
   },
   "id": "1a41f46043b29925"
  },
  {
   "cell_type": "code",
   "execution_count": 50,
   "outputs": [
    {
     "data": {
      "text/plain": "                playerShort               player                  club  \\\n0             lucas-wilchez        Lucas Wilchez         Real Zaragoza   \n1                john-utaka           John Utaka       Montpellier HSC   \n2               abdon-prats          Abdón Prats          RCD Mallorca   \n3                pablo-mari           Pablo Marí          RCD Mallorca   \n4                ruben-pena           Rubén Peña       Real Valladolid   \n...                     ...                  ...                   ...   \n146023        tomas-rosicky        Tomáš Rosický            Arsenal FC   \n146024         winston-reid         Winston Reid       West Ham United   \n146025      xherdan-shaqiri      Xherdan Shaqiri        Bayern München   \n146026  yassine-el-ghanassi  Yassine El Ghanassi  West Bromwich Albion   \n146027         zdenk-pospch       Zdeněk Pospěch       1. FSV Mainz 05   \n\n       leagueCountry    birthday  height  weight              position  games  \\\n0              Spain  31.08.1983   177.0    72.0  Attacking Midfielder      1   \n1             France  08.01.1982   179.0    82.0          Right Winger      1   \n2              Spain  17.12.1992   181.0    79.0                   NaN      1   \n3              Spain  31.08.1993   191.0    87.0           Center Back      1   \n4              Spain  18.07.1991   172.0    70.0      Right Midfielder      1   \n...              ...         ...     ...     ...                   ...    ...   \n146023       England  04.10.1980   178.0    67.0  Attacking Midfielder      1   \n146024       England  03.07.1988   190.0    87.0           Center Back      1   \n146025       Germany  10.10.1991   169.0    72.0       Left Midfielder      1   \n146026       England  12.07.1990   173.0     NaN           Left Winger      1   \n146027       Germany  14.12.1978   174.0    72.0        Right Fullback      1   \n\n        victories  ...   meanIAT    nIAT     seIAT   meanExp    nExp  \\\n0               0  ...  0.326391   712.0  0.000564  0.396000   750.0   \n1               0  ...  0.203375    40.0  0.010875 -0.204082    49.0   \n2               0  ...  0.369894  1785.0  0.000229  0.588297  1897.0   \n3               1  ...  0.369894  1785.0  0.000229  0.588297  1897.0   \n4               1  ...  0.369894  1785.0  0.000229  0.588297  1897.0   \n...           ...  ...       ...     ...       ...       ...     ...   \n146023          1  ...  0.376127   574.0  0.000714  0.498350   606.0   \n146024          0  ...  0.376127   574.0  0.000714  0.498350   606.0   \n146025          1  ...  0.376127   574.0  0.000714  0.498350   606.0   \n146026          0  ...  0.376127   574.0  0.000714  0.498350   606.0   \n146027          0  ...  0.376127   574.0  0.000714  0.498350   606.0   \n\n           seExp leagueCountry_Spain  leagueCountry_France  \\\n0       0.002696                   1                     0   \n1       0.061504                   0                     1   \n2       0.001002                   1                     0   \n3       0.001002                   1                     0   \n4       0.001002                   1                     0   \n...          ...                 ...                   ...   \n146023  0.002968                   0                     0   \n146024  0.002968                   0                     0   \n146025  0.002968                   0                     0   \n146026  0.002968                   0                     0   \n146027  0.002968                   0                     0   \n\n        leagueCountry_England  leagueCountry_Germany  \n0                           0                      0  \n1                           0                      0  \n2                           0                      0  \n3                           0                      0  \n4                           0                      0  \n...                       ...                    ...  \n146023                      1                      0  \n146024                      1                      0  \n146025                      0                      1  \n146026                      1                      0  \n146027                      0                      1  \n\n[146028 rows x 32 columns]",
      "text/html": "<div>\n<style scoped>\n    .dataframe tbody tr th:only-of-type {\n        vertical-align: middle;\n    }\n\n    .dataframe tbody tr th {\n        vertical-align: top;\n    }\n\n    .dataframe thead th {\n        text-align: right;\n    }\n</style>\n<table border=\"1\" class=\"dataframe\">\n  <thead>\n    <tr style=\"text-align: right;\">\n      <th></th>\n      <th>playerShort</th>\n      <th>player</th>\n      <th>club</th>\n      <th>leagueCountry</th>\n      <th>birthday</th>\n      <th>height</th>\n      <th>weight</th>\n      <th>position</th>\n      <th>games</th>\n      <th>victories</th>\n      <th>...</th>\n      <th>meanIAT</th>\n      <th>nIAT</th>\n      <th>seIAT</th>\n      <th>meanExp</th>\n      <th>nExp</th>\n      <th>seExp</th>\n      <th>leagueCountry_Spain</th>\n      <th>leagueCountry_France</th>\n      <th>leagueCountry_England</th>\n      <th>leagueCountry_Germany</th>\n    </tr>\n  </thead>\n  <tbody>\n    <tr>\n      <th>0</th>\n      <td>lucas-wilchez</td>\n      <td>Lucas Wilchez</td>\n      <td>Real Zaragoza</td>\n      <td>Spain</td>\n      <td>31.08.1983</td>\n      <td>177.0</td>\n      <td>72.0</td>\n      <td>Attacking Midfielder</td>\n      <td>1</td>\n      <td>0</td>\n      <td>...</td>\n      <td>0.326391</td>\n      <td>712.0</td>\n      <td>0.000564</td>\n      <td>0.396000</td>\n      <td>750.0</td>\n      <td>0.002696</td>\n      <td>1</td>\n      <td>0</td>\n      <td>0</td>\n      <td>0</td>\n    </tr>\n    <tr>\n      <th>1</th>\n      <td>john-utaka</td>\n      <td>John Utaka</td>\n      <td>Montpellier HSC</td>\n      <td>France</td>\n      <td>08.01.1982</td>\n      <td>179.0</td>\n      <td>82.0</td>\n      <td>Right Winger</td>\n      <td>1</td>\n      <td>0</td>\n      <td>...</td>\n      <td>0.203375</td>\n      <td>40.0</td>\n      <td>0.010875</td>\n      <td>-0.204082</td>\n      <td>49.0</td>\n      <td>0.061504</td>\n      <td>0</td>\n      <td>1</td>\n      <td>0</td>\n      <td>0</td>\n    </tr>\n    <tr>\n      <th>2</th>\n      <td>abdon-prats</td>\n      <td>Abdón Prats</td>\n      <td>RCD Mallorca</td>\n      <td>Spain</td>\n      <td>17.12.1992</td>\n      <td>181.0</td>\n      <td>79.0</td>\n      <td>NaN</td>\n      <td>1</td>\n      <td>0</td>\n      <td>...</td>\n      <td>0.369894</td>\n      <td>1785.0</td>\n      <td>0.000229</td>\n      <td>0.588297</td>\n      <td>1897.0</td>\n      <td>0.001002</td>\n      <td>1</td>\n      <td>0</td>\n      <td>0</td>\n      <td>0</td>\n    </tr>\n    <tr>\n      <th>3</th>\n      <td>pablo-mari</td>\n      <td>Pablo Marí</td>\n      <td>RCD Mallorca</td>\n      <td>Spain</td>\n      <td>31.08.1993</td>\n      <td>191.0</td>\n      <td>87.0</td>\n      <td>Center Back</td>\n      <td>1</td>\n      <td>1</td>\n      <td>...</td>\n      <td>0.369894</td>\n      <td>1785.0</td>\n      <td>0.000229</td>\n      <td>0.588297</td>\n      <td>1897.0</td>\n      <td>0.001002</td>\n      <td>1</td>\n      <td>0</td>\n      <td>0</td>\n      <td>0</td>\n    </tr>\n    <tr>\n      <th>4</th>\n      <td>ruben-pena</td>\n      <td>Rubén Peña</td>\n      <td>Real Valladolid</td>\n      <td>Spain</td>\n      <td>18.07.1991</td>\n      <td>172.0</td>\n      <td>70.0</td>\n      <td>Right Midfielder</td>\n      <td>1</td>\n      <td>1</td>\n      <td>...</td>\n      <td>0.369894</td>\n      <td>1785.0</td>\n      <td>0.000229</td>\n      <td>0.588297</td>\n      <td>1897.0</td>\n      <td>0.001002</td>\n      <td>1</td>\n      <td>0</td>\n      <td>0</td>\n      <td>0</td>\n    </tr>\n    <tr>\n      <th>...</th>\n      <td>...</td>\n      <td>...</td>\n      <td>...</td>\n      <td>...</td>\n      <td>...</td>\n      <td>...</td>\n      <td>...</td>\n      <td>...</td>\n      <td>...</td>\n      <td>...</td>\n      <td>...</td>\n      <td>...</td>\n      <td>...</td>\n      <td>...</td>\n      <td>...</td>\n      <td>...</td>\n      <td>...</td>\n      <td>...</td>\n      <td>...</td>\n      <td>...</td>\n      <td>...</td>\n    </tr>\n    <tr>\n      <th>146023</th>\n      <td>tomas-rosicky</td>\n      <td>Tomáš Rosický</td>\n      <td>Arsenal FC</td>\n      <td>England</td>\n      <td>04.10.1980</td>\n      <td>178.0</td>\n      <td>67.0</td>\n      <td>Attacking Midfielder</td>\n      <td>1</td>\n      <td>1</td>\n      <td>...</td>\n      <td>0.376127</td>\n      <td>574.0</td>\n      <td>0.000714</td>\n      <td>0.498350</td>\n      <td>606.0</td>\n      <td>0.002968</td>\n      <td>0</td>\n      <td>0</td>\n      <td>1</td>\n      <td>0</td>\n    </tr>\n    <tr>\n      <th>146024</th>\n      <td>winston-reid</td>\n      <td>Winston Reid</td>\n      <td>West Ham United</td>\n      <td>England</td>\n      <td>03.07.1988</td>\n      <td>190.0</td>\n      <td>87.0</td>\n      <td>Center Back</td>\n      <td>1</td>\n      <td>0</td>\n      <td>...</td>\n      <td>0.376127</td>\n      <td>574.0</td>\n      <td>0.000714</td>\n      <td>0.498350</td>\n      <td>606.0</td>\n      <td>0.002968</td>\n      <td>0</td>\n      <td>0</td>\n      <td>1</td>\n      <td>0</td>\n    </tr>\n    <tr>\n      <th>146025</th>\n      <td>xherdan-shaqiri</td>\n      <td>Xherdan Shaqiri</td>\n      <td>Bayern München</td>\n      <td>Germany</td>\n      <td>10.10.1991</td>\n      <td>169.0</td>\n      <td>72.0</td>\n      <td>Left Midfielder</td>\n      <td>1</td>\n      <td>1</td>\n      <td>...</td>\n      <td>0.376127</td>\n      <td>574.0</td>\n      <td>0.000714</td>\n      <td>0.498350</td>\n      <td>606.0</td>\n      <td>0.002968</td>\n      <td>0</td>\n      <td>0</td>\n      <td>0</td>\n      <td>1</td>\n    </tr>\n    <tr>\n      <th>146026</th>\n      <td>yassine-el-ghanassi</td>\n      <td>Yassine El Ghanassi</td>\n      <td>West Bromwich Albion</td>\n      <td>England</td>\n      <td>12.07.1990</td>\n      <td>173.0</td>\n      <td>NaN</td>\n      <td>Left Winger</td>\n      <td>1</td>\n      <td>0</td>\n      <td>...</td>\n      <td>0.376127</td>\n      <td>574.0</td>\n      <td>0.000714</td>\n      <td>0.498350</td>\n      <td>606.0</td>\n      <td>0.002968</td>\n      <td>0</td>\n      <td>0</td>\n      <td>1</td>\n      <td>0</td>\n    </tr>\n    <tr>\n      <th>146027</th>\n      <td>zdenk-pospch</td>\n      <td>Zdeněk Pospěch</td>\n      <td>1. FSV Mainz 05</td>\n      <td>Germany</td>\n      <td>14.12.1978</td>\n      <td>174.0</td>\n      <td>72.0</td>\n      <td>Right Fullback</td>\n      <td>1</td>\n      <td>0</td>\n      <td>...</td>\n      <td>0.376127</td>\n      <td>574.0</td>\n      <td>0.000714</td>\n      <td>0.498350</td>\n      <td>606.0</td>\n      <td>0.002968</td>\n      <td>0</td>\n      <td>0</td>\n      <td>0</td>\n      <td>1</td>\n    </tr>\n  </tbody>\n</table>\n<p>146028 rows × 32 columns</p>\n</div>"
     },
     "execution_count": 50,
     "metadata": {},
     "output_type": "execute_result"
    }
   ],
   "source": [
    "#manuell\n",
    "df_bin = df.copy()\n",
    "for country in df_bin['leagueCountry'].unique():\n",
    "    df_bin[f'leagueCountry_{country}'] = (df_bin['leagueCountry'] == country).astype(int)\n",
    "    \n",
    "df_bin"
   ],
   "metadata": {
    "collapsed": false,
    "ExecuteTime": {
     "end_time": "2023-11-28T16:15:54.419938200Z",
     "start_time": "2023-11-28T16:15:54.321232500Z"
    }
   },
   "id": "16fbbddea978db0e"
  },
  {
   "cell_type": "code",
   "execution_count": 46,
   "outputs": [
    {
     "name": "stdout",
     "output_type": "stream",
     "text": [
      "Results with binarization0.16837617496219856\n",
      "Results with non binarization0.16627176505432495\n"
     ]
    }
   ],
   "source": [
    "feature_columns_bin = feature_columns + [f'leagueCountry_{country}' for country in df_bin['leagueCountry'].unique()]\n",
    "\n",
    "res_bin = evaluate_position_estimation(feature_columns_bin, df_bin)\n",
    "res_non_bin = evaluate_position_estimation(feature_columns, df)\n",
    "\n",
    "print(f'Results with binarization{res_bin}')\n",
    "print(f'Results with non binarization{res_non_bin}')"
   ],
   "metadata": {
    "collapsed": false,
    "ExecuteTime": {
     "end_time": "2023-11-28T16:11:39.116831600Z",
     "start_time": "2023-11-28T16:11:21.573382900Z"
    }
   },
   "id": "7411fe6d329bd1e7"
  },
  {
   "cell_type": "markdown",
   "source": [
    "# Task 4 - PCA\n",
    "\n",
    "Use PCA to reduce the number of features to 2. Then, use the 2 features to estimate the position of the players.\n",
    "\n",
    "fit_transform()"
   ],
   "metadata": {
    "collapsed": false
   },
   "id": "3370ae3a6bf29e1d"
  },
  {
   "cell_type": "code",
   "execution_count": 53,
   "outputs": [
    {
     "data": {
      "text/plain": "(146028, 28)"
     },
     "execution_count": 53,
     "metadata": {},
     "output_type": "execute_result"
    }
   ],
   "source": [
    "df.shape"
   ],
   "metadata": {
    "collapsed": false,
    "ExecuteTime": {
     "end_time": "2023-11-28T16:31:43.626940Z",
     "start_time": "2023-11-28T16:31:43.607256500Z"
    }
   },
   "id": "8d3237810b622063"
  },
  {
   "cell_type": "code",
   "execution_count": null,
   "outputs": [],
   "source": [
    "from sklearn\n",
    "\n",
    "reduced_features = \n",
    "\n",
    "reduced_features"
   ],
   "metadata": {
    "collapsed": false
   },
   "id": "f3ac2b412183e297"
  },
  {
   "cell_type": "code",
   "execution_count": null,
   "outputs": [],
   "source": [
    "pca_feature_names = [f'feature{i}' for i in range(reduced_features.shape[1])]\n",
    "\n",
    "df_pca = pd.DataFrame(reduced_features, columns=pca_feature_names)\n",
    "df_pca['position'] = df['position']\n",
    "df_pca = df."
   ],
   "metadata": {
    "collapsed": false
   },
   "id": "7ca172e7bb022cde"
  },
  {
   "cell_type": "code",
   "execution_count": null,
   "outputs": [],
   "source": [
    "pca_vecs = position_vectors4features(pca_feature_names, df_pca)\n",
    "pca_vecs"
   ],
   "metadata": {
    "collapsed": false
   },
   "id": "49d21469a6500b20"
  },
  {
   "cell_type": "code",
   "execution_count": null,
   "outputs": [],
   "source": [
    "estimated_positions_pca = estimate_player_position(df_pca[pca_feature_names].values, pca_vecs)\n",
    "\n",
    "correct = (df_pca['position'] == estimated_positions_pca.sum())\n",
    "wrong = (df_pca['position'] != estimated_positions_pca.sum())\n",
    "\n",
    "res = correct / (correct + wrong)"
   ],
   "metadata": {
    "collapsed": false
   },
   "id": "cfa904490ad8ccc3"
  },
  {
   "cell_type": "markdown",
   "source": [
    "# Motivation: PCA and Word Vectors\n"
   ],
   "metadata": {
    "collapsed": false
   },
   "id": "c9b4d4fc23796bd2"
  },
  {
   "cell_type": "code",
   "execution_count": 51,
   "outputs": [
    {
     "name": "stdout",
     "output_type": "stream",
     "text": [
      "Requirement already satisfied: gensim in c:\\users\\yluet\\anaconda3\\envs\\my_env\\lib\\site-packages (4.3.2)\n",
      "Requirement already satisfied: numpy>=1.18.5 in c:\\users\\yluet\\anaconda3\\envs\\my_env\\lib\\site-packages (from gensim) (1.26.0)\n",
      "Requirement already satisfied: smart-open>=1.8.1 in c:\\users\\yluet\\anaconda3\\envs\\my_env\\lib\\site-packages (from gensim) (6.4.0)\n",
      "Requirement already satisfied: scipy>=1.7.0 in c:\\users\\yluet\\anaconda3\\envs\\my_env\\lib\\site-packages (from gensim) (1.11.3)\n"
     ]
    }
   ],
   "source": [
    "!pip install gensim"
   ],
   "metadata": {
    "collapsed": false,
    "ExecuteTime": {
     "end_time": "2023-11-28T16:31:10.954860800Z",
     "start_time": "2023-11-28T16:31:09.673139800Z"
    }
   },
   "id": "f979cc33e3f97b96"
  },
  {
   "cell_type": "code",
   "execution_count": 52,
   "outputs": [],
   "source": [
    "import gensim.downloader as api\n",
    "\n",
    "model = api.load(\"glove-wiki-gigaword-100\")  # this will download and load the model"
   ],
   "metadata": {
    "collapsed": false,
    "ExecuteTime": {
     "end_time": "2023-11-28T16:31:33.780596Z",
     "start_time": "2023-11-28T16:31:12.398677800Z"
    }
   },
   "id": "20b99f9f4be99918"
  },
  {
   "cell_type": "code",
   "execution_count": 20,
   "outputs": [
    {
     "data": {
      "text/plain": "array([-0.66146  ,  0.94335  , -0.72214  ,  0.17403  , -0.42524  ,\n        0.36303  ,  1.0135   , -0.14802  ,  0.25817  , -0.20326  ,\n       -0.64338  ,  0.16632  ,  0.61518  ,  1.397    , -0.094506 ,\n        0.0041843, -0.18976  , -0.55421  , -0.39371  , -0.22501  ,\n       -0.34643  ,  0.32076  ,  0.34395  , -0.7034   ,  0.23932  ,\n        0.69951  , -0.16461  , -0.31819  , -0.34034  , -0.44906  ,\n       -0.069667 ,  0.35348  ,  0.17498  , -0.95057  , -0.2209   ,\n        1.0647   ,  0.23231  ,  0.32569  ,  0.47662  , -1.1206   ,\n        0.28168  , -0.75172  , -0.54654  , -0.66337  ,  0.34804  ,\n       -0.69058  , -0.77092  , -0.40167  , -0.069351 , -0.049238 ,\n       -0.39351  ,  0.16735  , -0.14512  ,  1.0083   , -1.0608   ,\n       -0.87314  , -0.29339  ,  0.68278  ,  0.61634  , -0.088844 ,\n        0.88094  ,  0.099809 , -0.27161  , -0.58026  ,  0.50364  ,\n       -0.93814  ,  0.67576  , -0.43124  , -0.10517  , -1.2404   ,\n       -0.74353  ,  0.28637  ,  0.29012  ,  0.89377  ,  0.67406  ,\n        0.86422  , -0.30693  , -0.14718  ,  0.078353 ,  0.74013  ,\n        0.32658  , -0.052579 , -1.1665   ,  0.87079  , -0.69402  ,\n       -0.75977  , -0.37164  , -0.11887  ,  0.18551  ,  0.041883 ,\n        0.59352  ,  0.30519  , -0.54819  , -0.29424  , -1.4912   ,\n       -1.6548   ,  0.98982  ,  0.27325  ,  1.009    ,  0.94544  ],\n      dtype=float32)"
     },
     "execution_count": 20,
     "metadata": {},
     "output_type": "execute_result"
    }
   ],
   "source": [
    "model[\"bread\"]"
   ],
   "metadata": {
    "collapsed": false,
    "ExecuteTime": {
     "end_time": "2023-11-28T15:44:41.416409100Z",
     "start_time": "2023-11-28T15:44:41.400786800Z"
    }
   },
   "id": "7a8cf4503f1ebf23"
  },
  {
   "cell_type": "code",
   "execution_count": 21,
   "outputs": [
    {
     "data": {
      "text/plain": "[('flour', 0.7654520869255066),\n ('baked', 0.7607272863388062),\n ('cake', 0.7605515718460083),\n ('loaf', 0.7457114458084106),\n ('toast', 0.7397798895835876),\n ('cheese', 0.7374634742736816),\n ('potato', 0.7367483973503113),\n ('butter', 0.7279618978500366),\n ('potatoes', 0.7085273265838623),\n ('pasta', 0.7071876525878906)]"
     },
     "execution_count": 21,
     "metadata": {},
     "output_type": "execute_result"
    }
   ],
   "source": [
    "model.most_similar(\"bread\")"
   ],
   "metadata": {
    "collapsed": false,
    "ExecuteTime": {
     "end_time": "2023-11-28T15:44:41.526453700Z",
     "start_time": "2023-11-28T15:44:41.416409100Z"
    }
   },
   "id": "c582a4e7f7d54a49"
  },
  {
   "cell_type": "code",
   "execution_count": 22,
   "outputs": [
    {
     "data": {
      "text/plain": "[('amisha', 0.47772660851478577),\n ('davalos', 0.4771686792373657),\n ('shunichi', 0.4639755189418793),\n ('yujiro', 0.45155149698257446),\n ('s-class', 0.4454616904258728),\n ('narsad', 0.44458815455436707),\n ('losi', 0.4423774778842926),\n ('katsuhisa', 0.44220131635665894),\n ('american-arab', 0.440533846616745),\n ('faliero', 0.4377879500389099)]"
     },
     "execution_count": 22,
     "metadata": {},
     "output_type": "execute_result"
    }
   ],
   "source": [
    "model.most_similar(negative=\"bread\")"
   ],
   "metadata": {
    "collapsed": false,
    "ExecuteTime": {
     "end_time": "2023-11-28T15:44:41.604975700Z",
     "start_time": "2023-11-28T15:44:41.526453700Z"
    }
   },
   "id": "f857dd739d2fcaec"
  },
  {
   "cell_type": "code",
   "execution_count": 64,
   "outputs": [
    {
     "name": "stdout",
     "output_type": "stream",
     "text": [
      "queen: 0.7699\n"
     ]
    }
   ],
   "source": [
    "word, sim = model.most_similar(positive=[\"woman\", \"king\"], negative=[\"man\"])[0]\n",
    "print(f\"{word}: {sim:.4f}\")"
   ],
   "metadata": {
    "collapsed": false,
    "ExecuteTime": {
     "end_time": "2023-11-28T16:44:44.672118300Z",
     "start_time": "2023-11-28T16:44:44.621158400Z"
    }
   },
   "id": "da8649aac9266809"
  },
  {
   "cell_type": "code",
   "execution_count": 24,
   "outputs": [],
   "source": [
    "def analogy(x1, x2, y1):\n",
    "    word, _ = model.most_similar(positive=[y1, x2], negative=[x1])[0]\n",
    "    return word"
   ],
   "metadata": {
    "collapsed": false,
    "ExecuteTime": {
     "end_time": "2023-11-28T15:44:41.625116700Z",
     "start_time": "2023-11-28T15:44:41.589347800Z"
    }
   },
   "id": "625437ed3be2f40"
  },
  {
   "cell_type": "code",
   "execution_count": 25,
   "outputs": [
    {
     "data": {
      "text/plain": "'swiss'"
     },
     "execution_count": 25,
     "metadata": {},
     "output_type": "execute_result"
    }
   ],
   "source": [
    "analogy(\"japan\", \"japanese\", \"switzerland\")"
   ],
   "metadata": {
    "collapsed": false,
    "ExecuteTime": {
     "end_time": "2023-11-28T15:44:41.703652Z",
     "start_time": "2023-11-28T15:44:41.609131Z"
    }
   },
   "id": "4e61c3406081be2b"
  },
  {
   "cell_type": "code",
   "execution_count": 54,
   "outputs": [
    {
     "data": {
      "text/plain": "'pasta'"
     },
     "execution_count": 54,
     "metadata": {},
     "output_type": "execute_result"
    }
   ],
   "source": [
    "analogy(\"switzerland\", \"cheese\", \"germany\")"
   ],
   "metadata": {
    "collapsed": false,
    "ExecuteTime": {
     "end_time": "2023-11-28T16:38:02.009499400Z",
     "start_time": "2023-11-28T16:38:01.844310200Z"
    }
   },
   "id": "60454ddb5c280381"
  },
  {
   "cell_type": "code",
   "execution_count": 27,
   "outputs": [],
   "source": [
    "import numpy as np\n",
    "from sklearn.decomposition import PCA\n",
    "import matplotlib.pyplot as plt"
   ],
   "metadata": {
    "collapsed": false,
    "ExecuteTime": {
     "end_time": "2023-11-28T15:44:42.055697600Z",
     "start_time": "2023-11-28T15:44:41.672391900Z"
    }
   },
   "id": "71a06023e66ddaaf"
  },
  {
   "cell_type": "code",
   "execution_count": 28,
   "outputs": [],
   "source": [
    "def display_pca_scatterplot(model, words=None, sample=0):\n",
    "    if words == None:\n",
    "        if sample > 0:\n",
    "            words = np.random.choice(list(model.index_to_key), sample)\n",
    "        else:\n",
    "            words = [word for word in model.index_to_key]\n",
    "\n",
    "    word_vectors = np.array([model[w] for w in words])\n",
    "\n",
    "    twodim = PCA().fit_transform(word_vectors)[:, :2]\n",
    "\n",
    "    plt.figure(figsize=(12, 12))\n",
    "    plt.scatter(twodim[:, 0], twodim[:, 1], edgecolors=\"k\", c=\"r\")\n",
    "    for word, (x, y) in zip(words, twodim):\n",
    "        plt.text(x + 0.05, y + 0.05, word)\n",
    "    plt.show()"
   ],
   "metadata": {
    "collapsed": false,
    "ExecuteTime": {
     "end_time": "2023-11-28T15:44:42.071713200Z",
     "start_time": "2023-11-28T15:44:42.055697600Z"
    }
   },
   "id": "d9c4de29f80f45b3"
  },
  {
   "cell_type": "code",
   "execution_count": 29,
   "outputs": [
    {
     "data": {
      "text/plain": "<Figure size 1200x1200 with 1 Axes>",
      "image/png": "[encoded data removed]"
     },
     "metadata": {},
     "output_type": "display_data"
    }
   ],
   "source": [
    "display_pca_scatterplot(\n",
    "    model,\n",
    "    [\n",
    "        \"coffee\",\n",
    "        \"tea\",\n",
    "        \"beer\",\n",
    "        \"wine\",\n",
    "        \"brandy\",\n",
    "        \"rum\",\n",
    "        \"champagne\",\n",
    "        \"water\",\n",
    "        \"spaghetti\",\n",
    "        \"borscht\",\n",
    "        \"hamburger\",\n",
    "        \"pizza\",\n",
    "        \"falafel\",\n",
    "        \"sushi\",\n",
    "        \"meatballs\",\n",
    "        \"dog\",\n",
    "        \"horse\",\n",
    "        \"cat\",\n",
    "        \"monkey\",\n",
    "        \"parrot\",\n",
    "        \"koala\",\n",
    "        \"lizard\",\n",
    "        \"frog\",\n",
    "        \"toad\",\n",
    "        \"monkey\",\n",
    "        \"ape\",\n",
    "        \"kangaroo\",\n",
    "        \"wombat\",\n",
    "        \"wolf\",\n",
    "        \"france\",\n",
    "        \"germany\",\n",
    "        \"hungary\",\n",
    "        \"luxembourg\",\n",
    "        \"australia\",\n",
    "        \"fiji\",\n",
    "        \"china\",\n",
    "        \"homework\",\n",
    "        \"assignment\",\n",
    "        \"problem\",\n",
    "        \"exam\",\n",
    "        \"test\",\n",
    "        \"class\",\n",
    "        \"school\",\n",
    "        \"college\",\n",
    "        \"university\",\n",
    "        \"institute\",\n",
    "    ],\n",
    ")"
   ],
   "metadata": {
    "collapsed": false,
    "ExecuteTime": {
     "end_time": "2023-11-28T15:44:42.368732900Z",
     "start_time": "2023-11-28T15:44:42.071713200Z"
    }
   },
   "id": "40ff949927e396e"
  },
  {
   "cell_type": "code",
   "execution_count": 29,
   "outputs": [],
   "source": [],
   "metadata": {
    "collapsed": false,
    "ExecuteTime": {
     "end_time": "2023-11-28T15:44:42.382742800Z",
     "start_time": "2023-11-28T15:44:42.368732900Z"
    }
   },
   "id": "9e926e3c3c649ed"
  }
 ],
 "metadata": {
  "kernelspec": {
   "display_name": "Python 3",
   "language": "python",
   "name": "python3"
  },
  "language_info": {
   "codemirror_mode": {
    "name": "ipython",
    "version": 2
   },
   "file_extension": ".py",
   "mimetype": "text/x-python",
   "name": "python",
   "nbconvert_exporter": "python",
   "pygments_lexer": "ipython2",
   "version": "2.7.6"
  },
  "colab": {
   "provenance": []
  },
  "widgets": {
   "application/vnd.jupyter.widget-state+json": {
    "274e89184e4c466d96ad1e01ed4362a7": {
     "model_module": "@jupyter-widgets/controls",
     "model_name": "HBoxModel",
     "model_module_version": "1.5.0",
     "state": {
      "_dom_classes": [],
      "_model_module": "@jupyter-widgets/controls",
      "_model_module_version": "1.5.0",
      "_model_name": "HBoxModel",
      "_view_count": null,
      "_view_module": "@jupyter-widgets/controls",
      "_view_module_version": "1.5.0",
      "_view_name": "HBoxView",
      "box_style": "",
      "children": [
       "IPY_MODEL_9ca90d57221443a8b840b53780a42bdf",
       "IPY_MODEL_b6fbd15155864d6f97a85189cfdbd711",
       "IPY_MODEL_96be8aa5b0d9453bbf45d5d6bea596bf"
      ],
      "layout": "IPY_MODEL_d24515b87df94663ab4bafefafc0e427"
     }
    },
    "9ca90d57221443a8b840b53780a42bdf": {
     "model_module": "@jupyter-widgets/controls",
     "model_name": "HTMLModel",
     "model_module_version": "1.5.0",
     "state": {
      "_dom_classes": [],
      "_model_module": "@jupyter-widgets/controls",
      "_model_module_version": "1.5.0",
      "_model_name": "HTMLModel",
      "_view_count": null,
      "_view_module": "@jupyter-widgets/controls",
      "_view_module_version": "1.5.0",
      "_view_name": "HTMLView",
      "description": "",
      "description_tooltip": null,
      "layout": "IPY_MODEL_41d77e60012342968bdf4681417fac79",
      "placeholder": "​",
      "style": "IPY_MODEL_2370794c2df641b2ac40b9079199c93c",
      "value": "100%"
     }
    },
    "b6fbd15155864d6f97a85189cfdbd711": {
     "model_module": "@jupyter-widgets/controls",
     "model_name": "FloatProgressModel",
     "model_module_version": "1.5.0",
     "state": {
      "_dom_classes": [],
      "_model_module": "@jupyter-widgets/controls",
      "_model_module_version": "1.5.0",
      "_model_name": "FloatProgressModel",
      "_view_count": null,
      "_view_module": "@jupyter-widgets/controls",
      "_view_module_version": "1.5.0",
      "_view_name": "ProgressView",
      "bar_style": "success",
      "description": "",
      "description_tooltip": null,
      "layout": "IPY_MODEL_7e3c0e4d520b40a083753d6c3b725177",
      "max": 1000,
      "min": 0,
      "orientation": "horizontal",
      "style": "IPY_MODEL_c7c4c26d0aa541cdbb66a646c14492b2",
      "value": 1000
     }
    },
    "96be8aa5b0d9453bbf45d5d6bea596bf": {
     "model_module": "@jupyter-widgets/controls",
     "model_name": "HTMLModel",
     "model_module_version": "1.5.0",
     "state": {
      "_dom_classes": [],
      "_model_module": "@jupyter-widgets/controls",
      "_model_module_version": "1.5.0",
      "_model_name": "HTMLModel",
      "_view_count": null,
      "_view_module": "@jupyter-widgets/controls",
      "_view_module_version": "1.5.0",
      "_view_name": "HTMLView",
      "description": "",
      "description_tooltip": null,
      "layout": "IPY_MODEL_d2df11f690e44b84b899647d58fcc003",
      "placeholder": "​",
      "style": "IPY_MODEL_ebdf810e3bc34d06a59ac4849a2f923b",
      "value": " 1000/1000 [05:26&lt;00:00,  3.69it/s]"
     }
    },
    "d24515b87df94663ab4bafefafc0e427": {
     "model_module": "@jupyter-widgets/base",
     "model_name": "LayoutModel",
     "model_module_version": "1.2.0",
     "state": {
      "_model_module": "@jupyter-widgets/base",
      "_model_module_version": "1.2.0",
      "_model_name": "LayoutModel",
      "_view_count": null,
      "_view_module": "@jupyter-widgets/base",
      "_view_module_version": "1.2.0",
      "_view_name": "LayoutView",
      "align_content": null,
      "align_items": null,
      "align_self": null,
      "border": null,
      "bottom": null,
      "display": null,
      "flex": null,
      "flex_flow": null,
      "grid_area": null,
      "grid_auto_columns": null,
      "grid_auto_flow": null,
      "grid_auto_rows": null,
      "grid_column": null,
      "grid_gap": null,
      "grid_row": null,
      "grid_template_areas": null,
      "grid_template_columns": null,
      "grid_template_rows": null,
      "height": null,
      "justify_content": null,
      "justify_items": null,
      "left": null,
      "margin": null,
      "max_height": null,
      "max_width": null,
      "min_height": null,
      "min_width": null,
      "object_fit": null,
      "object_position": null,
      "order": null,
      "overflow": null,
      "overflow_x": null,
      "overflow_y": null,
      "padding": null,
      "right": null,
      "top": null,
      "visibility": null,
      "width": null
     }
    },
    "41d77e60012342968bdf4681417fac79": {
     "model_module": "@jupyter-widgets/base",
     "model_name": "LayoutModel",
     "model_module_version": "1.2.0",
     "state": {
      "_model_module": "@jupyter-widgets/base",
      "_model_module_version": "1.2.0",
      "_model_name": "LayoutModel",
      "_view_count": null,
      "_view_module": "@jupyter-widgets/base",
      "_view_module_version": "1.2.0",
      "_view_name": "LayoutView",
      "align_content": null,
      "align_items": null,
      "align_self": null,
      "border": null,
      "bottom": null,
      "display": null,
      "flex": null,
      "flex_flow": null,
      "grid_area": null,
      "grid_auto_columns": null,
      "grid_auto_flow": null,
      "grid_auto_rows": null,
      "grid_column": null,
      "grid_gap": null,
      "grid_row": null,
      "grid_template_areas": null,
      "grid_template_columns": null,
      "grid_template_rows": null,
      "height": null,
      "justify_content": null,
      "justify_items": null,
      "left": null,
      "margin": null,
      "max_height": null,
      "max_width": null,
      "min_height": null,
      "min_width": null,
      "object_fit": null,
      "object_position": null,
      "order": null,
      "overflow": null,
      "overflow_x": null,
      "overflow_y": null,
      "padding": null,
      "right": null,
      "top": null,
      "visibility": null,
      "width": null
     }
    },
    "2370794c2df641b2ac40b9079199c93c": {
     "model_module": "@jupyter-widgets/controls",
     "model_name": "DescriptionStyleModel",
     "model_module_version": "1.5.0",
     "state": {
      "_model_module": "@jupyter-widgets/controls",
      "_model_module_version": "1.5.0",
      "_model_name": "DescriptionStyleModel",
      "_view_count": null,
      "_view_module": "@jupyter-widgets/base",
      "_view_module_version": "1.2.0",
      "_view_name": "StyleView",
      "description_width": ""
     }
    },
    "7e3c0e4d520b40a083753d6c3b725177": {
     "model_module": "@jupyter-widgets/base",
     "model_name": "LayoutModel",
     "model_module_version": "1.2.0",
     "state": {
      "_model_module": "@jupyter-widgets/base",
      "_model_module_version": "1.2.0",
      "_model_name": "LayoutModel",
      "_view_count": null,
      "_view_module": "@jupyter-widgets/base",
      "_view_module_version": "1.2.0",
      "_view_name": "LayoutView",
      "align_content": null,
      "align_items": null,
      "align_self": null,
      "border": null,
      "bottom": null,
      "display": null,
      "flex": null,
      "flex_flow": null,
      "grid_area": null,
      "grid_auto_columns": null,
      "grid_auto_flow": null,
      "grid_auto_rows": null,
      "grid_column": null,
      "grid_gap": null,
      "grid_row": null,
      "grid_template_areas": null,
      "grid_template_columns": null,
      "grid_template_rows": null,
      "height": null,
      "justify_content": null,
      "justify_items": null,
      "left": null,
      "margin": null,
      "max_height": null,
      "max_width": null,
      "min_height": null,
      "min_width": null,
      "object_fit": null,
      "object_position": null,
      "order": null,
      "overflow": null,
      "overflow_x": null,
      "overflow_y": null,
      "padding": null,
      "right": null,
      "top": null,
      "visibility": null,
      "width": null
     }
    },
    "c7c4c26d0aa541cdbb66a646c14492b2": {
     "model_module": "@jupyter-widgets/controls",
     "model_name": "ProgressStyleModel",
     "model_module_version": "1.5.0",
     "state": {
      "_model_module": "@jupyter-widgets/controls",
      "_model_module_version": "1.5.0",
      "_model_name": "ProgressStyleModel",
      "_view_count": null,
      "_view_module": "@jupyter-widgets/base",
      "_view_module_version": "1.2.0",
      "_view_name": "StyleView",
      "bar_color": null,
      "description_width": ""
     }
    },
    "d2df11f690e44b84b899647d58fcc003": {
     "model_module": "@jupyter-widgets/base",
     "model_name": "LayoutModel",
     "model_module_version": "1.2.0",
     "state": {
      "_model_module": "@jupyter-widgets/base",
      "_model_module_version": "1.2.0",
      "_model_name": "LayoutModel",
      "_view_count": null,
      "_view_module": "@jupyter-widgets/base",
      "_view_module_version": "1.2.0",
      "_view_name": "LayoutView",
      "align_content": null,
      "align_items": null,
      "align_self": null,
      "border": null,
      "bottom": null,
      "display": null,
      "flex": null,
      "flex_flow": null,
      "grid_area": null,
      "grid_auto_columns": null,
      "grid_auto_flow": null,
      "grid_auto_rows": null,
      "grid_column": null,
      "grid_gap": null,
      "grid_row": null,
      "grid_template_areas": null,
      "grid_template_columns": null,
      "grid_template_rows": null,
      "height": null,
      "justify_content": null,
      "justify_items": null,
      "left": null,
      "margin": null,
      "max_height": null,
      "max_width": null,
      "min_height": null,
      "min_width": null,
      "object_fit": null,
      "object_position": null,
      "order": null,
      "overflow": null,
      "overflow_x": null,
      "overflow_y": null,
      "padding": null,
      "right": null,
      "top": null,
      "visibility": null,
      "width": null
     }
    },
    "ebdf810e3bc34d06a59ac4849a2f923b": {
     "model_module": "@jupyter-widgets/controls",
     "model_name": "DescriptionStyleModel",
     "model_module_version": "1.5.0",
     "state": {
      "_model_module": "@jupyter-widgets/controls",
      "_model_module_version": "1.5.0",
      "_model_name": "DescriptionStyleModel",
      "_view_count": null,
      "_view_module": "@jupyter-widgets/base",
      "_view_module_version": "1.2.0",
      "_view_name": "StyleView",
      "description_width": ""
     }
    }
   }
  }
 },
 "nbformat": 4,
 "nbformat_minor": 5
}
