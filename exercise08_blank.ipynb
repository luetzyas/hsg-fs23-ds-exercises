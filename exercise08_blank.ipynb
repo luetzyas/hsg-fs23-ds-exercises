{
 "cells": [
  {
   "cell_type": "code",
   "execution_count": null,
   "id": "initial_id",
   "metadata": {
    "collapsed": true,
    "id": "initial_id"
   },
   "outputs": [],
   "source": [
    "import matplotlib.pyplot as plt\n",
    "import numpy as np\n",
    "np.seterr(divide='ignore', invalid='ignore')\n",
    "import pandas as pd\n",
    "# for the progress bar\n",
    "from tqdm.auto import tqdm"
   ]
  },
  {
   "cell_type": "markdown",
   "source": [
    "- [`pandas` Cheat Sheet](https://pandas.pydata.org/Pandas_Cheat_Sheet.pdf)\n",
    "- [`matplotlib` Cheat Sheet](https://matplotlib.org/cheatsheets/_images/cheatsheets-1.png)\n",
    "- [SQL Cheat Sheet](https://www.sqltutorial.org/sql-cheat-sheet/)"
   ],
   "metadata": {
    "collapsed": false,
    "id": "dea9712c782bc7bf"
   },
   "id": "dea9712c782bc7bf"
  },
  {
   "cell_type": "markdown",
   "source": [
    "# Loading the data"
   ],
   "metadata": {
    "collapsed": false,
    "id": "10a6c00f800cbd46"
   },
   "id": "10a6c00f800cbd46"
  },
  {
   "cell_type": "code",
   "execution_count": null,
   "outputs": [],
   "source": [
    "df = pd.read_csv('https://drive.switch.ch/index.php/s/UEpTFv2Bfa5C1dd/download')\n",
    "df.head()"
   ],
   "metadata": {
    "id": "dbbb55920a066c05",
    "outputId": "5a6365ef-348c-404a-e7ca-3865684eac68",
    "colab": {
     "base_uri": "https://localhost:8080/",
     "height": 342
    }
   },
   "id": "dbbb55920a066c05"
  },
  {
   "cell_type": "markdown",
   "source": [
    "This week we keep the `NaN` values."
   ],
   "metadata": {
    "collapsed": false,
    "id": "942744c46eafe2b7",
    "ExecuteTime": {
     "end_time": "2023-10-30T10:29:23.725118162Z",
     "start_time": "2023-10-30T10:29:23.702230656Z"
    }
   },
   "id": "942744c46eafe2b7"
  },
  {
   "cell_type": "code",
   "execution_count": null,
   "outputs": [],
   "source": [
    "# df = df.dropna()"
   ],
   "metadata": {
    "id": "7d1d63bf868c148c"
   },
   "id": "7d1d63bf868c148c"
  },
  {
   "cell_type": "code",
   "execution_count": null,
   "outputs": [],
   "source": [
    "feature_columns = ['height', 'weight', 'games', 'victories', 'ties', 'defeats', 'goals', 'yellowCards', 'yellowReds', 'redCards']\n",
    "missing_positions = df[df['position'].isna()]\n",
    "\n",
    "# drop all rows with missing features\n",
    "missing_positions = missing_positions.dropna(subset=feature_columns)\n",
    "\n",
    "# vectorize the features\n",
    "missing_positions_vec = missing_positions[feature_columns].values\n",
    "\n",
    "missing_positions_vec"
   ],
   "metadata": {
    "collapsed": false
   },
   "id": "f2487e5949e4298f"
  },
  {
   "cell_type": "code",
   "execution_count": null,
   "outputs": [],
   "source": [
    "# calculate vector for each position\n",
    "positions = df[~df['position'].isna()]['position'].unique()\n",
    "position_vectors = {}\n",
    "for position in positions:\n",
    "    position_players = df[df['position'] == position]\n",
    "    position_players = position_players.dropna()  # drop those with missing values\n",
    "    \n",
    "    # vectorize\n",
    "    position_vector = position_players[feature_columns].values\n",
    "    \n",
    "    # calculate average vector\n",
    "    position_vectors[position] = position_vector.mean(axis=0)"
   ],
   "metadata": {
    "collapsed": false
   },
   "id": "57bba067bbcfe103"
  },
  {
   "cell_type": "markdown",
   "source": [
    "# Task 1 - Forward / Backward selection"
   ],
   "metadata": {
    "collapsed": false
   },
   "id": "ca4c6bd0917ae069"
  },
  {
   "cell_type": "code",
   "execution_count": null,
   "outputs": [],
   "source": [
    "feature_columns = ['height', 'weight', 'games', 'victories', 'ties', 'defeats', 'goals', 'yellowCards', 'yellowReds', 'redCards']"
   ],
   "metadata": {
    "collapsed": false
   },
   "id": "a1f4bb3e130b641b"
  },
  {
   "cell_type": "code",
   "execution_count": null,
   "outputs": [],
   "source": [
    "def cosine_similarity(\n",
    "        a: np.array, \n",
    "        b: np.array\n",
    ") -> float:\n",
    "    return np.dot(a, b) / (np.linalg.norm(a) * np.linalg.norm(b))"
   ],
   "metadata": {
    "collapsed": false
   },
   "id": "94c5e866f76e0827"
  },
  {
   "cell_type": "code",
   "execution_count": null,
   "outputs": [],
   "source": [
    "def position_vectors4features(\n",
    "        features,\n",
    "        player_df\n",
    "):\n",
    "    # calculate vector for each position\n",
    "    positions = player_df[~player_df['position'].isna()]['position'].unique()\n",
    "    position_vectors = {}\n",
    "    for position in positions:\n",
    "        position_players = player_df[player_df['position'] == position]\n",
    "        position_players = position_players.dropna()  # drop those with missing values\n",
    "        \n",
    "        # vectorize\n",
    "        position_vector = position_players[features].values\n",
    "        \n",
    "        # calculate average vector\n",
    "        position_vectors[position] = position_vector.mean(axis=0)\n",
    "    return position_vectors"
   ],
   "metadata": {
    "collapsed": false
   },
   "id": "4003d61c83455871"
  },
  {
   "cell_type": "code",
   "execution_count": null,
   "outputs": [],
   "source": [
    "def estimate_player_position(\n",
    "        player_vectors: np.array,\n",
    "        position_vectors: np.array\n",
    ") -> list[str]:\n",
    "    estimated_positions = []\n",
    "    for player_vec in player_vectors:\n",
    "        sims = []\n",
    "        for position, position_vector in position_vectors.items():\n",
    "            # calculate cosine similarity\n",
    "            similarity = cosine_similarity(a=player_vec, b=position_vector)\n",
    "            sims.append((position, similarity))\n",
    "        # sort by similarity\n",
    "        sims = sorted(sims, key=lambda x: x[1], reverse=True)\n",
    "        # take the most similar position\n",
    "        estimated_positions.append((sims[0][0]))\n",
    "    return estimated_positions\n",
    "\n",
    "missing_estimates = estimate_player_position(missing_positions_vec, position_vectors)"
   ],
   "metadata": {
    "collapsed": false
   },
   "id": "acab48c7cb1c8e76"
  },
  {
   "cell_type": "code",
   "execution_count": null,
   "outputs": [],
   "source": [
    "non_missing = df[~df['position'].isna()]\n",
    "non_missing_vecs = non_missing[feature_columns].values\n",
    "\n",
    "# calculate the estimated positions, for the non_missing players\n",
    "estimated_positions = estimate_player_position(non_missing_vecs, position_vectors)\n",
    "\n",
    "correct = (non_missing['position'] == estimated_positions).sum()\n",
    "wrong = (non_missing['position'] != estimated_positions).sum()\n",
    "\n",
    "print('Correct ratio:', correct / (correct + wrong))"
   ],
   "metadata": {
    "collapsed": false
   },
   "id": "5a5db839b00c75a9"
  },
  {
   "cell_type": "code",
   "execution_count": null,
   "outputs": [],
   "source": [
    "# compare with random guessing\n",
    "random_positions = np.random.choice(positions, size=len(non_missing))\n",
    "correct_random = (non_missing['position'] == random_positions).sum()\n",
    "wrong_random = (non_missing['position'] != random_positions).sum()\n",
    "\n",
    "print('Correct ratio (random):', correct_random / (correct_random + wrong_random))"
   ],
   "metadata": {
    "collapsed": false
   },
   "id": "958604a3b2d6aab3"
  },
  {
   "cell_type": "code",
   "execution_count": null,
   "outputs": [],
   "source": [
    "def evaluate_position_estimation(\n",
    "        features,\n",
    "        player_df\n",
    "):\n",
    "    non_missing = player_df[~player_df['position'].isna()]\n",
    "    non_missing_vecs = non_missing[features].values\n",
    "    \n",
    "    positionvecs4features = position_vectors4features(\n",
    "        features,\n",
    "        player_df\n",
    "    )\n",
    "    \n",
    "    # calculate the estimated positions, for the non_missing players\n",
    "    estimated_positions = estimate_player_position(non_missing_vecs, positionvecs4features)\n",
    "    \n",
    "    correct = (non_missing['position'] == estimated_positions).sum()\n",
    "    wrong = (non_missing['position'] != estimated_positions).sum()\n",
    "    \n",
    "    # print('Correct ratio:', correct / (correct + wrong))\n",
    "    return correct / (correct + wrong)\n",
    "    \n",
    "evaluate_position_estimation(feature_columns, df)"
   ],
   "metadata": {
    "collapsed": false
   },
   "id": "e993a4b8acbbdad2"
  },
  {
   "cell_type": "code",
   "execution_count": null,
   "outputs": [],
   "source": [
    "from typing import Optional\n",
    "\n",
    "\n",
    "def forward_selection(\n",
    "        max_features: int,\n",
    "        player_df,\n",
    "        selected_features: Optional[list[str]],\n",
    "):\n",
    "    feature2score = {}\n",
    "    for feature in feature_columns:\n",
    "        if feature in selected_features:\n",
    "            continue\n",
    "        current_features = selected_features + [feature]\n",
    "        score = evaluate_position_estimation(\n",
    "            current_features,\n",
    "            player_df=player_df\n",
    "        )\n",
    "        feature2score[feature] = score\n",
    "    # get best feature from score\n",
    "    scores = sorted(feature2score.items(), key=lambda k: k[1], reverse=True)\n",
    "    best_feature = scores[0][0]\n",
    "    print(f'Adding feature: {best_feature} with score {scores[0][1]:4f}')\n",
    "    if max_features > 0:\n",
    "        return forward_selection(max_features - 1, player_df, selected_features + [best_feature])\n",
    "    return selected_features"
   ],
   "metadata": {
    "collapsed": false
   },
   "id": "ed3d4b78c23191b7"
  },
  {
   "cell_type": "code",
   "execution_count": null,
   "outputs": [],
   "source": [
    "def backward_selection(\n",
    "        max_features: int,\n",
    "        player_df,\n",
    "        selected_features: Optional[list[str]],\n",
    "):\n",
    "    feature2score = {}\n",
    "    for feature in feature_columns:\n",
    "        if feature not in selected_features:\n",
    "            continue\n",
    "        current_features = selected_features.copy()\n",
    "        current_features.remove(feature)\n",
    "        score = evaluate_position_estimation(\n",
    "            current_features,\n",
    "            player_df=player_df\n",
    "        )\n",
    "        feature2score[feature] = score\n",
    "    # get best feature from score\n",
    "    scores = sorted(feature2score.items(), key=lambda k: k[1], reverse=True)\n",
    "    worst_feature = scores[0][0]\n",
    "    selected_features.remove(worst_feature)\n",
    "    print(f'Removing feature: {worst_feature} with score {scores[0][1]:4f}')\n",
    "    if len(selected_features) > max_features:\n",
    "        return backward_selection(max_features, player_df, selected_features)\n",
    "    return selected_features"
   ],
   "metadata": {
    "collapsed": false
   },
   "id": "9830ae6b6bdb3398"
  },
  {
   "cell_type": "code",
   "execution_count": null,
   "outputs": [],
   "source": [
    "# start with no features, go up to 3\n",
    "r = forward_selection(5, df, [])\n",
    "r"
   ],
   "metadata": {
    "collapsed": false
   },
   "id": "a7afb4bb74f3407c"
  },
  {
   "cell_type": "code",
   "execution_count": null,
   "outputs": [],
   "source": [
    "# start with no features, go up to 3\n",
    "r = backward_selection(5, df, feature_columns.copy())\n",
    "r"
   ],
   "metadata": {
    "collapsed": false
   },
   "id": "67e34c45302f069e"
  },
  {
   "cell_type": "code",
   "execution_count": null,
   "outputs": [],
   "source": [
    "score = evaluate_position_estimation(feature_columns, df)\n",
    "score"
   ],
   "metadata": {
    "collapsed": false
   },
   "id": "28ed79a7107d9c18"
  },
  {
   "cell_type": "markdown",
   "source": [
    "# Task 2 - Normalization\n",
    "Normalize all values in the `feature_columns` to be between 0 and 1."
   ],
   "metadata": {
    "collapsed": false
   },
   "id": "d6f42eb41b84c06b"
  },
  {
   "cell_type": "code",
   "execution_count": null,
   "outputs": [],
   "source": [],
   "metadata": {
    "collapsed": false
   },
   "id": "826f5e5257f3cdd6"
  },
  {
   "cell_type": "markdown",
   "source": [
    "# Task 3 - Binarization\n",
    "Binarize all values in the `leagueCountry` column. Add a column for each possible value, and set it to 1 if the value is present, and 0 otherwise."
   ],
   "metadata": {
    "collapsed": false
   },
   "id": "30e87410db40e2bd"
  },
  {
   "cell_type": "code",
   "execution_count": null,
   "outputs": [],
   "source": [],
   "metadata": {
    "collapsed": false
   },
   "id": "1a41f46043b29925"
  },
  {
   "cell_type": "markdown",
   "source": [
    "# Task 4 - PCA\n",
    "\n",
    "Use PCA to reduce the number of features to 2. Then, use the 2 features to estimate the position of the players."
   ],
   "metadata": {
    "collapsed": false
   },
   "id": "3370ae3a6bf29e1d"
  },
  {
   "cell_type": "code",
   "execution_count": null,
   "outputs": [],
   "source": [
    " "
   ],
   "metadata": {
    "collapsed": false
   },
   "id": "7411fe6d329bd1e7"
  },
  {
   "cell_type": "markdown",
   "source": [
    "# Motivation: PCA and Word Vectors\n"
   ],
   "metadata": {
    "collapsed": false
   },
   "id": "c9b4d4fc23796bd2"
  },
  {
   "cell_type": "code",
   "execution_count": 26,
   "outputs": [
    {
     "name": "stdout",
     "output_type": "stream",
     "text": [
      "Requirement already satisfied: gensim in /home/thomas/Downloads/Lehre/Data Science/HS2023/Übung/08 - 28 November/venv/lib/python3.11/site-packages (4.3.2)\r\n",
      "Requirement already satisfied: numpy>=1.18.5 in /home/thomas/Downloads/Lehre/Data Science/HS2023/Übung/08 - 28 November/venv/lib/python3.11/site-packages (from gensim) (1.26.2)\r\n",
      "Requirement already satisfied: scipy>=1.7.0 in /home/thomas/Downloads/Lehre/Data Science/HS2023/Übung/08 - 28 November/venv/lib/python3.11/site-packages (from gensim) (1.11.4)\r\n",
      "Requirement already satisfied: smart-open>=1.8.1 in /home/thomas/Downloads/Lehre/Data Science/HS2023/Übung/08 - 28 November/venv/lib/python3.11/site-packages (from gensim) (6.4.0)\r\n"
     ]
    }
   ],
   "source": [
    "!pip install gensim"
   ],
   "metadata": {
    "collapsed": false,
    "ExecuteTime": {
     "end_time": "2023-11-28T09:13:46.380382090Z",
     "start_time": "2023-11-28T09:13:45.059451739Z"
    }
   },
   "id": "f979cc33e3f97b96"
  },
  {
   "cell_type": "code",
   "execution_count": 27,
   "outputs": [],
   "source": [
    "import gensim.downloader as api\n",
    "\n",
    "model = api.load(\"glove-wiki-gigaword-100\")  # this will download and load the model"
   ],
   "metadata": {
    "collapsed": false,
    "ExecuteTime": {
     "end_time": "2023-11-28T09:13:59.038757873Z",
     "start_time": "2023-11-28T09:13:46.376740223Z"
    }
   },
   "id": "20b99f9f4be99918"
  },
  {
   "cell_type": "code",
   "execution_count": 28,
   "outputs": [
    {
     "data": {
      "text/plain": "array([-0.66146  ,  0.94335  , -0.72214  ,  0.17403  , -0.42524  ,\n        0.36303  ,  1.0135   , -0.14802  ,  0.25817  , -0.20326  ,\n       -0.64338  ,  0.16632  ,  0.61518  ,  1.397    , -0.094506 ,\n        0.0041843, -0.18976  , -0.55421  , -0.39371  , -0.22501  ,\n       -0.34643  ,  0.32076  ,  0.34395  , -0.7034   ,  0.23932  ,\n        0.69951  , -0.16461  , -0.31819  , -0.34034  , -0.44906  ,\n       -0.069667 ,  0.35348  ,  0.17498  , -0.95057  , -0.2209   ,\n        1.0647   ,  0.23231  ,  0.32569  ,  0.47662  , -1.1206   ,\n        0.28168  , -0.75172  , -0.54654  , -0.66337  ,  0.34804  ,\n       -0.69058  , -0.77092  , -0.40167  , -0.069351 , -0.049238 ,\n       -0.39351  ,  0.16735  , -0.14512  ,  1.0083   , -1.0608   ,\n       -0.87314  , -0.29339  ,  0.68278  ,  0.61634  , -0.088844 ,\n        0.88094  ,  0.099809 , -0.27161  , -0.58026  ,  0.50364  ,\n       -0.93814  ,  0.67576  , -0.43124  , -0.10517  , -1.2404   ,\n       -0.74353  ,  0.28637  ,  0.29012  ,  0.89377  ,  0.67406  ,\n        0.86422  , -0.30693  , -0.14718  ,  0.078353 ,  0.74013  ,\n        0.32658  , -0.052579 , -1.1665   ,  0.87079  , -0.69402  ,\n       -0.75977  , -0.37164  , -0.11887  ,  0.18551  ,  0.041883 ,\n        0.59352  ,  0.30519  , -0.54819  , -0.29424  , -1.4912   ,\n       -1.6548   ,  0.98982  ,  0.27325  ,  1.009    ,  0.94544  ],\n      dtype=float32)"
     },
     "execution_count": 28,
     "metadata": {},
     "output_type": "execute_result"
    }
   ],
   "source": [
    "model[\"bread\"]"
   ],
   "metadata": {
    "collapsed": false,
    "ExecuteTime": {
     "end_time": "2023-11-28T09:13:59.045496285Z",
     "start_time": "2023-11-28T09:13:59.040438469Z"
    }
   },
   "id": "7a8cf4503f1ebf23"
  },
  {
   "cell_type": "code",
   "execution_count": 29,
   "outputs": [
    {
     "data": {
      "text/plain": "[('flour', 0.7654520869255066),\n ('baked', 0.7607272863388062),\n ('cake', 0.7605516910552979),\n ('loaf', 0.7457114458084106),\n ('toast', 0.7397798895835876),\n ('cheese', 0.7374635338783264),\n ('potato', 0.7367483973503113),\n ('butter', 0.7279618978500366),\n ('potatoes', 0.7085272669792175),\n ('pasta', 0.7071876525878906)]"
     },
     "execution_count": 29,
     "metadata": {},
     "output_type": "execute_result"
    }
   ],
   "source": [
    "model.most_similar(\"bread\")"
   ],
   "metadata": {
    "collapsed": false,
    "ExecuteTime": {
     "end_time": "2023-11-28T09:13:59.314765442Z",
     "start_time": "2023-11-28T09:13:59.043299994Z"
    }
   },
   "id": "c582a4e7f7d54a49"
  },
  {
   "cell_type": "code",
   "execution_count": 30,
   "outputs": [
    {
     "data": {
      "text/plain": "[('amisha', 0.47772663831710815),\n ('davalos', 0.4771687090396881),\n ('shunichi', 0.46397554874420166),\n ('yujiro', 0.45155149698257446),\n ('s-class', 0.4454616904258728),\n ('narsad', 0.44458815455436707),\n ('losi', 0.4423774778842926),\n ('katsuhisa', 0.44220131635665894),\n ('american-arab', 0.440533846616745),\n ('faliero', 0.4377879798412323)]"
     },
     "execution_count": 30,
     "metadata": {},
     "output_type": "execute_result"
    }
   ],
   "source": [
    "model.most_similar(negative=\"bread\")"
   ],
   "metadata": {
    "collapsed": false,
    "ExecuteTime": {
     "end_time": "2023-11-28T09:13:59.343672357Z",
     "start_time": "2023-11-28T09:13:59.219041170Z"
    }
   },
   "id": "f857dd739d2fcaec"
  },
  {
   "cell_type": "code",
   "execution_count": 31,
   "outputs": [
    {
     "name": "stdout",
     "output_type": "stream",
     "text": [
      "queen: 0.7699\n"
     ]
    }
   ],
   "source": [
    "word, sim = model.most_similar(positive=[\"woman\", \"king\"], negative=[\"man\"])[0]\n",
    "print(f\"{word}: {sim:.4f}\")"
   ],
   "metadata": {
    "collapsed": false,
    "ExecuteTime": {
     "end_time": "2023-11-28T09:13:59.345054905Z",
     "start_time": "2023-11-28T09:13:59.219179664Z"
    }
   },
   "id": "da8649aac9266809"
  },
  {
   "cell_type": "code",
   "execution_count": 32,
   "outputs": [],
   "source": [
    "def analogy(x1, x2, y1):\n",
    "    word, _ = model.most_similar(positive=[y1, x2], negative=[x1])[0]\n",
    "    return word"
   ],
   "metadata": {
    "collapsed": false,
    "ExecuteTime": {
     "end_time": "2023-11-28T09:13:59.345144990Z",
     "start_time": "2023-11-28T09:13:59.265582130Z"
    }
   },
   "id": "625437ed3be2f40"
  },
  {
   "cell_type": "code",
   "execution_count": 33,
   "outputs": [
    {
     "data": {
      "text/plain": "'swiss'"
     },
     "execution_count": 33,
     "metadata": {},
     "output_type": "execute_result"
    }
   ],
   "source": [
    "analogy(\"japan\", \"japanese\", \"switzerland\")"
   ],
   "metadata": {
    "collapsed": false,
    "ExecuteTime": {
     "end_time": "2023-11-28T09:13:59.345272304Z",
     "start_time": "2023-11-28T09:13:59.267547909Z"
    }
   },
   "id": "4e61c3406081be2b"
  },
  {
   "cell_type": "code",
   "execution_count": 34,
   "outputs": [
    {
     "data": {
      "text/plain": "'sausage'"
     },
     "execution_count": 34,
     "metadata": {},
     "output_type": "execute_result"
    }
   ],
   "source": [
    "analogy(\"switzerland\", \"cheese\", \"germany\")"
   ],
   "metadata": {
    "collapsed": false,
    "ExecuteTime": {
     "end_time": "2023-11-28T09:13:59.345693587Z",
     "start_time": "2023-11-28T09:13:59.268537476Z"
    }
   },
   "id": "60454ddb5c280381"
  },
  {
   "cell_type": "code",
   "execution_count": 35,
   "outputs": [],
   "source": [
    "import numpy as np\n",
    "from sklearn.decomposition import PCA\n",
    "import matplotlib.pyplot as plt"
   ],
   "metadata": {
    "collapsed": false,
    "ExecuteTime": {
     "end_time": "2023-11-28T09:13:59.345779224Z",
     "start_time": "2023-11-28T09:13:59.311019495Z"
    }
   },
   "id": "71a06023e66ddaaf"
  },
  {
   "cell_type": "code",
   "execution_count": 36,
   "outputs": [],
   "source": [
    "def display_pca_scatterplot(model, words=None, sample=0):\n",
    "    if words == None:\n",
    "        if sample > 0:\n",
    "            words = np.random.choice(list(model.index_to_key), sample)\n",
    "        else:\n",
    "            words = [word for word in model.index_to_key]\n",
    "\n",
    "    word_vectors = np.array([model[w] for w in words])\n",
    "\n",
    "    twodim = PCA().fit_transform(word_vectors)[:, :2]\n",
    "\n",
    "    plt.figure(figsize=(12, 12))\n",
    "    plt.scatter(twodim[:, 0], twodim[:, 1], edgecolors=\"k\", c=\"r\")\n",
    "    for word, (x, y) in zip(words, twodim):\n",
    "        plt.text(x + 0.05, y + 0.05, word)\n",
    "    plt.show()"
   ],
   "metadata": {
    "collapsed": false,
    "ExecuteTime": {
     "end_time": "2023-11-28T09:13:59.345839004Z",
     "start_time": "2023-11-28T09:13:59.311142341Z"
    }
   },
   "id": "d9c4de29f80f45b3"
  },
  {
   "cell_type": "code",
   "execution_count": 37,
   "outputs": [
    {
     "data": {
      "text/plain": "<Figure size 1200x1200 with 1 Axes>",
      "image/png": "[encoded data removed]"
     },
     "metadata": {},
     "output_type": "display_data"
    }
   ],
   "source": [
    "display_pca_scatterplot(\n",
    "    model,\n",
    "    [\n",
    "        \"coffee\",\n",
    "        \"tea\",\n",
    "        \"beer\",\n",
    "        \"wine\",\n",
    "        \"brandy\",\n",
    "        \"rum\",\n",
    "        \"champagne\",\n",
    "        \"water\",\n",
    "        \"spaghetti\",\n",
    "        \"borscht\",\n",
    "        \"hamburger\",\n",
    "        \"pizza\",\n",
    "        \"falafel\",\n",
    "        \"sushi\",\n",
    "        \"meatballs\",\n",
    "        \"dog\",\n",
    "        \"horse\",\n",
    "        \"cat\",\n",
    "        \"monkey\",\n",
    "        \"parrot\",\n",
    "        \"koala\",\n",
    "        \"lizard\",\n",
    "        \"frog\",\n",
    "        \"toad\",\n",
    "        \"monkey\",\n",
    "        \"ape\",\n",
    "        \"kangaroo\",\n",
    "        \"wombat\",\n",
    "        \"wolf\",\n",
    "        \"france\",\n",
    "        \"germany\",\n",
    "        \"hungary\",\n",
    "        \"luxembourg\",\n",
    "        \"australia\",\n",
    "        \"fiji\",\n",
    "        \"china\",\n",
    "        \"homework\",\n",
    "        \"assignment\",\n",
    "        \"problem\",\n",
    "        \"exam\",\n",
    "        \"test\",\n",
    "        \"class\",\n",
    "        \"school\",\n",
    "        \"college\",\n",
    "        \"university\",\n",
    "        \"institute\",\n",
    "    ],\n",
    ")"
   ],
   "metadata": {
    "collapsed": false,
    "ExecuteTime": {
     "end_time": "2023-11-28T09:13:59.491952283Z",
     "start_time": "2023-11-28T09:13:59.311187003Z"
    }
   },
   "id": "40ff949927e396e"
  },
  {
   "cell_type": "code",
   "execution_count": null,
   "outputs": [],
   "source": [],
   "metadata": {
    "collapsed": false
   },
   "id": "9e926e3c3c649ed"
  }
 ],
 "metadata": {
  "kernelspec": {
   "display_name": "Python 3",
   "language": "python",
   "name": "python3"
  },
  "language_info": {
   "codemirror_mode": {
    "name": "ipython",
    "version": 2
   },
   "file_extension": ".py",
   "mimetype": "text/x-python",
   "name": "python",
   "nbconvert_exporter": "python",
   "pygments_lexer": "ipython2",
   "version": "2.7.6"
  },
  "colab": {
   "provenance": []
  },
  "widgets": {
   "application/vnd.jupyter.widget-state+json": {
    "274e89184e4c466d96ad1e01ed4362a7": {
     "model_module": "@jupyter-widgets/controls",
     "model_name": "HBoxModel",
     "model_module_version": "1.5.0",
     "state": {
      "_dom_classes": [],
      "_model_module": "@jupyter-widgets/controls",
      "_model_module_version": "1.5.0",
      "_model_name": "HBoxModel",
      "_view_count": null,
      "_view_module": "@jupyter-widgets/controls",
      "_view_module_version": "1.5.0",
      "_view_name": "HBoxView",
      "box_style": "",
      "children": [
       "IPY_MODEL_9ca90d57221443a8b840b53780a42bdf",
       "IPY_MODEL_b6fbd15155864d6f97a85189cfdbd711",
       "IPY_MODEL_96be8aa5b0d9453bbf45d5d6bea596bf"
      ],
      "layout": "IPY_MODEL_d24515b87df94663ab4bafefafc0e427"
     }
    },
    "9ca90d57221443a8b840b53780a42bdf": {
     "model_module": "@jupyter-widgets/controls",
     "model_name": "HTMLModel",
     "model_module_version": "1.5.0",
     "state": {
      "_dom_classes": [],
      "_model_module": "@jupyter-widgets/controls",
      "_model_module_version": "1.5.0",
      "_model_name": "HTMLModel",
      "_view_count": null,
      "_view_module": "@jupyter-widgets/controls",
      "_view_module_version": "1.5.0",
      "_view_name": "HTMLView",
      "description": "",
      "description_tooltip": null,
      "layout": "IPY_MODEL_41d77e60012342968bdf4681417fac79",
      "placeholder": "​",
      "style": "IPY_MODEL_2370794c2df641b2ac40b9079199c93c",
      "value": "100%"
     }
    },
    "b6fbd15155864d6f97a85189cfdbd711": {
     "model_module": "@jupyter-widgets/controls",
     "model_name": "FloatProgressModel",
     "model_module_version": "1.5.0",
     "state": {
      "_dom_classes": [],
      "_model_module": "@jupyter-widgets/controls",
      "_model_module_version": "1.5.0",
      "_model_name": "FloatProgressModel",
      "_view_count": null,
      "_view_module": "@jupyter-widgets/controls",
      "_view_module_version": "1.5.0",
      "_view_name": "ProgressView",
      "bar_style": "success",
      "description": "",
      "description_tooltip": null,
      "layout": "IPY_MODEL_7e3c0e4d520b40a083753d6c3b725177",
      "max": 1000,
      "min": 0,
      "orientation": "horizontal",
      "style": "IPY_MODEL_c7c4c26d0aa541cdbb66a646c14492b2",
      "value": 1000
     }
    },
    "96be8aa5b0d9453bbf45d5d6bea596bf": {
     "model_module": "@jupyter-widgets/controls",
     "model_name": "HTMLModel",
     "model_module_version": "1.5.0",
     "state": {
      "_dom_classes": [],
      "_model_module": "@jupyter-widgets/controls",
      "_model_module_version": "1.5.0",
      "_model_name": "HTMLModel",
      "_view_count": null,
      "_view_module": "@jupyter-widgets/controls",
      "_view_module_version": "1.5.0",
      "_view_name": "HTMLView",
      "description": "",
      "description_tooltip": null,
      "layout": "IPY_MODEL_d2df11f690e44b84b899647d58fcc003",
      "placeholder": "​",
      "style": "IPY_MODEL_ebdf810e3bc34d06a59ac4849a2f923b",
      "value": " 1000/1000 [05:26&lt;00:00,  3.69it/s]"
     }
    },
    "d24515b87df94663ab4bafefafc0e427": {
     "model_module": "@jupyter-widgets/base",
     "model_name": "LayoutModel",
     "model_module_version": "1.2.0",
     "state": {
      "_model_module": "@jupyter-widgets/base",
      "_model_module_version": "1.2.0",
      "_model_name": "LayoutModel",
      "_view_count": null,
      "_view_module": "@jupyter-widgets/base",
      "_view_module_version": "1.2.0",
      "_view_name": "LayoutView",
      "align_content": null,
      "align_items": null,
      "align_self": null,
      "border": null,
      "bottom": null,
      "display": null,
      "flex": null,
      "flex_flow": null,
      "grid_area": null,
      "grid_auto_columns": null,
      "grid_auto_flow": null,
      "grid_auto_rows": null,
      "grid_column": null,
      "grid_gap": null,
      "grid_row": null,
      "grid_template_areas": null,
      "grid_template_columns": null,
      "grid_template_rows": null,
      "height": null,
      "justify_content": null,
      "justify_items": null,
      "left": null,
      "margin": null,
      "max_height": null,
      "max_width": null,
      "min_height": null,
      "min_width": null,
      "object_fit": null,
      "object_position": null,
      "order": null,
      "overflow": null,
      "overflow_x": null,
      "overflow_y": null,
      "padding": null,
      "right": null,
      "top": null,
      "visibility": null,
      "width": null
     }
    },
    "41d77e60012342968bdf4681417fac79": {
     "model_module": "@jupyter-widgets/base",
     "model_name": "LayoutModel",
     "model_module_version": "1.2.0",
     "state": {
      "_model_module": "@jupyter-widgets/base",
      "_model_module_version": "1.2.0",
      "_model_name": "LayoutModel",
      "_view_count": null,
      "_view_module": "@jupyter-widgets/base",
      "_view_module_version": "1.2.0",
      "_view_name": "LayoutView",
      "align_content": null,
      "align_items": null,
      "align_self": null,
      "border": null,
      "bottom": null,
      "display": null,
      "flex": null,
      "flex_flow": null,
      "grid_area": null,
      "grid_auto_columns": null,
      "grid_auto_flow": null,
      "grid_auto_rows": null,
      "grid_column": null,
      "grid_gap": null,
      "grid_row": null,
      "grid_template_areas": null,
      "grid_template_columns": null,
      "grid_template_rows": null,
      "height": null,
      "justify_content": null,
      "justify_items": null,
      "left": null,
      "margin": null,
      "max_height": null,
      "max_width": null,
      "min_height": null,
      "min_width": null,
      "object_fit": null,
      "object_position": null,
      "order": null,
      "overflow": null,
      "overflow_x": null,
      "overflow_y": null,
      "padding": null,
      "right": null,
      "top": null,
      "visibility": null,
      "width": null
     }
    },
    "2370794c2df641b2ac40b9079199c93c": {
     "model_module": "@jupyter-widgets/controls",
     "model_name": "DescriptionStyleModel",
     "model_module_version": "1.5.0",
     "state": {
      "_model_module": "@jupyter-widgets/controls",
      "_model_module_version": "1.5.0",
      "_model_name": "DescriptionStyleModel",
      "_view_count": null,
      "_view_module": "@jupyter-widgets/base",
      "_view_module_version": "1.2.0",
      "_view_name": "StyleView",
      "description_width": ""
     }
    },
    "7e3c0e4d520b40a083753d6c3b725177": {
     "model_module": "@jupyter-widgets/base",
     "model_name": "LayoutModel",
     "model_module_version": "1.2.0",
     "state": {
      "_model_module": "@jupyter-widgets/base",
      "_model_module_version": "1.2.0",
      "_model_name": "LayoutModel",
      "_view_count": null,
      "_view_module": "@jupyter-widgets/base",
      "_view_module_version": "1.2.0",
      "_view_name": "LayoutView",
      "align_content": null,
      "align_items": null,
      "align_self": null,
      "border": null,
      "bottom": null,
      "display": null,
      "flex": null,
      "flex_flow": null,
      "grid_area": null,
      "grid_auto_columns": null,
      "grid_auto_flow": null,
      "grid_auto_rows": null,
      "grid_column": null,
      "grid_gap": null,
      "grid_row": null,
      "grid_template_areas": null,
      "grid_template_columns": null,
      "grid_template_rows": null,
      "height": null,
      "justify_content": null,
      "justify_items": null,
      "left": null,
      "margin": null,
      "max_height": null,
      "max_width": null,
      "min_height": null,
      "min_width": null,
      "object_fit": null,
      "object_position": null,
      "order": null,
      "overflow": null,
      "overflow_x": null,
      "overflow_y": null,
      "padding": null,
      "right": null,
      "top": null,
      "visibility": null,
      "width": null
     }
    },
    "c7c4c26d0aa541cdbb66a646c14492b2": {
     "model_module": "@jupyter-widgets/controls",
     "model_name": "ProgressStyleModel",
     "model_module_version": "1.5.0",
     "state": {
      "_model_module": "@jupyter-widgets/controls",
      "_model_module_version": "1.5.0",
      "_model_name": "ProgressStyleModel",
      "_view_count": null,
      "_view_module": "@jupyter-widgets/base",
      "_view_module_version": "1.2.0",
      "_view_name": "StyleView",
      "bar_color": null,
      "description_width": ""
     }
    },
    "d2df11f690e44b84b899647d58fcc003": {
     "model_module": "@jupyter-widgets/base",
     "model_name": "LayoutModel",
     "model_module_version": "1.2.0",
     "state": {
      "_model_module": "@jupyter-widgets/base",
      "_model_module_version": "1.2.0",
      "_model_name": "LayoutModel",
      "_view_count": null,
      "_view_module": "@jupyter-widgets/base",
      "_view_module_version": "1.2.0",
      "_view_name": "LayoutView",
      "align_content": null,
      "align_items": null,
      "align_self": null,
      "border": null,
      "bottom": null,
      "display": null,
      "flex": null,
      "flex_flow": null,
      "grid_area": null,
      "grid_auto_columns": null,
      "grid_auto_flow": null,
      "grid_auto_rows": null,
      "grid_column": null,
      "grid_gap": null,
      "grid_row": null,
      "grid_template_areas": null,
      "grid_template_columns": null,
      "grid_template_rows": null,
      "height": null,
      "justify_content": null,
      "justify_items": null,
      "left": null,
      "margin": null,
      "max_height": null,
      "max_width": null,
      "min_height": null,
      "min_width": null,
      "object_fit": null,
      "object_position": null,
      "order": null,
      "overflow": null,
      "overflow_x": null,
      "overflow_y": null,
      "padding": null,
      "right": null,
      "top": null,
      "visibility": null,
      "width": null
     }
    },
    "ebdf810e3bc34d06a59ac4849a2f923b": {
     "model_module": "@jupyter-widgets/controls",
     "model_name": "DescriptionStyleModel",
     "model_module_version": "1.5.0",
     "state": {
      "_model_module": "@jupyter-widgets/controls",
      "_model_module_version": "1.5.0",
      "_model_name": "DescriptionStyleModel",
      "_view_count": null,
      "_view_module": "@jupyter-widgets/base",
      "_view_module_version": "1.2.0",
      "_view_name": "StyleView",
      "description_width": ""
     }
    }
   }
  }
 },
 "nbformat": 4,
 "nbformat_minor": 5
}
