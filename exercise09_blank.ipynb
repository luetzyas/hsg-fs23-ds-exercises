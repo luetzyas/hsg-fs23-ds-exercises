{
 "cells": [
  {
   "cell_type": "code",
   "execution_count": null,
   "id": "initial_id",
   "metadata": {
    "collapsed": true
   },
   "outputs": [],
   "source": [
    "import numpy as np\n",
    "np.seterr(divide='ignore', invalid='ignore')\n",
    "import pandas as pd\n",
    "import matplotlib.pyplot as plt\n",
    "import seaborn as sns"
   ]
  },
  {
   "cell_type": "code",
   "execution_count": null,
   "outputs": [],
   "source": [
    "df = pd.read_csv('https://drive.switch.ch/index.php/s/UEpTFv2Bfa5C1dd/download')\n",
    "df.head()"
   ],
   "metadata": {
    "collapsed": false
   },
   "id": "2d5dca3f42ab4cd4"
  },
  {
   "cell_type": "markdown",
   "source": [
    "# Task 0 - Intermission - Combinations"
   ],
   "metadata": {
    "collapsed": false
   },
   "id": "37b91acd99678aa8"
  },
  {
   "cell_type": "code",
   "execution_count": null,
   "outputs": [],
   "source": [
    "import itertools\n",
    "\n",
    "feature_columns = ['height', 'weight', 'games', 'victories', 'ties', 'defeats', 'goals', 'yellowCards', 'yellowReds', 'redCards']\n",
    "\n",
    "def generate_combinations(features):\n",
    "    all_combinations = []\n",
    "    for r in range(1, len(features) + 1):\n",
    "        # Generate combinations of size r\n",
    "        combinations = itertools.combinations(features, r)\n",
    "        all_combinations.extend(combinations)\n",
    "    return all_combinations\n",
    "\n",
    "print(generate_combinations(feature_columns))"
   ],
   "metadata": {
    "collapsed": false
   },
   "id": "e7c963c882377409"
  },
  {
   "cell_type": "markdown",
   "source": [
    "# Task 1 - Player numbers per position\n",
    "For each 'position', calculate how many players we have."
   ],
   "metadata": {
    "collapsed": false
   },
   "id": "f70fc1a339af5b65"
  },
  {
   "cell_type": "code",
   "execution_count": null,
   "outputs": [],
   "source": [],
   "metadata": {
    "collapsed": false
   },
   "id": "4ac4da57698db486"
  },
  {
   "cell_type": "markdown",
   "source": [
    "# Task 2 - Different possible teams of 'Attacking Midfielder' and 'Center Back'\n",
    "How many different teams can you build? Here a team consists of any number of players, from the positions 'Attacking Midfielder' and 'Center Back'."
   ],
   "metadata": {
    "collapsed": false
   },
   "id": "5a35b73b95d06da9"
  },
  {
   "cell_type": "code",
   "execution_count": null,
   "outputs": [],
   "source": [],
   "metadata": {
    "collapsed": false
   },
   "id": "ce4f24ae048ff323"
  },
  {
   "cell_type": "markdown",
   "source": [
    "# Task 3 - Photoshoot\n",
    "You want to take photos of 100 of the players. How many different ways can you arrange the players in a line for the photoshoot?"
   ],
   "metadata": {
    "collapsed": false
   },
   "id": "f824b0deb382aa8d"
  },
  {
   "cell_type": "code",
   "execution_count": null,
   "outputs": [],
   "source": [],
   "metadata": {
    "collapsed": false
   },
   "id": "1c3ef0316bd7edd3"
  },
  {
   "cell_type": "markdown",
   "source": [
    "# Task 4 - Photoshoot - Redux\n",
    "You noticed that your original plan doesn't work. There are too many players to fit in one photo.\n",
    "\n",
    "Instead of taking a single photo with all players, you decide to create unique photo compositions by arranging groups of 5 players at a time. Each arrangement in the photo should be unique, with the order of the players being significant. \n",
    "\n",
    "Your task is to calculate the number of different ways you can arrange 5 players in each group, considering the order of players. How many different ways can you arrange the players in groups of 5 for the photoshoot?"
   ],
   "metadata": {
    "collapsed": false
   },
   "id": "7b08e6131c3867ae"
  },
  {
   "cell_type": "code",
   "execution_count": null,
   "outputs": [],
   "source": [],
   "metadata": {
    "collapsed": false
   },
   "id": "12bc5b0746028669"
  },
  {
   "cell_type": "markdown",
   "source": [
    "# Task 5 - Building a team\n",
    "Build a team of 11 players, with the following constraints:\n",
    "- 1 goalkeeper\n",
    "- 4 defenders\n",
    "- 4 midfielders\n",
    "- 2 forwards\n",
    "\n",
    "Calculate how many different teams you can build. The players for each position should come from the players who actually play in that position. For example, the goalkeeper should be a player who plays as a goalkeeper.\n",
    "Do this by hand (disclaimer: please don't actually do this) or with code."
   ],
   "metadata": {
    "collapsed": false
   },
   "id": "85db823df135f10d"
  },
  {
   "cell_type": "code",
   "execution_count": null,
   "outputs": [],
   "source": [
    "position_mapping = {\n",
    "    'Goalkeeper': 'Goalkeepers',\n",
    "    'Center Back': 'Defenders',\n",
    "    'Left Fullback': 'Defenders',\n",
    "    'Right Fullback': 'Defenders',\n",
    "    'Attacking Midfielder': 'Midfielders',\n",
    "    'Center Midfielder': 'Midfielders',\n",
    "    'Defensive Midfielder': 'Midfielders',\n",
    "    'Left Midfielder': 'Midfielders',\n",
    "    'Right Midfielder': 'Midfielders',\n",
    "    'Left Winger': 'Forwards',\n",
    "    'Right Winger': 'Forwards',\n",
    "    'Center Forward': 'Forwards'\n",
    "}\n",
    "\n",
    "# rename the position in the dataframe to the broader position category\n",
    "df['position'] = df['position'].map(position_mapping)"
   ],
   "metadata": {
    "collapsed": false
   },
   "id": "13e3b551c8441d6b"
  },
  {
   "cell_type": "code",
   "execution_count": null,
   "outputs": [],
   "source": [
    "df.head()"
   ],
   "metadata": {
    "collapsed": false
   },
   "id": "5c7d605cacc5b67d"
  },
  {
   "cell_type": "code",
   "execution_count": null,
   "outputs": [],
   "source": [],
   "metadata": {
    "collapsed": false
   },
   "id": "8064064231a8be7"
  },
  {
   "cell_type": "code",
   "execution_count": null,
   "outputs": [],
   "source": [],
   "metadata": {
    "collapsed": false
   },
   "id": "beb7cbfe01d558c"
  },
  {
   "cell_type": "code",
   "execution_count": null,
   "outputs": [],
   "source": [],
   "metadata": {
    "collapsed": false
   },
   "id": "1bfe83ef0e8c48b3"
  },
  {
   "cell_type": "markdown",
   "source": [
    "# Task 6 - Dream Team - Redux\n",
    "You noticed that some players can be assigned to multiple positions. For example, a player can be both a 'Center Back' and a 'Defensive Midfielder'. So what you do instead is select 11 players, without any constraints on their original position. Afterwards you will assign each player to a position, using the same constraints as in Task 5. Except now this team you can put any player in any position. That means a 'Goalkeeper' player for example can be in a 'Defender' position.\n",
    "You can also have multiple players in the same position. For example, you can have 2 'Goalkeeper' players in your team (players who are actually goalkeepers) as long as you respect the constraints on the number of players per position.\n",
    "\n",
    "How many different teams can you build?\n",
    "\n",
    "Before you calculate it: do you think the number of possible teams is higher or lower than in Task 5? Why?"
   ],
   "metadata": {
    "collapsed": false
   },
   "id": "29225c866bc56e8b"
  },
  {
   "cell_type": "code",
   "execution_count": null,
   "outputs": [],
   "source": [],
   "metadata": {
    "collapsed": false
   },
   "id": "c468d93cc220e9be"
  },
  {
   "cell_type": "markdown",
   "source": [
    "# Task 7 - Same league\n",
    "If you randomly construct a team of players while respecting their original position (like we did in Task 5), what is the probability that all players are in the England league?"
   ],
   "metadata": {
    "collapsed": false
   },
   "id": "6e2f3962ab971754"
  },
  {
   "cell_type": "code",
   "execution_count": null,
   "outputs": [],
   "source": [],
   "metadata": {
    "collapsed": false
   },
   "id": "65715af23bde0d08"
  },
  {
   "cell_type": "code",
   "execution_count": null,
   "outputs": [],
   "source": [],
   "metadata": {
    "collapsed": false
   },
   "id": "16f257c4c47cf712"
  },
  {
   "cell_type": "markdown",
   "source": [
    "# Task 8 - Marginal distribution of player heights\n",
    "Plot the marginal distribution of player heights.\n",
    "\n",
    "*Hint*: You can use the seaborn function [`sns.histplot`](https://seaborn.pydata.org/generated/seaborn.histplot.html) to plot a histogram."
   ],
   "metadata": {
    "collapsed": false
   },
   "id": "4f0fc227d62bfb57"
  },
  {
   "cell_type": "code",
   "execution_count": null,
   "outputs": [],
   "source": [],
   "metadata": {
    "collapsed": false
   },
   "id": "1891fd21d2ec421a"
  },
  {
   "cell_type": "markdown",
   "source": [
    "# Task 9 - Joint Distribution of player heights and weights\n",
    "Plot the joint distribution of player heights and weights.\n",
    "\n",
    "*Hint*: You can use the seaborn function [`sns.jointplot`](https://seaborn.pydata.org/generated/seaborn.jointplot.html) to plot a joint distribution."
   ],
   "metadata": {
    "collapsed": false
   },
   "id": "7de1537c5942066a"
  },
  {
   "cell_type": "code",
   "execution_count": null,
   "outputs": [],
   "source": [],
   "metadata": {
    "collapsed": false
   },
   "id": "62ec2cdeac8133d7"
  },
  {
   "cell_type": "code",
   "execution_count": null,
   "outputs": [],
   "source": [],
   "metadata": {
    "collapsed": false
   },
   "id": "723ca592c248f3e9"
  }
 ],
 "metadata": {
  "kernelspec": {
   "display_name": "Python 3",
   "language": "python",
   "name": "python3"
  },
  "language_info": {
   "codemirror_mode": {
    "name": "ipython",
    "version": 2
   },
   "file_extension": ".py",
   "mimetype": "text/x-python",
   "name": "python",
   "nbconvert_exporter": "python",
   "pygments_lexer": "ipython2",
   "version": "2.7.6"
  }
 },
 "nbformat": 4,
 "nbformat_minor": 5
}
