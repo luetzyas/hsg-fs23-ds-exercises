{
 "cells": [
  {
   "cell_type": "code",
   "execution_count": 13,
   "id": "initial_id",
   "metadata": {
    "collapsed": true,
    "ExecuteTime": {
     "end_time": "2023-12-05T14:43:27.146996185Z",
     "start_time": "2023-12-05T14:43:27.072306037Z"
    }
   },
   "outputs": [],
   "source": [
    "import numpy as np\n",
    "np.seterr(divide='ignore', invalid='ignore')\n",
    "import pandas as pd\n",
    "import matplotlib.pyplot as plt\n",
    "import seaborn as sns\n",
    "from math import factorial\n"
   ]
  },
  {
   "cell_type": "code",
   "execution_count": 14,
   "outputs": [
    {
     "data": {
      "text/plain": "     playerShort         player             club leagueCountry    birthday  \\\n0  lucas-wilchez  Lucas Wilchez    Real Zaragoza         Spain  31.08.1983   \n1     john-utaka     John Utaka  Montpellier HSC        France  08.01.1982   \n2    abdon-prats    Abdón Prats     RCD Mallorca         Spain  17.12.1992   \n3     pablo-mari     Pablo Marí     RCD Mallorca         Spain  31.08.1993   \n4     ruben-pena     Rubén Peña  Real Valladolid         Spain  18.07.1991   \n\n   height  weight              position  games  victories  ...  rater2  \\\n0   177.0    72.0  Attacking Midfielder      1          0  ...    0.50   \n1   179.0    82.0          Right Winger      1          0  ...    0.75   \n2   181.0    79.0                   NaN      1          0  ...     NaN   \n3   191.0    87.0           Center Back      1          1  ...     NaN   \n4   172.0    70.0      Right Midfielder      1          1  ...     NaN   \n\n   refNum  refCountry  Alpha_3   meanIAT    nIAT     seIAT   meanExp    nExp  \\\n0       1           1      GRC  0.326391   712.0  0.000564  0.396000   750.0   \n1       2           2      ZMB  0.203375    40.0  0.010875 -0.204082    49.0   \n2       3           3      ESP  0.369894  1785.0  0.000229  0.588297  1897.0   \n3       3           3      ESP  0.369894  1785.0  0.000229  0.588297  1897.0   \n4       3           3      ESP  0.369894  1785.0  0.000229  0.588297  1897.0   \n\n      seExp  \n0  0.002696  \n1  0.061504  \n2  0.001002  \n3  0.001002  \n4  0.001002  \n\n[5 rows x 28 columns]",
      "text/html": "<div>\n<style scoped>\n    .dataframe tbody tr th:only-of-type {\n        vertical-align: middle;\n    }\n\n    .dataframe tbody tr th {\n        vertical-align: top;\n    }\n\n    .dataframe thead th {\n        text-align: right;\n    }\n</style>\n<table border=\"1\" class=\"dataframe\">\n  <thead>\n    <tr style=\"text-align: right;\">\n      <th></th>\n      <th>playerShort</th>\n      <th>player</th>\n      <th>club</th>\n      <th>leagueCountry</th>\n      <th>birthday</th>\n      <th>height</th>\n      <th>weight</th>\n      <th>position</th>\n      <th>games</th>\n      <th>victories</th>\n      <th>...</th>\n      <th>rater2</th>\n      <th>refNum</th>\n      <th>refCountry</th>\n      <th>Alpha_3</th>\n      <th>meanIAT</th>\n      <th>nIAT</th>\n      <th>seIAT</th>\n      <th>meanExp</th>\n      <th>nExp</th>\n      <th>seExp</th>\n    </tr>\n  </thead>\n  <tbody>\n    <tr>\n      <th>0</th>\n      <td>lucas-wilchez</td>\n      <td>Lucas Wilchez</td>\n      <td>Real Zaragoza</td>\n      <td>Spain</td>\n      <td>31.08.1983</td>\n      <td>177.0</td>\n      <td>72.0</td>\n      <td>Attacking Midfielder</td>\n      <td>1</td>\n      <td>0</td>\n      <td>...</td>\n      <td>0.50</td>\n      <td>1</td>\n      <td>1</td>\n      <td>GRC</td>\n      <td>0.326391</td>\n      <td>712.0</td>\n      <td>0.000564</td>\n      <td>0.396000</td>\n      <td>750.0</td>\n      <td>0.002696</td>\n    </tr>\n    <tr>\n      <th>1</th>\n      <td>john-utaka</td>\n      <td>John Utaka</td>\n      <td>Montpellier HSC</td>\n      <td>France</td>\n      <td>08.01.1982</td>\n      <td>179.0</td>\n      <td>82.0</td>\n      <td>Right Winger</td>\n      <td>1</td>\n      <td>0</td>\n      <td>...</td>\n      <td>0.75</td>\n      <td>2</td>\n      <td>2</td>\n      <td>ZMB</td>\n      <td>0.203375</td>\n      <td>40.0</td>\n      <td>0.010875</td>\n      <td>-0.204082</td>\n      <td>49.0</td>\n      <td>0.061504</td>\n    </tr>\n    <tr>\n      <th>2</th>\n      <td>abdon-prats</td>\n      <td>Abdón Prats</td>\n      <td>RCD Mallorca</td>\n      <td>Spain</td>\n      <td>17.12.1992</td>\n      <td>181.0</td>\n      <td>79.0</td>\n      <td>NaN</td>\n      <td>1</td>\n      <td>0</td>\n      <td>...</td>\n      <td>NaN</td>\n      <td>3</td>\n      <td>3</td>\n      <td>ESP</td>\n      <td>0.369894</td>\n      <td>1785.0</td>\n      <td>0.000229</td>\n      <td>0.588297</td>\n      <td>1897.0</td>\n      <td>0.001002</td>\n    </tr>\n    <tr>\n      <th>3</th>\n      <td>pablo-mari</td>\n      <td>Pablo Marí</td>\n      <td>RCD Mallorca</td>\n      <td>Spain</td>\n      <td>31.08.1993</td>\n      <td>191.0</td>\n      <td>87.0</td>\n      <td>Center Back</td>\n      <td>1</td>\n      <td>1</td>\n      <td>...</td>\n      <td>NaN</td>\n      <td>3</td>\n      <td>3</td>\n      <td>ESP</td>\n      <td>0.369894</td>\n      <td>1785.0</td>\n      <td>0.000229</td>\n      <td>0.588297</td>\n      <td>1897.0</td>\n      <td>0.001002</td>\n    </tr>\n    <tr>\n      <th>4</th>\n      <td>ruben-pena</td>\n      <td>Rubén Peña</td>\n      <td>Real Valladolid</td>\n      <td>Spain</td>\n      <td>18.07.1991</td>\n      <td>172.0</td>\n      <td>70.0</td>\n      <td>Right Midfielder</td>\n      <td>1</td>\n      <td>1</td>\n      <td>...</td>\n      <td>NaN</td>\n      <td>3</td>\n      <td>3</td>\n      <td>ESP</td>\n      <td>0.369894</td>\n      <td>1785.0</td>\n      <td>0.000229</td>\n      <td>0.588297</td>\n      <td>1897.0</td>\n      <td>0.001002</td>\n    </tr>\n  </tbody>\n</table>\n<p>5 rows × 28 columns</p>\n</div>"
     },
     "execution_count": 14,
     "metadata": {},
     "output_type": "execute_result"
    }
   ],
   "source": [
    "df = pd.read_csv('https://drive.switch.ch/index.php/s/UEpTFv2Bfa5C1dd/download')\n",
    "df.head()"
   ],
   "metadata": {
    "collapsed": false,
    "ExecuteTime": {
     "end_time": "2023-12-05T14:43:29.228575711Z",
     "start_time": "2023-12-05T14:43:27.079489037Z"
    }
   },
   "id": "2d5dca3f42ab4cd4"
  },
  {
   "cell_type": "markdown",
   "source": [
    "# Task 0 - Intermission - Combinations"
   ],
   "metadata": {
    "collapsed": false
   },
   "id": "37b91acd99678aa8"
  },
  {
   "cell_type": "code",
   "execution_count": 15,
   "outputs": [
    {
     "name": "stdout",
     "output_type": "stream",
     "text": [
      "[('height',), ('weight',), ('games',), ('victories',), ('ties',), ('defeats',), ('goals',), ('yellowCards',), ('yellowReds',), ('redCards',), ('height', 'weight'), ('height', 'games'), ('height', 'victories'), ('height', 'ties'), ('height', 'defeats'), ('height', 'goals'), ('height', 'yellowCards'), ('height', 'yellowReds'), ('height', 'redCards'), ('weight', 'games'), ('weight', 'victories'), ('weight', 'ties'), ('weight', 'defeats'), ('weight', 'goals'), ('weight', 'yellowCards'), ('weight', 'yellowReds'), ('weight', 'redCards'), ('games', 'victories'), ('games', 'ties'), ('games', 'defeats'), ('games', 'goals'), ('games', 'yellowCards'), ('games', 'yellowReds'), ('games', 'redCards'), ('victories', 'ties'), ('victories', 'defeats'), ('victories', 'goals'), ('victories', 'yellowCards'), ('victories', 'yellowReds'), ('victories', 'redCards'), ('ties', 'defeats'), ('ties', 'goals'), ('ties', 'yellowCards'), ('ties', 'yellowReds'), ('ties', 'redCards'), ('defeats', 'goals'), ('defeats', 'yellowCards'), ('defeats', 'yellowReds'), ('defeats', 'redCards'), ('goals', 'yellowCards'), ('goals', 'yellowReds'), ('goals', 'redCards'), ('yellowCards', 'yellowReds'), ('yellowCards', 'redCards'), ('yellowReds', 'redCards'), ('height', 'weight', 'games'), ('height', 'weight', 'victories'), ('height', 'weight', 'ties'), ('height', 'weight', 'defeats'), ('height', 'weight', 'goals'), ('height', 'weight', 'yellowCards'), ('height', 'weight', 'yellowReds'), ('height', 'weight', 'redCards'), ('height', 'games', 'victories'), ('height', 'games', 'ties'), ('height', 'games', 'defeats'), ('height', 'games', 'goals'), ('height', 'games', 'yellowCards'), ('height', 'games', 'yellowReds'), ('height', 'games', 'redCards'), ('height', 'victories', 'ties'), ('height', 'victories', 'defeats'), ('height', 'victories', 'goals'), ('height', 'victories', 'yellowCards'), ('height', 'victories', 'yellowReds'), ('height', 'victories', 'redCards'), ('height', 'ties', 'defeats'), ('height', 'ties', 'goals'), ('height', 'ties', 'yellowCards'), ('height', 'ties', 'yellowReds'), ('height', 'ties', 'redCards'), ('height', 'defeats', 'goals'), ('height', 'defeats', 'yellowCards'), ('height', 'defeats', 'yellowReds'), ('height', 'defeats', 'redCards'), ('height', 'goals', 'yellowCards'), ('height', 'goals', 'yellowReds'), ('height', 'goals', 'redCards'), ('height', 'yellowCards', 'yellowReds'), ('height', 'yellowCards', 'redCards'), ('height', 'yellowReds', 'redCards'), ('weight', 'games', 'victories'), ('weight', 'games', 'ties'), ('weight', 'games', 'defeats'), ('weight', 'games', 'goals'), ('weight', 'games', 'yellowCards'), ('weight', 'games', 'yellowReds'), ('weight', 'games', 'redCards'), ('weight', 'victories', 'ties'), ('weight', 'victories', 'defeats'), ('weight', 'victories', 'goals'), ('weight', 'victories', 'yellowCards'), ('weight', 'victories', 'yellowReds'), ('weight', 'victories', 'redCards'), ('weight', 'ties', 'defeats'), ('weight', 'ties', 'goals'), ('weight', 'ties', 'yellowCards'), ('weight', 'ties', 'yellowReds'), ('weight', 'ties', 'redCards'), ('weight', 'defeats', 'goals'), ('weight', 'defeats', 'yellowCards'), ('weight', 'defeats', 'yellowReds'), ('weight', 'defeats', 'redCards'), ('weight', 'goals', 'yellowCards'), ('weight', 'goals', 'yellowReds'), ('weight', 'goals', 'redCards'), ('weight', 'yellowCards', 'yellowReds'), ('weight', 'yellowCards', 'redCards'), ('weight', 'yellowReds', 'redCards'), ('games', 'victories', 'ties'), ('games', 'victories', 'defeats'), ('games', 'victories', 'goals'), ('games', 'victories', 'yellowCards'), ('games', 'victories', 'yellowReds'), ('games', 'victories', 'redCards'), ('games', 'ties', 'defeats'), ('games', 'ties', 'goals'), ('games', 'ties', 'yellowCards'), ('games', 'ties', 'yellowReds'), ('games', 'ties', 'redCards'), ('games', 'defeats', 'goals'), ('games', 'defeats', 'yellowCards'), ('games', 'defeats', 'yellowReds'), ('games', 'defeats', 'redCards'), ('games', 'goals', 'yellowCards'), ('games', 'goals', 'yellowReds'), ('games', 'goals', 'redCards'), ('games', 'yellowCards', 'yellowReds'), ('games', 'yellowCards', 'redCards'), ('games', 'yellowReds', 'redCards'), ('victories', 'ties', 'defeats'), ('victories', 'ties', 'goals'), ('victories', 'ties', 'yellowCards'), ('victories', 'ties', 'yellowReds'), ('victories', 'ties', 'redCards'), ('victories', 'defeats', 'goals'), ('victories', 'defeats', 'yellowCards'), ('victories', 'defeats', 'yellowReds'), ('victories', 'defeats', 'redCards'), ('victories', 'goals', 'yellowCards'), ('victories', 'goals', 'yellowReds'), ('victories', 'goals', 'redCards'), ('victories', 'yellowCards', 'yellowReds'), ('victories', 'yellowCards', 'redCards'), ('victories', 'yellowReds', 'redCards'), ('ties', 'defeats', 'goals'), ('ties', 'defeats', 'yellowCards'), ('ties', 'defeats', 'yellowReds'), ('ties', 'defeats', 'redCards'), ('ties', 'goals', 'yellowCards'), ('ties', 'goals', 'yellowReds'), ('ties', 'goals', 'redCards'), ('ties', 'yellowCards', 'yellowReds'), ('ties', 'yellowCards', 'redCards'), ('ties', 'yellowReds', 'redCards'), ('defeats', 'goals', 'yellowCards'), ('defeats', 'goals', 'yellowReds'), ('defeats', 'goals', 'redCards'), ('defeats', 'yellowCards', 'yellowReds'), ('defeats', 'yellowCards', 'redCards'), ('defeats', 'yellowReds', 'redCards'), ('goals', 'yellowCards', 'yellowReds'), ('goals', 'yellowCards', 'redCards'), ('goals', 'yellowReds', 'redCards'), ('yellowCards', 'yellowReds', 'redCards'), ('height', 'weight', 'games', 'victories'), ('height', 'weight', 'games', 'ties'), ('height', 'weight', 'games', 'defeats'), ('height', 'weight', 'games', 'goals'), ('height', 'weight', 'games', 'yellowCards'), ('height', 'weight', 'games', 'yellowReds'), ('height', 'weight', 'games', 'redCards'), ('height', 'weight', 'victories', 'ties'), ('height', 'weight', 'victories', 'defeats'), ('height', 'weight', 'victories', 'goals'), ('height', 'weight', 'victories', 'yellowCards'), ('height', 'weight', 'victories', 'yellowReds'), ('height', 'weight', 'victories', 'redCards'), ('height', 'weight', 'ties', 'defeats'), ('height', 'weight', 'ties', 'goals'), ('height', 'weight', 'ties', 'yellowCards'), ('height', 'weight', 'ties', 'yellowReds'), ('height', 'weight', 'ties', 'redCards'), ('height', 'weight', 'defeats', 'goals'), ('height', 'weight', 'defeats', 'yellowCards'), ('height', 'weight', 'defeats', 'yellowReds'), ('height', 'weight', 'defeats', 'redCards'), ('height', 'weight', 'goals', 'yellowCards'), ('height', 'weight', 'goals', 'yellowReds'), ('height', 'weight', 'goals', 'redCards'), ('height', 'weight', 'yellowCards', 'yellowReds'), ('height', 'weight', 'yellowCards', 'redCards'), ('height', 'weight', 'yellowReds', 'redCards'), ('height', 'games', 'victories', 'ties'), ('height', 'games', 'victories', 'defeats'), ('height', 'games', 'victories', 'goals'), ('height', 'games', 'victories', 'yellowCards'), ('height', 'games', 'victories', 'yellowReds'), ('height', 'games', 'victories', 'redCards'), ('height', 'games', 'ties', 'defeats'), ('height', 'games', 'ties', 'goals'), ('height', 'games', 'ties', 'yellowCards'), ('height', 'games', 'ties', 'yellowReds'), ('height', 'games', 'ties', 'redCards'), ('height', 'games', 'defeats', 'goals'), ('height', 'games', 'defeats', 'yellowCards'), ('height', 'games', 'defeats', 'yellowReds'), ('height', 'games', 'defeats', 'redCards'), ('height', 'games', 'goals', 'yellowCards'), ('height', 'games', 'goals', 'yellowReds'), ('height', 'games', 'goals', 'redCards'), ('height', 'games', 'yellowCards', 'yellowReds'), ('height', 'games', 'yellowCards', 'redCards'), ('height', 'games', 'yellowReds', 'redCards'), ('height', 'victories', 'ties', 'defeats'), ('height', 'victories', 'ties', 'goals'), ('height', 'victories', 'ties', 'yellowCards'), ('height', 'victories', 'ties', 'yellowReds'), ('height', 'victories', 'ties', 'redCards'), ('height', 'victories', 'defeats', 'goals'), ('height', 'victories', 'defeats', 'yellowCards'), ('height', 'victories', 'defeats', 'yellowReds'), ('height', 'victories', 'defeats', 'redCards'), ('height', 'victories', 'goals', 'yellowCards'), ('height', 'victories', 'goals', 'yellowReds'), ('height', 'victories', 'goals', 'redCards'), ('height', 'victories', 'yellowCards', 'yellowReds'), ('height', 'victories', 'yellowCards', 'redCards'), ('height', 'victories', 'yellowReds', 'redCards'), ('height', 'ties', 'defeats', 'goals'), ('height', 'ties', 'defeats', 'yellowCards'), ('height', 'ties', 'defeats', 'yellowReds'), ('height', 'ties', 'defeats', 'redCards'), ('height', 'ties', 'goals', 'yellowCards'), ('height', 'ties', 'goals', 'yellowReds'), ('height', 'ties', 'goals', 'redCards'), ('height', 'ties', 'yellowCards', 'yellowReds'), ('height', 'ties', 'yellowCards', 'redCards'), ('height', 'ties', 'yellowReds', 'redCards'), ('height', 'defeats', 'goals', 'yellowCards'), ('height', 'defeats', 'goals', 'yellowReds'), ('height', 'defeats', 'goals', 'redCards'), ('height', 'defeats', 'yellowCards', 'yellowReds'), ('height', 'defeats', 'yellowCards', 'redCards'), ('height', 'defeats', 'yellowReds', 'redCards'), ('height', 'goals', 'yellowCards', 'yellowReds'), ('height', 'goals', 'yellowCards', 'redCards'), ('height', 'goals', 'yellowReds', 'redCards'), ('height', 'yellowCards', 'yellowReds', 'redCards'), ('weight', 'games', 'victories', 'ties'), ('weight', 'games', 'victories', 'defeats'), ('weight', 'games', 'victories', 'goals'), ('weight', 'games', 'victories', 'yellowCards'), ('weight', 'games', 'victories', 'yellowReds'), ('weight', 'games', 'victories', 'redCards'), ('weight', 'games', 'ties', 'defeats'), ('weight', 'games', 'ties', 'goals'), ('weight', 'games', 'ties', 'yellowCards'), ('weight', 'games', 'ties', 'yellowReds'), ('weight', 'games', 'ties', 'redCards'), ('weight', 'games', 'defeats', 'goals'), ('weight', 'games', 'defeats', 'yellowCards'), ('weight', 'games', 'defeats', 'yellowReds'), ('weight', 'games', 'defeats', 'redCards'), ('weight', 'games', 'goals', 'yellowCards'), ('weight', 'games', 'goals', 'yellowReds'), ('weight', 'games', 'goals', 'redCards'), ('weight', 'games', 'yellowCards', 'yellowReds'), ('weight', 'games', 'yellowCards', 'redCards'), ('weight', 'games', 'yellowReds', 'redCards'), ('weight', 'victories', 'ties', 'defeats'), ('weight', 'victories', 'ties', 'goals'), ('weight', 'victories', 'ties', 'yellowCards'), ('weight', 'victories', 'ties', 'yellowReds'), ('weight', 'victories', 'ties', 'redCards'), ('weight', 'victories', 'defeats', 'goals'), ('weight', 'victories', 'defeats', 'yellowCards'), ('weight', 'victories', 'defeats', 'yellowReds'), ('weight', 'victories', 'defeats', 'redCards'), ('weight', 'victories', 'goals', 'yellowCards'), ('weight', 'victories', 'goals', 'yellowReds'), ('weight', 'victories', 'goals', 'redCards'), ('weight', 'victories', 'yellowCards', 'yellowReds'), ('weight', 'victories', 'yellowCards', 'redCards'), ('weight', 'victories', 'yellowReds', 'redCards'), ('weight', 'ties', 'defeats', 'goals'), ('weight', 'ties', 'defeats', 'yellowCards'), ('weight', 'ties', 'defeats', 'yellowReds'), ('weight', 'ties', 'defeats', 'redCards'), ('weight', 'ties', 'goals', 'yellowCards'), ('weight', 'ties', 'goals', 'yellowReds'), ('weight', 'ties', 'goals', 'redCards'), ('weight', 'ties', 'yellowCards', 'yellowReds'), ('weight', 'ties', 'yellowCards', 'redCards'), ('weight', 'ties', 'yellowReds', 'redCards'), ('weight', 'defeats', 'goals', 'yellowCards'), ('weight', 'defeats', 'goals', 'yellowReds'), ('weight', 'defeats', 'goals', 'redCards'), ('weight', 'defeats', 'yellowCards', 'yellowReds'), ('weight', 'defeats', 'yellowCards', 'redCards'), ('weight', 'defeats', 'yellowReds', 'redCards'), ('weight', 'goals', 'yellowCards', 'yellowReds'), ('weight', 'goals', 'yellowCards', 'redCards'), ('weight', 'goals', 'yellowReds', 'redCards'), ('weight', 'yellowCards', 'yellowReds', 'redCards'), ('games', 'victories', 'ties', 'defeats'), ('games', 'victories', 'ties', 'goals'), ('games', 'victories', 'ties', 'yellowCards'), ('games', 'victories', 'ties', 'yellowReds'), ('games', 'victories', 'ties', 'redCards'), ('games', 'victories', 'defeats', 'goals'), ('games', 'victories', 'defeats', 'yellowCards'), ('games', 'victories', 'defeats', 'yellowReds'), ('games', 'victories', 'defeats', 'redCards'), ('games', 'victories', 'goals', 'yellowCards'), ('games', 'victories', 'goals', 'yellowReds'), ('games', 'victories', 'goals', 'redCards'), ('games', 'victories', 'yellowCards', 'yellowReds'), ('games', 'victories', 'yellowCards', 'redCards'), ('games', 'victories', 'yellowReds', 'redCards'), ('games', 'ties', 'defeats', 'goals'), ('games', 'ties', 'defeats', 'yellowCards'), ('games', 'ties', 'defeats', 'yellowReds'), ('games', 'ties', 'defeats', 'redCards'), ('games', 'ties', 'goals', 'yellowCards'), ('games', 'ties', 'goals', 'yellowReds'), ('games', 'ties', 'goals', 'redCards'), ('games', 'ties', 'yellowCards', 'yellowReds'), ('games', 'ties', 'yellowCards', 'redCards'), ('games', 'ties', 'yellowReds', 'redCards'), ('games', 'defeats', 'goals', 'yellowCards'), ('games', 'defeats', 'goals', 'yellowReds'), ('games', 'defeats', 'goals', 'redCards'), ('games', 'defeats', 'yellowCards', 'yellowReds'), ('games', 'defeats', 'yellowCards', 'redCards'), ('games', 'defeats', 'yellowReds', 'redCards'), ('games', 'goals', 'yellowCards', 'yellowReds'), ('games', 'goals', 'yellowCards', 'redCards'), ('games', 'goals', 'yellowReds', 'redCards'), ('games', 'yellowCards', 'yellowReds', 'redCards'), ('victories', 'ties', 'defeats', 'goals'), ('victories', 'ties', 'defeats', 'yellowCards'), ('victories', 'ties', 'defeats', 'yellowReds'), ('victories', 'ties', 'defeats', 'redCards'), ('victories', 'ties', 'goals', 'yellowCards'), ('victories', 'ties', 'goals', 'yellowReds'), ('victories', 'ties', 'goals', 'redCards'), ('victories', 'ties', 'yellowCards', 'yellowReds'), ('victories', 'ties', 'yellowCards', 'redCards'), ('victories', 'ties', 'yellowReds', 'redCards'), ('victories', 'defeats', 'goals', 'yellowCards'), ('victories', 'defeats', 'goals', 'yellowReds'), ('victories', 'defeats', 'goals', 'redCards'), ('victories', 'defeats', 'yellowCards', 'yellowReds'), ('victories', 'defeats', 'yellowCards', 'redCards'), ('victories', 'defeats', 'yellowReds', 'redCards'), ('victories', 'goals', 'yellowCards', 'yellowReds'), ('victories', 'goals', 'yellowCards', 'redCards'), ('victories', 'goals', 'yellowReds', 'redCards'), ('victories', 'yellowCards', 'yellowReds', 'redCards'), ('ties', 'defeats', 'goals', 'yellowCards'), ('ties', 'defeats', 'goals', 'yellowReds'), ('ties', 'defeats', 'goals', 'redCards'), ('ties', 'defeats', 'yellowCards', 'yellowReds'), ('ties', 'defeats', 'yellowCards', 'redCards'), ('ties', 'defeats', 'yellowReds', 'redCards'), ('ties', 'goals', 'yellowCards', 'yellowReds'), ('ties', 'goals', 'yellowCards', 'redCards'), ('ties', 'goals', 'yellowReds', 'redCards'), ('ties', 'yellowCards', 'yellowReds', 'redCards'), ('defeats', 'goals', 'yellowCards', 'yellowReds'), ('defeats', 'goals', 'yellowCards', 'redCards'), ('defeats', 'goals', 'yellowReds', 'redCards'), ('defeats', 'yellowCards', 'yellowReds', 'redCards'), ('goals', 'yellowCards', 'yellowReds', 'redCards'), ('height', 'weight', 'games', 'victories', 'ties'), ('height', 'weight', 'games', 'victories', 'defeats'), ('height', 'weight', 'games', 'victories', 'goals'), ('height', 'weight', 'games', 'victories', 'yellowCards'), ('height', 'weight', 'games', 'victories', 'yellowReds'), ('height', 'weight', 'games', 'victories', 'redCards'), ('height', 'weight', 'games', 'ties', 'defeats'), ('height', 'weight', 'games', 'ties', 'goals'), ('height', 'weight', 'games', 'ties', 'yellowCards'), ('height', 'weight', 'games', 'ties', 'yellowReds'), ('height', 'weight', 'games', 'ties', 'redCards'), ('height', 'weight', 'games', 'defeats', 'goals'), ('height', 'weight', 'games', 'defeats', 'yellowCards'), ('height', 'weight', 'games', 'defeats', 'yellowReds'), ('height', 'weight', 'games', 'defeats', 'redCards'), ('height', 'weight', 'games', 'goals', 'yellowCards'), ('height', 'weight', 'games', 'goals', 'yellowReds'), ('height', 'weight', 'games', 'goals', 'redCards'), ('height', 'weight', 'games', 'yellowCards', 'yellowReds'), ('height', 'weight', 'games', 'yellowCards', 'redCards'), ('height', 'weight', 'games', 'yellowReds', 'redCards'), ('height', 'weight', 'victories', 'ties', 'defeats'), ('height', 'weight', 'victories', 'ties', 'goals'), ('height', 'weight', 'victories', 'ties', 'yellowCards'), ('height', 'weight', 'victories', 'ties', 'yellowReds'), ('height', 'weight', 'victories', 'ties', 'redCards'), ('height', 'weight', 'victories', 'defeats', 'goals'), ('height', 'weight', 'victories', 'defeats', 'yellowCards'), ('height', 'weight', 'victories', 'defeats', 'yellowReds'), ('height', 'weight', 'victories', 'defeats', 'redCards'), ('height', 'weight', 'victories', 'goals', 'yellowCards'), ('height', 'weight', 'victories', 'goals', 'yellowReds'), ('height', 'weight', 'victories', 'goals', 'redCards'), ('height', 'weight', 'victories', 'yellowCards', 'yellowReds'), ('height', 'weight', 'victories', 'yellowCards', 'redCards'), ('height', 'weight', 'victories', 'yellowReds', 'redCards'), ('height', 'weight', 'ties', 'defeats', 'goals'), ('height', 'weight', 'ties', 'defeats', 'yellowCards'), ('height', 'weight', 'ties', 'defeats', 'yellowReds'), ('height', 'weight', 'ties', 'defeats', 'redCards'), ('height', 'weight', 'ties', 'goals', 'yellowCards'), ('height', 'weight', 'ties', 'goals', 'yellowReds'), ('height', 'weight', 'ties', 'goals', 'redCards'), ('height', 'weight', 'ties', 'yellowCards', 'yellowReds'), ('height', 'weight', 'ties', 'yellowCards', 'redCards'), ('height', 'weight', 'ties', 'yellowReds', 'redCards'), ('height', 'weight', 'defeats', 'goals', 'yellowCards'), ('height', 'weight', 'defeats', 'goals', 'yellowReds'), ('height', 'weight', 'defeats', 'goals', 'redCards'), ('height', 'weight', 'defeats', 'yellowCards', 'yellowReds'), ('height', 'weight', 'defeats', 'yellowCards', 'redCards'), ('height', 'weight', 'defeats', 'yellowReds', 'redCards'), ('height', 'weight', 'goals', 'yellowCards', 'yellowReds'), ('height', 'weight', 'goals', 'yellowCards', 'redCards'), ('height', 'weight', 'goals', 'yellowReds', 'redCards'), ('height', 'weight', 'yellowCards', 'yellowReds', 'redCards'), ('height', 'games', 'victories', 'ties', 'defeats'), ('height', 'games', 'victories', 'ties', 'goals'), ('height', 'games', 'victories', 'ties', 'yellowCards'), ('height', 'games', 'victories', 'ties', 'yellowReds'), ('height', 'games', 'victories', 'ties', 'redCards'), ('height', 'games', 'victories', 'defeats', 'goals'), ('height', 'games', 'victories', 'defeats', 'yellowCards'), ('height', 'games', 'victories', 'defeats', 'yellowReds'), ('height', 'games', 'victories', 'defeats', 'redCards'), ('height', 'games', 'victories', 'goals', 'yellowCards'), ('height', 'games', 'victories', 'goals', 'yellowReds'), ('height', 'games', 'victories', 'goals', 'redCards'), ('height', 'games', 'victories', 'yellowCards', 'yellowReds'), ('height', 'games', 'victories', 'yellowCards', 'redCards'), ('height', 'games', 'victories', 'yellowReds', 'redCards'), ('height', 'games', 'ties', 'defeats', 'goals'), ('height', 'games', 'ties', 'defeats', 'yellowCards'), ('height', 'games', 'ties', 'defeats', 'yellowReds'), ('height', 'games', 'ties', 'defeats', 'redCards'), ('height', 'games', 'ties', 'goals', 'yellowCards'), ('height', 'games', 'ties', 'goals', 'yellowReds'), ('height', 'games', 'ties', 'goals', 'redCards'), ('height', 'games', 'ties', 'yellowCards', 'yellowReds'), ('height', 'games', 'ties', 'yellowCards', 'redCards'), ('height', 'games', 'ties', 'yellowReds', 'redCards'), ('height', 'games', 'defeats', 'goals', 'yellowCards'), ('height', 'games', 'defeats', 'goals', 'yellowReds'), ('height', 'games', 'defeats', 'goals', 'redCards'), ('height', 'games', 'defeats', 'yellowCards', 'yellowReds'), ('height', 'games', 'defeats', 'yellowCards', 'redCards'), ('height', 'games', 'defeats', 'yellowReds', 'redCards'), ('height', 'games', 'goals', 'yellowCards', 'yellowReds'), ('height', 'games', 'goals', 'yellowCards', 'redCards'), ('height', 'games', 'goals', 'yellowReds', 'redCards'), ('height', 'games', 'yellowCards', 'yellowReds', 'redCards'), ('height', 'victories', 'ties', 'defeats', 'goals'), ('height', 'victories', 'ties', 'defeats', 'yellowCards'), ('height', 'victories', 'ties', 'defeats', 'yellowReds'), ('height', 'victories', 'ties', 'defeats', 'redCards'), ('height', 'victories', 'ties', 'goals', 'yellowCards'), ('height', 'victories', 'ties', 'goals', 'yellowReds'), ('height', 'victories', 'ties', 'goals', 'redCards'), ('height', 'victories', 'ties', 'yellowCards', 'yellowReds'), ('height', 'victories', 'ties', 'yellowCards', 'redCards'), ('height', 'victories', 'ties', 'yellowReds', 'redCards'), ('height', 'victories', 'defeats', 'goals', 'yellowCards'), ('height', 'victories', 'defeats', 'goals', 'yellowReds'), ('height', 'victories', 'defeats', 'goals', 'redCards'), ('height', 'victories', 'defeats', 'yellowCards', 'yellowReds'), ('height', 'victories', 'defeats', 'yellowCards', 'redCards'), ('height', 'victories', 'defeats', 'yellowReds', 'redCards'), ('height', 'victories', 'goals', 'yellowCards', 'yellowReds'), ('height', 'victories', 'goals', 'yellowCards', 'redCards'), ('height', 'victories', 'goals', 'yellowReds', 'redCards'), ('height', 'victories', 'yellowCards', 'yellowReds', 'redCards'), ('height', 'ties', 'defeats', 'goals', 'yellowCards'), ('height', 'ties', 'defeats', 'goals', 'yellowReds'), ('height', 'ties', 'defeats', 'goals', 'redCards'), ('height', 'ties', 'defeats', 'yellowCards', 'yellowReds'), ('height', 'ties', 'defeats', 'yellowCards', 'redCards'), ('height', 'ties', 'defeats', 'yellowReds', 'redCards'), ('height', 'ties', 'goals', 'yellowCards', 'yellowReds'), ('height', 'ties', 'goals', 'yellowCards', 'redCards'), ('height', 'ties', 'goals', 'yellowReds', 'redCards'), ('height', 'ties', 'yellowCards', 'yellowReds', 'redCards'), ('height', 'defeats', 'goals', 'yellowCards', 'yellowReds'), ('height', 'defeats', 'goals', 'yellowCards', 'redCards'), ('height', 'defeats', 'goals', 'yellowReds', 'redCards'), ('height', 'defeats', 'yellowCards', 'yellowReds', 'redCards'), ('height', 'goals', 'yellowCards', 'yellowReds', 'redCards'), ('weight', 'games', 'victories', 'ties', 'defeats'), ('weight', 'games', 'victories', 'ties', 'goals'), ('weight', 'games', 'victories', 'ties', 'yellowCards'), ('weight', 'games', 'victories', 'ties', 'yellowReds'), ('weight', 'games', 'victories', 'ties', 'redCards'), ('weight', 'games', 'victories', 'defeats', 'goals'), ('weight', 'games', 'victories', 'defeats', 'yellowCards'), ('weight', 'games', 'victories', 'defeats', 'yellowReds'), ('weight', 'games', 'victories', 'defeats', 'redCards'), ('weight', 'games', 'victories', 'goals', 'yellowCards'), ('weight', 'games', 'victories', 'goals', 'yellowReds'), ('weight', 'games', 'victories', 'goals', 'redCards'), ('weight', 'games', 'victories', 'yellowCards', 'yellowReds'), ('weight', 'games', 'victories', 'yellowCards', 'redCards'), ('weight', 'games', 'victories', 'yellowReds', 'redCards'), ('weight', 'games', 'ties', 'defeats', 'goals'), ('weight', 'games', 'ties', 'defeats', 'yellowCards'), ('weight', 'games', 'ties', 'defeats', 'yellowReds'), ('weight', 'games', 'ties', 'defeats', 'redCards'), ('weight', 'games', 'ties', 'goals', 'yellowCards'), ('weight', 'games', 'ties', 'goals', 'yellowReds'), ('weight', 'games', 'ties', 'goals', 'redCards'), ('weight', 'games', 'ties', 'yellowCards', 'yellowReds'), ('weight', 'games', 'ties', 'yellowCards', 'redCards'), ('weight', 'games', 'ties', 'yellowReds', 'redCards'), ('weight', 'games', 'defeats', 'goals', 'yellowCards'), ('weight', 'games', 'defeats', 'goals', 'yellowReds'), ('weight', 'games', 'defeats', 'goals', 'redCards'), ('weight', 'games', 'defeats', 'yellowCards', 'yellowReds'), ('weight', 'games', 'defeats', 'yellowCards', 'redCards'), ('weight', 'games', 'defeats', 'yellowReds', 'redCards'), ('weight', 'games', 'goals', 'yellowCards', 'yellowReds'), ('weight', 'games', 'goals', 'yellowCards', 'redCards'), ('weight', 'games', 'goals', 'yellowReds', 'redCards'), ('weight', 'games', 'yellowCards', 'yellowReds', 'redCards'), ('weight', 'victories', 'ties', 'defeats', 'goals'), ('weight', 'victories', 'ties', 'defeats', 'yellowCards'), ('weight', 'victories', 'ties', 'defeats', 'yellowReds'), ('weight', 'victories', 'ties', 'defeats', 'redCards'), ('weight', 'victories', 'ties', 'goals', 'yellowCards'), ('weight', 'victories', 'ties', 'goals', 'yellowReds'), ('weight', 'victories', 'ties', 'goals', 'redCards'), ('weight', 'victories', 'ties', 'yellowCards', 'yellowReds'), ('weight', 'victories', 'ties', 'yellowCards', 'redCards'), ('weight', 'victories', 'ties', 'yellowReds', 'redCards'), ('weight', 'victories', 'defeats', 'goals', 'yellowCards'), ('weight', 'victories', 'defeats', 'goals', 'yellowReds'), ('weight', 'victories', 'defeats', 'goals', 'redCards'), ('weight', 'victories', 'defeats', 'yellowCards', 'yellowReds'), ('weight', 'victories', 'defeats', 'yellowCards', 'redCards'), ('weight', 'victories', 'defeats', 'yellowReds', 'redCards'), ('weight', 'victories', 'goals', 'yellowCards', 'yellowReds'), ('weight', 'victories', 'goals', 'yellowCards', 'redCards'), ('weight', 'victories', 'goals', 'yellowReds', 'redCards'), ('weight', 'victories', 'yellowCards', 'yellowReds', 'redCards'), ('weight', 'ties', 'defeats', 'goals', 'yellowCards'), ('weight', 'ties', 'defeats', 'goals', 'yellowReds'), ('weight', 'ties', 'defeats', 'goals', 'redCards'), ('weight', 'ties', 'defeats', 'yellowCards', 'yellowReds'), ('weight', 'ties', 'defeats', 'yellowCards', 'redCards'), ('weight', 'ties', 'defeats', 'yellowReds', 'redCards'), ('weight', 'ties', 'goals', 'yellowCards', 'yellowReds'), ('weight', 'ties', 'goals', 'yellowCards', 'redCards'), ('weight', 'ties', 'goals', 'yellowReds', 'redCards'), ('weight', 'ties', 'yellowCards', 'yellowReds', 'redCards'), ('weight', 'defeats', 'goals', 'yellowCards', 'yellowReds'), ('weight', 'defeats', 'goals', 'yellowCards', 'redCards'), ('weight', 'defeats', 'goals', 'yellowReds', 'redCards'), ('weight', 'defeats', 'yellowCards', 'yellowReds', 'redCards'), ('weight', 'goals', 'yellowCards', 'yellowReds', 'redCards'), ('games', 'victories', 'ties', 'defeats', 'goals'), ('games', 'victories', 'ties', 'defeats', 'yellowCards'), ('games', 'victories', 'ties', 'defeats', 'yellowReds'), ('games', 'victories', 'ties', 'defeats', 'redCards'), ('games', 'victories', 'ties', 'goals', 'yellowCards'), ('games', 'victories', 'ties', 'goals', 'yellowReds'), ('games', 'victories', 'ties', 'goals', 'redCards'), ('games', 'victories', 'ties', 'yellowCards', 'yellowReds'), ('games', 'victories', 'ties', 'yellowCards', 'redCards'), ('games', 'victories', 'ties', 'yellowReds', 'redCards'), ('games', 'victories', 'defeats', 'goals', 'yellowCards'), ('games', 'victories', 'defeats', 'goals', 'yellowReds'), ('games', 'victories', 'defeats', 'goals', 'redCards'), ('games', 'victories', 'defeats', 'yellowCards', 'yellowReds'), ('games', 'victories', 'defeats', 'yellowCards', 'redCards'), ('games', 'victories', 'defeats', 'yellowReds', 'redCards'), ('games', 'victories', 'goals', 'yellowCards', 'yellowReds'), ('games', 'victories', 'goals', 'yellowCards', 'redCards'), ('games', 'victories', 'goals', 'yellowReds', 'redCards'), ('games', 'victories', 'yellowCards', 'yellowReds', 'redCards'), ('games', 'ties', 'defeats', 'goals', 'yellowCards'), ('games', 'ties', 'defeats', 'goals', 'yellowReds'), ('games', 'ties', 'defeats', 'goals', 'redCards'), ('games', 'ties', 'defeats', 'yellowCards', 'yellowReds'), ('games', 'ties', 'defeats', 'yellowCards', 'redCards'), ('games', 'ties', 'defeats', 'yellowReds', 'redCards'), ('games', 'ties', 'goals', 'yellowCards', 'yellowReds'), ('games', 'ties', 'goals', 'yellowCards', 'redCards'), ('games', 'ties', 'goals', 'yellowReds', 'redCards'), ('games', 'ties', 'yellowCards', 'yellowReds', 'redCards'), ('games', 'defeats', 'goals', 'yellowCards', 'yellowReds'), ('games', 'defeats', 'goals', 'yellowCards', 'redCards'), ('games', 'defeats', 'goals', 'yellowReds', 'redCards'), ('games', 'defeats', 'yellowCards', 'yellowReds', 'redCards'), ('games', 'goals', 'yellowCards', 'yellowReds', 'redCards'), ('victories', 'ties', 'defeats', 'goals', 'yellowCards'), ('victories', 'ties', 'defeats', 'goals', 'yellowReds'), ('victories', 'ties', 'defeats', 'goals', 'redCards'), ('victories', 'ties', 'defeats', 'yellowCards', 'yellowReds'), ('victories', 'ties', 'defeats', 'yellowCards', 'redCards'), ('victories', 'ties', 'defeats', 'yellowReds', 'redCards'), ('victories', 'ties', 'goals', 'yellowCards', 'yellowReds'), ('victories', 'ties', 'goals', 'yellowCards', 'redCards'), ('victories', 'ties', 'goals', 'yellowReds', 'redCards'), ('victories', 'ties', 'yellowCards', 'yellowReds', 'redCards'), ('victories', 'defeats', 'goals', 'yellowCards', 'yellowReds'), ('victories', 'defeats', 'goals', 'yellowCards', 'redCards'), ('victories', 'defeats', 'goals', 'yellowReds', 'redCards'), ('victories', 'defeats', 'yellowCards', 'yellowReds', 'redCards'), ('victories', 'goals', 'yellowCards', 'yellowReds', 'redCards'), ('ties', 'defeats', 'goals', 'yellowCards', 'yellowReds'), ('ties', 'defeats', 'goals', 'yellowCards', 'redCards'), ('ties', 'defeats', 'goals', 'yellowReds', 'redCards'), ('ties', 'defeats', 'yellowCards', 'yellowReds', 'redCards'), ('ties', 'goals', 'yellowCards', 'yellowReds', 'redCards'), ('defeats', 'goals', 'yellowCards', 'yellowReds', 'redCards'), ('height', 'weight', 'games', 'victories', 'ties', 'defeats'), ('height', 'weight', 'games', 'victories', 'ties', 'goals'), ('height', 'weight', 'games', 'victories', 'ties', 'yellowCards'), ('height', 'weight', 'games', 'victories', 'ties', 'yellowReds'), ('height', 'weight', 'games', 'victories', 'ties', 'redCards'), ('height', 'weight', 'games', 'victories', 'defeats', 'goals'), ('height', 'weight', 'games', 'victories', 'defeats', 'yellowCards'), ('height', 'weight', 'games', 'victories', 'defeats', 'yellowReds'), ('height', 'weight', 'games', 'victories', 'defeats', 'redCards'), ('height', 'weight', 'games', 'victories', 'goals', 'yellowCards'), ('height', 'weight', 'games', 'victories', 'goals', 'yellowReds'), ('height', 'weight', 'games', 'victories', 'goals', 'redCards'), ('height', 'weight', 'games', 'victories', 'yellowCards', 'yellowReds'), ('height', 'weight', 'games', 'victories', 'yellowCards', 'redCards'), ('height', 'weight', 'games', 'victories', 'yellowReds', 'redCards'), ('height', 'weight', 'games', 'ties', 'defeats', 'goals'), ('height', 'weight', 'games', 'ties', 'defeats', 'yellowCards'), ('height', 'weight', 'games', 'ties', 'defeats', 'yellowReds'), ('height', 'weight', 'games', 'ties', 'defeats', 'redCards'), ('height', 'weight', 'games', 'ties', 'goals', 'yellowCards'), ('height', 'weight', 'games', 'ties', 'goals', 'yellowReds'), ('height', 'weight', 'games', 'ties', 'goals', 'redCards'), ('height', 'weight', 'games', 'ties', 'yellowCards', 'yellowReds'), ('height', 'weight', 'games', 'ties', 'yellowCards', 'redCards'), ('height', 'weight', 'games', 'ties', 'yellowReds', 'redCards'), ('height', 'weight', 'games', 'defeats', 'goals', 'yellowCards'), ('height', 'weight', 'games', 'defeats', 'goals', 'yellowReds'), ('height', 'weight', 'games', 'defeats', 'goals', 'redCards'), ('height', 'weight', 'games', 'defeats', 'yellowCards', 'yellowReds'), ('height', 'weight', 'games', 'defeats', 'yellowCards', 'redCards'), ('height', 'weight', 'games', 'defeats', 'yellowReds', 'redCards'), ('height', 'weight', 'games', 'goals', 'yellowCards', 'yellowReds'), ('height', 'weight', 'games', 'goals', 'yellowCards', 'redCards'), ('height', 'weight', 'games', 'goals', 'yellowReds', 'redCards'), ('height', 'weight', 'games', 'yellowCards', 'yellowReds', 'redCards'), ('height', 'weight', 'victories', 'ties', 'defeats', 'goals'), ('height', 'weight', 'victories', 'ties', 'defeats', 'yellowCards'), ('height', 'weight', 'victories', 'ties', 'defeats', 'yellowReds'), ('height', 'weight', 'victories', 'ties', 'defeats', 'redCards'), ('height', 'weight', 'victories', 'ties', 'goals', 'yellowCards'), ('height', 'weight', 'victories', 'ties', 'goals', 'yellowReds'), ('height', 'weight', 'victories', 'ties', 'goals', 'redCards'), ('height', 'weight', 'victories', 'ties', 'yellowCards', 'yellowReds'), ('height', 'weight', 'victories', 'ties', 'yellowCards', 'redCards'), ('height', 'weight', 'victories', 'ties', 'yellowReds', 'redCards'), ('height', 'weight', 'victories', 'defeats', 'goals', 'yellowCards'), ('height', 'weight', 'victories', 'defeats', 'goals', 'yellowReds'), ('height', 'weight', 'victories', 'defeats', 'goals', 'redCards'), ('height', 'weight', 'victories', 'defeats', 'yellowCards', 'yellowReds'), ('height', 'weight', 'victories', 'defeats', 'yellowCards', 'redCards'), ('height', 'weight', 'victories', 'defeats', 'yellowReds', 'redCards'), ('height', 'weight', 'victories', 'goals', 'yellowCards', 'yellowReds'), ('height', 'weight', 'victories', 'goals', 'yellowCards', 'redCards'), ('height', 'weight', 'victories', 'goals', 'yellowReds', 'redCards'), ('height', 'weight', 'victories', 'yellowCards', 'yellowReds', 'redCards'), ('height', 'weight', 'ties', 'defeats', 'goals', 'yellowCards'), ('height', 'weight', 'ties', 'defeats', 'goals', 'yellowReds'), ('height', 'weight', 'ties', 'defeats', 'goals', 'redCards'), ('height', 'weight', 'ties', 'defeats', 'yellowCards', 'yellowReds'), ('height', 'weight', 'ties', 'defeats', 'yellowCards', 'redCards'), ('height', 'weight', 'ties', 'defeats', 'yellowReds', 'redCards'), ('height', 'weight', 'ties', 'goals', 'yellowCards', 'yellowReds'), ('height', 'weight', 'ties', 'goals', 'yellowCards', 'redCards'), ('height', 'weight', 'ties', 'goals', 'yellowReds', 'redCards'), ('height', 'weight', 'ties', 'yellowCards', 'yellowReds', 'redCards'), ('height', 'weight', 'defeats', 'goals', 'yellowCards', 'yellowReds'), ('height', 'weight', 'defeats', 'goals', 'yellowCards', 'redCards'), ('height', 'weight', 'defeats', 'goals', 'yellowReds', 'redCards'), ('height', 'weight', 'defeats', 'yellowCards', 'yellowReds', 'redCards'), ('height', 'weight', 'goals', 'yellowCards', 'yellowReds', 'redCards'), ('height', 'games', 'victories', 'ties', 'defeats', 'goals'), ('height', 'games', 'victories', 'ties', 'defeats', 'yellowCards'), ('height', 'games', 'victories', 'ties', 'defeats', 'yellowReds'), ('height', 'games', 'victories', 'ties', 'defeats', 'redCards'), ('height', 'games', 'victories', 'ties', 'goals', 'yellowCards'), ('height', 'games', 'victories', 'ties', 'goals', 'yellowReds'), ('height', 'games', 'victories', 'ties', 'goals', 'redCards'), ('height', 'games', 'victories', 'ties', 'yellowCards', 'yellowReds'), ('height', 'games', 'victories', 'ties', 'yellowCards', 'redCards'), ('height', 'games', 'victories', 'ties', 'yellowReds', 'redCards'), ('height', 'games', 'victories', 'defeats', 'goals', 'yellowCards'), ('height', 'games', 'victories', 'defeats', 'goals', 'yellowReds'), ('height', 'games', 'victories', 'defeats', 'goals', 'redCards'), ('height', 'games', 'victories', 'defeats', 'yellowCards', 'yellowReds'), ('height', 'games', 'victories', 'defeats', 'yellowCards', 'redCards'), ('height', 'games', 'victories', 'defeats', 'yellowReds', 'redCards'), ('height', 'games', 'victories', 'goals', 'yellowCards', 'yellowReds'), ('height', 'games', 'victories', 'goals', 'yellowCards', 'redCards'), ('height', 'games', 'victories', 'goals', 'yellowReds', 'redCards'), ('height', 'games', 'victories', 'yellowCards', 'yellowReds', 'redCards'), ('height', 'games', 'ties', 'defeats', 'goals', 'yellowCards'), ('height', 'games', 'ties', 'defeats', 'goals', 'yellowReds'), ('height', 'games', 'ties', 'defeats', 'goals', 'redCards'), ('height', 'games', 'ties', 'defeats', 'yellowCards', 'yellowReds'), ('height', 'games', 'ties', 'defeats', 'yellowCards', 'redCards'), ('height', 'games', 'ties', 'defeats', 'yellowReds', 'redCards'), ('height', 'games', 'ties', 'goals', 'yellowCards', 'yellowReds'), ('height', 'games', 'ties', 'goals', 'yellowCards', 'redCards'), ('height', 'games', 'ties', 'goals', 'yellowReds', 'redCards'), ('height', 'games', 'ties', 'yellowCards', 'yellowReds', 'redCards'), ('height', 'games', 'defeats', 'goals', 'yellowCards', 'yellowReds'), ('height', 'games', 'defeats', 'goals', 'yellowCards', 'redCards'), ('height', 'games', 'defeats', 'goals', 'yellowReds', 'redCards'), ('height', 'games', 'defeats', 'yellowCards', 'yellowReds', 'redCards'), ('height', 'games', 'goals', 'yellowCards', 'yellowReds', 'redCards'), ('height', 'victories', 'ties', 'defeats', 'goals', 'yellowCards'), ('height', 'victories', 'ties', 'defeats', 'goals', 'yellowReds'), ('height', 'victories', 'ties', 'defeats', 'goals', 'redCards'), ('height', 'victories', 'ties', 'defeats', 'yellowCards', 'yellowReds'), ('height', 'victories', 'ties', 'defeats', 'yellowCards', 'redCards'), ('height', 'victories', 'ties', 'defeats', 'yellowReds', 'redCards'), ('height', 'victories', 'ties', 'goals', 'yellowCards', 'yellowReds'), ('height', 'victories', 'ties', 'goals', 'yellowCards', 'redCards'), ('height', 'victories', 'ties', 'goals', 'yellowReds', 'redCards'), ('height', 'victories', 'ties', 'yellowCards', 'yellowReds', 'redCards'), ('height', 'victories', 'defeats', 'goals', 'yellowCards', 'yellowReds'), ('height', 'victories', 'defeats', 'goals', 'yellowCards', 'redCards'), ('height', 'victories', 'defeats', 'goals', 'yellowReds', 'redCards'), ('height', 'victories', 'defeats', 'yellowCards', 'yellowReds', 'redCards'), ('height', 'victories', 'goals', 'yellowCards', 'yellowReds', 'redCards'), ('height', 'ties', 'defeats', 'goals', 'yellowCards', 'yellowReds'), ('height', 'ties', 'defeats', 'goals', 'yellowCards', 'redCards'), ('height', 'ties', 'defeats', 'goals', 'yellowReds', 'redCards'), ('height', 'ties', 'defeats', 'yellowCards', 'yellowReds', 'redCards'), ('height', 'ties', 'goals', 'yellowCards', 'yellowReds', 'redCards'), ('height', 'defeats', 'goals', 'yellowCards', 'yellowReds', 'redCards'), ('weight', 'games', 'victories', 'ties', 'defeats', 'goals'), ('weight', 'games', 'victories', 'ties', 'defeats', 'yellowCards'), ('weight', 'games', 'victories', 'ties', 'defeats', 'yellowReds'), ('weight', 'games', 'victories', 'ties', 'defeats', 'redCards'), ('weight', 'games', 'victories', 'ties', 'goals', 'yellowCards'), ('weight', 'games', 'victories', 'ties', 'goals', 'yellowReds'), ('weight', 'games', 'victories', 'ties', 'goals', 'redCards'), ('weight', 'games', 'victories', 'ties', 'yellowCards', 'yellowReds'), ('weight', 'games', 'victories', 'ties', 'yellowCards', 'redCards'), ('weight', 'games', 'victories', 'ties', 'yellowReds', 'redCards'), ('weight', 'games', 'victories', 'defeats', 'goals', 'yellowCards'), ('weight', 'games', 'victories', 'defeats', 'goals', 'yellowReds'), ('weight', 'games', 'victories', 'defeats', 'goals', 'redCards'), ('weight', 'games', 'victories', 'defeats', 'yellowCards', 'yellowReds'), ('weight', 'games', 'victories', 'defeats', 'yellowCards', 'redCards'), ('weight', 'games', 'victories', 'defeats', 'yellowReds', 'redCards'), ('weight', 'games', 'victories', 'goals', 'yellowCards', 'yellowReds'), ('weight', 'games', 'victories', 'goals', 'yellowCards', 'redCards'), ('weight', 'games', 'victories', 'goals', 'yellowReds', 'redCards'), ('weight', 'games', 'victories', 'yellowCards', 'yellowReds', 'redCards'), ('weight', 'games', 'ties', 'defeats', 'goals', 'yellowCards'), ('weight', 'games', 'ties', 'defeats', 'goals', 'yellowReds'), ('weight', 'games', 'ties', 'defeats', 'goals', 'redCards'), ('weight', 'games', 'ties', 'defeats', 'yellowCards', 'yellowReds'), ('weight', 'games', 'ties', 'defeats', 'yellowCards', 'redCards'), ('weight', 'games', 'ties', 'defeats', 'yellowReds', 'redCards'), ('weight', 'games', 'ties', 'goals', 'yellowCards', 'yellowReds'), ('weight', 'games', 'ties', 'goals', 'yellowCards', 'redCards'), ('weight', 'games', 'ties', 'goals', 'yellowReds', 'redCards'), ('weight', 'games', 'ties', 'yellowCards', 'yellowReds', 'redCards'), ('weight', 'games', 'defeats', 'goals', 'yellowCards', 'yellowReds'), ('weight', 'games', 'defeats', 'goals', 'yellowCards', 'redCards'), ('weight', 'games', 'defeats', 'goals', 'yellowReds', 'redCards'), ('weight', 'games', 'defeats', 'yellowCards', 'yellowReds', 'redCards'), ('weight', 'games', 'goals', 'yellowCards', 'yellowReds', 'redCards'), ('weight', 'victories', 'ties', 'defeats', 'goals', 'yellowCards'), ('weight', 'victories', 'ties', 'defeats', 'goals', 'yellowReds'), ('weight', 'victories', 'ties', 'defeats', 'goals', 'redCards'), ('weight', 'victories', 'ties', 'defeats', 'yellowCards', 'yellowReds'), ('weight', 'victories', 'ties', 'defeats', 'yellowCards', 'redCards'), ('weight', 'victories', 'ties', 'defeats', 'yellowReds', 'redCards'), ('weight', 'victories', 'ties', 'goals', 'yellowCards', 'yellowReds'), ('weight', 'victories', 'ties', 'goals', 'yellowCards', 'redCards'), ('weight', 'victories', 'ties', 'goals', 'yellowReds', 'redCards'), ('weight', 'victories', 'ties', 'yellowCards', 'yellowReds', 'redCards'), ('weight', 'victories', 'defeats', 'goals', 'yellowCards', 'yellowReds'), ('weight', 'victories', 'defeats', 'goals', 'yellowCards', 'redCards'), ('weight', 'victories', 'defeats', 'goals', 'yellowReds', 'redCards'), ('weight', 'victories', 'defeats', 'yellowCards', 'yellowReds', 'redCards'), ('weight', 'victories', 'goals', 'yellowCards', 'yellowReds', 'redCards'), ('weight', 'ties', 'defeats', 'goals', 'yellowCards', 'yellowReds'), ('weight', 'ties', 'defeats', 'goals', 'yellowCards', 'redCards'), ('weight', 'ties', 'defeats', 'goals', 'yellowReds', 'redCards'), ('weight', 'ties', 'defeats', 'yellowCards', 'yellowReds', 'redCards'), ('weight', 'ties', 'goals', 'yellowCards', 'yellowReds', 'redCards'), ('weight', 'defeats', 'goals', 'yellowCards', 'yellowReds', 'redCards'), ('games', 'victories', 'ties', 'defeats', 'goals', 'yellowCards'), ('games', 'victories', 'ties', 'defeats', 'goals', 'yellowReds'), ('games', 'victories', 'ties', 'defeats', 'goals', 'redCards'), ('games', 'victories', 'ties', 'defeats', 'yellowCards', 'yellowReds'), ('games', 'victories', 'ties', 'defeats', 'yellowCards', 'redCards'), ('games', 'victories', 'ties', 'defeats', 'yellowReds', 'redCards'), ('games', 'victories', 'ties', 'goals', 'yellowCards', 'yellowReds'), ('games', 'victories', 'ties', 'goals', 'yellowCards', 'redCards'), ('games', 'victories', 'ties', 'goals', 'yellowReds', 'redCards'), ('games', 'victories', 'ties', 'yellowCards', 'yellowReds', 'redCards'), ('games', 'victories', 'defeats', 'goals', 'yellowCards', 'yellowReds'), ('games', 'victories', 'defeats', 'goals', 'yellowCards', 'redCards'), ('games', 'victories', 'defeats', 'goals', 'yellowReds', 'redCards'), ('games', 'victories', 'defeats', 'yellowCards', 'yellowReds', 'redCards'), ('games', 'victories', 'goals', 'yellowCards', 'yellowReds', 'redCards'), ('games', 'ties', 'defeats', 'goals', 'yellowCards', 'yellowReds'), ('games', 'ties', 'defeats', 'goals', 'yellowCards', 'redCards'), ('games', 'ties', 'defeats', 'goals', 'yellowReds', 'redCards'), ('games', 'ties', 'defeats', 'yellowCards', 'yellowReds', 'redCards'), ('games', 'ties', 'goals', 'yellowCards', 'yellowReds', 'redCards'), ('games', 'defeats', 'goals', 'yellowCards', 'yellowReds', 'redCards'), ('victories', 'ties', 'defeats', 'goals', 'yellowCards', 'yellowReds'), ('victories', 'ties', 'defeats', 'goals', 'yellowCards', 'redCards'), ('victories', 'ties', 'defeats', 'goals', 'yellowReds', 'redCards'), ('victories', 'ties', 'defeats', 'yellowCards', 'yellowReds', 'redCards'), ('victories', 'ties', 'goals', 'yellowCards', 'yellowReds', 'redCards'), ('victories', 'defeats', 'goals', 'yellowCards', 'yellowReds', 'redCards'), ('ties', 'defeats', 'goals', 'yellowCards', 'yellowReds', 'redCards'), ('height', 'weight', 'games', 'victories', 'ties', 'defeats', 'goals'), ('height', 'weight', 'games', 'victories', 'ties', 'defeats', 'yellowCards'), ('height', 'weight', 'games', 'victories', 'ties', 'defeats', 'yellowReds'), ('height', 'weight', 'games', 'victories', 'ties', 'defeats', 'redCards'), ('height', 'weight', 'games', 'victories', 'ties', 'goals', 'yellowCards'), ('height', 'weight', 'games', 'victories', 'ties', 'goals', 'yellowReds'), ('height', 'weight', 'games', 'victories', 'ties', 'goals', 'redCards'), ('height', 'weight', 'games', 'victories', 'ties', 'yellowCards', 'yellowReds'), ('height', 'weight', 'games', 'victories', 'ties', 'yellowCards', 'redCards'), ('height', 'weight', 'games', 'victories', 'ties', 'yellowReds', 'redCards'), ('height', 'weight', 'games', 'victories', 'defeats', 'goals', 'yellowCards'), ('height', 'weight', 'games', 'victories', 'defeats', 'goals', 'yellowReds'), ('height', 'weight', 'games', 'victories', 'defeats', 'goals', 'redCards'), ('height', 'weight', 'games', 'victories', 'defeats', 'yellowCards', 'yellowReds'), ('height', 'weight', 'games', 'victories', 'defeats', 'yellowCards', 'redCards'), ('height', 'weight', 'games', 'victories', 'defeats', 'yellowReds', 'redCards'), ('height', 'weight', 'games', 'victories', 'goals', 'yellowCards', 'yellowReds'), ('height', 'weight', 'games', 'victories', 'goals', 'yellowCards', 'redCards'), ('height', 'weight', 'games', 'victories', 'goals', 'yellowReds', 'redCards'), ('height', 'weight', 'games', 'victories', 'yellowCards', 'yellowReds', 'redCards'), ('height', 'weight', 'games', 'ties', 'defeats', 'goals', 'yellowCards'), ('height', 'weight', 'games', 'ties', 'defeats', 'goals', 'yellowReds'), ('height', 'weight', 'games', 'ties', 'defeats', 'goals', 'redCards'), ('height', 'weight', 'games', 'ties', 'defeats', 'yellowCards', 'yellowReds'), ('height', 'weight', 'games', 'ties', 'defeats', 'yellowCards', 'redCards'), ('height', 'weight', 'games', 'ties', 'defeats', 'yellowReds', 'redCards'), ('height', 'weight', 'games', 'ties', 'goals', 'yellowCards', 'yellowReds'), ('height', 'weight', 'games', 'ties', 'goals', 'yellowCards', 'redCards'), ('height', 'weight', 'games', 'ties', 'goals', 'yellowReds', 'redCards'), ('height', 'weight', 'games', 'ties', 'yellowCards', 'yellowReds', 'redCards'), ('height', 'weight', 'games', 'defeats', 'goals', 'yellowCards', 'yellowReds'), ('height', 'weight', 'games', 'defeats', 'goals', 'yellowCards', 'redCards'), ('height', 'weight', 'games', 'defeats', 'goals', 'yellowReds', 'redCards'), ('height', 'weight', 'games', 'defeats', 'yellowCards', 'yellowReds', 'redCards'), ('height', 'weight', 'games', 'goals', 'yellowCards', 'yellowReds', 'redCards'), ('height', 'weight', 'victories', 'ties', 'defeats', 'goals', 'yellowCards'), ('height', 'weight', 'victories', 'ties', 'defeats', 'goals', 'yellowReds'), ('height', 'weight', 'victories', 'ties', 'defeats', 'goals', 'redCards'), ('height', 'weight', 'victories', 'ties', 'defeats', 'yellowCards', 'yellowReds'), ('height', 'weight', 'victories', 'ties', 'defeats', 'yellowCards', 'redCards'), ('height', 'weight', 'victories', 'ties', 'defeats', 'yellowReds', 'redCards'), ('height', 'weight', 'victories', 'ties', 'goals', 'yellowCards', 'yellowReds'), ('height', 'weight', 'victories', 'ties', 'goals', 'yellowCards', 'redCards'), ('height', 'weight', 'victories', 'ties', 'goals', 'yellowReds', 'redCards'), ('height', 'weight', 'victories', 'ties', 'yellowCards', 'yellowReds', 'redCards'), ('height', 'weight', 'victories', 'defeats', 'goals', 'yellowCards', 'yellowReds'), ('height', 'weight', 'victories', 'defeats', 'goals', 'yellowCards', 'redCards'), ('height', 'weight', 'victories', 'defeats', 'goals', 'yellowReds', 'redCards'), ('height', 'weight', 'victories', 'defeats', 'yellowCards', 'yellowReds', 'redCards'), ('height', 'weight', 'victories', 'goals', 'yellowCards', 'yellowReds', 'redCards'), ('height', 'weight', 'ties', 'defeats', 'goals', 'yellowCards', 'yellowReds'), ('height', 'weight', 'ties', 'defeats', 'goals', 'yellowCards', 'redCards'), ('height', 'weight', 'ties', 'defeats', 'goals', 'yellowReds', 'redCards'), ('height', 'weight', 'ties', 'defeats', 'yellowCards', 'yellowReds', 'redCards'), ('height', 'weight', 'ties', 'goals', 'yellowCards', 'yellowReds', 'redCards'), ('height', 'weight', 'defeats', 'goals', 'yellowCards', 'yellowReds', 'redCards'), ('height', 'games', 'victories', 'ties', 'defeats', 'goals', 'yellowCards'), ('height', 'games', 'victories', 'ties', 'defeats', 'goals', 'yellowReds'), ('height', 'games', 'victories', 'ties', 'defeats', 'goals', 'redCards'), ('height', 'games', 'victories', 'ties', 'defeats', 'yellowCards', 'yellowReds'), ('height', 'games', 'victories', 'ties', 'defeats', 'yellowCards', 'redCards'), ('height', 'games', 'victories', 'ties', 'defeats', 'yellowReds', 'redCards'), ('height', 'games', 'victories', 'ties', 'goals', 'yellowCards', 'yellowReds'), ('height', 'games', 'victories', 'ties', 'goals', 'yellowCards', 'redCards'), ('height', 'games', 'victories', 'ties', 'goals', 'yellowReds', 'redCards'), ('height', 'games', 'victories', 'ties', 'yellowCards', 'yellowReds', 'redCards'), ('height', 'games', 'victories', 'defeats', 'goals', 'yellowCards', 'yellowReds'), ('height', 'games', 'victories', 'defeats', 'goals', 'yellowCards', 'redCards'), ('height', 'games', 'victories', 'defeats', 'goals', 'yellowReds', 'redCards'), ('height', 'games', 'victories', 'defeats', 'yellowCards', 'yellowReds', 'redCards'), ('height', 'games', 'victories', 'goals', 'yellowCards', 'yellowReds', 'redCards'), ('height', 'games', 'ties', 'defeats', 'goals', 'yellowCards', 'yellowReds'), ('height', 'games', 'ties', 'defeats', 'goals', 'yellowCards', 'redCards'), ('height', 'games', 'ties', 'defeats', 'goals', 'yellowReds', 'redCards'), ('height', 'games', 'ties', 'defeats', 'yellowCards', 'yellowReds', 'redCards'), ('height', 'games', 'ties', 'goals', 'yellowCards', 'yellowReds', 'redCards'), ('height', 'games', 'defeats', 'goals', 'yellowCards', 'yellowReds', 'redCards'), ('height', 'victories', 'ties', 'defeats', 'goals', 'yellowCards', 'yellowReds'), ('height', 'victories', 'ties', 'defeats', 'goals', 'yellowCards', 'redCards'), ('height', 'victories', 'ties', 'defeats', 'goals', 'yellowReds', 'redCards'), ('height', 'victories', 'ties', 'defeats', 'yellowCards', 'yellowReds', 'redCards'), ('height', 'victories', 'ties', 'goals', 'yellowCards', 'yellowReds', 'redCards'), ('height', 'victories', 'defeats', 'goals', 'yellowCards', 'yellowReds', 'redCards'), ('height', 'ties', 'defeats', 'goals', 'yellowCards', 'yellowReds', 'redCards'), ('weight', 'games', 'victories', 'ties', 'defeats', 'goals', 'yellowCards'), ('weight', 'games', 'victories', 'ties', 'defeats', 'goals', 'yellowReds'), ('weight', 'games', 'victories', 'ties', 'defeats', 'goals', 'redCards'), ('weight', 'games', 'victories', 'ties', 'defeats', 'yellowCards', 'yellowReds'), ('weight', 'games', 'victories', 'ties', 'defeats', 'yellowCards', 'redCards'), ('weight', 'games', 'victories', 'ties', 'defeats', 'yellowReds', 'redCards'), ('weight', 'games', 'victories', 'ties', 'goals', 'yellowCards', 'yellowReds'), ('weight', 'games', 'victories', 'ties', 'goals', 'yellowCards', 'redCards'), ('weight', 'games', 'victories', 'ties', 'goals', 'yellowReds', 'redCards'), ('weight', 'games', 'victories', 'ties', 'yellowCards', 'yellowReds', 'redCards'), ('weight', 'games', 'victories', 'defeats', 'goals', 'yellowCards', 'yellowReds'), ('weight', 'games', 'victories', 'defeats', 'goals', 'yellowCards', 'redCards'), ('weight', 'games', 'victories', 'defeats', 'goals', 'yellowReds', 'redCards'), ('weight', 'games', 'victories', 'defeats', 'yellowCards', 'yellowReds', 'redCards'), ('weight', 'games', 'victories', 'goals', 'yellowCards', 'yellowReds', 'redCards'), ('weight', 'games', 'ties', 'defeats', 'goals', 'yellowCards', 'yellowReds'), ('weight', 'games', 'ties', 'defeats', 'goals', 'yellowCards', 'redCards'), ('weight', 'games', 'ties', 'defeats', 'goals', 'yellowReds', 'redCards'), ('weight', 'games', 'ties', 'defeats', 'yellowCards', 'yellowReds', 'redCards'), ('weight', 'games', 'ties', 'goals', 'yellowCards', 'yellowReds', 'redCards'), ('weight', 'games', 'defeats', 'goals', 'yellowCards', 'yellowReds', 'redCards'), ('weight', 'victories', 'ties', 'defeats', 'goals', 'yellowCards', 'yellowReds'), ('weight', 'victories', 'ties', 'defeats', 'goals', 'yellowCards', 'redCards'), ('weight', 'victories', 'ties', 'defeats', 'goals', 'yellowReds', 'redCards'), ('weight', 'victories', 'ties', 'defeats', 'yellowCards', 'yellowReds', 'redCards'), ('weight', 'victories', 'ties', 'goals', 'yellowCards', 'yellowReds', 'redCards'), ('weight', 'victories', 'defeats', 'goals', 'yellowCards', 'yellowReds', 'redCards'), ('weight', 'ties', 'defeats', 'goals', 'yellowCards', 'yellowReds', 'redCards'), ('games', 'victories', 'ties', 'defeats', 'goals', 'yellowCards', 'yellowReds'), ('games', 'victories', 'ties', 'defeats', 'goals', 'yellowCards', 'redCards'), ('games', 'victories', 'ties', 'defeats', 'goals', 'yellowReds', 'redCards'), ('games', 'victories', 'ties', 'defeats', 'yellowCards', 'yellowReds', 'redCards'), ('games', 'victories', 'ties', 'goals', 'yellowCards', 'yellowReds', 'redCards'), ('games', 'victories', 'defeats', 'goals', 'yellowCards', 'yellowReds', 'redCards'), ('games', 'ties', 'defeats', 'goals', 'yellowCards', 'yellowReds', 'redCards'), ('victories', 'ties', 'defeats', 'goals', 'yellowCards', 'yellowReds', 'redCards'), ('height', 'weight', 'games', 'victories', 'ties', 'defeats', 'goals', 'yellowCards'), ('height', 'weight', 'games', 'victories', 'ties', 'defeats', 'goals', 'yellowReds'), ('height', 'weight', 'games', 'victories', 'ties', 'defeats', 'goals', 'redCards'), ('height', 'weight', 'games', 'victories', 'ties', 'defeats', 'yellowCards', 'yellowReds'), ('height', 'weight', 'games', 'victories', 'ties', 'defeats', 'yellowCards', 'redCards'), ('height', 'weight', 'games', 'victories', 'ties', 'defeats', 'yellowReds', 'redCards'), ('height', 'weight', 'games', 'victories', 'ties', 'goals', 'yellowCards', 'yellowReds'), ('height', 'weight', 'games', 'victories', 'ties', 'goals', 'yellowCards', 'redCards'), ('height', 'weight', 'games', 'victories', 'ties', 'goals', 'yellowReds', 'redCards'), ('height', 'weight', 'games', 'victories', 'ties', 'yellowCards', 'yellowReds', 'redCards'), ('height', 'weight', 'games', 'victories', 'defeats', 'goals', 'yellowCards', 'yellowReds'), ('height', 'weight', 'games', 'victories', 'defeats', 'goals', 'yellowCards', 'redCards'), ('height', 'weight', 'games', 'victories', 'defeats', 'goals', 'yellowReds', 'redCards'), ('height', 'weight', 'games', 'victories', 'defeats', 'yellowCards', 'yellowReds', 'redCards'), ('height', 'weight', 'games', 'victories', 'goals', 'yellowCards', 'yellowReds', 'redCards'), ('height', 'weight', 'games', 'ties', 'defeats', 'goals', 'yellowCards', 'yellowReds'), ('height', 'weight', 'games', 'ties', 'defeats', 'goals', 'yellowCards', 'redCards'), ('height', 'weight', 'games', 'ties', 'defeats', 'goals', 'yellowReds', 'redCards'), ('height', 'weight', 'games', 'ties', 'defeats', 'yellowCards', 'yellowReds', 'redCards'), ('height', 'weight', 'games', 'ties', 'goals', 'yellowCards', 'yellowReds', 'redCards'), ('height', 'weight', 'games', 'defeats', 'goals', 'yellowCards', 'yellowReds', 'redCards'), ('height', 'weight', 'victories', 'ties', 'defeats', 'goals', 'yellowCards', 'yellowReds'), ('height', 'weight', 'victories', 'ties', 'defeats', 'goals', 'yellowCards', 'redCards'), ('height', 'weight', 'victories', 'ties', 'defeats', 'goals', 'yellowReds', 'redCards'), ('height', 'weight', 'victories', 'ties', 'defeats', 'yellowCards', 'yellowReds', 'redCards'), ('height', 'weight', 'victories', 'ties', 'goals', 'yellowCards', 'yellowReds', 'redCards'), ('height', 'weight', 'victories', 'defeats', 'goals', 'yellowCards', 'yellowReds', 'redCards'), ('height', 'weight', 'ties', 'defeats', 'goals', 'yellowCards', 'yellowReds', 'redCards'), ('height', 'games', 'victories', 'ties', 'defeats', 'goals', 'yellowCards', 'yellowReds'), ('height', 'games', 'victories', 'ties', 'defeats', 'goals', 'yellowCards', 'redCards'), ('height', 'games', 'victories', 'ties', 'defeats', 'goals', 'yellowReds', 'redCards'), ('height', 'games', 'victories', 'ties', 'defeats', 'yellowCards', 'yellowReds', 'redCards'), ('height', 'games', 'victories', 'ties', 'goals', 'yellowCards', 'yellowReds', 'redCards'), ('height', 'games', 'victories', 'defeats', 'goals', 'yellowCards', 'yellowReds', 'redCards'), ('height', 'games', 'ties', 'defeats', 'goals', 'yellowCards', 'yellowReds', 'redCards'), ('height', 'victories', 'ties', 'defeats', 'goals', 'yellowCards', 'yellowReds', 'redCards'), ('weight', 'games', 'victories', 'ties', 'defeats', 'goals', 'yellowCards', 'yellowReds'), ('weight', 'games', 'victories', 'ties', 'defeats', 'goals', 'yellowCards', 'redCards'), ('weight', 'games', 'victories', 'ties', 'defeats', 'goals', 'yellowReds', 'redCards'), ('weight', 'games', 'victories', 'ties', 'defeats', 'yellowCards', 'yellowReds', 'redCards'), ('weight', 'games', 'victories', 'ties', 'goals', 'yellowCards', 'yellowReds', 'redCards'), ('weight', 'games', 'victories', 'defeats', 'goals', 'yellowCards', 'yellowReds', 'redCards'), ('weight', 'games', 'ties', 'defeats', 'goals', 'yellowCards', 'yellowReds', 'redCards'), ('weight', 'victories', 'ties', 'defeats', 'goals', 'yellowCards', 'yellowReds', 'redCards'), ('games', 'victories', 'ties', 'defeats', 'goals', 'yellowCards', 'yellowReds', 'redCards'), ('height', 'weight', 'games', 'victories', 'ties', 'defeats', 'goals', 'yellowCards', 'yellowReds'), ('height', 'weight', 'games', 'victories', 'ties', 'defeats', 'goals', 'yellowCards', 'redCards'), ('height', 'weight', 'games', 'victories', 'ties', 'defeats', 'goals', 'yellowReds', 'redCards'), ('height', 'weight', 'games', 'victories', 'ties', 'defeats', 'yellowCards', 'yellowReds', 'redCards'), ('height', 'weight', 'games', 'victories', 'ties', 'goals', 'yellowCards', 'yellowReds', 'redCards'), ('height', 'weight', 'games', 'victories', 'defeats', 'goals', 'yellowCards', 'yellowReds', 'redCards'), ('height', 'weight', 'games', 'ties', 'defeats', 'goals', 'yellowCards', 'yellowReds', 'redCards'), ('height', 'weight', 'victories', 'ties', 'defeats', 'goals', 'yellowCards', 'yellowReds', 'redCards'), ('height', 'games', 'victories', 'ties', 'defeats', 'goals', 'yellowCards', 'yellowReds', 'redCards'), ('weight', 'games', 'victories', 'ties', 'defeats', 'goals', 'yellowCards', 'yellowReds', 'redCards'), ('height', 'weight', 'games', 'victories', 'ties', 'defeats', 'goals', 'yellowCards', 'yellowReds', 'redCards')]\n"
     ]
    }
   ],
   "source": [
    "import itertools\n",
    "\n",
    "feature_columns = ['height', 'weight', 'games', 'victories', 'ties', 'defeats', 'goals', 'yellowCards', 'yellowReds', 'redCards']\n",
    "\n",
    "def generate_combinations(features):\n",
    "    all_combinations = []\n",
    "    for r in range(1, len(features) + 1):\n",
    "        # Generate combinations of size r\n",
    "        combinations = itertools.combinations(features, r)\n",
    "        all_combinations.extend(combinations)\n",
    "    return all_combinations\n",
    "\n",
    "print(generate_combinations(feature_columns))"
   ],
   "metadata": {
    "collapsed": false,
    "ExecuteTime": {
     "end_time": "2023-12-05T14:43:29.229569049Z",
     "start_time": "2023-12-05T14:43:29.222148971Z"
    }
   },
   "id": "e7c963c882377409"
  },
  {
   "cell_type": "markdown",
   "source": [
    "# Task 1 - Player numbers per position\n",
    "For each 'position', calculate how many players we have."
   ],
   "metadata": {
    "collapsed": false
   },
   "id": "f70fc1a339af5b65"
  },
  {
   "cell_type": "code",
   "execution_count": 16,
   "outputs": [
    {
     "data": {
      "text/plain": "position\nAttacking Midfielder    11817\nCenter Back             22466\nCenter Forward          18687\nCenter Midfielder        6113\nDefensive Midfielder    15753\nGoalkeeper              12321\nLeft Fullback            9874\nLeft Midfielder          6569\nLeft Winger              4814\nRight Fullback           9199\nRight Midfielder         5298\nRight Winger             5391\ndtype: int64"
     },
     "execution_count": 16,
     "metadata": {},
     "output_type": "execute_result"
    }
   ],
   "source": [
    "# count how often each position occurs\n",
    "position_counts = df.groupby('position').size()\n",
    "position_counts"
   ],
   "metadata": {
    "collapsed": false,
    "ExecuteTime": {
     "end_time": "2023-12-05T14:43:29.316880287Z",
     "start_time": "2023-12-05T14:43:29.267123901Z"
    }
   },
   "id": "4ac4da57698db486"
  },
  {
   "cell_type": "markdown",
   "source": [
    "# Task 2 - Different possible teams of 'Attacking Midfielder' and 'Center Back'\n",
    "How many pairs of 'Attacking Midfielder' and 'Center Back' players can you form? There is always exactly one from each position in a pair."
   ],
   "metadata": {
    "collapsed": false
   },
   "id": "5a35b73b95d06da9"
  },
  {
   "cell_type": "code",
   "execution_count": 17,
   "outputs": [
    {
     "data": {
      "text/plain": "265480722"
     },
     "execution_count": 17,
     "metadata": {},
     "output_type": "execute_result"
    }
   ],
   "source": [
    "# multiply up the number of players in each position\n",
    "# we do this on a column level again\n",
    "# with integers you would just use *, nothing changes despite using columns, we can just do this\n",
    "total_combinations = position_counts['Attacking Midfielder'] * position_counts['Center Back']\n",
    "total_combinations"
   ],
   "metadata": {
    "collapsed": false,
    "ExecuteTime": {
     "end_time": "2023-12-05T14:43:29.317299132Z",
     "start_time": "2023-12-05T14:43:29.267404379Z"
    }
   },
   "id": "ce4f24ae048ff323"
  },
  {
   "cell_type": "markdown",
   "source": [
    "# Task 3 - Photoshoot\n",
    "You want to take photos of 100 of the players. How many different ways can you arrange the players in a line for the photoshoot?"
   ],
   "metadata": {
    "collapsed": false
   },
   "id": "f824b0deb382aa8d"
  },
  {
   "cell_type": "code",
   "execution_count": 18,
   "outputs": [
    {
     "data": {
      "text/plain": "93326215443944152681699238856266700490715968264381621468592963895217599993229915608941463976156518286253697920827223758251185210916864000000000000000000000000"
     },
     "execution_count": 18,
     "metadata": {},
     "output_type": "execute_result"
    }
   ],
   "source": [
    "arangements = factorial(100)\n",
    "arangements"
   ],
   "metadata": {
    "collapsed": false,
    "ExecuteTime": {
     "end_time": "2023-12-05T14:43:29.317471672Z",
     "start_time": "2023-12-05T14:43:29.267574925Z"
    }
   },
   "id": "1c3ef0316bd7edd3"
  },
  {
   "cell_type": "markdown",
   "source": [
    "# Task 4 - Photoshoot - Redux\n",
    "You noticed that your original plan doesn't work. There are too many players to fit in one photo.\n",
    "\n",
    "Instead of taking a single photo with all players, you decide to create unique photo compositions by arranging groups of 5 players at a time. Each arrangement in the photo should be unique, with the order of the players being significant. \n",
    "\n",
    "Your task is to calculate the number of different ways you can arrange 5 players in each group, considering the order of players. How many different ways can you arrange the players in groups of 5 for the photoshoot?"
   ],
   "metadata": {
    "collapsed": false
   },
   "id": "7b08e6131c3867ae"
  },
  {
   "cell_type": "code",
   "execution_count": 19,
   "outputs": [
    {
     "data": {
      "text/plain": "5.533115028624767e+23"
     },
     "execution_count": 19,
     "metadata": {},
     "output_type": "execute_result"
    }
   ],
   "source": [
    "from math import factorial\n",
    "\n",
    "# order doesn't matter\n",
    "arrangements = factorial(len(df)) / (factorial(5) * factorial(len(df) - 5))\n",
    "arrangements"
   ],
   "metadata": {
    "collapsed": false,
    "ExecuteTime": {
     "end_time": "2023-12-05T14:43:29.576366372Z",
     "start_time": "2023-12-05T14:43:29.573730915Z"
    }
   },
   "id": "12bc5b0746028669"
  },
  {
   "cell_type": "code",
   "execution_count": 20,
   "outputs": [
    {
     "data": {
      "text/plain": "6.63973803434972e+25"
     },
     "execution_count": 20,
     "metadata": {},
     "output_type": "execute_result"
    }
   ],
   "source": [
    "# order matters\n",
    "arrangements = factorial(len(df)) / factorial(len(df) - 5)\n",
    "arrangements"
   ],
   "metadata": {
    "collapsed": false,
    "ExecuteTime": {
     "end_time": "2023-12-05T14:43:29.956248967Z",
     "start_time": "2023-12-05T14:43:29.907901518Z"
    }
   },
   "id": "fefdb1f4c086c0d5"
  },
  {
   "cell_type": "markdown",
   "source": [
    "# Task 5 - Building a team\n",
    "Build a team of 11 players, with the following constraints:\n",
    "- 1 goalkeeper\n",
    "- 4 defenders\n",
    "- 4 midfielders\n",
    "- 2 forwards\n",
    "\n",
    "Calculate how many different teams you can build. The players for each position should come from the players who actually play in that position. For example, the goalkeeper should be a player who plays as a goalkeeper.\n",
    "Do this by hand (disclaimer: please don't actually do this) or with code."
   ],
   "metadata": {
    "collapsed": false
   },
   "id": "85db823df135f10d"
  },
  {
   "cell_type": "code",
   "execution_count": 21,
   "outputs": [],
   "source": [
    "position_mapping = {\n",
    "    'Goalkeeper': 'Goalkeepers',\n",
    "    'Center Back': 'Defenders',\n",
    "    'Left Fullback': 'Defenders',\n",
    "    'Right Fullback': 'Defenders',\n",
    "    'Attacking Midfielder': 'Midfielders',\n",
    "    'Center Midfielder': 'Midfielders',\n",
    "    'Defensive Midfielder': 'Midfielders',\n",
    "    'Left Midfielder': 'Midfielders',\n",
    "    'Right Midfielder': 'Midfielders',\n",
    "    'Left Winger': 'Forwards',\n",
    "    'Right Winger': 'Forwards',\n",
    "    'Center Forward': 'Forwards'\n",
    "}\n",
    "\n",
    "# rename the position in the dataframe to the broader position category\n",
    "df['position'] = df['position'].map(position_mapping)"
   ],
   "metadata": {
    "collapsed": false,
    "ExecuteTime": {
     "end_time": "2023-12-05T14:43:29.956629541Z",
     "start_time": "2023-12-05T14:43:29.909483003Z"
    }
   },
   "id": "13e3b551c8441d6b"
  },
  {
   "cell_type": "code",
   "execution_count": 22,
   "outputs": [
    {
     "data": {
      "text/plain": "     playerShort         player             club leagueCountry    birthday  \\\n0  lucas-wilchez  Lucas Wilchez    Real Zaragoza         Spain  31.08.1983   \n1     john-utaka     John Utaka  Montpellier HSC        France  08.01.1982   \n2    abdon-prats    Abdón Prats     RCD Mallorca         Spain  17.12.1992   \n3     pablo-mari     Pablo Marí     RCD Mallorca         Spain  31.08.1993   \n4     ruben-pena     Rubén Peña  Real Valladolid         Spain  18.07.1991   \n\n   height  weight     position  games  victories  ...  rater2  refNum  \\\n0   177.0    72.0  Midfielders      1          0  ...    0.50       1   \n1   179.0    82.0     Forwards      1          0  ...    0.75       2   \n2   181.0    79.0          NaN      1          0  ...     NaN       3   \n3   191.0    87.0    Defenders      1          1  ...     NaN       3   \n4   172.0    70.0  Midfielders      1          1  ...     NaN       3   \n\n   refCountry  Alpha_3   meanIAT    nIAT     seIAT   meanExp    nExp     seExp  \n0           1      GRC  0.326391   712.0  0.000564  0.396000   750.0  0.002696  \n1           2      ZMB  0.203375    40.0  0.010875 -0.204082    49.0  0.061504  \n2           3      ESP  0.369894  1785.0  0.000229  0.588297  1897.0  0.001002  \n3           3      ESP  0.369894  1785.0  0.000229  0.588297  1897.0  0.001002  \n4           3      ESP  0.369894  1785.0  0.000229  0.588297  1897.0  0.001002  \n\n[5 rows x 28 columns]",
      "text/html": "<div>\n<style scoped>\n    .dataframe tbody tr th:only-of-type {\n        vertical-align: middle;\n    }\n\n    .dataframe tbody tr th {\n        vertical-align: top;\n    }\n\n    .dataframe thead th {\n        text-align: right;\n    }\n</style>\n<table border=\"1\" class=\"dataframe\">\n  <thead>\n    <tr style=\"text-align: right;\">\n      <th></th>\n      <th>playerShort</th>\n      <th>player</th>\n      <th>club</th>\n      <th>leagueCountry</th>\n      <th>birthday</th>\n      <th>height</th>\n      <th>weight</th>\n      <th>position</th>\n      <th>games</th>\n      <th>victories</th>\n      <th>...</th>\n      <th>rater2</th>\n      <th>refNum</th>\n      <th>refCountry</th>\n      <th>Alpha_3</th>\n      <th>meanIAT</th>\n      <th>nIAT</th>\n      <th>seIAT</th>\n      <th>meanExp</th>\n      <th>nExp</th>\n      <th>seExp</th>\n    </tr>\n  </thead>\n  <tbody>\n    <tr>\n      <th>0</th>\n      <td>lucas-wilchez</td>\n      <td>Lucas Wilchez</td>\n      <td>Real Zaragoza</td>\n      <td>Spain</td>\n      <td>31.08.1983</td>\n      <td>177.0</td>\n      <td>72.0</td>\n      <td>Midfielders</td>\n      <td>1</td>\n      <td>0</td>\n      <td>...</td>\n      <td>0.50</td>\n      <td>1</td>\n      <td>1</td>\n      <td>GRC</td>\n      <td>0.326391</td>\n      <td>712.0</td>\n      <td>0.000564</td>\n      <td>0.396000</td>\n      <td>750.0</td>\n      <td>0.002696</td>\n    </tr>\n    <tr>\n      <th>1</th>\n      <td>john-utaka</td>\n      <td>John Utaka</td>\n      <td>Montpellier HSC</td>\n      <td>France</td>\n      <td>08.01.1982</td>\n      <td>179.0</td>\n      <td>82.0</td>\n      <td>Forwards</td>\n      <td>1</td>\n      <td>0</td>\n      <td>...</td>\n      <td>0.75</td>\n      <td>2</td>\n      <td>2</td>\n      <td>ZMB</td>\n      <td>0.203375</td>\n      <td>40.0</td>\n      <td>0.010875</td>\n      <td>-0.204082</td>\n      <td>49.0</td>\n      <td>0.061504</td>\n    </tr>\n    <tr>\n      <th>2</th>\n      <td>abdon-prats</td>\n      <td>Abdón Prats</td>\n      <td>RCD Mallorca</td>\n      <td>Spain</td>\n      <td>17.12.1992</td>\n      <td>181.0</td>\n      <td>79.0</td>\n      <td>NaN</td>\n      <td>1</td>\n      <td>0</td>\n      <td>...</td>\n      <td>NaN</td>\n      <td>3</td>\n      <td>3</td>\n      <td>ESP</td>\n      <td>0.369894</td>\n      <td>1785.0</td>\n      <td>0.000229</td>\n      <td>0.588297</td>\n      <td>1897.0</td>\n      <td>0.001002</td>\n    </tr>\n    <tr>\n      <th>3</th>\n      <td>pablo-mari</td>\n      <td>Pablo Marí</td>\n      <td>RCD Mallorca</td>\n      <td>Spain</td>\n      <td>31.08.1993</td>\n      <td>191.0</td>\n      <td>87.0</td>\n      <td>Defenders</td>\n      <td>1</td>\n      <td>1</td>\n      <td>...</td>\n      <td>NaN</td>\n      <td>3</td>\n      <td>3</td>\n      <td>ESP</td>\n      <td>0.369894</td>\n      <td>1785.0</td>\n      <td>0.000229</td>\n      <td>0.588297</td>\n      <td>1897.0</td>\n      <td>0.001002</td>\n    </tr>\n    <tr>\n      <th>4</th>\n      <td>ruben-pena</td>\n      <td>Rubén Peña</td>\n      <td>Real Valladolid</td>\n      <td>Spain</td>\n      <td>18.07.1991</td>\n      <td>172.0</td>\n      <td>70.0</td>\n      <td>Midfielders</td>\n      <td>1</td>\n      <td>1</td>\n      <td>...</td>\n      <td>NaN</td>\n      <td>3</td>\n      <td>3</td>\n      <td>ESP</td>\n      <td>0.369894</td>\n      <td>1785.0</td>\n      <td>0.000229</td>\n      <td>0.588297</td>\n      <td>1897.0</td>\n      <td>0.001002</td>\n    </tr>\n  </tbody>\n</table>\n<p>5 rows × 28 columns</p>\n</div>"
     },
     "execution_count": 22,
     "metadata": {},
     "output_type": "execute_result"
    }
   ],
   "source": [
    "df.head()"
   ],
   "metadata": {
    "collapsed": false,
    "ExecuteTime": {
     "end_time": "2023-12-05T14:43:29.957466830Z",
     "start_time": "2023-12-05T14:43:29.940720006Z"
    }
   },
   "id": "5c7d605cacc5b67d"
  },
  {
   "cell_type": "code",
   "execution_count": 23,
   "outputs": [],
   "source": [
    "# count how often each position category occurs\n",
    "broader_position_counts = df.groupby('position').size()"
   ],
   "metadata": {
    "collapsed": false,
    "ExecuteTime": {
     "end_time": "2023-12-05T14:43:29.957663975Z",
     "start_time": "2023-12-05T14:43:29.948549301Z"
    }
   },
   "id": "8064064231a8be7"
  },
  {
   "cell_type": "code",
   "execution_count": 24,
   "outputs": [
    {
     "data": {
      "text/plain": "  Position Category  Number\n0         Defenders   41539\n1          Forwards   28892\n2       Goalkeepers   12321\n3       Midfielders   45550",
      "text/html": "<div>\n<style scoped>\n    .dataframe tbody tr th:only-of-type {\n        vertical-align: middle;\n    }\n\n    .dataframe tbody tr th {\n        vertical-align: top;\n    }\n\n    .dataframe thead th {\n        text-align: right;\n    }\n</style>\n<table border=\"1\" class=\"dataframe\">\n  <thead>\n    <tr style=\"text-align: right;\">\n      <th></th>\n      <th>Position Category</th>\n      <th>Number</th>\n    </tr>\n  </thead>\n  <tbody>\n    <tr>\n      <th>0</th>\n      <td>Defenders</td>\n      <td>41539</td>\n    </tr>\n    <tr>\n      <th>1</th>\n      <td>Forwards</td>\n      <td>28892</td>\n    </tr>\n    <tr>\n      <th>2</th>\n      <td>Goalkeepers</td>\n      <td>12321</td>\n    </tr>\n    <tr>\n      <th>3</th>\n      <td>Midfielders</td>\n      <td>45550</td>\n    </tr>\n  </tbody>\n</table>\n</div>"
     },
     "execution_count": 24,
     "metadata": {},
     "output_type": "execute_result"
    }
   ],
   "source": [
    "broader_position_counts_df = broader_position_counts.reset_index()\n",
    "broader_position_counts_df.columns = ['Position Category', 'Number']\n",
    "\n",
    "broader_position_counts_df"
   ],
   "metadata": {
    "collapsed": false,
    "ExecuteTime": {
     "end_time": "2023-12-05T14:43:30.026654366Z",
     "start_time": "2023-12-05T14:43:29.991022191Z"
    }
   },
   "id": "beb7cbfe01d558c"
  },
  {
   "cell_type": "code",
   "execution_count": 35,
   "outputs": [
    {
     "data": {
      "text/plain": "12321"
     },
     "execution_count": 35,
     "metadata": {},
     "output_type": "execute_result"
    }
   ],
   "source": [
    "from math import comb\n",
    "\n",
    "combinations_goalkeepers = comb(12321, 1)\n",
    "combinations_goalkeepers"
   ],
   "metadata": {
    "collapsed": false,
    "ExecuteTime": {
     "end_time": "2023-12-05T16:09:16.840389785Z",
     "start_time": "2023-12-05T16:09:16.797350737Z"
    }
   },
   "id": "fa2dd801973f46f"
  },
  {
   "cell_type": "code",
   "execution_count": 26,
   "outputs": [
    {
     "data": {
      "text/plain": "114390877761817207419313078513240414033753264800"
     },
     "execution_count": 26,
     "metadata": {},
     "output_type": "execute_result"
    }
   ],
   "source": [
    "from math import comb\n",
    "\n",
    "# this looks horrible, but it's simple\n",
    "# we filter broader_position_counts_df by the position category\n",
    "# then we pick the 'Number' columns, and take the value of it out of it\n",
    "# we do this for all the position categories\n",
    "combinations_goalkeepers = comb(broader_position_counts_df[broader_position_counts_df['Position Category'] == 'Goalkeepers']['Number'].values[0], 1)\n",
    "\n",
    "combinations_defenders = comb(broader_position_counts_df[broader_position_counts_df['Position Category'] == 'Defenders']['Number'].values[0], 4)\n",
    "\n",
    "combinations_midfielders = comb(broader_position_counts_df[broader_position_counts_df['Position Category'] == 'Midfielders']['Number'].values[0], 4)\n",
    "\n",
    "combinations_forwards = comb(broader_position_counts_df[broader_position_counts_df['Position Category'] == 'Forwards']['Number'].values[0], 2)\n",
    "\n",
    "total_combinations = combinations_goalkeepers * combinations_defenders * combinations_midfielders * combinations_forwards\n",
    "total_combinations"
   ],
   "metadata": {
    "collapsed": false,
    "ExecuteTime": {
     "end_time": "2023-12-05T14:43:30.027377845Z",
     "start_time": "2023-12-05T14:43:29.991264339Z"
    }
   },
   "id": "1bfe83ef0e8c48b3"
  },
  {
   "cell_type": "markdown",
   "source": [
    "# Task 6 - Dream Team - Redux\n",
    "You noticed that some players can be assigned to multiple positions. For example, a player can be both a 'Center Back' and a 'Defensive Midfielder'. So what you do instead is select 11 players, without any constraints on their original position. Afterwards you will assign each player to a position, using the same constraints as in Task 5. Except now this team you can put any player in any position. That means a 'Goalkeeper' player for example can be in a 'Defender' position.\n",
    "You can also have multiple players in the same position. For example, you can have 2 'Goalkeeper' players in your team (players who are actually goalkeepers) as long as you respect the constraints on the number of players per position.\n",
    "\n",
    "How many different teams can you build?\n",
    "\n",
    "Before you calculate it: do you think the number of possible teams is higher or lower than in Task 5? Why?"
   ],
   "metadata": {
    "collapsed": false
   },
   "id": "29225c866bc56e8b"
  },
  {
   "cell_type": "code",
   "execution_count": 34,
   "outputs": [
    {
     "data": {
      "text/plain": "34650.0"
     },
     "execution_count": 34,
     "metadata": {},
     "output_type": "execute_result"
    }
   ],
   "source": [
    "num_combinations = factorial(11) / (factorial(1) * factorial(4) * factorial(4) * factorial(2))\n",
    "num_combinations"
   ],
   "metadata": {
    "collapsed": false,
    "ExecuteTime": {
     "end_time": "2023-12-05T14:51:39.456948631Z",
     "start_time": "2023-12-05T14:51:39.393712532Z"
    }
   },
   "id": "7ba82f7414ce66f"
  },
  {
   "cell_type": "code",
   "execution_count": 27,
   "outputs": [
    {
     "data": {
      "text/plain": "5.587035783908066e+53"
     },
     "execution_count": 27,
     "metadata": {},
     "output_type": "execute_result"
    }
   ],
   "source": [
    "num_combinations = factorial(11) / (factorial(1) * factorial(4) * factorial(4) * factorial(2))\n",
    "\n",
    "possible_selections = comb(len(df), 11)\n",
    "\n",
    "possible_selections * num_combinations"
   ],
   "metadata": {
    "collapsed": false,
    "ExecuteTime": {
     "end_time": "2023-12-05T14:43:30.027591269Z",
     "start_time": "2023-12-05T14:43:29.991315434Z"
    }
   },
   "id": "c468d93cc220e9be"
  },
  {
   "cell_type": "markdown",
   "source": [
    "# Task 7 - Same league\n",
    "If you randomly construct a team of players while respecting their original position (like we did in Task 5), what is the probability that all players are in the England league?"
   ],
   "metadata": {
    "collapsed": false
   },
   "id": "6e2f3962ab971754"
  },
  {
   "cell_type": "code",
   "execution_count": 28,
   "outputs": [
    {
     "data": {
      "text/plain": "position     leagueCountry\nDefenders    England          12395\n             France            7146\n             Germany          12511\n             Spain             9487\nForwards     England           8904\n             France            4930\n             Germany           8530\n             Spain             6528\nGoalkeepers  England           4063\n             France            1760\n             Germany           3927\n             Spain             2571\nMidfielders  England          11999\n             France            7972\n             Germany          13815\n             Spain            11764\ndtype: int64"
     },
     "execution_count": 28,
     "metadata": {},
     "output_type": "execute_result"
    }
   ],
   "source": [
    "league_country_counts = df.groupby(['position', 'leagueCountry']).size()\n",
    "league_country_counts"
   ],
   "metadata": {
    "collapsed": false,
    "ExecuteTime": {
     "end_time": "2023-12-05T14:43:30.028016286Z",
     "start_time": "2023-12-05T14:43:29.991362491Z"
    }
   },
   "id": "65715af23bde0d08"
  },
  {
   "cell_type": "code",
   "execution_count": 29,
   "outputs": [],
   "source": [
    "league_country_counts = df.groupby(['position', 'leagueCountry']).size()\n",
    "comb_gk_england = comb(league_country_counts[('Goalkeepers', 'England')], 1)\n",
    "comb_def_england = comb(league_country_counts[('Defenders', 'England')], 4)\n",
    "comb_mid_england = comb(league_country_counts[('Midfielders', 'England')], 4)\n",
    "comb_fwd_england = comb(league_country_counts[('Forwards', 'England')], 2)\n",
    "\n",
    "total_combinations_england = comb_gk_england * comb_def_england * comb_mid_england * comb_fwd_england\n",
    "probability_same_league = total_combinations_england / total_combinations\n"
   ],
   "metadata": {
    "collapsed": false,
    "ExecuteTime": {
     "end_time": "2023-12-05T14:43:30.076640366Z",
     "start_time": "2023-12-05T14:43:30.035271400Z"
    }
   },
   "id": "16f257c4c47cf712"
  },
  {
   "cell_type": "code",
   "execution_count": 30,
   "outputs": [
    {
     "data": {
      "text/plain": "1.1947124230859298e-06"
     },
     "execution_count": 30,
     "metadata": {},
     "output_type": "execute_result"
    }
   ],
   "source": [
    "probability_same_league"
   ],
   "metadata": {
    "collapsed": false,
    "ExecuteTime": {
     "end_time": "2023-12-05T14:43:30.077220530Z",
     "start_time": "2023-12-05T14:43:30.035758872Z"
    }
   },
   "id": "a634b92a60ccf1e6"
  }
 ],
 "metadata": {
  "kernelspec": {
   "display_name": "Python 3",
   "language": "python",
   "name": "python3"
  },
  "language_info": {
   "codemirror_mode": {
    "name": "ipython",
    "version": 2
   },
   "file_extension": ".py",
   "mimetype": "text/x-python",
   "name": "python",
   "nbconvert_exporter": "python",
   "pygments_lexer": "ipython2",
   "version": "2.7.6"
  }
 },
 "nbformat": 4,
 "nbformat_minor": 5
}
