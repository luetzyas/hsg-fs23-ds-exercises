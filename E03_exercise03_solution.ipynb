{
 "cells": [
  {
   "cell_type": "code",
   "execution_count": 1,
   "id": "initial_id",
   "metadata": {
    "collapsed": true,
    "id": "initial_id",
    "ExecuteTime": {
     "end_time": "2023-10-19T11:37:51.798373828Z",
     "start_time": "2023-10-19T11:37:51.283330464Z"
    }
   },
   "outputs": [],
   "source": [
    "import numpy as np\n",
    "import pandas as pd\n",
    "import matplotlib.pyplot as plt\n",
    "\n",
    "import requests  # used later to download additional data\n",
    "import sqlite3"
   ]
  },
  {
   "cell_type": "markdown",
   "source": [
    "- [`pandas` Cheat Sheet](https://pandas.pydata.org/Pandas_Cheat_Sheet.pdf)\n",
    "- [`matplotlib` Cheat Sheet](https://matplotlib.org/cheatsheets/_images/cheatsheets-1.png)\n",
    "- [SQL Cheat Sheet](https://www.sqltutorial.org/sql-cheat-sheet/)"
   ],
   "metadata": {
    "collapsed": false,
    "id": "dea9712c782bc7bf"
   },
   "id": "dea9712c782bc7bf"
  },
  {
   "cell_type": "markdown",
   "source": [
    "# Loading the data"
   ],
   "metadata": {
    "collapsed": false,
    "id": "10a6c00f800cbd46"
   },
   "id": "10a6c00f800cbd46"
  },
  {
   "cell_type": "code",
   "execution_count": 2,
   "outputs": [
    {
     "data": {
      "text/plain": "     playerShort         player             club leagueCountry    birthday  \\\n0  lucas-wilchez  Lucas Wilchez    Real Zaragoza         Spain  31.08.1983   \n1     john-utaka     John Utaka  Montpellier HSC        France  08.01.1982   \n2    abdon-prats    Abdón Prats     RCD Mallorca         Spain  17.12.1992   \n3     pablo-mari     Pablo Marí     RCD Mallorca         Spain  31.08.1993   \n4     ruben-pena     Rubén Peña  Real Valladolid         Spain  18.07.1991   \n\n   height  weight              position  games  victories  ...  rater2  \\\n0   177.0    72.0  Attacking Midfielder      1          0  ...    0.50   \n1   179.0    82.0          Right Winger      1          0  ...    0.75   \n2   181.0    79.0                   NaN      1          0  ...     NaN   \n3   191.0    87.0           Center Back      1          1  ...     NaN   \n4   172.0    70.0      Right Midfielder      1          1  ...     NaN   \n\n   refNum  refCountry  Alpha_3   meanIAT    nIAT     seIAT   meanExp    nExp  \\\n0       1           1      GRC  0.326391   712.0  0.000564  0.396000   750.0   \n1       2           2      ZMB  0.203375    40.0  0.010875 -0.204082    49.0   \n2       3           3      ESP  0.369894  1785.0  0.000229  0.588297  1897.0   \n3       3           3      ESP  0.369894  1785.0  0.000229  0.588297  1897.0   \n4       3           3      ESP  0.369894  1785.0  0.000229  0.588297  1897.0   \n\n      seExp  \n0  0.002696  \n1  0.061504  \n2  0.001002  \n3  0.001002  \n4  0.001002  \n\n[5 rows x 28 columns]",
      "text/html": "<div>\n<style scoped>\n    .dataframe tbody tr th:only-of-type {\n        vertical-align: middle;\n    }\n\n    .dataframe tbody tr th {\n        vertical-align: top;\n    }\n\n    .dataframe thead th {\n        text-align: right;\n    }\n</style>\n<table border=\"1\" class=\"dataframe\">\n  <thead>\n    <tr style=\"text-align: right;\">\n      <th></th>\n      <th>playerShort</th>\n      <th>player</th>\n      <th>club</th>\n      <th>leagueCountry</th>\n      <th>birthday</th>\n      <th>height</th>\n      <th>weight</th>\n      <th>position</th>\n      <th>games</th>\n      <th>victories</th>\n      <th>...</th>\n      <th>rater2</th>\n      <th>refNum</th>\n      <th>refCountry</th>\n      <th>Alpha_3</th>\n      <th>meanIAT</th>\n      <th>nIAT</th>\n      <th>seIAT</th>\n      <th>meanExp</th>\n      <th>nExp</th>\n      <th>seExp</th>\n    </tr>\n  </thead>\n  <tbody>\n    <tr>\n      <th>0</th>\n      <td>lucas-wilchez</td>\n      <td>Lucas Wilchez</td>\n      <td>Real Zaragoza</td>\n      <td>Spain</td>\n      <td>31.08.1983</td>\n      <td>177.0</td>\n      <td>72.0</td>\n      <td>Attacking Midfielder</td>\n      <td>1</td>\n      <td>0</td>\n      <td>...</td>\n      <td>0.50</td>\n      <td>1</td>\n      <td>1</td>\n      <td>GRC</td>\n      <td>0.326391</td>\n      <td>712.0</td>\n      <td>0.000564</td>\n      <td>0.396000</td>\n      <td>750.0</td>\n      <td>0.002696</td>\n    </tr>\n    <tr>\n      <th>1</th>\n      <td>john-utaka</td>\n      <td>John Utaka</td>\n      <td>Montpellier HSC</td>\n      <td>France</td>\n      <td>08.01.1982</td>\n      <td>179.0</td>\n      <td>82.0</td>\n      <td>Right Winger</td>\n      <td>1</td>\n      <td>0</td>\n      <td>...</td>\n      <td>0.75</td>\n      <td>2</td>\n      <td>2</td>\n      <td>ZMB</td>\n      <td>0.203375</td>\n      <td>40.0</td>\n      <td>0.010875</td>\n      <td>-0.204082</td>\n      <td>49.0</td>\n      <td>0.061504</td>\n    </tr>\n    <tr>\n      <th>2</th>\n      <td>abdon-prats</td>\n      <td>Abdón Prats</td>\n      <td>RCD Mallorca</td>\n      <td>Spain</td>\n      <td>17.12.1992</td>\n      <td>181.0</td>\n      <td>79.0</td>\n      <td>NaN</td>\n      <td>1</td>\n      <td>0</td>\n      <td>...</td>\n      <td>NaN</td>\n      <td>3</td>\n      <td>3</td>\n      <td>ESP</td>\n      <td>0.369894</td>\n      <td>1785.0</td>\n      <td>0.000229</td>\n      <td>0.588297</td>\n      <td>1897.0</td>\n      <td>0.001002</td>\n    </tr>\n    <tr>\n      <th>3</th>\n      <td>pablo-mari</td>\n      <td>Pablo Marí</td>\n      <td>RCD Mallorca</td>\n      <td>Spain</td>\n      <td>31.08.1993</td>\n      <td>191.0</td>\n      <td>87.0</td>\n      <td>Center Back</td>\n      <td>1</td>\n      <td>1</td>\n      <td>...</td>\n      <td>NaN</td>\n      <td>3</td>\n      <td>3</td>\n      <td>ESP</td>\n      <td>0.369894</td>\n      <td>1785.0</td>\n      <td>0.000229</td>\n      <td>0.588297</td>\n      <td>1897.0</td>\n      <td>0.001002</td>\n    </tr>\n    <tr>\n      <th>4</th>\n      <td>ruben-pena</td>\n      <td>Rubén Peña</td>\n      <td>Real Valladolid</td>\n      <td>Spain</td>\n      <td>18.07.1991</td>\n      <td>172.0</td>\n      <td>70.0</td>\n      <td>Right Midfielder</td>\n      <td>1</td>\n      <td>1</td>\n      <td>...</td>\n      <td>NaN</td>\n      <td>3</td>\n      <td>3</td>\n      <td>ESP</td>\n      <td>0.369894</td>\n      <td>1785.0</td>\n      <td>0.000229</td>\n      <td>0.588297</td>\n      <td>1897.0</td>\n      <td>0.001002</td>\n    </tr>\n  </tbody>\n</table>\n<p>5 rows × 28 columns</p>\n</div>"
     },
     "execution_count": 2,
     "metadata": {},
     "output_type": "execute_result"
    }
   ],
   "source": [
    "df = pd.read_csv('https://drive.switch.ch/index.php/s/UEpTFv2Bfa5C1dd/download')\n",
    "df.head()"
   ],
   "metadata": {
    "id": "dbbb55920a066c05",
    "outputId": "1cc39afc-09d7-4b92-83af-8a030b059b89",
    "colab": {
     "base_uri": "https://localhost:8080/",
     "height": 236
    },
    "ExecuteTime": {
     "end_time": "2023-10-19T11:37:53.682449516Z",
     "start_time": "2023-10-19T11:37:51.847984288Z"
    }
   },
   "id": "dbbb55920a066c05"
  },
  {
   "cell_type": "markdown",
   "source": [
    "We repeat our simple data cleaning here, by getting rid of all `NaN` values."
   ],
   "metadata": {
    "collapsed": false,
    "id": "942744c46eafe2b7"
   },
   "id": "942744c46eafe2b7"
  },
  {
   "cell_type": "code",
   "execution_count": 3,
   "outputs": [],
   "source": [
    "df = df.dropna()"
   ],
   "metadata": {
    "id": "7d1d63bf868c148c",
    "ExecuteTime": {
     "end_time": "2023-10-19T11:37:53.743443092Z",
     "start_time": "2023-10-19T11:37:53.674763783Z"
    }
   },
   "id": "7d1d63bf868c148c"
  },
  {
   "cell_type": "markdown",
   "source": [
    "# Task 1.1 - Scatter Plot\n",
    "Create a Scatter Plot of player weight vs. height.\n",
    "\n",
    "*Hint*: Check the [`pandas` cheat sheet](https://pandas.pydata.org/Pandas_Cheat_Sheet.pdf) for plotting with `pandas`.\n",
    "\n",
    "Based on the plot alone, do you think there is a correlation between the two? How can you tell from the plot?\n",
    "\n",
    "**Bonus**: Do the same with `matplotlib`. You can find the cheat sheet for it [here](https://matplotlib.org/cheatsheets/_images/cheatsheets-1.png)."
   ],
   "metadata": {
    "collapsed": false,
    "id": "cb77b637dd5b7712"
   },
   "id": "cb77b637dd5b7712"
  },
  {
   "cell_type": "code",
   "execution_count": 4,
   "outputs": [
    {
     "data": {
      "text/plain": "<Axes: xlabel='weight', ylabel='height'>"
     },
     "execution_count": 4,
     "metadata": {},
     "output_type": "execute_result"
    },
    {
     "data": {
      "text/plain": "<Figure size 640x480 with 1 Axes>",
      "image/png": "[encoded data removed]"
     },
     "metadata": {},
     "output_type": "display_data"
    }
   ],
   "source": [
    "df.plot.scatter(x='weight', y='height')\n",
    "# plt.show()"
   ],
   "metadata": {
    "id": "6008b7fcf30a63b7",
    "outputId": "6fee205c-4c3f-4708-c34d-c83e6e9200e1",
    "colab": {
     "base_uri": "https://localhost:8080/",
     "height": 449
    },
    "ExecuteTime": {
     "end_time": "2023-10-19T11:37:54.017184854Z",
     "start_time": "2023-10-19T11:37:53.709213123Z"
    }
   },
   "id": "6008b7fcf30a63b7"
  },
  {
   "cell_type": "code",
   "execution_count": 5,
   "outputs": [
    {
     "data": {
      "text/plain": "0         177.0\n1         179.0\n5         182.0\n6         187.0\n7         180.0\n          ...  \n146022    188.0\n146023    178.0\n146024    190.0\n146025    169.0\n146027    174.0\nName: height, Length: 115457, dtype: float64"
     },
     "execution_count": 5,
     "metadata": {},
     "output_type": "execute_result"
    }
   ],
   "source": [
    "# selecting a column\n",
    "df[\"height\"]"
   ],
   "metadata": {
    "collapsed": false,
    "ExecuteTime": {
     "end_time": "2023-10-19T11:37:54.024211608Z",
     "start_time": "2023-10-19T11:37:54.018452672Z"
    }
   },
   "id": "c73ab923f1a8eaa9"
  },
  {
   "cell_type": "code",
   "execution_count": 6,
   "outputs": [
    {
     "data": {
      "text/plain": "<Figure size 640x480 with 1 Axes>",
      "image/png": "[encoded data removed]"
     },
     "metadata": {},
     "output_type": "display_data"
    }
   ],
   "source": [
    "# now with matplotlib\n",
    "plt.scatter(df['weight'], df['height'], s=18)\n",
    "plt.show()"
   ],
   "metadata": {
    "id": "584b8b2f54c4dc64",
    "outputId": "05377ac5-fc66-4b13-952c-ce41917ce8ef",
    "colab": {
     "base_uri": "https://localhost:8080/",
     "height": 430
    },
    "ExecuteTime": {
     "end_time": "2023-10-19T11:37:54.220882853Z",
     "start_time": "2023-10-19T11:37:54.026085820Z"
    }
   },
   "id": "584b8b2f54c4dc64"
  },
  {
   "cell_type": "markdown",
   "source": [
    "# Task 1.2 - Data Manipulation\n",
    "Create a new column, called Name Length, that contains the length of the player's name.\n",
    "\n",
    "*Hint*: Split this into two steps:\n",
    "\n",
    "* creating a new column (check the `pandas` cheat sheet or last week's notebook if you don't remember how to do this)\n",
    "* calculating the length of the player's name **for each row**\n",
    "    \n",
    "*Hint2*: If you have trouble with calculating the length of the player's name, have a look at the *Summarize Data* section in the cheat sheet."
   ],
   "metadata": {
    "collapsed": false,
    "id": "be48d5ea5072e06f"
   },
   "id": "be48d5ea5072e06f"
  },
  {
   "cell_type": "code",
   "execution_count": 7,
   "outputs": [
    {
     "data": {
      "text/plain": "               playerShort              player               club  \\\n0            lucas-wilchez       Lucas Wilchez      Real Zaragoza   \n1               john-utaka          John Utaka    Montpellier HSC   \n5             aaron-hughes        Aaron Hughes          Fulham FC   \n6       aleksandar-kolarov  Aleksandar Kolarov    Manchester City   \n7         alexander-tettey    Alexander Tettey       Norwich City   \n...                    ...                 ...                ...   \n146022     tom-huddlestone     Tom Huddlestone  Tottenham Hotspur   \n146023       tomas-rosicky       Tomáš Rosický         Arsenal FC   \n146024        winston-reid        Winston Reid    West Ham United   \n146025     xherdan-shaqiri     Xherdan Shaqiri     Bayern München   \n146027        zdenk-pospch      Zdeněk Pospěch    1. FSV Mainz 05   \n\n       leagueCountry    birthday  height  weight              position  games  \\\n0              Spain  31.08.1983   177.0    72.0  Attacking Midfielder      1   \n1             France  08.01.1982   179.0    82.0          Right Winger      1   \n5            England  08.11.1979   182.0    71.0           Center Back      1   \n6            England  10.11.1985   187.0    80.0         Left Fullback      1   \n7            England  04.04.1986   180.0    68.0  Defensive Midfielder      1   \n...              ...         ...     ...     ...                   ...    ...   \n146022       England  28.12.1986   188.0    80.0  Defensive Midfielder      1   \n146023       England  04.10.1980   178.0    67.0  Attacking Midfielder      1   \n146024       England  03.07.1988   190.0    87.0           Center Back      1   \n146025       Germany  10.10.1991   169.0    72.0       Left Midfielder      1   \n146027       Germany  14.12.1978   174.0    72.0        Right Fullback      1   \n\n        victories  ...  rater2  refNum  refCountry  Alpha_3   meanIAT   nIAT  \\\n0               0  ...    0.50       1           1      GRC  0.326391  712.0   \n1               0  ...    0.75       2           2      ZMB  0.203375   40.0   \n5               0  ...    0.00       4           4      LUX  0.325185  127.0   \n6               1  ...    0.25       4           4      LUX  0.325185  127.0   \n7               0  ...    1.00       4           4      LUX  0.325185  127.0   \n...           ...  ...     ...     ...         ...      ...       ...    ...   \n146022          0  ...    0.50    3147          21      HUN  0.376127  574.0   \n146023          1  ...    0.00    3147          21      HUN  0.376127  574.0   \n146024          0  ...    0.50    3147          21      HUN  0.376127  574.0   \n146025          1  ...    0.25    3147          21      HUN  0.376127  574.0   \n146027          0  ...    0.25    3147          21      HUN  0.376127  574.0   \n\n           seIAT   meanExp   nExp     seExp  \n0       0.000564  0.396000  750.0  0.002696  \n1       0.010875 -0.204082   49.0  0.061504  \n5       0.003297  0.538462  130.0  0.013752  \n6       0.003297  0.538462  130.0  0.013752  \n7       0.003297  0.538462  130.0  0.013752  \n...          ...       ...    ...       ...  \n146022  0.000714  0.498350  606.0  0.002968  \n146023  0.000714  0.498350  606.0  0.002968  \n146024  0.000714  0.498350  606.0  0.002968  \n146025  0.000714  0.498350  606.0  0.002968  \n146027  0.000714  0.498350  606.0  0.002968  \n\n[115457 rows x 28 columns]",
      "text/html": "<div>\n<style scoped>\n    .dataframe tbody tr th:only-of-type {\n        vertical-align: middle;\n    }\n\n    .dataframe tbody tr th {\n        vertical-align: top;\n    }\n\n    .dataframe thead th {\n        text-align: right;\n    }\n</style>\n<table border=\"1\" class=\"dataframe\">\n  <thead>\n    <tr style=\"text-align: right;\">\n      <th></th>\n      <th>playerShort</th>\n      <th>player</th>\n      <th>club</th>\n      <th>leagueCountry</th>\n      <th>birthday</th>\n      <th>height</th>\n      <th>weight</th>\n      <th>position</th>\n      <th>games</th>\n      <th>victories</th>\n      <th>...</th>\n      <th>rater2</th>\n      <th>refNum</th>\n      <th>refCountry</th>\n      <th>Alpha_3</th>\n      <th>meanIAT</th>\n      <th>nIAT</th>\n      <th>seIAT</th>\n      <th>meanExp</th>\n      <th>nExp</th>\n      <th>seExp</th>\n    </tr>\n  </thead>\n  <tbody>\n    <tr>\n      <th>0</th>\n      <td>lucas-wilchez</td>\n      <td>Lucas Wilchez</td>\n      <td>Real Zaragoza</td>\n      <td>Spain</td>\n      <td>31.08.1983</td>\n      <td>177.0</td>\n      <td>72.0</td>\n      <td>Attacking Midfielder</td>\n      <td>1</td>\n      <td>0</td>\n      <td>...</td>\n      <td>0.50</td>\n      <td>1</td>\n      <td>1</td>\n      <td>GRC</td>\n      <td>0.326391</td>\n      <td>712.0</td>\n      <td>0.000564</td>\n      <td>0.396000</td>\n      <td>750.0</td>\n      <td>0.002696</td>\n    </tr>\n    <tr>\n      <th>1</th>\n      <td>john-utaka</td>\n      <td>John Utaka</td>\n      <td>Montpellier HSC</td>\n      <td>France</td>\n      <td>08.01.1982</td>\n      <td>179.0</td>\n      <td>82.0</td>\n      <td>Right Winger</td>\n      <td>1</td>\n      <td>0</td>\n      <td>...</td>\n      <td>0.75</td>\n      <td>2</td>\n      <td>2</td>\n      <td>ZMB</td>\n      <td>0.203375</td>\n      <td>40.0</td>\n      <td>0.010875</td>\n      <td>-0.204082</td>\n      <td>49.0</td>\n      <td>0.061504</td>\n    </tr>\n    <tr>\n      <th>5</th>\n      <td>aaron-hughes</td>\n      <td>Aaron Hughes</td>\n      <td>Fulham FC</td>\n      <td>England</td>\n      <td>08.11.1979</td>\n      <td>182.0</td>\n      <td>71.0</td>\n      <td>Center Back</td>\n      <td>1</td>\n      <td>0</td>\n      <td>...</td>\n      <td>0.00</td>\n      <td>4</td>\n      <td>4</td>\n      <td>LUX</td>\n      <td>0.325185</td>\n      <td>127.0</td>\n      <td>0.003297</td>\n      <td>0.538462</td>\n      <td>130.0</td>\n      <td>0.013752</td>\n    </tr>\n    <tr>\n      <th>6</th>\n      <td>aleksandar-kolarov</td>\n      <td>Aleksandar Kolarov</td>\n      <td>Manchester City</td>\n      <td>England</td>\n      <td>10.11.1985</td>\n      <td>187.0</td>\n      <td>80.0</td>\n      <td>Left Fullback</td>\n      <td>1</td>\n      <td>1</td>\n      <td>...</td>\n      <td>0.25</td>\n      <td>4</td>\n      <td>4</td>\n      <td>LUX</td>\n      <td>0.325185</td>\n      <td>127.0</td>\n      <td>0.003297</td>\n      <td>0.538462</td>\n      <td>130.0</td>\n      <td>0.013752</td>\n    </tr>\n    <tr>\n      <th>7</th>\n      <td>alexander-tettey</td>\n      <td>Alexander Tettey</td>\n      <td>Norwich City</td>\n      <td>England</td>\n      <td>04.04.1986</td>\n      <td>180.0</td>\n      <td>68.0</td>\n      <td>Defensive Midfielder</td>\n      <td>1</td>\n      <td>0</td>\n      <td>...</td>\n      <td>1.00</td>\n      <td>4</td>\n      <td>4</td>\n      <td>LUX</td>\n      <td>0.325185</td>\n      <td>127.0</td>\n      <td>0.003297</td>\n      <td>0.538462</td>\n      <td>130.0</td>\n      <td>0.013752</td>\n    </tr>\n    <tr>\n      <th>...</th>\n      <td>...</td>\n      <td>...</td>\n      <td>...</td>\n      <td>...</td>\n      <td>...</td>\n      <td>...</td>\n      <td>...</td>\n      <td>...</td>\n      <td>...</td>\n      <td>...</td>\n      <td>...</td>\n      <td>...</td>\n      <td>...</td>\n      <td>...</td>\n      <td>...</td>\n      <td>...</td>\n      <td>...</td>\n      <td>...</td>\n      <td>...</td>\n      <td>...</td>\n      <td>...</td>\n    </tr>\n    <tr>\n      <th>146022</th>\n      <td>tom-huddlestone</td>\n      <td>Tom Huddlestone</td>\n      <td>Tottenham Hotspur</td>\n      <td>England</td>\n      <td>28.12.1986</td>\n      <td>188.0</td>\n      <td>80.0</td>\n      <td>Defensive Midfielder</td>\n      <td>1</td>\n      <td>0</td>\n      <td>...</td>\n      <td>0.50</td>\n      <td>3147</td>\n      <td>21</td>\n      <td>HUN</td>\n      <td>0.376127</td>\n      <td>574.0</td>\n      <td>0.000714</td>\n      <td>0.498350</td>\n      <td>606.0</td>\n      <td>0.002968</td>\n    </tr>\n    <tr>\n      <th>146023</th>\n      <td>tomas-rosicky</td>\n      <td>Tomáš Rosický</td>\n      <td>Arsenal FC</td>\n      <td>England</td>\n      <td>04.10.1980</td>\n      <td>178.0</td>\n      <td>67.0</td>\n      <td>Attacking Midfielder</td>\n      <td>1</td>\n      <td>1</td>\n      <td>...</td>\n      <td>0.00</td>\n      <td>3147</td>\n      <td>21</td>\n      <td>HUN</td>\n      <td>0.376127</td>\n      <td>574.0</td>\n      <td>0.000714</td>\n      <td>0.498350</td>\n      <td>606.0</td>\n      <td>0.002968</td>\n    </tr>\n    <tr>\n      <th>146024</th>\n      <td>winston-reid</td>\n      <td>Winston Reid</td>\n      <td>West Ham United</td>\n      <td>England</td>\n      <td>03.07.1988</td>\n      <td>190.0</td>\n      <td>87.0</td>\n      <td>Center Back</td>\n      <td>1</td>\n      <td>0</td>\n      <td>...</td>\n      <td>0.50</td>\n      <td>3147</td>\n      <td>21</td>\n      <td>HUN</td>\n      <td>0.376127</td>\n      <td>574.0</td>\n      <td>0.000714</td>\n      <td>0.498350</td>\n      <td>606.0</td>\n      <td>0.002968</td>\n    </tr>\n    <tr>\n      <th>146025</th>\n      <td>xherdan-shaqiri</td>\n      <td>Xherdan Shaqiri</td>\n      <td>Bayern München</td>\n      <td>Germany</td>\n      <td>10.10.1991</td>\n      <td>169.0</td>\n      <td>72.0</td>\n      <td>Left Midfielder</td>\n      <td>1</td>\n      <td>1</td>\n      <td>...</td>\n      <td>0.25</td>\n      <td>3147</td>\n      <td>21</td>\n      <td>HUN</td>\n      <td>0.376127</td>\n      <td>574.0</td>\n      <td>0.000714</td>\n      <td>0.498350</td>\n      <td>606.0</td>\n      <td>0.002968</td>\n    </tr>\n    <tr>\n      <th>146027</th>\n      <td>zdenk-pospch</td>\n      <td>Zdeněk Pospěch</td>\n      <td>1. FSV Mainz 05</td>\n      <td>Germany</td>\n      <td>14.12.1978</td>\n      <td>174.0</td>\n      <td>72.0</td>\n      <td>Right Fullback</td>\n      <td>1</td>\n      <td>0</td>\n      <td>...</td>\n      <td>0.25</td>\n      <td>3147</td>\n      <td>21</td>\n      <td>HUN</td>\n      <td>0.376127</td>\n      <td>574.0</td>\n      <td>0.000714</td>\n      <td>0.498350</td>\n      <td>606.0</td>\n      <td>0.002968</td>\n    </tr>\n  </tbody>\n</table>\n<p>115457 rows × 28 columns</p>\n</div>"
     },
     "execution_count": 7,
     "metadata": {},
     "output_type": "execute_result"
    }
   ],
   "source": [
    "df"
   ],
   "metadata": {
    "collapsed": false,
    "ExecuteTime": {
     "end_time": "2023-10-19T11:37:54.221773459Z",
     "start_time": "2023-10-19T11:37:54.198686663Z"
    }
   },
   "id": "d38082c935be51b0"
  },
  {
   "cell_type": "code",
   "execution_count": 8,
   "outputs": [
    {
     "data": {
      "text/plain": "               playerShort              player               club  \\\n0            lucas-wilchez       Lucas Wilchez      Real Zaragoza   \n1               john-utaka          John Utaka    Montpellier HSC   \n5             aaron-hughes        Aaron Hughes          Fulham FC   \n6       aleksandar-kolarov  Aleksandar Kolarov    Manchester City   \n7         alexander-tettey    Alexander Tettey       Norwich City   \n...                    ...                 ...                ...   \n146022     tom-huddlestone     Tom Huddlestone  Tottenham Hotspur   \n146023       tomas-rosicky       Tomáš Rosický         Arsenal FC   \n146024        winston-reid        Winston Reid    West Ham United   \n146025     xherdan-shaqiri     Xherdan Shaqiri     Bayern München   \n146027        zdenk-pospch      Zdeněk Pospěch    1. FSV Mainz 05   \n\n       leagueCountry    birthday  height  weight              position  games  \\\n0              Spain  31.08.1983   177.0    72.0  Attacking Midfielder      1   \n1             France  08.01.1982   179.0    82.0          Right Winger      1   \n5            England  08.11.1979   182.0    71.0           Center Back      1   \n6            England  10.11.1985   187.0    80.0         Left Fullback      1   \n7            England  04.04.1986   180.0    68.0  Defensive Midfielder      1   \n...              ...         ...     ...     ...                   ...    ...   \n146022       England  28.12.1986   188.0    80.0  Defensive Midfielder      1   \n146023       England  04.10.1980   178.0    67.0  Attacking Midfielder      1   \n146024       England  03.07.1988   190.0    87.0           Center Back      1   \n146025       Germany  10.10.1991   169.0    72.0       Left Midfielder      1   \n146027       Germany  14.12.1978   174.0    72.0        Right Fullback      1   \n\n        victories  ...  refNum  refCountry  Alpha_3   meanIAT   nIAT  \\\n0               0  ...       1           1      GRC  0.326391  712.0   \n1               0  ...       2           2      ZMB  0.203375   40.0   \n5               0  ...       4           4      LUX  0.325185  127.0   \n6               1  ...       4           4      LUX  0.325185  127.0   \n7               0  ...       4           4      LUX  0.325185  127.0   \n...           ...  ...     ...         ...      ...       ...    ...   \n146022          0  ...    3147          21      HUN  0.376127  574.0   \n146023          1  ...    3147          21      HUN  0.376127  574.0   \n146024          0  ...    3147          21      HUN  0.376127  574.0   \n146025          1  ...    3147          21      HUN  0.376127  574.0   \n146027          0  ...    3147          21      HUN  0.376127  574.0   \n\n           seIAT   meanExp   nExp     seExp  NameLength  \n0       0.000564  0.396000  750.0  0.002696          13  \n1       0.010875 -0.204082   49.0  0.061504          10  \n5       0.003297  0.538462  130.0  0.013752          12  \n6       0.003297  0.538462  130.0  0.013752          18  \n7       0.003297  0.538462  130.0  0.013752          16  \n...          ...       ...    ...       ...         ...  \n146022  0.000714  0.498350  606.0  0.002968          15  \n146023  0.000714  0.498350  606.0  0.002968          13  \n146024  0.000714  0.498350  606.0  0.002968          12  \n146025  0.000714  0.498350  606.0  0.002968          15  \n146027  0.000714  0.498350  606.0  0.002968          14  \n\n[115457 rows x 29 columns]",
      "text/html": "<div>\n<style scoped>\n    .dataframe tbody tr th:only-of-type {\n        vertical-align: middle;\n    }\n\n    .dataframe tbody tr th {\n        vertical-align: top;\n    }\n\n    .dataframe thead th {\n        text-align: right;\n    }\n</style>\n<table border=\"1\" class=\"dataframe\">\n  <thead>\n    <tr style=\"text-align: right;\">\n      <th></th>\n      <th>playerShort</th>\n      <th>player</th>\n      <th>club</th>\n      <th>leagueCountry</th>\n      <th>birthday</th>\n      <th>height</th>\n      <th>weight</th>\n      <th>position</th>\n      <th>games</th>\n      <th>victories</th>\n      <th>...</th>\n      <th>refNum</th>\n      <th>refCountry</th>\n      <th>Alpha_3</th>\n      <th>meanIAT</th>\n      <th>nIAT</th>\n      <th>seIAT</th>\n      <th>meanExp</th>\n      <th>nExp</th>\n      <th>seExp</th>\n      <th>NameLength</th>\n    </tr>\n  </thead>\n  <tbody>\n    <tr>\n      <th>0</th>\n      <td>lucas-wilchez</td>\n      <td>Lucas Wilchez</td>\n      <td>Real Zaragoza</td>\n      <td>Spain</td>\n      <td>31.08.1983</td>\n      <td>177.0</td>\n      <td>72.0</td>\n      <td>Attacking Midfielder</td>\n      <td>1</td>\n      <td>0</td>\n      <td>...</td>\n      <td>1</td>\n      <td>1</td>\n      <td>GRC</td>\n      <td>0.326391</td>\n      <td>712.0</td>\n      <td>0.000564</td>\n      <td>0.396000</td>\n      <td>750.0</td>\n      <td>0.002696</td>\n      <td>13</td>\n    </tr>\n    <tr>\n      <th>1</th>\n      <td>john-utaka</td>\n      <td>John Utaka</td>\n      <td>Montpellier HSC</td>\n      <td>France</td>\n      <td>08.01.1982</td>\n      <td>179.0</td>\n      <td>82.0</td>\n      <td>Right Winger</td>\n      <td>1</td>\n      <td>0</td>\n      <td>...</td>\n      <td>2</td>\n      <td>2</td>\n      <td>ZMB</td>\n      <td>0.203375</td>\n      <td>40.0</td>\n      <td>0.010875</td>\n      <td>-0.204082</td>\n      <td>49.0</td>\n      <td>0.061504</td>\n      <td>10</td>\n    </tr>\n    <tr>\n      <th>5</th>\n      <td>aaron-hughes</td>\n      <td>Aaron Hughes</td>\n      <td>Fulham FC</td>\n      <td>England</td>\n      <td>08.11.1979</td>\n      <td>182.0</td>\n      <td>71.0</td>\n      <td>Center Back</td>\n      <td>1</td>\n      <td>0</td>\n      <td>...</td>\n      <td>4</td>\n      <td>4</td>\n      <td>LUX</td>\n      <td>0.325185</td>\n      <td>127.0</td>\n      <td>0.003297</td>\n      <td>0.538462</td>\n      <td>130.0</td>\n      <td>0.013752</td>\n      <td>12</td>\n    </tr>\n    <tr>\n      <th>6</th>\n      <td>aleksandar-kolarov</td>\n      <td>Aleksandar Kolarov</td>\n      <td>Manchester City</td>\n      <td>England</td>\n      <td>10.11.1985</td>\n      <td>187.0</td>\n      <td>80.0</td>\n      <td>Left Fullback</td>\n      <td>1</td>\n      <td>1</td>\n      <td>...</td>\n      <td>4</td>\n      <td>4</td>\n      <td>LUX</td>\n      <td>0.325185</td>\n      <td>127.0</td>\n      <td>0.003297</td>\n      <td>0.538462</td>\n      <td>130.0</td>\n      <td>0.013752</td>\n      <td>18</td>\n    </tr>\n    <tr>\n      <th>7</th>\n      <td>alexander-tettey</td>\n      <td>Alexander Tettey</td>\n      <td>Norwich City</td>\n      <td>England</td>\n      <td>04.04.1986</td>\n      <td>180.0</td>\n      <td>68.0</td>\n      <td>Defensive Midfielder</td>\n      <td>1</td>\n      <td>0</td>\n      <td>...</td>\n      <td>4</td>\n      <td>4</td>\n      <td>LUX</td>\n      <td>0.325185</td>\n      <td>127.0</td>\n      <td>0.003297</td>\n      <td>0.538462</td>\n      <td>130.0</td>\n      <td>0.013752</td>\n      <td>16</td>\n    </tr>\n    <tr>\n      <th>...</th>\n      <td>...</td>\n      <td>...</td>\n      <td>...</td>\n      <td>...</td>\n      <td>...</td>\n      <td>...</td>\n      <td>...</td>\n      <td>...</td>\n      <td>...</td>\n      <td>...</td>\n      <td>...</td>\n      <td>...</td>\n      <td>...</td>\n      <td>...</td>\n      <td>...</td>\n      <td>...</td>\n      <td>...</td>\n      <td>...</td>\n      <td>...</td>\n      <td>...</td>\n      <td>...</td>\n    </tr>\n    <tr>\n      <th>146022</th>\n      <td>tom-huddlestone</td>\n      <td>Tom Huddlestone</td>\n      <td>Tottenham Hotspur</td>\n      <td>England</td>\n      <td>28.12.1986</td>\n      <td>188.0</td>\n      <td>80.0</td>\n      <td>Defensive Midfielder</td>\n      <td>1</td>\n      <td>0</td>\n      <td>...</td>\n      <td>3147</td>\n      <td>21</td>\n      <td>HUN</td>\n      <td>0.376127</td>\n      <td>574.0</td>\n      <td>0.000714</td>\n      <td>0.498350</td>\n      <td>606.0</td>\n      <td>0.002968</td>\n      <td>15</td>\n    </tr>\n    <tr>\n      <th>146023</th>\n      <td>tomas-rosicky</td>\n      <td>Tomáš Rosický</td>\n      <td>Arsenal FC</td>\n      <td>England</td>\n      <td>04.10.1980</td>\n      <td>178.0</td>\n      <td>67.0</td>\n      <td>Attacking Midfielder</td>\n      <td>1</td>\n      <td>1</td>\n      <td>...</td>\n      <td>3147</td>\n      <td>21</td>\n      <td>HUN</td>\n      <td>0.376127</td>\n      <td>574.0</td>\n      <td>0.000714</td>\n      <td>0.498350</td>\n      <td>606.0</td>\n      <td>0.002968</td>\n      <td>13</td>\n    </tr>\n    <tr>\n      <th>146024</th>\n      <td>winston-reid</td>\n      <td>Winston Reid</td>\n      <td>West Ham United</td>\n      <td>England</td>\n      <td>03.07.1988</td>\n      <td>190.0</td>\n      <td>87.0</td>\n      <td>Center Back</td>\n      <td>1</td>\n      <td>0</td>\n      <td>...</td>\n      <td>3147</td>\n      <td>21</td>\n      <td>HUN</td>\n      <td>0.376127</td>\n      <td>574.0</td>\n      <td>0.000714</td>\n      <td>0.498350</td>\n      <td>606.0</td>\n      <td>0.002968</td>\n      <td>12</td>\n    </tr>\n    <tr>\n      <th>146025</th>\n      <td>xherdan-shaqiri</td>\n      <td>Xherdan Shaqiri</td>\n      <td>Bayern München</td>\n      <td>Germany</td>\n      <td>10.10.1991</td>\n      <td>169.0</td>\n      <td>72.0</td>\n      <td>Left Midfielder</td>\n      <td>1</td>\n      <td>1</td>\n      <td>...</td>\n      <td>3147</td>\n      <td>21</td>\n      <td>HUN</td>\n      <td>0.376127</td>\n      <td>574.0</td>\n      <td>0.000714</td>\n      <td>0.498350</td>\n      <td>606.0</td>\n      <td>0.002968</td>\n      <td>15</td>\n    </tr>\n    <tr>\n      <th>146027</th>\n      <td>zdenk-pospch</td>\n      <td>Zdeněk Pospěch</td>\n      <td>1. FSV Mainz 05</td>\n      <td>Germany</td>\n      <td>14.12.1978</td>\n      <td>174.0</td>\n      <td>72.0</td>\n      <td>Right Fullback</td>\n      <td>1</td>\n      <td>0</td>\n      <td>...</td>\n      <td>3147</td>\n      <td>21</td>\n      <td>HUN</td>\n      <td>0.376127</td>\n      <td>574.0</td>\n      <td>0.000714</td>\n      <td>0.498350</td>\n      <td>606.0</td>\n      <td>0.002968</td>\n      <td>14</td>\n    </tr>\n  </tbody>\n</table>\n<p>115457 rows × 29 columns</p>\n</div>"
     },
     "execution_count": 8,
     "metadata": {},
     "output_type": "execute_result"
    }
   ],
   "source": [
    "df[\"NameLength\"] = df['player'].apply(lambda x: len(x))\n",
    "df"
   ],
   "metadata": {
    "collapsed": false,
    "ExecuteTime": {
     "end_time": "2023-10-19T11:37:54.252175136Z",
     "start_time": "2023-10-19T11:37:54.210601162Z"
    }
   },
   "id": "7a53336d50326466"
  },
  {
   "cell_type": "code",
   "execution_count": 9,
   "outputs": [
    {
     "data": {
      "text/plain": "(115457, 29)"
     },
     "execution_count": 9,
     "metadata": {},
     "output_type": "execute_result"
    }
   ],
   "source": [
    "df.shape"
   ],
   "metadata": {
    "collapsed": false,
    "ExecuteTime": {
     "end_time": "2023-10-19T11:37:54.252590098Z",
     "start_time": "2023-10-19T11:37:54.243735619Z"
    }
   },
   "id": "f1b25ff252e3bc0f"
  },
  {
   "cell_type": "code",
   "execution_count": 10,
   "outputs": [
    {
     "data": {
      "text/plain": "playerShort      115457\nplayer           115457\nclub             115457\nleagueCountry    115457\nbirthday         115457\nheight           115457\nweight           115457\nposition         115457\ngames            115457\nvictories        115457\nties             115457\ndefeats          115457\ngoals            115457\nyellowCards      115457\nyellowReds       115457\nredCards         115457\nphotoID          115457\nrater1           115457\nrater2           115457\nrefNum           115457\nrefCountry       115457\nAlpha_3          115457\nmeanIAT          115457\nnIAT             115457\nseIAT            115457\nmeanExp          115457\nnExp             115457\nseExp            115457\nNameLength       115457\ndtype: int64"
     },
     "execution_count": 10,
     "metadata": {},
     "output_type": "execute_result"
    }
   ],
   "source": [
    "df.apply(len, axis=0)"
   ],
   "metadata": {
    "collapsed": false,
    "ExecuteTime": {
     "end_time": "2023-10-19T11:37:54.282866327Z",
     "start_time": "2023-10-19T11:37:54.249124003Z"
    }
   },
   "id": "c06cf91a84f0045c"
  },
  {
   "cell_type": "code",
   "execution_count": 11,
   "outputs": [
    {
     "data": {
      "text/plain": "0         13\n1         10\n5         12\n6         18\n7         16\n          ..\n146022    15\n146023    13\n146024    12\n146025    15\n146027    14\nName: NameLength, Length: 115457, dtype: int64"
     },
     "execution_count": 11,
     "metadata": {},
     "output_type": "execute_result"
    }
   ],
   "source": [
    "# all of these are equivalent\n",
    "\n",
    "def foo(x):\n",
    "    return len(x)\n",
    "\n",
    "df['NameLength'] = df['player'].apply(len)\n",
    "df['NameLength'] = df['player'].apply(foo)\n",
    "df['NameLength'] = df['player'].apply(lambda x: len(x))\n",
    "df['NameLength']"
   ],
   "metadata": {
    "id": "e8265797cd8e198",
    "outputId": "a8ba9da0-4779-41b6-e0f2-49cc45ad1440",
    "colab": {
     "base_uri": "https://localhost:8080/"
    },
    "ExecuteTime": {
     "end_time": "2023-10-19T11:37:54.353969877Z",
     "start_time": "2023-10-19T11:37:54.270164752Z"
    }
   },
   "id": "e8265797cd8e198"
  },
  {
   "cell_type": "markdown",
   "source": [
    "# Task 1.3 - Scatter Plot\n",
    "Create a Scatter Plot of player weight vs. name length. Do you see a correlation between the two? Why or why not? What makes this plot different from the one of weight vs height?\n",
    "\n",
    "*Hint*: You can do this exactly the same way as you did in Task 1.1. Solve that task first and then this one is essentially free."
   ],
   "metadata": {
    "collapsed": false,
    "id": "43c756d70b8c0e5a"
   },
   "id": "43c756d70b8c0e5a"
  },
  {
   "cell_type": "code",
   "execution_count": 12,
   "outputs": [
    {
     "data": {
      "text/plain": "<Figure size 640x480 with 1 Axes>",
      "image/png": "[encoded data removed]"
     },
     "metadata": {},
     "output_type": "display_data"
    }
   ],
   "source": [
    "df.plot.scatter(x='weight', y='NameLength')\n",
    "plt.show()"
   ],
   "metadata": {
    "id": "9ec40ac8b240da1b",
    "outputId": "f8ed08b1-799e-445e-ec8a-dd822f48297a",
    "colab": {
     "base_uri": "https://localhost:8080/",
     "height": 449
    },
    "ExecuteTime": {
     "end_time": "2023-10-19T11:37:54.547936065Z",
     "start_time": "2023-10-19T11:37:54.302398493Z"
    }
   },
   "id": "9ec40ac8b240da1b"
  },
  {
   "cell_type": "markdown",
   "source": [
    "# Task 1.4 - Linear Regression\n",
    "Create a linear regression model that predicts the player's height based on the player's weight. What is the height of a player that weighs 80kg? What is the height of a player that weighs 100kg?\n",
    "\n",
    "*Hint 1*: For the linear regression, use [`scikit-learn` and its `LinearRegression` model](https://scikit-learn.org/stable/modules/generated/sklearn.linear_model.LinearRegression.html).\n",
    "\n",
    "*Hint 2*: You have to reshape your data. You can do this with the `numpy.reshape` function. Have a look at the [`reshape` function](https://numpy.org/doc/stable/reference/generated/numpy.reshape.html) for how to continue from there.\n",
    "\n",
    "The task of linear regression is to find the solution to the mapping:\n",
    "\n",
    "$ f(X) = AX + b $\n",
    "\n",
    "* `X` is the training data: usually a matrix with the features as columns and the rows the examples\n",
    "* `A` is the linear mapping matrix (also called the _coefficient_)\n",
    "* `b` is the offset (also called _intercept_)\n",
    "* `f` is the function to map the training data to the target `y`\n",
    "\n",
    "\n",
    "Note, that `X` is a matrix, however, the `weight` is a column vector, so you have to reshape it to a matrix.\n",
    "\n",
    "Try using it first without reshaping and understand the occuring error message."
   ],
   "metadata": {
    "collapsed": false,
    "id": "f869cbfa382acba6"
   },
   "id": "f869cbfa382acba6"
  },
  {
   "cell_type": "code",
   "execution_count": 13,
   "outputs": [
    {
     "data": {
      "text/plain": "array([[72.],\n       [82.],\n       [71.],\n       ...,\n       [87.],\n       [72.],\n       [72.]])"
     },
     "execution_count": 13,
     "metadata": {},
     "output_type": "execute_result"
    }
   ],
   "source": [
    "foo = df['weight'].values.reshape(-1, 1)\n",
    "foo"
   ],
   "metadata": {
    "collapsed": false,
    "ExecuteTime": {
     "end_time": "2023-10-19T11:37:54.548459766Z",
     "start_time": "2023-10-19T11:37:54.534196894Z"
    }
   },
   "id": "8d1e1edcc43b2ba0"
  },
  {
   "cell_type": "code",
   "execution_count": 14,
   "outputs": [
    {
     "data": {
      "text/plain": "(115457, 1)"
     },
     "execution_count": 14,
     "metadata": {},
     "output_type": "execute_result"
    }
   ],
   "source": [
    "foo.shape"
   ],
   "metadata": {
    "collapsed": false,
    "ExecuteTime": {
     "end_time": "2023-10-19T11:37:54.548696311Z",
     "start_time": "2023-10-19T11:37:54.534452794Z"
    }
   },
   "id": "4137fb2e6d087fe5"
  },
  {
   "cell_type": "code",
   "execution_count": 15,
   "outputs": [
    {
     "data": {
      "text/plain": "array([[184.80521209],\n       [199.9036292 ]])"
     },
     "execution_count": 15,
     "metadata": {},
     "output_type": "execute_result"
    }
   ],
   "source": [
    "from sklearn.linear_model import LinearRegression\n",
    "\n",
    "# X is the name of the features\n",
    "# y is the name of the targets\n",
    "X = df['weight'].values.reshape(-1, 1)\n",
    "y = df['height'].values.reshape(-1, 1)\n",
    "\n",
    "model = LinearRegression()\n",
    "model.fit(X, y)\n",
    "model.predict(\n",
    "    [[80], [100]]\n",
    ")"
   ],
   "metadata": {
    "id": "2559024885fd88aa",
    "outputId": "e9275ebc-aaf6-4c3c-e0d2-f3aea9354175",
    "colab": {
     "base_uri": "https://localhost:8080/"
    },
    "ExecuteTime": {
     "end_time": "2023-10-19T11:37:55.042473764Z",
     "start_time": "2023-10-19T11:37:54.534601367Z"
    }
   },
   "id": "2559024885fd88aa"
  },
  {
   "cell_type": "code",
   "execution_count": 16,
   "outputs": [
    {
     "name": "stdout",
     "output_type": "stream",
     "text": [
      "[[0.75492086]]\n"
     ]
    }
   ],
   "source": [
    "# the coefficient:\n",
    "print(model.coef_)"
   ],
   "metadata": {
    "id": "a8eaaa4e8f0c064f",
    "outputId": "accd3a37-2514-4e75-d871-a35e82eea4f4",
    "colab": {
     "base_uri": "https://localhost:8080/"
    },
    "ExecuteTime": {
     "end_time": "2023-10-19T11:37:55.043321220Z",
     "start_time": "2023-10-19T11:37:55.026609391Z"
    }
   },
   "id": "a8eaaa4e8f0c064f"
  },
  {
   "cell_type": "code",
   "execution_count": 17,
   "outputs": [
    {
     "name": "stdout",
     "output_type": "stream",
     "text": [
      "[124.41154362]\n"
     ]
    }
   ],
   "source": [
    "# the intercept:\n",
    "print(model.intercept_)"
   ],
   "metadata": {
    "id": "5e235ebcf5a153e6",
    "outputId": "60e93e29-2770-4110-ee3e-4e945e21626d",
    "colab": {
     "base_uri": "https://localhost:8080/"
    },
    "ExecuteTime": {
     "end_time": "2023-10-19T11:37:55.104393370Z",
     "start_time": "2023-10-19T11:37:55.028750713Z"
    }
   },
   "id": "5e235ebcf5a153e6"
  },
  {
   "cell_type": "code",
   "source": [
    "# Replay:\n",
    "A = model.coef_\n",
    "b = model.intercept_\n",
    "\n",
    "def f(X):\n",
    "    return A * X + b\n",
    "\n",
    "x = np.array([[80], [100], [225000]])\n",
    "\n",
    "preds = f(x)\n",
    "\n",
    "print(preds)"
   ],
   "metadata": {
    "id": "BJJjoOev48az",
    "outputId": "ad19f848-a901-409e-8382-bc2e0e210a47",
    "colab": {
     "base_uri": "https://localhost:8080/"
    },
    "ExecuteTime": {
     "end_time": "2023-10-19T11:37:55.104899089Z",
     "start_time": "2023-10-19T11:37:55.070428138Z"
    }
   },
   "id": "BJJjoOev48az",
   "execution_count": 18,
   "outputs": [
    {
     "name": "stdout",
     "output_type": "stream",
     "text": [
      "[[   184.80521209]\n",
      " [   199.9036292 ]\n",
      " [169981.60409578]]\n"
     ]
    }
   ]
  },
  {
   "cell_type": "markdown",
   "source": [
    "# Task 1.5 - Scatter Plot with Regression Line\n",
    "Create a Scatter Plot of player weight vs. height. Draw the regression line into the scatter plot.\n",
    "\n",
    "*Hint*: You can use `plt.plot` to draw the regression line. Have a look at the [documentation](https://matplotlib.org/stable/api/_as_gen/matplotlib.pyplot.plot.html) for how to use it. If you didn't do the bonus part of Task 1.1, you can have a look at the [`matplotlib cheat sheet`](https://matplotlib.org/cheatsheets/_images/cheatsheets-1.png).\n",
    "\n",
    "*Hint2*: You can easily find the x-axis values. How can you get the y-axis values for the regression line? You already did this in a previous task!"
   ],
   "metadata": {
    "collapsed": false,
    "id": "a795d5f70494fc1a"
   },
   "id": "a795d5f70494fc1a"
  },
  {
   "cell_type": "code",
   "execution_count": 19,
   "outputs": [
    {
     "data": {
      "text/plain": "<Figure size 640x480 with 1 Axes>",
      "image/png": "[encoded data removed]"
     },
     "metadata": {},
     "output_type": "display_data"
    }
   ],
   "source": [
    "# draw the regression line into the scatter plot\n",
    "plt.scatter(X, y, s=18)\n",
    "plt.plot(X, model.predict(X), color='red')\n",
    "\n",
    "plt.show()"
   ],
   "metadata": {
    "id": "424076d468acadd8",
    "outputId": "4b4dae73-6d51-427c-8df2-e0229c8acf10",
    "colab": {
     "base_uri": "https://localhost:8080/",
     "height": 430
    },
    "ExecuteTime": {
     "end_time": "2023-10-19T11:37:55.245002907Z",
     "start_time": "2023-10-19T11:37:55.070652239Z"
    }
   },
   "id": "424076d468acadd8"
  },
  {
   "cell_type": "markdown",
   "source": [
    "**Bonus**: Repeat this for height vs. name length."
   ],
   "metadata": {
    "collapsed": false,
    "id": "e4afd2900cb34eda"
   },
   "id": "e4afd2900cb34eda"
  },
  {
   "cell_type": "code",
   "execution_count": 20,
   "outputs": [
    {
     "data": {
      "text/plain": "[<matplotlib.lines.Line2D at 0x7fe48f83fad0>]"
     },
     "execution_count": 20,
     "metadata": {},
     "output_type": "execute_result"
    },
    {
     "data": {
      "text/plain": "<Figure size 640x480 with 1 Axes>",
      "image/png": "[encoded data removed]"
     },
     "metadata": {},
     "output_type": "display_data"
    }
   ],
   "source": [
    "X = df['weight'].values.reshape(-1, 1)\n",
    "y = df['NameLength'].values.reshape(-1, 1)\n",
    "\n",
    "model = LinearRegression()\n",
    "model.fit(X, y)\n",
    "\n",
    "plt.scatter(X, y, s=18)\n",
    "plt.plot(X, model.predict(X), color='red')"
   ],
   "metadata": {
    "id": "ee83d4c9d37e7b55",
    "outputId": "5192fbb6-775f-4aca-f138-534d3ca84a0d",
    "colab": {
     "base_uri": "https://localhost:8080/",
     "height": 447
    },
    "ExecuteTime": {
     "end_time": "2023-10-19T11:37:55.451475901Z",
     "start_time": "2023-10-19T11:37:55.234294863Z"
    }
   },
   "id": "ee83d4c9d37e7b55"
  },
  {
   "cell_type": "code",
   "execution_count": 21,
   "outputs": [
    {
     "data": {
      "text/plain": "[<matplotlib.lines.Line2D at 0x7fe4bfe487d0>]"
     },
     "execution_count": 21,
     "metadata": {},
     "output_type": "execute_result"
    },
    {
     "data": {
      "text/plain": "<Figure size 640x480 with 1 Axes>",
      "image/png": "[encoded data removed]"
     },
     "metadata": {},
     "output_type": "display_data"
    }
   ],
   "source": [
    "X = df['height'].values.reshape(-1, 1)\n",
    "y = df['NameLength'].values.reshape(-1, 1)\n",
    "\n",
    "model = LinearRegression()\n",
    "model.fit(X, y)\n",
    "\n",
    "plt.scatter(X, y, s=18)\n",
    "plt.plot(X, model.predict(X), color='red')"
   ],
   "metadata": {
    "collapsed": false,
    "ExecuteTime": {
     "end_time": "2023-10-19T11:37:55.688317174Z",
     "start_time": "2023-10-19T11:37:55.449980274Z"
    }
   },
   "id": "a4d4446e8a992654"
  },
  {
   "cell_type": "markdown",
   "source": [
    "# Task 2.1 - SQL Query on DataFrame\n",
    "Write a query that returns the player's weight, height, and position from the DataFrame, using SQL.\n",
    "\n",
    "*Hint*: You need to use the [`read_sql`](https://pandas.pydata.org/docs/reference/api/pandas.read_sql.html) function.\n",
    "\n",
    "You can find an SQL cheat sheet [here](https://www.sqltutorial.org/sql-cheat-sheet/)."
   ],
   "metadata": {
    "collapsed": false,
    "id": "536b1531f93177d5"
   },
   "id": "536b1531f93177d5"
  },
  {
   "cell_type": "code",
   "source": [
    "with sqlite3.connect('crowdstorming.db') as c:\n",
    "    df.to_sql('crowdstorming', c, if_exists=\"replace\")"
   ],
   "metadata": {
    "id": "UfB8nqvKQY-M",
    "ExecuteTime": {
     "end_time": "2023-10-19T11:37:56.455007569Z",
     "start_time": "2023-10-19T11:37:55.696253437Z"
    }
   },
   "id": "UfB8nqvKQY-M",
   "execution_count": 22,
   "outputs": []
  },
  {
   "cell_type": "code",
   "execution_count": 23,
   "outputs": [
    {
     "data": {
      "text/plain": "                    player  weight  height\n0            Lucas Wilchez    72.0   177.0\n1               John Utaka    82.0   179.0\n2             Aaron Hughes    71.0   182.0\n3       Aleksandar Kolarov    80.0   187.0\n4         Alexander Tettey    68.0   180.0\n...                    ...     ...     ...\n115452     Tom Huddlestone    80.0   188.0\n115453       Tomáš Rosický    67.0   178.0\n115454        Winston Reid    87.0   190.0\n115455     Xherdan Shaqiri    72.0   169.0\n115456      Zdeněk Pospěch    72.0   174.0\n\n[115457 rows x 3 columns]",
      "text/html": "<div>\n<style scoped>\n    .dataframe tbody tr th:only-of-type {\n        vertical-align: middle;\n    }\n\n    .dataframe tbody tr th {\n        vertical-align: top;\n    }\n\n    .dataframe thead th {\n        text-align: right;\n    }\n</style>\n<table border=\"1\" class=\"dataframe\">\n  <thead>\n    <tr style=\"text-align: right;\">\n      <th></th>\n      <th>player</th>\n      <th>weight</th>\n      <th>height</th>\n    </tr>\n  </thead>\n  <tbody>\n    <tr>\n      <th>0</th>\n      <td>Lucas Wilchez</td>\n      <td>72.0</td>\n      <td>177.0</td>\n    </tr>\n    <tr>\n      <th>1</th>\n      <td>John Utaka</td>\n      <td>82.0</td>\n      <td>179.0</td>\n    </tr>\n    <tr>\n      <th>2</th>\n      <td>Aaron Hughes</td>\n      <td>71.0</td>\n      <td>182.0</td>\n    </tr>\n    <tr>\n      <th>3</th>\n      <td>Aleksandar Kolarov</td>\n      <td>80.0</td>\n      <td>187.0</td>\n    </tr>\n    <tr>\n      <th>4</th>\n      <td>Alexander Tettey</td>\n      <td>68.0</td>\n      <td>180.0</td>\n    </tr>\n    <tr>\n      <th>...</th>\n      <td>...</td>\n      <td>...</td>\n      <td>...</td>\n    </tr>\n    <tr>\n      <th>115452</th>\n      <td>Tom Huddlestone</td>\n      <td>80.0</td>\n      <td>188.0</td>\n    </tr>\n    <tr>\n      <th>115453</th>\n      <td>Tomáš Rosický</td>\n      <td>67.0</td>\n      <td>178.0</td>\n    </tr>\n    <tr>\n      <th>115454</th>\n      <td>Winston Reid</td>\n      <td>87.0</td>\n      <td>190.0</td>\n    </tr>\n    <tr>\n      <th>115455</th>\n      <td>Xherdan Shaqiri</td>\n      <td>72.0</td>\n      <td>169.0</td>\n    </tr>\n    <tr>\n      <th>115456</th>\n      <td>Zdeněk Pospěch</td>\n      <td>72.0</td>\n      <td>174.0</td>\n    </tr>\n  </tbody>\n</table>\n<p>115457 rows × 3 columns</p>\n</div>"
     },
     "execution_count": 23,
     "metadata": {},
     "output_type": "execute_result"
    }
   ],
   "source": [
    "from sqlite3 import connect\n",
    "conn = connect('./crowdstorming.db')\n",
    "column = \"weight\"\n",
    "pd.read_sql(\n",
    "    'SELECT player, weight, height FROM crowdstorming',\n",
    "    conn\n",
    ")"
   ],
   "metadata": {
    "collapsed": false,
    "ExecuteTime": {
     "end_time": "2023-10-19T11:37:56.540904365Z",
     "start_time": "2023-10-19T11:37:56.455752337Z"
    }
   },
   "id": "d49745872acde4ae"
  },
  {
   "cell_type": "code",
   "execution_count": 24,
   "outputs": [
    {
     "data": {
      "text/plain": "        weight\n0         72.0\n1         82.0\n2         71.0\n3         80.0\n4         68.0\n...        ...\n115452    80.0\n115453    67.0\n115454    87.0\n115455    72.0\n115456    72.0\n\n[115457 rows x 1 columns]",
      "text/html": "<div>\n<style scoped>\n    .dataframe tbody tr th:only-of-type {\n        vertical-align: middle;\n    }\n\n    .dataframe tbody tr th {\n        vertical-align: top;\n    }\n\n    .dataframe thead th {\n        text-align: right;\n    }\n</style>\n<table border=\"1\" class=\"dataframe\">\n  <thead>\n    <tr style=\"text-align: right;\">\n      <th></th>\n      <th>weight</th>\n    </tr>\n  </thead>\n  <tbody>\n    <tr>\n      <th>0</th>\n      <td>72.0</td>\n    </tr>\n    <tr>\n      <th>1</th>\n      <td>82.0</td>\n    </tr>\n    <tr>\n      <th>2</th>\n      <td>71.0</td>\n    </tr>\n    <tr>\n      <th>3</th>\n      <td>80.0</td>\n    </tr>\n    <tr>\n      <th>4</th>\n      <td>68.0</td>\n    </tr>\n    <tr>\n      <th>...</th>\n      <td>...</td>\n    </tr>\n    <tr>\n      <th>115452</th>\n      <td>80.0</td>\n    </tr>\n    <tr>\n      <th>115453</th>\n      <td>67.0</td>\n    </tr>\n    <tr>\n      <th>115454</th>\n      <td>87.0</td>\n    </tr>\n    <tr>\n      <th>115455</th>\n      <td>72.0</td>\n    </tr>\n    <tr>\n      <th>115456</th>\n      <td>72.0</td>\n    </tr>\n  </tbody>\n</table>\n<p>115457 rows × 1 columns</p>\n</div>"
     },
     "execution_count": 24,
     "metadata": {},
     "output_type": "execute_result"
    }
   ],
   "source": [
    "from sqlite3 import connect\n",
    "conn = connect('./crowdstorming.db')\n",
    "column = \"weight\"\n",
    "pd.read_sql(\n",
    "    'SELECT ' + column + ' FROM crowdstorming',\n",
    "    conn\n",
    ")"
   ],
   "metadata": {
    "id": "317ce2a6df002c9c",
    "outputId": "68e700a2-698f-43e4-8382-dbdeece91a4a",
    "colab": {
     "base_uri": "https://localhost:8080/",
     "height": 424
    },
    "ExecuteTime": {
     "end_time": "2023-10-19T11:37:56.616708036Z",
     "start_time": "2023-10-19T11:37:56.540251887Z"
    }
   },
   "id": "317ce2a6df002c9c"
  },
  {
   "cell_type": "markdown",
   "source": [
    "We will be using [`sqlalchemy`](https://www.sqlalchemy.org/) here. First we store the data from the DataFrame in a sqlite3 database.\n",
    "\n",
    "You can find an `sqlalchemy` cheat sheet [here](https://www.pythonsheets.com/notes/python-sqlalchemy.html)."
   ],
   "metadata": {
    "collapsed": false,
    "id": "8a56051d600a540f"
   },
   "id": "8a56051d600a540f"
  },
  {
   "cell_type": "code",
   "execution_count": 25,
   "outputs": [
    {
     "name": "stdout",
     "output_type": "stream",
     "text": [
      "dict_keys(['countries', 'crowdstorming'])\n"
     ]
    }
   ],
   "source": [
    "import sqlite3\n",
    "with sqlite3.connect('crowdstorming.db') as c:\n",
    "    df.to_sql('crowdstorming', c, if_exists=\"replace\")\n",
    "\n",
    "from sqlalchemy import create_engine, MetaData\n",
    "\n",
    "engine = create_engine('sqlite:///crowdstorming.db')\n",
    "metadata = MetaData()\n",
    "metadata.reflect(engine)\n",
    "\n",
    "table_names = metadata.tables.keys()\n",
    "print(table_names)"
   ],
   "metadata": {
    "id": "86cb80ef22323e0",
    "outputId": "ea3c5c67-cf36-408a-d697-49e04f816c69",
    "colab": {
     "base_uri": "https://localhost:8080/"
    },
    "ExecuteTime": {
     "end_time": "2023-10-19T11:37:57.348545882Z",
     "start_time": "2023-10-19T11:37:56.587846126Z"
    }
   },
   "id": "86cb80ef22323e0"
  },
  {
   "cell_type": "code",
   "execution_count": 26,
   "outputs": [
    {
     "name": "stdout",
     "output_type": "stream",
     "text": [
      "[('Lucas Wilchez', 72.0, 177.0), ('John Utaka', 82.0, 179.0), ('Aaron Hughes', 71.0, 182.0), ('Aleksandar Kolarov', 80.0, 187.0), ('Alexander Tettey', 68.0, 180.0)]\n"
     ]
    }
   ],
   "source": [
    "from sqlalchemy.orm import sessionmaker\n",
    "\n",
    "metadata = MetaData()\n",
    "metadata.reflect(engine)\n",
    "countries_table = metadata.tables['countries']\n",
    "crowdstorming_table = metadata.tables['crowdstorming']\n",
    "Session = sessionmaker(bind=engine)\n",
    "session = Session()\n",
    "results = session.query(\n",
    "    crowdstorming_table.c.player, \n",
    "    crowdstorming_table.c.weight, \n",
    "    crowdstorming_table.c.height\n",
    ").all()\n",
    "print(results[:5])"
   ],
   "metadata": {
    "collapsed": false,
    "ExecuteTime": {
     "end_time": "2023-10-19T11:37:57.784017549Z",
     "start_time": "2023-10-19T11:37:57.350729822Z"
    }
   },
   "id": "3d943201f88ec531"
  }
 ],
 "metadata": {
  "kernelspec": {
   "display_name": "Python 3",
   "language": "python",
   "name": "python3"
  },
  "language_info": {
   "codemirror_mode": {
    "name": "ipython",
    "version": 2
   },
   "file_extension": ".py",
   "mimetype": "text/x-python",
   "name": "python",
   "nbconvert_exporter": "python",
   "pygments_lexer": "ipython2",
   "version": "2.7.6"
  },
  "colab": {
   "provenance": []
  }
 },
 "nbformat": 4,
 "nbformat_minor": 5
}
