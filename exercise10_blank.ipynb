{
 "cells": [
  {
   "cell_type": "code",
   "execution_count": null,
   "id": "initial_id",
   "metadata": {
    "collapsed": true,
    "id": "initial_id"
   },
   "outputs": [],
   "source": [
    "import numpy as np\n",
    "import pandas as pd"
   ]
  },
  {
   "cell_type": "code",
   "execution_count": null,
   "outputs": [],
   "source": [
    "df = pd.read_csv('https://drive.switch.ch/index.php/s/UEpTFv2Bfa5C1dd/download')\n",
    "df.head()"
   ],
   "metadata": {
    "id": "2d5dca3f42ab4cd4",
    "outputId": "38f2a24e-7cdc-4fd3-df8c-91f4dd8557ec",
    "colab": {
     "base_uri": "https://localhost:8080/",
     "height": 342
    }
   },
   "id": "2d5dca3f42ab4cd4"
  },
  {
   "cell_type": "code",
   "execution_count": null,
   "outputs": [],
   "source": [
    "position_mapping = {\n",
    "    'Goalkeeper': 'Goalkeepers',\n",
    "    'Center Back': 'Defenders',\n",
    "    'Left Fullback': 'Defenders',\n",
    "    'Right Fullback': 'Defenders',\n",
    "    'Attacking Midfielder': 'Midfielders',\n",
    "    'Center Midfielder': 'Midfielders',\n",
    "    'Defensive Midfielder': 'Midfielders',\n",
    "    'Left Midfielder': 'Midfielders',\n",
    "    'Right Midfielder': 'Midfielders',\n",
    "    'Left Winger': 'Forwards',\n",
    "    'Right Winger': 'Forwards',\n",
    "    'Center Forward': 'Forwards'\n",
    "}\n",
    "\n",
    "# rename the position in the dataframe to the broader position category\n",
    "df['position'] = df['position'].map(position_mapping)"
   ],
   "metadata": {
    "id": "517077ee5d5299f"
   },
   "id": "517077ee5d5299f"
  },
  {
   "cell_type": "markdown",
   "source": [
    "# Task 7 (From last week) - Same league\n",
    "If you randomly construct a team of players while respecting their original position (like we did in Task 5), what is the probability that all players are in the England league?"
   ],
   "metadata": {
    "collapsed": false,
    "id": "6e2f3962ab971754"
   },
   "id": "6e2f3962ab971754"
  },
  {
   "cell_type": "code",
   "execution_count": null,
   "outputs": [],
   "source": [
    "league_country_counts = df.groupby(['position', 'leagueCountry']).size()\n",
    "league_country_counts"
   ],
   "metadata": {
    "id": "65715af23bde0d08",
    "outputId": "cd5b4afc-9de6-41f8-f923-68b9ea18e4f9",
    "colab": {
     "base_uri": "https://localhost:8080/"
    }
   },
   "id": "65715af23bde0d08"
  },
  {
   "cell_type": "code",
   "execution_count": null,
   "outputs": [],
   "source": [
    "broader_position_counts = df.groupby('position').size()\n",
    "broader_position_counts_df = broader_position_counts.reset_index()\n",
    "broader_position_counts_df.columns = ['Position Category', 'Number']\n",
    "broader_position_counts_df"
   ],
   "metadata": {
    "id": "dfca373b984ee085",
    "outputId": "81803388-ecf8-4f2b-cbf0-f7921eb3adaf",
    "colab": {
     "base_uri": "https://localhost:8080/",
     "height": 175
    }
   },
   "id": "dfca373b984ee085"
  },
  {
   "cell_type": "code",
   "execution_count": null,
   "outputs": [],
   "source": [
    "from math import comb\n",
    "\n",
    "combinations_goalkeepers = comb(broader_position_counts_df[broader_position_counts_df['Position Category'] == 'Goalkeepers']['Number'].values[0], 1)\n",
    "\n",
    "combinations_defenders = comb(broader_position_counts_df[broader_position_counts_df['Position Category'] == 'Defenders']['Number'].values[0], 4)\n",
    "\n",
    "combinations_midfielders = comb(broader_position_counts_df[broader_position_counts_df['Position Category'] == 'Midfielders']['Number'].values[0], 4)\n",
    "\n",
    "combinations_forwards = comb(broader_position_counts_df[broader_position_counts_df['Position Category'] == 'Forwards']['Number'].values[0], 2)\n",
    "\n",
    "total_combinations = combinations_goalkeepers * combinations_defenders * combinations_midfielders * combinations_forwards\n",
    "total_combinations"
   ],
   "metadata": {
    "id": "e478d51933e4b651",
    "outputId": "06cdc67e-a824-440c-be14-34d1ecede8e1",
    "colab": {
     "base_uri": "https://localhost:8080/"
    }
   },
   "id": "e478d51933e4b651"
  },
  {
   "cell_type": "code",
   "execution_count": null,
   "outputs": [],
   "source": [
    "from math import comb\n",
    "\n",
    "league_country_counts = df.groupby(['position', 'leagueCountry']).size()\n",
    "comb_gk_england = comb(league_country_counts[('Goalkeepers', 'England')], 1)\n",
    "comb_def_england = comb(league_country_counts[('Defenders', 'England')], 4)\n",
    "comb_mid_england = comb(league_country_counts[('Midfielders', 'England')], 4)\n",
    "comb_fwd_england = comb(league_country_counts[('Forwards', 'England')], 2)\n",
    "\n",
    "total_combinations_england = comb_gk_england * comb_def_england * comb_mid_england * comb_fwd_england\n",
    "probability_same_league = total_combinations_england / total_combinations\n"
   ],
   "metadata": {
    "id": "16f257c4c47cf712"
   },
   "id": "16f257c4c47cf712"
  },
  {
   "cell_type": "code",
   "execution_count": null,
   "outputs": [],
   "source": [
    "probability_same_league"
   ],
   "metadata": {
    "id": "a634b92a60ccf1e6",
    "outputId": "6b9b63f8-1480-417b-d5a6-7480dea33c1e",
    "colab": {
     "base_uri": "https://localhost:8080/"
    }
   },
   "id": "a634b92a60ccf1e6"
  },
  {
   "cell_type": "markdown",
   "source": [
    "# Task 1 - Dice rolls\n",
    "Two balanced six-sided dice are rolled, and the numbers that come up are recorded.\n",
    "\n",
    "- a) What is the probability of rolling a sum of 2?\n",
    "- b) What is the probability of rolling a sum of 7?\n",
    "\n",
    "Solve this mathematically and verify your solution by simulation."
   ],
   "metadata": {
    "collapsed": false,
    "id": "8265b5b9d95f317a"
   },
   "id": "8265b5b9d95f317a"
  },
  {
   "cell_type": "markdown",
   "source": [
    "a) What is the probability of rolling a sum of 2?\n",
    "\n",
    "Answer:"
   ],
   "metadata": {
    "collapsed": false
   },
   "id": "b3a69632d42d5f6e"
  },
  {
   "cell_type": "code",
   "execution_count": null,
   "outputs": [],
   "source": [
    "# simulation code"
   ],
   "metadata": {
    "id": "868cf5698fbfc81e",
    "outputId": "fbd85d33-6f85-497b-d8c4-ed8306ef04c8",
    "colab": {
     "base_uri": "https://localhost:8080/"
    }
   },
   "id": "868cf5698fbfc81e"
  },
  {
   "cell_type": "markdown",
   "source": [
    "b) What is the probability of rolling a sum of 7?\n",
    "\n",
    "Answer:\n"
   ],
   "metadata": {
    "collapsed": false,
    "id": "e7b7504c34a367de"
   },
   "id": "e7b7504c34a367de"
  },
  {
   "cell_type": "code",
   "execution_count": null,
   "outputs": [],
   "source": [
    "# simulation code"
   ],
   "metadata": {
    "id": "4aef009d026516b2",
    "outputId": "ad8bce9b-49dd-4b3f-ac75-6c3bdbb22674",
    "colab": {
     "base_uri": "https://localhost:8080/"
    }
   },
   "id": "4aef009d026516b2"
  },
  {
   "cell_type": "markdown",
   "source": [
    "# Task 2 - Complementary Events\n",
    "Suppose $P(A) = 0.6$, $P(B) = 0.3$, and $P(A \\cap B) = 0.2$. Compute the following probabilities:\n",
    "\n",
    "- a) $P(\\overline{A})$\n",
    "- b) $P(A \\cup B)$\n",
    "- c) $P(\\overline{A \\cup B})$\n",
    "- d) Are $A$ and $B$ mutually exclusive?\n"
   ],
   "metadata": {
    "collapsed": false,
    "id": "4f7753a1c0a49737"
   },
   "id": "4f7753a1c0a49737"
  },
  {
   "cell_type": "markdown",
   "source": [
    "a) Answer:"
   ],
   "metadata": {
    "collapsed": false,
    "id": "bf30c02e7c3d3928"
   },
   "id": "bf30c02e7c3d3928"
  },
  {
   "cell_type": "markdown",
   "source": [
    "b) Answer:"
   ],
   "metadata": {
    "collapsed": false,
    "id": "3be363154a6082df"
   },
   "id": "3be363154a6082df"
  },
  {
   "cell_type": "markdown",
   "source": [
    "c) Answer:"
   ],
   "metadata": {
    "collapsed": false,
    "id": "87d7d059ee72dcfd"
   },
   "id": "87d7d059ee72dcfd"
  },
  {
   "cell_type": "markdown",
   "source": [
    "d) Answer:"
   ],
   "metadata": {
    "collapsed": false,
    "id": "e6739998633b9d9e"
   },
   "id": "e6739998633b9d9e"
  },
  {
   "cell_type": "markdown",
   "source": [
    "# Task 3 - Position Probabilities"
   ],
   "metadata": {
    "collapsed": false,
    "id": "cc07dab47a81a176"
   },
   "id": "cc07dab47a81a176"
  },
  {
   "cell_type": "code",
   "execution_count": null,
   "outputs": [],
   "source": [
    "df"
   ],
   "metadata": {
    "id": "9a4b74434f9104ff",
    "outputId": "24a30c95-a0ca-4c62-e46e-e65c4e8bb448",
    "colab": {
     "base_uri": "https://localhost:8080/",
     "height": 635
    }
   },
   "id": "9a4b74434f9104ff"
  },
  {
   "cell_type": "code",
   "execution_count": null,
   "outputs": [],
   "source": [
    "df = df.dropna()\n",
    "total_players = len(df)\n",
    "\n",
    "pivot_counts = pd.pivot_table(df, index='leagueCountry', columns='position', aggfunc='size')\n",
    "\n",
    "pivot_normalized = pivot_counts / total_players\n",
    "pivot_normalized"
   ],
   "metadata": {
    "id": "72a5bf8c55d88ccf",
    "outputId": "16febd7e-888b-4f41-e822-16dd5bbeaf34",
    "colab": {
     "base_uri": "https://localhost:8080/",
     "height": 206
    }
   },
   "id": "72a5bf8c55d88ccf"
  },
  {
   "cell_type": "markdown",
   "source": [
    "Suppose we select a random player. Consider the following events:\n",
    "- $A$: the player a Defender\n",
    "- $B$: the player is a Forward\n",
    "- $C$: the player is a Goalkeeper\n",
    "- $D$: the player is a Midfielder\n",
    "- $E$: the player is from England\n",
    "\n",
    "Answer the following questions:\n",
    "a) What is the event that the player is a Midfielder from England? What is the probability of this event?"
   ],
   "metadata": {
    "collapsed": false,
    "id": "d1e3bcc965a2c9fe"
   },
   "id": "d1e3bcc965a2c9fe"
  },
  {
   "cell_type": "markdown",
   "source": [
    "a)\n",
    "Answer:"
   ],
   "metadata": {
    "collapsed": false,
    "id": "96ab22b7b2a7ea9e"
   },
   "id": "96ab22b7b2a7ea9e"
  },
  {
   "cell_type": "markdown",
   "source": [
    "b) What is the probability that the player is a Defender OR from England?\n",
    "Answer:"
   ],
   "metadata": {
    "collapsed": false,
    "id": "84c7cdea22d4cc79"
   },
   "id": "84c7cdea22d4cc79"
  },
  {
   "cell_type": "code",
   "execution_count": null,
   "outputs": [],
   "source": [
    "# check with pandas!\n",
    "# probability that a player is a Defender OR from England\n",
    "df[\n",
    "    (df['position'] == 'Defenders')\n",
    "    |\n",
    "    (df['leagueCountry'] == 'England')\n",
    "].shape[0] / total_players"
   ],
   "metadata": {
    "id": "4129a31c595ffdfa",
    "outputId": "8daac96b-fe02-4032-b41f-a504099eb3e2",
    "colab": {
     "base_uri": "https://localhost:8080/"
    }
   },
   "id": "4129a31c595ffdfa"
  },
  {
   "cell_type": "markdown",
   "source": [
    "c) Which events are mutually exclusive?"
   ],
   "metadata": {
    "collapsed": false,
    "id": "a92712d292573dad"
   },
   "id": "a92712d292573dad"
  },
  {
   "cell_type": "markdown",
   "source": [
    "Answer:"
   ],
   "metadata": {
    "collapsed": false,
    "id": "9ba793fae1e17e11"
   },
   "id": "9ba793fae1e17e11"
  },
  {
   "cell_type": "markdown",
   "source": [
    "# Task 4 - Conditional Probability\n",
    "\n",
    "Recall the following from the lecture:\n",
    "\n",
    "Definition 26 (old), 17 (new):\n",
    "$P(A|B) = \\frac{P(A \\cap B)}{P(B)}$ \\, if $P(B) > 0$\n",
    "\n",
    "\n",
    "Theorem 25:\n",
    "1. $P(A) + P(\\overline{A}) = 1$\n",
    "2. $P(\\emptyset) = 0$\n",
    "3. $A \\subseteq B \\implies P(A) \\leq P(B)$\n",
    "4. $P(A \\cup B) = P(A) + P(B) - P(A \\cap B)$\n",
    "5. Let $A_1, A_2, \\dots, A_p$ be mutually exclusive, then holds $P(\\bigcup_{i=1}^p A_i) = \\sum_{i=1}^p P(A_i)$"
   ],
   "metadata": {
    "collapsed": false,
    "id": "fe3ff4f01cd576be"
   },
   "id": "fe3ff4f01cd576be"
  },
  {
   "cell_type": "markdown",
   "source": [
    "Suppose $P(A) = 0.6$, $P(B) = 0.2$ and $P(A \\cup B) = 0.65$. Compute the following probabilities:\n",
    "- a) $P(A \\cap B)$\n",
    "- b) $P(A|B)$\n",
    "- c) $P(B|A)$"
   ],
   "metadata": {
    "collapsed": false,
    "id": "97cf2c1510baca3c"
   },
   "id": "97cf2c1510baca3c"
  },
  {
   "cell_type": "markdown",
   "source": [
    "a) \n",
    "Answer:"
   ],
   "metadata": {
    "collapsed": false,
    "id": "af1120de3f37c05d"
   },
   "id": "af1120de3f37c05d"
  },
  {
   "cell_type": "markdown",
   "source": [
    "b)\n",
    "Answer:"
   ],
   "metadata": {
    "collapsed": false,
    "id": "cab9763706d8be39"
   },
   "id": "cab9763706d8be39"
  },
  {
   "cell_type": "markdown",
   "source": [
    "c)\n",
    "Answer:"
   ],
   "metadata": {
    "collapsed": false,
    "id": "1cc70a864f0fb7d8"
   },
   "id": "1cc70a864f0fb7d8"
  },
  {
   "cell_type": "markdown",
   "source": [
    "# Task 5 - Multiplication Rule\n",
    "\n",
    "Remember the multiplication rule from the lecture (Corollary 29 (new), 19 (old)):\n",
    "$P(A_1 \\cap A_2 \\cap \\dots \\cap A_p) = P(A_1) \\cdot P(A_2|A_1) \\cdot P(A_3|A_1 \\cap A_2) \\cdot \\dots \\cdot P(A_p|A_1 \\cap A_2 \\cap \\dots \\cap A_{p-1})$\n",
    "\n",
    "Use this rule to solve the following problems in Python:"
   ],
   "metadata": {
    "collapsed": false,
    "id": "629140a2dca705f3"
   },
   "id": "629140a2dca705f3"
  },
  {
   "cell_type": "markdown",
   "source": [
    "a) We randomly select two players from the dataset (without replacement). What is the probability that both players are from England? (without replacement)\n",
    "\n",
    "Implement this in Python."
   ],
   "metadata": {
    "collapsed": false,
    "id": "f7eddca4c6c04925"
   },
   "id": "f7eddca4c6c04925"
  },
  {
   "cell_type": "markdown",
   "source": [
    "Hint: We can formulate this as:\n",
    "\n",
    "$P(\\text{both from England}) = P(\\text{first from England}) \\cdot P(\\text{second from England} | \\text{first from England})$"
   ],
   "metadata": {
    "collapsed": false,
    "id": "aef2c2ffc997f314"
   },
   "id": "aef2c2ffc997f314"
  },
  {
   "cell_type": "markdown",
   "source": [
    "b) We randomly select four players from the dataset (without replacement). What is the probability that all four players are from England? Calculate the probability using the actual values from the dataset, then verify the result by simulation."
   ],
   "metadata": {
    "collapsed": false,
    "id": "df0ef8e4a1ea5802"
   },
   "id": "df0ef8e4a1ea5802"
  },
  {
   "cell_type": "code",
   "execution_count": null,
   "outputs": [],
   "source": [],
   "metadata": {
    "id": "8029e441d6290af0",
    "outputId": "a2a38458-3bbd-407d-d6b7-dbd7c8a63dce",
    "colab": {
     "base_uri": "https://localhost:8080/"
    }
   },
   "id": "8029e441d6290af0"
  },
  {
   "cell_type": "code",
   "execution_count": null,
   "outputs": [],
   "source": [
    "# here we simulate the experiment\n",
    "# we try it out on practice and see what result we get\n",
    "NUM_EXPERIMENTS = 100_000\n",
    "\n",
    "counts = []\n",
    "for _ in range(NUM_EXPERIMENTS):\n",
    "    sampled_players = df.sample(4, replace=False)\n",
    "\n",
    "    # check if all players are from England\n",
    "    countries = sampled_players['leagueCountry'].unique()\n",
    "    if len(countries) == 1 and countries[0] == 'England':\n",
    "        counts.append(True)\n",
    "    else:\n",
    "        counts.append(False)\n",
    "\n",
    "experiment_prob = sum(counts) / len(counts)\n",
    "experiment_prob"
   ],
   "metadata": {
    "id": "a6bf6ec359d365f",
    "outputId": "0e7dbc49-2d7d-4cc0-e5c5-1bd404e84ab7",
    "colab": {
     "base_uri": "https://localhost:8080/"
    }
   },
   "id": "a6bf6ec359d365f"
  },
  {
   "cell_type": "markdown",
   "source": [
    "# Task 6 - Bayes' Theorem\n",
    "\n",
    "Remember Bayes' Theorem from the lecture (Theorem 32 (old), 23 (new)):\n",
    "\n",
    "$P(B|A_1, \\dots , A_k) = \\frac{P(B) * P(A_1, \\dots , A_k|B)}{P(A_1, \\dots , A_k)}$\n",
    "\n",
    "$P(B)$ is called **posterior probability**.\n",
    "$P(A_1, \\dots , A_k|B)$ is called **likelihood**."
   ],
   "metadata": {
    "collapsed": false,
    "id": "b1dd3c5cd7b83132"
   },
   "id": "b1dd3c5cd7b83132"
  },
  {
   "cell_type": "markdown",
   "source": [
    "Assume there is a test for a disease that is 99% accurate. That means that the probability of a false positive is 1% and the probability of a false negative is 1%. The probability of having the disease is 0.1%.\n",
    "\n",
    "\n",
    "**What is the probability you have the disease if you tested positive?**"
   ],
   "metadata": {
    "collapsed": false,
    "id": "ac00310f7fef3828"
   },
   "id": "ac00310f7fef3828"
  },
  {
   "cell_type": "markdown",
   "source": [
    "Answer:\n"
   ],
   "metadata": {
    "collapsed": false,
    "id": "183d490fcff73b6c"
   },
   "id": "183d490fcff73b6c"
  },
  {
   "cell_type": "code",
   "execution_count": null,
   "outputs": [],
   "source": [
    "# simulation of this problem\n",
    "NUM_PEOPLE = 1_000_000\n",
    "\n",
    "# generate people, where 0.1% have the disease\n",
    "# bonus: what happens if 1% have the disease? 10%?\n",
    "disease_prob = 0.001\n",
    "people = np.random.choice([0, 1], size=NUM_PEOPLE, p=[1 - disease_prob, disease_prob])\n",
    "\n",
    "def test_person(person):\n",
    "    if person == 1:\n",
    "        # If the person has the disease, 99% chance of a positive test result\n",
    "        return np.random.choice([0, 1], p=[0.01, 0.99])\n",
    "    else:\n",
    "        # If the person does not have the disease, 1% chance of a positive test result\n",
    "        return np.random.choice([0, 1], p=[0.99, 0.01])\n",
    "\n",
    "# apply the test function to all people\n",
    "results = []\n",
    "for p in people:\n",
    "    result = test_person(p)\n",
    "    results.append(result)\n",
    "\n",
    "people_w_positive_test = [(result, person) for result, person in zip(results, people) if result == 1]\n",
    "\n",
    "# calculate how many people have a positive test result AND are sick\n",
    "people_w_positive_and_sick = [(result, person) for result, person in people_w_positive_test if person == 1]\n",
    "\n",
    "# calculate the probability\n",
    "prob_being_sick_given_positive = len(people_w_positive_and_sick) / len(people_w_positive_test)\n",
    "prob_being_sick_given_positive"
   ],
   "metadata": {
    "id": "1306941b27e4a229",
    "outputId": "19257485-e607-42f1-bd8b-df429dd7042f",
    "colab": {
     "base_uri": "https://localhost:8080/"
    }
   },
   "id": "1306941b27e4a229"
  }
 ],
 "metadata": {
  "kernelspec": {
   "display_name": "Python 3",
   "language": "python",
   "name": "python3"
  },
  "language_info": {
   "codemirror_mode": {
    "name": "ipython",
    "version": 2
   },
   "file_extension": ".py",
   "mimetype": "text/x-python",
   "name": "python",
   "nbconvert_exporter": "python",
   "pygments_lexer": "ipython2",
   "version": "2.7.6"
  },
  "colab": {
   "provenance": []
  }
 },
 "nbformat": 4,
 "nbformat_minor": 5
}
