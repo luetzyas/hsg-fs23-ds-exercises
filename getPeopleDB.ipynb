{
 "cells": [
  {
   "cell_type": "code",
   "execution_count": 1,
   "id": "initial_id",
   "metadata": {
    "collapsed": true,
    "ExecuteTime": {
     "end_time": "2023-10-26T09:26:21.811004900Z",
     "start_time": "2023-10-26T09:26:21.002289400Z"
    }
   },
   "outputs": [],
   "source": [
    "import pandas as pd\n",
    "\n",
    "import sqlite3"
   ]
  },
  {
   "cell_type": "code",
   "execution_count": 8,
   "outputs": [
    {
     "data": {
      "text/plain": "        (p.first_name || \" \" || p.last_name)\n0                                 Eloy Sykes\n1                                 Dusti Tate\n2                                Marcus Todd\n3                             Yvone Mcdaniel\n4                              Augustus Bean\n...                                      ...\n9999995                       Michal Swanson\n9999996                          Cassy Watts\n9999997                           Pa Mercado\n9999998                     Grayce Patterson\n9999999                       Lane Frederick\n\n[10000000 rows x 1 columns]",
      "text/html": "<div>\n<style scoped>\n    .dataframe tbody tr th:only-of-type {\n        vertical-align: middle;\n    }\n\n    .dataframe tbody tr th {\n        vertical-align: top;\n    }\n\n    .dataframe thead th {\n        text-align: right;\n    }\n</style>\n<table border=\"1\" class=\"dataframe\">\n  <thead>\n    <tr style=\"text-align: right;\">\n      <th></th>\n      <th>(p.first_name || \" \" || p.last_name)</th>\n    </tr>\n  </thead>\n  <tbody>\n    <tr>\n      <th>0</th>\n      <td>Eloy Sykes</td>\n    </tr>\n    <tr>\n      <th>1</th>\n      <td>Dusti Tate</td>\n    </tr>\n    <tr>\n      <th>2</th>\n      <td>Marcus Todd</td>\n    </tr>\n    <tr>\n      <th>3</th>\n      <td>Yvone Mcdaniel</td>\n    </tr>\n    <tr>\n      <th>4</th>\n      <td>Augustus Bean</td>\n    </tr>\n    <tr>\n      <th>...</th>\n      <td>...</td>\n    </tr>\n    <tr>\n      <th>9999995</th>\n      <td>Michal Swanson</td>\n    </tr>\n    <tr>\n      <th>9999996</th>\n      <td>Cassy Watts</td>\n    </tr>\n    <tr>\n      <th>9999997</th>\n      <td>Pa Mercado</td>\n    </tr>\n    <tr>\n      <th>9999998</th>\n      <td>Grayce Patterson</td>\n    </tr>\n    <tr>\n      <th>9999999</th>\n      <td>Lane Frederick</td>\n    </tr>\n  </tbody>\n</table>\n<p>10000000 rows × 1 columns</p>\n</div>"
     },
     "execution_count": 8,
     "metadata": {},
     "output_type": "execute_result"
    }
   ],
   "source": [
    "# you need to write the query to make it work\n",
    "with sqlite3.connect(\"./people_database.db\") as c:\n",
    "    result = pd.read_sql(\n",
    "        \"\"\"\n",
    "           SELECT (p.first_name || \" \" || p.last_name)\n",
    "             FROM people as p\n",
    "        \"\"\",\n",
    "        c\n",
    "    )\n",
    "result"
   ],
   "metadata": {
    "collapsed": false,
    "ExecuteTime": {
     "end_time": "2023-10-26T09:43:31.296387Z",
     "start_time": "2023-10-26T09:43:24.798226200Z"
    }
   },
   "id": "5bf4ceb53e252fa8"
  },
  {
   "cell_type": "code",
   "execution_count": null,
   "outputs": [],
   "source": [],
   "metadata": {
    "collapsed": false
   },
   "id": "749355968b828c42"
  }
 ],
 "metadata": {
  "kernelspec": {
   "display_name": "Python 3",
   "language": "python",
   "name": "python3"
  },
  "language_info": {
   "codemirror_mode": {
    "name": "ipython",
    "version": 2
   },
   "file_extension": ".py",
   "mimetype": "text/x-python",
   "name": "python",
   "nbconvert_exporter": "python",
   "pygments_lexer": "ipython2",
   "version": "2.7.6"
  }
 },
 "nbformat": 4,
 "nbformat_minor": 5
}
