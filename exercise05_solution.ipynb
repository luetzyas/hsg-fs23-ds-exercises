{
 "cells": [
  {
   "cell_type": "code",
   "execution_count": 1,
   "id": "initial_id",
   "metadata": {
    "collapsed": true,
    "id": "initial_id",
    "ExecuteTime": {
     "end_time": "2023-11-21T13:34:24.810900Z",
     "start_time": "2023-11-21T13:34:23.895476300Z"
    }
   },
   "outputs": [],
   "source": [
    "import pandas as pd\n",
    "import sqlite3\n",
    "\n",
    "import requests  # used later to download additional data\n",
    "\n",
    "# for the progress bar\n",
    "from tqdm.auto import tqdm\n",
    "from pathlib import Path\n",
    "\n",
    "# to measure runtime\n",
    "from time import perf_counter"
   ]
  },
  {
   "cell_type": "markdown",
   "source": [
    "- [`pandas` Cheat Sheet](https://pandas.pydata.org/Pandas_Cheat_Sheet.pdf)\n",
    "- [`matplotlib` Cheat Sheet](https://matplotlib.org/cheatsheets/_images/cheatsheets-1.png)\n",
    "- [SQL Cheat Sheet](https://www.sqltutorial.org/sql-cheat-sheet/)"
   ],
   "metadata": {
    "collapsed": false,
    "id": "dea9712c782bc7bf"
   },
   "id": "dea9712c782bc7bf"
  },
  {
   "cell_type": "markdown",
   "source": [
    "# Loading the data"
   ],
   "metadata": {
    "collapsed": false,
    "id": "10a6c00f800cbd46"
   },
   "id": "10a6c00f800cbd46"
  },
  {
   "cell_type": "code",
   "execution_count": 2,
   "outputs": [
    {
     "data": {
      "text/plain": "     playerShort         player             club leagueCountry    birthday  \\\n0  lucas-wilchez  Lucas Wilchez    Real Zaragoza         Spain  31.08.1983   \n1     john-utaka     John Utaka  Montpellier HSC        France  08.01.1982   \n2    abdon-prats    Abdón Prats     RCD Mallorca         Spain  17.12.1992   \n3     pablo-mari     Pablo Marí     RCD Mallorca         Spain  31.08.1993   \n4     ruben-pena     Rubén Peña  Real Valladolid         Spain  18.07.1991   \n\n   height  weight              position  games  victories  ...  rater2  \\\n0   177.0    72.0  Attacking Midfielder      1          0  ...    0.50   \n1   179.0    82.0          Right Winger      1          0  ...    0.75   \n2   181.0    79.0                   NaN      1          0  ...     NaN   \n3   191.0    87.0           Center Back      1          1  ...     NaN   \n4   172.0    70.0      Right Midfielder      1          1  ...     NaN   \n\n   refNum  refCountry  Alpha_3   meanIAT    nIAT     seIAT   meanExp    nExp  \\\n0       1           1      GRC  0.326391   712.0  0.000564  0.396000   750.0   \n1       2           2      ZMB  0.203375    40.0  0.010875 -0.204082    49.0   \n2       3           3      ESP  0.369894  1785.0  0.000229  0.588297  1897.0   \n3       3           3      ESP  0.369894  1785.0  0.000229  0.588297  1897.0   \n4       3           3      ESP  0.369894  1785.0  0.000229  0.588297  1897.0   \n\n      seExp  \n0  0.002696  \n1  0.061504  \n2  0.001002  \n3  0.001002  \n4  0.001002  \n\n[5 rows x 28 columns]",
      "text/html": "<div>\n<style scoped>\n    .dataframe tbody tr th:only-of-type {\n        vertical-align: middle;\n    }\n\n    .dataframe tbody tr th {\n        vertical-align: top;\n    }\n\n    .dataframe thead th {\n        text-align: right;\n    }\n</style>\n<table border=\"1\" class=\"dataframe\">\n  <thead>\n    <tr style=\"text-align: right;\">\n      <th></th>\n      <th>playerShort</th>\n      <th>player</th>\n      <th>club</th>\n      <th>leagueCountry</th>\n      <th>birthday</th>\n      <th>height</th>\n      <th>weight</th>\n      <th>position</th>\n      <th>games</th>\n      <th>victories</th>\n      <th>...</th>\n      <th>rater2</th>\n      <th>refNum</th>\n      <th>refCountry</th>\n      <th>Alpha_3</th>\n      <th>meanIAT</th>\n      <th>nIAT</th>\n      <th>seIAT</th>\n      <th>meanExp</th>\n      <th>nExp</th>\n      <th>seExp</th>\n    </tr>\n  </thead>\n  <tbody>\n    <tr>\n      <th>0</th>\n      <td>lucas-wilchez</td>\n      <td>Lucas Wilchez</td>\n      <td>Real Zaragoza</td>\n      <td>Spain</td>\n      <td>31.08.1983</td>\n      <td>177.0</td>\n      <td>72.0</td>\n      <td>Attacking Midfielder</td>\n      <td>1</td>\n      <td>0</td>\n      <td>...</td>\n      <td>0.50</td>\n      <td>1</td>\n      <td>1</td>\n      <td>GRC</td>\n      <td>0.326391</td>\n      <td>712.0</td>\n      <td>0.000564</td>\n      <td>0.396000</td>\n      <td>750.0</td>\n      <td>0.002696</td>\n    </tr>\n    <tr>\n      <th>1</th>\n      <td>john-utaka</td>\n      <td>John Utaka</td>\n      <td>Montpellier HSC</td>\n      <td>France</td>\n      <td>08.01.1982</td>\n      <td>179.0</td>\n      <td>82.0</td>\n      <td>Right Winger</td>\n      <td>1</td>\n      <td>0</td>\n      <td>...</td>\n      <td>0.75</td>\n      <td>2</td>\n      <td>2</td>\n      <td>ZMB</td>\n      <td>0.203375</td>\n      <td>40.0</td>\n      <td>0.010875</td>\n      <td>-0.204082</td>\n      <td>49.0</td>\n      <td>0.061504</td>\n    </tr>\n    <tr>\n      <th>2</th>\n      <td>abdon-prats</td>\n      <td>Abdón Prats</td>\n      <td>RCD Mallorca</td>\n      <td>Spain</td>\n      <td>17.12.1992</td>\n      <td>181.0</td>\n      <td>79.0</td>\n      <td>NaN</td>\n      <td>1</td>\n      <td>0</td>\n      <td>...</td>\n      <td>NaN</td>\n      <td>3</td>\n      <td>3</td>\n      <td>ESP</td>\n      <td>0.369894</td>\n      <td>1785.0</td>\n      <td>0.000229</td>\n      <td>0.588297</td>\n      <td>1897.0</td>\n      <td>0.001002</td>\n    </tr>\n    <tr>\n      <th>3</th>\n      <td>pablo-mari</td>\n      <td>Pablo Marí</td>\n      <td>RCD Mallorca</td>\n      <td>Spain</td>\n      <td>31.08.1993</td>\n      <td>191.0</td>\n      <td>87.0</td>\n      <td>Center Back</td>\n      <td>1</td>\n      <td>1</td>\n      <td>...</td>\n      <td>NaN</td>\n      <td>3</td>\n      <td>3</td>\n      <td>ESP</td>\n      <td>0.369894</td>\n      <td>1785.0</td>\n      <td>0.000229</td>\n      <td>0.588297</td>\n      <td>1897.0</td>\n      <td>0.001002</td>\n    </tr>\n    <tr>\n      <th>4</th>\n      <td>ruben-pena</td>\n      <td>Rubén Peña</td>\n      <td>Real Valladolid</td>\n      <td>Spain</td>\n      <td>18.07.1991</td>\n      <td>172.0</td>\n      <td>70.0</td>\n      <td>Right Midfielder</td>\n      <td>1</td>\n      <td>1</td>\n      <td>...</td>\n      <td>NaN</td>\n      <td>3</td>\n      <td>3</td>\n      <td>ESP</td>\n      <td>0.369894</td>\n      <td>1785.0</td>\n      <td>0.000229</td>\n      <td>0.588297</td>\n      <td>1897.0</td>\n      <td>0.001002</td>\n    </tr>\n  </tbody>\n</table>\n<p>5 rows × 28 columns</p>\n</div>"
     },
     "execution_count": 2,
     "metadata": {},
     "output_type": "execute_result"
    }
   ],
   "source": [
    "df = pd.read_csv('https://drive.switch.ch/index.php/s/UEpTFv2Bfa5C1dd/download')\n",
    "df.head()"
   ],
   "metadata": {
    "id": "dbbb55920a066c05",
    "outputId": "38465c16-be40-495e-ee67-cc462ca96e3c",
    "colab": {
     "base_uri": "https://localhost:8080/",
     "height": 342
    },
    "ExecuteTime": {
     "end_time": "2023-11-21T13:34:28.856236500Z",
     "start_time": "2023-11-21T13:34:24.799900200Z"
    }
   },
   "id": "dbbb55920a066c05"
  },
  {
   "cell_type": "markdown",
   "source": [
    "We repeat our simple data cleaning here, by getting rid of all `NaN` values."
   ],
   "metadata": {
    "collapsed": false,
    "id": "942744c46eafe2b7"
   },
   "id": "942744c46eafe2b7"
  },
  {
   "cell_type": "code",
   "execution_count": 3,
   "outputs": [],
   "source": [
    "df = df.dropna()"
   ],
   "metadata": {
    "id": "7d1d63bf868c148c",
    "ExecuteTime": {
     "end_time": "2023-11-21T13:34:29.015759800Z",
     "start_time": "2023-11-21T13:34:28.857235500Z"
    }
   },
   "id": "7d1d63bf868c148c"
  },
  {
   "cell_type": "markdown",
   "source": [
    "We will be using [`sqlalchemy`](https://www.sqlalchemy.org/) here. First we store the data from the DataFrame in a sqlite3 database.\n",
    "\n",
    "You can find an `sqlalchemy` cheat sheet [here](https://www.pythonsheets.com/notes/python-sqlalchemy.html)."
   ],
   "metadata": {
    "collapsed": false,
    "id": "8a56051d600a540f"
   },
   "id": "8a56051d600a540f"
  },
  {
   "cell_type": "code",
   "execution_count": 4,
   "outputs": [
    {
     "name": "stdout",
     "output_type": "stream",
     "text": [
      "dict_keys(['countries', 'crowdstorming'])\n"
     ]
    }
   ],
   "source": [
    "with sqlite3.connect('crowdstorming.db') as c:\n",
    "    df.to_sql('crowdstorming', c, if_exists=\"replace\")\n",
    "\n",
    "from sqlalchemy import create_engine, MetaData\n",
    "\n",
    "engine = create_engine('sqlite:///crowdstorming.db')\n",
    "metadata = MetaData()\n",
    "metadata.reflect(engine)\n",
    "\n",
    "table_names = metadata.tables.keys()\n",
    "print(table_names)"
   ],
   "metadata": {
    "id": "86cb80ef22323e0",
    "outputId": "033655e9-f4fd-46a5-db81-05db80288922",
    "colab": {
     "base_uri": "https://localhost:8080/"
    },
    "ExecuteTime": {
     "start_time": "2023-11-21T13:34:28.906240600Z"
    }
   },
   "id": "86cb80ef22323e0"
  },
  {
   "cell_type": "markdown",
   "source": [
    "# Task 3.1 - Loading additional data\n",
    "\n",
    "To enrich our data we will collect information about the countries. For this we will use an API.\n",
    "\n",
    "- Make a GET request to https://restcountries.com/v3.1/all. You can use the [`requests` library](https://requests.readthedocs.io/en/latest/user/quickstart/) for this.\n",
    "- Create a DataFrame called `countries_df` from the response\n",
    "- Alternative: Load the data from the file `countries.json` (in case the API dies)\n",
    "- You may need either [`pd.DataFrame.from_records`](https://pandas.pydata.org/docs/reference/api/pandas.DataFrame.from_records.html), [`pd.read_json`](https://pandas.pydata.org/docs/reference/api/pandas.read_json.html)."
   ],
   "metadata": {
    "collapsed": false,
    "id": "1b8e4dc72b2d87fd"
   },
   "id": "1b8e4dc72b2d87fd"
  },
  {
   "cell_type": "code",
   "execution_count": 5,
   "outputs": [
    {
     "data": {
      "text/plain": "                                                  name             tld cca2  \\\n0    {'common': 'Burkina Faso', 'official': 'Burkin...           [.bf]   BF   \n1    {'common': 'Hong Kong', 'official': 'Hong Kong...      [.hk, .香港]   HK   \n2    {'common': 'United Arab Emirates', 'official':...  [.ae, امارات.]   AE   \n3    {'common': 'Antigua and Barbuda', 'official': ...           [.ag]   AG   \n4    {'common': 'Comoros', 'official': 'Union of th...           [.km]   KM   \n..                                                 ...             ...  ...   \n245  {'common': 'New Zealand', 'official': 'New Zea...           [.nz]   NZ   \n246  {'common': 'Italy', 'official': 'Italian Repub...           [.it]   IT   \n247  {'common': 'El Salvador', 'official': 'Republi...           [.sv]   SV   \n248  {'common': 'Svalbard and Jan Mayen', 'official...           [.sj]   SJ   \n249  {'common': 'Vanuatu', 'official': 'Republic of...           [.vu]   VU   \n\n    ccn3 cca3 cioc independent               status  unMember  \\\n0    854  BFA  BUR        True  officially-assigned      True   \n1    344  HKG  HKG       False  officially-assigned     False   \n2    784  ARE  UAE        True  officially-assigned      True   \n3    028  ATG  ANT        True  officially-assigned      True   \n4    174  COM  COM        True  officially-assigned      True   \n..   ...  ...  ...         ...                  ...       ...   \n245  554  NZL  NZL        True  officially-assigned      True   \n246  380  ITA  ITA        True  officially-assigned      True   \n247  222  SLV  ESA        True  officially-assigned      True   \n248  744  SJM  NaN       False  officially-assigned     False   \n249  548  VUT  VAN        True  officially-assigned      True   \n\n                                            currencies  ...            gini  \\\n0    {'XOF': {'name': 'West African CFA franc', 'sy...  ...  {'2014': 35.3}   \n1    {'HKD': {'name': 'Hong Kong dollar', 'symbol':...  ...             NaN   \n2    {'AED': {'name': 'United Arab Emirates dirham'...  ...  {'2018': 26.0}   \n3    {'XCD': {'name': 'Eastern Caribbean dollar', '...  ...             NaN   \n4    {'KMF': {'name': 'Comorian franc', 'symbol': '...  ...  {'2014': 45.3}   \n..                                                 ...  ...             ...   \n245  {'NZD': {'name': 'New Zealand dollar', 'symbol...  ...             NaN   \n246           {'EUR': {'name': 'Euro', 'symbol': '€'}}  ...  {'2017': 35.9}   \n247  {'USD': {'name': 'United States dollar', 'symb...  ...  {'2019': 38.8}   \n248         {'NOK': {'name': 'krone', 'symbol': 'kr'}}  ...             NaN   \n249  {'VUV': {'name': 'Vanuatu vatu', 'symbol': 'Vt'}}  ...  {'2010': 37.6}   \n\n    fifa                                  car  \\\n0    BFA   {'signs': ['BF'], 'side': 'right'}   \n1    HKG    {'signs': ['HK'], 'side': 'left'}   \n2    UAE  {'signs': ['UAE'], 'side': 'right'}   \n3    ATG    {'signs': ['AG'], 'side': 'left'}   \n4    COM  {'signs': ['COM'], 'side': 'right'}   \n..   ...                                  ...   \n245  NZL    {'signs': ['NZ'], 'side': 'left'}   \n246  ITA    {'signs': ['I'], 'side': 'right'}   \n247  SLV   {'signs': ['ES'], 'side': 'right'}   \n248  NaN    {'signs': ['N'], 'side': 'right'}   \n249  VAN   {'signs': ['VU'], 'side': 'right'}   \n\n                                             timezones       continents  \\\n0                                                [UTC]         [Africa]   \n1                                          [UTC+08:00]           [Asia]   \n2                                          [UTC+04:00]           [Asia]   \n3                                          [UTC-04:00]  [North America]   \n4                                          [UTC+03:00]         [Africa]   \n..                                                 ...              ...   \n245  [UTC-11:00, UTC-10:00, UTC+12:00, UTC+12:45, U...        [Oceania]   \n246                                        [UTC+01:00]         [Europe]   \n247                                        [UTC-06:00]  [North America]   \n248                                        [UTC+01:00]         [Europe]   \n249                                        [UTC+11:00]        [Oceania]   \n\n                                                 flags  \\\n0    {'png': 'https://flagcdn.com/w320/bf.png', 'sv...   \n1    {'png': 'https://flagcdn.com/w320/hk.png', 'sv...   \n2    {'png': 'https://flagcdn.com/w320/ae.png', 'sv...   \n3    {'png': 'https://flagcdn.com/w320/ag.png', 'sv...   \n4    {'png': 'https://flagcdn.com/w320/km.png', 'sv...   \n..                                                 ...   \n245  {'png': 'https://flagcdn.com/w320/nz.png', 'sv...   \n246  {'png': 'https://flagcdn.com/w320/it.png', 'sv...   \n247  {'png': 'https://flagcdn.com/w320/sv.png', 'sv...   \n248  {'png': 'https://flagcdn.com/w320/sj.png', 'sv...   \n249  {'png': 'https://flagcdn.com/w320/vu.png', 'sv...   \n\n                                            coatOfArms startOfWeek  \\\n0    {'png': 'https://mainfacts.com/media/images/co...      monday   \n1    {'png': 'https://mainfacts.com/media/images/co...      monday   \n2    {'png': 'https://mainfacts.com/media/images/co...      sunday   \n3    {'png': 'https://mainfacts.com/media/images/co...      monday   \n4    {'png': 'https://mainfacts.com/media/images/co...      monday   \n..                                                 ...         ...   \n245  {'png': 'https://mainfacts.com/media/images/co...      monday   \n246  {'png': 'https://mainfacts.com/media/images/co...      monday   \n247  {'png': 'https://mainfacts.com/media/images/co...      monday   \n248                                                 {}      monday   \n249  {'png': 'https://mainfacts.com/media/images/co...      monday   \n\n                       capitalInfo  \\\n0       {'latlng': [12.37, -1.52]}   \n1    {'latlng': [22.267, 114.188]}   \n2       {'latlng': [24.47, 54.37]}   \n3      {'latlng': [17.12, -61.85]}   \n4       {'latlng': [-11.7, 43.23]}   \n..                             ...   \n245    {'latlng': [-41.3, 174.78]}   \n246      {'latlng': [41.9, 12.48]}   \n247      {'latlng': [13.7, -89.2]}   \n248     {'latlng': [78.22, 15.63]}   \n249   {'latlng': [-17.73, 168.32]}   \n\n                                            postalCode  \n0                                                  NaN  \n1                                                  NaN  \n2                                                  NaN  \n3                                                  NaN  \n4                                                  NaN  \n..                                                 ...  \n245           {'format': '####', 'regex': '^(\\d{4})$'}  \n246          {'format': '#####', 'regex': '^(\\d{5})$'}  \n247  {'format': 'CP ####', 'regex': '^(?:CP)*(\\d{4}...  \n248                                                NaN  \n249                                                NaN  \n\n[250 rows x 35 columns]",
      "text/html": "<div>\n<style scoped>\n    .dataframe tbody tr th:only-of-type {\n        vertical-align: middle;\n    }\n\n    .dataframe tbody tr th {\n        vertical-align: top;\n    }\n\n    .dataframe thead th {\n        text-align: right;\n    }\n</style>\n<table border=\"1\" class=\"dataframe\">\n  <thead>\n    <tr style=\"text-align: right;\">\n      <th></th>\n      <th>name</th>\n      <th>tld</th>\n      <th>cca2</th>\n      <th>ccn3</th>\n      <th>cca3</th>\n      <th>cioc</th>\n      <th>independent</th>\n      <th>status</th>\n      <th>unMember</th>\n      <th>currencies</th>\n      <th>...</th>\n      <th>gini</th>\n      <th>fifa</th>\n      <th>car</th>\n      <th>timezones</th>\n      <th>continents</th>\n      <th>flags</th>\n      <th>coatOfArms</th>\n      <th>startOfWeek</th>\n      <th>capitalInfo</th>\n      <th>postalCode</th>\n    </tr>\n  </thead>\n  <tbody>\n    <tr>\n      <th>0</th>\n      <td>{'common': 'Burkina Faso', 'official': 'Burkin...</td>\n      <td>[.bf]</td>\n      <td>BF</td>\n      <td>854</td>\n      <td>BFA</td>\n      <td>BUR</td>\n      <td>True</td>\n      <td>officially-assigned</td>\n      <td>True</td>\n      <td>{'XOF': {'name': 'West African CFA franc', 'sy...</td>\n      <td>...</td>\n      <td>{'2014': 35.3}</td>\n      <td>BFA</td>\n      <td>{'signs': ['BF'], 'side': 'right'}</td>\n      <td>[UTC]</td>\n      <td>[Africa]</td>\n      <td>{'png': 'https://flagcdn.com/w320/bf.png', 'sv...</td>\n      <td>{'png': 'https://mainfacts.com/media/images/co...</td>\n      <td>monday</td>\n      <td>{'latlng': [12.37, -1.52]}</td>\n      <td>NaN</td>\n    </tr>\n    <tr>\n      <th>1</th>\n      <td>{'common': 'Hong Kong', 'official': 'Hong Kong...</td>\n      <td>[.hk, .香港]</td>\n      <td>HK</td>\n      <td>344</td>\n      <td>HKG</td>\n      <td>HKG</td>\n      <td>False</td>\n      <td>officially-assigned</td>\n      <td>False</td>\n      <td>{'HKD': {'name': 'Hong Kong dollar', 'symbol':...</td>\n      <td>...</td>\n      <td>NaN</td>\n      <td>HKG</td>\n      <td>{'signs': ['HK'], 'side': 'left'}</td>\n      <td>[UTC+08:00]</td>\n      <td>[Asia]</td>\n      <td>{'png': 'https://flagcdn.com/w320/hk.png', 'sv...</td>\n      <td>{'png': 'https://mainfacts.com/media/images/co...</td>\n      <td>monday</td>\n      <td>{'latlng': [22.267, 114.188]}</td>\n      <td>NaN</td>\n    </tr>\n    <tr>\n      <th>2</th>\n      <td>{'common': 'United Arab Emirates', 'official':...</td>\n      <td>[.ae, امارات.]</td>\n      <td>AE</td>\n      <td>784</td>\n      <td>ARE</td>\n      <td>UAE</td>\n      <td>True</td>\n      <td>officially-assigned</td>\n      <td>True</td>\n      <td>{'AED': {'name': 'United Arab Emirates dirham'...</td>\n      <td>...</td>\n      <td>{'2018': 26.0}</td>\n      <td>UAE</td>\n      <td>{'signs': ['UAE'], 'side': 'right'}</td>\n      <td>[UTC+04:00]</td>\n      <td>[Asia]</td>\n      <td>{'png': 'https://flagcdn.com/w320/ae.png', 'sv...</td>\n      <td>{'png': 'https://mainfacts.com/media/images/co...</td>\n      <td>sunday</td>\n      <td>{'latlng': [24.47, 54.37]}</td>\n      <td>NaN</td>\n    </tr>\n    <tr>\n      <th>3</th>\n      <td>{'common': 'Antigua and Barbuda', 'official': ...</td>\n      <td>[.ag]</td>\n      <td>AG</td>\n      <td>028</td>\n      <td>ATG</td>\n      <td>ANT</td>\n      <td>True</td>\n      <td>officially-assigned</td>\n      <td>True</td>\n      <td>{'XCD': {'name': 'Eastern Caribbean dollar', '...</td>\n      <td>...</td>\n      <td>NaN</td>\n      <td>ATG</td>\n      <td>{'signs': ['AG'], 'side': 'left'}</td>\n      <td>[UTC-04:00]</td>\n      <td>[North America]</td>\n      <td>{'png': 'https://flagcdn.com/w320/ag.png', 'sv...</td>\n      <td>{'png': 'https://mainfacts.com/media/images/co...</td>\n      <td>monday</td>\n      <td>{'latlng': [17.12, -61.85]}</td>\n      <td>NaN</td>\n    </tr>\n    <tr>\n      <th>4</th>\n      <td>{'common': 'Comoros', 'official': 'Union of th...</td>\n      <td>[.km]</td>\n      <td>KM</td>\n      <td>174</td>\n      <td>COM</td>\n      <td>COM</td>\n      <td>True</td>\n      <td>officially-assigned</td>\n      <td>True</td>\n      <td>{'KMF': {'name': 'Comorian franc', 'symbol': '...</td>\n      <td>...</td>\n      <td>{'2014': 45.3}</td>\n      <td>COM</td>\n      <td>{'signs': ['COM'], 'side': 'right'}</td>\n      <td>[UTC+03:00]</td>\n      <td>[Africa]</td>\n      <td>{'png': 'https://flagcdn.com/w320/km.png', 'sv...</td>\n      <td>{'png': 'https://mainfacts.com/media/images/co...</td>\n      <td>monday</td>\n      <td>{'latlng': [-11.7, 43.23]}</td>\n      <td>NaN</td>\n    </tr>\n    <tr>\n      <th>...</th>\n      <td>...</td>\n      <td>...</td>\n      <td>...</td>\n      <td>...</td>\n      <td>...</td>\n      <td>...</td>\n      <td>...</td>\n      <td>...</td>\n      <td>...</td>\n      <td>...</td>\n      <td>...</td>\n      <td>...</td>\n      <td>...</td>\n      <td>...</td>\n      <td>...</td>\n      <td>...</td>\n      <td>...</td>\n      <td>...</td>\n      <td>...</td>\n      <td>...</td>\n      <td>...</td>\n    </tr>\n    <tr>\n      <th>245</th>\n      <td>{'common': 'New Zealand', 'official': 'New Zea...</td>\n      <td>[.nz]</td>\n      <td>NZ</td>\n      <td>554</td>\n      <td>NZL</td>\n      <td>NZL</td>\n      <td>True</td>\n      <td>officially-assigned</td>\n      <td>True</td>\n      <td>{'NZD': {'name': 'New Zealand dollar', 'symbol...</td>\n      <td>...</td>\n      <td>NaN</td>\n      <td>NZL</td>\n      <td>{'signs': ['NZ'], 'side': 'left'}</td>\n      <td>[UTC-11:00, UTC-10:00, UTC+12:00, UTC+12:45, U...</td>\n      <td>[Oceania]</td>\n      <td>{'png': 'https://flagcdn.com/w320/nz.png', 'sv...</td>\n      <td>{'png': 'https://mainfacts.com/media/images/co...</td>\n      <td>monday</td>\n      <td>{'latlng': [-41.3, 174.78]}</td>\n      <td>{'format': '####', 'regex': '^(\\d{4})$'}</td>\n    </tr>\n    <tr>\n      <th>246</th>\n      <td>{'common': 'Italy', 'official': 'Italian Repub...</td>\n      <td>[.it]</td>\n      <td>IT</td>\n      <td>380</td>\n      <td>ITA</td>\n      <td>ITA</td>\n      <td>True</td>\n      <td>officially-assigned</td>\n      <td>True</td>\n      <td>{'EUR': {'name': 'Euro', 'symbol': '€'}}</td>\n      <td>...</td>\n      <td>{'2017': 35.9}</td>\n      <td>ITA</td>\n      <td>{'signs': ['I'], 'side': 'right'}</td>\n      <td>[UTC+01:00]</td>\n      <td>[Europe]</td>\n      <td>{'png': 'https://flagcdn.com/w320/it.png', 'sv...</td>\n      <td>{'png': 'https://mainfacts.com/media/images/co...</td>\n      <td>monday</td>\n      <td>{'latlng': [41.9, 12.48]}</td>\n      <td>{'format': '#####', 'regex': '^(\\d{5})$'}</td>\n    </tr>\n    <tr>\n      <th>247</th>\n      <td>{'common': 'El Salvador', 'official': 'Republi...</td>\n      <td>[.sv]</td>\n      <td>SV</td>\n      <td>222</td>\n      <td>SLV</td>\n      <td>ESA</td>\n      <td>True</td>\n      <td>officially-assigned</td>\n      <td>True</td>\n      <td>{'USD': {'name': 'United States dollar', 'symb...</td>\n      <td>...</td>\n      <td>{'2019': 38.8}</td>\n      <td>SLV</td>\n      <td>{'signs': ['ES'], 'side': 'right'}</td>\n      <td>[UTC-06:00]</td>\n      <td>[North America]</td>\n      <td>{'png': 'https://flagcdn.com/w320/sv.png', 'sv...</td>\n      <td>{'png': 'https://mainfacts.com/media/images/co...</td>\n      <td>monday</td>\n      <td>{'latlng': [13.7, -89.2]}</td>\n      <td>{'format': 'CP ####', 'regex': '^(?:CP)*(\\d{4}...</td>\n    </tr>\n    <tr>\n      <th>248</th>\n      <td>{'common': 'Svalbard and Jan Mayen', 'official...</td>\n      <td>[.sj]</td>\n      <td>SJ</td>\n      <td>744</td>\n      <td>SJM</td>\n      <td>NaN</td>\n      <td>False</td>\n      <td>officially-assigned</td>\n      <td>False</td>\n      <td>{'NOK': {'name': 'krone', 'symbol': 'kr'}}</td>\n      <td>...</td>\n      <td>NaN</td>\n      <td>NaN</td>\n      <td>{'signs': ['N'], 'side': 'right'}</td>\n      <td>[UTC+01:00]</td>\n      <td>[Europe]</td>\n      <td>{'png': 'https://flagcdn.com/w320/sj.png', 'sv...</td>\n      <td>{}</td>\n      <td>monday</td>\n      <td>{'latlng': [78.22, 15.63]}</td>\n      <td>NaN</td>\n    </tr>\n    <tr>\n      <th>249</th>\n      <td>{'common': 'Vanuatu', 'official': 'Republic of...</td>\n      <td>[.vu]</td>\n      <td>VU</td>\n      <td>548</td>\n      <td>VUT</td>\n      <td>VAN</td>\n      <td>True</td>\n      <td>officially-assigned</td>\n      <td>True</td>\n      <td>{'VUV': {'name': 'Vanuatu vatu', 'symbol': 'Vt'}}</td>\n      <td>...</td>\n      <td>{'2010': 37.6}</td>\n      <td>VAN</td>\n      <td>{'signs': ['VU'], 'side': 'right'}</td>\n      <td>[UTC+11:00]</td>\n      <td>[Oceania]</td>\n      <td>{'png': 'https://flagcdn.com/w320/vu.png', 'sv...</td>\n      <td>{'png': 'https://mainfacts.com/media/images/co...</td>\n      <td>monday</td>\n      <td>{'latlng': [-17.73, 168.32]}</td>\n      <td>NaN</td>\n    </tr>\n  </tbody>\n</table>\n<p>250 rows × 35 columns</p>\n</div>"
     },
     "execution_count": 5,
     "metadata": {},
     "output_type": "execute_result"
    }
   ],
   "source": [
    "with requests.get('https://restcountries.com/v3.1/all') as response:\n",
    "    response_json = response.json()\n",
    "    countries_df = pd.DataFrame.from_records(response_json)\n",
    "\n",
    "countries_df"
   ],
   "metadata": {
    "id": "a22713f2fbe469ae",
    "outputId": "d7eddfd6-7bdc-452c-e41d-c9a0de7169d0",
    "colab": {
     "base_uri": "https://localhost:8080/",
     "height": 1000
    },
    "ExecuteTime": {
     "start_time": "2023-11-21T13:34:30.158302600Z"
    }
   },
   "id": "a22713f2fbe469ae"
  },
  {
   "cell_type": "markdown",
   "source": [
    "# Task 3.2 - Data Cleaning\n",
    "The `name` column contains dictionaries. This makes it annoying for us to work with.\n",
    "Simplify the column by replacing all entries in it with the value in `common` in that dictionary.\n",
    "\n",
    "*Hint*: You did something very similar in Task 1.2 last week!"
   ],
   "metadata": {
    "collapsed": false,
    "id": "98436a242a605b35"
   },
   "id": "98436a242a605b35"
  },
  {
   "cell_type": "code",
   "execution_count": 6,
   "outputs": [
    {
     "data": {
      "text/plain": "               name         tld cca2   ccn3 cca3  independent  \\\n0  French Polynesia       [.pf]   PF  258.0  PYF          0.0   \n1      Saint Martin  [.fr, .gp]   MF  663.0  MAF          0.0   \n2         Venezuela       [.ve]   VE  862.0  VEN          1.0   \n3           Réunion       [.re]   RE  638.0  REU          0.0   \n4       El Salvador       [.sv]   SV  222.0  SLV          1.0   \n\n                status  unMember  \\\n0  officially-assigned     False   \n1  officially-assigned     False   \n2  officially-assigned      True   \n3  officially-assigned     False   \n4  officially-assigned      True   \n\n                                          currencies  \\\n0      {'XPF': {'name': 'CFP franc', 'symbol': '₣'}}   \n1           {'EUR': {'name': 'Euro', 'symbol': '€'}}   \n2  {'VES': {'name': 'Venezuelan bolívar soberano'...   \n3           {'EUR': {'name': 'Euro', 'symbol': '€'}}   \n4  {'USD': {'name': 'United States dollar', 'symb...   \n\n                                  idd  ...       continents  \\\n0  {'root': '+6', 'suffixes': ['89']}  ...        [Oceania]   \n1  {'root': '+5', 'suffixes': ['90']}  ...  [North America]   \n2   {'root': '+5', 'suffixes': ['8']}  ...  [South America]   \n3  {'root': '+2', 'suffixes': ['62']}  ...         [Africa]   \n4  {'root': '+5', 'suffixes': ['03']}  ...  [North America]   \n\n                                               flags  \\\n0  {'png': 'https://flagcdn.com/w320/pf.png', 'sv...   \n1  {'png': 'https://flagcdn.com/w320/mf.png', 'sv...   \n2  {'png': 'https://flagcdn.com/w320/ve.png', 'sv...   \n3  {'png': 'https://flagcdn.com/w320/re.png', 'sv...   \n4  {'png': 'https://flagcdn.com/w320/sv.png', 'sv...   \n\n                                          coatOfArms startOfWeek  \\\n0  {'png': 'https://mainfacts.com/media/images/co...      monday   \n1                                                 {}      monday   \n2  {'png': 'https://mainfacts.com/media/images/co...      monday   \n3                                                 {}      monday   \n4  {'png': 'https://mainfacts.com/media/images/co...      monday   \n\n                     capitalInfo  \\\n0  {'latlng': [-17.53, -149.56]}   \n1    {'latlng': [18.07, -63.08]}   \n2    {'latlng': [10.48, -66.87]}   \n3    {'latlng': [-20.88, 55.45]}   \n4      {'latlng': [13.7, -89.2]}   \n\n                                          postalCode          borders  cioc  \\\n0  {'format': '#####', 'regex': '^((97|98)7\\d{2})$'}              NaN   NaN   \n1                              {'format': '### ###'}            [SXM]   NaN   \n2           {'format': '####', 'regex': '^(\\d{4})$'}  [BRA, COL, GUY]   VEN   \n3  {'format': '#####', 'regex': '^((97|98)(4|7|8)...              NaN   NaN   \n4  {'format': 'CP ####', 'regex': '^(?:CP)*(\\d{4}...       [GTM, HND]   ESA   \n\n             gini fifa  \n0             NaN  NaN  \n1             NaN  NaN  \n2  {'2006': 44.8}  VEN  \n3             NaN  NaN  \n4  {'2019': 38.8}  SLV  \n\n[5 rows x 35 columns]",
      "text/html": "<div>\n<style scoped>\n    .dataframe tbody tr th:only-of-type {\n        vertical-align: middle;\n    }\n\n    .dataframe tbody tr th {\n        vertical-align: top;\n    }\n\n    .dataframe thead th {\n        text-align: right;\n    }\n</style>\n<table border=\"1\" class=\"dataframe\">\n  <thead>\n    <tr style=\"text-align: right;\">\n      <th></th>\n      <th>name</th>\n      <th>tld</th>\n      <th>cca2</th>\n      <th>ccn3</th>\n      <th>cca3</th>\n      <th>independent</th>\n      <th>status</th>\n      <th>unMember</th>\n      <th>currencies</th>\n      <th>idd</th>\n      <th>...</th>\n      <th>continents</th>\n      <th>flags</th>\n      <th>coatOfArms</th>\n      <th>startOfWeek</th>\n      <th>capitalInfo</th>\n      <th>postalCode</th>\n      <th>borders</th>\n      <th>cioc</th>\n      <th>gini</th>\n      <th>fifa</th>\n    </tr>\n  </thead>\n  <tbody>\n    <tr>\n      <th>0</th>\n      <td>French Polynesia</td>\n      <td>[.pf]</td>\n      <td>PF</td>\n      <td>258.0</td>\n      <td>PYF</td>\n      <td>0.0</td>\n      <td>officially-assigned</td>\n      <td>False</td>\n      <td>{'XPF': {'name': 'CFP franc', 'symbol': '₣'}}</td>\n      <td>{'root': '+6', 'suffixes': ['89']}</td>\n      <td>...</td>\n      <td>[Oceania]</td>\n      <td>{'png': 'https://flagcdn.com/w320/pf.png', 'sv...</td>\n      <td>{'png': 'https://mainfacts.com/media/images/co...</td>\n      <td>monday</td>\n      <td>{'latlng': [-17.53, -149.56]}</td>\n      <td>{'format': '#####', 'regex': '^((97|98)7\\d{2})$'}</td>\n      <td>NaN</td>\n      <td>NaN</td>\n      <td>NaN</td>\n      <td>NaN</td>\n    </tr>\n    <tr>\n      <th>1</th>\n      <td>Saint Martin</td>\n      <td>[.fr, .gp]</td>\n      <td>MF</td>\n      <td>663.0</td>\n      <td>MAF</td>\n      <td>0.0</td>\n      <td>officially-assigned</td>\n      <td>False</td>\n      <td>{'EUR': {'name': 'Euro', 'symbol': '€'}}</td>\n      <td>{'root': '+5', 'suffixes': ['90']}</td>\n      <td>...</td>\n      <td>[North America]</td>\n      <td>{'png': 'https://flagcdn.com/w320/mf.png', 'sv...</td>\n      <td>{}</td>\n      <td>monday</td>\n      <td>{'latlng': [18.07, -63.08]}</td>\n      <td>{'format': '### ###'}</td>\n      <td>[SXM]</td>\n      <td>NaN</td>\n      <td>NaN</td>\n      <td>NaN</td>\n    </tr>\n    <tr>\n      <th>2</th>\n      <td>Venezuela</td>\n      <td>[.ve]</td>\n      <td>VE</td>\n      <td>862.0</td>\n      <td>VEN</td>\n      <td>1.0</td>\n      <td>officially-assigned</td>\n      <td>True</td>\n      <td>{'VES': {'name': 'Venezuelan bolívar soberano'...</td>\n      <td>{'root': '+5', 'suffixes': ['8']}</td>\n      <td>...</td>\n      <td>[South America]</td>\n      <td>{'png': 'https://flagcdn.com/w320/ve.png', 'sv...</td>\n      <td>{'png': 'https://mainfacts.com/media/images/co...</td>\n      <td>monday</td>\n      <td>{'latlng': [10.48, -66.87]}</td>\n      <td>{'format': '####', 'regex': '^(\\d{4})$'}</td>\n      <td>[BRA, COL, GUY]</td>\n      <td>VEN</td>\n      <td>{'2006': 44.8}</td>\n      <td>VEN</td>\n    </tr>\n    <tr>\n      <th>3</th>\n      <td>Réunion</td>\n      <td>[.re]</td>\n      <td>RE</td>\n      <td>638.0</td>\n      <td>REU</td>\n      <td>0.0</td>\n      <td>officially-assigned</td>\n      <td>False</td>\n      <td>{'EUR': {'name': 'Euro', 'symbol': '€'}}</td>\n      <td>{'root': '+2', 'suffixes': ['62']}</td>\n      <td>...</td>\n      <td>[Africa]</td>\n      <td>{'png': 'https://flagcdn.com/w320/re.png', 'sv...</td>\n      <td>{}</td>\n      <td>monday</td>\n      <td>{'latlng': [-20.88, 55.45]}</td>\n      <td>{'format': '#####', 'regex': '^((97|98)(4|7|8)...</td>\n      <td>NaN</td>\n      <td>NaN</td>\n      <td>NaN</td>\n      <td>NaN</td>\n    </tr>\n    <tr>\n      <th>4</th>\n      <td>El Salvador</td>\n      <td>[.sv]</td>\n      <td>SV</td>\n      <td>222.0</td>\n      <td>SLV</td>\n      <td>1.0</td>\n      <td>officially-assigned</td>\n      <td>True</td>\n      <td>{'USD': {'name': 'United States dollar', 'symb...</td>\n      <td>{'root': '+5', 'suffixes': ['03']}</td>\n      <td>...</td>\n      <td>[North America]</td>\n      <td>{'png': 'https://flagcdn.com/w320/sv.png', 'sv...</td>\n      <td>{'png': 'https://mainfacts.com/media/images/co...</td>\n      <td>monday</td>\n      <td>{'latlng': [13.7, -89.2]}</td>\n      <td>{'format': 'CP ####', 'regex': '^(?:CP)*(\\d{4}...</td>\n      <td>[GTM, HND]</td>\n      <td>ESA</td>\n      <td>{'2019': 38.8}</td>\n      <td>SLV</td>\n    </tr>\n  </tbody>\n</table>\n<p>5 rows × 35 columns</p>\n</div>"
     },
     "execution_count": 6,
     "metadata": {},
     "output_type": "execute_result"
    }
   ],
   "source": [
    "countries_df = pd.read_json(\n",
    "    \"https://drive.switch.ch/index.php/s/x0zUM0seQqigcU1/download\"\n",
    ")\n",
    "countries_df[\"name\"] = countries_df[\"name\"].map(lambda x: x[\"common\"])\n",
    "countries_df.head()"
   ],
   "metadata": {
    "id": "1737ad741b166d41",
    "outputId": "b3b327e7-3355-497b-ba2b-341c2ff38cf3",
    "colab": {
     "base_uri": "https://localhost:8080/",
     "height": 568
    },
    "ExecuteTime": {
     "start_time": "2023-11-21T13:34:30.895383500Z"
    }
   },
   "id": "1737ad741b166d41"
  },
  {
   "cell_type": "markdown",
   "source": [
    "# Task 3.3 - Joining DataFrames\n",
    "\n",
    "Combine the two DataFrames on the `leagueCountry` column. You can use [`pd.merge`](https://pandas.pydata.org/docs/reference/api/pandas.DataFrame.merge.html) for this.\n",
    "For the DataFrame with the countries, you only need the `name` and `fifa` columns."
   ],
   "metadata": {
    "collapsed": false,
    "id": "fb334d67fa261d16"
   },
   "id": "fb334d67fa261d16"
  },
  {
   "cell_type": "code",
   "execution_count": 7,
   "outputs": [
    {
     "data": {
      "text/plain": "               playerShort              player               club  \\\n0            lucas-wilchez       Lucas Wilchez      Real Zaragoza   \n1               john-utaka          John Utaka    Montpellier HSC   \n2             aaron-hughes        Aaron Hughes          Fulham FC   \n3       aleksandar-kolarov  Aleksandar Kolarov    Manchester City   \n4         alexander-tettey    Alexander Tettey       Norwich City   \n...                    ...                 ...                ...   \n115452     tom-huddlestone     Tom Huddlestone  Tottenham Hotspur   \n115453       tomas-rosicky       Tomáš Rosický         Arsenal FC   \n115454        winston-reid        Winston Reid    West Ham United   \n115455     xherdan-shaqiri     Xherdan Shaqiri     Bayern München   \n115456        zdenk-pospch      Zdeněk Pospěch    1. FSV Mainz 05   \n\n       leagueCountry    birthday  height  weight              position  games  \\\n0              Spain  31.08.1983   177.0    72.0  Attacking Midfielder      1   \n1             France  08.01.1982   179.0    82.0          Right Winger      1   \n2            England  08.11.1979   182.0    71.0           Center Back      1   \n3            England  10.11.1985   187.0    80.0         Left Fullback      1   \n4            England  04.04.1986   180.0    68.0  Defensive Midfielder      1   \n...              ...         ...     ...     ...                   ...    ...   \n115452       England  28.12.1986   188.0    80.0  Defensive Midfielder      1   \n115453       England  04.10.1980   178.0    67.0  Attacking Midfielder      1   \n115454       England  03.07.1988   190.0    87.0           Center Back      1   \n115455       Germany  10.10.1991   169.0    72.0       Left Midfielder      1   \n115456       Germany  14.12.1978   174.0    72.0        Right Fullback      1   \n\n        victories  ...  refCountry  Alpha_3   meanIAT   nIAT     seIAT  \\\n0               0  ...           1      GRC  0.326391  712.0  0.000564   \n1               0  ...           2      ZMB  0.203375   40.0  0.010875   \n2               0  ...           4      LUX  0.325185  127.0  0.003297   \n3               1  ...           4      LUX  0.325185  127.0  0.003297   \n4               0  ...           4      LUX  0.325185  127.0  0.003297   \n...           ...  ...         ...      ...       ...    ...       ...   \n115452          0  ...          21      HUN  0.376127  574.0  0.000714   \n115453          1  ...          21      HUN  0.376127  574.0  0.000714   \n115454          0  ...          21      HUN  0.376127  574.0  0.000714   \n115455          1  ...          21      HUN  0.376127  574.0  0.000714   \n115456          0  ...          21      HUN  0.376127  574.0  0.000714   \n\n         meanExp   nExp     seExp     name  fifa  \n0       0.396000  750.0  0.002696    Spain   ESP  \n1      -0.204082   49.0  0.061504   France   FRA  \n2       0.538462  130.0  0.013752      NaN   NaN  \n3       0.538462  130.0  0.013752      NaN   NaN  \n4       0.538462  130.0  0.013752      NaN   NaN  \n...          ...    ...       ...      ...   ...  \n115452  0.498350  606.0  0.002968      NaN   NaN  \n115453  0.498350  606.0  0.002968      NaN   NaN  \n115454  0.498350  606.0  0.002968      NaN   NaN  \n115455  0.498350  606.0  0.002968  Germany   GER  \n115456  0.498350  606.0  0.002968  Germany   GER  \n\n[115457 rows x 30 columns]",
      "text/html": "<div>\n<style scoped>\n    .dataframe tbody tr th:only-of-type {\n        vertical-align: middle;\n    }\n\n    .dataframe tbody tr th {\n        vertical-align: top;\n    }\n\n    .dataframe thead th {\n        text-align: right;\n    }\n</style>\n<table border=\"1\" class=\"dataframe\">\n  <thead>\n    <tr style=\"text-align: right;\">\n      <th></th>\n      <th>playerShort</th>\n      <th>player</th>\n      <th>club</th>\n      <th>leagueCountry</th>\n      <th>birthday</th>\n      <th>height</th>\n      <th>weight</th>\n      <th>position</th>\n      <th>games</th>\n      <th>victories</th>\n      <th>...</th>\n      <th>refCountry</th>\n      <th>Alpha_3</th>\n      <th>meanIAT</th>\n      <th>nIAT</th>\n      <th>seIAT</th>\n      <th>meanExp</th>\n      <th>nExp</th>\n      <th>seExp</th>\n      <th>name</th>\n      <th>fifa</th>\n    </tr>\n  </thead>\n  <tbody>\n    <tr>\n      <th>0</th>\n      <td>lucas-wilchez</td>\n      <td>Lucas Wilchez</td>\n      <td>Real Zaragoza</td>\n      <td>Spain</td>\n      <td>31.08.1983</td>\n      <td>177.0</td>\n      <td>72.0</td>\n      <td>Attacking Midfielder</td>\n      <td>1</td>\n      <td>0</td>\n      <td>...</td>\n      <td>1</td>\n      <td>GRC</td>\n      <td>0.326391</td>\n      <td>712.0</td>\n      <td>0.000564</td>\n      <td>0.396000</td>\n      <td>750.0</td>\n      <td>0.002696</td>\n      <td>Spain</td>\n      <td>ESP</td>\n    </tr>\n    <tr>\n      <th>1</th>\n      <td>john-utaka</td>\n      <td>John Utaka</td>\n      <td>Montpellier HSC</td>\n      <td>France</td>\n      <td>08.01.1982</td>\n      <td>179.0</td>\n      <td>82.0</td>\n      <td>Right Winger</td>\n      <td>1</td>\n      <td>0</td>\n      <td>...</td>\n      <td>2</td>\n      <td>ZMB</td>\n      <td>0.203375</td>\n      <td>40.0</td>\n      <td>0.010875</td>\n      <td>-0.204082</td>\n      <td>49.0</td>\n      <td>0.061504</td>\n      <td>France</td>\n      <td>FRA</td>\n    </tr>\n    <tr>\n      <th>2</th>\n      <td>aaron-hughes</td>\n      <td>Aaron Hughes</td>\n      <td>Fulham FC</td>\n      <td>England</td>\n      <td>08.11.1979</td>\n      <td>182.0</td>\n      <td>71.0</td>\n      <td>Center Back</td>\n      <td>1</td>\n      <td>0</td>\n      <td>...</td>\n      <td>4</td>\n      <td>LUX</td>\n      <td>0.325185</td>\n      <td>127.0</td>\n      <td>0.003297</td>\n      <td>0.538462</td>\n      <td>130.0</td>\n      <td>0.013752</td>\n      <td>NaN</td>\n      <td>NaN</td>\n    </tr>\n    <tr>\n      <th>3</th>\n      <td>aleksandar-kolarov</td>\n      <td>Aleksandar Kolarov</td>\n      <td>Manchester City</td>\n      <td>England</td>\n      <td>10.11.1985</td>\n      <td>187.0</td>\n      <td>80.0</td>\n      <td>Left Fullback</td>\n      <td>1</td>\n      <td>1</td>\n      <td>...</td>\n      <td>4</td>\n      <td>LUX</td>\n      <td>0.325185</td>\n      <td>127.0</td>\n      <td>0.003297</td>\n      <td>0.538462</td>\n      <td>130.0</td>\n      <td>0.013752</td>\n      <td>NaN</td>\n      <td>NaN</td>\n    </tr>\n    <tr>\n      <th>4</th>\n      <td>alexander-tettey</td>\n      <td>Alexander Tettey</td>\n      <td>Norwich City</td>\n      <td>England</td>\n      <td>04.04.1986</td>\n      <td>180.0</td>\n      <td>68.0</td>\n      <td>Defensive Midfielder</td>\n      <td>1</td>\n      <td>0</td>\n      <td>...</td>\n      <td>4</td>\n      <td>LUX</td>\n      <td>0.325185</td>\n      <td>127.0</td>\n      <td>0.003297</td>\n      <td>0.538462</td>\n      <td>130.0</td>\n      <td>0.013752</td>\n      <td>NaN</td>\n      <td>NaN</td>\n    </tr>\n    <tr>\n      <th>...</th>\n      <td>...</td>\n      <td>...</td>\n      <td>...</td>\n      <td>...</td>\n      <td>...</td>\n      <td>...</td>\n      <td>...</td>\n      <td>...</td>\n      <td>...</td>\n      <td>...</td>\n      <td>...</td>\n      <td>...</td>\n      <td>...</td>\n      <td>...</td>\n      <td>...</td>\n      <td>...</td>\n      <td>...</td>\n      <td>...</td>\n      <td>...</td>\n      <td>...</td>\n      <td>...</td>\n    </tr>\n    <tr>\n      <th>115452</th>\n      <td>tom-huddlestone</td>\n      <td>Tom Huddlestone</td>\n      <td>Tottenham Hotspur</td>\n      <td>England</td>\n      <td>28.12.1986</td>\n      <td>188.0</td>\n      <td>80.0</td>\n      <td>Defensive Midfielder</td>\n      <td>1</td>\n      <td>0</td>\n      <td>...</td>\n      <td>21</td>\n      <td>HUN</td>\n      <td>0.376127</td>\n      <td>574.0</td>\n      <td>0.000714</td>\n      <td>0.498350</td>\n      <td>606.0</td>\n      <td>0.002968</td>\n      <td>NaN</td>\n      <td>NaN</td>\n    </tr>\n    <tr>\n      <th>115453</th>\n      <td>tomas-rosicky</td>\n      <td>Tomáš Rosický</td>\n      <td>Arsenal FC</td>\n      <td>England</td>\n      <td>04.10.1980</td>\n      <td>178.0</td>\n      <td>67.0</td>\n      <td>Attacking Midfielder</td>\n      <td>1</td>\n      <td>1</td>\n      <td>...</td>\n      <td>21</td>\n      <td>HUN</td>\n      <td>0.376127</td>\n      <td>574.0</td>\n      <td>0.000714</td>\n      <td>0.498350</td>\n      <td>606.0</td>\n      <td>0.002968</td>\n      <td>NaN</td>\n      <td>NaN</td>\n    </tr>\n    <tr>\n      <th>115454</th>\n      <td>winston-reid</td>\n      <td>Winston Reid</td>\n      <td>West Ham United</td>\n      <td>England</td>\n      <td>03.07.1988</td>\n      <td>190.0</td>\n      <td>87.0</td>\n      <td>Center Back</td>\n      <td>1</td>\n      <td>0</td>\n      <td>...</td>\n      <td>21</td>\n      <td>HUN</td>\n      <td>0.376127</td>\n      <td>574.0</td>\n      <td>0.000714</td>\n      <td>0.498350</td>\n      <td>606.0</td>\n      <td>0.002968</td>\n      <td>NaN</td>\n      <td>NaN</td>\n    </tr>\n    <tr>\n      <th>115455</th>\n      <td>xherdan-shaqiri</td>\n      <td>Xherdan Shaqiri</td>\n      <td>Bayern München</td>\n      <td>Germany</td>\n      <td>10.10.1991</td>\n      <td>169.0</td>\n      <td>72.0</td>\n      <td>Left Midfielder</td>\n      <td>1</td>\n      <td>1</td>\n      <td>...</td>\n      <td>21</td>\n      <td>HUN</td>\n      <td>0.376127</td>\n      <td>574.0</td>\n      <td>0.000714</td>\n      <td>0.498350</td>\n      <td>606.0</td>\n      <td>0.002968</td>\n      <td>Germany</td>\n      <td>GER</td>\n    </tr>\n    <tr>\n      <th>115456</th>\n      <td>zdenk-pospch</td>\n      <td>Zdeněk Pospěch</td>\n      <td>1. FSV Mainz 05</td>\n      <td>Germany</td>\n      <td>14.12.1978</td>\n      <td>174.0</td>\n      <td>72.0</td>\n      <td>Right Fullback</td>\n      <td>1</td>\n      <td>0</td>\n      <td>...</td>\n      <td>21</td>\n      <td>HUN</td>\n      <td>0.376127</td>\n      <td>574.0</td>\n      <td>0.000714</td>\n      <td>0.498350</td>\n      <td>606.0</td>\n      <td>0.002968</td>\n      <td>Germany</td>\n      <td>GER</td>\n    </tr>\n  </tbody>\n</table>\n<p>115457 rows × 30 columns</p>\n</div>"
     },
     "execution_count": 7,
     "metadata": {},
     "output_type": "execute_result"
    }
   ],
   "source": [
    "pd.merge(\n",
    "    df,\n",
    "    countries_df[[\"name\", \"fifa\"]],\n",
    "    how=\"left\",\n",
    "    left_on=\"leagueCountry\",\n",
    "    right_on=\"name\",\n",
    ")"
   ],
   "metadata": {
    "id": "b99f5a714ed81b19",
    "outputId": "598316c1-c231-411b-ac2a-115497f6f188",
    "colab": {
     "base_uri": "https://localhost:8080/",
     "height": 617
    },
    "ExecuteTime": {
     "start_time": "2023-11-21T13:34:32.290533800Z"
    }
   },
   "id": "b99f5a714ed81b19"
  },
  {
   "cell_type": "markdown",
   "source": [
    "Here is how we can do it with SQLAlchemy.\n",
    "First we save the data from the DataFrame in the database."
   ],
   "metadata": {
    "collapsed": false,
    "id": "5c6223f2dba524e1"
   },
   "id": "5c6223f2dba524e1"
  },
  {
   "cell_type": "code",
   "execution_count": 8,
   "outputs": [
    {
     "name": "stdout",
     "output_type": "stream",
     "text": [
      "[(0, 'French Polynesia', None, 0), (1, 'Saint Martin', None, 0), (2, 'Venezuela', 'VEN', 1), (3, 'Réunion', None, 0), (4, 'El Salvador', 'SLV', 1)]\n"
     ]
    }
   ],
   "source": [
    "from sqlalchemy.orm import sessionmaker\n",
    "\n",
    "with sqlite3.connect(\"./crowdstorming.db\") as c:\n",
    "    countries_df[[\"name\", \"fifa\", \"unMember\"]].to_sql(\n",
    "        \"countries\", c, if_exists=\"replace\"\n",
    "    )\n",
    "\n",
    "metadata = MetaData()\n",
    "metadata.reflect(engine)\n",
    "countries_table = metadata.tables[\"countries\"]\n",
    "crowdstorming_table = metadata.tables[\"crowdstorming\"]\n",
    "Session = sessionmaker(bind=engine)\n",
    "session = Session()\n",
    "results = session.query(countries_table).all()\n",
    "print(results[:5])"
   ],
   "metadata": {
    "id": "3c27e680ca717e8e",
    "outputId": "899193a3-4b80-459e-ad90-671a3ae00b28",
    "colab": {
     "base_uri": "https://localhost:8080/"
    },
    "ExecuteTime": {
     "start_time": "2023-11-21T13:34:32.385048200Z"
    }
   },
   "id": "3c27e680ca717e8e"
  },
  {
   "cell_type": "markdown",
   "source": [
    "Then we do the join, but with SQLAlchemy."
   ],
   "metadata": {
    "collapsed": false,
    "id": "1252f3e6b6b4f960"
   },
   "id": "1252f3e6b6b4f960"
  },
  {
   "cell_type": "code",
   "execution_count": 9,
   "outputs": [
    {
     "data": {
      "text/plain": "84358"
     },
     "execution_count": 9,
     "metadata": {},
     "output_type": "execute_result"
    }
   ],
   "source": [
    "results = (\n",
    "    session\n",
    "    .query(\n",
    "        crowdstorming_table.c,\n",
    "        countries_table.c.fifa\n",
    "    )\n",
    "    .join(\n",
    "        countries_table,\n",
    "        crowdstorming_table.c.leagueCountry == countries_table.c.name\n",
    "    )\n",
    "    .all()\n",
    ")\n",
    "len(results)"
   ],
   "metadata": {
    "id": "c6cd0e5dd4705db3",
    "outputId": "7bacc455-92c6-417c-8508-e676d9e19af4",
    "colab": {
     "base_uri": "https://localhost:8080/"
    },
    "ExecuteTime": {
     "start_time": "2023-11-21T13:34:32.564097300Z"
    }
   },
   "id": "c6cd0e5dd4705db3"
  },
  {
   "cell_type": "markdown",
   "source": [
    "# Task 4 - Joining crowdstorming data and country data with SQL\n",
    "\n",
    "Select all columns from the `crowdstorming` table, and `fifa` and `name` columns from the `countries` table.\n",
    "Then join the two tables on the `leagueCountry` column of the `crowdstorming` table and the `name` column of the `countries` table.\n",
    "\n",
    "What JOIN do you need to replicate the results of task 3.3?\n",
    "\n",
    "First we save the data from the DataFrame in the database."
   ],
   "metadata": {
    "collapsed": false,
    "id": "1ff87928f649205e"
   },
   "id": "1ff87928f649205e"
  },
  {
   "cell_type": "code",
   "execution_count": 10,
   "outputs": [],
   "source": [
    "with sqlite3.connect(\"./crowdstorming.db\") as c:\n",
    "    countries_df[[\"name\", \"fifa\", \"unMember\"]].to_sql(\n",
    "        \"countries\", c, if_exists=\"replace\"\n",
    "    )"
   ],
   "metadata": {
    "id": "f551d805b57e390c",
    "ExecuteTime": {
     "start_time": "2023-11-21T13:34:33.875601500Z"
    }
   },
   "id": "f551d805b57e390c"
  },
  {
   "cell_type": "markdown",
   "source": [
    "\n",
    "Then we can do the query.\n"
   ],
   "metadata": {
    "collapsed": false,
    "id": "4aea15d466f30cae"
   },
   "id": "4aea15d466f30cae"
  },
  {
   "cell_type": "code",
   "execution_count": 11,
   "outputs": [
    {
     "data": {
      "text/plain": "         index         playerShort              player               club  \\\n0            0       lucas-wilchez       Lucas Wilchez      Real Zaragoza   \n1            1          john-utaka          John Utaka    Montpellier HSC   \n2            5        aaron-hughes        Aaron Hughes          Fulham FC   \n3            6  aleksandar-kolarov  Aleksandar Kolarov    Manchester City   \n4            7    alexander-tettey    Alexander Tettey       Norwich City   \n...        ...                 ...                 ...                ...   \n115452  146022     tom-huddlestone     Tom Huddlestone  Tottenham Hotspur   \n115453  146023       tomas-rosicky       Tomáš Rosický         Arsenal FC   \n115454  146024        winston-reid        Winston Reid    West Ham United   \n115455  146025     xherdan-shaqiri     Xherdan Shaqiri     Bayern München   \n115456  146027        zdenk-pospch      Zdeněk Pospěch    1. FSV Mainz 05   \n\n       leagueCountry    birthday  height  weight              position  games  \\\n0              Spain  31.08.1983   177.0    72.0  Attacking Midfielder      1   \n1             France  08.01.1982   179.0    82.0          Right Winger      1   \n2            England  08.11.1979   182.0    71.0           Center Back      1   \n3            England  10.11.1985   187.0    80.0         Left Fullback      1   \n4            England  04.04.1986   180.0    68.0  Defensive Midfielder      1   \n...              ...         ...     ...     ...                   ...    ...   \n115452       England  28.12.1986   188.0    80.0  Defensive Midfielder      1   \n115453       England  04.10.1980   178.0    67.0  Attacking Midfielder      1   \n115454       England  03.07.1988   190.0    87.0           Center Back      1   \n115455       Germany  10.10.1991   169.0    72.0       Left Midfielder      1   \n115456       Germany  14.12.1978   174.0    72.0        Right Fullback      1   \n\n        ...  refCountry  Alpha_3   meanIAT   nIAT     seIAT   meanExp   nExp  \\\n0       ...           1      GRC  0.326391  712.0  0.000564  0.396000  750.0   \n1       ...           2      ZMB  0.203375   40.0  0.010875 -0.204082   49.0   \n2       ...           4      LUX  0.325185  127.0  0.003297  0.538462  130.0   \n3       ...           4      LUX  0.325185  127.0  0.003297  0.538462  130.0   \n4       ...           4      LUX  0.325185  127.0  0.003297  0.538462  130.0   \n...     ...         ...      ...       ...    ...       ...       ...    ...   \n115452  ...          21      HUN  0.376127  574.0  0.000714  0.498350  606.0   \n115453  ...          21      HUN  0.376127  574.0  0.000714  0.498350  606.0   \n115454  ...          21      HUN  0.376127  574.0  0.000714  0.498350  606.0   \n115455  ...          21      HUN  0.376127  574.0  0.000714  0.498350  606.0   \n115456  ...          21      HUN  0.376127  574.0  0.000714  0.498350  606.0   \n\n           seExp     name  fifa  \n0       0.002696    Spain   ESP  \n1       0.061504   France   FRA  \n2       0.013752     None  None  \n3       0.013752     None  None  \n4       0.013752     None  None  \n...          ...      ...   ...  \n115452  0.002968     None  None  \n115453  0.002968     None  None  \n115454  0.002968     None  None  \n115455  0.002968  Germany   GER  \n115456  0.002968  Germany   GER  \n\n[115457 rows x 31 columns]",
      "text/html": "<div>\n<style scoped>\n    .dataframe tbody tr th:only-of-type {\n        vertical-align: middle;\n    }\n\n    .dataframe tbody tr th {\n        vertical-align: top;\n    }\n\n    .dataframe thead th {\n        text-align: right;\n    }\n</style>\n<table border=\"1\" class=\"dataframe\">\n  <thead>\n    <tr style=\"text-align: right;\">\n      <th></th>\n      <th>index</th>\n      <th>playerShort</th>\n      <th>player</th>\n      <th>club</th>\n      <th>leagueCountry</th>\n      <th>birthday</th>\n      <th>height</th>\n      <th>weight</th>\n      <th>position</th>\n      <th>games</th>\n      <th>...</th>\n      <th>refCountry</th>\n      <th>Alpha_3</th>\n      <th>meanIAT</th>\n      <th>nIAT</th>\n      <th>seIAT</th>\n      <th>meanExp</th>\n      <th>nExp</th>\n      <th>seExp</th>\n      <th>name</th>\n      <th>fifa</th>\n    </tr>\n  </thead>\n  <tbody>\n    <tr>\n      <th>0</th>\n      <td>0</td>\n      <td>lucas-wilchez</td>\n      <td>Lucas Wilchez</td>\n      <td>Real Zaragoza</td>\n      <td>Spain</td>\n      <td>31.08.1983</td>\n      <td>177.0</td>\n      <td>72.0</td>\n      <td>Attacking Midfielder</td>\n      <td>1</td>\n      <td>...</td>\n      <td>1</td>\n      <td>GRC</td>\n      <td>0.326391</td>\n      <td>712.0</td>\n      <td>0.000564</td>\n      <td>0.396000</td>\n      <td>750.0</td>\n      <td>0.002696</td>\n      <td>Spain</td>\n      <td>ESP</td>\n    </tr>\n    <tr>\n      <th>1</th>\n      <td>1</td>\n      <td>john-utaka</td>\n      <td>John Utaka</td>\n      <td>Montpellier HSC</td>\n      <td>France</td>\n      <td>08.01.1982</td>\n      <td>179.0</td>\n      <td>82.0</td>\n      <td>Right Winger</td>\n      <td>1</td>\n      <td>...</td>\n      <td>2</td>\n      <td>ZMB</td>\n      <td>0.203375</td>\n      <td>40.0</td>\n      <td>0.010875</td>\n      <td>-0.204082</td>\n      <td>49.0</td>\n      <td>0.061504</td>\n      <td>France</td>\n      <td>FRA</td>\n    </tr>\n    <tr>\n      <th>2</th>\n      <td>5</td>\n      <td>aaron-hughes</td>\n      <td>Aaron Hughes</td>\n      <td>Fulham FC</td>\n      <td>England</td>\n      <td>08.11.1979</td>\n      <td>182.0</td>\n      <td>71.0</td>\n      <td>Center Back</td>\n      <td>1</td>\n      <td>...</td>\n      <td>4</td>\n      <td>LUX</td>\n      <td>0.325185</td>\n      <td>127.0</td>\n      <td>0.003297</td>\n      <td>0.538462</td>\n      <td>130.0</td>\n      <td>0.013752</td>\n      <td>None</td>\n      <td>None</td>\n    </tr>\n    <tr>\n      <th>3</th>\n      <td>6</td>\n      <td>aleksandar-kolarov</td>\n      <td>Aleksandar Kolarov</td>\n      <td>Manchester City</td>\n      <td>England</td>\n      <td>10.11.1985</td>\n      <td>187.0</td>\n      <td>80.0</td>\n      <td>Left Fullback</td>\n      <td>1</td>\n      <td>...</td>\n      <td>4</td>\n      <td>LUX</td>\n      <td>0.325185</td>\n      <td>127.0</td>\n      <td>0.003297</td>\n      <td>0.538462</td>\n      <td>130.0</td>\n      <td>0.013752</td>\n      <td>None</td>\n      <td>None</td>\n    </tr>\n    <tr>\n      <th>4</th>\n      <td>7</td>\n      <td>alexander-tettey</td>\n      <td>Alexander Tettey</td>\n      <td>Norwich City</td>\n      <td>England</td>\n      <td>04.04.1986</td>\n      <td>180.0</td>\n      <td>68.0</td>\n      <td>Defensive Midfielder</td>\n      <td>1</td>\n      <td>...</td>\n      <td>4</td>\n      <td>LUX</td>\n      <td>0.325185</td>\n      <td>127.0</td>\n      <td>0.003297</td>\n      <td>0.538462</td>\n      <td>130.0</td>\n      <td>0.013752</td>\n      <td>None</td>\n      <td>None</td>\n    </tr>\n    <tr>\n      <th>...</th>\n      <td>...</td>\n      <td>...</td>\n      <td>...</td>\n      <td>...</td>\n      <td>...</td>\n      <td>...</td>\n      <td>...</td>\n      <td>...</td>\n      <td>...</td>\n      <td>...</td>\n      <td>...</td>\n      <td>...</td>\n      <td>...</td>\n      <td>...</td>\n      <td>...</td>\n      <td>...</td>\n      <td>...</td>\n      <td>...</td>\n      <td>...</td>\n      <td>...</td>\n      <td>...</td>\n    </tr>\n    <tr>\n      <th>115452</th>\n      <td>146022</td>\n      <td>tom-huddlestone</td>\n      <td>Tom Huddlestone</td>\n      <td>Tottenham Hotspur</td>\n      <td>England</td>\n      <td>28.12.1986</td>\n      <td>188.0</td>\n      <td>80.0</td>\n      <td>Defensive Midfielder</td>\n      <td>1</td>\n      <td>...</td>\n      <td>21</td>\n      <td>HUN</td>\n      <td>0.376127</td>\n      <td>574.0</td>\n      <td>0.000714</td>\n      <td>0.498350</td>\n      <td>606.0</td>\n      <td>0.002968</td>\n      <td>None</td>\n      <td>None</td>\n    </tr>\n    <tr>\n      <th>115453</th>\n      <td>146023</td>\n      <td>tomas-rosicky</td>\n      <td>Tomáš Rosický</td>\n      <td>Arsenal FC</td>\n      <td>England</td>\n      <td>04.10.1980</td>\n      <td>178.0</td>\n      <td>67.0</td>\n      <td>Attacking Midfielder</td>\n      <td>1</td>\n      <td>...</td>\n      <td>21</td>\n      <td>HUN</td>\n      <td>0.376127</td>\n      <td>574.0</td>\n      <td>0.000714</td>\n      <td>0.498350</td>\n      <td>606.0</td>\n      <td>0.002968</td>\n      <td>None</td>\n      <td>None</td>\n    </tr>\n    <tr>\n      <th>115454</th>\n      <td>146024</td>\n      <td>winston-reid</td>\n      <td>Winston Reid</td>\n      <td>West Ham United</td>\n      <td>England</td>\n      <td>03.07.1988</td>\n      <td>190.0</td>\n      <td>87.0</td>\n      <td>Center Back</td>\n      <td>1</td>\n      <td>...</td>\n      <td>21</td>\n      <td>HUN</td>\n      <td>0.376127</td>\n      <td>574.0</td>\n      <td>0.000714</td>\n      <td>0.498350</td>\n      <td>606.0</td>\n      <td>0.002968</td>\n      <td>None</td>\n      <td>None</td>\n    </tr>\n    <tr>\n      <th>115455</th>\n      <td>146025</td>\n      <td>xherdan-shaqiri</td>\n      <td>Xherdan Shaqiri</td>\n      <td>Bayern München</td>\n      <td>Germany</td>\n      <td>10.10.1991</td>\n      <td>169.0</td>\n      <td>72.0</td>\n      <td>Left Midfielder</td>\n      <td>1</td>\n      <td>...</td>\n      <td>21</td>\n      <td>HUN</td>\n      <td>0.376127</td>\n      <td>574.0</td>\n      <td>0.000714</td>\n      <td>0.498350</td>\n      <td>606.0</td>\n      <td>0.002968</td>\n      <td>Germany</td>\n      <td>GER</td>\n    </tr>\n    <tr>\n      <th>115456</th>\n      <td>146027</td>\n      <td>zdenk-pospch</td>\n      <td>Zdeněk Pospěch</td>\n      <td>1. FSV Mainz 05</td>\n      <td>Germany</td>\n      <td>14.12.1978</td>\n      <td>174.0</td>\n      <td>72.0</td>\n      <td>Right Fullback</td>\n      <td>1</td>\n      <td>...</td>\n      <td>21</td>\n      <td>HUN</td>\n      <td>0.376127</td>\n      <td>574.0</td>\n      <td>0.000714</td>\n      <td>0.498350</td>\n      <td>606.0</td>\n      <td>0.002968</td>\n      <td>Germany</td>\n      <td>GER</td>\n    </tr>\n  </tbody>\n</table>\n<p>115457 rows × 31 columns</p>\n</div>"
     },
     "execution_count": 11,
     "metadata": {},
     "output_type": "execute_result"
    }
   ],
   "source": [
    "with sqlite3.connect(\"./crowdstorming.db\") as c:\n",
    "    result = pd.read_sql(\n",
    "        \"\"\"\n",
    "        SELECT crowdstorming.*, countries.name, countries.fifa\n",
    "        FROM crowdstorming\n",
    "        LEFT OUTER JOIN countries ON crowdstorming.leagueCountry = countries.name\n",
    "        \"\"\",\n",
    "        c,\n",
    "    )\n",
    "result"
   ],
   "metadata": {
    "id": "1bea08eb40ad1f66",
    "outputId": "5765a2a5-1ad2-470e-cb03-ae50fbd08a57",
    "colab": {
     "base_uri": "https://localhost:8080/",
     "height": 617
    },
    "ExecuteTime": {
     "start_time": "2023-11-21T13:34:33.906658300Z"
    }
   },
   "id": "1bea08eb40ad1f66"
  },
  {
   "cell_type": "markdown",
   "source": [
    "And here is how we can do the same with SQLAlchemy."
   ],
   "metadata": {
    "collapsed": false,
    "id": "269b8a099aedfb57"
   },
   "id": "269b8a099aedfb57"
  },
  {
   "cell_type": "code",
   "execution_count": 12,
   "outputs": [
    {
     "name": "stdout",
     "output_type": "stream",
     "text": [
      "(0, 'lucas-wilchez', 'Lucas Wilchez', 'Real Zaragoza', 'Spain', '31.08.1983', 177.0, 72.0, 'Attacking Midfielder', 1, 0, 0, 1, 0, 0, 0, 0, '95212.jpg', 0.25, 0.5, 1, 1, 'GRC', 0.326391469021736, 712.0, 0.0005641123543345, 0.396, 750.0, 0.0026964901062936, 'Spain', 'ESP')\n"
     ]
    }
   ],
   "source": [
    "results = (\n",
    "    session\n",
    "    .query(\n",
    "        crowdstorming_table.c,\n",
    "        countries_table.c.name,\n",
    "        countries_table.c.fifa,\n",
    "    )\n",
    "    .join(\n",
    "        countries_table,\n",
    "        crowdstorming_table.c.leagueCountry == countries_table.c.name,\n",
    "        isouter=True\n",
    "    )\n",
    "    .all()\n",
    ")\n",
    "print(results[0])"
   ],
   "metadata": {
    "id": "8903eef9314dfc66",
    "outputId": "7e90cf1b-07d4-4bd8-8f05-c43c355a8004",
    "colab": {
     "base_uri": "https://localhost:8080/"
    },
    "ExecuteTime": {
     "start_time": "2023-11-21T13:34:35.594616900Z"
    }
   },
   "id": "8903eef9314dfc66"
  },
  {
   "cell_type": "markdown",
   "source": [
    "# Task 5 - Calculating the mean\n",
    "\n",
    "Calculate the mean height and weight of each player in the database.\n",
    "\n",
    "*Hint*: Check the SQL Aggregate Functions sections in the sidebar in the [cheat sheet](https://www.sqltutorial.org/sql-cheat-sheet/)."
   ],
   "metadata": {
    "collapsed": false,
    "id": "427ba4b227ce9b22"
   },
   "id": "427ba4b227ce9b22"
  },
  {
   "cell_type": "code",
   "source": [
    "with sqlite3.connect(\"./crowdstorming.db\") as c:\n",
    "    result = pd.read_sql(\n",
    "        \"\"\"\n",
    "        SELECT AVG(height), AVG(weight)\n",
    "        FROM crowdstorming\n",
    "        \"\"\",\n",
    "        c\n",
    "    )\n",
    "result"
   ],
   "metadata": {
    "id": "uoMGcfPuk1pB",
    "outputId": "2db988a0-7bf7-44d0-f180-f0c6f64c2c22",
    "colab": {
     "base_uri": "https://localhost:8080/",
     "height": 81
    },
    "ExecuteTime": {
     "start_time": "2023-11-21T13:34:36.711386600Z"
    }
   },
   "id": "uoMGcfPuk1pB",
   "execution_count": 13,
   "outputs": [
    {
     "data": {
      "text/plain": "   AVG(height)  AVG(weight)\n0   182.176135    76.517413",
      "text/html": "<div>\n<style scoped>\n    .dataframe tbody tr th:only-of-type {\n        vertical-align: middle;\n    }\n\n    .dataframe tbody tr th {\n        vertical-align: top;\n    }\n\n    .dataframe thead th {\n        text-align: right;\n    }\n</style>\n<table border=\"1\" class=\"dataframe\">\n  <thead>\n    <tr style=\"text-align: right;\">\n      <th></th>\n      <th>AVG(height)</th>\n      <th>AVG(weight)</th>\n    </tr>\n  </thead>\n  <tbody>\n    <tr>\n      <th>0</th>\n      <td>182.176135</td>\n      <td>76.517413</td>\n    </tr>\n  </tbody>\n</table>\n</div>"
     },
     "execution_count": 13,
     "metadata": {},
     "output_type": "execute_result"
    }
   ]
  },
  {
   "cell_type": "markdown",
   "source": [
    "Now repeat this, but on the DataFrame. Are the results the same?"
   ],
   "metadata": {
    "collapsed": false,
    "id": "9c42f1fe6fc96d3"
   },
   "id": "9c42f1fe6fc96d3"
  },
  {
   "cell_type": "code",
   "execution_count": 14,
   "outputs": [
    {
     "data": {
      "text/plain": "height    182.176135\nweight     76.517413\ndtype: float64"
     },
     "execution_count": 14,
     "metadata": {},
     "output_type": "execute_result"
    }
   ],
   "source": [
    "df[['height', 'weight']].mean()"
   ],
   "metadata": {
    "id": "9b9ecdbc542e28c9",
    "outputId": "2426d1c0-fd84-4707-bdee-5045d15a6b9f",
    "colab": {
     "base_uri": "https://localhost:8080/"
    },
    "ExecuteTime": {
     "start_time": "2023-11-21T13:34:36.761606400Z"
    }
   },
   "id": "9b9ecdbc542e28c9"
  },
  {
   "cell_type": "markdown",
   "source": [
    "And the solution with SQLAlchemy:"
   ],
   "metadata": {
    "collapsed": false,
    "id": "63daecd56d311f39"
   },
   "id": "63daecd56d311f39"
  },
  {
   "cell_type": "code",
   "execution_count": 15,
   "outputs": [
    {
     "name": "stdout",
     "output_type": "stream",
     "text": [
      "[(182.17613483807824, 76.51741340932122)]\n"
     ]
    }
   ],
   "source": [
    "from sqlalchemy import func\n",
    "# calculate the mean height and weight in the database\n",
    "results = session.query(\n",
    "    func.avg(crowdstorming_table.c.height),\n",
    "    func.avg(crowdstorming_table.c.weight)\n",
    ").all()\n",
    "\n",
    "print(results)"
   ],
   "metadata": {
    "id": "2429c5a8b6a2867",
    "outputId": "dcbec449-8499-4261-cf4c-222d09665b69",
    "colab": {
     "base_uri": "https://localhost:8080/"
    },
    "ExecuteTime": {
     "start_time": "2023-11-21T13:34:36.775604900Z"
    }
   },
   "id": "2429c5a8b6a2867"
  },
  {
   "cell_type": "markdown",
   "source": [
    "# Task 6 - Calculating the mean per position\n",
    "\n",
    "Calculate the mean height and weight of each player per position in the database.\n",
    "\n",
    "*Hint*: Remember how to do this in pandas. Then check the [cheat sheet](https://www.sqltutorial.org/sql-cheat-sheet/) if there is something similar in SQL."
   ],
   "metadata": {
    "collapsed": false,
    "id": "5a4f21e7e48891b0"
   },
   "id": "5a4f21e7e48891b0"
  },
  {
   "cell_type": "code",
   "execution_count": 16,
   "outputs": [
    {
     "data": {
      "text/plain": "                position  AVG(height)  AVG(weight)\n0   Attacking Midfielder   177.547457    72.120387\n1            Center Back   187.258714    80.817530\n2         Center Forward   183.354108    77.769815\n3      Center Midfielder   180.631655    74.969339\n4   Defensive Midfielder   181.404502    75.278369\n5             Goalkeeper   189.847237    84.549437\n6          Left Fullback   179.579545    74.815508\n7        Left Midfielder   176.942494    70.929285\n8            Left Winger   179.196087    73.800356\n9         Right Fullback   179.767063    74.262307\n10      Right Midfielder   176.354720    70.810758\n11          Right Winger   177.538147    73.053134",
      "text/html": "<div>\n<style scoped>\n    .dataframe tbody tr th:only-of-type {\n        vertical-align: middle;\n    }\n\n    .dataframe tbody tr th {\n        vertical-align: top;\n    }\n\n    .dataframe thead th {\n        text-align: right;\n    }\n</style>\n<table border=\"1\" class=\"dataframe\">\n  <thead>\n    <tr style=\"text-align: right;\">\n      <th></th>\n      <th>position</th>\n      <th>AVG(height)</th>\n      <th>AVG(weight)</th>\n    </tr>\n  </thead>\n  <tbody>\n    <tr>\n      <th>0</th>\n      <td>Attacking Midfielder</td>\n      <td>177.547457</td>\n      <td>72.120387</td>\n    </tr>\n    <tr>\n      <th>1</th>\n      <td>Center Back</td>\n      <td>187.258714</td>\n      <td>80.817530</td>\n    </tr>\n    <tr>\n      <th>2</th>\n      <td>Center Forward</td>\n      <td>183.354108</td>\n      <td>77.769815</td>\n    </tr>\n    <tr>\n      <th>3</th>\n      <td>Center Midfielder</td>\n      <td>180.631655</td>\n      <td>74.969339</td>\n    </tr>\n    <tr>\n      <th>4</th>\n      <td>Defensive Midfielder</td>\n      <td>181.404502</td>\n      <td>75.278369</td>\n    </tr>\n    <tr>\n      <th>5</th>\n      <td>Goalkeeper</td>\n      <td>189.847237</td>\n      <td>84.549437</td>\n    </tr>\n    <tr>\n      <th>6</th>\n      <td>Left Fullback</td>\n      <td>179.579545</td>\n      <td>74.815508</td>\n    </tr>\n    <tr>\n      <th>7</th>\n      <td>Left Midfielder</td>\n      <td>176.942494</td>\n      <td>70.929285</td>\n    </tr>\n    <tr>\n      <th>8</th>\n      <td>Left Winger</td>\n      <td>179.196087</td>\n      <td>73.800356</td>\n    </tr>\n    <tr>\n      <th>9</th>\n      <td>Right Fullback</td>\n      <td>179.767063</td>\n      <td>74.262307</td>\n    </tr>\n    <tr>\n      <th>10</th>\n      <td>Right Midfielder</td>\n      <td>176.354720</td>\n      <td>70.810758</td>\n    </tr>\n    <tr>\n      <th>11</th>\n      <td>Right Winger</td>\n      <td>177.538147</td>\n      <td>73.053134</td>\n    </tr>\n  </tbody>\n</table>\n</div>"
     },
     "execution_count": 16,
     "metadata": {},
     "output_type": "execute_result"
    }
   ],
   "source": [
    "with sqlite3.connect(\"./crowdstorming.db\") as c:\n",
    "    result = pd.read_sql(\n",
    "        \"\"\"\n",
    "        SELECT position, AVG(height), AVG(weight)\n",
    "        FROM crowdstorming\n",
    "        GROUP BY position\n",
    "        \"\"\",\n",
    "        c\n",
    "    )\n",
    "result"
   ],
   "metadata": {
    "id": "35682540198afa5",
    "outputId": "d72a7aa0-7374-473f-d425-ebe735aeda1a",
    "colab": {
     "base_uri": "https://localhost:8080/",
     "height": 426
    },
    "ExecuteTime": {
     "start_time": "2023-11-21T13:34:36.850851300Z"
    }
   },
   "id": "35682540198afa5"
  },
  {
   "cell_type": "markdown",
   "source": [
    "Now do the same with the DataFrame. Are the results the same?"
   ],
   "metadata": {
    "collapsed": false,
    "id": "9c54f74004c7856f"
   },
   "id": "9c54f74004c7856f"
  },
  {
   "cell_type": "code",
   "execution_count": 17,
   "outputs": [
    {
     "data": {
      "text/plain": "                          height     weight\nposition                                   \nAttacking Midfielder  177.547457  72.120387\nCenter Back           187.258714  80.817530\nCenter Forward        183.354108  77.769815\nCenter Midfielder     180.631655  74.969339\nDefensive Midfielder  181.404502  75.278369\nGoalkeeper            189.847237  84.549437\nLeft Fullback         179.579545  74.815508\nLeft Midfielder       176.942494  70.929285\nLeft Winger           179.196087  73.800356\nRight Fullback        179.767063  74.262307\nRight Midfielder      176.354720  70.810758\nRight Winger          177.538147  73.053134",
      "text/html": "<div>\n<style scoped>\n    .dataframe tbody tr th:only-of-type {\n        vertical-align: middle;\n    }\n\n    .dataframe tbody tr th {\n        vertical-align: top;\n    }\n\n    .dataframe thead th {\n        text-align: right;\n    }\n</style>\n<table border=\"1\" class=\"dataframe\">\n  <thead>\n    <tr style=\"text-align: right;\">\n      <th></th>\n      <th>height</th>\n      <th>weight</th>\n    </tr>\n    <tr>\n      <th>position</th>\n      <th></th>\n      <th></th>\n    </tr>\n  </thead>\n  <tbody>\n    <tr>\n      <th>Attacking Midfielder</th>\n      <td>177.547457</td>\n      <td>72.120387</td>\n    </tr>\n    <tr>\n      <th>Center Back</th>\n      <td>187.258714</td>\n      <td>80.817530</td>\n    </tr>\n    <tr>\n      <th>Center Forward</th>\n      <td>183.354108</td>\n      <td>77.769815</td>\n    </tr>\n    <tr>\n      <th>Center Midfielder</th>\n      <td>180.631655</td>\n      <td>74.969339</td>\n    </tr>\n    <tr>\n      <th>Defensive Midfielder</th>\n      <td>181.404502</td>\n      <td>75.278369</td>\n    </tr>\n    <tr>\n      <th>Goalkeeper</th>\n      <td>189.847237</td>\n      <td>84.549437</td>\n    </tr>\n    <tr>\n      <th>Left Fullback</th>\n      <td>179.579545</td>\n      <td>74.815508</td>\n    </tr>\n    <tr>\n      <th>Left Midfielder</th>\n      <td>176.942494</td>\n      <td>70.929285</td>\n    </tr>\n    <tr>\n      <th>Left Winger</th>\n      <td>179.196087</td>\n      <td>73.800356</td>\n    </tr>\n    <tr>\n      <th>Right Fullback</th>\n      <td>179.767063</td>\n      <td>74.262307</td>\n    </tr>\n    <tr>\n      <th>Right Midfielder</th>\n      <td>176.354720</td>\n      <td>70.810758</td>\n    </tr>\n    <tr>\n      <th>Right Winger</th>\n      <td>177.538147</td>\n      <td>73.053134</td>\n    </tr>\n  </tbody>\n</table>\n</div>"
     },
     "execution_count": 17,
     "metadata": {},
     "output_type": "execute_result"
    }
   ],
   "source": [
    "df.groupby('position')[['height', 'weight']].mean()"
   ],
   "metadata": {
    "id": "f8b395d6293724da",
    "outputId": "e94e8e76-cf26-428e-a23b-35b7bf6f8fd0",
    "colab": {
     "base_uri": "https://localhost:8080/",
     "height": 457
    },
    "ExecuteTime": {
     "start_time": "2023-11-21T13:34:36.961917Z"
    }
   },
   "id": "f8b395d6293724da"
  },
  {
   "cell_type": "markdown",
   "source": [
    "And the solution with SQLAlchemy:"
   ],
   "metadata": {
    "collapsed": false,
    "id": "b945afc0a1e22046"
   },
   "id": "b945afc0a1e22046"
  },
  {
   "cell_type": "code",
   "execution_count": 18,
   "outputs": [
    {
     "data": {
      "text/plain": "[('Attacking Midfielder', 177.5474574695547, 72.1203867249233),\n ('Center Back', 187.25871398625262, 80.81753034660947),\n ('Center Forward', 183.3541076487252, 77.76981495991802),\n ('Center Midfielder', 180.63165527242595, 74.96933913403771),\n ('Defensive Midfielder', 181.4045016539623, 75.27836904933122),\n ('Goalkeeper', 189.84723736822974, 84.54943656852053),\n ('Left Fullback', 179.57954545454547, 74.81550802139037),\n ('Left Midfielder', 176.94249355670104, 70.92928479381443),\n ('Left Winger', 179.19608714984437, 73.80035571365052),\n ('Right Fullback', 179.76706302021404, 74.26230677764566),\n ('Right Midfielder', 176.35472024195292, 70.81075826312379),\n ('Right Winger', 177.53814713896458, 73.05313351498637)]"
     },
     "execution_count": 18,
     "metadata": {},
     "output_type": "execute_result"
    }
   ],
   "source": [
    "# calculate mean height and weight PER POSITION in the database\n",
    "results = (\n",
    "    session.query(\n",
    "        crowdstorming_table.c.position,\n",
    "        func.avg(crowdstorming_table.c.height),\n",
    "        func.avg(crowdstorming_table.c.weight)\n",
    "    )\n",
    "    .group_by(crowdstorming_table.c.position)\n",
    "    .all()\n",
    ")\n",
    "results"
   ],
   "metadata": {
    "id": "67bfb06e42d7910e",
    "outputId": "6242bc5a-f795-4223-ca5d-9244b258507b",
    "colab": {
     "base_uri": "https://localhost:8080/"
    },
    "ExecuteTime": {
     "start_time": "2023-11-21T13:34:36.975741500Z"
    }
   },
   "id": "67bfb06e42d7910e"
  },
  {
   "cell_type": "markdown",
   "source": [
    "# Task 7 - Calculating the mean per position and league\n",
    "Calculate the mean height and weight of each player per position and per league in the database.\n",
    "\n",
    "*Hint*: This is almost identical to task 6. Try to not overcomplicate things: What would be the most intuitive way to extend the solution of task 6 to two conditions? (Task 6: 'per position', here: 'per position **and per league**'.)"
   ],
   "metadata": {
    "collapsed": false,
    "id": "74d3e689694b648d"
   },
   "id": "74d3e689694b648d"
  },
  {
   "cell_type": "code",
   "execution_count": 19,
   "outputs": [
    {
     "data": {
      "text/plain": "                                    AVG(height)  AVG(weight)\nposition             leagueCountry                          \nAttacking Midfielder England         175.738573    70.662110\n                     France          177.742502    72.419898\n                     Germany         178.725081    73.475267\n                     Spain           177.293126    71.311963\nCenter Back          England         186.521912    78.782205\n                     France          185.349614    78.330885\n                     Germany         189.624508    83.832435\n                     Spain           185.912707    80.479094\nCenter Forward       England         182.909722    76.853350\n                     France          182.828865    75.820878\n                     Germany         185.419495    81.143777\n                     Spain           181.264713    75.034548\nCenter Midfielder    England         180.414167    74.579167\n                     France          186.000000    75.000000\n                     Germany         182.368421    77.346805\n                     Spain           178.961726    73.668567\nDefensive Midfielder England         182.704415    75.322457\n                     France          178.612454    70.577632\n                     Germany         183.190041    77.297967\n                     Spain           180.045178    75.639594\nGoalkeeper           England         191.672706    85.011880\n                     France          186.096021    80.351211\n                     Germany         190.994633    86.915410\n                     Spain           187.394081    82.227804\nLeft Fullback        England         179.328821    75.440611\n                     France          177.476491    71.974035\n                     Germany         180.203656    75.739897\n                     Spain           180.337844    74.692021\nLeft Midfielder      England         177.227210    71.022790\n                     France          178.267021    67.892553\n                     Germany         177.893333    72.195942\n                     Spain           175.368496    71.184248\nLeft Winger          England         179.471328    72.350353\n                     France          180.009901    73.334158\n                     Germany         180.345870    76.936870\n                     Spain           176.265086    71.162716\nRight Fullback       England         180.169567    75.178046\n                     France          181.163758    74.507383\n                     Germany         179.432143    73.955556\n                     Spain           178.776285    73.500695\nRight Midfielder     England         172.218354    67.753165\n                     France          177.146637    68.841235\n                     Germany         177.788386    73.380235\n                     Spain           177.001017    70.895219\nRight Winger         England         179.440758    71.955766\n                     France          176.303426    72.186786\n                     Germany         181.780876    78.248606\n                     Spain           173.066858    70.127965",
      "text/html": "<div>\n<style scoped>\n    .dataframe tbody tr th:only-of-type {\n        vertical-align: middle;\n    }\n\n    .dataframe tbody tr th {\n        vertical-align: top;\n    }\n\n    .dataframe thead th {\n        text-align: right;\n    }\n</style>\n<table border=\"1\" class=\"dataframe\">\n  <thead>\n    <tr style=\"text-align: right;\">\n      <th></th>\n      <th></th>\n      <th>AVG(height)</th>\n      <th>AVG(weight)</th>\n    </tr>\n    <tr>\n      <th>position</th>\n      <th>leagueCountry</th>\n      <th></th>\n      <th></th>\n    </tr>\n  </thead>\n  <tbody>\n    <tr>\n      <th rowspan=\"4\" valign=\"top\">Attacking Midfielder</th>\n      <th>England</th>\n      <td>175.738573</td>\n      <td>70.662110</td>\n    </tr>\n    <tr>\n      <th>France</th>\n      <td>177.742502</td>\n      <td>72.419898</td>\n    </tr>\n    <tr>\n      <th>Germany</th>\n      <td>178.725081</td>\n      <td>73.475267</td>\n    </tr>\n    <tr>\n      <th>Spain</th>\n      <td>177.293126</td>\n      <td>71.311963</td>\n    </tr>\n    <tr>\n      <th rowspan=\"4\" valign=\"top\">Center Back</th>\n      <th>England</th>\n      <td>186.521912</td>\n      <td>78.782205</td>\n    </tr>\n    <tr>\n      <th>France</th>\n      <td>185.349614</td>\n      <td>78.330885</td>\n    </tr>\n    <tr>\n      <th>Germany</th>\n      <td>189.624508</td>\n      <td>83.832435</td>\n    </tr>\n    <tr>\n      <th>Spain</th>\n      <td>185.912707</td>\n      <td>80.479094</td>\n    </tr>\n    <tr>\n      <th rowspan=\"4\" valign=\"top\">Center Forward</th>\n      <th>England</th>\n      <td>182.909722</td>\n      <td>76.853350</td>\n    </tr>\n    <tr>\n      <th>France</th>\n      <td>182.828865</td>\n      <td>75.820878</td>\n    </tr>\n    <tr>\n      <th>Germany</th>\n      <td>185.419495</td>\n      <td>81.143777</td>\n    </tr>\n    <tr>\n      <th>Spain</th>\n      <td>181.264713</td>\n      <td>75.034548</td>\n    </tr>\n    <tr>\n      <th rowspan=\"4\" valign=\"top\">Center Midfielder</th>\n      <th>England</th>\n      <td>180.414167</td>\n      <td>74.579167</td>\n    </tr>\n    <tr>\n      <th>France</th>\n      <td>186.000000</td>\n      <td>75.000000</td>\n    </tr>\n    <tr>\n      <th>Germany</th>\n      <td>182.368421</td>\n      <td>77.346805</td>\n    </tr>\n    <tr>\n      <th>Spain</th>\n      <td>178.961726</td>\n      <td>73.668567</td>\n    </tr>\n    <tr>\n      <th rowspan=\"4\" valign=\"top\">Defensive Midfielder</th>\n      <th>England</th>\n      <td>182.704415</td>\n      <td>75.322457</td>\n    </tr>\n    <tr>\n      <th>France</th>\n      <td>178.612454</td>\n      <td>70.577632</td>\n    </tr>\n    <tr>\n      <th>Germany</th>\n      <td>183.190041</td>\n      <td>77.297967</td>\n    </tr>\n    <tr>\n      <th>Spain</th>\n      <td>180.045178</td>\n      <td>75.639594</td>\n    </tr>\n    <tr>\n      <th rowspan=\"4\" valign=\"top\">Goalkeeper</th>\n      <th>England</th>\n      <td>191.672706</td>\n      <td>85.011880</td>\n    </tr>\n    <tr>\n      <th>France</th>\n      <td>186.096021</td>\n      <td>80.351211</td>\n    </tr>\n    <tr>\n      <th>Germany</th>\n      <td>190.994633</td>\n      <td>86.915410</td>\n    </tr>\n    <tr>\n      <th>Spain</th>\n      <td>187.394081</td>\n      <td>82.227804</td>\n    </tr>\n    <tr>\n      <th rowspan=\"4\" valign=\"top\">Left Fullback</th>\n      <th>England</th>\n      <td>179.328821</td>\n      <td>75.440611</td>\n    </tr>\n    <tr>\n      <th>France</th>\n      <td>177.476491</td>\n      <td>71.974035</td>\n    </tr>\n    <tr>\n      <th>Germany</th>\n      <td>180.203656</td>\n      <td>75.739897</td>\n    </tr>\n    <tr>\n      <th>Spain</th>\n      <td>180.337844</td>\n      <td>74.692021</td>\n    </tr>\n    <tr>\n      <th rowspan=\"4\" valign=\"top\">Left Midfielder</th>\n      <th>England</th>\n      <td>177.227210</td>\n      <td>71.022790</td>\n    </tr>\n    <tr>\n      <th>France</th>\n      <td>178.267021</td>\n      <td>67.892553</td>\n    </tr>\n    <tr>\n      <th>Germany</th>\n      <td>177.893333</td>\n      <td>72.195942</td>\n    </tr>\n    <tr>\n      <th>Spain</th>\n      <td>175.368496</td>\n      <td>71.184248</td>\n    </tr>\n    <tr>\n      <th rowspan=\"4\" valign=\"top\">Left Winger</th>\n      <th>England</th>\n      <td>179.471328</td>\n      <td>72.350353</td>\n    </tr>\n    <tr>\n      <th>France</th>\n      <td>180.009901</td>\n      <td>73.334158</td>\n    </tr>\n    <tr>\n      <th>Germany</th>\n      <td>180.345870</td>\n      <td>76.936870</td>\n    </tr>\n    <tr>\n      <th>Spain</th>\n      <td>176.265086</td>\n      <td>71.162716</td>\n    </tr>\n    <tr>\n      <th rowspan=\"4\" valign=\"top\">Right Fullback</th>\n      <th>England</th>\n      <td>180.169567</td>\n      <td>75.178046</td>\n    </tr>\n    <tr>\n      <th>France</th>\n      <td>181.163758</td>\n      <td>74.507383</td>\n    </tr>\n    <tr>\n      <th>Germany</th>\n      <td>179.432143</td>\n      <td>73.955556</td>\n    </tr>\n    <tr>\n      <th>Spain</th>\n      <td>178.776285</td>\n      <td>73.500695</td>\n    </tr>\n    <tr>\n      <th rowspan=\"4\" valign=\"top\">Right Midfielder</th>\n      <th>England</th>\n      <td>172.218354</td>\n      <td>67.753165</td>\n    </tr>\n    <tr>\n      <th>France</th>\n      <td>177.146637</td>\n      <td>68.841235</td>\n    </tr>\n    <tr>\n      <th>Germany</th>\n      <td>177.788386</td>\n      <td>73.380235</td>\n    </tr>\n    <tr>\n      <th>Spain</th>\n      <td>177.001017</td>\n      <td>70.895219</td>\n    </tr>\n    <tr>\n      <th rowspan=\"4\" valign=\"top\">Right Winger</th>\n      <th>England</th>\n      <td>179.440758</td>\n      <td>71.955766</td>\n    </tr>\n    <tr>\n      <th>France</th>\n      <td>176.303426</td>\n      <td>72.186786</td>\n    </tr>\n    <tr>\n      <th>Germany</th>\n      <td>181.780876</td>\n      <td>78.248606</td>\n    </tr>\n    <tr>\n      <th>Spain</th>\n      <td>173.066858</td>\n      <td>70.127965</td>\n    </tr>\n  </tbody>\n</table>\n</div>"
     },
     "execution_count": 19,
     "metadata": {},
     "output_type": "execute_result"
    }
   ],
   "source": [
    "with sqlite3.connect(\"./crowdstorming.db\") as c:\n",
    "    results = pd.read_sql(\n",
    "        \"\"\"\n",
    "        SELECT position, leagueCountry, AVG(height), AVG(weight)\n",
    "        FROM crowdstorming\n",
    "        GROUP BY position, leagueCountry\n",
    "        \"\"\",\n",
    "        c,\n",
    "    )\n",
    "results = results.set_index([\"position\", \"leagueCountry\"])\n",
    "results"
   ],
   "metadata": {
    "id": "588018ce9fe4b9d4",
    "outputId": "edc318ea-8085-4856-f78f-42c722a83dcc",
    "colab": {
     "base_uri": "https://localhost:8080/",
     "height": 1000
    },
    "ExecuteTime": {
     "start_time": "2023-11-21T13:34:37.085556400Z"
    }
   },
   "id": "588018ce9fe4b9d4"
  },
  {
   "cell_type": "markdown",
   "source": [
    "Now do the same with the DataFrame. Are the results the same?"
   ],
   "metadata": {
    "collapsed": false,
    "id": "8dd3c29772417b"
   },
   "id": "8dd3c29772417b"
  },
  {
   "cell_type": "code",
   "execution_count": 20,
   "outputs": [
    {
     "data": {
      "text/plain": "                                        height     weight\nposition             leagueCountry                       \nAttacking Midfielder England        175.738573  70.662110\n                     France         177.742502  72.419898\n                     Germany        178.725081  73.475267\n                     Spain          177.293126  71.311963\nCenter Back          England        186.521912  78.782205\n                     France         185.349614  78.330885\n                     Germany        189.624508  83.832435\n                     Spain          185.912707  80.479094\nCenter Forward       England        182.909722  76.853350\n                     France         182.828865  75.820878\n                     Germany        185.419495  81.143777\n                     Spain          181.264713  75.034548\nCenter Midfielder    England        180.414167  74.579167\n                     France         186.000000  75.000000\n                     Germany        182.368421  77.346805\n                     Spain          178.961726  73.668567\nDefensive Midfielder England        182.704415  75.322457\n                     France         178.612454  70.577632\n                     Germany        183.190041  77.297967\n                     Spain          180.045178  75.639594\nGoalkeeper           England        191.672706  85.011880\n                     France         186.096021  80.351211\n                     Germany        190.994633  86.915410\n                     Spain          187.394081  82.227804\nLeft Fullback        England        179.328821  75.440611\n                     France         177.476491  71.974035\n                     Germany        180.203656  75.739897\n                     Spain          180.337844  74.692021\nLeft Midfielder      England        177.227210  71.022790\n                     France         178.267021  67.892553\n                     Germany        177.893333  72.195942\n                     Spain          175.368496  71.184248\nLeft Winger          England        179.471328  72.350353\n                     France         180.009901  73.334158\n                     Germany        180.345870  76.936870\n                     Spain          176.265086  71.162716\nRight Fullback       England        180.169567  75.178046\n                     France         181.163758  74.507383\n                     Germany        179.432143  73.955556\n                     Spain          178.776285  73.500695\nRight Midfielder     England        172.218354  67.753165\n                     France         177.146637  68.841235\n                     Germany        177.788386  73.380235\n                     Spain          177.001017  70.895219\nRight Winger         England        179.440758  71.955766\n                     France         176.303426  72.186786\n                     Germany        181.780876  78.248606\n                     Spain          173.066858  70.127965",
      "text/html": "<div>\n<style scoped>\n    .dataframe tbody tr th:only-of-type {\n        vertical-align: middle;\n    }\n\n    .dataframe tbody tr th {\n        vertical-align: top;\n    }\n\n    .dataframe thead th {\n        text-align: right;\n    }\n</style>\n<table border=\"1\" class=\"dataframe\">\n  <thead>\n    <tr style=\"text-align: right;\">\n      <th></th>\n      <th></th>\n      <th>height</th>\n      <th>weight</th>\n    </tr>\n    <tr>\n      <th>position</th>\n      <th>leagueCountry</th>\n      <th></th>\n      <th></th>\n    </tr>\n  </thead>\n  <tbody>\n    <tr>\n      <th rowspan=\"4\" valign=\"top\">Attacking Midfielder</th>\n      <th>England</th>\n      <td>175.738573</td>\n      <td>70.662110</td>\n    </tr>\n    <tr>\n      <th>France</th>\n      <td>177.742502</td>\n      <td>72.419898</td>\n    </tr>\n    <tr>\n      <th>Germany</th>\n      <td>178.725081</td>\n      <td>73.475267</td>\n    </tr>\n    <tr>\n      <th>Spain</th>\n      <td>177.293126</td>\n      <td>71.311963</td>\n    </tr>\n    <tr>\n      <th rowspan=\"4\" valign=\"top\">Center Back</th>\n      <th>England</th>\n      <td>186.521912</td>\n      <td>78.782205</td>\n    </tr>\n    <tr>\n      <th>France</th>\n      <td>185.349614</td>\n      <td>78.330885</td>\n    </tr>\n    <tr>\n      <th>Germany</th>\n      <td>189.624508</td>\n      <td>83.832435</td>\n    </tr>\n    <tr>\n      <th>Spain</th>\n      <td>185.912707</td>\n      <td>80.479094</td>\n    </tr>\n    <tr>\n      <th rowspan=\"4\" valign=\"top\">Center Forward</th>\n      <th>England</th>\n      <td>182.909722</td>\n      <td>76.853350</td>\n    </tr>\n    <tr>\n      <th>France</th>\n      <td>182.828865</td>\n      <td>75.820878</td>\n    </tr>\n    <tr>\n      <th>Germany</th>\n      <td>185.419495</td>\n      <td>81.143777</td>\n    </tr>\n    <tr>\n      <th>Spain</th>\n      <td>181.264713</td>\n      <td>75.034548</td>\n    </tr>\n    <tr>\n      <th rowspan=\"4\" valign=\"top\">Center Midfielder</th>\n      <th>England</th>\n      <td>180.414167</td>\n      <td>74.579167</td>\n    </tr>\n    <tr>\n      <th>France</th>\n      <td>186.000000</td>\n      <td>75.000000</td>\n    </tr>\n    <tr>\n      <th>Germany</th>\n      <td>182.368421</td>\n      <td>77.346805</td>\n    </tr>\n    <tr>\n      <th>Spain</th>\n      <td>178.961726</td>\n      <td>73.668567</td>\n    </tr>\n    <tr>\n      <th rowspan=\"4\" valign=\"top\">Defensive Midfielder</th>\n      <th>England</th>\n      <td>182.704415</td>\n      <td>75.322457</td>\n    </tr>\n    <tr>\n      <th>France</th>\n      <td>178.612454</td>\n      <td>70.577632</td>\n    </tr>\n    <tr>\n      <th>Germany</th>\n      <td>183.190041</td>\n      <td>77.297967</td>\n    </tr>\n    <tr>\n      <th>Spain</th>\n      <td>180.045178</td>\n      <td>75.639594</td>\n    </tr>\n    <tr>\n      <th rowspan=\"4\" valign=\"top\">Goalkeeper</th>\n      <th>England</th>\n      <td>191.672706</td>\n      <td>85.011880</td>\n    </tr>\n    <tr>\n      <th>France</th>\n      <td>186.096021</td>\n      <td>80.351211</td>\n    </tr>\n    <tr>\n      <th>Germany</th>\n      <td>190.994633</td>\n      <td>86.915410</td>\n    </tr>\n    <tr>\n      <th>Spain</th>\n      <td>187.394081</td>\n      <td>82.227804</td>\n    </tr>\n    <tr>\n      <th rowspan=\"4\" valign=\"top\">Left Fullback</th>\n      <th>England</th>\n      <td>179.328821</td>\n      <td>75.440611</td>\n    </tr>\n    <tr>\n      <th>France</th>\n      <td>177.476491</td>\n      <td>71.974035</td>\n    </tr>\n    <tr>\n      <th>Germany</th>\n      <td>180.203656</td>\n      <td>75.739897</td>\n    </tr>\n    <tr>\n      <th>Spain</th>\n      <td>180.337844</td>\n      <td>74.692021</td>\n    </tr>\n    <tr>\n      <th rowspan=\"4\" valign=\"top\">Left Midfielder</th>\n      <th>England</th>\n      <td>177.227210</td>\n      <td>71.022790</td>\n    </tr>\n    <tr>\n      <th>France</th>\n      <td>178.267021</td>\n      <td>67.892553</td>\n    </tr>\n    <tr>\n      <th>Germany</th>\n      <td>177.893333</td>\n      <td>72.195942</td>\n    </tr>\n    <tr>\n      <th>Spain</th>\n      <td>175.368496</td>\n      <td>71.184248</td>\n    </tr>\n    <tr>\n      <th rowspan=\"4\" valign=\"top\">Left Winger</th>\n      <th>England</th>\n      <td>179.471328</td>\n      <td>72.350353</td>\n    </tr>\n    <tr>\n      <th>France</th>\n      <td>180.009901</td>\n      <td>73.334158</td>\n    </tr>\n    <tr>\n      <th>Germany</th>\n      <td>180.345870</td>\n      <td>76.936870</td>\n    </tr>\n    <tr>\n      <th>Spain</th>\n      <td>176.265086</td>\n      <td>71.162716</td>\n    </tr>\n    <tr>\n      <th rowspan=\"4\" valign=\"top\">Right Fullback</th>\n      <th>England</th>\n      <td>180.169567</td>\n      <td>75.178046</td>\n    </tr>\n    <tr>\n      <th>France</th>\n      <td>181.163758</td>\n      <td>74.507383</td>\n    </tr>\n    <tr>\n      <th>Germany</th>\n      <td>179.432143</td>\n      <td>73.955556</td>\n    </tr>\n    <tr>\n      <th>Spain</th>\n      <td>178.776285</td>\n      <td>73.500695</td>\n    </tr>\n    <tr>\n      <th rowspan=\"4\" valign=\"top\">Right Midfielder</th>\n      <th>England</th>\n      <td>172.218354</td>\n      <td>67.753165</td>\n    </tr>\n    <tr>\n      <th>France</th>\n      <td>177.146637</td>\n      <td>68.841235</td>\n    </tr>\n    <tr>\n      <th>Germany</th>\n      <td>177.788386</td>\n      <td>73.380235</td>\n    </tr>\n    <tr>\n      <th>Spain</th>\n      <td>177.001017</td>\n      <td>70.895219</td>\n    </tr>\n    <tr>\n      <th rowspan=\"4\" valign=\"top\">Right Winger</th>\n      <th>England</th>\n      <td>179.440758</td>\n      <td>71.955766</td>\n    </tr>\n    <tr>\n      <th>France</th>\n      <td>176.303426</td>\n      <td>72.186786</td>\n    </tr>\n    <tr>\n      <th>Germany</th>\n      <td>181.780876</td>\n      <td>78.248606</td>\n    </tr>\n    <tr>\n      <th>Spain</th>\n      <td>173.066858</td>\n      <td>70.127965</td>\n    </tr>\n  </tbody>\n</table>\n</div>"
     },
     "execution_count": 20,
     "metadata": {},
     "output_type": "execute_result"
    }
   ],
   "source": [
    "df.groupby(['position', 'leagueCountry'])[['height', 'weight']].mean()"
   ],
   "metadata": {
    "id": "814b65225a31da37",
    "outputId": "350f1ece-b115-4095-82f4-390a01683f62",
    "colab": {
     "base_uri": "https://localhost:8080/",
     "height": 1000
    },
    "ExecuteTime": {
     "start_time": "2023-11-21T13:34:37.255134500Z"
    }
   },
   "id": "814b65225a31da37"
  },
  {
   "cell_type": "markdown",
   "source": [
    "And the solution with SQLAlchemy:"
   ],
   "metadata": {
    "collapsed": false,
    "id": "d8c4087b2259d252"
   },
   "id": "d8c4087b2259d252"
  },
  {
   "cell_type": "code",
   "execution_count": 21,
   "outputs": [
    {
     "data": {
      "text/plain": "[('Attacking Midfielder', 'England', 175.7385732592909, 70.66211020931226),\n ('Attacking Midfielder', 'France', 177.74250182882224, 72.41989758595464),\n ('Attacking Midfielder', 'Germany', 178.72508078548347, 73.47526721352224),\n ('Attacking Midfielder', 'Spain', 177.29312623925975, 71.31196298744217),\n ('Center Back', 'England', 186.5219123505976, 78.78220451527224),\n ('Center Back', 'France', 185.3496143958869, 78.33088505325009),\n ('Center Back', 'Germany', 189.62450823255136, 83.83243479527903),\n ('Center Back', 'Spain', 185.91270650622067, 80.47909443198041),\n ('Center Forward', 'England', 182.90972222222223, 76.85334967320262),\n ('Center Forward', 'France', 182.82886480319453, 75.82087849401027),\n ('Center Forward', 'Germany', 185.41949521322888, 81.1437771975631),\n ('Center Forward', 'Spain', 181.26471289015964, 75.03454848701453),\n ('Center Midfielder', 'England', 180.41416666666666, 74.57916666666667),\n ('Center Midfielder', 'France', 186.0, 75.0),\n ('Center Midfielder', 'Germany', 182.3684210526316, 77.3468045112782),\n ('Center Midfielder', 'Spain', 178.96172638436482, 73.6685667752443),\n ('Defensive Midfielder', 'England', 182.70441458733205, 75.32245681381957),\n ('Defensive Midfielder', 'France', 178.612453912331, 70.57763211798444),\n ('Defensive Midfielder', 'Germany', 183.1900406504065, 77.2979674796748),\n ('Defensive Midfielder', 'Spain', 180.04517766497463, 75.63959390862944),\n ('Goalkeeper', 'England', 191.67270567270566, 85.01188001188001),\n ('Goalkeeper', 'France', 186.09602076124568, 80.35121107266436),\n ('Goalkeeper', 'Germany', 190.99463327370304, 86.91541017122412),\n ('Goalkeeper', 'Spain', 187.39408099688472, 82.22780373831776),\n ('Left Fullback', 'England', 179.3288209606987, 75.44061135371179),\n ('Left Fullback', 'France', 177.4764912280702, 71.9740350877193),\n ('Left Fullback', 'Germany', 180.20365618986528, 75.73989737010905),\n ('Left Fullback', 'Spain', 180.33784414372374, 74.69202053196453),\n ('Left Midfielder', 'England', 177.2272099447514, 71.02279005524862),\n ('Left Midfielder', 'France', 178.26702127659576, 67.89255319148936),\n ('Left Midfielder', 'Germany', 177.89333333333335, 72.19594202898551),\n ('Left Midfielder', 'Spain', 175.36849642004773, 71.18424821002387),\n ('Left Winger', 'England', 179.471327572663, 72.3503534956795),\n ('Left Winger', 'France', 180.009900990099, 73.33415841584159),\n ('Left Winger', 'Germany', 180.34586971121558, 76.93687038280726),\n ('Left Winger', 'Spain', 176.26508620689654, 71.16271551724138),\n ('Right Fullback', 'England', 180.16956715751897, 75.17804551539491),\n ('Right Fullback', 'France', 181.16375838926174, 74.50738255033556),\n ('Right Fullback', 'Germany', 179.43214285714285, 73.95555555555555),\n ('Right Fullback', 'Spain', 178.77628531727652, 73.50069476609542),\n ('Right Midfielder', 'England', 172.21835443037975, 67.75316455696202),\n ('Right Midfielder', 'France', 177.14663726571115, 68.8412348401323),\n ('Right Midfielder', 'Germany', 177.7883863763261, 73.38023450586265),\n ('Right Midfielder', 'Spain', 177.00101729399796, 70.89521871820956),\n ('Right Winger', 'England', 179.44075829383885, 71.95576619273302),\n ('Right Winger', 'France', 176.30342577487764, 72.1867862969005),\n ('Right Winger', 'Germany', 181.78087649402391, 78.24860557768925),\n ('Right Winger', 'Spain', 173.0668583752696, 70.12796549245148)]"
     },
     "execution_count": 21,
     "metadata": {},
     "output_type": "execute_result"
    }
   ],
   "source": [
    "# calculate mean height and weight PER POSITION and PER LEAGUE in the database\n",
    "results = (\n",
    "    session\n",
    "    .query(\n",
    "        crowdstorming_table.c.position,\n",
    "        crowdstorming_table.c.leagueCountry,\n",
    "        func.avg(crowdstorming_table.c.height),\n",
    "        func.avg(crowdstorming_table.c.weight)\n",
    "    )\n",
    "    .group_by(crowdstorming_table.c.position, crowdstorming_table.c.leagueCountry)\n",
    "    .all()\n",
    ")\n",
    "results"
   ],
   "metadata": {
    "id": "554c6d8bf65d4c51",
    "outputId": "2626da22-5fd0-4b61-fc57-eb6bea944f1f",
    "colab": {
     "base_uri": "https://localhost:8080/"
    },
    "ExecuteTime": {
     "start_time": "2023-11-21T13:34:37.286390200Z"
    }
   },
   "id": "554c6d8bf65d4c51"
  },
  {
   "cell_type": "markdown",
   "source": [
    "# Task 8.1  - People with unusual names\n",
    "Select all people, whose first name starts with an X, from `people_database.db`.\n",
    "\n",
    "*Hint*: If you can't figure out how to do this, check [here](https://www.w3schools.com/sql/sql_like.asp)."
   ],
   "metadata": {
    "collapsed": false,
    "id": "15b3ed32a66f0942"
   },
   "id": "15b3ed32a66f0942"
  },
  {
   "cell_type": "code",
   "source": [
    "people_db_file = Path(\"people_database.db\")\n",
    "if people_db_file.exists() and people_db_file.stat().st_size == 691134464:\n",
    "    print(\"File already downloaded.\")\n",
    "else:\n",
    "    print(\"Will download database\")\n",
    "    with requests.get(\"https://drive.switch.ch/index.php/s/OIsWhbxdTY6h5n7/download\", stream=True) as response:\n",
    "        response.raise_for_status()\n",
    "        with people_db_file.open('wb') as fo:\n",
    "            for chunk in tqdm(response.iter_content(chunk_size=8192), desc=\"Chunks written\"):\n",
    "                fo.write(chunk)"
   ],
   "metadata": {
    "colab": {
     "base_uri": "https://localhost:8080/"
    },
    "id": "7fxjJotPA39s",
    "outputId": "07aab374-4e55-4c78-91c3-9e95cd868656",
    "ExecuteTime": {
     "start_time": "2023-11-21T13:34:37.459062900Z"
    }
   },
   "id": "7fxjJotPA39s",
   "execution_count": 22,
   "outputs": [
    {
     "name": "stdout",
     "output_type": "stream",
     "text": [
      "File already downloaded.\n"
     ]
    }
   ]
  },
  {
   "cell_type": "code",
   "execution_count": 23,
   "outputs": [
    {
     "name": "stdout",
     "output_type": "stream",
     "text": [
      "Duration: 1.700s\n"
     ]
    },
    {
     "data": {
      "text/plain": "            id first_name last_name                           email  age  \\\n0         2068     Xavier      Hyde     tripadvisor2019@example.com   45   \n1         2647      Xenia      Wade           imports1866@gmail.com   31   \n2         2782       Xiao    Conley              hobby1832@duck.com   51   \n3         3664       Xiao     Chang         dial2080@protonmail.com   28   \n4         3998      Xenia   Raymond              jack2018@gmail.com   37   \n...        ...        ...       ...                             ...  ...   \n12990  9997658       Xiao  Bartlett           impacts2018@yahoo.com   40   \n12991  9998247      Xenia  Reynolds               leon1877@duck.com   66   \n12992  9998502     Xavier    Larson  examination1912@protonmail.com   47   \n12993  9998553       Xiao     James             hugh1907@yandex.com   63   \n12994  9998727     Xavier    Wilcox        those1964@protonmail.com   59   \n\n          phone_number  gender  \n0         +17635978290  Female  \n1      +1-747-884-1447    Male  \n2         +15858378666  Female  \n3      +1-563-540-7138    Male  \n4      +1-561-201-4185    Male  \n...                ...     ...  \n12990  +1-618-841-0962  Female  \n12991  +1-740-537-8529    Male  \n12992  +1-470-362-5782    Male  \n12993  +1-203-437-5999  Female  \n12994  +1-847-792-4797    Male  \n\n[12995 rows x 7 columns]",
      "text/html": "<div>\n<style scoped>\n    .dataframe tbody tr th:only-of-type {\n        vertical-align: middle;\n    }\n\n    .dataframe tbody tr th {\n        vertical-align: top;\n    }\n\n    .dataframe thead th {\n        text-align: right;\n    }\n</style>\n<table border=\"1\" class=\"dataframe\">\n  <thead>\n    <tr style=\"text-align: right;\">\n      <th></th>\n      <th>id</th>\n      <th>first_name</th>\n      <th>last_name</th>\n      <th>email</th>\n      <th>age</th>\n      <th>phone_number</th>\n      <th>gender</th>\n    </tr>\n  </thead>\n  <tbody>\n    <tr>\n      <th>0</th>\n      <td>2068</td>\n      <td>Xavier</td>\n      <td>Hyde</td>\n      <td>tripadvisor2019@example.com</td>\n      <td>45</td>\n      <td>+17635978290</td>\n      <td>Female</td>\n    </tr>\n    <tr>\n      <th>1</th>\n      <td>2647</td>\n      <td>Xenia</td>\n      <td>Wade</td>\n      <td>imports1866@gmail.com</td>\n      <td>31</td>\n      <td>+1-747-884-1447</td>\n      <td>Male</td>\n    </tr>\n    <tr>\n      <th>2</th>\n      <td>2782</td>\n      <td>Xiao</td>\n      <td>Conley</td>\n      <td>hobby1832@duck.com</td>\n      <td>51</td>\n      <td>+15858378666</td>\n      <td>Female</td>\n    </tr>\n    <tr>\n      <th>3</th>\n      <td>3664</td>\n      <td>Xiao</td>\n      <td>Chang</td>\n      <td>dial2080@protonmail.com</td>\n      <td>28</td>\n      <td>+1-563-540-7138</td>\n      <td>Male</td>\n    </tr>\n    <tr>\n      <th>4</th>\n      <td>3998</td>\n      <td>Xenia</td>\n      <td>Raymond</td>\n      <td>jack2018@gmail.com</td>\n      <td>37</td>\n      <td>+1-561-201-4185</td>\n      <td>Male</td>\n    </tr>\n    <tr>\n      <th>...</th>\n      <td>...</td>\n      <td>...</td>\n      <td>...</td>\n      <td>...</td>\n      <td>...</td>\n      <td>...</td>\n      <td>...</td>\n    </tr>\n    <tr>\n      <th>12990</th>\n      <td>9997658</td>\n      <td>Xiao</td>\n      <td>Bartlett</td>\n      <td>impacts2018@yahoo.com</td>\n      <td>40</td>\n      <td>+1-618-841-0962</td>\n      <td>Female</td>\n    </tr>\n    <tr>\n      <th>12991</th>\n      <td>9998247</td>\n      <td>Xenia</td>\n      <td>Reynolds</td>\n      <td>leon1877@duck.com</td>\n      <td>66</td>\n      <td>+1-740-537-8529</td>\n      <td>Male</td>\n    </tr>\n    <tr>\n      <th>12992</th>\n      <td>9998502</td>\n      <td>Xavier</td>\n      <td>Larson</td>\n      <td>examination1912@protonmail.com</td>\n      <td>47</td>\n      <td>+1-470-362-5782</td>\n      <td>Male</td>\n    </tr>\n    <tr>\n      <th>12993</th>\n      <td>9998553</td>\n      <td>Xiao</td>\n      <td>James</td>\n      <td>hugh1907@yandex.com</td>\n      <td>63</td>\n      <td>+1-203-437-5999</td>\n      <td>Female</td>\n    </tr>\n    <tr>\n      <th>12994</th>\n      <td>9998727</td>\n      <td>Xavier</td>\n      <td>Wilcox</td>\n      <td>those1964@protonmail.com</td>\n      <td>59</td>\n      <td>+1-847-792-4797</td>\n      <td>Male</td>\n    </tr>\n  </tbody>\n</table>\n<p>12995 rows × 7 columns</p>\n</div>"
     },
     "execution_count": 23,
     "metadata": {},
     "output_type": "execute_result"
    }
   ],
   "source": [
    "start = perf_counter()\n",
    "\n",
    "with sqlite3.connect(people_db_file) as c:\n",
    "    results = pd.read_sql(\n",
    "        \"\"\"\n",
    "        SELECT * FROM people\n",
    "        WHERE first_name LIKE 'X%'\n",
    "        \"\"\",\n",
    "        c,\n",
    "    )\n",
    "end = perf_counter()\n",
    "print(f\"Duration: {end - start:.3f}s\")\n",
    "results"
   ],
   "metadata": {
    "id": "b24cb3a9a00cc2af",
    "outputId": "b685b56a-9564-4b35-d79c-3805eea20927",
    "colab": {
     "base_uri": "https://localhost:8080/",
     "height": 442
    },
    "ExecuteTime": {
     "start_time": "2023-11-21T13:34:37.474699200Z"
    }
   },
   "id": "b24cb3a9a00cc2af"
  },
  {
   "cell_type": "markdown",
   "source": [
    "Repeat this, but load the data into a DataFrame first, and time both loading it into a DataFrame, and the actual querying.\n",
    "\n",
    "**Beware, that this will load the entire DB into memory.**"
   ],
   "metadata": {
    "collapsed": false,
    "id": "c6edd98543616556"
   },
   "id": "c6edd98543616556"
  },
  {
   "cell_type": "code",
   "execution_count": 24,
   "outputs": [
    {
     "name": "stdout",
     "output_type": "stream",
     "text": [
      "Loading duration: 20.419s\n",
      "Just the query: 2.136s\n"
     ]
    },
    {
     "data": {
      "text/plain": "              id first_name last_name                           email  age  \\\n2067        2068     Xavier      Hyde     tripadvisor2019@example.com   45   \n2646        2647      Xenia      Wade           imports1866@gmail.com   31   \n2781        2782       Xiao    Conley              hobby1832@duck.com   51   \n3663        3664       Xiao     Chang         dial2080@protonmail.com   28   \n3997        3998      Xenia   Raymond              jack2018@gmail.com   37   \n...          ...        ...       ...                             ...  ...   \n9997657  9997658       Xiao  Bartlett           impacts2018@yahoo.com   40   \n9998246  9998247      Xenia  Reynolds               leon1877@duck.com   66   \n9998501  9998502     Xavier    Larson  examination1912@protonmail.com   47   \n9998552  9998553       Xiao     James             hugh1907@yandex.com   63   \n9998726  9998727     Xavier    Wilcox        those1964@protonmail.com   59   \n\n            phone_number  gender  \n2067        +17635978290  Female  \n2646     +1-747-884-1447    Male  \n2781        +15858378666  Female  \n3663     +1-563-540-7138    Male  \n3997     +1-561-201-4185    Male  \n...                  ...     ...  \n9997657  +1-618-841-0962  Female  \n9998246  +1-740-537-8529    Male  \n9998501  +1-470-362-5782    Male  \n9998552  +1-203-437-5999  Female  \n9998726  +1-847-792-4797    Male  \n\n[12995 rows x 7 columns]",
      "text/html": "<div>\n<style scoped>\n    .dataframe tbody tr th:only-of-type {\n        vertical-align: middle;\n    }\n\n    .dataframe tbody tr th {\n        vertical-align: top;\n    }\n\n    .dataframe thead th {\n        text-align: right;\n    }\n</style>\n<table border=\"1\" class=\"dataframe\">\n  <thead>\n    <tr style=\"text-align: right;\">\n      <th></th>\n      <th>id</th>\n      <th>first_name</th>\n      <th>last_name</th>\n      <th>email</th>\n      <th>age</th>\n      <th>phone_number</th>\n      <th>gender</th>\n    </tr>\n  </thead>\n  <tbody>\n    <tr>\n      <th>2067</th>\n      <td>2068</td>\n      <td>Xavier</td>\n      <td>Hyde</td>\n      <td>tripadvisor2019@example.com</td>\n      <td>45</td>\n      <td>+17635978290</td>\n      <td>Female</td>\n    </tr>\n    <tr>\n      <th>2646</th>\n      <td>2647</td>\n      <td>Xenia</td>\n      <td>Wade</td>\n      <td>imports1866@gmail.com</td>\n      <td>31</td>\n      <td>+1-747-884-1447</td>\n      <td>Male</td>\n    </tr>\n    <tr>\n      <th>2781</th>\n      <td>2782</td>\n      <td>Xiao</td>\n      <td>Conley</td>\n      <td>hobby1832@duck.com</td>\n      <td>51</td>\n      <td>+15858378666</td>\n      <td>Female</td>\n    </tr>\n    <tr>\n      <th>3663</th>\n      <td>3664</td>\n      <td>Xiao</td>\n      <td>Chang</td>\n      <td>dial2080@protonmail.com</td>\n      <td>28</td>\n      <td>+1-563-540-7138</td>\n      <td>Male</td>\n    </tr>\n    <tr>\n      <th>3997</th>\n      <td>3998</td>\n      <td>Xenia</td>\n      <td>Raymond</td>\n      <td>jack2018@gmail.com</td>\n      <td>37</td>\n      <td>+1-561-201-4185</td>\n      <td>Male</td>\n    </tr>\n    <tr>\n      <th>...</th>\n      <td>...</td>\n      <td>...</td>\n      <td>...</td>\n      <td>...</td>\n      <td>...</td>\n      <td>...</td>\n      <td>...</td>\n    </tr>\n    <tr>\n      <th>9997657</th>\n      <td>9997658</td>\n      <td>Xiao</td>\n      <td>Bartlett</td>\n      <td>impacts2018@yahoo.com</td>\n      <td>40</td>\n      <td>+1-618-841-0962</td>\n      <td>Female</td>\n    </tr>\n    <tr>\n      <th>9998246</th>\n      <td>9998247</td>\n      <td>Xenia</td>\n      <td>Reynolds</td>\n      <td>leon1877@duck.com</td>\n      <td>66</td>\n      <td>+1-740-537-8529</td>\n      <td>Male</td>\n    </tr>\n    <tr>\n      <th>9998501</th>\n      <td>9998502</td>\n      <td>Xavier</td>\n      <td>Larson</td>\n      <td>examination1912@protonmail.com</td>\n      <td>47</td>\n      <td>+1-470-362-5782</td>\n      <td>Male</td>\n    </tr>\n    <tr>\n      <th>9998552</th>\n      <td>9998553</td>\n      <td>Xiao</td>\n      <td>James</td>\n      <td>hugh1907@yandex.com</td>\n      <td>63</td>\n      <td>+1-203-437-5999</td>\n      <td>Female</td>\n    </tr>\n    <tr>\n      <th>9998726</th>\n      <td>9998727</td>\n      <td>Xavier</td>\n      <td>Wilcox</td>\n      <td>those1964@protonmail.com</td>\n      <td>59</td>\n      <td>+1-847-792-4797</td>\n      <td>Male</td>\n    </tr>\n  </tbody>\n</table>\n<p>12995 rows × 7 columns</p>\n</div>"
     },
     "execution_count": 24,
     "metadata": {},
     "output_type": "execute_result"
    }
   ],
   "source": [
    "# alternative: load into dataframe, do it there\n",
    "start = perf_counter()\n",
    "\n",
    "with sqlite3.connect(people_db_file) as c:\n",
    "    people_df = pd.read_sql(\n",
    "        \"\"\"\n",
    "        SELECT * FROM people\n",
    "        \"\"\",\n",
    "        c,\n",
    "    )\n",
    "end = perf_counter()\n",
    "print(f\"Loading duration: {end - start:.3f}s\")\n",
    "\n",
    "start = perf_counter()\n",
    "result = people_df[people_df[\"first_name\"].str.startswith(\"X\")]\n",
    "end = perf_counter()\n",
    "print(f\"Just the query: {end - start:.3f}s\")\n",
    "result"
   ],
   "metadata": {
    "id": "6a6817c28d4655c",
    "outputId": "3f5e8dce-3b2a-4c57-f159-f26f817412c0",
    "colab": {
     "base_uri": "https://localhost:8080/",
     "height": 461
    },
    "ExecuteTime": {
     "start_time": "2023-11-21T13:34:39.186316900Z"
    }
   },
   "id": "6a6817c28d4655c"
  },
  {
   "cell_type": "markdown",
   "source": [
    "# Task 8.2 - Joining with football players\n",
    "Select all people from `people_database.db`, who share a name with a player from the `crowdstorming` table, as well as the position of that player. Include the `fifa` column from the `countries` table as well for those players, who have a match in that table.\n",
    "\n",
    "*Hint 1*: You can use the `||` operator to concatenate strings in SQL.\n",
    "\n",
    "*Hint 2*: You can use the `DISTINCT` keyword to get rid of duplicates.\n",
    "\n",
    "*Hint 3*: You can have multiple JOINs per query.\n",
    "\n",
    "*Hint 4*: If you can't solve it in pure SQL, break it down into multiple smaller problems. For example, first get all the names of the players, then join that with the people table."
   ],
   "metadata": {
    "collapsed": false,
    "id": "9f62c0b4ad97bc75"
   },
   "id": "9f62c0b4ad97bc75"
  },
  {
   "cell_type": "code",
   "execution_count": 25,
   "outputs": [
    {
     "data": {
      "text/plain": "         id first_name last_name                   email  age  \\\n0    138649     Daniel  Williams       dame1936@live.com   37   \n1    164477    Timothy  Chandler    fantasy1862@duck.com   50   \n2    166334    Timothy  Chandler  sit2075@protonmail.com   33   \n3    267274   Jermaine     Jones  latest1804@example.org   63   \n4    363587     Fabian   Johnson    export1899@gmail.com   38   \n..      ...        ...       ...                     ...  ...   \n77  9512449      Marco   Estrada   kinds1931@example.com   27   \n78  9525802      Marco   Estrada     tigers1877@live.com   29   \n79  9912121    Gonzalo    Castro  anywhere2057@gmail.com   38   \n80  9913137    Gonzalo    Castro   thumb1836@example.org   64   \n81  9998787    Gonzalo    Castro     comes2059@gmail.com   48   \n\n       phone_number  gender              position fifa  \n0      +13348150398  Female  Defensive Midfielder  GER  \n1   +1-575-350-9407  Female      Right Midfielder  GER  \n2      +17702098150  Female      Right Midfielder  GER  \n3      +13857638839    Male  Defensive Midfielder  GER  \n4   +1-667-151-2093    Male         Left Fullback  GER  \n..              ...     ...                   ...  ...  \n77     +17038589107  Female  Defensive Midfielder  FRA  \n78  +1-657-036-6973   Other  Defensive Midfielder  FRA  \n79  +1-816-577-6340   Other      Right Midfielder  GER  \n80  +1-219-973-7220  Female      Right Midfielder  GER  \n81  +1-541-192-3897  Female      Right Midfielder  GER  \n\n[82 rows x 9 columns]",
      "text/html": "<div>\n<style scoped>\n    .dataframe tbody tr th:only-of-type {\n        vertical-align: middle;\n    }\n\n    .dataframe tbody tr th {\n        vertical-align: top;\n    }\n\n    .dataframe thead th {\n        text-align: right;\n    }\n</style>\n<table border=\"1\" class=\"dataframe\">\n  <thead>\n    <tr style=\"text-align: right;\">\n      <th></th>\n      <th>id</th>\n      <th>first_name</th>\n      <th>last_name</th>\n      <th>email</th>\n      <th>age</th>\n      <th>phone_number</th>\n      <th>gender</th>\n      <th>position</th>\n      <th>fifa</th>\n    </tr>\n  </thead>\n  <tbody>\n    <tr>\n      <th>0</th>\n      <td>138649</td>\n      <td>Daniel</td>\n      <td>Williams</td>\n      <td>dame1936@live.com</td>\n      <td>37</td>\n      <td>+13348150398</td>\n      <td>Female</td>\n      <td>Defensive Midfielder</td>\n      <td>GER</td>\n    </tr>\n    <tr>\n      <th>1</th>\n      <td>164477</td>\n      <td>Timothy</td>\n      <td>Chandler</td>\n      <td>fantasy1862@duck.com</td>\n      <td>50</td>\n      <td>+1-575-350-9407</td>\n      <td>Female</td>\n      <td>Right Midfielder</td>\n      <td>GER</td>\n    </tr>\n    <tr>\n      <th>2</th>\n      <td>166334</td>\n      <td>Timothy</td>\n      <td>Chandler</td>\n      <td>sit2075@protonmail.com</td>\n      <td>33</td>\n      <td>+17702098150</td>\n      <td>Female</td>\n      <td>Right Midfielder</td>\n      <td>GER</td>\n    </tr>\n    <tr>\n      <th>3</th>\n      <td>267274</td>\n      <td>Jermaine</td>\n      <td>Jones</td>\n      <td>latest1804@example.org</td>\n      <td>63</td>\n      <td>+13857638839</td>\n      <td>Male</td>\n      <td>Defensive Midfielder</td>\n      <td>GER</td>\n    </tr>\n    <tr>\n      <th>4</th>\n      <td>363587</td>\n      <td>Fabian</td>\n      <td>Johnson</td>\n      <td>export1899@gmail.com</td>\n      <td>38</td>\n      <td>+1-667-151-2093</td>\n      <td>Male</td>\n      <td>Left Fullback</td>\n      <td>GER</td>\n    </tr>\n    <tr>\n      <th>...</th>\n      <td>...</td>\n      <td>...</td>\n      <td>...</td>\n      <td>...</td>\n      <td>...</td>\n      <td>...</td>\n      <td>...</td>\n      <td>...</td>\n      <td>...</td>\n    </tr>\n    <tr>\n      <th>77</th>\n      <td>9512449</td>\n      <td>Marco</td>\n      <td>Estrada</td>\n      <td>kinds1931@example.com</td>\n      <td>27</td>\n      <td>+17038589107</td>\n      <td>Female</td>\n      <td>Defensive Midfielder</td>\n      <td>FRA</td>\n    </tr>\n    <tr>\n      <th>78</th>\n      <td>9525802</td>\n      <td>Marco</td>\n      <td>Estrada</td>\n      <td>tigers1877@live.com</td>\n      <td>29</td>\n      <td>+1-657-036-6973</td>\n      <td>Other</td>\n      <td>Defensive Midfielder</td>\n      <td>FRA</td>\n    </tr>\n    <tr>\n      <th>79</th>\n      <td>9912121</td>\n      <td>Gonzalo</td>\n      <td>Castro</td>\n      <td>anywhere2057@gmail.com</td>\n      <td>38</td>\n      <td>+1-816-577-6340</td>\n      <td>Other</td>\n      <td>Right Midfielder</td>\n      <td>GER</td>\n    </tr>\n    <tr>\n      <th>80</th>\n      <td>9913137</td>\n      <td>Gonzalo</td>\n      <td>Castro</td>\n      <td>thumb1836@example.org</td>\n      <td>64</td>\n      <td>+1-219-973-7220</td>\n      <td>Female</td>\n      <td>Right Midfielder</td>\n      <td>GER</td>\n    </tr>\n    <tr>\n      <th>81</th>\n      <td>9998787</td>\n      <td>Gonzalo</td>\n      <td>Castro</td>\n      <td>comes2059@gmail.com</td>\n      <td>48</td>\n      <td>+1-541-192-3897</td>\n      <td>Female</td>\n      <td>Right Midfielder</td>\n      <td>GER</td>\n    </tr>\n  </tbody>\n</table>\n<p>82 rows × 9 columns</p>\n</div>"
     },
     "execution_count": 25,
     "metadata": {},
     "output_type": "execute_result"
    }
   ],
   "source": [
    "with sqlite3.connect(people_db_file) as c:\n",
    "    c.execute(\"ATTACH DATABASE './crowdstorming.db' AS crowd\")\n",
    "    results = pd.read_sql(\n",
    "        \"\"\"\n",
    "        SELECT\n",
    "            DISTINCT\n",
    "                people.*,\n",
    "                crowd.crowdstorming.position,\n",
    "                crowd.countries.fifa\n",
    "        FROM people\n",
    "            INNER JOIN\n",
    "                crowd.crowdstorming\n",
    "            ON\n",
    "                people.first_name || ' ' || people.last_name = crowd.crowdstorming.player\n",
    "            LEFT JOIN\n",
    "                crowd.countries\n",
    "            WHERE\n",
    "                crowd.crowdstorming.leagueCountry = crowd.countries.name\n",
    "        \"\"\",\n",
    "        c,\n",
    "    )\n",
    "\n",
    "results"
   ],
   "metadata": {
    "id": "6449edeb67fd1119",
    "outputId": "29f20886-4131-4c1e-c6a0-ea468a3052b5",
    "colab": {
     "base_uri": "https://localhost:8080/",
     "height": 617
    },
    "ExecuteTime": {
     "start_time": "2023-11-21T13:35:01.777465100Z"
    }
   },
   "id": "6449edeb67fd1119"
  },
  {
   "cell_type": "code",
   "execution_count": 25,
   "outputs": [],
   "source": [],
   "metadata": {
    "id": "33895fdccca9c036",
    "ExecuteTime": {
     "start_time": "2023-11-21T13:35:27.195432600Z"
    }
   },
   "id": "33895fdccca9c036"
  }
 ],
 "metadata": {
  "kernelspec": {
   "display_name": "Python 3",
   "language": "python",
   "name": "python3"
  },
  "language_info": {
   "codemirror_mode": {
    "name": "ipython",
    "version": 2
   },
   "file_extension": ".py",
   "mimetype": "text/x-python",
   "name": "python",
   "nbconvert_exporter": "python",
   "pygments_lexer": "ipython2",
   "version": "2.7.6"
  },
  "colab": {
   "provenance": []
  }
 },
 "nbformat": 4,
 "nbformat_minor": 5
}
