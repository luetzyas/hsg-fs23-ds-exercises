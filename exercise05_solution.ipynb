{
 "cells": [
  {
   "cell_type": "code",
   "execution_count": 1,
   "id": "initial_id",
   "metadata": {
    "collapsed": true,
    "id": "initial_id",
    "ExecuteTime": {
     "end_time": "2023-11-21T13:34:24.810900Z",
     "start_time": "2023-11-21T13:34:23.895476300Z"
    }
   },
   "outputs": [],
   "source": [
    "import pandas as pd\n",
    "import sqlite3\n",
    "\n",
    "import requests  # used later to download additional data\n",
    "\n",
    "# for the progress bar\n",
    "from tqdm.auto import tqdm\n",
    "from pathlib import Path\n",
    "\n",
    "# to measure runtime\n",
    "from time import perf_counter"
   ]
  },
  {
   "cell_type": "markdown",
   "source": [
    "- [`pandas` Cheat Sheet](https://pandas.pydata.org/Pandas_Cheat_Sheet.pdf)\n",
    "- [`matplotlib` Cheat Sheet](https://matplotlib.org/cheatsheets/_images/cheatsheets-1.png)\n",
    "- [SQL Cheat Sheet](https://www.sqltutorial.org/sql-cheat-sheet/)"
   ],
   "metadata": {
    "collapsed": false,
    "id": "dea9712c782bc7bf"
   },
   "id": "dea9712c782bc7bf"
  },
  {
   "cell_type": "markdown",
   "source": [
    "# Loading the data"
   ],
   "metadata": {
    "collapsed": false,
    "id": "10a6c00f800cbd46"
   },
   "id": "10a6c00f800cbd46"
  },
  {
   "cell_type": "code",
   "execution_count": 2,
   "outputs": [
    {
     "data": {
      "text/plain": "     playerShort         player             club leagueCountry    birthday  \\\n0  lucas-wilchez  Lucas Wilchez    Real Zaragoza         Spain  31.08.1983   \n1     john-utaka     John Utaka  Montpellier HSC        France  08.01.1982   \n2    abdon-prats    Abdón Prats     RCD Mallorca         Spain  17.12.1992   \n3     pablo-mari     Pablo Marí     RCD Mallorca         Spain  31.08.1993   \n4     ruben-pena     Rubén Peña  Real Valladolid         Spain  18.07.1991   \n\n   height  weight              position  games  victories  ...  rater2  \\\n0   177.0    72.0  Attacking Midfielder      1          0  ...    0.50   \n1   179.0    82.0          Right Winger      1          0  ...    0.75   \n2   181.0    79.0                   NaN      1          0  ...     NaN   \n3   191.0    87.0           Center Back      1          1  ...     NaN   \n4   172.0    70.0      Right Midfielder      1          1  ...     NaN   \n\n   refNum  refCountry  Alpha_3   meanIAT    nIAT     seIAT   meanExp    nExp  \\\n0       1           1      GRC  0.326391   712.0  0.000564  0.396000   750.0   \n1       2           2      ZMB  0.203375    40.0  0.010875 -0.204082    49.0   \n2       3           3      ESP  0.369894  1785.0  0.000229  0.588297  1897.0   \n3       3           3      ESP  0.369894  1785.0  0.000229  0.588297  1897.0   \n4       3           3      ESP  0.369894  1785.0  0.000229  0.588297  1897.0   \n\n      seExp  \n0  0.002696  \n1  0.061504  \n2  0.001002  \n3  0.001002  \n4  0.001002  \n\n[5 rows x 28 columns]",
      "text/html": "<div>\n<style scoped>\n    .dataframe tbody tr th:only-of-type {\n        vertical-align: middle;\n    }\n\n    .dataframe tbody tr th {\n        vertical-align: top;\n    }\n\n    .dataframe thead th {\n        text-align: right;\n    }\n</style>\n<table border=\"1\" class=\"dataframe\">\n  <thead>\n    <tr style=\"text-align: right;\">\n      <th></th>\n      <th>playerShort</th>\n      <th>player</th>\n      <th>club</th>\n      <th>leagueCountry</th>\n      <th>birthday</th>\n      <th>height</th>\n      <th>weight</th>\n      <th>position</th>\n      <th>games</th>\n      <th>victories</th>\n      <th>...</th>\n      <th>rater2</th>\n      <th>refNum</th>\n      <th>refCountry</th>\n      <th>Alpha_3</th>\n      <th>meanIAT</th>\n      <th>nIAT</th>\n      <th>seIAT</th>\n      <th>meanExp</th>\n      <th>nExp</th>\n      <th>seExp</th>\n    </tr>\n  </thead>\n  <tbody>\n    <tr>\n      <th>0</th>\n      <td>lucas-wilchez</td>\n      <td>Lucas Wilchez</td>\n      <td>Real Zaragoza</td>\n      <td>Spain</td>\n      <td>31.08.1983</td>\n      <td>177.0</td>\n      <td>72.0</td>\n      <td>Attacking Midfielder</td>\n      <td>1</td>\n      <td>0</td>\n      <td>...</td>\n      <td>0.50</td>\n      <td>1</td>\n      <td>1</td>\n      <td>GRC</td>\n      <td>0.326391</td>\n      <td>712.0</td>\n      <td>0.000564</td>\n      <td>0.396000</td>\n      <td>750.0</td>\n      <td>0.002696</td>\n    </tr>\n    <tr>\n      <th>1</th>\n      <td>john-utaka</td>\n      <td>John Utaka</td>\n      <td>Montpellier HSC</td>\n      <td>France</td>\n      <td>08.01.1982</td>\n      <td>179.0</td>\n      <td>82.0</td>\n      <td>Right Winger</td>\n      <td>1</td>\n      <td>0</td>\n      <td>...</td>\n      <td>0.75</td>\n      <td>2</td>\n      <td>2</td>\n      <td>ZMB</td>\n      <td>0.203375</td>\n      <td>40.0</td>\n      <td>0.010875</td>\n      <td>-0.204082</td>\n      <td>49.0</td>\n      <td>0.061504</td>\n    </tr>\n    <tr>\n      <th>2</th>\n      <td>abdon-prats</td>\n      <td>Abdón Prats</td>\n      <td>RCD Mallorca</td>\n      <td>Spain</td>\n      <td>17.12.1992</td>\n      <td>181.0</td>\n      <td>79.0</td>\n      <td>NaN</td>\n      <td>1</td>\n      <td>0</td>\n      <td>...</td>\n      <td>NaN</td>\n      <td>3</td>\n      <td>3</td>\n      <td>ESP</td>\n      <td>0.369894</td>\n      <td>1785.0</td>\n      <td>0.000229</td>\n      <td>0.588297</td>\n      <td>1897.0</td>\n      <td>0.001002</td>\n    </tr>\n    <tr>\n      <th>3</th>\n      <td>pablo-mari</td>\n      <td>Pablo Marí</td>\n      <td>RCD Mallorca</td>\n      <td>Spain</td>\n      <td>31.08.1993</td>\n      <td>191.0</td>\n      <td>87.0</td>\n      <td>Center Back</td>\n      <td>1</td>\n      <td>1</td>\n      <td>...</td>\n      <td>NaN</td>\n      <td>3</td>\n      <td>3</td>\n      <td>ESP</td>\n      <td>0.369894</td>\n      <td>1785.0</td>\n      <td>0.000229</td>\n      <td>0.588297</td>\n      <td>1897.0</td>\n      <td>0.001002</td>\n    </tr>\n    <tr>\n      <th>4</th>\n      <td>ruben-pena</td>\n      <td>Rubén Peña</td>\n      <td>Real Valladolid</td>\n      <td>Spain</td>\n      <td>18.07.1991</td>\n      <td>172.0</td>\n      <td>70.0</td>\n      <td>Right Midfielder</td>\n      <td>1</td>\n      <td>1</td>\n      <td>...</td>\n      <td>NaN</td>\n      <td>3</td>\n      <td>3</td>\n      <td>ESP</td>\n      <td>0.369894</td>\n      <td>1785.0</td>\n      <td>0.000229</td>\n      <td>0.588297</td>\n      <td>1897.0</td>\n      <td>0.001002</td>\n    </tr>\n  </tbody>\n</table>\n<p>5 rows × 28 columns</p>\n</div>"
     },
     "execution_count": 2,
     "metadata": {},
     "output_type": "execute_result"
    }
   ],
   "source": [
    "df = pd.read_csv('https://drive.switch.ch/index.php/s/UEpTFv2Bfa5C1dd/download')\n",
    "df.head()"
   ],
   "metadata": {
    "id": "dbbb55920a066c05",
    "outputId": "38465c16-be40-495e-ee67-cc462ca96e3c",
    "colab": {
     "base_uri": "https://localhost:8080/",
     "height": 342
    },
    "ExecuteTime": {
     "end_time": "2023-11-21T13:34:28.856236500Z",
     "start_time": "2023-11-21T13:34:24.799900200Z"
    }
   },
   "id": "dbbb55920a066c05"
  },
  {
   "cell_type": "markdown",
   "source": [
    "We repeat our simple data cleaning here, by getting rid of all `NaN` values."
   ],
   "metadata": {
    "collapsed": false,
    "id": "942744c46eafe2b7"
   },
   "id": "942744c46eafe2b7"
  },
  {
   "cell_type": "code",
   "execution_count": 3,
   "outputs": [],
   "source": [
    "df = df.dropna()"
   ],
   "metadata": {
    "id": "7d1d63bf868c148c",
    "ExecuteTime": {
     "end_time": "2023-11-21T13:34:29.015759800Z",
     "start_time": "2023-11-21T13:34:28.857235500Z"
    }
   },
   "id": "7d1d63bf868c148c"
  },
  {
   "cell_type": "markdown",
   "source": [
    "We will be using [`sqlalchemy`](https://www.sqlalchemy.org/) here. First we store the data from the DataFrame in a sqlite3 database.\n",
    "\n",
    "You can find an `sqlalchemy` cheat sheet [here](https://www.pythonsheets.com/notes/python-sqlalchemy.html)."
   ],
   "metadata": {
    "collapsed": false,
    "id": "8a56051d600a540f"
   },
   "id": "8a56051d600a540f"
  },
  {
   "cell_type": "code",
   "execution_count": 4,
   "outputs": [
    {
     "name": "stdout",
     "output_type": "stream",
     "text": [
      "dict_keys(['countries', 'crowdstorming'])\n"
     ]
    }
   ],
   "source": [
    "with sqlite3.connect('crowdstorming.db') as c:\n",
    "    df.to_sql('crowdstorming', c, if_exists=\"replace\")\n",
    "\n",
    "from sqlalchemy import create_engine, MetaData\n",
    "\n",
    "engine = create_engine('sqlite:///crowdstorming.db')\n",
    "metadata = MetaData()\n",
    "metadata.reflect(engine)\n",
    "\n",
    "table_names = metadata.tables.keys()\n",
    "print(table_names)"
   ],
   "metadata": {
    "id": "86cb80ef22323e0",
    "outputId": "033655e9-f4fd-46a5-db81-05db80288922",
    "colab": {
     "base_uri": "https://localhost:8080/"
    },
    "ExecuteTime": {
     "start_time": "2023-11-21T13:34:28.906240600Z"
    }
   },
   "id": "86cb80ef22323e0"
  },
  {
   "cell_type": "markdown",
   "source": [
    "# Task 3.1 - Loading additional data\n",
    "\n",
    "To enrich our data we will collect information about the countries. For this we will use an API.\n",
    "\n",
    "- Make a GET request to https://restcountries.com/v3.1/all. You can use the [`requests` library](https://requests.readthedocs.io/en/latest/user/quickstart/) for this.\n",
    "- Create a DataFrame called `countries_df` from the response\n",
    "- Alternative: Load the data from the file `countries.json` (in case the API dies)\n",
    "- You may need either [`pd.DataFrame.from_records`](https://pandas.pydata.org/docs/reference/api/pandas.DataFrame.from_records.html), [`pd.read_json`](https://pandas.pydata.org/docs/reference/api/pandas.read_json.html)."
   ],
   "metadata": {
    "collapsed": false,
    "id": "1b8e4dc72b2d87fd"
   },
   "id": "1b8e4dc72b2d87fd"
  },
  {
   "cell_type": "code",
   "execution_count": 5,
   "outputs": [
    {
     "data": {
      "text/plain": "                                                  name             tld cca2  \\\n0    {'common': 'Burkina Faso', 'official': 'Burkin...           [.bf]   BF   \n1    {'common': 'Hong Kong', 'official': 'Hong Kong...      [.hk, .香港]   HK   \n2    {'common': 'United Arab Emirates', 'official':...  [.ae, امارات.]   AE   \n3    {'common': 'Antigua and Barbuda', 'official': ...           [.ag]   AG   \n4    {'common': 'Comoros', 'official': 'Union of th...           [.km]   KM   \n..                                                 ...             ...  ...   \n245  {'common': 'New Zealand', 'official': 'New Zea...           [.nz]   NZ   \n246  {'common': 'Italy', 'official': 'Italian Repub...           [.it]   IT   \n247  {'common': 'El Salvador', 'official': 'Republi...           [.sv]   SV   \n248  {'common': 'Svalbard and Jan Mayen', 'official...           [.sj]   SJ   \n249  {'common': 'Vanuatu', 'official': 'Republic of...           [.vu]   VU   \n\n    ccn3 cca3 cioc independent               status  unMember  \\\n0    854  BFA  BUR        True  officially-assigned      True   \n1    344  HKG  HKG       False  officially-assigned     False   \n2    784  ARE  UAE        True  officially-assigned      True   \n3    028  ATG  ANT        True  officially-assigned      True   \n4    174  COM  COM        True  officially-assigned      True   \n..   ...  ...  ...         ...                  ...       ...   \n245  554  NZL  NZL        True  officially-assigned      True   \n246  380  ITA  ITA        True  officially-assigned      True   \n247  222  SLV  ESA        True  officially-assigned      True   \n248  744  SJM  NaN       False  officially-assigned     False   \n249  548  VUT  VAN        True  officially-assigned      True   \n\n                                            currencies  ...            gini  \\\n0    {'XOF': {'name': 'West African CFA franc', 'sy...  ...  {'2014': 35.3}   \n1    {'HKD': {'name': 'Hong Kong dollar', 'symbol':...  ...             NaN   \n2    {'AED': {'name': 'United Arab Emirates dirham'...  ...  {'2018': 26.0}   \n3    {'XCD': {'name': 'Eastern Caribbean dollar', '...  ...             NaN   \n4    {'KMF': {'name': 'Comorian franc', 'symbol': '...  ...  {'2014': 45.3}   \n..                                                 ...  ...             ...   \n245  {'NZD': {'name': 'New Zealand dollar', 'symbol...  ...             NaN   \n246           {'EUR': {'name': 'Euro', 'symbol': '€'}}  ...  {'2017': 35.9}   \n247  {'USD': {'name': 'United States dollar', 'symb...  ...  {'2019': 38.8}   \n248         {'NOK': {'name': 'krone', 'symbol': 'kr'}}  ...             NaN   \n249  {'VUV': {'name': 'Vanuatu vatu', 'symbol': 'Vt'}}  ...  {'2010': 37.6}   \n\n    fifa                                  car  \\\n0    BFA   {'signs': ['BF'], 'side': 'right'}   \n1    HKG    {'signs': ['HK'], 'side': 'left'}   \n2    UAE  {'signs': ['UAE'], 'side': 'right'}   \n3    ATG    {'signs': ['AG'], 'side': 'left'}   \n4    COM  {'signs': ['COM'], 'side': 'right'}   \n..   ...                                  ...   \n245  NZL    {'signs': ['NZ'], 'side': 'left'}   \n246  ITA    {'signs': ['I'], 'side': 'right'}   \n247  SLV   {'signs': ['ES'], 'side': 'right'}   \n248  NaN    {'signs': ['N'], 'side': 'right'}   \n249  VAN   {'signs': ['VU'], 'side': 'right'}   \n\n                                             timezones       continents  \\\n0                                                [UTC]         [Africa]   \n1                                          [UTC+08:00]           [Asia]   \n2                                          [UTC+04:00]           [Asia]   \n3                                          [UTC-04:00]  [North America]   \n4                                          [UTC+03:00]         [Africa]   \n..                                                 ...              ...   \n245  [UTC-11:00, UTC-10:00, UTC+12:00, UTC+12:45, U...        [Oceania]   \n246                                        [UTC+01:00]         [Europe]   \n247                                        [UTC-06:00]  [North America]   \n248                                        [UTC+01:00]         [Europe]   \n249                                        [UTC+11:00]        [Oceania]   \n\n                                                 flags  \\\n0    {'png': 'https://flagcdn.com/w320/bf.png', 'sv...   \n1    {'png': 'https://flagcdn.com/w320/hk.png', 'sv...   \n2    {'png': 'https://flagcdn.com/w320/ae.png', 'sv...   \n3    {'png': 'https://flagcdn.com/w320/ag.png', 'sv...   \n4    {'png': 'https://flagcdn.com/w320/km.png', 'sv...   \n..                                                 ...   \n245  {'png': 'https://flagcdn.com/w320/nz.png', 'sv...   \n246  {'png': 'https://flagcdn.com/w320/it.png', 'sv...   \n247  {'png': 'https://flagcdn.com/w320/sv.png', 'sv...   \n248  {'png': 'https://flagcdn.com/w320/sj.png', 'sv...   \n249  {'png': 'https://flagcdn.com/w320/vu.png', 'sv...   \n\n                                            coatOfArms startOfWeek  \\\n0    {'png': 'https://mainfacts.com/media/images/co...      monday   \n1    {'png': 'https://mainfacts.com/media/images/co...      monday   \n2    {'png': 'https://mainfacts.com/media/images/co...      sunday   \n3    {'png': 'https://mainfacts.com/media/images/co...      monday   \n4    {'png': 'https://mainfacts.com/media/images/co...      monday   \n..                                                 ...         ...   \n245  {'png': 'https://mainfacts.com/media/images/co...      monday   \n246  {'png': 'https://mainfacts.com/media/images/co...      monday   \n247  {'png': 'https://mainfacts.com/media/images/co...      monday   \n248                                                 {}      monday   \n249  {'png': 'https://mainfacts.com/media/images/co...      monday   \n\n                       capitalInfo  \\\n0       {'latlng': [12.37, -1.52]}   \n1    {'latlng': [22.267, 114.188]}   \n2       {'latlng': [24.47, 54.37]}   \n3      {'latlng': [17.12, -61.85]}   \n4       {'latlng': [-11.7, 43.23]}   \n..                             ...   \n245    {'latlng': [-41.3, 174.78]}   \n246      {'latlng': [41.9, 12.48]}   \n247      {'latlng': [13.7, -89.2]}   \n248     {'latlng': [78.22, 15.63]}   \n249   {'latlng': [-17.73, 168.32]}   \n\n                                            postalCode  \n0                                                  NaN  \n1                                                  NaN  \n2                                                  NaN  \n3                                                  NaN  \n4                                                  NaN  \n..                                                 ...  \n245           {'format': '####', 'regex': '^(\\d{4})$'}  \n246          {'format': '#####', 'regex': '^(\\d{5})$'}  \n247  {'format': 'CP ####', 'regex': '^(?:CP)*(\\d{4}...  \n248                                                NaN  \n249                                                NaN  \n\n[250 rows x 35 columns]",
      "text/html": "<div>\n<style scoped>\n    .dataframe tbody tr th:only-of-type {\n        vertical-align: middle;\n    }\n\n    .dataframe tbody tr th {\n        vertical-align: top;\n    }\n\n    .dataframe thead th {\n        text-align: right;\n    }\n</style>\n<table border=\"1\" class=\"dataframe\">\n  <thead>\n    <tr style=\"text-align: right;\">\n      <th></th>\n      <th>name</th>\n      <th>tld</th>\n      <th>cca2</th>\n      <th>ccn3</th>\n      <th>cca3</th>\n      <th>cioc</th>\n      <th>independent</th>\n      <th>status</th>\n      <th>unMember</th>\n      <th>currencies</th>\n      <th>...</th>\n      <th>gini</th>\n      <th>fifa</th>\n      <th>car</th>\n      <th>timezones</th>\n      <th>continents</th>\n      <th>flags</th>\n      <th>coatOfArms</th>\n      <th>startOfWeek</th>\n      <th>capitalInfo</th>\n      <th>postalCode</th>\n    </tr>\n  </thead>\n  <tbody>\n    <tr>\n      <th>0</th>\n      <td>{'common': 'Burkina Faso', 'official': 'Burkin...</td>\n      <td>[.bf]</td>\n      <td>BF</td>\n      <td>854</td>\n      <td>BFA</td>\n      <td>BUR</td>\n      <td>True</td>\n      <td>officially-assigned</td>\n      <td>True</td>\n      <td>{'XOF': {'name': 'West African CFA franc', 'sy...</td>\n      <td>...</td>\n      <td>{'2014': 35.3}</td>\n      <td>BFA</td>\n      <td>{'signs': ['BF'], 'side': 'right'}</td>\n      <td>[UTC]</td>\n      <td>[Africa]</td>\n      <td>{'png': 'https://flagcdn.com/w320/bf.png', 'sv...</td>\n      <td>{'png': 'https://mainfacts.com/media/images/co...</td>\n      <td>monday</td>\n      <td>{'latlng': [12.37, -1.52]}</td>\n      <td>NaN</td>\n    </tr>\n    <tr>\n      <th>1</th>\n      <td>{'common': 'Hong Kong', 'official': 'Hong Kong...</td>\n      <td>[.hk, .香港]</td>\n      <td>HK</td>\n      <td>344</td>\n      <td>HKG</td>\n      <td>HKG</td>\n      <td>False</td>\n      <td>officially-assigned</td>\n      <td>False</td>\n      <td>{'HKD': {'name': 'Hong Kong dollar', 'symbol':...</td>\n      <td>...</td>\n      <td>NaN</td>\n      <td>HKG</td>\n      <td>{'signs': ['HK'], 'side': 'left'}</td>\n      <td>[UTC+08:00]</td>\n      <td>[Asia]</td>\n      <td>{'png': 'https://flagcdn.com/w320/hk.png', 'sv...</td>\n      <td>{'png': 'https://mainfacts.com/media/images/co...</td>\n      <td>monday</td>\n      <td>{'latlng': [22.267, 114.188]}</td>\n      <td>NaN</td>\n    </tr>\n    <tr>\n      <th>2</th>\n      <td>{'common': 'United Arab Emirates', 'official':...</td>\n      <td>[.ae, امارات.]</td>\n      <td>AE</td>\n      <td>784</td>\n      <td>ARE</td>\n      <td>UAE</td>\n      <td>True</td>\n      <td>officially-assigned</td>\n      <td>True</td>\n      <td>{'AED': {'name': 'United Arab Emirates dirham'...</td>\n      <td>...</td>\n      <td>{'2018': 26.0}</td>\n      <td>UAE</td>\n      <td>{'signs': ['UAE'], 'side': 'right'}</td>\n      <td>[UTC+04:00]</td>\n      <td>[Asia]</td>\n      <td>{'png': 'https://flagcdn.com/w320/ae.png', 'sv...</td>\n      <td>{'png': 'https://mainfacts.com/media/images/co...</td>\n      <td>sunday</td>\n      <td>{'latlng': [24.47, 54.37]}</td>\n      <td>NaN</td>\n    </tr>\n    <tr>\n      <th>3</th>\n      <td>{'common': 'Antigua and Barbuda', 'official': ...</td>\n      <td>[.ag]</td>\n      <td>AG</td>\n      <td>028</td>\n      <td>ATG</td>\n      <td>ANT</td>\n      <td>True</td>\n      <td>officially-assigned</td>\n      <td>True</td>\n      <td>{'XCD': {'name': 'Eastern Caribbean dollar', '...</td>\n      <td>...</td>\n      <td>NaN</td>\n      <td>ATG</td>\n      <td>{'signs': ['AG'], 'side': 'left'}</td>\n      <td>[UTC-04:00]</td>\n      <td>[North America]</td>\n      <td>{'png': 'https://flagcdn.com/w320/ag.png', 'sv...</td>\n      <td>{'png': 'https://mainfacts.com/media/images/co...</td>\n      <td>monday</td>\n      <td>{'latlng': [17.12, -61.85]}</td>\n      <td>NaN</td>\n    </tr>\n    <tr>\n      <th>4</th>\n      <td>{'common': 'Comoros', 'official': 'Union of th...</td>\n      <td>[.km]</td>\n      <td>KM</td>\n      <td>174</td>\n      <td>COM</td>\n      <td>COM</td>\n      <td>True</td>\n      <td>officially-assigned</td>\n      <td>True</td>\n      <td>{'KMF': {'name': 'Comorian franc', 'symbol': '...</td>\n      <td>...</td>\n      <td>{'2014': 45.3}</td>\n      <td>COM</td>\n      <td>{'signs': ['COM'], 'side': 'right'}</td>\n      <td>[UTC+03:00]</td>\n      <td>[Africa]</td>\n      <td>{'png': 'https://flagcdn.com/w320/km.png', 'sv...</td>\n      <td>{'png': 'https://mainfacts.com/media/images/co...</td>\n      <td>monday</td>\n      <td>{'latlng': [-11.7, 43.23]}</td>\n      <td>NaN</td>\n    </tr>\n    <tr>\n      <th>...</th>\n      <td>...</td>\n      <td>...</td>\n      <td>...</td>\n      <td>...</td>\n      <td>...</td>\n      <td>...</td>\n      <td>...</td>\n      <td>...</td>\n      <td>...</td>\n      <td>...</td>\n      <td>...</td>\n      <td>...</td>\n      <td>...</td>\n      <td>...</td>\n      <td>...</td>\n      <td>...</td>\n      <td>...</td>\n      <td>...</td>\n      <td>...</td>\n      <td>...</td>\n      <td>...</td>\n    </tr>\n    <tr>\n      <th>245</th>\n      <td>{'common': 'New Zealand', 'official': 'New Zea...</td>\n      <td>[.nz]</td>\n      <td>NZ</td>\n      <td>554</td>\n      <td>NZL</td>\n      <td>NZL</td>\n      <td>True</td>\n      <td>officially-assigned</td>\n      <td>True</td>\n      <td>{'NZD': {'name': 'New Zealand dollar', 'symbol...</td>\n      <td>...</td>\n      <td>NaN</td>\n      <td>NZL</td>\n      <td>{'signs': ['NZ'], 'side': 'left'}</td>\n      <td>[UTC-11:00, UTC-10:00, UTC+12:00, UTC+12:45, U...</td>\n      <td>[Oceania]</td>\n      <td>{'png': 'https://flagcdn.com/w320/nz.png', 'sv...</td>\n      <td>{'png': 'https://mainfacts.com/media/images/co...</td>\n      <td>monday</td>\n      <td>{'latlng': [-41.3, 174.78]}</td>\n      <td>{'format': '####', 'regex': '^(\\d{4})$'}</td>\n    </tr>\n    <tr>\n      <th>246</th>\n      <td>{'common': 'Italy', 'official': 'Italian Repub...</td>\n      <td>[.it]</td>\n      <td>IT</td>\n      <td>380</td>\n      <td>ITA</td>\n      <td>ITA</td>\n      <td>True</td>\n      <td>officially-assigned</td>\n      <td>True</td>\n      <td>{'EUR': {'name': 'Euro', 'symbol': '€'}}</td>\n      <td>...</td>\n      <td>{'2017': 35.9}</td>\n      <td>ITA</td>\n      <td>{'signs': ['I'], 'side': 'right'}</td>\n      <td>[UTC+01:00]</td>\n      <td>[Europe]</td>\n      <td>{'png': 'https://flagcdn.com/w320/it.png', 'sv...</td>\n      <td>{'png': 'https://mainfacts.com/media/images/co...</td>\n      <td>monday</td>\n      <td>{'latlng': [41.9, 12.48]}</td>\n      <td>{'format': '#####', 'regex': '^(\\d{5})$'}</td>\n    </tr>\n    <tr>\n      <th>247</th>\n      <td>{'common': 'El Salvador', 'official': 'Republi...</td>\n      <td>[.sv]</td>\n      <td>SV</td>\n      <td>222</td>\n      <td>SLV</td>\n      <td>ESA</td>\n      <td>True</td>\n      <td>officially-assigned</td>\n      <td>True</td>\n      <td>{'USD': {'name': 'United States dollar', 'symb...</td>\n      <td>...</td>\n      <td>{'2019': 38.8}</td>\n      <td>SLV</td>\n      <td>{'signs': ['ES'], 'side': 'right'}</td>\n      <td>[UTC-06:00]</td>\n      <td>[North America]</td>\n      <td>{'png': 'https://flagcdn.com/w320/sv.png', 'sv...</td>\n      <td>{'png': 'https://mainfacts.com/media/images/co...</td>\n      <td>monday</td>\n      <td>{'latlng': [13.7, -89.2]}</td>\n      <td>{'format': 'CP ####', 'regex': '^(?:CP)*(\\d{4}...</td>\n    </tr>\n    <tr>\n      <th>248</th>\n      <td>{'common': 'Svalbard and Jan Mayen', 'official...</td>\n      <td>[.sj]</td>\n      <td>SJ</td>\n      <td>744</td>\n      <td>SJM</td>\n      <td>NaN</td>\n      <td>False</td>\n      <td>officially-assigned</td>\n      <td>False</td>\n      <td>{'NOK': {'name': 'krone', 'symbol': 'kr'}}</td>\n      <td>...</td>\n      <td>NaN</td>\n      <td>NaN</td>\n      <td>{'signs': ['N'], 'side': 'right'}</td>\n      <td>[UTC+01:00]</td>\n      <td>[Europe]</td>\n      <td>{'png': 'https://flagcdn.com/w320/sj.png', 'sv...</td>\n      <td>{}</td>\n      <td>monday</td>\n      <td>{'latlng': [78.22, 15.63]}</td>\n      <td>NaN</td>\n    </tr>\n    <tr>\n      <th>249</th>\n      <td>{'common': 'Vanuatu', 'official': 'Republic of...</td>\n      <td>[.vu]</td>\n      <td>VU</td>\n      <td>548</td>\n      <td>VUT</td>\n      <td>VAN</td>\n      <td>True</td>\n      <td>officially-assigned</td>\n      <td>True</td>\n      <td>{'VUV': {'name': 'Vanuatu vatu', 'symbol': 'Vt'}}</td>\n      <td>...</td>\n      <td>{'2010': 37.6}</td>\n      <td>VAN</td>\n      <td>{'signs': ['VU'], 'side': 'right'}</td>\n      <td>[UTC+11:00]</td>\n      <td>[Oceania]</td>\n      <td>{'png': 'https://flagcdn.com/w320/vu.png', 'sv...</td>\n      <td>{'png': 'https://mainfacts.com/media/images/co...</td>\n      <td>monday</td>\n      <td>{'latlng': [-17.73, 168.32]}</td>\n      <td>NaN</td>\n    </tr>\n  </tbody>\n</table>\n<p>250 rows × 35 columns</p>\n</div>"
     },
     "execution_count": 5,
     "metadata": {},
     "output_type": "execute_result"
    }
   ],
   "source": [
    "with requests.get('https://restcountries.com/v3.1/all') as response:\n",
    "    response_json = response.json()\n",
    "    countries_df = pd.DataFrame.from_records(response_json)\n",
    "\n",
    "countries_df"
   ],
   "metadata": {
    "id": "a22713f2fbe469ae",
    "outputId": "d7eddfd6-7bdc-452c-e41d-c9a0de7169d0",
    "colab": {
     "base_uri": "https://localhost:8080/",
     "height": 1000
    },
    "ExecuteTime": {
     "start_time": "2023-11-21T13:34:30.158302600Z"
    }
   },
   "id": "a22713f2fbe469ae"
  },
  {
   "cell_type": "markdown",
   "source": [
    "# Task 3.2 - Data Cleaning\n",
    "The `name` column contains dictionaries. This makes it annoying for us to work with.\n",
    "Simplify the column by replacing all entries in it with the value in `common` in that dictionary.\n",
    "\n",
    "*Hint*: You did something very similar in Task 1.2 last week!"
   ],
   "metadata": {
    "collapsed": false,
    "id": "98436a242a605b35"
   },
   "id": "98436a242a605b35"
  },
  {
   "cell_type": "code",
   "execution_count": null,
   "outputs": [],
   "source": [
    "countries_df = pd.read_json(\n",
    "    \"https://drive.switch.ch/index.php/s/x0zUM0seQqigcU1/download\"\n",
    ")\n",
    "countries_df[\"name\"] = countries_df[\"name\"].map(lambda x: x[\"common\"])\n",
    "countries_df.head()"
   ],
   "metadata": {
    "id": "1737ad741b166d41",
    "outputId": "b3b327e7-3355-497b-ba2b-341c2ff38cf3",
    "colab": {
     "base_uri": "https://localhost:8080/",
     "height": 568
    },
    "is_executing": true,
    "ExecuteTime": {
     "start_time": "2023-11-21T13:34:30.895383500Z"
    }
   },
   "id": "1737ad741b166d41"
  },
  {
   "cell_type": "markdown",
   "source": [
    "# Task 3.3 - Joining DataFrames\n",
    "\n",
    "Combine the two DataFrames on the `leagueCountry` column. You can use [`pd.merge`](https://pandas.pydata.org/docs/reference/api/pandas.DataFrame.merge.html) for this.\n",
    "For the DataFrame with the countries, you only need the `name` and `fifa` columns."
   ],
   "metadata": {
    "collapsed": false,
    "id": "fb334d67fa261d16"
   },
   "id": "fb334d67fa261d16"
  },
  {
   "cell_type": "code",
   "execution_count": null,
   "outputs": [],
   "source": [
    "pd.merge(\n",
    "    df,\n",
    "    countries_df[[\"name\", \"fifa\"]],\n",
    "    how=\"left\",\n",
    "    left_on=\"leagueCountry\",\n",
    "    right_on=\"name\",\n",
    ")"
   ],
   "metadata": {
    "id": "b99f5a714ed81b19",
    "outputId": "598316c1-c231-411b-ac2a-115497f6f188",
    "colab": {
     "base_uri": "https://localhost:8080/",
     "height": 617
    },
    "is_executing": true
   },
   "id": "b99f5a714ed81b19"
  },
  {
   "cell_type": "markdown",
   "source": [
    "Here is how we can do it with SQLAlchemy.\n",
    "First we save the data from the DataFrame in the database."
   ],
   "metadata": {
    "collapsed": false,
    "id": "5c6223f2dba524e1"
   },
   "id": "5c6223f2dba524e1"
  },
  {
   "cell_type": "code",
   "execution_count": null,
   "outputs": [],
   "source": [
    "from sqlalchemy.orm import sessionmaker\n",
    "\n",
    "with sqlite3.connect(\"./crowdstorming.db\") as c:\n",
    "    countries_df[[\"name\", \"fifa\", \"unMember\"]].to_sql(\n",
    "        \"countries\", c, if_exists=\"replace\"\n",
    "    )\n",
    "\n",
    "metadata = MetaData()\n",
    "metadata.reflect(engine)\n",
    "countries_table = metadata.tables[\"countries\"]\n",
    "crowdstorming_table = metadata.tables[\"crowdstorming\"]\n",
    "Session = sessionmaker(bind=engine)\n",
    "session = Session()\n",
    "results = session.query(countries_table).all()\n",
    "print(results[:5])"
   ],
   "metadata": {
    "id": "3c27e680ca717e8e",
    "outputId": "899193a3-4b80-459e-ad90-671a3ae00b28",
    "colab": {
     "base_uri": "https://localhost:8080/"
    },
    "is_executing": true
   },
   "id": "3c27e680ca717e8e"
  },
  {
   "cell_type": "markdown",
   "source": [
    "Then we do the join, but with SQLAlchemy."
   ],
   "metadata": {
    "collapsed": false,
    "id": "1252f3e6b6b4f960"
   },
   "id": "1252f3e6b6b4f960"
  },
  {
   "cell_type": "code",
   "execution_count": null,
   "outputs": [],
   "source": [
    "results = (\n",
    "    session\n",
    "    .query(\n",
    "        crowdstorming_table.c,\n",
    "        countries_table.c.fifa\n",
    "    )\n",
    "    .join(\n",
    "        countries_table,\n",
    "        crowdstorming_table.c.leagueCountry == countries_table.c.name\n",
    "    )\n",
    "    .all()\n",
    ")\n",
    "len(results)"
   ],
   "metadata": {
    "id": "c6cd0e5dd4705db3",
    "outputId": "7bacc455-92c6-417c-8508-e676d9e19af4",
    "colab": {
     "base_uri": "https://localhost:8080/"
    },
    "is_executing": true
   },
   "id": "c6cd0e5dd4705db3"
  },
  {
   "cell_type": "markdown",
   "source": [
    "# Task 4 - Joining crowdstorming data and country data with SQL\n",
    "\n",
    "Select all columns from the `crowdstorming` table, and `fifa` and `name` columns from the `countries` table.\n",
    "Then join the two tables on the `leagueCountry` column of the `crowdstorming` table and the `name` column of the `countries` table.\n",
    "\n",
    "What JOIN do you need to replicate the results of task 3.3?\n",
    "\n",
    "First we save the data from the DataFrame in the database."
   ],
   "metadata": {
    "collapsed": false,
    "id": "1ff87928f649205e"
   },
   "id": "1ff87928f649205e"
  },
  {
   "cell_type": "code",
   "execution_count": null,
   "outputs": [],
   "source": [
    "with sqlite3.connect(\"./crowdstorming.db\") as c:\n",
    "    countries_df[[\"name\", \"fifa\", \"unMember\"]].to_sql(\n",
    "        \"countries\", c, if_exists=\"replace\"\n",
    "    )"
   ],
   "metadata": {
    "id": "f551d805b57e390c",
    "is_executing": true
   },
   "id": "f551d805b57e390c"
  },
  {
   "cell_type": "markdown",
   "source": [
    "\n",
    "Then we can do the query.\n"
   ],
   "metadata": {
    "collapsed": false,
    "id": "4aea15d466f30cae"
   },
   "id": "4aea15d466f30cae"
  },
  {
   "cell_type": "code",
   "execution_count": null,
   "outputs": [],
   "source": [
    "with sqlite3.connect(\"./crowdstorming.db\") as c:\n",
    "    result = pd.read_sql(\n",
    "        \"\"\"\n",
    "        SELECT crowdstorming.*, countries.name, countries.fifa\n",
    "        FROM crowdstorming\n",
    "        LEFT OUTER JOIN countries ON crowdstorming.leagueCountry = countries.name\n",
    "        \"\"\",\n",
    "        c,\n",
    "    )\n",
    "result"
   ],
   "metadata": {
    "id": "1bea08eb40ad1f66",
    "outputId": "5765a2a5-1ad2-470e-cb03-ae50fbd08a57",
    "colab": {
     "base_uri": "https://localhost:8080/",
     "height": 617
    },
    "is_executing": true
   },
   "id": "1bea08eb40ad1f66"
  },
  {
   "cell_type": "markdown",
   "source": [
    "And here is how we can do the same with SQLAlchemy."
   ],
   "metadata": {
    "collapsed": false,
    "id": "269b8a099aedfb57"
   },
   "id": "269b8a099aedfb57"
  },
  {
   "cell_type": "code",
   "execution_count": null,
   "outputs": [],
   "source": [
    "results = (\n",
    "    session\n",
    "    .query(\n",
    "        crowdstorming_table.c,\n",
    "        countries_table.c.name,\n",
    "        countries_table.c.fifa,\n",
    "    )\n",
    "    .join(\n",
    "        countries_table,\n",
    "        crowdstorming_table.c.leagueCountry == countries_table.c.name,\n",
    "        isouter=True\n",
    "    )\n",
    "    .all()\n",
    ")\n",
    "print(results[0])"
   ],
   "metadata": {
    "id": "8903eef9314dfc66",
    "outputId": "7e90cf1b-07d4-4bd8-8f05-c43c355a8004",
    "colab": {
     "base_uri": "https://localhost:8080/"
    },
    "is_executing": true
   },
   "id": "8903eef9314dfc66"
  },
  {
   "cell_type": "markdown",
   "source": [
    "# Task 5 - Calculating the mean\n",
    "\n",
    "Calculate the mean height and weight of each player in the database.\n",
    "\n",
    "*Hint*: Check the SQL Aggregate Functions sections in the sidebar in the [cheat sheet](https://www.sqltutorial.org/sql-cheat-sheet/)."
   ],
   "metadata": {
    "collapsed": false,
    "id": "427ba4b227ce9b22"
   },
   "id": "427ba4b227ce9b22"
  },
  {
   "cell_type": "code",
   "source": [
    "with sqlite3.connect(\"./crowdstorming.db\") as c:\n",
    "    result = pd.read_sql(\n",
    "        \"\"\"\n",
    "        SELECT AVG(height), AVG(weight)\n",
    "        FROM crowdstorming\n",
    "        \"\"\",\n",
    "        c\n",
    "    )\n",
    "result"
   ],
   "metadata": {
    "id": "uoMGcfPuk1pB",
    "outputId": "2db988a0-7bf7-44d0-f180-f0c6f64c2c22",
    "colab": {
     "base_uri": "https://localhost:8080/",
     "height": 81
    },
    "is_executing": true
   },
   "id": "uoMGcfPuk1pB",
   "execution_count": null,
   "outputs": []
  },
  {
   "cell_type": "markdown",
   "source": [
    "Now repeat this, but on the DataFrame. Are the results the same?"
   ],
   "metadata": {
    "collapsed": false,
    "id": "9c42f1fe6fc96d3"
   },
   "id": "9c42f1fe6fc96d3"
  },
  {
   "cell_type": "code",
   "execution_count": null,
   "outputs": [],
   "source": [
    "df[['height', 'weight']].mean()"
   ],
   "metadata": {
    "id": "9b9ecdbc542e28c9",
    "outputId": "2426d1c0-fd84-4707-bdee-5045d15a6b9f",
    "colab": {
     "base_uri": "https://localhost:8080/"
    },
    "is_executing": true
   },
   "id": "9b9ecdbc542e28c9"
  },
  {
   "cell_type": "markdown",
   "source": [
    "And the solution with SQLAlchemy:"
   ],
   "metadata": {
    "collapsed": false,
    "id": "63daecd56d311f39"
   },
   "id": "63daecd56d311f39"
  },
  {
   "cell_type": "code",
   "execution_count": null,
   "outputs": [],
   "source": [
    "from sqlalchemy import func\n",
    "# calculate the mean height and weight in the database\n",
    "results = session.query(\n",
    "    func.avg(crowdstorming_table.c.height),\n",
    "    func.avg(crowdstorming_table.c.weight)\n",
    ").all()\n",
    "\n",
    "print(results)"
   ],
   "metadata": {
    "id": "2429c5a8b6a2867",
    "outputId": "dcbec449-8499-4261-cf4c-222d09665b69",
    "colab": {
     "base_uri": "https://localhost:8080/"
    },
    "is_executing": true
   },
   "id": "2429c5a8b6a2867"
  },
  {
   "cell_type": "markdown",
   "source": [
    "# Task 6 - Calculating the mean per position\n",
    "\n",
    "Calculate the mean height and weight of each player per position in the database.\n",
    "\n",
    "*Hint*: Remember how to do this in pandas. Then check the [cheat sheet](https://www.sqltutorial.org/sql-cheat-sheet/) if there is something similar in SQL."
   ],
   "metadata": {
    "collapsed": false,
    "id": "5a4f21e7e48891b0"
   },
   "id": "5a4f21e7e48891b0"
  },
  {
   "cell_type": "code",
   "execution_count": null,
   "outputs": [],
   "source": [
    "with sqlite3.connect(\"./crowdstorming.db\") as c:\n",
    "    result = pd.read_sql(\n",
    "        \"\"\"\n",
    "        SELECT position, AVG(height), AVG(weight)\n",
    "        FROM crowdstorming\n",
    "        GROUP BY position\n",
    "        \"\"\",\n",
    "        c\n",
    "    )\n",
    "result"
   ],
   "metadata": {
    "id": "35682540198afa5",
    "outputId": "d72a7aa0-7374-473f-d425-ebe735aeda1a",
    "colab": {
     "base_uri": "https://localhost:8080/",
     "height": 426
    },
    "is_executing": true
   },
   "id": "35682540198afa5"
  },
  {
   "cell_type": "markdown",
   "source": [
    "Now do the same with the DataFrame. Are the results the same?"
   ],
   "metadata": {
    "collapsed": false,
    "id": "9c54f74004c7856f"
   },
   "id": "9c54f74004c7856f"
  },
  {
   "cell_type": "code",
   "execution_count": null,
   "outputs": [],
   "source": [
    "df.groupby('position')[['height', 'weight']].mean()"
   ],
   "metadata": {
    "id": "f8b395d6293724da",
    "outputId": "e94e8e76-cf26-428e-a23b-35b7bf6f8fd0",
    "colab": {
     "base_uri": "https://localhost:8080/",
     "height": 457
    },
    "is_executing": true
   },
   "id": "f8b395d6293724da"
  },
  {
   "cell_type": "markdown",
   "source": [
    "And the solution with SQLAlchemy:"
   ],
   "metadata": {
    "collapsed": false,
    "id": "b945afc0a1e22046"
   },
   "id": "b945afc0a1e22046"
  },
  {
   "cell_type": "code",
   "execution_count": null,
   "outputs": [],
   "source": [
    "# calculate mean height and weight PER POSITION in the database\n",
    "results = (\n",
    "    session.query(\n",
    "        crowdstorming_table.c.position,\n",
    "        func.avg(crowdstorming_table.c.height),\n",
    "        func.avg(crowdstorming_table.c.weight)\n",
    "    )\n",
    "    .group_by(crowdstorming_table.c.position)\n",
    "    .all()\n",
    ")\n",
    "results"
   ],
   "metadata": {
    "id": "67bfb06e42d7910e",
    "outputId": "6242bc5a-f795-4223-ca5d-9244b258507b",
    "colab": {
     "base_uri": "https://localhost:8080/"
    },
    "is_executing": true
   },
   "id": "67bfb06e42d7910e"
  },
  {
   "cell_type": "markdown",
   "source": [
    "# Task 7 - Calculating the mean per position and league\n",
    "Calculate the mean height and weight of each player per position and per league in the database.\n",
    "\n",
    "*Hint*: This is almost identical to task 6. Try to not overcomplicate things: What would be the most intuitive way to extend the solution of task 6 to two conditions? (Task 6: 'per position', here: 'per position **and per league**'.)"
   ],
   "metadata": {
    "collapsed": false,
    "id": "74d3e689694b648d"
   },
   "id": "74d3e689694b648d"
  },
  {
   "cell_type": "code",
   "execution_count": null,
   "outputs": [],
   "source": [
    "with sqlite3.connect(\"./crowdstorming.db\") as c:\n",
    "    results = pd.read_sql(\n",
    "        \"\"\"\n",
    "        SELECT position, leagueCountry, AVG(height), AVG(weight)\n",
    "        FROM crowdstorming\n",
    "        GROUP BY position, leagueCountry\n",
    "        \"\"\",\n",
    "        c,\n",
    "    )\n",
    "results = results.set_index([\"position\", \"leagueCountry\"])\n",
    "results"
   ],
   "metadata": {
    "id": "588018ce9fe4b9d4",
    "outputId": "edc318ea-8085-4856-f78f-42c722a83dcc",
    "colab": {
     "base_uri": "https://localhost:8080/",
     "height": 1000
    },
    "is_executing": true
   },
   "id": "588018ce9fe4b9d4"
  },
  {
   "cell_type": "markdown",
   "source": [
    "Now do the same with the DataFrame. Are the results the same?"
   ],
   "metadata": {
    "collapsed": false,
    "id": "8dd3c29772417b"
   },
   "id": "8dd3c29772417b"
  },
  {
   "cell_type": "code",
   "execution_count": null,
   "outputs": [],
   "source": [
    "df.groupby(['position', 'leagueCountry'])[['height', 'weight']].mean()"
   ],
   "metadata": {
    "id": "814b65225a31da37",
    "outputId": "350f1ece-b115-4095-82f4-390a01683f62",
    "colab": {
     "base_uri": "https://localhost:8080/",
     "height": 1000
    },
    "is_executing": true
   },
   "id": "814b65225a31da37"
  },
  {
   "cell_type": "markdown",
   "source": [
    "And the solution with SQLAlchemy:"
   ],
   "metadata": {
    "collapsed": false,
    "id": "d8c4087b2259d252"
   },
   "id": "d8c4087b2259d252"
  },
  {
   "cell_type": "code",
   "execution_count": null,
   "outputs": [],
   "source": [
    "# calculate mean height and weight PER POSITION and PER LEAGUE in the database\n",
    "results = (\n",
    "    session\n",
    "    .query(\n",
    "        crowdstorming_table.c.position,\n",
    "        crowdstorming_table.c.leagueCountry,\n",
    "        func.avg(crowdstorming_table.c.height),\n",
    "        func.avg(crowdstorming_table.c.weight)\n",
    "    )\n",
    "    .group_by(crowdstorming_table.c.position, crowdstorming_table.c.leagueCountry)\n",
    "    .all()\n",
    ")\n",
    "results"
   ],
   "metadata": {
    "id": "554c6d8bf65d4c51",
    "outputId": "2626da22-5fd0-4b61-fc57-eb6bea944f1f",
    "colab": {
     "base_uri": "https://localhost:8080/"
    },
    "is_executing": true
   },
   "id": "554c6d8bf65d4c51"
  },
  {
   "cell_type": "markdown",
   "source": [
    "# Task 8.1  - People with unusual names\n",
    "Select all people, whose first name starts with an X, from `people_database.db`.\n",
    "\n",
    "*Hint*: If you can't figure out how to do this, check [here](https://www.w3schools.com/sql/sql_like.asp)."
   ],
   "metadata": {
    "collapsed": false,
    "id": "15b3ed32a66f0942"
   },
   "id": "15b3ed32a66f0942"
  },
  {
   "cell_type": "code",
   "source": [
    "people_db_file = Path(\"people_database.db\")\n",
    "if people_db_file.exists() and people_db_file.stat().st_size == 691134464:\n",
    "    print(\"File already downloaded.\")\n",
    "else:\n",
    "    print(\"Will download database\")\n",
    "    with requests.get(\"https://drive.switch.ch/index.php/s/OIsWhbxdTY6h5n7/download\", stream=True) as response:\n",
    "        response.raise_for_status()\n",
    "        with people_db_file.open('wb') as fo:\n",
    "            for chunk in tqdm(response.iter_content(chunk_size=8192), desc=\"Chunks written\"):\n",
    "                fo.write(chunk)"
   ],
   "metadata": {
    "colab": {
     "base_uri": "https://localhost:8080/"
    },
    "id": "7fxjJotPA39s",
    "outputId": "07aab374-4e55-4c78-91c3-9e95cd868656",
    "is_executing": true
   },
   "id": "7fxjJotPA39s",
   "execution_count": null,
   "outputs": []
  },
  {
   "cell_type": "code",
   "execution_count": null,
   "outputs": [],
   "source": [
    "start = perf_counter()\n",
    "\n",
    "with sqlite3.connect(people_db_file) as c:\n",
    "    results = pd.read_sql(\n",
    "        \"\"\"\n",
    "        SELECT * FROM people\n",
    "        WHERE first_name LIKE 'X%'\n",
    "        \"\"\",\n",
    "        c,\n",
    "    )\n",
    "end = perf_counter()\n",
    "print(f\"Duration: {end - start:.3f}s\")\n",
    "results"
   ],
   "metadata": {
    "id": "b24cb3a9a00cc2af",
    "outputId": "b685b56a-9564-4b35-d79c-3805eea20927",
    "colab": {
     "base_uri": "https://localhost:8080/",
     "height": 442
    },
    "is_executing": true
   },
   "id": "b24cb3a9a00cc2af"
  },
  {
   "cell_type": "markdown",
   "source": [
    "Repeat this, but load the data into a DataFrame first, and time both loading it into a DataFrame, and the actual querying.\n",
    "\n",
    "**Beware, that this will load the entire DB into memory.**"
   ],
   "metadata": {
    "collapsed": false,
    "id": "c6edd98543616556"
   },
   "id": "c6edd98543616556"
  },
  {
   "cell_type": "code",
   "execution_count": null,
   "outputs": [],
   "source": [
    "# alternative: load into dataframe, do it there\n",
    "start = perf_counter()\n",
    "\n",
    "with sqlite3.connect(people_db_file) as c:\n",
    "    people_df = pd.read_sql(\n",
    "        \"\"\"\n",
    "        SELECT * FROM people\n",
    "        \"\"\",\n",
    "        c,\n",
    "    )\n",
    "end = perf_counter()\n",
    "print(f\"Loading duration: {end - start:.3f}s\")\n",
    "\n",
    "start = perf_counter()\n",
    "result = people_df[people_df[\"first_name\"].str.startswith(\"X\")]\n",
    "end = perf_counter()\n",
    "print(f\"Just the query: {end - start:.3f}s\")\n",
    "result"
   ],
   "metadata": {
    "id": "6a6817c28d4655c",
    "outputId": "3f5e8dce-3b2a-4c57-f159-f26f817412c0",
    "colab": {
     "base_uri": "https://localhost:8080/",
     "height": 461
    },
    "is_executing": true
   },
   "id": "6a6817c28d4655c"
  },
  {
   "cell_type": "markdown",
   "source": [
    "# Task 8.2 - Joining with football players\n",
    "Select all people from `people_database.db`, who share a name with a player from the `crowdstorming` table, as well as the position of that player. Include the `fifa` column from the `countries` table as well for those players, who have a match in that table.\n",
    "\n",
    "*Hint 1*: You can use the `||` operator to concatenate strings in SQL.\n",
    "\n",
    "*Hint 2*: You can use the `DISTINCT` keyword to get rid of duplicates.\n",
    "\n",
    "*Hint 3*: You can have multiple JOINs per query.\n",
    "\n",
    "*Hint 4*: If you can't solve it in pure SQL, break it down into multiple smaller problems. For example, first get all the names of the players, then join that with the people table."
   ],
   "metadata": {
    "collapsed": false,
    "id": "9f62c0b4ad97bc75"
   },
   "id": "9f62c0b4ad97bc75"
  },
  {
   "cell_type": "code",
   "execution_count": null,
   "outputs": [],
   "source": [
    "with sqlite3.connect(people_db_file) as c:\n",
    "    c.execute(\"ATTACH DATABASE './crowdstorming.db' AS crowd\")\n",
    "    results = pd.read_sql(\n",
    "        \"\"\"\n",
    "        SELECT\n",
    "            DISTINCT\n",
    "                people.*,\n",
    "                crowd.crowdstorming.position,\n",
    "                crowd.countries.fifa\n",
    "        FROM people\n",
    "            INNER JOIN\n",
    "                crowd.crowdstorming\n",
    "            ON\n",
    "                people.first_name || ' ' || people.last_name = crowd.crowdstorming.player\n",
    "            LEFT JOIN\n",
    "                crowd.countries\n",
    "            WHERE\n",
    "                crowd.crowdstorming.leagueCountry = crowd.countries.name\n",
    "        \"\"\",\n",
    "        c,\n",
    "    )\n",
    "\n",
    "results"
   ],
   "metadata": {
    "id": "6449edeb67fd1119",
    "outputId": "29f20886-4131-4c1e-c6a0-ea468a3052b5",
    "colab": {
     "base_uri": "https://localhost:8080/",
     "height": 617
    },
    "is_executing": true
   },
   "id": "6449edeb67fd1119"
  },
  {
   "cell_type": "code",
   "execution_count": null,
   "outputs": [],
   "source": [],
   "metadata": {
    "id": "33895fdccca9c036",
    "is_executing": true
   },
   "id": "33895fdccca9c036"
  }
 ],
 "metadata": {
  "kernelspec": {
   "display_name": "Python 3",
   "language": "python",
   "name": "python3"
  },
  "language_info": {
   "codemirror_mode": {
    "name": "ipython",
    "version": 2
   },
   "file_extension": ".py",
   "mimetype": "text/x-python",
   "name": "python",
   "nbconvert_exporter": "python",
   "pygments_lexer": "ipython2",
   "version": "2.7.6"
  },
  "colab": {
   "provenance": []
  }
 },
 "nbformat": 4,
 "nbformat_minor": 5
}
