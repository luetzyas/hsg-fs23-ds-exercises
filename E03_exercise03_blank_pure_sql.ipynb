{
 "cells": [
  {
   "cell_type": "code",
   "execution_count": 1,
   "id": "initial_id",
   "metadata": {
    "collapsed": true,
    "id": "initial_id",
    "ExecuteTime": {
     "end_time": "2023-10-26T09:08:35.421704900Z",
     "start_time": "2023-10-26T09:08:34.473704100Z"
    }
   },
   "outputs": [],
   "source": [
    "import numpy as np\n",
    "import pandas as pd\n",
    "import matplotlib.pyplot as plt\n",
    "\n",
    "import requests  # used later to download additional data\n",
    "import sqlite3"
   ]
  },
  {
   "cell_type": "markdown",
   "id": "dea9712c782bc7bf",
   "metadata": {
    "collapsed": false,
    "id": "dea9712c782bc7bf"
   },
   "source": [
    "- [`pandas` Cheat Sheet](https://pandas.pydata.org/Pandas_Cheat_Sheet.pdf)\n",
    "- [`matplotlib` Cheat Sheet](https://matplotlib.org/cheatsheets/_images/cheatsheets-1.png)\n",
    "- [SQL Cheat Sheet](https://www.sqltutorial.org/sql-cheat-sheet/)"
   ]
  },
  {
   "cell_type": "markdown",
   "id": "10a6c00f800cbd46",
   "metadata": {
    "collapsed": false,
    "id": "10a6c00f800cbd46"
   },
   "source": [
    "# Loading the data"
   ]
  },
  {
   "cell_type": "code",
   "execution_count": 2,
   "id": "dbbb55920a066c05",
   "metadata": {
    "id": "dbbb55920a066c05",
    "ExecuteTime": {
     "end_time": "2023-10-26T09:08:40.331909400Z",
     "start_time": "2023-10-26T09:08:35.422706600Z"
    }
   },
   "outputs": [
    {
     "data": {
      "text/plain": "     playerShort         player             club leagueCountry    birthday  \\\n0  lucas-wilchez  Lucas Wilchez    Real Zaragoza         Spain  31.08.1983   \n1     john-utaka     John Utaka  Montpellier HSC        France  08.01.1982   \n2    abdon-prats    Abdón Prats     RCD Mallorca         Spain  17.12.1992   \n3     pablo-mari     Pablo Marí     RCD Mallorca         Spain  31.08.1993   \n4     ruben-pena     Rubén Peña  Real Valladolid         Spain  18.07.1991   \n\n   height  weight              position  games  victories  ...  rater2  \\\n0   177.0    72.0  Attacking Midfielder      1          0  ...    0.50   \n1   179.0    82.0          Right Winger      1          0  ...    0.75   \n2   181.0    79.0                   NaN      1          0  ...     NaN   \n3   191.0    87.0           Center Back      1          1  ...     NaN   \n4   172.0    70.0      Right Midfielder      1          1  ...     NaN   \n\n   refNum  refCountry  Alpha_3   meanIAT    nIAT     seIAT   meanExp    nExp  \\\n0       1           1      GRC  0.326391   712.0  0.000564  0.396000   750.0   \n1       2           2      ZMB  0.203375    40.0  0.010875 -0.204082    49.0   \n2       3           3      ESP  0.369894  1785.0  0.000229  0.588297  1897.0   \n3       3           3      ESP  0.369894  1785.0  0.000229  0.588297  1897.0   \n4       3           3      ESP  0.369894  1785.0  0.000229  0.588297  1897.0   \n\n      seExp  \n0  0.002696  \n1  0.061504  \n2  0.001002  \n3  0.001002  \n4  0.001002  \n\n[5 rows x 28 columns]",
      "text/html": "<div>\n<style scoped>\n    .dataframe tbody tr th:only-of-type {\n        vertical-align: middle;\n    }\n\n    .dataframe tbody tr th {\n        vertical-align: top;\n    }\n\n    .dataframe thead th {\n        text-align: right;\n    }\n</style>\n<table border=\"1\" class=\"dataframe\">\n  <thead>\n    <tr style=\"text-align: right;\">\n      <th></th>\n      <th>playerShort</th>\n      <th>player</th>\n      <th>club</th>\n      <th>leagueCountry</th>\n      <th>birthday</th>\n      <th>height</th>\n      <th>weight</th>\n      <th>position</th>\n      <th>games</th>\n      <th>victories</th>\n      <th>...</th>\n      <th>rater2</th>\n      <th>refNum</th>\n      <th>refCountry</th>\n      <th>Alpha_3</th>\n      <th>meanIAT</th>\n      <th>nIAT</th>\n      <th>seIAT</th>\n      <th>meanExp</th>\n      <th>nExp</th>\n      <th>seExp</th>\n    </tr>\n  </thead>\n  <tbody>\n    <tr>\n      <th>0</th>\n      <td>lucas-wilchez</td>\n      <td>Lucas Wilchez</td>\n      <td>Real Zaragoza</td>\n      <td>Spain</td>\n      <td>31.08.1983</td>\n      <td>177.0</td>\n      <td>72.0</td>\n      <td>Attacking Midfielder</td>\n      <td>1</td>\n      <td>0</td>\n      <td>...</td>\n      <td>0.50</td>\n      <td>1</td>\n      <td>1</td>\n      <td>GRC</td>\n      <td>0.326391</td>\n      <td>712.0</td>\n      <td>0.000564</td>\n      <td>0.396000</td>\n      <td>750.0</td>\n      <td>0.002696</td>\n    </tr>\n    <tr>\n      <th>1</th>\n      <td>john-utaka</td>\n      <td>John Utaka</td>\n      <td>Montpellier HSC</td>\n      <td>France</td>\n      <td>08.01.1982</td>\n      <td>179.0</td>\n      <td>82.0</td>\n      <td>Right Winger</td>\n      <td>1</td>\n      <td>0</td>\n      <td>...</td>\n      <td>0.75</td>\n      <td>2</td>\n      <td>2</td>\n      <td>ZMB</td>\n      <td>0.203375</td>\n      <td>40.0</td>\n      <td>0.010875</td>\n      <td>-0.204082</td>\n      <td>49.0</td>\n      <td>0.061504</td>\n    </tr>\n    <tr>\n      <th>2</th>\n      <td>abdon-prats</td>\n      <td>Abdón Prats</td>\n      <td>RCD Mallorca</td>\n      <td>Spain</td>\n      <td>17.12.1992</td>\n      <td>181.0</td>\n      <td>79.0</td>\n      <td>NaN</td>\n      <td>1</td>\n      <td>0</td>\n      <td>...</td>\n      <td>NaN</td>\n      <td>3</td>\n      <td>3</td>\n      <td>ESP</td>\n      <td>0.369894</td>\n      <td>1785.0</td>\n      <td>0.000229</td>\n      <td>0.588297</td>\n      <td>1897.0</td>\n      <td>0.001002</td>\n    </tr>\n    <tr>\n      <th>3</th>\n      <td>pablo-mari</td>\n      <td>Pablo Marí</td>\n      <td>RCD Mallorca</td>\n      <td>Spain</td>\n      <td>31.08.1993</td>\n      <td>191.0</td>\n      <td>87.0</td>\n      <td>Center Back</td>\n      <td>1</td>\n      <td>1</td>\n      <td>...</td>\n      <td>NaN</td>\n      <td>3</td>\n      <td>3</td>\n      <td>ESP</td>\n      <td>0.369894</td>\n      <td>1785.0</td>\n      <td>0.000229</td>\n      <td>0.588297</td>\n      <td>1897.0</td>\n      <td>0.001002</td>\n    </tr>\n    <tr>\n      <th>4</th>\n      <td>ruben-pena</td>\n      <td>Rubén Peña</td>\n      <td>Real Valladolid</td>\n      <td>Spain</td>\n      <td>18.07.1991</td>\n      <td>172.0</td>\n      <td>70.0</td>\n      <td>Right Midfielder</td>\n      <td>1</td>\n      <td>1</td>\n      <td>...</td>\n      <td>NaN</td>\n      <td>3</td>\n      <td>3</td>\n      <td>ESP</td>\n      <td>0.369894</td>\n      <td>1785.0</td>\n      <td>0.000229</td>\n      <td>0.588297</td>\n      <td>1897.0</td>\n      <td>0.001002</td>\n    </tr>\n  </tbody>\n</table>\n<p>5 rows × 28 columns</p>\n</div>"
     },
     "execution_count": 2,
     "metadata": {},
     "output_type": "execute_result"
    }
   ],
   "source": [
    "df = pd.read_csv('https://drive.switch.ch/index.php/s/UEpTFv2Bfa5C1dd/download')\n",
    "df.head()"
   ]
  },
  {
   "cell_type": "markdown",
   "id": "942744c46eafe2b7",
   "metadata": {
    "collapsed": false,
    "id": "942744c46eafe2b7"
   },
   "source": [
    "We repeat our simple data cleaning here, by getting rid of all `NaN` values."
   ]
  },
  {
   "cell_type": "code",
   "execution_count": 3,
   "id": "7d1d63bf868c148c",
   "metadata": {
    "id": "7d1d63bf868c148c",
    "ExecuteTime": {
     "end_time": "2023-10-26T09:08:40.403490200Z",
     "start_time": "2023-10-26T09:08:40.329913500Z"
    }
   },
   "outputs": [],
   "source": [
    "df = df.dropna()"
   ]
  },
  {
   "cell_type": "markdown",
   "id": "cb77b637dd5b7712",
   "metadata": {
    "collapsed": false,
    "id": "cb77b637dd5b7712"
   },
   "source": [
    "# Task 1.1 - Scatter Plot\n",
    "Create a Scatter Plot of player weight vs. height.\n",
    "\n",
    "*Hint*: Check the [`pandas` cheat sheet](https://pandas.pydata.org/Pandas_Cheat_Sheet.pdf) for plotting with `pandas`.\n",
    "\n",
    "Based on the plot alone, do you think there is a correlation between the two? How can you tell from the plot?\n",
    "\n",
    "**Bonus**: Do the same with `matplotlib`. You can find the cheat sheet for it [here](https://matplotlib.org/cheatsheets/_images/cheatsheets-1.png)."
   ]
  },
  {
   "cell_type": "code",
   "execution_count": 4,
   "id": "6008b7fcf30a63b7",
   "metadata": {
    "id": "6008b7fcf30a63b7",
    "ExecuteTime": {
     "end_time": "2023-10-26T09:08:40.708097500Z",
     "start_time": "2023-10-26T09:08:40.375909900Z"
    }
   },
   "outputs": [
    {
     "data": {
      "text/plain": "<Figure size 640x480 with 1 Axes>",
      "image/png": "[encoded data removed]"
     },
     "metadata": {},
     "output_type": "display_data"
    }
   ],
   "source": [
    "#in diesem Fall positive Korrelation\n",
    "#beide Funktionen erstellen mehr oder weniger den gleichen Graf\n",
    "\n",
    "#df.plot.scatter(x='weight', y='height')\n",
    "#plt.scatter(df.weight, df.height, s=18)\n",
    "plt.scatter(df['weight'], df['height'], s=18)\n",
    "plt.show()"
   ]
  },
  {
   "cell_type": "markdown",
   "id": "be48d5ea5072e06f",
   "metadata": {
    "collapsed": false,
    "id": "be48d5ea5072e06f"
   },
   "source": [
    "# Task 1.2 - Data Manipulation\n",
    "Create a new column, called Name Length, that contains the length of the player's name.\n",
    "\n",
    "*Hint*: Split this into two steps:\n",
    "\n",
    "* creating a new column (check the `pandas` cheat sheet or last week's notebook if you don't remember how to do this)\n",
    "* calculating the length of the player's name **for each row**\n",
    "    \n",
    "*Hint2*: If you have trouble with calculating the length of the player's name, have a look at the *Summarize Data* section in the cheat sheet."
   ]
  },
  {
   "cell_type": "code",
   "execution_count": 5,
   "id": "e8265797cd8e198",
   "metadata": {
    "id": "e8265797cd8e198",
    "ExecuteTime": {
     "end_time": "2023-10-26T09:08:40.885425100Z",
     "start_time": "2023-10-26T09:08:40.706100600Z"
    }
   },
   "outputs": [
    {
     "data": {
      "text/plain": "               playerShort              player               club  \\\n0            lucas-wilchez       Lucas Wilchez      Real Zaragoza   \n1               john-utaka          John Utaka    Montpellier HSC   \n5             aaron-hughes        Aaron Hughes          Fulham FC   \n6       aleksandar-kolarov  Aleksandar Kolarov    Manchester City   \n7         alexander-tettey    Alexander Tettey       Norwich City   \n...                    ...                 ...                ...   \n146022     tom-huddlestone     Tom Huddlestone  Tottenham Hotspur   \n146023       tomas-rosicky       Tomáš Rosický         Arsenal FC   \n146024        winston-reid        Winston Reid    West Ham United   \n146025     xherdan-shaqiri     Xherdan Shaqiri     Bayern München   \n146027        zdenk-pospch      Zdeněk Pospěch    1. FSV Mainz 05   \n\n       leagueCountry    birthday  height  weight              position  games  \\\n0              Spain  31.08.1983   177.0    72.0  Attacking Midfielder      1   \n1             France  08.01.1982   179.0    82.0          Right Winger      1   \n5            England  08.11.1979   182.0    71.0           Center Back      1   \n6            England  10.11.1985   187.0    80.0         Left Fullback      1   \n7            England  04.04.1986   180.0    68.0  Defensive Midfielder      1   \n...              ...         ...     ...     ...                   ...    ...   \n146022       England  28.12.1986   188.0    80.0  Defensive Midfielder      1   \n146023       England  04.10.1980   178.0    67.0  Attacking Midfielder      1   \n146024       England  03.07.1988   190.0    87.0           Center Back      1   \n146025       Germany  10.10.1991   169.0    72.0       Left Midfielder      1   \n146027       Germany  14.12.1978   174.0    72.0        Right Fullback      1   \n\n        victories  ...  refNum  refCountry  Alpha_3   meanIAT   nIAT  \\\n0               0  ...       1           1      GRC  0.326391  712.0   \n1               0  ...       2           2      ZMB  0.203375   40.0   \n5               0  ...       4           4      LUX  0.325185  127.0   \n6               1  ...       4           4      LUX  0.325185  127.0   \n7               0  ...       4           4      LUX  0.325185  127.0   \n...           ...  ...     ...         ...      ...       ...    ...   \n146022          0  ...    3147          21      HUN  0.376127  574.0   \n146023          1  ...    3147          21      HUN  0.376127  574.0   \n146024          0  ...    3147          21      HUN  0.376127  574.0   \n146025          1  ...    3147          21      HUN  0.376127  574.0   \n146027          0  ...    3147          21      HUN  0.376127  574.0   \n\n           seIAT   meanExp   nExp     seExp  NameLength  \n0       0.000564  0.396000  750.0  0.002696          13  \n1       0.010875 -0.204082   49.0  0.061504          10  \n5       0.003297  0.538462  130.0  0.013752          12  \n6       0.003297  0.538462  130.0  0.013752          18  \n7       0.003297  0.538462  130.0  0.013752          16  \n...          ...       ...    ...       ...         ...  \n146022  0.000714  0.498350  606.0  0.002968          15  \n146023  0.000714  0.498350  606.0  0.002968          13  \n146024  0.000714  0.498350  606.0  0.002968          12  \n146025  0.000714  0.498350  606.0  0.002968          15  \n146027  0.000714  0.498350  606.0  0.002968          14  \n\n[115457 rows x 29 columns]",
      "text/html": "<div>\n<style scoped>\n    .dataframe tbody tr th:only-of-type {\n        vertical-align: middle;\n    }\n\n    .dataframe tbody tr th {\n        vertical-align: top;\n    }\n\n    .dataframe thead th {\n        text-align: right;\n    }\n</style>\n<table border=\"1\" class=\"dataframe\">\n  <thead>\n    <tr style=\"text-align: right;\">\n      <th></th>\n      <th>playerShort</th>\n      <th>player</th>\n      <th>club</th>\n      <th>leagueCountry</th>\n      <th>birthday</th>\n      <th>height</th>\n      <th>weight</th>\n      <th>position</th>\n      <th>games</th>\n      <th>victories</th>\n      <th>...</th>\n      <th>refNum</th>\n      <th>refCountry</th>\n      <th>Alpha_3</th>\n      <th>meanIAT</th>\n      <th>nIAT</th>\n      <th>seIAT</th>\n      <th>meanExp</th>\n      <th>nExp</th>\n      <th>seExp</th>\n      <th>NameLength</th>\n    </tr>\n  </thead>\n  <tbody>\n    <tr>\n      <th>0</th>\n      <td>lucas-wilchez</td>\n      <td>Lucas Wilchez</td>\n      <td>Real Zaragoza</td>\n      <td>Spain</td>\n      <td>31.08.1983</td>\n      <td>177.0</td>\n      <td>72.0</td>\n      <td>Attacking Midfielder</td>\n      <td>1</td>\n      <td>0</td>\n      <td>...</td>\n      <td>1</td>\n      <td>1</td>\n      <td>GRC</td>\n      <td>0.326391</td>\n      <td>712.0</td>\n      <td>0.000564</td>\n      <td>0.396000</td>\n      <td>750.0</td>\n      <td>0.002696</td>\n      <td>13</td>\n    </tr>\n    <tr>\n      <th>1</th>\n      <td>john-utaka</td>\n      <td>John Utaka</td>\n      <td>Montpellier HSC</td>\n      <td>France</td>\n      <td>08.01.1982</td>\n      <td>179.0</td>\n      <td>82.0</td>\n      <td>Right Winger</td>\n      <td>1</td>\n      <td>0</td>\n      <td>...</td>\n      <td>2</td>\n      <td>2</td>\n      <td>ZMB</td>\n      <td>0.203375</td>\n      <td>40.0</td>\n      <td>0.010875</td>\n      <td>-0.204082</td>\n      <td>49.0</td>\n      <td>0.061504</td>\n      <td>10</td>\n    </tr>\n    <tr>\n      <th>5</th>\n      <td>aaron-hughes</td>\n      <td>Aaron Hughes</td>\n      <td>Fulham FC</td>\n      <td>England</td>\n      <td>08.11.1979</td>\n      <td>182.0</td>\n      <td>71.0</td>\n      <td>Center Back</td>\n      <td>1</td>\n      <td>0</td>\n      <td>...</td>\n      <td>4</td>\n      <td>4</td>\n      <td>LUX</td>\n      <td>0.325185</td>\n      <td>127.0</td>\n      <td>0.003297</td>\n      <td>0.538462</td>\n      <td>130.0</td>\n      <td>0.013752</td>\n      <td>12</td>\n    </tr>\n    <tr>\n      <th>6</th>\n      <td>aleksandar-kolarov</td>\n      <td>Aleksandar Kolarov</td>\n      <td>Manchester City</td>\n      <td>England</td>\n      <td>10.11.1985</td>\n      <td>187.0</td>\n      <td>80.0</td>\n      <td>Left Fullback</td>\n      <td>1</td>\n      <td>1</td>\n      <td>...</td>\n      <td>4</td>\n      <td>4</td>\n      <td>LUX</td>\n      <td>0.325185</td>\n      <td>127.0</td>\n      <td>0.003297</td>\n      <td>0.538462</td>\n      <td>130.0</td>\n      <td>0.013752</td>\n      <td>18</td>\n    </tr>\n    <tr>\n      <th>7</th>\n      <td>alexander-tettey</td>\n      <td>Alexander Tettey</td>\n      <td>Norwich City</td>\n      <td>England</td>\n      <td>04.04.1986</td>\n      <td>180.0</td>\n      <td>68.0</td>\n      <td>Defensive Midfielder</td>\n      <td>1</td>\n      <td>0</td>\n      <td>...</td>\n      <td>4</td>\n      <td>4</td>\n      <td>LUX</td>\n      <td>0.325185</td>\n      <td>127.0</td>\n      <td>0.003297</td>\n      <td>0.538462</td>\n      <td>130.0</td>\n      <td>0.013752</td>\n      <td>16</td>\n    </tr>\n    <tr>\n      <th>...</th>\n      <td>...</td>\n      <td>...</td>\n      <td>...</td>\n      <td>...</td>\n      <td>...</td>\n      <td>...</td>\n      <td>...</td>\n      <td>...</td>\n      <td>...</td>\n      <td>...</td>\n      <td>...</td>\n      <td>...</td>\n      <td>...</td>\n      <td>...</td>\n      <td>...</td>\n      <td>...</td>\n      <td>...</td>\n      <td>...</td>\n      <td>...</td>\n      <td>...</td>\n      <td>...</td>\n    </tr>\n    <tr>\n      <th>146022</th>\n      <td>tom-huddlestone</td>\n      <td>Tom Huddlestone</td>\n      <td>Tottenham Hotspur</td>\n      <td>England</td>\n      <td>28.12.1986</td>\n      <td>188.0</td>\n      <td>80.0</td>\n      <td>Defensive Midfielder</td>\n      <td>1</td>\n      <td>0</td>\n      <td>...</td>\n      <td>3147</td>\n      <td>21</td>\n      <td>HUN</td>\n      <td>0.376127</td>\n      <td>574.0</td>\n      <td>0.000714</td>\n      <td>0.498350</td>\n      <td>606.0</td>\n      <td>0.002968</td>\n      <td>15</td>\n    </tr>\n    <tr>\n      <th>146023</th>\n      <td>tomas-rosicky</td>\n      <td>Tomáš Rosický</td>\n      <td>Arsenal FC</td>\n      <td>England</td>\n      <td>04.10.1980</td>\n      <td>178.0</td>\n      <td>67.0</td>\n      <td>Attacking Midfielder</td>\n      <td>1</td>\n      <td>1</td>\n      <td>...</td>\n      <td>3147</td>\n      <td>21</td>\n      <td>HUN</td>\n      <td>0.376127</td>\n      <td>574.0</td>\n      <td>0.000714</td>\n      <td>0.498350</td>\n      <td>606.0</td>\n      <td>0.002968</td>\n      <td>13</td>\n    </tr>\n    <tr>\n      <th>146024</th>\n      <td>winston-reid</td>\n      <td>Winston Reid</td>\n      <td>West Ham United</td>\n      <td>England</td>\n      <td>03.07.1988</td>\n      <td>190.0</td>\n      <td>87.0</td>\n      <td>Center Back</td>\n      <td>1</td>\n      <td>0</td>\n      <td>...</td>\n      <td>3147</td>\n      <td>21</td>\n      <td>HUN</td>\n      <td>0.376127</td>\n      <td>574.0</td>\n      <td>0.000714</td>\n      <td>0.498350</td>\n      <td>606.0</td>\n      <td>0.002968</td>\n      <td>12</td>\n    </tr>\n    <tr>\n      <th>146025</th>\n      <td>xherdan-shaqiri</td>\n      <td>Xherdan Shaqiri</td>\n      <td>Bayern München</td>\n      <td>Germany</td>\n      <td>10.10.1991</td>\n      <td>169.0</td>\n      <td>72.0</td>\n      <td>Left Midfielder</td>\n      <td>1</td>\n      <td>1</td>\n      <td>...</td>\n      <td>3147</td>\n      <td>21</td>\n      <td>HUN</td>\n      <td>0.376127</td>\n      <td>574.0</td>\n      <td>0.000714</td>\n      <td>0.498350</td>\n      <td>606.0</td>\n      <td>0.002968</td>\n      <td>15</td>\n    </tr>\n    <tr>\n      <th>146027</th>\n      <td>zdenk-pospch</td>\n      <td>Zdeněk Pospěch</td>\n      <td>1. FSV Mainz 05</td>\n      <td>Germany</td>\n      <td>14.12.1978</td>\n      <td>174.0</td>\n      <td>72.0</td>\n      <td>Right Fullback</td>\n      <td>1</td>\n      <td>0</td>\n      <td>...</td>\n      <td>3147</td>\n      <td>21</td>\n      <td>HUN</td>\n      <td>0.376127</td>\n      <td>574.0</td>\n      <td>0.000714</td>\n      <td>0.498350</td>\n      <td>606.0</td>\n      <td>0.002968</td>\n      <td>14</td>\n    </tr>\n  </tbody>\n</table>\n<p>115457 rows × 29 columns</p>\n</div>"
     },
     "execution_count": 5,
     "metadata": {},
     "output_type": "execute_result"
    }
   ],
   "source": [
    "def foo (x):\n",
    "    #das ist praktisch für ausführlichere Berechnungen\n",
    "    return len(x)\n",
    "\n",
    "df['NameLength'] = df.player.apply(len)\n",
    "df['NameLength'] = df.player.apply(foo)\n",
    "df['NameLength'] = df.player.apply(lambda x: len(x))\n",
    "df['NameLength'] = df['player'].apply(lambda x: len(x))\n",
    "\n",
    "df"
   ]
  },
  {
   "cell_type": "markdown",
   "id": "43c756d70b8c0e5a",
   "metadata": {
    "collapsed": false,
    "id": "43c756d70b8c0e5a"
   },
   "source": [
    "# Task 1.3 - Scatter Plot\n",
    "Create a Scatter Plot of player **weight** vs. **name length**. Do you see a correlation between the two **visually**? Why or why not? What makes this plot different from the one of weight vs height?\n",
    "\n",
    "*Hint*: You can do this exactly the same way as you did in Task 1.1. Solve that task first and then this one is essentially free."
   ]
  },
  {
   "cell_type": "code",
   "execution_count": 6,
   "id": "9ec40ac8b240da1b",
   "metadata": {
    "id": "9ec40ac8b240da1b",
    "ExecuteTime": {
     "end_time": "2023-10-26T09:08:41.679749800Z",
     "start_time": "2023-10-26T09:08:40.890443600Z"
    }
   },
   "outputs": [
    {
     "data": {
      "text/plain": "<Figure size 640x480 with 1 Axes>",
      "image/png": "[encoded data removed]"
     },
     "metadata": {},
     "output_type": "display_data"
    }
   ],
   "source": [
    "#df.plot.scatter(x='weight', y='NameLength')\n",
    "#df.plot\n",
    "plt.scatter(df['weight'], df['NameLength'], s=18, label='player')\n",
    "plt.legend()\n",
    "plt.show()"
   ]
  },
  {
   "cell_type": "markdown",
   "id": "f869cbfa382acba6",
   "metadata": {
    "collapsed": false,
    "id": "f869cbfa382acba6"
   },
   "source": [
    "# Task 1.4 - Linear Regression\n",
    "Create a linear regression model that predicts the player's height based on the player's weight. What is the height of a player that weighs 80kg? What is the height of a player that weighs 100kg?\n",
    "\n",
    "*Hint 1*: For the linear regression, use [`scikit-learn` and its `LinearRegression` model](https://scikit-learn.org/stable/modules/generated/sklearn.linear_model.LinearRegression.html).\n",
    "\n",
    "*Hint 2*: You have to reshape your data. You can do this with the `numpy.reshape` function. Have a look at the [`reshape` function](https://numpy.org/doc/stable/reference/generated/numpy.reshape.html) for how to continue from there.\n",
    "\n",
    "The task of linear regression is to find the solution to the mapping:\n",
    "\n",
    "$ f(X) = AX + b $\n",
    "\n",
    "* `X` is the training data: usually a matrix with the features as columns and the rows the examples\n",
    "* `A` is the linear mapping matrix (also called the _coefficient_)\n",
    "* `b` is the offset (also called _intercept_)\n",
    "* `f` is the function to map the training data to the target `y`\n",
    "\n",
    "\n",
    "Note, that `X` is a matrix, however, the `weight` is a column vector, so you have to reshape it to a matrix.\n",
    "\n",
    "Try using it first without reshaping and understand the occuring error message."
   ]
  },
  {
   "cell_type": "code",
   "execution_count": 7,
   "id": "2559024885fd88aa",
   "metadata": {
    "id": "2559024885fd88aa",
    "ExecuteTime": {
     "end_time": "2023-10-26T09:08:42.527879400Z",
     "start_time": "2023-10-26T09:08:41.639749400Z"
    }
   },
   "outputs": [
    {
     "data": {
      "text/plain": "array([[184.80521209],\n       [199.9036292 ]])"
     },
     "execution_count": 7,
     "metadata": {},
     "output_type": "execute_result"
    }
   ],
   "source": [
    "from sklearn.linear_model import LinearRegression\n",
    "\n",
    "# X is the name of the features\n",
    "# y is the name of the targets\n",
    "X = df['weight'].values.reshape(-1, 1)\n",
    "y = df['height'].values.reshape(-1, 1)\n",
    "\n",
    "model = LinearRegression()\n",
    "model.fit(X, y)\n",
    "model.predict(\n",
    "    [[80], [100]]\n",
    ")"
   ]
  },
  {
   "cell_type": "code",
   "execution_count": 8,
   "id": "f04fe6d9",
   "metadata": {
    "ExecuteTime": {
     "end_time": "2023-10-26T09:08:42.527879400Z",
     "start_time": "2023-10-26T09:08:42.512882800Z"
    }
   },
   "outputs": [
    {
     "data": {
      "text/plain": "(115457, 1)"
     },
     "execution_count": 8,
     "metadata": {},
     "output_type": "execute_result"
    }
   ],
   "source": [
    "foo = df['weight'].values.reshape(-1,1)\n",
    "foo.shape"
   ]
  },
  {
   "cell_type": "code",
   "execution_count": 9,
   "id": "a8eaaa4e8f0c064f",
   "metadata": {
    "id": "a8eaaa4e8f0c064f",
    "ExecuteTime": {
     "end_time": "2023-10-26T09:08:42.584881Z",
     "start_time": "2023-10-26T09:08:42.528880700Z"
    }
   },
   "outputs": [
    {
     "name": "stdout",
     "output_type": "stream",
     "text": [
      "[[0.75492086]]\n"
     ]
    }
   ],
   "source": [
    "# the coefficient:\n",
    "print(model.coef_)"
   ]
  },
  {
   "cell_type": "code",
   "execution_count": 10,
   "id": "5e235ebcf5a153e6",
   "metadata": {
    "id": "5e235ebcf5a153e6",
    "ExecuteTime": {
     "end_time": "2023-10-26T09:08:42.585879200Z",
     "start_time": "2023-10-26T09:08:42.543880200Z"
    }
   },
   "outputs": [
    {
     "name": "stdout",
     "output_type": "stream",
     "text": [
      "[124.41154362]\n"
     ]
    }
   ],
   "source": [
    "# the intercept:\n",
    "print(model.intercept_)"
   ]
  },
  {
   "cell_type": "code",
   "execution_count": 11,
   "id": "BJJjoOev48az",
   "metadata": {
    "id": "BJJjoOev48az",
    "ExecuteTime": {
     "end_time": "2023-10-26T09:08:42.617099700Z",
     "start_time": "2023-10-26T09:08:42.557878800Z"
    }
   },
   "outputs": [
    {
     "name": "stdout",
     "output_type": "stream",
     "text": [
      "[[   184.80521209]\n",
      " [   199.9036292 ]\n",
      " [169981.60409578]]\n"
     ]
    }
   ],
   "source": [
    "A = model.coef_\n",
    "b = model.intercept_\n",
    "\n",
    "def f(X):\n",
    "    return A * X + b\n",
    "\n",
    "X = np.array([[80], [100], [225000]])\n",
    "\n",
    "preds  = f(X)\n",
    "\n",
    "print(preds)"
   ]
  },
  {
   "cell_type": "markdown",
   "id": "a795d5f70494fc1a",
   "metadata": {
    "collapsed": false,
    "id": "a795d5f70494fc1a"
   },
   "source": [
    "# Task 1.5 - Scatter Plot with Regression Line\n",
    "Create a Scatter Plot of player weight vs. height. Draw the regression line into the scatter plot.\n",
    "\n",
    "*Hint*: You can use `plt.plot` to draw the regression line. Have a look at the [documentation](https://matplotlib.org/stable/api/_as_gen/matplotlib.pyplot.plot.html) for how to use it. If you didn't do the bonus part of Task 1.1, you can have a look at the [`matplotlib cheat sheet`](https://matplotlib.org/cheatsheets/_images/cheatsheets-1.png).\n",
    "\n",
    "*Hint2*: You can easily find the x-axis values. How can you get the y-axis values for the regression line? You already did this in a previous task!"
   ]
  },
  {
   "cell_type": "code",
   "execution_count": 12,
   "id": "424076d468acadd8",
   "metadata": {
    "id": "424076d468acadd8",
    "ExecuteTime": {
     "end_time": "2023-10-26T09:08:43.286085100Z",
     "start_time": "2023-10-26T09:08:42.580878800Z"
    }
   },
   "outputs": [
    {
     "name": "stderr",
     "output_type": "stream",
     "text": [
      "No artists with labels found to put in legend.  Note that artists whose label start with an underscore are ignored when legend() is called with no argument.\n"
     ]
    },
    {
     "data": {
      "text/plain": "<Figure size 640x480 with 1 Axes>",
      "image/png": "[encoded data removed]"
     },
     "metadata": {},
     "output_type": "display_data"
    }
   ],
   "source": [
    "plt.scatter(df['weight'], df['height'], s=18)\n",
    "\n",
    "plt.xlabel('Player Weight (kg)')\n",
    "plt.ylabel('Player Height (cm)')\n",
    "plt.legend()\n",
    "\n",
    "plt.show()"
   ]
  },
  {
   "cell_type": "code",
   "execution_count": 13,
   "id": "2abbde10",
   "metadata": {
    "ExecuteTime": {
     "end_time": "2023-10-26T09:08:44.003589900Z",
     "start_time": "2023-10-26T09:08:43.276085300Z"
    }
   },
   "outputs": [
    {
     "name": "stderr",
     "output_type": "stream",
     "text": [
      "No artists with labels found to put in legend.  Note that artists whose label start with an underscore are ignored when legend() is called with no argument.\n"
     ]
    },
    {
     "data": {
      "text/plain": "<Figure size 640x480 with 1 Axes>",
      "image/png": "[encoded data removed]"
     },
     "metadata": {},
     "output_type": "display_data"
    }
   ],
   "source": [
    "X = df['weight'].values.reshape(-1, 1)\n",
    "Y = df['height'].values.reshape(-1, 1)\n",
    "\n",
    "model.fit(X, Y)\n",
    "\n",
    "regressionLine = model.predict(X)\n",
    "\n",
    "plt.scatter(X, Y, s=15, color='blue')\n",
    "plt.plot(X, regressionLine, color='red')\n",
    "\n",
    "plt.xlabel('Player Weight (kg)')\n",
    "plt.ylabel('Player Height (cm)')\n",
    "plt.legend()\n",
    "\n",
    "plt.show()"
   ]
  },
  {
   "cell_type": "markdown",
   "id": "e4afd2900cb34eda",
   "metadata": {
    "collapsed": false,
    "id": "e4afd2900cb34eda"
   },
   "source": [
    "**Bonus**: Repeat this for height vs. name length."
   ]
  },
  {
   "cell_type": "code",
   "execution_count": 14,
   "id": "ee83d4c9d37e7b55",
   "metadata": {
    "id": "ee83d4c9d37e7b55",
    "ExecuteTime": {
     "end_time": "2023-10-26T09:08:44.724289Z",
     "start_time": "2023-10-26T09:08:44.000091400Z"
    }
   },
   "outputs": [
    {
     "name": "stderr",
     "output_type": "stream",
     "text": [
      "No artists with labels found to put in legend.  Note that artists whose label start with an underscore are ignored when legend() is called with no argument.\n"
     ]
    },
    {
     "data": {
      "text/plain": "<Figure size 640x480 with 1 Axes>",
      "image/png": "[encoded data removed]"
     },
     "metadata": {},
     "output_type": "display_data"
    }
   ],
   "source": [
    "X = df['weight'].values.reshape(-1, 1)\n",
    "Y = df['NameLength'].values.reshape(-1, 1)\n",
    "\n",
    "model.fit(X, Y)\n",
    "\n",
    "regressionLine = model.predict(X)\n",
    "\n",
    "plt.scatter(X, Y, s=15, color='blue')\n",
    "plt.plot(X, regressionLine, color='red')\n",
    "\n",
    "plt.xlabel('Player Weight (kg)')\n",
    "plt.ylabel('Player Height (cm)')\n",
    "plt.legend()\n",
    "\n",
    "plt.show()"
   ]
  },
  {
   "cell_type": "markdown",
   "id": "536b1531f93177d5",
   "metadata": {
    "collapsed": false,
    "id": "536b1531f93177d5"
   },
   "source": [
    "# Task 2.1 - SQL Query on DataFrame\n",
    "Write a query that returns the player's weight, height, and position from the DataFrame, using SQL.\n",
    "\n",
    "*Hint*: You need to use the [`read_sql`](https://pandas.pydata.org/docs/reference/api/pandas.read_sql.html) function.\n",
    "\n",
    "You can find an SQL cheat sheet [here](https://www.sqltutorial.org/sql-cheat-sheet/)."
   ]
  },
  {
   "cell_type": "code",
   "execution_count": 15,
   "id": "929582c20df6751b",
   "metadata": {
    "id": "929582c20df6751b",
    "ExecuteTime": {
     "end_time": "2023-10-26T09:08:45.153614800Z",
     "start_time": "2023-10-26T09:08:44.716288500Z"
    }
   },
   "outputs": [
    {
     "ename": "AttributeError",
     "evalue": "'builtin_function_or_method' object has no attribute 'connect'",
     "output_type": "error",
     "traceback": [
      "\u001B[1;31m---------------------------------------------------------------------------\u001B[0m",
      "\u001B[1;31mAttributeError\u001B[0m                            Traceback (most recent call last)",
      "Input \u001B[1;32mIn [15]\u001B[0m, in \u001B[0;36m<cell line: 3>\u001B[1;34m()\u001B[0m\n\u001B[0;32m      1\u001B[0m \u001B[38;5;28;01mfrom\u001B[39;00m \u001B[38;5;21;01msqlite3\u001B[39;00m \u001B[38;5;28;01mimport\u001B[39;00m connect \u001B[38;5;28;01mas\u001B[39;00m sql3\n\u001B[1;32m----> 3\u001B[0m \u001B[38;5;28;01mwith\u001B[39;00m \u001B[43msql3\u001B[49m\u001B[38;5;241;43m.\u001B[39;49m\u001B[43mconnect\u001B[49m(\u001B[38;5;124m'\u001B[39m\u001B[38;5;124mE03_crowdstorming.db\u001B[39m\u001B[38;5;124m'\u001B[39m) \u001B[38;5;28;01mas\u001B[39;00m sql_conn:\n\u001B[0;32m      4\u001B[0m     df\u001B[38;5;241m.\u001B[39mto_sql(\u001B[38;5;124m'\u001B[39m\u001B[38;5;124mE03_crowdstorming\u001B[39m\u001B[38;5;124m'\u001B[39m, sql_conn, if_exists\u001B[38;5;241m=\u001B[39m\u001B[38;5;124m\"\u001B[39m\u001B[38;5;124mreplace\u001B[39m\u001B[38;5;124m\"\u001B[39m)\n\u001B[0;32m      6\u001B[0m conn \u001B[38;5;241m=\u001B[39m sql3\u001B[38;5;241m.\u001B[39mconnect(\u001B[38;5;124m'\u001B[39m\u001B[38;5;124m./E03_crowdstorming.db\u001B[39m\u001B[38;5;124m'\u001B[39m)\n",
      "\u001B[1;31mAttributeError\u001B[0m: 'builtin_function_or_method' object has no attribute 'connect'"
     ]
    }
   ],
   "source": [
    "from sqlite3 import connect as sql3\n",
    "\n",
    "with sql3.connect('E03_crowdstorming.db') as sql_conn:\n",
    "    df.to_sql('E03_crowdstorming', sql_conn, if_exists=\"replace\")\n",
    "\n",
    "conn = sql3.connect('./E03_crowdstorming.db')\n",
    "\n",
    "pd.read_sql(\n",
    "    '''SELECT player, weight, height\n",
    "       FROM E03_crowdstorming\n",
    "    ''',\n",
    "    conn\n",
    ")\n",
    "\n",
    "conn.close()"
   ]
  },
  {
   "cell_type": "markdown",
   "id": "8a56051d600a540f",
   "metadata": {
    "collapsed": false,
    "id": "8a56051d600a540f"
   },
   "source": [
    "We will be using [`sqlalchemy`](https://www.sqlalchemy.org/) here. First we store the data from the DataFrame in a sqlite3 database.\n",
    "\n",
    "You can find an `sqlalchemy` cheat sheet [here](https://www.pythonsheets.com/notes/python-sqlalchemy.html)."
   ]
  },
  {
   "cell_type": "code",
   "execution_count": null,
   "id": "86cb80ef22323e0",
   "metadata": {
    "id": "86cb80ef22323e0",
    "ExecuteTime": {
     "start_time": "2023-10-26T09:08:45.135614300Z"
    }
   },
   "outputs": [],
   "source": [
    "with sqlite3.connect('crowdstorming.db') as c:\n",
    "    df.to_sql('crowdstorming', c, if_exists=\"replace\")\n",
    "\n",
    "from sqlalchemy import create_engine, MetaData\n",
    "\n",
    "engine = create_engine('sqlite:///crowdstorming.db')\n",
    "metadata = MetaData()\n",
    "metadata.reflect(engine)\n",
    "\n",
    "table_names = metadata.tables.keys()\n",
    "print(table_names)"
   ]
  },
  {
   "cell_type": "markdown",
   "id": "1b8e4dc72b2d87fd",
   "metadata": {
    "collapsed": false,
    "id": "1b8e4dc72b2d87fd"
   },
   "source": [
    "# Task 3.1 - Loading additional data\n",
    "\n",
    "To enrich our data we will collect information about the countries. For this we will use an API.\n",
    "\n",
    "- Make a GET request to https://restcountries.com/v3.1/all. You can use the [`requests` library](https://requests.readthedocs.io/en/latest/user/quickstart/) for this.\n",
    "- Create a DataFrame called `countries_df` from the response\n",
    "- Alternative: Load the data from the file `countries.json` (in case the API dies)\n",
    "- You may need either [`pd.DataFrame.from_records`](https://pandas.pydata.org/docs/reference/api/pandas.DataFrame.from_records.html), [`pd.read_json`](https://pandas.pydata.org/docs/reference/api/pandas.read_json.html)."
   ]
  },
  {
   "cell_type": "code",
   "execution_count": null,
   "id": "a22713f2fbe469ae",
   "metadata": {
    "id": "a22713f2fbe469ae",
    "ExecuteTime": {
     "start_time": "2023-10-26T09:08:45.137613400Z"
    }
   },
   "outputs": [],
   "source": []
  },
  {
   "cell_type": "markdown",
   "id": "98436a242a605b35",
   "metadata": {
    "collapsed": false,
    "id": "98436a242a605b35"
   },
   "source": [
    "# Task 3.2 - Data Cleaning\n",
    "The `'name'` column contains dictionaries. This makes it annoying for us to work with.\n",
    "Simplify the column by replacing all entries in it with the value in `'common'` in that dictionary.\n",
    "\n",
    "*Hint*: You did something very similar in Task 1.2!"
   ]
  },
  {
   "cell_type": "code",
   "execution_count": null,
   "id": "1737ad741b166d41",
   "metadata": {
    "id": "1737ad741b166d41",
    "ExecuteTime": {
     "start_time": "2023-10-26T09:08:45.139618700Z"
    }
   },
   "outputs": [],
   "source": [
    "# use this if the API is not working or dies\n",
    "countries_df = pd.read_json('https://drive.switch.ch/index.php/s/x0zUM0seQqigcU1/download')"
   ]
  },
  {
   "cell_type": "markdown",
   "id": "fb334d67fa261d16",
   "metadata": {
    "collapsed": false,
    "id": "fb334d67fa261d16"
   },
   "source": [
    "# Task 3.3 - Joining DataFrames\n",
    "\n",
    "Combine the two DataFrames on the `leagueCountry` column. You can use [`pd.merge`](https://pandas.pydata.org/docs/reference/api/pandas.DataFrame.merge.html) for this.\n",
    "For the DataFrame with the countries, you only need the `name` and `fifa` columns."
   ]
  },
  {
   "cell_type": "code",
   "execution_count": null,
   "id": "b99f5a714ed81b19",
   "metadata": {
    "id": "b99f5a714ed81b19",
    "ExecuteTime": {
     "start_time": "2023-10-26T09:08:45.140618300Z"
    }
   },
   "outputs": [],
   "source": []
  },
  {
   "cell_type": "markdown",
   "id": "5c6223f2dba524e1",
   "metadata": {
    "collapsed": false,
    "id": "5c6223f2dba524e1"
   },
   "source": [
    "Here is how we can do it with SQLAlchemy.\n",
    "First we save the data from the DataFrame in the database."
   ]
  },
  {
   "cell_type": "code",
   "execution_count": null,
   "id": "3c27e680ca717e8e",
   "metadata": {
    "id": "3c27e680ca717e8e",
    "ExecuteTime": {
     "start_time": "2023-10-26T09:08:45.141613200Z"
    }
   },
   "outputs": [],
   "source": [
    "from sqlalchemy.orm import sessionmaker\n",
    "\n",
    "with sqlite3.connect(\"./crowdstorming.db\") as c:\n",
    "    countries_df[['name', 'fifa', 'unMember']].to_sql('countries', c, if_exists=\"replace\")\n",
    "\n",
    "metadata = MetaData()\n",
    "metadata.reflect(engine)\n",
    "countries_table = metadata.tables['countries']\n",
    "crowdstorming_table = metadata.tables['crowdstorming']\n",
    "Session = sessionmaker(bind=engine)\n",
    "session = Session()\n",
    "results = session.query(countries_table).all()\n",
    "print(results[:5])"
   ]
  },
  {
   "cell_type": "markdown",
   "id": "1252f3e6b6b4f960",
   "metadata": {
    "collapsed": false,
    "id": "1252f3e6b6b4f960"
   },
   "source": [
    "Then we do the join, but with SQLAlchemy."
   ]
  },
  {
   "cell_type": "code",
   "execution_count": null,
   "id": "c6cd0e5dd4705db3",
   "metadata": {
    "id": "c6cd0e5dd4705db3",
    "ExecuteTime": {
     "start_time": "2023-10-26T09:08:45.142613600Z"
    }
   },
   "outputs": [],
   "source": [
    "results = (\n",
    "    session\n",
    "    .query(\n",
    "        crowdstorming_table.c,\n",
    "        countries_table.c.fifa\n",
    "    )\n",
    "    .join(\n",
    "        countries_table,\n",
    "        crowdstorming_table.c.leagueCountry == countries_table.c.name\n",
    "    )\n",
    "    .all()\n",
    ")\n",
    "len(results)"
   ]
  },
  {
   "cell_type": "markdown",
   "id": "1ff87928f649205e",
   "metadata": {
    "collapsed": false,
    "id": "1ff87928f649205e"
   },
   "source": [
    "# Task 4 - Joining with SQL\n",
    "\n",
    "First we save the data from the DataFrame in the database."
   ]
  },
  {
   "cell_type": "code",
   "execution_count": null,
   "id": "f551d805b57e390c",
   "metadata": {
    "id": "f551d805b57e390c",
    "ExecuteTime": {
     "start_time": "2023-10-26T09:08:45.143612100Z"
    }
   },
   "outputs": [],
   "source": [
    "with sqlite3.connect(\"./crowdstorming.db\") as c:\n",
    "    countries_df[['name', 'fifa', 'unMember']].to_sql('countries', c, if_exists=\"replace\")"
   ]
  },
  {
   "cell_type": "markdown",
   "id": "4aea15d466f30cae",
   "metadata": {
    "collapsed": false,
    "id": "4aea15d466f30cae"
   },
   "source": [
    "# Task 4.1 - Joining crowdstorming data and country data with SQL\n",
    "\n",
    "Select all columns from the `crowdstorming` table, and only the `fifa` column from the `countries` table.\n",
    "Then join the two tables on the `leagueCountry` column of the `crowdstorming` table and the `name` column of the `countries` table.\n"
   ]
  },
  {
   "cell_type": "code",
   "execution_count": null,
   "id": "1bea08eb40ad1f66",
   "metadata": {
    "id": "1bea08eb40ad1f66",
    "ExecuteTime": {
     "start_time": "2023-10-26T09:08:45.144613800Z"
    }
   },
   "outputs": [],
   "source": []
  },
  {
   "cell_type": "markdown",
   "id": "269b8a099aedfb57",
   "metadata": {
    "collapsed": false,
    "id": "269b8a099aedfb57"
   },
   "source": [
    "And here is how we can do the same with SQLAlchemy."
   ]
  },
  {
   "cell_type": "code",
   "execution_count": null,
   "id": "8903eef9314dfc66",
   "metadata": {
    "id": "8903eef9314dfc66",
    "ExecuteTime": {
     "start_time": "2023-10-26T09:08:45.146614Z"
    }
   },
   "outputs": [],
   "source": [
    "results = (\n",
    "    session\n",
    "    .query(\n",
    "        crowdstorming_table.c,\n",
    "        countries_table.c.fifa\n",
    "    )\n",
    "    .join(\n",
    "        countries_table,\n",
    "        crowdstorming_table.c.leagueCountry == countries_table.c.name\n",
    "    )\n",
    "    .all()\n",
    ")\n",
    "print(results[0])"
   ]
  },
  {
   "cell_type": "markdown",
   "id": "427ba4b227ce9b22",
   "metadata": {
    "collapsed": false,
    "id": "427ba4b227ce9b22"
   },
   "source": [
    "# Task 5 - Calculating the mean\n",
    "\n",
    "Calculate the mean height and weight of each player in the database.\n"
   ]
  },
  {
   "cell_type": "code",
   "execution_count": null,
   "id": "uoMGcfPuk1pB",
   "metadata": {
    "id": "uoMGcfPuk1pB",
    "ExecuteTime": {
     "start_time": "2023-10-26T09:08:45.147614200Z"
    }
   },
   "outputs": [],
   "source": []
  },
  {
   "cell_type": "markdown",
   "id": "9c42f1fe6fc96d3",
   "metadata": {
    "collapsed": false,
    "id": "9c42f1fe6fc96d3"
   },
   "source": [
    "Now repeat this, but on the DataFrame. Are the results the same?"
   ]
  },
  {
   "cell_type": "code",
   "execution_count": null,
   "id": "9b9ecdbc542e28c9",
   "metadata": {
    "id": "9b9ecdbc542e28c9",
    "ExecuteTime": {
     "start_time": "2023-10-26T09:08:45.149616800Z"
    }
   },
   "outputs": [],
   "source": []
  },
  {
   "cell_type": "markdown",
   "id": "63daecd56d311f39",
   "metadata": {
    "collapsed": false,
    "id": "63daecd56d311f39"
   },
   "source": [
    "And the solution with SQLAlchemy:"
   ]
  },
  {
   "cell_type": "code",
   "execution_count": null,
   "id": "2429c5a8b6a2867",
   "metadata": {
    "id": "2429c5a8b6a2867",
    "ExecuteTime": {
     "start_time": "2023-10-26T09:08:45.150613900Z"
    }
   },
   "outputs": [],
   "source": [
    "from sqlalchemy import func\n",
    "# calculate the mean height and weight in the database\n",
    "results = session.query(\n",
    "    func.avg(crowdstorming_table.c.height),\n",
    "    func.avg(crowdstorming_table.c.weight)\n",
    ").all()\n",
    "\n",
    "print(results)"
   ]
  },
  {
   "cell_type": "markdown",
   "id": "5a4f21e7e48891b0",
   "metadata": {
    "collapsed": false,
    "id": "5a4f21e7e48891b0"
   },
   "source": [
    "# Task 6 - Calculating the mean per position\n",
    "\n",
    "Calculate the mean height and weight of each player per position in the database."
   ]
  },
  {
   "cell_type": "code",
   "execution_count": null,
   "id": "35682540198afa5",
   "metadata": {
    "id": "35682540198afa5",
    "ExecuteTime": {
     "start_time": "2023-10-26T09:08:45.151613400Z"
    }
   },
   "outputs": [],
   "source": []
  },
  {
   "cell_type": "markdown",
   "id": "9c54f74004c7856f",
   "metadata": {
    "collapsed": false,
    "id": "9c54f74004c7856f"
   },
   "source": [
    "Now do the same with the DataFrame. Are the results the same?"
   ]
  },
  {
   "cell_type": "code",
   "execution_count": null,
   "id": "f8b395d6293724da",
   "metadata": {
    "id": "f8b395d6293724da",
    "ExecuteTime": {
     "start_time": "2023-10-26T09:08:45.152613200Z"
    }
   },
   "outputs": [],
   "source": []
  },
  {
   "cell_type": "markdown",
   "id": "b945afc0a1e22046",
   "metadata": {
    "collapsed": false,
    "id": "b945afc0a1e22046"
   },
   "source": [
    "And the solution with SQLAlchemy:"
   ]
  },
  {
   "cell_type": "code",
   "execution_count": null,
   "id": "67bfb06e42d7910e",
   "metadata": {
    "id": "67bfb06e42d7910e",
    "ExecuteTime": {
     "end_time": "2023-10-26T09:08:45.155614300Z",
     "start_time": "2023-10-26T09:08:45.154621500Z"
    }
   },
   "outputs": [],
   "source": [
    "# calculate mean height and weight PER POSITION in the database\n",
    "results = (\n",
    "    session.query(\n",
    "        crowdstorming_table.c.position,\n",
    "        func.avg(crowdstorming_table.c.height),\n",
    "        func.avg(crowdstorming_table.c.weight)\n",
    "    )\n",
    "    .group_by(crowdstorming_table.c.position)\n",
    "    .all()\n",
    ")\n",
    "results"
   ]
  },
  {
   "cell_type": "markdown",
   "id": "74d3e689694b648d",
   "metadata": {
    "collapsed": false,
    "id": "74d3e689694b648d"
   },
   "source": [
    "# Task 7 - Calculating the mean per position and league\n",
    "Calculate the mean height and weight of each player per position and per league in the database."
   ]
  },
  {
   "cell_type": "code",
   "execution_count": null,
   "id": "588018ce9fe4b9d4",
   "metadata": {
    "id": "588018ce9fe4b9d4",
    "ExecuteTime": {
     "end_time": "2023-10-26T09:08:45.155614300Z",
     "start_time": "2023-10-26T09:08:45.155614300Z"
    }
   },
   "outputs": [],
   "source": []
  },
  {
   "cell_type": "markdown",
   "id": "8dd3c29772417b",
   "metadata": {
    "collapsed": false,
    "id": "8dd3c29772417b"
   },
   "source": [
    "Now do the same with the DataFrame. Are the results the same?"
   ]
  },
  {
   "cell_type": "code",
   "execution_count": null,
   "id": "814b65225a31da37",
   "metadata": {
    "id": "814b65225a31da37",
    "ExecuteTime": {
     "start_time": "2023-10-26T09:08:45.156612500Z"
    }
   },
   "outputs": [],
   "source": []
  },
  {
   "cell_type": "markdown",
   "id": "d8c4087b2259d252",
   "metadata": {
    "collapsed": false,
    "id": "d8c4087b2259d252"
   },
   "source": [
    "And the solution with SQLAlchemy:"
   ]
  },
  {
   "cell_type": "code",
   "execution_count": null,
   "id": "554c6d8bf65d4c51",
   "metadata": {
    "id": "554c6d8bf65d4c51",
    "ExecuteTime": {
     "end_time": "2023-10-26T09:08:45.276130Z",
     "start_time": "2023-10-26T09:08:45.157612200Z"
    }
   },
   "outputs": [],
   "source": [
    "# calculate mean height and weight PER POSITION and PER LEAGUE in the database\n",
    "results = (\n",
    "    session\n",
    "    .query(\n",
    "        crowdstorming_table.c.position,\n",
    "        crowdstorming_table.c.leagueCountry,\n",
    "        func.avg(crowdstorming_table.c.height),\n",
    "        func.avg(crowdstorming_table.c.weight)\n",
    "    )\n",
    "    .group_by(crowdstorming_table.c.position, crowdstorming_table.c.leagueCountry)\n",
    "    .all()\n",
    ")\n",
    "results"
   ]
  },
  {
   "cell_type": "code",
   "execution_count": null,
   "id": "b24cb3a9a00cc2af",
   "metadata": {
    "id": "b24cb3a9a00cc2af",
    "ExecuteTime": {
     "start_time": "2023-10-26T09:08:45.157612200Z"
    }
   },
   "outputs": [],
   "source": []
  }
 ],
 "metadata": {
  "colab": {
   "provenance": []
  },
  "kernelspec": {
   "display_name": "Python 3",
   "language": "python",
   "name": "python3"
  },
  "language_info": {
   "codemirror_mode": {
    "name": "ipython",
    "version": 3
   },
   "file_extension": ".py",
   "mimetype": "text/x-python",
   "name": "python",
   "nbconvert_exporter": "python",
   "pygments_lexer": "ipython3",
   "version": "3.9.13"
  }
 },
 "nbformat": 4,
 "nbformat_minor": 5
}
