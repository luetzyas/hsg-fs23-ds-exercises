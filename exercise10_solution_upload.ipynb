{
 "cells": [
  {
   "cell_type": "code",
   "execution_count": 31,
   "id": "initial_id",
   "metadata": {
    "collapsed": true,
    "id": "initial_id",
    "ExecuteTime": {
     "end_time": "2023-12-12T13:17:59.558558163Z",
     "start_time": "2023-12-12T13:17:59.455814006Z"
    }
   },
   "outputs": [],
   "source": [
    "import numpy as np\n",
    "import pandas as pd"
   ]
  },
  {
   "cell_type": "code",
   "execution_count": 32,
   "outputs": [
    {
     "data": {
      "text/plain": "     playerShort         player             club leagueCountry    birthday  \\\n0  lucas-wilchez  Lucas Wilchez    Real Zaragoza         Spain  31.08.1983   \n1     john-utaka     John Utaka  Montpellier HSC        France  08.01.1982   \n2    abdon-prats    Abdón Prats     RCD Mallorca         Spain  17.12.1992   \n3     pablo-mari     Pablo Marí     RCD Mallorca         Spain  31.08.1993   \n4     ruben-pena     Rubén Peña  Real Valladolid         Spain  18.07.1991   \n\n   height  weight              position  games  victories  ...  rater2  \\\n0   177.0    72.0  Attacking Midfielder      1          0  ...    0.50   \n1   179.0    82.0          Right Winger      1          0  ...    0.75   \n2   181.0    79.0                   NaN      1          0  ...     NaN   \n3   191.0    87.0           Center Back      1          1  ...     NaN   \n4   172.0    70.0      Right Midfielder      1          1  ...     NaN   \n\n   refNum  refCountry  Alpha_3   meanIAT    nIAT     seIAT   meanExp    nExp  \\\n0       1           1      GRC  0.326391   712.0  0.000564  0.396000   750.0   \n1       2           2      ZMB  0.203375    40.0  0.010875 -0.204082    49.0   \n2       3           3      ESP  0.369894  1785.0  0.000229  0.588297  1897.0   \n3       3           3      ESP  0.369894  1785.0  0.000229  0.588297  1897.0   \n4       3           3      ESP  0.369894  1785.0  0.000229  0.588297  1897.0   \n\n      seExp  \n0  0.002696  \n1  0.061504  \n2  0.001002  \n3  0.001002  \n4  0.001002  \n\n[5 rows x 28 columns]",
      "text/html": "<div>\n<style scoped>\n    .dataframe tbody tr th:only-of-type {\n        vertical-align: middle;\n    }\n\n    .dataframe tbody tr th {\n        vertical-align: top;\n    }\n\n    .dataframe thead th {\n        text-align: right;\n    }\n</style>\n<table border=\"1\" class=\"dataframe\">\n  <thead>\n    <tr style=\"text-align: right;\">\n      <th></th>\n      <th>playerShort</th>\n      <th>player</th>\n      <th>club</th>\n      <th>leagueCountry</th>\n      <th>birthday</th>\n      <th>height</th>\n      <th>weight</th>\n      <th>position</th>\n      <th>games</th>\n      <th>victories</th>\n      <th>...</th>\n      <th>rater2</th>\n      <th>refNum</th>\n      <th>refCountry</th>\n      <th>Alpha_3</th>\n      <th>meanIAT</th>\n      <th>nIAT</th>\n      <th>seIAT</th>\n      <th>meanExp</th>\n      <th>nExp</th>\n      <th>seExp</th>\n    </tr>\n  </thead>\n  <tbody>\n    <tr>\n      <th>0</th>\n      <td>lucas-wilchez</td>\n      <td>Lucas Wilchez</td>\n      <td>Real Zaragoza</td>\n      <td>Spain</td>\n      <td>31.08.1983</td>\n      <td>177.0</td>\n      <td>72.0</td>\n      <td>Attacking Midfielder</td>\n      <td>1</td>\n      <td>0</td>\n      <td>...</td>\n      <td>0.50</td>\n      <td>1</td>\n      <td>1</td>\n      <td>GRC</td>\n      <td>0.326391</td>\n      <td>712.0</td>\n      <td>0.000564</td>\n      <td>0.396000</td>\n      <td>750.0</td>\n      <td>0.002696</td>\n    </tr>\n    <tr>\n      <th>1</th>\n      <td>john-utaka</td>\n      <td>John Utaka</td>\n      <td>Montpellier HSC</td>\n      <td>France</td>\n      <td>08.01.1982</td>\n      <td>179.0</td>\n      <td>82.0</td>\n      <td>Right Winger</td>\n      <td>1</td>\n      <td>0</td>\n      <td>...</td>\n      <td>0.75</td>\n      <td>2</td>\n      <td>2</td>\n      <td>ZMB</td>\n      <td>0.203375</td>\n      <td>40.0</td>\n      <td>0.010875</td>\n      <td>-0.204082</td>\n      <td>49.0</td>\n      <td>0.061504</td>\n    </tr>\n    <tr>\n      <th>2</th>\n      <td>abdon-prats</td>\n      <td>Abdón Prats</td>\n      <td>RCD Mallorca</td>\n      <td>Spain</td>\n      <td>17.12.1992</td>\n      <td>181.0</td>\n      <td>79.0</td>\n      <td>NaN</td>\n      <td>1</td>\n      <td>0</td>\n      <td>...</td>\n      <td>NaN</td>\n      <td>3</td>\n      <td>3</td>\n      <td>ESP</td>\n      <td>0.369894</td>\n      <td>1785.0</td>\n      <td>0.000229</td>\n      <td>0.588297</td>\n      <td>1897.0</td>\n      <td>0.001002</td>\n    </tr>\n    <tr>\n      <th>3</th>\n      <td>pablo-mari</td>\n      <td>Pablo Marí</td>\n      <td>RCD Mallorca</td>\n      <td>Spain</td>\n      <td>31.08.1993</td>\n      <td>191.0</td>\n      <td>87.0</td>\n      <td>Center Back</td>\n      <td>1</td>\n      <td>1</td>\n      <td>...</td>\n      <td>NaN</td>\n      <td>3</td>\n      <td>3</td>\n      <td>ESP</td>\n      <td>0.369894</td>\n      <td>1785.0</td>\n      <td>0.000229</td>\n      <td>0.588297</td>\n      <td>1897.0</td>\n      <td>0.001002</td>\n    </tr>\n    <tr>\n      <th>4</th>\n      <td>ruben-pena</td>\n      <td>Rubén Peña</td>\n      <td>Real Valladolid</td>\n      <td>Spain</td>\n      <td>18.07.1991</td>\n      <td>172.0</td>\n      <td>70.0</td>\n      <td>Right Midfielder</td>\n      <td>1</td>\n      <td>1</td>\n      <td>...</td>\n      <td>NaN</td>\n      <td>3</td>\n      <td>3</td>\n      <td>ESP</td>\n      <td>0.369894</td>\n      <td>1785.0</td>\n      <td>0.000229</td>\n      <td>0.588297</td>\n      <td>1897.0</td>\n      <td>0.001002</td>\n    </tr>\n  </tbody>\n</table>\n<p>5 rows × 28 columns</p>\n</div>"
     },
     "execution_count": 32,
     "metadata": {},
     "output_type": "execute_result"
    }
   ],
   "source": [
    "df = pd.read_csv('https://drive.switch.ch/index.php/s/UEpTFv2Bfa5C1dd/download')\n",
    "df.head()"
   ],
   "metadata": {
    "id": "2d5dca3f42ab4cd4",
    "outputId": "38f2a24e-7cdc-4fd3-df8c-91f4dd8557ec",
    "colab": {
     "base_uri": "https://localhost:8080/",
     "height": 342
    },
    "ExecuteTime": {
     "end_time": "2023-12-12T13:18:01.390420272Z",
     "start_time": "2023-12-12T13:17:59.561919505Z"
    }
   },
   "id": "2d5dca3f42ab4cd4"
  },
  {
   "cell_type": "code",
   "execution_count": 33,
   "outputs": [],
   "source": [
    "position_mapping = {\n",
    "    'Goalkeeper': 'Goalkeepers',\n",
    "    'Center Back': 'Defenders',\n",
    "    'Left Fullback': 'Defenders',\n",
    "    'Right Fullback': 'Defenders',\n",
    "    'Attacking Midfielder': 'Midfielders',\n",
    "    'Center Midfielder': 'Midfielders',\n",
    "    'Defensive Midfielder': 'Midfielders',\n",
    "    'Left Midfielder': 'Midfielders',\n",
    "    'Right Midfielder': 'Midfielders',\n",
    "    'Left Winger': 'Forwards',\n",
    "    'Right Winger': 'Forwards',\n",
    "    'Center Forward': 'Forwards'\n",
    "}\n",
    "\n",
    "# rename the position in the dataframe to the broader position category\n",
    "df['position'] = df['position'].map(position_mapping)"
   ],
   "metadata": {
    "id": "517077ee5d5299f",
    "ExecuteTime": {
     "end_time": "2023-12-12T13:18:01.391352731Z",
     "start_time": "2023-12-12T13:18:01.368834901Z"
    }
   },
   "id": "517077ee5d5299f"
  },
  {
   "cell_type": "markdown",
   "source": [
    "# Task 7 (From last week) - Same league\n",
    "If you randomly construct a team of players while respecting their original position (like we did in Task 5), what is the probability that all players are in the England league?"
   ],
   "metadata": {
    "collapsed": false,
    "id": "6e2f3962ab971754"
   },
   "id": "6e2f3962ab971754"
  },
  {
   "cell_type": "code",
   "execution_count": 34,
   "outputs": [
    {
     "data": {
      "text/plain": "position     leagueCountry\nDefenders    England          12395\n             France            7146\n             Germany          12511\n             Spain             9487\nForwards     England           8904\n             France            4930\n             Germany           8530\n             Spain             6528\nGoalkeepers  England           4063\n             France            1760\n             Germany           3927\n             Spain             2571\nMidfielders  England          11999\n             France            7972\n             Germany          13815\n             Spain            11764\ndtype: int64"
     },
     "execution_count": 34,
     "metadata": {},
     "output_type": "execute_result"
    }
   ],
   "source": [
    "league_country_counts = df.groupby(['position', 'leagueCountry']).size()\n",
    "league_country_counts"
   ],
   "metadata": {
    "id": "65715af23bde0d08",
    "outputId": "cd5b4afc-9de6-41f8-f923-68b9ea18e4f9",
    "colab": {
     "base_uri": "https://localhost:8080/"
    },
    "ExecuteTime": {
     "end_time": "2023-12-12T13:18:01.392242567Z",
     "start_time": "2023-12-12T13:18:01.369160583Z"
    }
   },
   "id": "65715af23bde0d08"
  },
  {
   "cell_type": "code",
   "execution_count": 35,
   "outputs": [
    {
     "data": {
      "text/plain": "  Position Category  Number\n0         Defenders   41539\n1          Forwards   28892\n2       Goalkeepers   12321\n3       Midfielders   45550",
      "text/html": "<div>\n<style scoped>\n    .dataframe tbody tr th:only-of-type {\n        vertical-align: middle;\n    }\n\n    .dataframe tbody tr th {\n        vertical-align: top;\n    }\n\n    .dataframe thead th {\n        text-align: right;\n    }\n</style>\n<table border=\"1\" class=\"dataframe\">\n  <thead>\n    <tr style=\"text-align: right;\">\n      <th></th>\n      <th>Position Category</th>\n      <th>Number</th>\n    </tr>\n  </thead>\n  <tbody>\n    <tr>\n      <th>0</th>\n      <td>Defenders</td>\n      <td>41539</td>\n    </tr>\n    <tr>\n      <th>1</th>\n      <td>Forwards</td>\n      <td>28892</td>\n    </tr>\n    <tr>\n      <th>2</th>\n      <td>Goalkeepers</td>\n      <td>12321</td>\n    </tr>\n    <tr>\n      <th>3</th>\n      <td>Midfielders</td>\n      <td>45550</td>\n    </tr>\n  </tbody>\n</table>\n</div>"
     },
     "execution_count": 35,
     "metadata": {},
     "output_type": "execute_result"
    }
   ],
   "source": [
    "broader_position_counts = df.groupby('position').size()\n",
    "broader_position_counts_df = broader_position_counts.reset_index()\n",
    "broader_position_counts_df.columns = ['Position Category', 'Number']\n",
    "broader_position_counts_df"
   ],
   "metadata": {
    "id": "dfca373b984ee085",
    "outputId": "81803388-ecf8-4f2b-cbf0-f7921eb3adaf",
    "colab": {
     "base_uri": "https://localhost:8080/",
     "height": 175
    },
    "ExecuteTime": {
     "end_time": "2023-12-12T13:18:01.393610989Z",
     "start_time": "2023-12-12T13:18:01.369376285Z"
    }
   },
   "id": "dfca373b984ee085"
  },
  {
   "cell_type": "code",
   "execution_count": 36,
   "outputs": [
    {
     "data": {
      "text/plain": "114390877761817207419313078513240414033753264800"
     },
     "execution_count": 36,
     "metadata": {},
     "output_type": "execute_result"
    }
   ],
   "source": [
    "from math import comb\n",
    "\n",
    "combinations_goalkeepers = comb(broader_position_counts_df[broader_position_counts_df['Position Category'] == 'Goalkeepers']['Number'].values[0], 1)\n",
    "\n",
    "combinations_defenders = comb(broader_position_counts_df[broader_position_counts_df['Position Category'] == 'Defenders']['Number'].values[0], 4)\n",
    "\n",
    "combinations_midfielders = comb(broader_position_counts_df[broader_position_counts_df['Position Category'] == 'Midfielders']['Number'].values[0], 4)\n",
    "\n",
    "combinations_forwards = comb(broader_position_counts_df[broader_position_counts_df['Position Category'] == 'Forwards']['Number'].values[0], 2)\n",
    "\n",
    "total_combinations = combinations_goalkeepers * combinations_defenders * combinations_midfielders * combinations_forwards\n",
    "total_combinations"
   ],
   "metadata": {
    "id": "e478d51933e4b651",
    "outputId": "06cdc67e-a824-440c-be14-34d1ecede8e1",
    "colab": {
     "base_uri": "https://localhost:8080/"
    },
    "ExecuteTime": {
     "end_time": "2023-12-12T13:18:01.415243161Z",
     "start_time": "2023-12-12T13:18:01.375019105Z"
    }
   },
   "id": "e478d51933e4b651"
  },
  {
   "cell_type": "code",
   "execution_count": 37,
   "outputs": [],
   "source": [
    "from math import comb\n",
    "\n",
    "league_country_counts = df.groupby(['position', 'leagueCountry']).size()\n",
    "comb_gk_england = comb(league_country_counts[('Goalkeepers', 'England')], 1)\n",
    "comb_def_england = comb(league_country_counts[('Defenders', 'England')], 4)\n",
    "comb_mid_england = comb(league_country_counts[('Midfielders', 'England')], 4)\n",
    "comb_fwd_england = comb(league_country_counts[('Forwards', 'England')], 2)\n",
    "\n",
    "total_combinations_england = comb_gk_england * comb_def_england * comb_mid_england * comb_fwd_england\n",
    "probability_same_league = total_combinations_england / total_combinations\n"
   ],
   "metadata": {
    "id": "16f257c4c47cf712",
    "ExecuteTime": {
     "end_time": "2023-12-12T13:18:01.479215471Z",
     "start_time": "2023-12-12T13:18:01.385306544Z"
    }
   },
   "id": "16f257c4c47cf712"
  },
  {
   "cell_type": "code",
   "execution_count": 38,
   "outputs": [
    {
     "data": {
      "text/plain": "1.1947124230859298e-06"
     },
     "execution_count": 38,
     "metadata": {},
     "output_type": "execute_result"
    }
   ],
   "source": [
    "probability_same_league"
   ],
   "metadata": {
    "id": "a634b92a60ccf1e6",
    "outputId": "6b9b63f8-1480-417b-d5a6-7480dea33c1e",
    "colab": {
     "base_uri": "https://localhost:8080/"
    },
    "ExecuteTime": {
     "end_time": "2023-12-12T13:18:01.505649682Z",
     "start_time": "2023-12-12T13:18:01.393079141Z"
    }
   },
   "id": "a634b92a60ccf1e6"
  },
  {
   "cell_type": "markdown",
   "source": [
    "# Task 1 - Dice rolls\n",
    "Two balanced six-sided dice are rolled, and the numbers that come up are recorded.\n",
    "\n",
    "- a) What is the probability of rolling a sum of 2?\n",
    "- b) What is the probability of rolling a sum of 7?\n",
    "\n",
    "Solve this mathematically and verify your solution by simulation."
   ],
   "metadata": {
    "collapsed": false,
    "id": "8265b5b9d95f317a"
   },
   "id": "8265b5b9d95f317a"
  },
  {
   "cell_type": "markdown",
   "source": [
    "a) What is the probability of rolling a sum of 2?\n",
    "\n",
    "Only one combination of dice rolls can result in a sum of 2: (1, 1). That means the first die has to show a 1, and the second has to show a 1. For the first die we have in total 6 possible results, we have a $\\frac{1}{6}$ chance of rolling a 1. For the second die we have again 6 possible results, and again a $\\frac{1}{6}$ chance of rolling a 1. The probability of rolling a sum of 2 is therefore $\\frac{1}{6} * \\frac{1}{6} = \\frac{1}{36}$."
   ],
   "metadata": {
    "collapsed": false,
    "id": "b3a69632d42d5f6e"
   },
   "id": "b3a69632d42d5f6e"
  },
  {
   "cell_type": "code",
   "execution_count": 39,
   "outputs": [
    {
     "name": "stdout",
     "output_type": "stream",
     "text": [
      "Probability of rolling a sum of 2: 0.027782 - expected: 0.027777777777777776\n"
     ]
    }
   ],
   "source": [
    "NUM_EXPERIMENTS = 1_000_000\n",
    "\n",
    "# roll two dice\n",
    "dice_rolls = np.random.randint(1, 7, size=(NUM_EXPERIMENTS, 2))\n",
    "\n",
    "# sum the dice rolls\n",
    "dice_rolls_sum = np.sum(dice_rolls, axis=1)\n",
    "\n",
    "# count the number of times we rolled a sum of 2\n",
    "num_rolls_sum_2 = np.sum(dice_rolls_sum == 2)\n",
    "\n",
    "# calculate the probability\n",
    "probability_sum_2 = num_rolls_sum_2 / NUM_EXPERIMENTS\n",
    "\n",
    "print(f'Probability of rolling a sum of 2: {probability_sum_2} - expected: {1/36}')"
   ],
   "metadata": {
    "id": "868cf5698fbfc81e",
    "outputId": "fbd85d33-6f85-497b-d8c4-ed8306ef04c8",
    "colab": {
     "base_uri": "https://localhost:8080/"
    },
    "ExecuteTime": {
     "end_time": "2023-12-12T13:18:01.507006013Z",
     "start_time": "2023-12-12T13:18:01.436924036Z"
    }
   },
   "id": "868cf5698fbfc81e"
  },
  {
   "cell_type": "markdown",
   "source": [
    "b) What is the probability of rolling a sum of 7?\n",
    "\n",
    "First we identify all combinations that give us a 7:\n",
    "- (1, 6)\n",
    "- (2, 5)\n",
    "- (3, 4)\n",
    "- (4, 3)\n",
    "- (5, 2)\n",
    "- (6, 1)\n",
    "\n",
    "We have 6 possible results for the first die, and 6 possible results for the second die. That means we have 36 possible combinations. 6 combinations give us the desired result. The probability of rolling a sum of 7 is therefore $\\frac{6}{36} = \\frac{1}{6}$.\n"
   ],
   "metadata": {
    "collapsed": false,
    "id": "e7b7504c34a367de"
   },
   "id": "e7b7504c34a367de"
  },
  {
   "cell_type": "code",
   "execution_count": 40,
   "outputs": [
    {
     "name": "stdout",
     "output_type": "stream",
     "text": [
      "Probability of rolling a sum of 7: 0.167224 - expected: 0.16666666666666666\n"
     ]
    }
   ],
   "source": [
    "NUM_EXPERIMENTS = 1_000_000\n",
    "# roll two dice\n",
    "dice_rolls = np.random.randint(1, 7, size=(NUM_EXPERIMENTS, 2))\n",
    "\n",
    "# sum the dice rolls\n",
    "dice_rolls_sum = np.sum(dice_rolls, axis=1)\n",
    "\n",
    "# count the number of times we rolled a sum of 7\n",
    "num_rolls_sum_7 = np.sum(dice_rolls_sum == 7)\n",
    "\n",
    "# calculate the probability\n",
    "probability_sum_7 = num_rolls_sum_7 / NUM_EXPERIMENTS\n",
    "\n",
    "print(f'Probability of rolling a sum of 7: {probability_sum_7} - expected: {6/36}')"
   ],
   "metadata": {
    "id": "4aef009d026516b2",
    "outputId": "ad8bce9b-49dd-4b3f-ac75-6c3bdbb22674",
    "colab": {
     "base_uri": "https://localhost:8080/"
    },
    "ExecuteTime": {
     "end_time": "2023-12-12T13:18:01.529298504Z",
     "start_time": "2023-12-12T13:18:01.437218264Z"
    }
   },
   "id": "4aef009d026516b2"
  },
  {
   "cell_type": "markdown",
   "source": [
    "# Task 2 - Complementary Events\n",
    "Suppose $P(A) = 0.6$, $P(B) = 0.3$, and $P(A \\cap B) = 0.2$. Compute the following probabilities:\n",
    "\n",
    "- a) $P(\\overline{A})$\n",
    "- b) $P(A \\cup B)$\n",
    "- c) $P(\\overline{A \\cup B})$\n",
    "- d) Are $A$ and $B$ mutually exclusive?\n"
   ],
   "metadata": {
    "collapsed": false,
    "id": "4f7753a1c0a49737"
   },
   "id": "4f7753a1c0a49737"
  },
  {
   "cell_type": "markdown",
   "source": [
    "a) $P(\\overline{A}) = 1 - P(A) = 1 - 0.6 = 0.4$"
   ],
   "metadata": {
    "collapsed": false,
    "id": "bf30c02e7c3d3928"
   },
   "id": "bf30c02e7c3d3928"
  },
  {
   "cell_type": "markdown",
   "source": [
    "b) $P(A \\cup B) = P(A) + P(B) - P(A \\cap B) = 0.6 + 0.3 - 0.2 = 0.7$\n",
    "\n",
    "This one is maybe a bit tricky:\n",
    "- first we add the probabilities of $A$ and $B$\n",
    "- but if we do that, we count the intersection $A \\cap B$ twice. We know we have an intersection, so we have to subtract the probability of the intersection once.\n",
    "- we end up with $P(A \\cup B) = 0.6 + 0.3 - 0.2 = 0.7$"
   ],
   "metadata": {
    "collapsed": false,
    "id": "3be363154a6082df"
   },
   "id": "3be363154a6082df"
  },
  {
   "cell_type": "markdown",
   "source": [
    "c) $P(\\overline{A \\cup B}) = 1 - P(A \\cup B) = 1 - 0.7 = 0.3$"
   ],
   "metadata": {
    "collapsed": false,
    "id": "87d7d059ee72dcfd"
   },
   "id": "87d7d059ee72dcfd"
  },
  {
   "cell_type": "markdown",
   "source": [
    "d) No, $A$ and $B$ are not mutually exclusive. If they were, $P(A \\cap B)$ would be 0."
   ],
   "metadata": {
    "collapsed": false,
    "id": "e6739998633b9d9e"
   },
   "id": "e6739998633b9d9e"
  },
  {
   "cell_type": "code",
   "execution_count": 41,
   "outputs": [],
   "source": [
    "example_df = pd.DataFrame({\n",
    "    'A': [1, 1, 1, 1, 1, 1, 0, 0, 0, 0],\n",
    "    'B': [1, 1, 0, 0, 0, 0, 1, 0, 0, 0]\n",
    "})"
   ],
   "metadata": {
    "id": "dd02e3347c20934b",
    "ExecuteTime": {
     "end_time": "2023-12-12T13:18:01.530206262Z",
     "start_time": "2023-12-12T13:18:01.480864759Z"
    }
   },
   "id": "dd02e3347c20934b"
  },
  {
   "cell_type": "code",
   "execution_count": 42,
   "outputs": [
    {
     "data": {
      "text/plain": "   A  B\n0  1  1\n1  1  1\n2  1  0\n3  1  0\n4  1  0\n5  1  0\n6  0  1\n7  0  0\n8  0  0\n9  0  0",
      "text/html": "<div>\n<style scoped>\n    .dataframe tbody tr th:only-of-type {\n        vertical-align: middle;\n    }\n\n    .dataframe tbody tr th {\n        vertical-align: top;\n    }\n\n    .dataframe thead th {\n        text-align: right;\n    }\n</style>\n<table border=\"1\" class=\"dataframe\">\n  <thead>\n    <tr style=\"text-align: right;\">\n      <th></th>\n      <th>A</th>\n      <th>B</th>\n    </tr>\n  </thead>\n  <tbody>\n    <tr>\n      <th>0</th>\n      <td>1</td>\n      <td>1</td>\n    </tr>\n    <tr>\n      <th>1</th>\n      <td>1</td>\n      <td>1</td>\n    </tr>\n    <tr>\n      <th>2</th>\n      <td>1</td>\n      <td>0</td>\n    </tr>\n    <tr>\n      <th>3</th>\n      <td>1</td>\n      <td>0</td>\n    </tr>\n    <tr>\n      <th>4</th>\n      <td>1</td>\n      <td>0</td>\n    </tr>\n    <tr>\n      <th>5</th>\n      <td>1</td>\n      <td>0</td>\n    </tr>\n    <tr>\n      <th>6</th>\n      <td>0</td>\n      <td>1</td>\n    </tr>\n    <tr>\n      <th>7</th>\n      <td>0</td>\n      <td>0</td>\n    </tr>\n    <tr>\n      <th>8</th>\n      <td>0</td>\n      <td>0</td>\n    </tr>\n    <tr>\n      <th>9</th>\n      <td>0</td>\n      <td>0</td>\n    </tr>\n  </tbody>\n</table>\n</div>"
     },
     "execution_count": 42,
     "metadata": {},
     "output_type": "execute_result"
    }
   ],
   "source": [
    "example_df"
   ],
   "metadata": {
    "id": "f5f79ae15b147f58",
    "outputId": "7b0599e2-8cb6-4617-d3bd-2741b3a82664",
    "colab": {
     "base_uri": "https://localhost:8080/",
     "height": 363
    },
    "ExecuteTime": {
     "end_time": "2023-12-12T13:18:01.531929667Z",
     "start_time": "2023-12-12T13:18:01.481063431Z"
    }
   },
   "id": "f5f79ae15b147f58"
  },
  {
   "cell_type": "code",
   "execution_count": 43,
   "outputs": [
    {
     "data": {
      "text/plain": "0.6"
     },
     "execution_count": 43,
     "metadata": {},
     "output_type": "execute_result"
    }
   ],
   "source": [
    "# P(A)\n",
    "example_df['A'].mean()"
   ],
   "metadata": {
    "collapsed": false,
    "ExecuteTime": {
     "end_time": "2023-12-12T13:18:01.533002649Z",
     "start_time": "2023-12-12T13:18:01.481204044Z"
    }
   },
   "id": "d7e995dcf5ee6d44"
  },
  {
   "cell_type": "code",
   "execution_count": 44,
   "outputs": [
    {
     "data": {
      "text/plain": "0.3"
     },
     "execution_count": 44,
     "metadata": {},
     "output_type": "execute_result"
    }
   ],
   "source": [
    "# P(B)\n",
    "example_df['B'].mean()"
   ],
   "metadata": {
    "collapsed": false,
    "ExecuteTime": {
     "end_time": "2023-12-12T13:18:01.543841710Z",
     "start_time": "2023-12-12T13:18:01.481319383Z"
    }
   },
   "id": "ed0b249cd1813290"
  },
  {
   "cell_type": "code",
   "execution_count": 45,
   "outputs": [
    {
     "name": "stdout",
     "output_type": "stream",
     "text": [
      "0.29999999999999998890\n"
     ]
    }
   ],
   "source": [
    "print(\"{:.20f}\".format(example_df['B'].mean()))"
   ],
   "metadata": {
    "collapsed": false,
    "ExecuteTime": {
     "end_time": "2023-12-12T13:18:01.544837859Z",
     "start_time": "2023-12-12T13:18:01.481558776Z"
    }
   },
   "id": "7e7ca1c0d66c358b"
  },
  {
   "cell_type": "code",
   "execution_count": 46,
   "outputs": [
    {
     "data": {
      "text/plain": "0.2"
     },
     "execution_count": 46,
     "metadata": {},
     "output_type": "execute_result"
    }
   ],
   "source": [
    "# P(A \\cap B)\n",
    "(example_df['A'] * example_df['B']).mean()"
   ],
   "metadata": {
    "id": "fc25daf41def33f5",
    "outputId": "8766ac09-d7cb-4344-efb4-ff9d25f771d0",
    "colab": {
     "base_uri": "https://localhost:8080/"
    },
    "ExecuteTime": {
     "end_time": "2023-12-12T13:18:01.545594826Z",
     "start_time": "2023-12-12T13:18:01.481676169Z"
    }
   },
   "id": "fc25daf41def33f5"
  },
  {
   "cell_type": "code",
   "execution_count": 47,
   "outputs": [
    {
     "data": {
      "text/plain": "0.4"
     },
     "execution_count": 47,
     "metadata": {},
     "output_type": "execute_result"
    }
   ],
   "source": [
    "# a) P(\\overline{A})\n",
    "p_a_complement = 1 - example_df['A'].mean()\n",
    "p_a_complement"
   ],
   "metadata": {
    "id": "82cc39410e7418f8",
    "outputId": "3433819d-098a-4c30-eba9-54873c635e41",
    "colab": {
     "base_uri": "https://localhost:8080/"
    },
    "ExecuteTime": {
     "end_time": "2023-12-12T13:18:01.546344680Z",
     "start_time": "2023-12-12T13:18:01.481790456Z"
    }
   },
   "id": "82cc39410e7418f8"
  },
  {
   "cell_type": "code",
   "execution_count": 48,
   "outputs": [
    {
     "data": {
      "text/plain": "0.7"
     },
     "execution_count": 48,
     "metadata": {},
     "output_type": "execute_result"
    }
   ],
   "source": [
    "# b) P(A U B)\n",
    "p_a_union_b = example_df['A'].mean() + example_df['B'].mean() - (example_df['A'] * example_df['B']).mean()\n",
    "p_a_union_b"
   ],
   "metadata": {
    "id": "5bf4d88c49667d59",
    "outputId": "3c544589-4cba-4f9c-b411-8ab4be6d851f",
    "colab": {
     "base_uri": "https://localhost:8080/"
    },
    "ExecuteTime": {
     "end_time": "2023-12-12T13:18:01.547053904Z",
     "start_time": "2023-12-12T13:18:01.481893033Z"
    }
   },
   "id": "5bf4d88c49667d59"
  },
  {
   "cell_type": "code",
   "execution_count": 49,
   "outputs": [
    {
     "data": {
      "text/plain": "0.30000000000000004"
     },
     "execution_count": 49,
     "metadata": {},
     "output_type": "execute_result"
    }
   ],
   "source": [
    "# c) P(\\overline{A U B})\n",
    "p_a_union_b_complement = 1 - p_a_union_b\n",
    "p_a_union_b_complement"
   ],
   "metadata": {
    "id": "8cdd570201687589",
    "outputId": "1da2d5f7-8e2d-4632-cdc3-7df582cb6601",
    "colab": {
     "base_uri": "https://localhost:8080/"
    },
    "ExecuteTime": {
     "end_time": "2023-12-12T13:18:01.705395096Z",
     "start_time": "2023-12-12T13:18:01.481998896Z"
    }
   },
   "id": "8cdd570201687589"
  },
  {
   "cell_type": "code",
   "execution_count": 50,
   "outputs": [
    {
     "name": "stdout",
     "output_type": "stream",
     "text": [
      "0.30000000000000004441\n"
     ]
    }
   ],
   "source": [
    "print(\"{:.20f}\".format(1 - p_a_union_b))"
   ],
   "metadata": {
    "collapsed": false,
    "ExecuteTime": {
     "end_time": "2023-12-12T13:18:01.707027874Z",
     "start_time": "2023-12-12T13:18:01.524980872Z"
    }
   },
   "id": "27c30b761757cfde"
  },
  {
   "cell_type": "code",
   "execution_count": 51,
   "outputs": [
    {
     "data": {
      "text/plain": "False"
     },
     "execution_count": 51,
     "metadata": {},
     "output_type": "execute_result"
    }
   ],
   "source": [
    "# d) Are A and B mutually exclusive?\n",
    "(example_df['A'] * example_df['B']).mean() == 0"
   ],
   "metadata": {
    "id": "79ebdf5bc688dc76",
    "outputId": "0e3ed53b-1d42-40ff-c20c-122b591bc72a",
    "colab": {
     "base_uri": "https://localhost:8080/"
    },
    "ExecuteTime": {
     "end_time": "2023-12-12T13:18:01.707893989Z",
     "start_time": "2023-12-12T13:18:01.525325617Z"
    }
   },
   "id": "79ebdf5bc688dc76"
  },
  {
   "cell_type": "markdown",
   "source": [
    "# Task 3 - Position Probabilities"
   ],
   "metadata": {
    "collapsed": false,
    "id": "cc07dab47a81a176"
   },
   "id": "cc07dab47a81a176"
  },
  {
   "cell_type": "code",
   "execution_count": 52,
   "outputs": [
    {
     "data": {
      "text/plain": "                playerShort               player                  club  \\\n0             lucas-wilchez        Lucas Wilchez         Real Zaragoza   \n1                john-utaka           John Utaka       Montpellier HSC   \n2               abdon-prats          Abdón Prats          RCD Mallorca   \n3                pablo-mari           Pablo Marí          RCD Mallorca   \n4                ruben-pena           Rubén Peña       Real Valladolid   \n...                     ...                  ...                   ...   \n146023        tomas-rosicky        Tomáš Rosický            Arsenal FC   \n146024         winston-reid         Winston Reid       West Ham United   \n146025      xherdan-shaqiri      Xherdan Shaqiri        Bayern München   \n146026  yassine-el-ghanassi  Yassine El Ghanassi  West Bromwich Albion   \n146027         zdenk-pospch       Zdeněk Pospěch       1. FSV Mainz 05   \n\n       leagueCountry    birthday  height  weight     position  games  \\\n0              Spain  31.08.1983   177.0    72.0  Midfielders      1   \n1             France  08.01.1982   179.0    82.0     Forwards      1   \n2              Spain  17.12.1992   181.0    79.0          NaN      1   \n3              Spain  31.08.1993   191.0    87.0    Defenders      1   \n4              Spain  18.07.1991   172.0    70.0  Midfielders      1   \n...              ...         ...     ...     ...          ...    ...   \n146023       England  04.10.1980   178.0    67.0  Midfielders      1   \n146024       England  03.07.1988   190.0    87.0    Defenders      1   \n146025       Germany  10.10.1991   169.0    72.0  Midfielders      1   \n146026       England  12.07.1990   173.0     NaN     Forwards      1   \n146027       Germany  14.12.1978   174.0    72.0    Defenders      1   \n\n        victories  ...  rater2  refNum  refCountry  Alpha_3   meanIAT    nIAT  \\\n0               0  ...    0.50       1           1      GRC  0.326391   712.0   \n1               0  ...    0.75       2           2      ZMB  0.203375    40.0   \n2               0  ...     NaN       3           3      ESP  0.369894  1785.0   \n3               1  ...     NaN       3           3      ESP  0.369894  1785.0   \n4               1  ...     NaN       3           3      ESP  0.369894  1785.0   \n...           ...  ...     ...     ...         ...      ...       ...     ...   \n146023          1  ...    0.00    3147          21      HUN  0.376127   574.0   \n146024          0  ...    0.50    3147          21      HUN  0.376127   574.0   \n146025          1  ...    0.25    3147          21      HUN  0.376127   574.0   \n146026          0  ...    0.50    3147          21      HUN  0.376127   574.0   \n146027          0  ...    0.25    3147          21      HUN  0.376127   574.0   \n\n           seIAT   meanExp    nExp     seExp  \n0       0.000564  0.396000   750.0  0.002696  \n1       0.010875 -0.204082    49.0  0.061504  \n2       0.000229  0.588297  1897.0  0.001002  \n3       0.000229  0.588297  1897.0  0.001002  \n4       0.000229  0.588297  1897.0  0.001002  \n...          ...       ...     ...       ...  \n146023  0.000714  0.498350   606.0  0.002968  \n146024  0.000714  0.498350   606.0  0.002968  \n146025  0.000714  0.498350   606.0  0.002968  \n146026  0.000714  0.498350   606.0  0.002968  \n146027  0.000714  0.498350   606.0  0.002968  \n\n[146028 rows x 28 columns]",
      "text/html": "<div>\n<style scoped>\n    .dataframe tbody tr th:only-of-type {\n        vertical-align: middle;\n    }\n\n    .dataframe tbody tr th {\n        vertical-align: top;\n    }\n\n    .dataframe thead th {\n        text-align: right;\n    }\n</style>\n<table border=\"1\" class=\"dataframe\">\n  <thead>\n    <tr style=\"text-align: right;\">\n      <th></th>\n      <th>playerShort</th>\n      <th>player</th>\n      <th>club</th>\n      <th>leagueCountry</th>\n      <th>birthday</th>\n      <th>height</th>\n      <th>weight</th>\n      <th>position</th>\n      <th>games</th>\n      <th>victories</th>\n      <th>...</th>\n      <th>rater2</th>\n      <th>refNum</th>\n      <th>refCountry</th>\n      <th>Alpha_3</th>\n      <th>meanIAT</th>\n      <th>nIAT</th>\n      <th>seIAT</th>\n      <th>meanExp</th>\n      <th>nExp</th>\n      <th>seExp</th>\n    </tr>\n  </thead>\n  <tbody>\n    <tr>\n      <th>0</th>\n      <td>lucas-wilchez</td>\n      <td>Lucas Wilchez</td>\n      <td>Real Zaragoza</td>\n      <td>Spain</td>\n      <td>31.08.1983</td>\n      <td>177.0</td>\n      <td>72.0</td>\n      <td>Midfielders</td>\n      <td>1</td>\n      <td>0</td>\n      <td>...</td>\n      <td>0.50</td>\n      <td>1</td>\n      <td>1</td>\n      <td>GRC</td>\n      <td>0.326391</td>\n      <td>712.0</td>\n      <td>0.000564</td>\n      <td>0.396000</td>\n      <td>750.0</td>\n      <td>0.002696</td>\n    </tr>\n    <tr>\n      <th>1</th>\n      <td>john-utaka</td>\n      <td>John Utaka</td>\n      <td>Montpellier HSC</td>\n      <td>France</td>\n      <td>08.01.1982</td>\n      <td>179.0</td>\n      <td>82.0</td>\n      <td>Forwards</td>\n      <td>1</td>\n      <td>0</td>\n      <td>...</td>\n      <td>0.75</td>\n      <td>2</td>\n      <td>2</td>\n      <td>ZMB</td>\n      <td>0.203375</td>\n      <td>40.0</td>\n      <td>0.010875</td>\n      <td>-0.204082</td>\n      <td>49.0</td>\n      <td>0.061504</td>\n    </tr>\n    <tr>\n      <th>2</th>\n      <td>abdon-prats</td>\n      <td>Abdón Prats</td>\n      <td>RCD Mallorca</td>\n      <td>Spain</td>\n      <td>17.12.1992</td>\n      <td>181.0</td>\n      <td>79.0</td>\n      <td>NaN</td>\n      <td>1</td>\n      <td>0</td>\n      <td>...</td>\n      <td>NaN</td>\n      <td>3</td>\n      <td>3</td>\n      <td>ESP</td>\n      <td>0.369894</td>\n      <td>1785.0</td>\n      <td>0.000229</td>\n      <td>0.588297</td>\n      <td>1897.0</td>\n      <td>0.001002</td>\n    </tr>\n    <tr>\n      <th>3</th>\n      <td>pablo-mari</td>\n      <td>Pablo Marí</td>\n      <td>RCD Mallorca</td>\n      <td>Spain</td>\n      <td>31.08.1993</td>\n      <td>191.0</td>\n      <td>87.0</td>\n      <td>Defenders</td>\n      <td>1</td>\n      <td>1</td>\n      <td>...</td>\n      <td>NaN</td>\n      <td>3</td>\n      <td>3</td>\n      <td>ESP</td>\n      <td>0.369894</td>\n      <td>1785.0</td>\n      <td>0.000229</td>\n      <td>0.588297</td>\n      <td>1897.0</td>\n      <td>0.001002</td>\n    </tr>\n    <tr>\n      <th>4</th>\n      <td>ruben-pena</td>\n      <td>Rubén Peña</td>\n      <td>Real Valladolid</td>\n      <td>Spain</td>\n      <td>18.07.1991</td>\n      <td>172.0</td>\n      <td>70.0</td>\n      <td>Midfielders</td>\n      <td>1</td>\n      <td>1</td>\n      <td>...</td>\n      <td>NaN</td>\n      <td>3</td>\n      <td>3</td>\n      <td>ESP</td>\n      <td>0.369894</td>\n      <td>1785.0</td>\n      <td>0.000229</td>\n      <td>0.588297</td>\n      <td>1897.0</td>\n      <td>0.001002</td>\n    </tr>\n    <tr>\n      <th>...</th>\n      <td>...</td>\n      <td>...</td>\n      <td>...</td>\n      <td>...</td>\n      <td>...</td>\n      <td>...</td>\n      <td>...</td>\n      <td>...</td>\n      <td>...</td>\n      <td>...</td>\n      <td>...</td>\n      <td>...</td>\n      <td>...</td>\n      <td>...</td>\n      <td>...</td>\n      <td>...</td>\n      <td>...</td>\n      <td>...</td>\n      <td>...</td>\n      <td>...</td>\n      <td>...</td>\n    </tr>\n    <tr>\n      <th>146023</th>\n      <td>tomas-rosicky</td>\n      <td>Tomáš Rosický</td>\n      <td>Arsenal FC</td>\n      <td>England</td>\n      <td>04.10.1980</td>\n      <td>178.0</td>\n      <td>67.0</td>\n      <td>Midfielders</td>\n      <td>1</td>\n      <td>1</td>\n      <td>...</td>\n      <td>0.00</td>\n      <td>3147</td>\n      <td>21</td>\n      <td>HUN</td>\n      <td>0.376127</td>\n      <td>574.0</td>\n      <td>0.000714</td>\n      <td>0.498350</td>\n      <td>606.0</td>\n      <td>0.002968</td>\n    </tr>\n    <tr>\n      <th>146024</th>\n      <td>winston-reid</td>\n      <td>Winston Reid</td>\n      <td>West Ham United</td>\n      <td>England</td>\n      <td>03.07.1988</td>\n      <td>190.0</td>\n      <td>87.0</td>\n      <td>Defenders</td>\n      <td>1</td>\n      <td>0</td>\n      <td>...</td>\n      <td>0.50</td>\n      <td>3147</td>\n      <td>21</td>\n      <td>HUN</td>\n      <td>0.376127</td>\n      <td>574.0</td>\n      <td>0.000714</td>\n      <td>0.498350</td>\n      <td>606.0</td>\n      <td>0.002968</td>\n    </tr>\n    <tr>\n      <th>146025</th>\n      <td>xherdan-shaqiri</td>\n      <td>Xherdan Shaqiri</td>\n      <td>Bayern München</td>\n      <td>Germany</td>\n      <td>10.10.1991</td>\n      <td>169.0</td>\n      <td>72.0</td>\n      <td>Midfielders</td>\n      <td>1</td>\n      <td>1</td>\n      <td>...</td>\n      <td>0.25</td>\n      <td>3147</td>\n      <td>21</td>\n      <td>HUN</td>\n      <td>0.376127</td>\n      <td>574.0</td>\n      <td>0.000714</td>\n      <td>0.498350</td>\n      <td>606.0</td>\n      <td>0.002968</td>\n    </tr>\n    <tr>\n      <th>146026</th>\n      <td>yassine-el-ghanassi</td>\n      <td>Yassine El Ghanassi</td>\n      <td>West Bromwich Albion</td>\n      <td>England</td>\n      <td>12.07.1990</td>\n      <td>173.0</td>\n      <td>NaN</td>\n      <td>Forwards</td>\n      <td>1</td>\n      <td>0</td>\n      <td>...</td>\n      <td>0.50</td>\n      <td>3147</td>\n      <td>21</td>\n      <td>HUN</td>\n      <td>0.376127</td>\n      <td>574.0</td>\n      <td>0.000714</td>\n      <td>0.498350</td>\n      <td>606.0</td>\n      <td>0.002968</td>\n    </tr>\n    <tr>\n      <th>146027</th>\n      <td>zdenk-pospch</td>\n      <td>Zdeněk Pospěch</td>\n      <td>1. FSV Mainz 05</td>\n      <td>Germany</td>\n      <td>14.12.1978</td>\n      <td>174.0</td>\n      <td>72.0</td>\n      <td>Defenders</td>\n      <td>1</td>\n      <td>0</td>\n      <td>...</td>\n      <td>0.25</td>\n      <td>3147</td>\n      <td>21</td>\n      <td>HUN</td>\n      <td>0.376127</td>\n      <td>574.0</td>\n      <td>0.000714</td>\n      <td>0.498350</td>\n      <td>606.0</td>\n      <td>0.002968</td>\n    </tr>\n  </tbody>\n</table>\n<p>146028 rows × 28 columns</p>\n</div>"
     },
     "execution_count": 52,
     "metadata": {},
     "output_type": "execute_result"
    }
   ],
   "source": [
    "df"
   ],
   "metadata": {
    "id": "9a4b74434f9104ff",
    "outputId": "24a30c95-a0ca-4c62-e46e-e65c4e8bb448",
    "colab": {
     "base_uri": "https://localhost:8080/",
     "height": 635
    },
    "ExecuteTime": {
     "end_time": "2023-12-12T13:18:01.713100566Z",
     "start_time": "2023-12-12T13:18:01.525535729Z"
    }
   },
   "id": "9a4b74434f9104ff"
  },
  {
   "cell_type": "code",
   "execution_count": 53,
   "outputs": [
    {
     "data": {
      "text/plain": "position       Defenders  Forwards  Goalkeepers  Midfielders\nleagueCountry                                               \nEngland         0.091419  0.064396     0.029162     0.084378\nFrance          0.048832  0.032800     0.010012     0.050149\nGermany         0.108274  0.073525     0.033891     0.117126\nSpain           0.079727  0.056437     0.022242     0.097629",
      "text/html": "<div>\n<style scoped>\n    .dataframe tbody tr th:only-of-type {\n        vertical-align: middle;\n    }\n\n    .dataframe tbody tr th {\n        vertical-align: top;\n    }\n\n    .dataframe thead th {\n        text-align: right;\n    }\n</style>\n<table border=\"1\" class=\"dataframe\">\n  <thead>\n    <tr style=\"text-align: right;\">\n      <th>position</th>\n      <th>Defenders</th>\n      <th>Forwards</th>\n      <th>Goalkeepers</th>\n      <th>Midfielders</th>\n    </tr>\n    <tr>\n      <th>leagueCountry</th>\n      <th></th>\n      <th></th>\n      <th></th>\n      <th></th>\n    </tr>\n  </thead>\n  <tbody>\n    <tr>\n      <th>England</th>\n      <td>0.091419</td>\n      <td>0.064396</td>\n      <td>0.029162</td>\n      <td>0.084378</td>\n    </tr>\n    <tr>\n      <th>France</th>\n      <td>0.048832</td>\n      <td>0.032800</td>\n      <td>0.010012</td>\n      <td>0.050149</td>\n    </tr>\n    <tr>\n      <th>Germany</th>\n      <td>0.108274</td>\n      <td>0.073525</td>\n      <td>0.033891</td>\n      <td>0.117126</td>\n    </tr>\n    <tr>\n      <th>Spain</th>\n      <td>0.079727</td>\n      <td>0.056437</td>\n      <td>0.022242</td>\n      <td>0.097629</td>\n    </tr>\n  </tbody>\n</table>\n</div>"
     },
     "execution_count": 53,
     "metadata": {},
     "output_type": "execute_result"
    }
   ],
   "source": [
    "df = df.dropna()\n",
    "total_players = len(df)\n",
    "\n",
    "pivot_counts = pd.pivot_table(df, index='leagueCountry', columns='position', aggfunc='size')\n",
    "\n",
    "pivot_normalized = pivot_counts / total_players\n",
    "pivot_normalized"
   ],
   "metadata": {
    "id": "72a5bf8c55d88ccf",
    "outputId": "16febd7e-888b-4f41-e822-16dd5bbeaf34",
    "colab": {
     "base_uri": "https://localhost:8080/",
     "height": 206
    },
    "ExecuteTime": {
     "end_time": "2023-12-12T13:18:01.744846037Z",
     "start_time": "2023-12-12T13:18:01.531951224Z"
    }
   },
   "id": "72a5bf8c55d88ccf"
  },
  {
   "cell_type": "markdown",
   "source": [
    "Suppose we select a random player. Consider the following events:\n",
    "- $A$: the player a Defender\n",
    "- $B$: the player is a Forward\n",
    "- $C$: the player is a Goalkeeper\n",
    "- $D$: the player is a Midfielder\n",
    "- $E$: the player is from England\n",
    "\n",
    "Answer the following questions:\n",
    "a) What is the event that the player is a Midfielder from England? What is the probability of this event?"
   ],
   "metadata": {
    "collapsed": false,
    "id": "d1e3bcc965a2c9fe"
   },
   "id": "d1e3bcc965a2c9fe"
  },
  {
   "cell_type": "markdown",
   "source": [
    "a): $D \\cap E$\n",
    "$P(D \\cap E) \\approx 0.08$"
   ],
   "metadata": {
    "collapsed": false,
    "id": "96ab22b7b2a7ea9e"
   },
   "id": "96ab22b7b2a7ea9e"
  },
  {
   "cell_type": "markdown",
   "source": [
    "b) What is the probability that the player is a Defender OR from England?"
   ],
   "metadata": {
    "collapsed": false,
    "id": "84c7cdea22d4cc79"
   },
   "id": "84c7cdea22d4cc79"
  },
  {
   "cell_type": "markdown",
   "source": [
    "Is a Defender: $P(A) = 0.09 + 0.05 + 0.11 + 0.08 = 0.33$\n",
    "Is from England: $P(E) = 0.09 + 0.06 + 0.03 + 0.08 = 0.26$\n",
    "\n",
    "Defender or from England: $P(A \\cup E) = P(A) + P(E) - P(A \\cap E) = 0.33 + 0.26 - 0.09 = 0.50$"
   ],
   "metadata": {
    "collapsed": false,
    "id": "7dc1d222a60f5099"
   },
   "id": "7dc1d222a60f5099"
  },
  {
   "cell_type": "code",
   "execution_count": 54,
   "outputs": [
    {
     "data": {
      "text/plain": "0.5061884511116693"
     },
     "execution_count": 54,
     "metadata": {},
     "output_type": "execute_result"
    }
   ],
   "source": [
    "# check with pandas!\n",
    "# probability that a player is a Defender OR from England\n",
    "df[\n",
    "    (df['position'] == 'Defenders')\n",
    "    |\n",
    "    (df['leagueCountry'] == 'England')\n",
    "].shape[0] / total_players"
   ],
   "metadata": {
    "id": "4129a31c595ffdfa",
    "outputId": "8daac96b-fe02-4032-b41f-a504099eb3e2",
    "colab": {
     "base_uri": "https://localhost:8080/"
    },
    "ExecuteTime": {
     "end_time": "2023-12-12T13:18:01.759449585Z",
     "start_time": "2023-12-12T13:18:01.624828791Z"
    }
   },
   "id": "4129a31c595ffdfa"
  },
  {
   "cell_type": "markdown",
   "source": [
    "c) Which events are mutually exclusive?"
   ],
   "metadata": {
    "collapsed": false,
    "id": "a92712d292573dad"
   },
   "id": "a92712d292573dad"
  },
  {
   "cell_type": "markdown",
   "source": [
    "All the pairs of position events. For example, a player cannot be a Defender and a Forward at the same time."
   ],
   "metadata": {
    "collapsed": false,
    "id": "9ba793fae1e17e11"
   },
   "id": "9ba793fae1e17e11"
  },
  {
   "cell_type": "markdown",
   "source": [
    "# Task 4 - Conditional Probability\n",
    "\n",
    "Recall the following from the lecture:\n",
    "\n",
    "Definition 26 (old), 17 (new):\n",
    "$P(A|B) = \\frac{P(A \\cap B)}{P(B)}$ \\, if $P(B) > 0$\n",
    "\n",
    "\n",
    "Theorem 25:\n",
    "1. $P(A) + P(\\overline{A}) = 1$\n",
    "2. $P(\\emptyset) = 0$\n",
    "3. $A \\subseteq B \\implies P(A) \\leq P(B)$\n",
    "4. $P(A \\cup B) = P(A) + P(B) - P(A \\cap B)$\n",
    "5. Let $A_1, A_2, \\dots, A_p$ be mutually exclusive, then holds $P(\\bigcup_{i=1}^p A_i) = \\sum_{i=1}^p P(A_i)$"
   ],
   "metadata": {
    "collapsed": false,
    "id": "fe3ff4f01cd576be"
   },
   "id": "fe3ff4f01cd576be"
  },
  {
   "cell_type": "markdown",
   "source": [
    "Suppose $P(A) = 0.6$, $P(B) = 0.2$ and $P(A \\cup B) = 0.65$. Compute the following probabilities:\n",
    "- a) $P(A \\cap B)$\n",
    "- b) $P(A|B)$\n",
    "- c) $P(B|A)$"
   ],
   "metadata": {
    "collapsed": false,
    "id": "97cf2c1510baca3c"
   },
   "id": "97cf2c1510baca3c"
  },
  {
   "cell_type": "markdown",
   "source": [
    "a) $P(A \\cap B) = P(A) + P(B) - P(A \\cup B) = 0.6 + 0.2 - 0.65 = 0.15$\n",
    "\n",
    "This follows from 4. above. We can just rearrange the equation to get $P(A \\cap B) = P(A) + P(B) - P(A \\cup B)$.\n",
    "\n",
    "\n",
    "\n",
    "\n",
    "\n",
    "\n",
    "\n"
   ],
   "metadata": {
    "collapsed": false,
    "id": "af1120de3f37c05d"
   },
   "id": "af1120de3f37c05d"
  },
  {
   "cell_type": "markdown",
   "source": [
    "b) $P(A|B) = \\frac{P(A \\cap B)}{P(B)} = \\frac{0.15}{0.2} = 0.75$"
   ],
   "metadata": {
    "collapsed": false,
    "id": "cab9763706d8be39"
   },
   "id": "cab9763706d8be39"
  },
  {
   "cell_type": "markdown",
   "source": [
    "c) $P(B|A) = \\frac{P(A \\cap B)}{P(A)} = \\frac{0.15}{0.6} = 0.25$"
   ],
   "metadata": {
    "collapsed": false,
    "id": "1cc70a864f0fb7d8"
   },
   "id": "1cc70a864f0fb7d8"
  },
  {
   "cell_type": "markdown",
   "source": [
    "# Task 5 - Multiplication Rule\n",
    "\n",
    "Remember the multiplication rule from the lecture (Corollary 29):\n",
    "$P(A_1 \\cap A_2 \\cap \\dots \\cap A_p) = P(A_1) \\cdot P(A_2|A_1) \\cdot P(A_3|A_1 \\cap A_2) \\cdot \\dots \\cdot P(A_p|A_1 \\cap A_2 \\cap \\dots \\cap A_{p-1})$\n",
    "\n",
    "Use this rule to solve the following problems in Python:"
   ],
   "metadata": {
    "collapsed": false,
    "id": "629140a2dca705f3"
   },
   "id": "629140a2dca705f3"
  },
  {
   "cell_type": "markdown",
   "source": [
    "a) We randomly select two players from the dataset (without replacement). What is the probability that both players are from England? (without replacement)"
   ],
   "metadata": {
    "collapsed": false,
    "id": "f7eddca4c6c04925"
   },
   "id": "f7eddca4c6c04925"
  },
  {
   "cell_type": "markdown",
   "source": [
    "We can formulate this as:\n",
    "\n",
    "$P(\\text{both from England}) = P(\\text{first from England}) \\cdot P(\\text{second from England} | \\text{first from England})$"
   ],
   "metadata": {
    "collapsed": false,
    "id": "aef2c2ffc997f314"
   },
   "id": "aef2c2ffc997f314"
  },
  {
   "cell_type": "code",
   "execution_count": 55,
   "outputs": [
    {
     "data": {
      "text/plain": "0.2693556908632651"
     },
     "execution_count": 55,
     "metadata": {},
     "output_type": "execute_result"
    }
   ],
   "source": [
    "prob_first = len(df[df['leagueCountry'] == 'England']) / len(df)\n",
    "prob_first"
   ],
   "metadata": {
    "id": "756f3f64f5315944",
    "outputId": "4ba85892-4269-4c56-f488-f9c9b8d5dd32",
    "colab": {
     "base_uri": "https://localhost:8080/"
    },
    "ExecuteTime": {
     "end_time": "2023-12-12T13:18:01.760379580Z",
     "start_time": "2023-12-12T13:18:01.625162357Z"
    }
   },
   "id": "756f3f64f5315944"
  },
  {
   "cell_type": "code",
   "execution_count": 56,
   "outputs": [
    {
     "data": {
      "text/plain": "0.2693493625277162"
     },
     "execution_count": 56,
     "metadata": {},
     "output_type": "execute_result"
    }
   ],
   "source": [
    "# we have already selected one player, so we have one less player to choose from\n",
    "prob_second = (len(df[df['leagueCountry'] == 'England']) - 1) / (len(df) - 1)\n",
    "prob_second"
   ],
   "metadata": {
    "id": "153ea2727cfabf9",
    "outputId": "bc3d8e76-cdc8-4b64-9492-73d929c2caa9",
    "colab": {
     "base_uri": "https://localhost:8080/"
    },
    "ExecuteTime": {
     "end_time": "2023-12-12T13:18:01.761152294Z",
     "start_time": "2023-12-12T13:18:01.625354589Z"
    }
   },
   "id": "153ea2727cfabf9"
  },
  {
   "cell_type": "code",
   "execution_count": 57,
   "outputs": [
    {
     "data": {
      "text/plain": "0.07255078362723304"
     },
     "execution_count": 57,
     "metadata": {},
     "output_type": "execute_result"
    }
   ],
   "source": [
    "# by the chain rule:\n",
    "prob_both = prob_first * prob_second\n",
    "prob_both"
   ],
   "metadata": {
    "id": "b1e1669a5cc5ca5f",
    "outputId": "51153dbc-675e-46d9-db9b-01e74e9e4f1b",
    "colab": {
     "base_uri": "https://localhost:8080/"
    },
    "ExecuteTime": {
     "end_time": "2023-12-12T13:18:01.761855678Z",
     "start_time": "2023-12-12T13:18:01.625483251Z"
    }
   },
   "id": "b1e1669a5cc5ca5f"
  },
  {
   "cell_type": "markdown",
   "source": [
    "b) We randomly select four players from the dataset (without replacement). What is the probability that all four players are from England?"
   ],
   "metadata": {
    "collapsed": false,
    "id": "df0ef8e4a1ea5802"
   },
   "id": "df0ef8e4a1ea5802"
  },
  {
   "cell_type": "code",
   "execution_count": 58,
   "outputs": [
    {
     "data": {
      "text/plain": "0.005263121541306057"
     },
     "execution_count": 58,
     "metadata": {},
     "output_type": "execute_result"
    }
   ],
   "source": [
    "prob_first = len(df[df['leagueCountry'] == 'England']) / len(df)\n",
    "prob_second = (len(df[df['leagueCountry'] == 'England']) - 1) / (len(df) - 1)\n",
    "prob_third = (len(df[df['leagueCountry'] == 'England']) - 2) / (len(df) - 2)\n",
    "prob_fourth = (len(df[df['leagueCountry'] == 'England']) - 3) / (len(df) - 3)\n",
    "\n",
    "prob_all = prob_first * prob_second * prob_third * prob_fourth\n",
    "prob_all"
   ],
   "metadata": {
    "id": "8029e441d6290af0",
    "outputId": "a2a38458-3bbd-407d-d6b7-dbd7c8a63dce",
    "colab": {
     "base_uri": "https://localhost:8080/"
    },
    "ExecuteTime": {
     "end_time": "2023-12-12T13:18:01.854861417Z",
     "start_time": "2023-12-12T13:18:01.625601795Z"
    }
   },
   "id": "8029e441d6290af0"
  },
  {
   "cell_type": "code",
   "execution_count": 59,
   "outputs": [
    {
     "data": {
      "text/plain": "0.00544"
     },
     "execution_count": 59,
     "metadata": {},
     "output_type": "execute_result"
    }
   ],
   "source": [
    "# here we simulate the experiment\n",
    "NUM_EXPERIMENTS = 100_000\n",
    "\n",
    "counts = []\n",
    "for _ in range(NUM_EXPERIMENTS):\n",
    "    sampled_players = df.sample(4, replace=False)\n",
    "\n",
    "    # check if all players are from England\n",
    "    countries = sampled_players['leagueCountry'].unique()\n",
    "    if len(countries) == 1 and countries[0] == 'England':\n",
    "        counts.append(True)\n",
    "    else:\n",
    "        counts.append(False)\n",
    "\n",
    "experiment_prob = sum(counts) / len(counts)\n",
    "experiment_prob"
   ],
   "metadata": {
    "id": "a6bf6ec359d365f",
    "outputId": "0e7dbc49-2d7d-4cc0-e5c5-1bd404e84ab7",
    "colab": {
     "base_uri": "https://localhost:8080/"
    },
    "ExecuteTime": {
     "end_time": "2023-12-12T13:19:47.860987637Z",
     "start_time": "2023-12-12T13:18:01.669723118Z"
    }
   },
   "id": "a6bf6ec359d365f"
  }
 ],
 "metadata": {
  "kernelspec": {
   "display_name": "Python 3",
   "language": "python",
   "name": "python3"
  },
  "language_info": {
   "codemirror_mode": {
    "name": "ipython",
    "version": 2
   },
   "file_extension": ".py",
   "mimetype": "text/x-python",
   "name": "python",
   "nbconvert_exporter": "python",
   "pygments_lexer": "ipython2",
   "version": "2.7.6"
  },
  "colab": {
   "provenance": []
  }
 },
 "nbformat": 4,
 "nbformat_minor": 5
}
