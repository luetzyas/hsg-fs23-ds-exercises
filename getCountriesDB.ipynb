{
 "cells": [
  {
   "cell_type": "code",
   "execution_count": 1,
   "outputs": [],
   "source": [
    "import numpy as np\n",
    "import pandas as pd\n",
    "import matplotlib.pyplot as plt\n",
    "\n",
    "import requests  # used later to download additional data\n",
    "import sqlite3"
   ],
   "metadata": {
    "collapsed": false,
    "ExecuteTime": {
     "end_time": "2023-10-26T09:30:04.989250700Z",
     "start_time": "2023-10-26T09:30:04.236237100Z"
    }
   },
   "id": "aa7e98523051bac2"
  },
  {
   "cell_type": "code",
   "execution_count": 2,
   "outputs": [
    {
     "data": {
      "text/plain": "     index                      name  fifa  unMember\n0        0          French Polynesia  None         0\n1        1              Saint Martin  None         0\n2        2                 Venezuela   VEN         1\n3        3                   Réunion  None         0\n4        4               El Salvador   SLV         1\n..     ...                       ...   ...       ...\n245    245  Northern Mariana Islands  None         0\n246    246                  Botswana   BOT         1\n247    247                    Panama   PAN         1\n248    248                     Gabon   GAB         1\n249    249                   Ecuador   ECU         1\n\n[250 rows x 4 columns]",
      "text/html": "<div>\n<style scoped>\n    .dataframe tbody tr th:only-of-type {\n        vertical-align: middle;\n    }\n\n    .dataframe tbody tr th {\n        vertical-align: top;\n    }\n\n    .dataframe thead th {\n        text-align: right;\n    }\n</style>\n<table border=\"1\" class=\"dataframe\">\n  <thead>\n    <tr style=\"text-align: right;\">\n      <th></th>\n      <th>index</th>\n      <th>name</th>\n      <th>fifa</th>\n      <th>unMember</th>\n    </tr>\n  </thead>\n  <tbody>\n    <tr>\n      <th>0</th>\n      <td>0</td>\n      <td>French Polynesia</td>\n      <td>None</td>\n      <td>0</td>\n    </tr>\n    <tr>\n      <th>1</th>\n      <td>1</td>\n      <td>Saint Martin</td>\n      <td>None</td>\n      <td>0</td>\n    </tr>\n    <tr>\n      <th>2</th>\n      <td>2</td>\n      <td>Venezuela</td>\n      <td>VEN</td>\n      <td>1</td>\n    </tr>\n    <tr>\n      <th>3</th>\n      <td>3</td>\n      <td>Réunion</td>\n      <td>None</td>\n      <td>0</td>\n    </tr>\n    <tr>\n      <th>4</th>\n      <td>4</td>\n      <td>El Salvador</td>\n      <td>SLV</td>\n      <td>1</td>\n    </tr>\n    <tr>\n      <th>...</th>\n      <td>...</td>\n      <td>...</td>\n      <td>...</td>\n      <td>...</td>\n    </tr>\n    <tr>\n      <th>245</th>\n      <td>245</td>\n      <td>Northern Mariana Islands</td>\n      <td>None</td>\n      <td>0</td>\n    </tr>\n    <tr>\n      <th>246</th>\n      <td>246</td>\n      <td>Botswana</td>\n      <td>BOT</td>\n      <td>1</td>\n    </tr>\n    <tr>\n      <th>247</th>\n      <td>247</td>\n      <td>Panama</td>\n      <td>PAN</td>\n      <td>1</td>\n    </tr>\n    <tr>\n      <th>248</th>\n      <td>248</td>\n      <td>Gabon</td>\n      <td>GAB</td>\n      <td>1</td>\n    </tr>\n    <tr>\n      <th>249</th>\n      <td>249</td>\n      <td>Ecuador</td>\n      <td>ECU</td>\n      <td>1</td>\n    </tr>\n  </tbody>\n</table>\n<p>250 rows × 4 columns</p>\n</div>"
     },
     "execution_count": 2,
     "metadata": {},
     "output_type": "execute_result"
    }
   ],
   "source": [
    "# you need to write the query to make it work\n",
    "with sqlite3.connect(\"./crowdstorming.db\") as c:\n",
    "    result = pd.read_sql(\n",
    "        \"\"\"\n",
    "           SELECT *\n",
    "             FROM countries \n",
    "        \"\"\",\n",
    "        c\n",
    "    )\n",
    "result"
   ],
   "metadata": {
    "collapsed": false,
    "ExecuteTime": {
     "end_time": "2023-10-26T09:30:05.036586600Z",
     "start_time": "2023-10-26T09:30:04.989250700Z"
    }
   },
   "id": "initial_id"
  },
  {
   "cell_type": "code",
   "execution_count": 2,
   "outputs": [],
   "source": [],
   "metadata": {
    "collapsed": false,
    "ExecuteTime": {
     "end_time": "2023-10-26T09:30:05.067832400Z",
     "start_time": "2023-10-26T09:30:05.020916500Z"
    }
   },
   "id": "a64dae3b44d789d"
  }
 ],
 "metadata": {
  "kernelspec": {
   "display_name": "Python 3",
   "language": "python",
   "name": "python3"
  },
  "language_info": {
   "codemirror_mode": {
    "name": "ipython",
    "version": 2
   },
   "file_extension": ".py",
   "mimetype": "text/x-python",
   "name": "python",
   "nbconvert_exporter": "python",
   "pygments_lexer": "ipython2",
   "version": "2.7.6"
  }
 },
 "nbformat": 4,
 "nbformat_minor": 5
}
